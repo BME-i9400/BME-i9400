{
 "cells": [
  {
   "metadata": {},
   "cell_type": "markdown",
   "source": [
    "## BME i9400\n",
    "## Fall 2024\n",
    "### Homework 1: The Monty Hall Problem"
   ],
   "id": "fdb01900d19e6b5a"
  },
  {
   "metadata": {},
   "cell_type": "markdown",
   "source": [
    "** Due date: Monday, September 30, 2024, 11:59:59.999 PM EST **\n",
    "\n"
   ],
   "id": "50c3b8c2de5fca28"
  },
  {
   "metadata": {},
   "cell_type": "markdown",
   "source": [
    "You are a contestant on a game show hosted by Monty Hall. In the game show, there are 3 doors. Behind one of the doors is a Tesla Cybertruck. Behind the other two is a goat (i.e., opening each of the other two doors reveals a goat). The object of the game is to successfully choose the door holding the Tesla Cybertruck -- regardless of how much you may love goats or dislike Tesla Cybertrucks. \n",
    " \n",
    "Now imagine that you randomly choose one of the doors. Mr. Hall then shows you one of the other two doors, revealing a goat. He then offers you the chance to switch your initial guess.\n",
    " \n",
    "The objective of this assignment is to determine whether you should switch your guess.\n",
    " \n",
    "### Part 1. Analytical Solution \t\n",
    "By using the laws of probability and following the rules of the game, derive the following probabilities:\n",
    "\n",
    "a. \tP(win a Cybertruck | switch your guess)\n",
    "\n",
    "b. \tP(win a Cybertruck | do not switch your guess)\n",
    " \n",
    "Based on your answers, should you switch your guess?\n",
    "\n",
    "** ENTER YOUR ANSWER HERE IN MARKDOWN, IDEALLY USING LATEX NOTATION WHICH IS SUPPORTED BY JUPYTER NOTEBOOKS. **"
   ],
   "id": "530e3b122b4bf35c"
  },
  {
   "metadata": {},
   "cell_type": "markdown",
   "source": [
    "## Solution\n",
    "\n",
    "The key is the fact that Monty is constrained to not reveal the door with the Cybertruck. Therefore, by switching your guess to the door that he couldn't show you, you are increasing your chances of winning the Cybertruck. \n",
    "\n",
    "Note that: \n",
    "- if your initial guess is correct, then switching will result in a loss.\n",
    "- if your initial guess is incorrect, then switching will result in a win.\n",
    "\n",
    "From the laws of probability: \n",
    "\n",
    "$P(\\mathrm{initial~guess~correct}) = 1/3$\n",
    "\n",
    "$P(\\mathrm{initial~guess~incorrect}) = 2/3$\n",
    "\n",
    "Therefore:\n",
    "- $P(\\mathrm{win~Cybertruck} |\\mathrm{switch~your~guess}) = 2/3$\n",
    "- $P(\\mathrm{win~a~Cybertruck} |\\mathrm{do~not~switch~your~guess}) = 1/3$\n",
    "\n",
    "Therefore, you should switch your guess."
   ],
   "id": "8a1e2097dbbb5950"
  },
  {
   "metadata": {},
   "cell_type": "markdown",
   "source": [
    "## Part 2. Simulation\n",
    "\n",
    "Simulate the problem with Python code by repeating the game 10,000 times with the strategy to ALWAYS switch, and then again 10,000 times with the strategy to NEVER switch. In each case, count the number of Cybertrucks won in 10,000 runs. Based on the results of your simulation, should you switch your guess? How well do your empirical estimates compare to your values obtained analytically in 1?\n"
   ],
   "id": "bd394e7488288c5d"
  },
  {
   "metadata": {
    "ExecuteTime": {
     "end_time": "2024-11-05T21:26:22.347842Z",
     "start_time": "2024-11-05T21:26:22.308231Z"
    }
   },
   "cell_type": "code",
   "source": [
    "import numpy as np    \n",
    "\n",
    "def simulate(strategy=None, n_games=None):\n",
    "    \n",
    "    assert strategy in [0,1], 'strategy must be 0 or 1'\n",
    "    \n",
    "    if strategy is None:\n",
    "        strategy = 0\n",
    "        \n",
    "    if n_games is None:\n",
    "        n_games = 10000\n",
    "        \n",
    "    is_win = []\n",
    "    \n",
    "    for _ in range(n_games):    \n",
    "        \n",
    "        # simulate starting conditions \n",
    "        tesla = np.random.randint(1,4) # tesla location\n",
    "        guess = np.random.randint(1,4) # your guess\n",
    "        \n",
    "        # possible doors to open\n",
    "        if tesla == 1:\n",
    "            possible_doors = np.setdiff1d([2,3], guess)    \n",
    "        elif tesla == 2:\n",
    "            possible_doors = np.setdiff1d([1,3], guess)\n",
    "        else:\n",
    "            possible_doors = np.setdiff1d([1,2], guess)\n",
    "            \n",
    "        # Monty's action\n",
    "        monty = np.random.choice(possible_doors)\n",
    "                     \n",
    "        ## HERE IS WHERE YOU INSERT THE CODE THAT DETERMINES WHETHER YOU WIN THE CYBERTRUCK OR THE GOAT ##\n",
    "        if strategy == 0:\n",
    "            final_guess = guess\n",
    "        else:\n",
    "            final_guess = np.setdiff1d([1,2,3], [guess, monty])[0]\n",
    "        \n",
    "        is_win.append(final_guess == tesla)\n",
    "        \n",
    "    return np.mean(is_win)\n"
   ],
   "id": "d4598c4dc8ba8d1f",
   "outputs": [],
   "execution_count": 1
  },
  {
   "metadata": {
    "ExecuteTime": {
     "end_time": "2024-11-05T21:26:22.878449Z",
     "start_time": "2024-11-05T21:26:22.350287Z"
    }
   },
   "cell_type": "code",
   "source": [
    "win_rate_hold = simulate(0, 10000)\n",
    "win_rate_switch = simulate(1, 10000)\n",
    "\n",
    "print(f'Win rate if you hold: {win_rate_hold}')\n",
    "print(f'Win rate if you switch: {win_rate_switch}')\n",
    "\n",
    "print(f'Theoretical win rate if you hold: {1/3}')\n",
    "print(f'Theoretical win rate if you switch: {2/3}')"
   ],
   "id": "3081369193233e9d",
   "outputs": [
    {
     "name": "stdout",
     "output_type": "stream",
     "text": [
      "Win rate if you hold: 0.332\n",
      "Win rate if you switch: 0.6657\n",
      "Theoretical win rate if you hold: 0.3333333333333333\n",
      "Theoretical win rate if you switch: 0.6666666666666666\n"
     ]
    }
   ],
   "execution_count": 2
  }
 ],
 "metadata": {
  "kernelspec": {
   "display_name": "Python 3",
   "language": "python",
   "name": "python3"
  },
  "language_info": {
   "codemirror_mode": {
    "name": "ipython",
    "version": 2
   },
   "file_extension": ".py",
   "mimetype": "text/x-python",
   "name": "python",
   "nbconvert_exporter": "python",
   "pygments_lexer": "ipython2",
   "version": "2.7.6"
  }
 },
 "nbformat": 4,
 "nbformat_minor": 5
}
