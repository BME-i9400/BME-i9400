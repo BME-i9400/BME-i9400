{
 "cells": [
  {
   "metadata": {},
   "cell_type": "markdown",
   "source": [
    "## BME i9400\n",
    "## Fall 2024\n",
    "### Homework 2: Image Compression using Singular Value Decomposition (SVD)\n",
    "\n",
    "\n",
    "**Due date: Wednesday, October 16th 2024, 11:59:59.999 PM EST**\n",
    "\n",
    "\n",
    "**Instructions:**\n",
    "Please complete the assignment by filling in the required functions:\n",
    "- compress_image (Step 3)\n",
    "- compression_ratio (Step 6)\n",
    "- reconstruction_error (Step 6)\n",
    "\n",
    "You must also complete the cell in Step 4. \n"
   ],
   "id": "d051132e2832297"
  },
  {
   "metadata": {},
   "cell_type": "code",
   "source": [
    "# Import necessary libraries\n",
    "import numpy as np\n",
    "import matplotlib.pyplot as plt\n",
    "from PIL import Image\n",
    "from scipy.linalg import svd"
   ],
   "id": "bc8435aa13305bb",
   "outputs": [],
   "execution_count": null
  },
  {
   "metadata": {},
   "cell_type": "code",
   "source": [
    "## Step 1 (Done for you)\n",
    "# The code in this cell should not be modified!\n",
    "# Load, normalize, and display the grayscale image\n",
    "image_path = 'brain.jpg'  # Replace with your local image path if necessary\n",
    "image = Image.open(image_path)  \n",
    "image_gray = plt.imread(image_path)  # Normalize pixel values to the range [0, 1]\n",
    "image_gray = (image_gray / 255.0).astype(np.float32)\n",
    "\n",
    "# Display\n",
    "plt.figure(figsize=(6, 6))\n",
    "plt.imshow(image_gray, cmap='gray')\n",
    "plt.title('Original Grayscale Image')\n",
    "plt.axis('off')\n",
    "plt.show()"
   ],
   "id": "c8ca740acd519b8a",
   "outputs": [],
   "execution_count": null
  },
  {
   "metadata": {},
   "cell_type": "code",
   "source": [
    "# Step 2 (Done for you)\n",
    "# The code in this cell should not be modified!\n",
    "# Perform Singular Value Decomposition (SVD)\n",
    "# Compute SVD of the image\n",
    "U, Sigma, Vt = svd(image_gray, full_matrices=False)\n",
    "Sigma_matrix = np.diag(Sigma)\n",
    "\n",
    "# Print the shape of the decomposed matrices\n",
    "print(f\"Shape of U: {U.shape}\")\n",
    "print(f\"Shape of Sigma: {Sigma_matrix.shape}\")\n",
    "print(f\"Shape of Vt: {Vt.shape}\")"
   ],
   "id": "baab6b5331364184",
   "outputs": [],
   "execution_count": null
  },
  {
   "metadata": {},
   "cell_type": "code",
   "source": [
    "# Step 3: Image Compression\n",
    "\n",
    "## DO THIS STEP ##\n",
    "\n",
    "# Write a function to reconstruct the image using the top k singular values\n",
    "def compress_image(U, Sigma_matrix, Vt, k):\n",
    "    \"\"\"\n",
    "    Reconstruct the image using the top k singular values.\n",
    "    :param U: the left singular vectors\n",
    "    :param Sigma_matrix: the diagonal matrix of singular values\n",
    "    :param Vt: the right singular vectors\n",
    "    :param k: the number of singular values to keep in the compressed image\n",
    "    :return: The compressed image (a 2D numpy array)\n",
    "    \"\"\"\n",
    "    # Truncate U, Sigma, and Vt to the top k components\n",
    "    \n",
    "    # Reconstruct the image using the top k components"
   ],
   "id": "73705820e09709e5",
   "outputs": [],
   "execution_count": null
  },
  {
   "metadata": {},
   "cell_type": "code",
   "source": [
    "# Step 4: Compress the image with different number of singular values\n",
    "## DO THIS STEP ##\n",
    "\n",
    "# the values of k to compress the image with\n",
    "k_values = [5, 20, 50, 100]  # do not modify this list\n",
    "\n",
    "# create a list that stores the compressed images\n",
    "# the list should be named 'compressed_images'\n"
   ],
   "id": "903993e3aad51ebb",
   "outputs": [],
   "execution_count": null
  },
  {
   "metadata": {},
   "cell_type": "code",
   "source": [
    "# Step 5 (Done for you) \n",
    "# Display the compressed images\n",
    "# The code below should not be modified!\n",
    "plt.figure(figsize=(12, 12))\n",
    "for i, k in enumerate(k_values):\n",
    "    plt.subplot(2, 2, i + 1)\n",
    "    plt.imshow(compressed_images[i], cmap='gray')\n",
    "    plt.title(f\"Compressed Image with k={k}\")\n",
    "    plt.axis('off')\n",
    "plt.show()"
   ],
   "id": "e7696bef05f131b5",
   "outputs": [],
   "execution_count": null
  },
  {
   "metadata": {},
   "cell_type": "code",
   "source": [
    "# Step 6: Write functions to compute the compression ratio and reconstruction error\n",
    "\n",
    "## DO THIS STEP ##\n",
    "\n",
    "def compression_ratio(k, original_size):\n",
    "    \"\"\"\n",
    "    Calculate the compression ratio as the fraction of the number of stored values.\n",
    "    :param k: the number of singular values to keep in the compressed image\n",
    "    :param original_size: the number of pixels in the original image\n",
    "    :return: \n",
    "    \"\"\"\n",
    "    # Calculate the number of values stored in the compressed image\n",
    "    # Store the result in a variable named 'compressed_size'\n",
    "    # return the ratio of the original size to the compressed size (original_size / compressed_size)\n",
    "\n",
    "\n",
    "def reconstruction_error(original, compressed):\n",
    "    \"\"\"\n",
    "    Calculate the reconstruction error as the Frobenius norm of the difference between the original and compressed image.\n",
    "    Normalize the ratio by the Frobenius norm of the original image.\n",
    "    Multiply by 100 to get the percentage error.\n",
    "    :param original: the original image\n",
    "    :param compressed: the compressed image\n",
    "    :return: \n",
    "    \"\"\"\n",
    "    # Calculate the Frobenius norm of the difference between the original and compressed image\n",
    "    \n",
    "    # Calculate the percentage error: \n",
    "    # percent error = 100 * ||original - compressed|| / ||original||\n",
    "    \n",
    "    # return the percentage error"
   ],
   "id": "226b1feb9a016c07",
   "outputs": [],
   "execution_count": null
  },
  {
   "metadata": {},
   "cell_type": "code",
   "source": [
    "# Step 7 (Done for you): \n",
    "# Print the compression ratio and reconstruction error for different values of k\n",
    "# The code in this cell should not be modified!\n",
    "\n",
    "# Compute original size (number of pixels)\n",
    "original_size = image_gray.size\n",
    "\n",
    "ratios = []\n",
    "errors = []\n",
    "for i, k in enumerate(k_values):\n",
    "    ratio = compression_ratio(k, original_size)\n",
    "    error = reconstruction_error(image_gray, compressed_images[i])\n",
    "    ratios.append(ratio)\n",
    "    errors.append(error)\n",
    "    print(f\"For k={k}, Compression Ratio: {ratio:.2f}, Reconstruction Error: {error:.2f}%\")"
   ],
   "id": "ca34e0c560ac1bd1",
   "outputs": [],
   "execution_count": null
  },
  {
   "metadata": {},
   "cell_type": "code",
   "source": [
    "## Step 8 (Done for you): \n",
    "# Plot the compression ratio and reconstruction error\n",
    "plt.plot(k_values, ratios, marker='o')\n",
    "plt.ylabel('Compression Ratio')\n",
    "plt.twinx()\n",
    "plt.plot(k_values, errors, marker='x', color='r')\n",
    "plt.xlabel('k')\n",
    "plt.ylabel('Error')\n",
    "plt.title('Compression Ratio and Percent Error vs. k')\n",
    "plt.show()"
   ],
   "id": "dbf190dbf72a9a44",
   "outputs": [],
   "execution_count": null
  }
 ],
 "metadata": {
  "kernelspec": {
   "display_name": "Python 3",
   "language": "python",
   "name": "python3"
  },
  "language_info": {
   "codemirror_mode": {
    "name": "ipython",
    "version": 2
   },
   "file_extension": ".py",
   "mimetype": "text/x-python",
   "name": "python",
   "nbconvert_exporter": "python",
   "pygments_lexer": "ipython2",
   "version": "2.7.6"
  }
 },
 "nbformat": 4,
 "nbformat_minor": 5
}
