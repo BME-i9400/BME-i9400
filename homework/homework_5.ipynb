{
 "cells": [
  {
   "cell_type": "markdown",
   "source": [
    "## BME i9400\n",
    "## Fall 2024\n",
    "### Homework 5: Dropout regularization in MLPs and Convolutional Neural Networks\n",
    "\n",
    "**Due date: Wednesday, December 11th 2024, 11:59 PM EST**"
   ],
   "metadata": {
    "collapsed": false
   }
  },
  {
   "cell_type": "markdown",
   "source": [
    "## Instructions\n",
    "\n",
    "In this homework you will familiarize yourself with a type of regularization that is commonly used in deep learning models: *dropout*.\n",
    "\n",
    "Dropout is a regularization technique that aims to prevent overfitting by randomly “dropping out” (setting to zero) a subset of neurons and their connections during training. During each training iteration, a randomly selected subset of the neurons is temporarily removed from the network. By removing neurons, dropout forces the network to not rely too heavily on any one neuron, encouraging redundancy and robust feature learning.Note that during model evaluation, dropout is turned off, and all neurons are active, but their outputs are scaled by the dropout rate to maintain consistency with training.\n",
    "\n",
    "Dropout mitigates overfitting by introducing noise into the training process, effectively training many smaller “sub-networks” and averaging their predictions. By training with multiple random sub-networks, the model becomes more robust and less sensitive to specific neurons or weights.\n",
    "\n",
    "In PyTorch, dropout is implemented with the `nn.Dropout` module. The `nn.Dropout` module takes a single argument, `p`, which is the probability of dropping out a neuron. The `p` argument is the probability that a neuron will be zeroed out during training. The `p` argument is typically set to a value between 0.2 and 0.5.\n",
    "\n",
    "To instantiate a dropout layer with a dropout rate of 0.2, you can use the following code:\n",
    "```dropout_layer = nn.Dropout(p=0.2)```\n",
    "\n",
    "To apply dropout to a tensor `x`, you can use the following code:\n",
    "```x = dropout_layer(x)```\n"
   ],
   "metadata": {
    "collapsed": false
   }
  },
  {
   "cell_type": "code",
   "execution_count": 1,
   "outputs": [],
   "source": [
    "import torch\n",
    "import torch.nn as nn\n",
    "import torch.optim as optim\n",
    "from sklearn.model_selection import train_test_split\n",
    "import numpy as np\n",
    "from torch.utils.data import TensorDataset, DataLoader\n",
    "import matplotlib.pyplot as plt"
   ],
   "metadata": {
    "collapsed": false
   }
  },
  {
   "cell_type": "markdown",
   "source": [
    "## Load the dataset, split into train and test sets, cast to PyTorch tensors, and create data loaders\n",
    "(DONE FOR YOU)"
   ],
   "metadata": {
    "collapsed": false
   }
  },
  {
   "cell_type": "code",
   "execution_count": 2,
   "outputs": [],
   "source": [
    "tmp = np.load('../slides/eeg_alcohol_data.npy', allow_pickle=True)\n",
    "X = tmp.item().get('X')\n",
    "y = tmp.item().get('y')\n",
    "if X.dtype != np.float32:\n",
    "    X = np.array(X, dtype=np.float32)\n",
    "if y.dtype not in [np.int32, np.int64]:\n",
    "    y = np.array(y, dtype=np.int64)\n",
    "\n",
    "X_train, X_test, y_train, y_test = train_test_split(X, y, test_size=0.2, random_state=42)\n",
    "\n",
    "X_train = torch.tensor(X_train, dtype=torch.float32)\n",
    "X_test = torch.tensor(X_test, dtype=torch.float32)\n",
    "y_train = torch.tensor(y_train, dtype=torch.long)\n",
    "y_test = torch.tensor(y_test, dtype=torch.long)\n",
    "\n",
    "train_dataset = TensorDataset(X_train, y_train)\n",
    "test_dataset = TensorDataset(X_test, y_test)\n",
    "train_loader = DataLoader(train_dataset, batch_size=32, shuffle=True)\n",
    "test_loader = DataLoader(test_dataset, batch_size=32, shuffle=False)"
   ],
   "metadata": {
    "collapsed": false
   }
  },
  {
   "cell_type": "markdown",
   "source": [
    "### Define the CNN model\n",
    "We will work with a model that combines two convolutional layers at the front end with three fully connected layers at the back end. Pay attention to the arguments of the Conv2D and Linear blocks, as it will help your understanding of the model architecture.\n",
    "(DONE FOR YOU)"
   ],
   "metadata": {
    "collapsed": false
   }
  },
  {
   "cell_type": "code",
   "execution_count": 3,
   "outputs": [],
   "source": [
    "class EEGCNN(nn.Module):\n",
    "    def __init__(self, input_channels, input_timepoints, num_classes):\n",
    "        super(EEGCNN, self).__init__()\n",
    "        self.spatial_conv = nn.Conv2d(1, 8, kernel_size=(input_channels, 1))  # Spatial filtering\n",
    "        self.temporal_conv = nn.Conv2d(8, 16, kernel_size=(1, 10), stride=(1, 2))  # Temporal filtering\n",
    "        self.flatten = nn.Flatten()\n",
    "        self.fc1 = nn.Linear(16 * ((input_timepoints - 10) // 2 + 1), 32) # fully connected layer 1\n",
    "        self.fc2 = nn.Linear(32, 16)  # fully connected layer 2\n",
    "        self.fc3 = nn.Linear(16, num_classes) # fully connected layer 3\n",
    "        self.softmax = nn.Softmax(dim=1)\n",
    "\n",
    "    def forward(self, x):\n",
    "        x = x.unsqueeze(1)  # Add channel dimension\n",
    "        x = torch.relu(self.spatial_conv(x))\n",
    "        x = torch.relu(self.temporal_conv(x))\n",
    "        x = self.flatten(x) # convert from 2D to 1D\n",
    "        x = self.fc1(x) # fully connected layer 1\n",
    "        x = self.fc2(x) # fully connected layer 2\n",
    "        x = self.fc3(x) # fully connected layer 3\n",
    "        x = self.softmax(x)\n",
    "\n",
    "        return x"
   ],
   "metadata": {
    "collapsed": false
   }
  },
  {
   "cell_type": "markdown",
   "source": [
    "### Instantiate the model with the parameters of our dataset\n",
    "(DONE FOR YOU)"
   ],
   "metadata": {
    "collapsed": false
   }
  },
  {
   "cell_type": "code",
   "execution_count": 4,
   "outputs": [],
   "source": [
    "input_channels = X_train.shape[1]  # 64 electrodes\n",
    "input_timepoints = X_train.shape[2]  # 256 time samples\n",
    "num_classes = len(torch.unique(y_train))  # Number of unique classes in y\n",
    "model = EEGCNN(input_channels, input_timepoints, num_classes)"
   ],
   "metadata": {
    "collapsed": false
   }
  },
  {
   "cell_type": "markdown",
   "source": [
    "### Define the training loop and train for 200 epochs\n",
    "Below is a function that trains the model for a specified number of epochs, reporting the training and test loss after each epoch.\n",
    "(DONE FOR YOU)"
   ],
   "metadata": {
    "collapsed": false
   }
  },
  {
   "cell_type": "code",
   "execution_count": 5,
   "outputs": [],
   "source": [
    "def run_train_loop(model, criterion, optimizer, epochs=200):\n",
    "\n",
    "    train_losses = []\n",
    "    test_losses = []\n",
    "\n",
    "    for epoch in range(epochs):\n",
    "        model.train()\n",
    "        running_loss = 0.0\n",
    "        for X_batch, y_batch in train_loader:\n",
    "            optimizer.zero_grad()\n",
    "            outputs = model(X_batch)\n",
    "            loss = criterion(outputs, y_batch)\n",
    "            loss.backward()\n",
    "            optimizer.step()\n",
    "            running_loss += loss.item()\n",
    "\n",
    "        # evaluate test loss\n",
    "        model.eval()\n",
    "        test_loss = 0.0\n",
    "        with torch.no_grad():\n",
    "            for X_batch, y_batch in test_loader:\n",
    "                outputs = model(X_batch)\n",
    "                loss = criterion(outputs, y_batch)\n",
    "                test_loss += loss.item()\n",
    "\n",
    "        print(f\"Epoch {epoch+1}/{epochs}, Loss: {running_loss/len(train_loader):.4f}, Test Loss: {test_loss/len(test_loader):.4f}\")\n",
    "        train_losses.append(running_loss/len(train_loader))\n",
    "        test_losses.append(test_loss/len(test_loader))\n",
    "\n",
    "    return train_losses, test_losses"
   ],
   "metadata": {
    "collapsed": false
   }
  },
  {
   "cell_type": "markdown",
   "source": [
    "### Here we train the model for 200 epochs\n",
    "(DONE FOR YOU)"
   ],
   "metadata": {
    "collapsed": false
   }
  },
  {
   "cell_type": "code",
   "execution_count": 6,
   "outputs": [
    {
     "name": "stdout",
     "output_type": "stream",
     "text": [
      "Epoch 1/200, Loss: 0.6931, Test Loss: 0.6540\n",
      "Epoch 2/200, Loss: 0.5752, Test Loss: 0.6151\n",
      "Epoch 3/200, Loss: 0.4950, Test Loss: 0.5905\n",
      "Epoch 4/200, Loss: 0.4658, Test Loss: 0.5732\n",
      "Epoch 5/200, Loss: 0.4261, Test Loss: 0.5496\n",
      "Epoch 6/200, Loss: 0.4027, Test Loss: 0.5339\n",
      "Epoch 7/200, Loss: 0.3826, Test Loss: 0.5239\n",
      "Epoch 8/200, Loss: 0.3678, Test Loss: 0.5216\n",
      "Epoch 9/200, Loss: 0.3683, Test Loss: 0.5152\n",
      "Epoch 10/200, Loss: 0.3472, Test Loss: 0.5361\n",
      "Epoch 11/200, Loss: 0.3466, Test Loss: 0.5374\n",
      "Epoch 12/200, Loss: 0.3344, Test Loss: 0.5468\n",
      "Epoch 13/200, Loss: 0.3314, Test Loss: 0.5452\n",
      "Epoch 14/200, Loss: 0.3362, Test Loss: 0.5402\n",
      "Epoch 15/200, Loss: 0.3393, Test Loss: 0.5587\n",
      "Epoch 16/200, Loss: 0.3323, Test Loss: 0.5654\n",
      "Epoch 17/200, Loss: 0.3308, Test Loss: 0.5596\n",
      "Epoch 18/200, Loss: 0.3313, Test Loss: 0.5578\n",
      "Epoch 19/200, Loss: 0.3293, Test Loss: 0.5704\n",
      "Epoch 20/200, Loss: 0.3314, Test Loss: 0.5732\n",
      "Epoch 21/200, Loss: 0.3290, Test Loss: 0.5716\n",
      "Epoch 22/200, Loss: 0.3302, Test Loss: 0.5703\n",
      "Epoch 23/200, Loss: 0.3290, Test Loss: 0.5695\n",
      "Epoch 24/200, Loss: 0.3290, Test Loss: 0.5684\n",
      "Epoch 25/200, Loss: 0.3290, Test Loss: 0.5676\n",
      "Epoch 26/200, Loss: 0.3289, Test Loss: 0.5673\n",
      "Epoch 27/200, Loss: 0.3289, Test Loss: 0.5667\n",
      "Epoch 28/200, Loss: 0.3289, Test Loss: 0.5662\n",
      "Epoch 29/200, Loss: 0.3301, Test Loss: 0.5661\n",
      "Epoch 30/200, Loss: 0.3289, Test Loss: 0.5658\n",
      "Epoch 31/200, Loss: 0.3289, Test Loss: 0.5655\n",
      "Epoch 32/200, Loss: 0.3289, Test Loss: 0.5652\n",
      "Epoch 33/200, Loss: 0.3289, Test Loss: 0.5648\n",
      "Epoch 34/200, Loss: 0.3289, Test Loss: 0.5644\n",
      "Epoch 35/200, Loss: 0.3301, Test Loss: 0.5643\n",
      "Epoch 36/200, Loss: 0.3301, Test Loss: 0.5640\n",
      "Epoch 37/200, Loss: 0.3289, Test Loss: 0.5639\n",
      "Epoch 38/200, Loss: 0.3289, Test Loss: 0.5637\n",
      "Epoch 39/200, Loss: 0.3289, Test Loss: 0.5635\n",
      "Epoch 40/200, Loss: 0.3301, Test Loss: 0.5632\n",
      "Epoch 41/200, Loss: 0.3289, Test Loss: 0.5630\n",
      "Epoch 42/200, Loss: 0.3289, Test Loss: 0.5630\n",
      "Epoch 43/200, Loss: 0.3289, Test Loss: 0.5627\n",
      "Epoch 44/200, Loss: 0.3301, Test Loss: 0.5627\n",
      "Epoch 45/200, Loss: 0.3301, Test Loss: 0.5626\n",
      "Epoch 46/200, Loss: 0.3289, Test Loss: 0.5625\n",
      "Epoch 47/200, Loss: 0.3289, Test Loss: 0.5623\n",
      "Epoch 48/200, Loss: 0.3313, Test Loss: 0.5623\n",
      "Epoch 49/200, Loss: 0.3289, Test Loss: 0.5622\n",
      "Epoch 50/200, Loss: 0.3289, Test Loss: 0.5620\n",
      "Epoch 51/200, Loss: 0.3289, Test Loss: 0.5619\n",
      "Epoch 52/200, Loss: 0.3301, Test Loss: 0.5618\n",
      "Epoch 53/200, Loss: 0.3325, Test Loss: 0.5617\n",
      "Epoch 54/200, Loss: 0.3289, Test Loss: 0.5616\n",
      "Epoch 55/200, Loss: 0.3289, Test Loss: 0.5615\n",
      "Epoch 56/200, Loss: 0.3289, Test Loss: 0.5614\n",
      "Epoch 57/200, Loss: 0.3301, Test Loss: 0.5613\n",
      "Epoch 58/200, Loss: 0.3313, Test Loss: 0.5612\n",
      "Epoch 59/200, Loss: 0.3289, Test Loss: 0.5612\n",
      "Epoch 60/200, Loss: 0.3289, Test Loss: 0.5611\n",
      "Epoch 61/200, Loss: 0.3301, Test Loss: 0.5610\n",
      "Epoch 62/200, Loss: 0.3289, Test Loss: 0.5609\n",
      "Epoch 63/200, Loss: 0.3289, Test Loss: 0.5608\n",
      "Epoch 64/200, Loss: 0.3301, Test Loss: 0.5607\n",
      "Epoch 65/200, Loss: 0.3289, Test Loss: 0.5607\n",
      "Epoch 66/200, Loss: 0.3301, Test Loss: 0.5606\n",
      "Epoch 67/200, Loss: 0.3301, Test Loss: 0.5606\n",
      "Epoch 68/200, Loss: 0.3289, Test Loss: 0.5605\n",
      "Epoch 69/200, Loss: 0.3301, Test Loss: 0.5604\n",
      "Epoch 70/200, Loss: 0.3289, Test Loss: 0.5603\n",
      "Epoch 71/200, Loss: 0.3289, Test Loss: 0.5603\n",
      "Epoch 72/200, Loss: 0.3301, Test Loss: 0.5602\n",
      "Epoch 73/200, Loss: 0.3289, Test Loss: 0.5602\n",
      "Epoch 74/200, Loss: 0.3289, Test Loss: 0.5602\n",
      "Epoch 75/200, Loss: 0.3301, Test Loss: 0.5601\n",
      "Epoch 76/200, Loss: 0.3289, Test Loss: 0.5601\n",
      "Epoch 77/200, Loss: 0.3289, Test Loss: 0.5600\n",
      "Epoch 78/200, Loss: 0.3289, Test Loss: 0.5600\n",
      "Epoch 79/200, Loss: 0.3289, Test Loss: 0.5600\n",
      "Epoch 80/200, Loss: 0.3289, Test Loss: 0.5599\n",
      "Epoch 81/200, Loss: 0.3301, Test Loss: 0.5598\n",
      "Epoch 82/200, Loss: 0.3289, Test Loss: 0.5598\n",
      "Epoch 83/200, Loss: 0.3313, Test Loss: 0.5597\n",
      "Epoch 84/200, Loss: 0.3289, Test Loss: 0.5597\n",
      "Epoch 85/200, Loss: 0.3289, Test Loss: 0.5597\n",
      "Epoch 86/200, Loss: 0.3289, Test Loss: 0.5596\n",
      "Epoch 87/200, Loss: 0.3301, Test Loss: 0.5596\n",
      "Epoch 88/200, Loss: 0.3289, Test Loss: 0.5595\n",
      "Epoch 89/200, Loss: 0.3289, Test Loss: 0.5594\n",
      "Epoch 90/200, Loss: 0.3301, Test Loss: 0.5594\n",
      "Epoch 91/200, Loss: 0.3289, Test Loss: 0.5594\n",
      "Epoch 92/200, Loss: 0.3301, Test Loss: 0.5594\n",
      "Epoch 93/200, Loss: 0.3289, Test Loss: 0.5594\n",
      "Epoch 94/200, Loss: 0.3289, Test Loss: 0.5593\n",
      "Epoch 95/200, Loss: 0.3301, Test Loss: 0.5593\n",
      "Epoch 96/200, Loss: 0.3289, Test Loss: 0.5593\n",
      "Epoch 97/200, Loss: 0.3289, Test Loss: 0.5592\n",
      "Epoch 98/200, Loss: 0.3289, Test Loss: 0.5592\n",
      "Epoch 99/200, Loss: 0.3289, Test Loss: 0.5592\n",
      "Epoch 100/200, Loss: 0.3289, Test Loss: 0.5591\n",
      "Epoch 101/200, Loss: 0.3301, Test Loss: 0.5591\n",
      "Epoch 102/200, Loss: 0.3289, Test Loss: 0.5591\n",
      "Epoch 103/200, Loss: 0.3289, Test Loss: 0.5591\n",
      "Epoch 104/200, Loss: 0.3313, Test Loss: 0.5590\n",
      "Epoch 105/200, Loss: 0.3301, Test Loss: 0.5590\n",
      "Epoch 106/200, Loss: 0.3301, Test Loss: 0.5590\n",
      "Epoch 107/200, Loss: 0.3289, Test Loss: 0.5590\n",
      "Epoch 108/200, Loss: 0.3289, Test Loss: 0.5589\n",
      "Epoch 109/200, Loss: 0.3301, Test Loss: 0.5589\n",
      "Epoch 110/200, Loss: 0.3289, Test Loss: 0.5589\n",
      "Epoch 111/200, Loss: 0.3313, Test Loss: 0.5589\n",
      "Epoch 112/200, Loss: 0.3289, Test Loss: 0.5588\n",
      "Epoch 113/200, Loss: 0.3289, Test Loss: 0.5588\n",
      "Epoch 114/200, Loss: 0.3289, Test Loss: 0.5588\n",
      "Epoch 115/200, Loss: 0.3289, Test Loss: 0.5588\n",
      "Epoch 116/200, Loss: 0.3289, Test Loss: 0.5588\n",
      "Epoch 117/200, Loss: 0.3301, Test Loss: 0.5587\n",
      "Epoch 118/200, Loss: 0.3301, Test Loss: 0.5587\n",
      "Epoch 119/200, Loss: 0.3289, Test Loss: 0.5587\n",
      "Epoch 120/200, Loss: 0.3289, Test Loss: 0.5587\n",
      "Epoch 121/200, Loss: 0.3289, Test Loss: 0.5586\n",
      "Epoch 122/200, Loss: 0.3289, Test Loss: 0.5586\n",
      "Epoch 123/200, Loss: 0.3289, Test Loss: 0.5586\n",
      "Epoch 124/200, Loss: 0.3289, Test Loss: 0.5586\n",
      "Epoch 125/200, Loss: 0.3289, Test Loss: 0.5586\n",
      "Epoch 126/200, Loss: 0.3301, Test Loss: 0.5586\n",
      "Epoch 127/200, Loss: 0.3289, Test Loss: 0.5585\n",
      "Epoch 128/200, Loss: 0.3289, Test Loss: 0.5585\n",
      "Epoch 129/200, Loss: 0.3301, Test Loss: 0.5585\n",
      "Epoch 130/200, Loss: 0.3289, Test Loss: 0.5585\n",
      "Epoch 131/200, Loss: 0.3289, Test Loss: 0.5585\n",
      "Epoch 132/200, Loss: 0.3289, Test Loss: 0.5584\n",
      "Epoch 133/200, Loss: 0.3289, Test Loss: 0.5584\n",
      "Epoch 134/200, Loss: 0.3289, Test Loss: 0.5584\n",
      "Epoch 135/200, Loss: 0.3301, Test Loss: 0.5584\n",
      "Epoch 136/200, Loss: 0.3301, Test Loss: 0.5584\n",
      "Epoch 137/200, Loss: 0.3289, Test Loss: 0.5584\n",
      "Epoch 138/200, Loss: 0.3289, Test Loss: 0.5583\n",
      "Epoch 139/200, Loss: 0.3289, Test Loss: 0.5583\n",
      "Epoch 140/200, Loss: 0.3289, Test Loss: 0.5583\n",
      "Epoch 141/200, Loss: 0.3301, Test Loss: 0.5583\n",
      "Epoch 142/200, Loss: 0.3289, Test Loss: 0.5583\n",
      "Epoch 143/200, Loss: 0.3289, Test Loss: 0.5582\n",
      "Epoch 144/200, Loss: 0.3289, Test Loss: 0.5582\n",
      "Epoch 145/200, Loss: 0.3289, Test Loss: 0.5582\n",
      "Epoch 146/200, Loss: 0.3289, Test Loss: 0.5582\n",
      "Epoch 147/200, Loss: 0.3289, Test Loss: 0.5582\n",
      "Epoch 148/200, Loss: 0.3301, Test Loss: 0.5582\n",
      "Epoch 149/200, Loss: 0.3301, Test Loss: 0.5581\n",
      "Epoch 150/200, Loss: 0.3301, Test Loss: 0.5581\n",
      "Epoch 151/200, Loss: 0.3289, Test Loss: 0.5581\n",
      "Epoch 152/200, Loss: 0.3301, Test Loss: 0.5581\n",
      "Epoch 153/200, Loss: 0.3301, Test Loss: 0.5581\n",
      "Epoch 154/200, Loss: 0.3289, Test Loss: 0.5581\n",
      "Epoch 155/200, Loss: 0.3289, Test Loss: 0.5580\n",
      "Epoch 156/200, Loss: 0.3289, Test Loss: 0.5581\n",
      "Epoch 157/200, Loss: 0.3289, Test Loss: 0.5580\n",
      "Epoch 158/200, Loss: 0.3301, Test Loss: 0.5580\n",
      "Epoch 159/200, Loss: 0.3289, Test Loss: 0.5580\n",
      "Epoch 160/200, Loss: 0.3289, Test Loss: 0.5580\n",
      "Epoch 161/200, Loss: 0.3289, Test Loss: 0.5579\n",
      "Epoch 162/200, Loss: 0.3289, Test Loss: 0.5579\n",
      "Epoch 163/200, Loss: 0.3289, Test Loss: 0.5579\n",
      "Epoch 164/200, Loss: 0.3289, Test Loss: 0.5580\n",
      "Epoch 165/200, Loss: 0.3289, Test Loss: 0.5579\n",
      "Epoch 166/200, Loss: 0.3301, Test Loss: 0.5579\n",
      "Epoch 167/200, Loss: 0.3289, Test Loss: 0.5579\n",
      "Epoch 168/200, Loss: 0.3301, Test Loss: 0.5579\n",
      "Epoch 169/200, Loss: 0.3289, Test Loss: 0.5579\n",
      "Epoch 170/200, Loss: 0.3301, Test Loss: 0.5578\n",
      "Epoch 171/200, Loss: 0.3301, Test Loss: 0.5578\n",
      "Epoch 172/200, Loss: 0.3289, Test Loss: 0.5578\n",
      "Epoch 173/200, Loss: 0.3289, Test Loss: 0.5577\n",
      "Epoch 174/200, Loss: 0.3289, Test Loss: 0.5577\n",
      "Epoch 175/200, Loss: 0.3289, Test Loss: 0.5577\n",
      "Epoch 176/200, Loss: 0.3289, Test Loss: 0.5577\n",
      "Epoch 177/200, Loss: 0.3313, Test Loss: 0.5577\n",
      "Epoch 178/200, Loss: 0.3301, Test Loss: 0.5577\n",
      "Epoch 179/200, Loss: 0.3289, Test Loss: 0.5576\n",
      "Epoch 180/200, Loss: 0.3301, Test Loss: 0.5576\n",
      "Epoch 181/200, Loss: 0.3289, Test Loss: 0.5576\n",
      "Epoch 182/200, Loss: 0.3289, Test Loss: 0.5575\n",
      "Epoch 183/200, Loss: 0.3301, Test Loss: 0.5575\n",
      "Epoch 184/200, Loss: 0.3289, Test Loss: 0.5575\n",
      "Epoch 185/200, Loss: 0.3289, Test Loss: 0.5574\n",
      "Epoch 186/200, Loss: 0.3289, Test Loss: 0.5574\n",
      "Epoch 187/200, Loss: 0.3301, Test Loss: 0.5574\n",
      "Epoch 188/200, Loss: 0.3313, Test Loss: 0.5573\n",
      "Epoch 189/200, Loss: 0.3289, Test Loss: 0.5573\n",
      "Epoch 190/200, Loss: 0.3289, Test Loss: 0.5573\n",
      "Epoch 191/200, Loss: 0.3289, Test Loss: 0.5572\n",
      "Epoch 192/200, Loss: 0.3289, Test Loss: 0.5571\n",
      "Epoch 193/200, Loss: 0.3301, Test Loss: 0.5571\n",
      "Epoch 194/200, Loss: 0.3289, Test Loss: 0.5570\n",
      "Epoch 195/200, Loss: 0.3301, Test Loss: 0.5570\n",
      "Epoch 196/200, Loss: 0.3301, Test Loss: 0.5569\n",
      "Epoch 197/200, Loss: 0.3289, Test Loss: 0.5568\n",
      "Epoch 198/200, Loss: 0.3289, Test Loss: 0.5567\n",
      "Epoch 199/200, Loss: 0.3289, Test Loss: 0.5567\n",
      "Epoch 200/200, Loss: 0.3289, Test Loss: 0.5565\n"
     ]
    }
   ],
   "source": [
    "criterion = nn.CrossEntropyLoss()\n",
    "optimizer = optim.Adam(model.parameters(), lr=0.001)\n",
    "epochs = 200\n",
    "train_losses, test_losses = run_train_loop(model, criterion, optimizer, epochs)"
   ],
   "metadata": {
    "collapsed": false
   }
  },
  {
   "cell_type": "markdown",
   "source": [
    "## Task 1: Plot the training and test loss (overlaid) on the vertical axis and the epoch number on the horizontal axis"
   ],
   "metadata": {
    "collapsed": false
   }
  },
  {
   "cell_type": "code",
   "execution_count": 7,
   "outputs": [
    {
     "data": {
      "text/plain": "[<matplotlib.lines.Line2D at 0x31ffb1ea0>]"
     },
     "execution_count": 7,
     "metadata": {},
     "output_type": "execute_result"
    },
    {
     "data": {
      "text/plain": "<Figure size 640x480 with 1 Axes>",
      "image/png": "[encoded data removed]"
     },
     "metadata": {},
     "output_type": "display_data"
    }
   ],
   "source": [
    "## INSERT CODE HERE\n",
    "plt.plot(train_losses, label='Train Loss')\n",
    "plt.plot(test_losses, label='Test Loss')"
   ],
   "metadata": {
    "collapsed": false
   }
  },
  {
   "cell_type": "markdown",
   "source": [
    "## Task 2: Compute the minimum train and test loss achieved during training and report them"
   ],
   "metadata": {
    "collapsed": false
   }
  },
  {
   "cell_type": "code",
   "execution_count": 8,
   "outputs": [
    {
     "data": {
      "text/plain": "(0.3288875271876653, 0.5152343610922495)"
     },
     "execution_count": 8,
     "metadata": {},
     "output_type": "execute_result"
    }
   ],
   "source": [
    "## INSERT CODE HERE\n",
    "np.min(train_losses), np.min(test_losses)"
   ],
   "metadata": {
    "collapsed": false
   }
  },
  {
   "cell_type": "markdown",
   "source": [
    "## Task 3: Modify EEGCNN to add dropout regularization\n",
    "- Modify the cell below to add **three** dropout layers to the EEGCNN model\n",
    "    - The first dropout layer should be added after the flattening layer\n",
    "    - The second dropout layer should be added after the first fully connected layer\n",
    "    - The third dropout layer should be added after the second fully connected layer\n",
    "- The dropout rates of each layer should be the same and should be passed as an argument to the model constructor\n",
    "- The default dropout rate should be 0.2"
   ],
   "metadata": {
    "collapsed": false
   }
  },
  {
   "cell_type": "code",
   "execution_count": 9,
   "outputs": [],
   "source": [
    "class EEGCNNwithDropout(nn.Module):\n",
    "    def __init__(self, input_channels, input_timepoints, num_classes, dropout=0.2):\n",
    "        super(EEGCNNwithDropout, self).__init__()\n",
    "        self.spatial_conv = nn.Conv2d(1, 8, kernel_size=(input_channels, 1))  # Spatial filtering\n",
    "        self.temporal_conv = nn.Conv2d(8, 16, kernel_size=(1, 10), stride=(1, 2))  # Temporal filtering\n",
    "        self.flatten = nn.Flatten()\n",
    "        self.fc1 = nn.Linear(16 * ((input_timepoints - 10) // 2 + 1), 32)  # Dense layer\n",
    "        self.fc2 = nn.Linear(32, 16)  # Dense layer\n",
    "        self.fc3 = nn.Linear(16, num_classes)\n",
    "        self.softmax = nn.Softmax(dim=1)\n",
    "        self.dropout1 = nn.Dropout(dropout)\n",
    "        self.dropout2 = nn.Dropout(dropout)\n",
    "        self.dropout3 = nn.Dropout(dropout)\n",
    "\n",
    "    def forward(self, x):\n",
    "        x = x.unsqueeze(1)  # Add channel dimension\n",
    "        x = torch.relu(self.spatial_conv(x))\n",
    "        x = torch.relu(self.temporal_conv(x))\n",
    "        x = self.flatten(x)\n",
    "        x = self.dropout1(x)\n",
    "        x = self.fc1(x)\n",
    "        x = self.dropout2(x)\n",
    "        x = self.fc2(x)\n",
    "        x = self.dropout3(x)\n",
    "        x = self.fc3(x)\n",
    "        x = self.softmax(x)\n",
    "\n",
    "        return x"
   ],
   "metadata": {
    "collapsed": false
   }
  },
  {
   "cell_type": "markdown",
   "source": [
    "## Task 4: Train the EEGCNNwithDropout model with a dropout rate of 0.2 for 200 epochs\n",
    "- Instantiate the model with a dropout rate of 0.2\n",
    "- Train the model for 200 epochs"
   ],
   "metadata": {
    "collapsed": false
   }
  },
  {
   "cell_type": "code",
   "execution_count": 10,
   "outputs": [
    {
     "name": "stdout",
     "output_type": "stream",
     "text": [
      "Epoch 1/200, Loss: 0.6805, Test Loss: 0.6695\n",
      "Epoch 2/200, Loss: 0.5830, Test Loss: 0.6318\n",
      "Epoch 3/200, Loss: 0.4982, Test Loss: 0.6054\n",
      "Epoch 4/200, Loss: 0.4791, Test Loss: 0.5699\n",
      "Epoch 5/200, Loss: 0.4303, Test Loss: 0.5698\n",
      "Epoch 6/200, Loss: 0.4162, Test Loss: 0.5534\n",
      "Epoch 7/200, Loss: 0.3930, Test Loss: 0.5503\n",
      "Epoch 8/200, Loss: 0.3865, Test Loss: 0.5796\n",
      "Epoch 9/200, Loss: 0.3702, Test Loss: 0.5434\n",
      "Epoch 10/200, Loss: 0.3614, Test Loss: 0.5487\n",
      "Epoch 11/200, Loss: 0.3719, Test Loss: 0.5795\n",
      "Epoch 12/200, Loss: 0.3624, Test Loss: 0.5064\n",
      "Epoch 13/200, Loss: 0.3488, Test Loss: 0.5582\n",
      "Epoch 14/200, Loss: 0.3640, Test Loss: 0.5745\n",
      "Epoch 15/200, Loss: 0.3554, Test Loss: 0.5077\n",
      "Epoch 16/200, Loss: 0.3470, Test Loss: 0.4998\n",
      "Epoch 17/200, Loss: 0.3375, Test Loss: 0.5025\n",
      "Epoch 18/200, Loss: 0.3320, Test Loss: 0.5492\n",
      "Epoch 19/200, Loss: 0.3359, Test Loss: 0.5221\n",
      "Epoch 20/200, Loss: 0.3397, Test Loss: 0.5320\n",
      "Epoch 21/200, Loss: 0.3471, Test Loss: 0.5305\n",
      "Epoch 22/200, Loss: 0.3390, Test Loss: 0.5167\n",
      "Epoch 23/200, Loss: 0.3300, Test Loss: 0.5511\n",
      "Epoch 24/200, Loss: 0.3347, Test Loss: 0.5215\n",
      "Epoch 25/200, Loss: 0.3260, Test Loss: 0.5147\n",
      "Epoch 26/200, Loss: 0.3244, Test Loss: 0.5138\n",
      "Epoch 27/200, Loss: 0.3258, Test Loss: 0.5125\n",
      "Epoch 28/200, Loss: 0.3316, Test Loss: 0.5257\n",
      "Epoch 29/200, Loss: 0.3348, Test Loss: 0.5250\n",
      "Epoch 30/200, Loss: 0.3310, Test Loss: 0.5174\n",
      "Epoch 31/200, Loss: 0.3321, Test Loss: 0.5100\n",
      "Epoch 32/200, Loss: 0.3510, Test Loss: 0.5020\n",
      "Epoch 33/200, Loss: 0.3302, Test Loss: 0.5635\n",
      "Epoch 34/200, Loss: 0.3340, Test Loss: 0.5083\n",
      "Epoch 35/200, Loss: 0.3293, Test Loss: 0.5394\n",
      "Epoch 36/200, Loss: 0.3375, Test Loss: 0.4992\n",
      "Epoch 37/200, Loss: 0.3298, Test Loss: 0.4996\n",
      "Epoch 38/200, Loss: 0.3280, Test Loss: 0.5186\n",
      "Epoch 39/200, Loss: 0.3312, Test Loss: 0.5376\n",
      "Epoch 40/200, Loss: 0.3317, Test Loss: 0.4840\n",
      "Epoch 41/200, Loss: 0.3350, Test Loss: 0.5237\n",
      "Epoch 42/200, Loss: 0.3276, Test Loss: 0.5056\n",
      "Epoch 43/200, Loss: 0.3302, Test Loss: 0.5083\n",
      "Epoch 44/200, Loss: 0.3271, Test Loss: 0.5099\n",
      "Epoch 45/200, Loss: 0.3226, Test Loss: 0.4956\n",
      "Epoch 46/200, Loss: 0.3223, Test Loss: 0.4935\n",
      "Epoch 47/200, Loss: 0.3257, Test Loss: 0.4967\n",
      "Epoch 48/200, Loss: 0.3288, Test Loss: 0.4801\n",
      "Epoch 49/200, Loss: 0.3265, Test Loss: 0.4965\n",
      "Epoch 50/200, Loss: 0.3237, Test Loss: 0.4956\n",
      "Epoch 51/200, Loss: 0.3243, Test Loss: 0.5382\n",
      "Epoch 52/200, Loss: 0.3293, Test Loss: 0.5035\n",
      "Epoch 53/200, Loss: 0.3219, Test Loss: 0.4827\n",
      "Epoch 54/200, Loss: 0.3262, Test Loss: 0.4636\n",
      "Epoch 55/200, Loss: 0.3221, Test Loss: 0.4629\n",
      "Epoch 56/200, Loss: 0.3239, Test Loss: 0.4812\n",
      "Epoch 57/200, Loss: 0.3278, Test Loss: 0.5088\n",
      "Epoch 58/200, Loss: 0.3248, Test Loss: 0.5044\n",
      "Epoch 59/200, Loss: 0.3236, Test Loss: 0.4581\n",
      "Epoch 60/200, Loss: 0.3232, Test Loss: 0.4835\n",
      "Epoch 61/200, Loss: 0.3306, Test Loss: 0.4599\n",
      "Epoch 62/200, Loss: 0.3247, Test Loss: 0.4703\n",
      "Epoch 63/200, Loss: 0.3233, Test Loss: 0.4906\n",
      "Epoch 64/200, Loss: 0.3284, Test Loss: 0.4763\n",
      "Epoch 65/200, Loss: 0.3295, Test Loss: 0.5209\n",
      "Epoch 66/200, Loss: 0.3347, Test Loss: 0.4703\n",
      "Epoch 67/200, Loss: 0.3329, Test Loss: 0.4812\n",
      "Epoch 68/200, Loss: 0.3504, Test Loss: 0.5062\n",
      "Epoch 69/200, Loss: 0.3326, Test Loss: 0.5054\n",
      "Epoch 70/200, Loss: 0.3330, Test Loss: 0.5405\n",
      "Epoch 71/200, Loss: 0.3305, Test Loss: 0.4811\n",
      "Epoch 72/200, Loss: 0.3359, Test Loss: 0.4751\n",
      "Epoch 73/200, Loss: 0.3341, Test Loss: 0.4758\n",
      "Epoch 74/200, Loss: 0.3442, Test Loss: 0.4912\n",
      "Epoch 75/200, Loss: 0.3340, Test Loss: 0.4981\n",
      "Epoch 76/200, Loss: 0.3355, Test Loss: 0.4932\n",
      "Epoch 77/200, Loss: 0.3335, Test Loss: 0.4774\n",
      "Epoch 78/200, Loss: 0.3300, Test Loss: 0.4589\n",
      "Epoch 79/200, Loss: 0.3573, Test Loss: 0.4602\n",
      "Epoch 80/200, Loss: 0.3613, Test Loss: 0.4908\n",
      "Epoch 81/200, Loss: 0.3540, Test Loss: 0.5087\n",
      "Epoch 82/200, Loss: 0.3587, Test Loss: 0.4701\n",
      "Epoch 83/200, Loss: 0.3366, Test Loss: 0.5165\n",
      "Epoch 84/200, Loss: 0.3294, Test Loss: 0.4938\n",
      "Epoch 85/200, Loss: 0.3350, Test Loss: 0.5218\n",
      "Epoch 86/200, Loss: 0.3426, Test Loss: 0.5167\n",
      "Epoch 87/200, Loss: 0.3286, Test Loss: 0.4877\n",
      "Epoch 88/200, Loss: 0.3254, Test Loss: 0.4858\n",
      "Epoch 89/200, Loss: 0.3444, Test Loss: 0.5559\n",
      "Epoch 90/200, Loss: 0.3869, Test Loss: 0.5909\n",
      "Epoch 91/200, Loss: 0.3767, Test Loss: 0.4874\n",
      "Epoch 92/200, Loss: 0.3685, Test Loss: 0.5837\n",
      "Epoch 93/200, Loss: 0.3650, Test Loss: 0.5191\n",
      "Epoch 94/200, Loss: 0.3514, Test Loss: 0.5307\n",
      "Epoch 95/200, Loss: 0.3376, Test Loss: 0.5454\n",
      "Epoch 96/200, Loss: 0.3295, Test Loss: 0.5344\n",
      "Epoch 97/200, Loss: 0.3514, Test Loss: 0.5431\n",
      "Epoch 98/200, Loss: 0.3355, Test Loss: 0.5110\n",
      "Epoch 99/200, Loss: 0.3415, Test Loss: 0.5916\n",
      "Epoch 100/200, Loss: 0.3478, Test Loss: 0.5078\n",
      "Epoch 101/200, Loss: 0.3316, Test Loss: 0.5218\n",
      "Epoch 102/200, Loss: 0.3500, Test Loss: 0.5131\n",
      "Epoch 103/200, Loss: 0.3519, Test Loss: 0.4887\n",
      "Epoch 104/200, Loss: 0.3482, Test Loss: 0.5124\n",
      "Epoch 105/200, Loss: 0.3413, Test Loss: 0.5113\n",
      "Epoch 106/200, Loss: 0.3446, Test Loss: 0.4981\n",
      "Epoch 107/200, Loss: 0.3370, Test Loss: 0.4955\n",
      "Epoch 108/200, Loss: 0.3426, Test Loss: 0.5094\n",
      "Epoch 109/200, Loss: 0.3423, Test Loss: 0.5148\n",
      "Epoch 110/200, Loss: 0.3349, Test Loss: 0.5093\n",
      "Epoch 111/200, Loss: 0.3263, Test Loss: 0.5065\n",
      "Epoch 112/200, Loss: 0.3225, Test Loss: 0.5044\n",
      "Epoch 113/200, Loss: 0.3161, Test Loss: 0.4826\n",
      "Epoch 114/200, Loss: 0.3269, Test Loss: 0.4854\n",
      "Epoch 115/200, Loss: 0.3217, Test Loss: 0.5104\n",
      "Epoch 116/200, Loss: 0.3591, Test Loss: 0.5272\n",
      "Epoch 117/200, Loss: 0.3477, Test Loss: 0.5682\n",
      "Epoch 118/200, Loss: 0.3609, Test Loss: 0.4915\n",
      "Epoch 119/200, Loss: 0.3278, Test Loss: 0.5257\n",
      "Epoch 120/200, Loss: 0.3329, Test Loss: 0.5072\n",
      "Epoch 121/200, Loss: 0.3245, Test Loss: 0.5011\n",
      "Epoch 122/200, Loss: 0.3262, Test Loss: 0.4999\n",
      "Epoch 123/200, Loss: 0.3160, Test Loss: 0.5499\n",
      "Epoch 124/200, Loss: 0.3312, Test Loss: 0.5599\n",
      "Epoch 125/200, Loss: 0.3292, Test Loss: 0.5348\n",
      "Epoch 126/200, Loss: 0.3211, Test Loss: 0.4748\n",
      "Epoch 127/200, Loss: 0.3331, Test Loss: 0.5432\n",
      "Epoch 128/200, Loss: 0.3308, Test Loss: 0.5291\n",
      "Epoch 129/200, Loss: 0.3305, Test Loss: 0.5088\n",
      "Epoch 130/200, Loss: 0.3160, Test Loss: 0.4981\n",
      "Epoch 131/200, Loss: 0.3161, Test Loss: 0.4918\n",
      "Epoch 132/200, Loss: 0.3184, Test Loss: 0.4893\n",
      "Epoch 133/200, Loss: 0.3192, Test Loss: 0.5175\n",
      "Epoch 134/200, Loss: 0.3215, Test Loss: 0.5158\n",
      "Epoch 135/200, Loss: 0.3187, Test Loss: 0.5094\n",
      "Epoch 136/200, Loss: 0.3170, Test Loss: 0.5157\n",
      "Epoch 137/200, Loss: 0.3210, Test Loss: 0.4955\n",
      "Epoch 138/200, Loss: 0.3178, Test Loss: 0.5106\n",
      "Epoch 139/200, Loss: 0.3230, Test Loss: 0.5135\n",
      "Epoch 140/200, Loss: 0.3269, Test Loss: 0.5078\n",
      "Epoch 141/200, Loss: 0.3206, Test Loss: 0.5068\n",
      "Epoch 142/200, Loss: 0.3242, Test Loss: 0.4996\n",
      "Epoch 143/200, Loss: 0.3257, Test Loss: 0.5341\n",
      "Epoch 144/200, Loss: 0.3274, Test Loss: 0.5441\n",
      "Epoch 145/200, Loss: 0.3527, Test Loss: 0.5251\n",
      "Epoch 146/200, Loss: 0.3370, Test Loss: 0.4903\n",
      "Epoch 147/200, Loss: 0.3259, Test Loss: 0.4808\n",
      "Epoch 148/200, Loss: 0.3293, Test Loss: 0.5084\n",
      "Epoch 149/200, Loss: 0.3284, Test Loss: 0.5336\n",
      "Epoch 150/200, Loss: 0.3166, Test Loss: 0.5323\n",
      "Epoch 151/200, Loss: 0.3201, Test Loss: 0.5208\n",
      "Epoch 152/200, Loss: 0.3203, Test Loss: 0.4907\n",
      "Epoch 153/200, Loss: 0.3192, Test Loss: 0.4973\n",
      "Epoch 154/200, Loss: 0.3192, Test Loss: 0.4940\n",
      "Epoch 155/200, Loss: 0.3192, Test Loss: 0.4910\n",
      "Epoch 156/200, Loss: 0.3173, Test Loss: 0.4893\n",
      "Epoch 157/200, Loss: 0.3180, Test Loss: 0.4900\n",
      "Epoch 158/200, Loss: 0.3202, Test Loss: 0.4992\n",
      "Epoch 159/200, Loss: 0.3162, Test Loss: 0.5100\n",
      "Epoch 160/200, Loss: 0.3159, Test Loss: 0.5053\n",
      "Epoch 161/200, Loss: 0.3133, Test Loss: 0.5057\n",
      "Epoch 162/200, Loss: 0.3136, Test Loss: 0.5057\n",
      "Epoch 163/200, Loss: 0.3189, Test Loss: 0.5271\n",
      "Epoch 164/200, Loss: 0.3211, Test Loss: 0.5095\n",
      "Epoch 165/200, Loss: 0.3200, Test Loss: 0.4669\n",
      "Epoch 166/200, Loss: 0.3227, Test Loss: 0.4575\n",
      "Epoch 167/200, Loss: 0.3162, Test Loss: 0.4870\n",
      "Epoch 168/200, Loss: 0.3158, Test Loss: 0.4890\n",
      "Epoch 169/200, Loss: 0.3144, Test Loss: 0.4904\n",
      "Epoch 170/200, Loss: 0.3239, Test Loss: 0.5065\n",
      "Epoch 171/200, Loss: 0.3159, Test Loss: 0.4972\n",
      "Epoch 172/200, Loss: 0.3133, Test Loss: 0.4996\n",
      "Epoch 173/200, Loss: 0.3133, Test Loss: 0.5008\n",
      "Epoch 174/200, Loss: 0.3133, Test Loss: 0.5013\n",
      "Epoch 175/200, Loss: 0.3160, Test Loss: 0.4961\n",
      "Epoch 176/200, Loss: 0.3133, Test Loss: 0.4953\n",
      "Epoch 177/200, Loss: 0.3133, Test Loss: 0.4948\n",
      "Epoch 178/200, Loss: 0.3133, Test Loss: 0.4946\n",
      "Epoch 179/200, Loss: 0.3133, Test Loss: 0.4946\n",
      "Epoch 180/200, Loss: 0.3133, Test Loss: 0.4946\n",
      "Epoch 181/200, Loss: 0.3133, Test Loss: 0.4946\n",
      "Epoch 182/200, Loss: 0.3133, Test Loss: 0.4944\n",
      "Epoch 183/200, Loss: 0.3133, Test Loss: 0.4941\n",
      "Epoch 184/200, Loss: 0.3133, Test Loss: 0.4940\n",
      "Epoch 185/200, Loss: 0.3134, Test Loss: 0.4938\n",
      "Epoch 186/200, Loss: 0.3133, Test Loss: 0.4939\n",
      "Epoch 187/200, Loss: 0.3133, Test Loss: 0.4939\n",
      "Epoch 188/200, Loss: 0.3133, Test Loss: 0.4939\n",
      "Epoch 189/200, Loss: 0.3133, Test Loss: 0.4939\n",
      "Epoch 190/200, Loss: 0.3133, Test Loss: 0.4937\n",
      "Epoch 191/200, Loss: 0.3133, Test Loss: 0.4934\n",
      "Epoch 192/200, Loss: 0.3133, Test Loss: 0.4933\n",
      "Epoch 193/200, Loss: 0.3133, Test Loss: 0.4933\n",
      "Epoch 194/200, Loss: 0.3133, Test Loss: 0.4933\n",
      "Epoch 195/200, Loss: 0.3133, Test Loss: 0.4933\n",
      "Epoch 196/200, Loss: 0.3133, Test Loss: 0.4932\n",
      "Epoch 197/200, Loss: 0.3133, Test Loss: 0.4934\n",
      "Epoch 198/200, Loss: 0.3158, Test Loss: 0.4936\n",
      "Epoch 199/200, Loss: 0.3133, Test Loss: 0.4939\n",
      "Epoch 200/200, Loss: 0.3133, Test Loss: 0.4939\n"
     ]
    }
   ],
   "source": [
    "## INSERT CODE BELOW\n",
    "model = EEGCNNwithDropout(input_channels, input_timepoints, num_classes, dropout=0.2)\n",
    "\n",
    "## DO NOT MODIFY THE 3 LINES BELOW\n",
    "criterion = nn.CrossEntropyLoss()\n",
    "optimizer = optim.Adam(model.parameters(), lr=0.001)\n",
    "train_losses, test_losses = run_train_loop(model, criterion, optimizer, 200)"
   ],
   "metadata": {
    "collapsed": false
   }
  },
  {
   "cell_type": "markdown",
   "source": [
    "## Task 5: Plot the training and test loss (overlaid) on the vertical axis and the epoch number on the horizontal axis"
   ],
   "metadata": {
    "collapsed": false
   }
  },
  {
   "cell_type": "code",
   "execution_count": 11,
   "outputs": [
    {
     "data": {
      "text/plain": "[<matplotlib.lines.Line2D at 0x32b369a20>]"
     },
     "execution_count": 11,
     "metadata": {},
     "output_type": "execute_result"
    },
    {
     "data": {
      "text/plain": "<Figure size 640x480 with 1 Axes>",
      "image/png": "[encoded data removed]"
     },
     "metadata": {},
     "output_type": "display_data"
    }
   ],
   "source": [
    "plt.plot(train_losses, label='Train Loss')\n",
    "plt.plot(test_losses, label='Test Loss')"
   ],
   "metadata": {
    "collapsed": false
   }
  },
  {
   "cell_type": "markdown",
   "source": [
    "## Task 6: Compute the minimum train and test loss achieved during training and report them"
   ],
   "metadata": {
    "collapsed": false
   }
  },
  {
   "cell_type": "code",
   "execution_count": 12,
   "outputs": [
    {
     "data": {
      "text/plain": "(0.313261682788531, 0.45753203829129535)"
     },
     "execution_count": 12,
     "metadata": {},
     "output_type": "execute_result"
    }
   ],
   "source": [
    "np.min(train_losses), np.min(test_losses)"
   ],
   "metadata": {
    "collapsed": false
   }
  },
  {
   "cell_type": "markdown",
   "source": [
    "## Task 7: Train the EEGCNNwithDropout model with a dropout rate of 0.5 for 200 epochs"
   ],
   "metadata": {
    "collapsed": false
   }
  },
  {
   "cell_type": "code",
   "execution_count": 13,
   "outputs": [
    {
     "name": "stdout",
     "output_type": "stream",
     "text": [
      "Epoch 1/200, Loss: 0.7102, Test Loss: 0.6736\n",
      "Epoch 2/200, Loss: 0.6923, Test Loss: 0.6612\n",
      "Epoch 3/200, Loss: 0.6378, Test Loss: 0.6262\n",
      "Epoch 4/200, Loss: 0.6078, Test Loss: 0.6035\n",
      "Epoch 5/200, Loss: 0.5567, Test Loss: 0.5986\n",
      "Epoch 6/200, Loss: 0.5113, Test Loss: 0.5753\n",
      "Epoch 7/200, Loss: 0.4955, Test Loss: 0.6040\n",
      "Epoch 8/200, Loss: 0.4530, Test Loss: 0.5774\n",
      "Epoch 9/200, Loss: 0.4378, Test Loss: 0.5741\n",
      "Epoch 10/200, Loss: 0.4392, Test Loss: 0.5666\n",
      "Epoch 11/200, Loss: 0.4158, Test Loss: 0.5264\n",
      "Epoch 12/200, Loss: 0.4242, Test Loss: 0.6035\n",
      "Epoch 13/200, Loss: 0.4166, Test Loss: 0.5485\n",
      "Epoch 14/200, Loss: 0.4051, Test Loss: 0.5567\n",
      "Epoch 15/200, Loss: 0.3860, Test Loss: 0.5659\n",
      "Epoch 16/200, Loss: 0.3711, Test Loss: 0.5607\n",
      "Epoch 17/200, Loss: 0.3768, Test Loss: 0.5885\n",
      "Epoch 18/200, Loss: 0.3657, Test Loss: 0.5513\n",
      "Epoch 19/200, Loss: 0.3662, Test Loss: 0.5270\n",
      "Epoch 20/200, Loss: 0.3673, Test Loss: 0.5409\n",
      "Epoch 21/200, Loss: 0.3686, Test Loss: 0.5235\n",
      "Epoch 22/200, Loss: 0.3755, Test Loss: 0.5562\n",
      "Epoch 23/200, Loss: 0.3764, Test Loss: 0.5409\n",
      "Epoch 24/200, Loss: 0.3752, Test Loss: 0.5468\n",
      "Epoch 25/200, Loss: 0.3606, Test Loss: 0.5255\n",
      "Epoch 26/200, Loss: 0.3734, Test Loss: 0.5152\n",
      "Epoch 27/200, Loss: 0.3646, Test Loss: 0.5090\n",
      "Epoch 28/200, Loss: 0.3837, Test Loss: 0.5519\n",
      "Epoch 29/200, Loss: 0.3601, Test Loss: 0.5415\n",
      "Epoch 30/200, Loss: 0.3482, Test Loss: 0.5421\n",
      "Epoch 31/200, Loss: 0.3639, Test Loss: 0.5501\n",
      "Epoch 32/200, Loss: 0.3593, Test Loss: 0.5426\n",
      "Epoch 33/200, Loss: 0.3424, Test Loss: 0.5572\n",
      "Epoch 34/200, Loss: 0.3425, Test Loss: 0.5853\n",
      "Epoch 35/200, Loss: 0.3642, Test Loss: 0.5459\n",
      "Epoch 36/200, Loss: 0.3494, Test Loss: 0.5119\n",
      "Epoch 37/200, Loss: 0.3449, Test Loss: 0.5347\n",
      "Epoch 38/200, Loss: 0.3483, Test Loss: 0.5222\n",
      "Epoch 39/200, Loss: 0.3405, Test Loss: 0.5330\n",
      "Epoch 40/200, Loss: 0.3414, Test Loss: 0.5226\n",
      "Epoch 41/200, Loss: 0.3352, Test Loss: 0.5037\n",
      "Epoch 42/200, Loss: 0.3508, Test Loss: 0.5483\n",
      "Epoch 43/200, Loss: 0.3425, Test Loss: 0.5344\n",
      "Epoch 44/200, Loss: 0.3300, Test Loss: 0.5235\n",
      "Epoch 45/200, Loss: 0.3395, Test Loss: 0.5478\n",
      "Epoch 46/200, Loss: 0.3282, Test Loss: 0.5250\n",
      "Epoch 47/200, Loss: 0.3364, Test Loss: 0.5018\n",
      "Epoch 48/200, Loss: 0.3281, Test Loss: 0.5008\n",
      "Epoch 49/200, Loss: 0.3275, Test Loss: 0.4921\n",
      "Epoch 50/200, Loss: 0.3223, Test Loss: 0.5073\n",
      "Epoch 51/200, Loss: 0.3324, Test Loss: 0.5282\n",
      "Epoch 52/200, Loss: 0.3497, Test Loss: 0.5432\n",
      "Epoch 53/200, Loss: 0.3403, Test Loss: 0.5213\n",
      "Epoch 54/200, Loss: 0.3439, Test Loss: 0.5099\n",
      "Epoch 55/200, Loss: 0.3332, Test Loss: 0.5096\n",
      "Epoch 56/200, Loss: 0.3324, Test Loss: 0.5193\n",
      "Epoch 57/200, Loss: 0.3291, Test Loss: 0.5050\n",
      "Epoch 58/200, Loss: 0.3300, Test Loss: 0.4860\n",
      "Epoch 59/200, Loss: 0.3198, Test Loss: 0.4879\n",
      "Epoch 60/200, Loss: 0.3217, Test Loss: 0.4908\n",
      "Epoch 61/200, Loss: 0.3284, Test Loss: 0.5055\n",
      "Epoch 62/200, Loss: 0.3174, Test Loss: 0.5046\n",
      "Epoch 63/200, Loss: 0.3247, Test Loss: 0.4952\n",
      "Epoch 64/200, Loss: 0.3207, Test Loss: 0.4793\n",
      "Epoch 65/200, Loss: 0.3186, Test Loss: 0.4865\n",
      "Epoch 66/200, Loss: 0.3194, Test Loss: 0.4845\n",
      "Epoch 67/200, Loss: 0.3180, Test Loss: 0.4767\n",
      "Epoch 68/200, Loss: 0.3168, Test Loss: 0.4911\n",
      "Epoch 69/200, Loss: 0.3180, Test Loss: 0.5087\n",
      "Epoch 70/200, Loss: 0.3228, Test Loss: 0.5093\n",
      "Epoch 71/200, Loss: 0.3170, Test Loss: 0.4785\n",
      "Epoch 72/200, Loss: 0.3192, Test Loss: 0.4887\n",
      "Epoch 73/200, Loss: 0.3179, Test Loss: 0.5033\n",
      "Epoch 74/200, Loss: 0.3236, Test Loss: 0.4817\n",
      "Epoch 75/200, Loss: 0.3178, Test Loss: 0.4767\n",
      "Epoch 76/200, Loss: 0.3206, Test Loss: 0.4988\n",
      "Epoch 77/200, Loss: 0.3246, Test Loss: 0.4927\n",
      "Epoch 78/200, Loss: 0.3149, Test Loss: 0.4814\n",
      "Epoch 79/200, Loss: 0.3179, Test Loss: 0.4836\n",
      "Epoch 80/200, Loss: 0.3170, Test Loss: 0.5126\n",
      "Epoch 81/200, Loss: 0.3164, Test Loss: 0.5047\n",
      "Epoch 82/200, Loss: 0.3245, Test Loss: 0.5393\n",
      "Epoch 83/200, Loss: 0.3266, Test Loss: 0.5541\n",
      "Epoch 84/200, Loss: 0.3679, Test Loss: 0.5913\n",
      "Epoch 85/200, Loss: 0.3862, Test Loss: 0.5537\n",
      "Epoch 86/200, Loss: 0.3503, Test Loss: 0.5638\n",
      "Epoch 87/200, Loss: 0.3854, Test Loss: 0.5559\n",
      "Epoch 88/200, Loss: 0.3604, Test Loss: 0.5686\n",
      "Epoch 89/200, Loss: 0.3461, Test Loss: 0.5542\n",
      "Epoch 90/200, Loss: 0.3495, Test Loss: 0.5401\n",
      "Epoch 91/200, Loss: 0.3507, Test Loss: 0.5615\n",
      "Epoch 92/200, Loss: 0.3283, Test Loss: 0.5606\n",
      "Epoch 93/200, Loss: 0.3358, Test Loss: 0.5357\n",
      "Epoch 94/200, Loss: 0.3429, Test Loss: 0.5118\n",
      "Epoch 95/200, Loss: 0.3200, Test Loss: 0.5019\n",
      "Epoch 96/200, Loss: 0.3213, Test Loss: 0.5039\n",
      "Epoch 97/200, Loss: 0.3309, Test Loss: 0.4680\n",
      "Epoch 98/200, Loss: 0.3282, Test Loss: 0.5496\n",
      "Epoch 99/200, Loss: 0.3341, Test Loss: 0.5273\n",
      "Epoch 100/200, Loss: 0.3416, Test Loss: 0.5700\n",
      "Epoch 101/200, Loss: 0.3318, Test Loss: 0.5087\n",
      "Epoch 102/200, Loss: 0.3247, Test Loss: 0.4517\n",
      "Epoch 103/200, Loss: 0.3245, Test Loss: 0.4603\n",
      "Epoch 104/200, Loss: 0.3277, Test Loss: 0.5062\n",
      "Epoch 105/200, Loss: 0.3351, Test Loss: 0.4870\n",
      "Epoch 106/200, Loss: 0.3588, Test Loss: 0.5006\n",
      "Epoch 107/200, Loss: 0.3613, Test Loss: 0.5421\n",
      "Epoch 108/200, Loss: 0.3365, Test Loss: 0.4621\n",
      "Epoch 109/200, Loss: 0.3408, Test Loss: 0.4988\n",
      "Epoch 110/200, Loss: 0.3355, Test Loss: 0.5430\n",
      "Epoch 111/200, Loss: 0.3507, Test Loss: 0.4868\n",
      "Epoch 112/200, Loss: 0.3322, Test Loss: 0.4547\n",
      "Epoch 113/200, Loss: 0.3213, Test Loss: 0.4623\n",
      "Epoch 114/200, Loss: 0.3162, Test Loss: 0.4671\n",
      "Epoch 115/200, Loss: 0.3260, Test Loss: 0.5169\n",
      "Epoch 116/200, Loss: 0.3330, Test Loss: 0.5151\n",
      "Epoch 117/200, Loss: 0.3332, Test Loss: 0.4614\n",
      "Epoch 118/200, Loss: 0.3349, Test Loss: 0.4536\n",
      "Epoch 119/200, Loss: 0.3254, Test Loss: 0.4600\n",
      "Epoch 120/200, Loss: 0.3188, Test Loss: 0.4781\n",
      "Epoch 121/200, Loss: 0.3290, Test Loss: 0.4796\n",
      "Epoch 122/200, Loss: 0.3233, Test Loss: 0.4947\n",
      "Epoch 123/200, Loss: 0.3249, Test Loss: 0.5054\n",
      "Epoch 124/200, Loss: 0.3220, Test Loss: 0.5196\n",
      "Epoch 125/200, Loss: 0.3354, Test Loss: 0.5430\n",
      "Epoch 126/200, Loss: 0.3404, Test Loss: 0.5228\n",
      "Epoch 127/200, Loss: 0.3323, Test Loss: 0.4904\n",
      "Epoch 128/200, Loss: 0.3194, Test Loss: 0.4834\n",
      "Epoch 129/200, Loss: 0.3195, Test Loss: 0.4770\n",
      "Epoch 130/200, Loss: 0.3138, Test Loss: 0.4945\n",
      "Epoch 131/200, Loss: 0.3199, Test Loss: 0.4976\n",
      "Epoch 132/200, Loss: 0.3165, Test Loss: 0.4574\n",
      "Epoch 133/200, Loss: 0.3326, Test Loss: 0.4551\n",
      "Epoch 134/200, Loss: 0.3219, Test Loss: 0.4714\n",
      "Epoch 135/200, Loss: 0.3139, Test Loss: 0.4672\n",
      "Epoch 136/200, Loss: 0.3153, Test Loss: 0.4841\n",
      "Epoch 137/200, Loss: 0.3192, Test Loss: 0.5110\n",
      "Epoch 138/200, Loss: 0.3282, Test Loss: 0.4764\n",
      "Epoch 139/200, Loss: 0.3365, Test Loss: 0.4959\n",
      "Epoch 140/200, Loss: 0.3347, Test Loss: 0.4988\n",
      "Epoch 141/200, Loss: 0.3317, Test Loss: 0.4589\n",
      "Epoch 142/200, Loss: 0.3154, Test Loss: 0.5038\n",
      "Epoch 143/200, Loss: 0.3297, Test Loss: 0.5177\n",
      "Epoch 144/200, Loss: 0.3538, Test Loss: 0.4682\n",
      "Epoch 145/200, Loss: 0.3278, Test Loss: 0.5237\n",
      "Epoch 146/200, Loss: 0.3209, Test Loss: 0.4634\n",
      "Epoch 147/200, Loss: 0.3293, Test Loss: 0.4936\n",
      "Epoch 148/200, Loss: 0.3445, Test Loss: 0.4819\n",
      "Epoch 149/200, Loss: 0.3252, Test Loss: 0.5139\n",
      "Epoch 150/200, Loss: 0.3236, Test Loss: 0.4972\n",
      "Epoch 151/200, Loss: 0.3216, Test Loss: 0.4544\n",
      "Epoch 152/200, Loss: 0.3381, Test Loss: 0.4447\n",
      "Epoch 153/200, Loss: 0.3186, Test Loss: 0.4927\n",
      "Epoch 154/200, Loss: 0.3367, Test Loss: 0.4526\n",
      "Epoch 155/200, Loss: 0.3279, Test Loss: 0.4714\n",
      "Epoch 156/200, Loss: 0.3187, Test Loss: 0.4717\n",
      "Epoch 157/200, Loss: 0.3210, Test Loss: 0.4704\n",
      "Epoch 158/200, Loss: 0.3181, Test Loss: 0.4560\n",
      "Epoch 159/200, Loss: 0.3197, Test Loss: 0.4509\n",
      "Epoch 160/200, Loss: 0.3183, Test Loss: 0.4502\n",
      "Epoch 161/200, Loss: 0.3222, Test Loss: 0.4510\n",
      "Epoch 162/200, Loss: 0.3230, Test Loss: 0.4715\n",
      "Epoch 163/200, Loss: 0.3222, Test Loss: 0.4533\n",
      "Epoch 164/200, Loss: 0.3222, Test Loss: 0.4537\n",
      "Epoch 165/200, Loss: 0.3221, Test Loss: 0.4681\n",
      "Epoch 166/200, Loss: 0.3236, Test Loss: 0.4648\n",
      "Epoch 167/200, Loss: 0.3291, Test Loss: 0.4620\n",
      "Epoch 168/200, Loss: 0.3388, Test Loss: 0.4695\n",
      "Epoch 169/200, Loss: 0.3365, Test Loss: 0.5386\n",
      "Epoch 170/200, Loss: 0.3429, Test Loss: 0.4712\n",
      "Epoch 171/200, Loss: 0.3600, Test Loss: 0.5124\n",
      "Epoch 172/200, Loss: 0.3663, Test Loss: 0.5489\n",
      "Epoch 173/200, Loss: 0.3626, Test Loss: 0.5000\n",
      "Epoch 174/200, Loss: 0.3515, Test Loss: 0.4757\n",
      "Epoch 175/200, Loss: 0.3444, Test Loss: 0.4645\n",
      "Epoch 176/200, Loss: 0.3276, Test Loss: 0.4651\n",
      "Epoch 177/200, Loss: 0.3333, Test Loss: 0.4985\n",
      "Epoch 178/200, Loss: 0.3386, Test Loss: 0.4660\n",
      "Epoch 179/200, Loss: 0.3359, Test Loss: 0.5454\n",
      "Epoch 180/200, Loss: 0.3535, Test Loss: 0.5077\n",
      "Epoch 181/200, Loss: 0.3366, Test Loss: 0.4961\n",
      "Epoch 182/200, Loss: 0.3423, Test Loss: 0.4459\n",
      "Epoch 183/200, Loss: 0.3253, Test Loss: 0.4910\n",
      "Epoch 184/200, Loss: 0.3284, Test Loss: 0.4700\n",
      "Epoch 185/200, Loss: 0.3321, Test Loss: 0.4775\n",
      "Epoch 186/200, Loss: 0.3293, Test Loss: 0.4589\n",
      "Epoch 187/200, Loss: 0.3148, Test Loss: 0.5372\n",
      "Epoch 188/200, Loss: 0.3359, Test Loss: 0.5421\n",
      "Epoch 189/200, Loss: 0.3414, Test Loss: 0.4704\n",
      "Epoch 190/200, Loss: 0.3233, Test Loss: 0.4464\n",
      "Epoch 191/200, Loss: 0.3262, Test Loss: 0.4382\n",
      "Epoch 192/200, Loss: 0.3276, Test Loss: 0.4429\n",
      "Epoch 193/200, Loss: 0.3135, Test Loss: 0.4954\n",
      "Epoch 194/200, Loss: 0.3147, Test Loss: 0.4954\n",
      "Epoch 195/200, Loss: 0.3172, Test Loss: 0.4690\n",
      "Epoch 196/200, Loss: 0.3213, Test Loss: 0.4857\n",
      "Epoch 197/200, Loss: 0.3197, Test Loss: 0.4900\n",
      "Epoch 198/200, Loss: 0.3188, Test Loss: 0.4855\n",
      "Epoch 199/200, Loss: 0.3259, Test Loss: 0.4716\n",
      "Epoch 200/200, Loss: 0.3314, Test Loss: 0.4695\n"
     ]
    }
   ],
   "source": [
    "## INSERT CODE BELOW\n",
    "model = EEGCNNwithDropout(input_channels, input_timepoints, num_classes, dropout=0.5)\n",
    "\n",
    "## DO NOT MODIFY THE 3 LINES BELOW\n",
    "criterion = nn.CrossEntropyLoss()\n",
    "optimizer = optim.Adam(model.parameters(), lr=0.001)\n",
    "train_losses, test_losses = run_train_loop(model, criterion, optimizer, 200)"
   ],
   "metadata": {
    "collapsed": false
   }
  },
  {
   "cell_type": "markdown",
   "source": [
    "## Task 8: Plot the training and test loss (overlaid) on the vertical axis and the epoch number on the horizontal axis"
   ],
   "metadata": {
    "collapsed": false
   }
  },
  {
   "cell_type": "code",
   "execution_count": 14,
   "outputs": [
    {
     "data": {
      "text/plain": "[<matplotlib.lines.Line2D at 0x32b482590>]"
     },
     "execution_count": 14,
     "metadata": {},
     "output_type": "execute_result"
    },
    {
     "data": {
      "text/plain": "<Figure size 640x480 with 1 Axes>",
      "image/png": "[encoded data removed]"
     },
     "metadata": {},
     "output_type": "display_data"
    }
   ],
   "source": [
    "plt.plot(train_losses, label='Train Loss')\n",
    "plt.plot(test_losses, label='Test Loss')"
   ],
   "metadata": {
    "collapsed": false
   }
  },
  {
   "cell_type": "markdown",
   "source": [
    "## Task 9: Compute the minimum train and test loss achieved during training and report them"
   ],
   "metadata": {
    "collapsed": false
   }
  },
  {
   "cell_type": "code",
   "execution_count": 15,
   "outputs": [
    {
     "data": {
      "text/plain": "(0.31353117028872174, 0.4382488528887431)"
     },
     "execution_count": 15,
     "metadata": {},
     "output_type": "execute_result"
    }
   ],
   "source": [
    "np.min(train_losses), np.min(test_losses)"
   ],
   "metadata": {
    "collapsed": false
   }
  },
  {
   "cell_type": "markdown",
   "source": [
    "## Task 10: Repeat Tasks 7-9 for a dropout rate of 0.8\n",
    "Report your observations. What do you notice about the train and test loss as the dropout rate increases?"
   ],
   "metadata": {
    "collapsed": false
   }
  },
  {
   "cell_type": "code",
   "execution_count": 16,
   "outputs": [
    {
     "name": "stdout",
     "output_type": "stream",
     "text": [
      "Epoch 1/200, Loss: 0.7664, Test Loss: 0.6842\n",
      "Epoch 2/200, Loss: 0.7691, Test Loss: 0.6860\n",
      "Epoch 3/200, Loss: 0.7412, Test Loss: 0.6938\n",
      "Epoch 4/200, Loss: 0.7559, Test Loss: 0.6868\n",
      "Epoch 5/200, Loss: 0.7441, Test Loss: 0.6788\n",
      "Epoch 6/200, Loss: 0.7076, Test Loss: 0.6554\n",
      "Epoch 7/200, Loss: 0.7499, Test Loss: 0.6659\n",
      "Epoch 8/200, Loss: 0.7060, Test Loss: 0.6788\n",
      "Epoch 9/200, Loss: 0.6839, Test Loss: 0.6615\n",
      "Epoch 10/200, Loss: 0.6530, Test Loss: 0.6560\n",
      "Epoch 11/200, Loss: 0.6621, Test Loss: 0.6738\n",
      "Epoch 12/200, Loss: 0.6494, Test Loss: 0.6672\n",
      "Epoch 13/200, Loss: 0.6367, Test Loss: 0.6359\n",
      "Epoch 14/200, Loss: 0.6157, Test Loss: 0.6364\n",
      "Epoch 15/200, Loss: 0.6025, Test Loss: 0.6311\n",
      "Epoch 16/200, Loss: 0.6012, Test Loss: 0.6301\n",
      "Epoch 17/200, Loss: 0.6079, Test Loss: 0.6070\n",
      "Epoch 18/200, Loss: 0.5887, Test Loss: 0.6146\n",
      "Epoch 19/200, Loss: 0.5572, Test Loss: 0.6084\n",
      "Epoch 20/200, Loss: 0.5721, Test Loss: 0.6047\n",
      "Epoch 21/200, Loss: 0.5525, Test Loss: 0.5992\n",
      "Epoch 22/200, Loss: 0.5389, Test Loss: 0.6001\n",
      "Epoch 23/200, Loss: 0.5334, Test Loss: 0.5553\n",
      "Epoch 24/200, Loss: 0.5070, Test Loss: 0.5590\n",
      "Epoch 25/200, Loss: 0.5012, Test Loss: 0.5462\n",
      "Epoch 26/200, Loss: 0.5220, Test Loss: 0.5436\n",
      "Epoch 27/200, Loss: 0.5170, Test Loss: 0.5479\n",
      "Epoch 28/200, Loss: 0.5086, Test Loss: 0.5418\n",
      "Epoch 29/200, Loss: 0.4940, Test Loss: 0.5276\n",
      "Epoch 30/200, Loss: 0.4731, Test Loss: 0.5605\n",
      "Epoch 31/200, Loss: 0.5011, Test Loss: 0.5627\n",
      "Epoch 32/200, Loss: 0.4979, Test Loss: 0.5255\n",
      "Epoch 33/200, Loss: 0.4703, Test Loss: 0.5466\n",
      "Epoch 34/200, Loss: 0.4584, Test Loss: 0.5481\n",
      "Epoch 35/200, Loss: 0.4485, Test Loss: 0.5604\n",
      "Epoch 36/200, Loss: 0.4479, Test Loss: 0.5276\n",
      "Epoch 37/200, Loss: 0.4327, Test Loss: 0.5068\n",
      "Epoch 38/200, Loss: 0.4504, Test Loss: 0.5208\n",
      "Epoch 39/200, Loss: 0.4377, Test Loss: 0.5377\n",
      "Epoch 40/200, Loss: 0.4428, Test Loss: 0.5122\n",
      "Epoch 41/200, Loss: 0.4180, Test Loss: 0.4748\n",
      "Epoch 42/200, Loss: 0.4111, Test Loss: 0.5133\n",
      "Epoch 43/200, Loss: 0.4108, Test Loss: 0.5345\n",
      "Epoch 44/200, Loss: 0.4249, Test Loss: 0.5179\n",
      "Epoch 45/200, Loss: 0.4076, Test Loss: 0.5057\n",
      "Epoch 46/200, Loss: 0.4112, Test Loss: 0.4897\n",
      "Epoch 47/200, Loss: 0.4061, Test Loss: 0.5504\n",
      "Epoch 48/200, Loss: 0.4341, Test Loss: 0.5559\n",
      "Epoch 49/200, Loss: 0.4094, Test Loss: 0.5203\n",
      "Epoch 50/200, Loss: 0.4159, Test Loss: 0.5094\n",
      "Epoch 51/200, Loss: 0.4000, Test Loss: 0.5127\n",
      "Epoch 52/200, Loss: 0.4105, Test Loss: 0.5569\n",
      "Epoch 53/200, Loss: 0.4285, Test Loss: 0.5149\n",
      "Epoch 54/200, Loss: 0.3968, Test Loss: 0.5461\n",
      "Epoch 55/200, Loss: 0.3936, Test Loss: 0.5277\n",
      "Epoch 56/200, Loss: 0.3948, Test Loss: 0.5246\n",
      "Epoch 57/200, Loss: 0.3920, Test Loss: 0.5648\n",
      "Epoch 58/200, Loss: 0.4202, Test Loss: 0.5676\n",
      "Epoch 59/200, Loss: 0.3882, Test Loss: 0.5307\n",
      "Epoch 60/200, Loss: 0.3890, Test Loss: 0.5154\n",
      "Epoch 61/200, Loss: 0.3832, Test Loss: 0.5162\n",
      "Epoch 62/200, Loss: 0.3890, Test Loss: 0.4911\n",
      "Epoch 63/200, Loss: 0.3897, Test Loss: 0.5179\n",
      "Epoch 64/200, Loss: 0.3816, Test Loss: 0.5200\n",
      "Epoch 65/200, Loss: 0.3835, Test Loss: 0.5066\n",
      "Epoch 66/200, Loss: 0.3913, Test Loss: 0.5537\n",
      "Epoch 67/200, Loss: 0.4319, Test Loss: 0.5182\n",
      "Epoch 68/200, Loss: 0.3984, Test Loss: 0.5167\n",
      "Epoch 69/200, Loss: 0.3961, Test Loss: 0.4982\n",
      "Epoch 70/200, Loss: 0.3749, Test Loss: 0.4757\n",
      "Epoch 71/200, Loss: 0.3944, Test Loss: 0.5056\n",
      "Epoch 72/200, Loss: 0.3893, Test Loss: 0.5374\n",
      "Epoch 73/200, Loss: 0.3861, Test Loss: 0.5310\n",
      "Epoch 74/200, Loss: 0.3914, Test Loss: 0.5033\n",
      "Epoch 75/200, Loss: 0.3624, Test Loss: 0.4998\n",
      "Epoch 76/200, Loss: 0.3880, Test Loss: 0.5008\n",
      "Epoch 77/200, Loss: 0.3897, Test Loss: 0.5200\n",
      "Epoch 78/200, Loss: 0.3716, Test Loss: 0.5309\n",
      "Epoch 79/200, Loss: 0.3754, Test Loss: 0.4900\n",
      "Epoch 80/200, Loss: 0.3843, Test Loss: 0.4974\n",
      "Epoch 81/200, Loss: 0.3967, Test Loss: 0.4728\n",
      "Epoch 82/200, Loss: 0.3829, Test Loss: 0.4987\n",
      "Epoch 83/200, Loss: 0.3805, Test Loss: 0.5313\n",
      "Epoch 84/200, Loss: 0.3655, Test Loss: 0.4773\n",
      "Epoch 85/200, Loss: 0.3787, Test Loss: 0.4899\n",
      "Epoch 86/200, Loss: 0.3688, Test Loss: 0.5085\n",
      "Epoch 87/200, Loss: 0.3780, Test Loss: 0.5005\n",
      "Epoch 88/200, Loss: 0.3588, Test Loss: 0.4916\n",
      "Epoch 89/200, Loss: 0.3492, Test Loss: 0.5101\n",
      "Epoch 90/200, Loss: 0.3581, Test Loss: 0.4890\n",
      "Epoch 91/200, Loss: 0.3649, Test Loss: 0.4868\n",
      "Epoch 92/200, Loss: 0.3639, Test Loss: 0.5035\n",
      "Epoch 93/200, Loss: 0.3561, Test Loss: 0.5280\n",
      "Epoch 94/200, Loss: 0.3717, Test Loss: 0.5200\n",
      "Epoch 95/200, Loss: 0.3549, Test Loss: 0.5195\n",
      "Epoch 96/200, Loss: 0.3600, Test Loss: 0.5053\n",
      "Epoch 97/200, Loss: 0.3515, Test Loss: 0.4818\n",
      "Epoch 98/200, Loss: 0.3477, Test Loss: 0.4632\n",
      "Epoch 99/200, Loss: 0.3572, Test Loss: 0.4661\n",
      "Epoch 100/200, Loss: 0.3547, Test Loss: 0.4529\n",
      "Epoch 101/200, Loss: 0.3479, Test Loss: 0.4561\n",
      "Epoch 102/200, Loss: 0.3484, Test Loss: 0.4713\n",
      "Epoch 103/200, Loss: 0.3500, Test Loss: 0.4873\n",
      "Epoch 104/200, Loss: 0.3607, Test Loss: 0.5005\n",
      "Epoch 105/200, Loss: 0.3569, Test Loss: 0.4916\n",
      "Epoch 106/200, Loss: 0.3547, Test Loss: 0.4823\n",
      "Epoch 107/200, Loss: 0.3631, Test Loss: 0.5115\n",
      "Epoch 108/200, Loss: 0.3809, Test Loss: 0.5098\n",
      "Epoch 109/200, Loss: 0.3505, Test Loss: 0.5197\n",
      "Epoch 110/200, Loss: 0.3745, Test Loss: 0.5310\n",
      "Epoch 111/200, Loss: 0.4052, Test Loss: 0.5035\n",
      "Epoch 112/200, Loss: 0.3636, Test Loss: 0.4795\n",
      "Epoch 113/200, Loss: 0.3560, Test Loss: 0.4800\n",
      "Epoch 114/200, Loss: 0.3603, Test Loss: 0.4491\n",
      "Epoch 115/200, Loss: 0.3853, Test Loss: 0.4878\n",
      "Epoch 116/200, Loss: 0.3994, Test Loss: 0.4352\n",
      "Epoch 117/200, Loss: 0.3793, Test Loss: 0.4576\n",
      "Epoch 118/200, Loss: 0.3927, Test Loss: 0.4827\n",
      "Epoch 119/200, Loss: 0.4087, Test Loss: 0.4481\n",
      "Epoch 120/200, Loss: 0.3701, Test Loss: 0.4316\n",
      "Epoch 121/200, Loss: 0.3722, Test Loss: 0.4352\n",
      "Epoch 122/200, Loss: 0.3507, Test Loss: 0.4441\n",
      "Epoch 123/200, Loss: 0.3544, Test Loss: 0.4564\n",
      "Epoch 124/200, Loss: 0.3593, Test Loss: 0.4856\n",
      "Epoch 125/200, Loss: 0.3671, Test Loss: 0.5013\n",
      "Epoch 126/200, Loss: 0.3699, Test Loss: 0.4991\n",
      "Epoch 127/200, Loss: 0.3661, Test Loss: 0.4716\n",
      "Epoch 128/200, Loss: 0.3467, Test Loss: 0.4888\n",
      "Epoch 129/200, Loss: 0.3436, Test Loss: 0.4574\n",
      "Epoch 130/200, Loss: 0.3457, Test Loss: 0.4537\n",
      "Epoch 131/200, Loss: 0.3646, Test Loss: 0.4550\n",
      "Epoch 132/200, Loss: 0.3476, Test Loss: 0.4820\n",
      "Epoch 133/200, Loss: 0.3538, Test Loss: 0.4676\n",
      "Epoch 134/200, Loss: 0.3719, Test Loss: 0.4869\n",
      "Epoch 135/200, Loss: 0.3621, Test Loss: 0.4817\n",
      "Epoch 136/200, Loss: 0.3481, Test Loss: 0.5152\n",
      "Epoch 137/200, Loss: 0.3512, Test Loss: 0.4720\n",
      "Epoch 138/200, Loss: 0.3665, Test Loss: 0.4658\n",
      "Epoch 139/200, Loss: 0.3764, Test Loss: 0.4512\n",
      "Epoch 140/200, Loss: 0.3626, Test Loss: 0.4745\n",
      "Epoch 141/200, Loss: 0.3670, Test Loss: 0.5016\n",
      "Epoch 142/200, Loss: 0.3681, Test Loss: 0.4938\n",
      "Epoch 143/200, Loss: 0.3605, Test Loss: 0.4611\n",
      "Epoch 144/200, Loss: 0.3616, Test Loss: 0.4751\n",
      "Epoch 145/200, Loss: 0.3613, Test Loss: 0.4817\n",
      "Epoch 146/200, Loss: 0.3499, Test Loss: 0.4690\n",
      "Epoch 147/200, Loss: 0.3472, Test Loss: 0.4504\n",
      "Epoch 148/200, Loss: 0.3746, Test Loss: 0.4617\n",
      "Epoch 149/200, Loss: 0.3719, Test Loss: 0.4442\n",
      "Epoch 150/200, Loss: 0.3802, Test Loss: 0.4508\n",
      "Epoch 151/200, Loss: 0.3510, Test Loss: 0.4469\n",
      "Epoch 152/200, Loss: 0.3557, Test Loss: 0.4323\n",
      "Epoch 153/200, Loss: 0.3401, Test Loss: 0.4933\n",
      "Epoch 154/200, Loss: 0.4031, Test Loss: 0.4856\n",
      "Epoch 155/200, Loss: 0.4332, Test Loss: 0.4746\n",
      "Epoch 156/200, Loss: 0.3922, Test Loss: 0.5010\n",
      "Epoch 157/200, Loss: 0.3955, Test Loss: 0.4903\n",
      "Epoch 158/200, Loss: 0.3760, Test Loss: 0.4284\n",
      "Epoch 159/200, Loss: 0.3657, Test Loss: 0.4300\n",
      "Epoch 160/200, Loss: 0.3565, Test Loss: 0.4411\n",
      "Epoch 161/200, Loss: 0.3566, Test Loss: 0.4410\n",
      "Epoch 162/200, Loss: 0.3951, Test Loss: 0.4245\n",
      "Epoch 163/200, Loss: 0.3871, Test Loss: 0.4416\n",
      "Epoch 164/200, Loss: 0.3732, Test Loss: 0.4548\n",
      "Epoch 165/200, Loss: 0.3798, Test Loss: 0.4394\n",
      "Epoch 166/200, Loss: 0.3527, Test Loss: 0.4364\n",
      "Epoch 167/200, Loss: 0.3580, Test Loss: 0.4578\n",
      "Epoch 168/200, Loss: 0.3765, Test Loss: 0.4771\n",
      "Epoch 169/200, Loss: 0.3551, Test Loss: 0.4728\n",
      "Epoch 170/200, Loss: 0.3525, Test Loss: 0.4610\n",
      "Epoch 171/200, Loss: 0.3543, Test Loss: 0.4609\n",
      "Epoch 172/200, Loss: 0.3541, Test Loss: 0.4601\n",
      "Epoch 173/200, Loss: 0.3563, Test Loss: 0.4636\n",
      "Epoch 174/200, Loss: 0.3552, Test Loss: 0.5044\n",
      "Epoch 175/200, Loss: 0.3628, Test Loss: 0.5145\n",
      "Epoch 176/200, Loss: 0.3437, Test Loss: 0.5428\n",
      "Epoch 177/200, Loss: 0.3640, Test Loss: 0.5240\n",
      "Epoch 178/200, Loss: 0.3569, Test Loss: 0.5242\n",
      "Epoch 179/200, Loss: 0.3481, Test Loss: 0.5169\n",
      "Epoch 180/200, Loss: 0.3538, Test Loss: 0.4909\n",
      "Epoch 181/200, Loss: 0.3457, Test Loss: 0.4536\n",
      "Epoch 182/200, Loss: 0.3395, Test Loss: 0.5271\n",
      "Epoch 183/200, Loss: 0.4465, Test Loss: 0.5793\n",
      "Epoch 184/200, Loss: 0.3800, Test Loss: 0.5179\n",
      "Epoch 185/200, Loss: 0.3856, Test Loss: 0.5169\n",
      "Epoch 186/200, Loss: 0.3682, Test Loss: 0.4724\n",
      "Epoch 187/200, Loss: 0.3521, Test Loss: 0.4770\n",
      "Epoch 188/200, Loss: 0.3634, Test Loss: 0.4856\n",
      "Epoch 189/200, Loss: 0.3679, Test Loss: 0.4678\n",
      "Epoch 190/200, Loss: 0.3578, Test Loss: 0.4966\n",
      "Epoch 191/200, Loss: 0.3813, Test Loss: 0.4820\n",
      "Epoch 192/200, Loss: 0.3606, Test Loss: 0.4603\n",
      "Epoch 193/200, Loss: 0.3738, Test Loss: 0.4904\n",
      "Epoch 194/200, Loss: 0.3561, Test Loss: 0.4722\n",
      "Epoch 195/200, Loss: 0.3527, Test Loss: 0.4644\n",
      "Epoch 196/200, Loss: 0.3565, Test Loss: 0.4602\n",
      "Epoch 197/200, Loss: 0.3546, Test Loss: 0.4923\n",
      "Epoch 198/200, Loss: 0.3564, Test Loss: 0.5133\n",
      "Epoch 199/200, Loss: 0.3555, Test Loss: 0.5112\n",
      "Epoch 200/200, Loss: 0.3443, Test Loss: 0.4972\n"
     ]
    }
   ],
   "source": [
    "model = EEGCNNwithDropout(input_channels, input_timepoints, num_classes, dropout=0.8)\n",
    "criterion = nn.CrossEntropyLoss()\n",
    "optimizer = optim.Adam(model.parameters(), lr=0.001)\n",
    "train_losses, test_losses = run_train_loop(model, criterion, optimizer, 200)"
   ],
   "metadata": {
    "collapsed": false
   }
  },
  {
   "cell_type": "code",
   "execution_count": 17,
   "outputs": [
    {
     "data": {
      "text/plain": "(0.33951646089553833, 0.42452441652615863)"
     },
     "execution_count": 17,
     "metadata": {},
     "output_type": "execute_result"
    }
   ],
   "source": [
    "np.min(train_losses), np.min(test_losses)"
   ],
   "metadata": {
    "collapsed": false
   }
  },
  {
   "cell_type": "code",
   "execution_count": 18,
   "outputs": [
    {
     "data": {
      "text/plain": "[<matplotlib.lines.Line2D at 0x32b51b2e0>]"
     },
     "execution_count": 18,
     "metadata": {},
     "output_type": "execute_result"
    },
    {
     "data": {
      "text/plain": "<Figure size 640x480 with 1 Axes>",
      "image/png": "[encoded data removed]"
     },
     "metadata": {},
     "output_type": "display_data"
    }
   ],
   "source": [
    "plt.plot(train_losses, label='Train Loss')\n",
    "plt.plot(test_losses, label='Test Loss')"
   ],
   "metadata": {
    "collapsed": false
   }
  }
 ],
 "metadata": {
  "kernelspec": {
   "display_name": "Python 3",
   "language": "python",
   "name": "python3"
  },
  "language_info": {
   "codemirror_mode": {
    "name": "ipython",
    "version": 2
   },
   "file_extension": ".py",
   "mimetype": "text/x-python",
   "name": "python",
   "nbconvert_exporter": "python",
   "pygments_lexer": "ipython2",
   "version": "2.7.6"
  }
 },
 "nbformat": 4,
 "nbformat_minor": 0
}
