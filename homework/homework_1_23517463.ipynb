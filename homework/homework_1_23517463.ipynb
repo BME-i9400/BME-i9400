{
 "cells": [
  {
   "cell_type": "markdown",
   "id": "fdb01900d19e6b5a",
   "metadata": {},
   "source": [
    "## BME i9400\n",
    "## Fall 2024\n",
    "### Homework 1: The Monty Hall Problem"
   ]
  },
  {
   "cell_type": "markdown",
   "id": "50c3b8c2de5fca28",
   "metadata": {},
   "source": [
    "** Due date: Monday, September 30, 2024, 11:59:59.999 PM EST **\n",
    "\n"
   ]
  },
  {
   "cell_type": "markdown",
   "id": "530e3b122b4bf35c",
   "metadata": {},
   "source": [
    "You are a contestant on a game show hosted by Monty Hall. In the game show, there are 3 doors. Behind one of the doors is a Tesla Cybertruck. Behind the other two is a goat (i.e., opening each of the other two doors reveals a goat). The object of the game is to successfully choose the door holding the Tesla Cybertruck -- regardless of how much you may love goats or dislike Tesla Cybertrucks. \n",
    " \n",
    "Now imagine that you randomly choose one of the doors. Mr. Hall then shows you one of the other two doors, revealing a goat. He then offers you the chance to switch your initial guess.\n",
    " \n",
    "The objective of this assignment is to determine whether you should switch your guess.\n",
    " \n",
    "### Part 1. Analytical Solution \t\n",
    "By using the laws of probability and following the rules of the game, derive the following probabilities:\n",
    "\n",
    "a. \tP(win a Cybertruck | switch your guess)\n",
    "\n",
    "b. \tP(win a Cybertruck | do not switch your guess)\n",
    " \n",
    "Based on your answers, should you switch your guess?\n",
    "\n",
    "** ENTER YOUR ANSWER HERE IN MARKDOWN, IDEALLY USING LATEX NOTATION WHICH IS SUPPORTED BY JUPYTER NOTEBOOKS. **\n"
   ]
  },
  {
   "cell_type": "markdown",
   "id": "01f24232-a21f-4cd0-9587-acf97a5081dc",
   "metadata": {},
   "source": [
    "P(Car behind any door) = $\\frac{1}{3}$\n",
    "\n",
    "If you choose door 1:\n",
    "\n",
    "P(Monty opens door 2 | Car is behind door 1) = $\\frac{1}{2}$ \n",
    "\n",
    "P(Monty opens door 2 | Car is behind door 2) = 0 \n",
    "\n",
    "P(Monty opens door 2 | Car is behind door 3) = 1 \n",
    "\n",
    "__________________________________________________________________________________________________________________________________________________\n",
    "P(win a Cybertruck | switch your guess) = $\\frac{{1} \\centerdot \\frac{1}{3}}{\\frac{1}{2} \\centerdot \\frac{1}{3} + {0} \\centerdot \\frac{1}{3} + {1} \\centerdot \\frac{1}{3}}$\n",
    "\n",
    "P(win a Cybertruck | switch your guess) = $\\frac{\\frac{1}{3}}{\\frac{1}{6} + {0} + \\frac{1}{3}}$\n",
    "\n",
    "P(win a Cybertruck | switch your guess) = $\\frac{\\frac{1}{3}}{\\frac{1}{2}}$\n",
    "\n",
    "P(win a Cybertruck | switch your guess) = $\\frac{2}{3}$\n",
    "\n",
    "_______________________________________________________________________________________________________________________________________________\n",
    "\n",
    "P(win a Cybertruck | do not switch your guess) = $\\frac{\\frac{1}{2} \\centerdot \\frac{1}{3}}{\\frac{1}{2} \\centerdot \\frac{1}{3} + {0} \\centerdot \\frac{1}{3} + {1} \\centerdot \\frac{1}{3}}$\n",
    "\n",
    "P(win a Cybertruck | do not switch your guess) = $\\frac{\\frac{1}{6}}{\\frac{1}{6} + {0} + \\frac{1}{3}}$\n",
    "\n",
    "P(win a Cybertruck | do not switch your guess) = $\\frac{\\frac{1}{6}}{\\frac{1}{2}}$\n",
    "\n",
    "P(win a Cybertruck | do not switch your guess) = $\\frac{1}{3}$\n",
    "___________________________________________________________________________________________________________________________________________________\n",
    "Yes you should switch your guess"
   ]
  },
  {
   "cell_type": "markdown",
   "id": "bd394e7488288c5d",
   "metadata": {},
   "source": [
    "## Part 2. Simulation\n",
    "\n",
    "Simulate the problem with Python code by repeating the game 10,000 times with the strategy to ALWAYS switch, and then again 10,000 times with the strategy to NEVER switch. In each case, count the number of Cybertrucks won in 10,000 runs. Based on the results of your simulation, should you switch your guess? How well do your empirical estimates compare to your values obtained analytically in 1?\n"
   ]
  },
  {
   "cell_type": "code",
   "execution_count": 93,
   "id": "3908db892590192c",
   "metadata": {
    "ExecuteTime": {
     "end_time": "2024-09-19T02:24:28.905152Z",
     "start_time": "2024-09-19T02:24:28.900017Z"
    }
   },
   "outputs": [
    {
     "name": "stdout",
     "output_type": "stream",
     "text": [
      "Total wins: 3273\n"
     ]
    }
   ],
   "source": [
    "import numpy as np\n",
    "\n",
    "# simulate your strategy: switch or hold\n",
    "strategy = 0 # set to 0 if you want to always hold\n",
    "             # set to 1 if you want to always switch\n",
    "\n",
    "# create function to simulate the game\n",
    "def simulation():\n",
    "    wins = 0 # initialize wins\n",
    "    for i in range(10000): # number of games to simulate\n",
    "        final_guess = 0 # initialize final guess\n",
    "        tesla = np.random.randint(1,4) # tesla location\n",
    "        guess = np.random.randint(1,4) # your guess\n",
    "        \n",
    "        # simulate starting conditions \n",
    "        if tesla == 1:\n",
    "            possible_doors = np.setdiff1d([2,3], guess)    \n",
    "        elif tesla == 2:\n",
    "            possible_doors = np.setdiff1d([1,3], guess)\n",
    "        else:\n",
    "            possible_doors = np.setdiff1d([1,2], guess)\n",
    "        \n",
    "        # Monty's action\n",
    "        monty = np.random.choice(possible_doors)\n",
    "        \n",
    "        # code to implement strategy\n",
    "        if strategy == 0:\n",
    "            final_guess = guess # keep initial guess\n",
    "            if final_guess == tesla:\n",
    "                wins += 1 # increment wins\n",
    "        elif strategy == 1:\n",
    "            doors_array = np.array([1, 2, 3]) # array of doors\n",
    "            master_array = np.array([monty, guess]) # array of monty's door and guess\n",
    "            final_guess = int(np.setdiff1d(doors_array, master_array)) # by removing the guess and monty's door, we are left with the final guess\n",
    "            if final_guess == tesla:\n",
    "                wins += 1\n",
    "        else:\n",
    "            print(\"Strategy value invalid, please set to 0 or 1.\") \n",
    "            return None\n",
    "    return wins\n",
    "\n",
    "total_wins = simulation()\n",
    "if total_wins is not None:\n",
    "    print(f'Total wins: {total_wins}')"
   ]
  },
  {
   "cell_type": "markdown",
   "id": "17301c078634055",
   "metadata": {},
   "source": [
    "\n"
   ]
  },
  {
   "cell_type": "markdown",
   "id": "4c3d931b219ac649",
   "metadata": {},
   "source": [
    "## Deliverables:\n",
    "Submit an iPython notebook titled \"homework_1_EMPLID.ipynb\" that contains your solutions to the above problems. Make sure to include all relevant code and output in the notebook. \n",
    "\n",
    "Homework 1 must be submitted by committing and pushing your notebook to this repository. The file should be named \"homework_1_EMPLID.ipynb\" and the destination address must be [/BME-i9400/homework/homework_1_submissions/](https://github.com/dmochow/BME-i9400/tree/main/homework/homework_1_submissions)"
   ]
  },
  {
   "cell_type": "code",
   "execution_count": null,
   "id": "5a4e86aff39d0cb8",
   "metadata": {},
   "outputs": [],
   "source": ""
  }
 ],
 "metadata": {
  "kernelspec": {
   "display_name": "Python 3 (ipykernel)",
   "language": "python",
   "name": "python3"
  },
  "language_info": {
   "codemirror_mode": {
    "name": "ipython",
    "version": 3
   },
   "file_extension": ".py",
   "mimetype": "text/x-python",
   "name": "python",
   "nbconvert_exporter": "python",
   "pygments_lexer": "ipython3",
   "version": "3.12.4"
  }
 },
 "nbformat": 4,
 "nbformat_minor": 5
}
