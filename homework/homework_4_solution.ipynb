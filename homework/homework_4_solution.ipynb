{
 "cells": [
  {
   "metadata": {
    "ExecuteTime": {
     "end_time": "2024-11-04T18:34:52.314001Z",
     "start_time": "2024-11-04T18:34:51.647802Z"
    }
   },
   "cell_type": "code",
   "source": [
    "import pandas as pd\n",
    "import numpy as np\n",
    "from sklearn.linear_model import LogisticRegression\n",
    "from sklearn.metrics import accuracy_score, roc_auc_score, average_precision_score\n",
    "from sklearn.model_selection import StratifiedKFold"
   ],
   "id": "da66d1fc1d9b1e04",
   "outputs": [],
   "execution_count": 1
  },
  {
   "metadata": {},
   "cell_type": "markdown",
   "source": "### Set the random seed",
   "id": "f250309267459d66"
  },
  {
   "metadata": {
    "ExecuteTime": {
     "end_time": "2024-11-04T18:43:20.181084Z",
     "start_time": "2024-11-04T18:43:20.178241Z"
    }
   },
   "cell_type": "code",
   "source": [
    "## DO NOT MODIFY THIS CELL\n",
    "np.random.seed(42)"
   ],
   "id": "53cc836374ec343",
   "outputs": [],
   "execution_count": 54
  },
  {
   "metadata": {},
   "cell_type": "markdown",
   "source": "### Load the data",
   "id": "2c52ae0010f2fa1b"
  },
  {
   "metadata": {
    "ExecuteTime": {
     "end_time": "2024-11-04T18:43:21.302583Z",
     "start_time": "2024-11-04T18:43:21.295694Z"
    }
   },
   "cell_type": "code",
   "source": [
    "## DO NOT MODIFY THIS CELL\n",
    "df = pd.read_csv('parkinsons.csv')\n",
    "\n",
    "# keep only every second row\n",
    "#df = df.iloc[::2]\n",
    "\n",
    "labels = df[\"status\"].values\n",
    "features = df.drop(columns=[\"status\", \"name\"]).values\n",
    "features.shape, labels.shape"
   ],
   "id": "a519a5858bfe2a6",
   "outputs": [
    {
     "data": {
      "text/plain": [
       "((195, 22), (195,))"
      ]
     },
     "execution_count": 55,
     "metadata": {},
     "output_type": "execute_result"
    }
   ],
   "execution_count": 55
  },
  {
   "metadata": {},
   "cell_type": "markdown",
   "source": "### Create an instance of the StratifiedKFold class with 5 folds",
   "id": "c2fc0a50d14adbd9"
  },
  {
   "metadata": {
    "ExecuteTime": {
     "end_time": "2024-11-04T18:43:23.022656Z",
     "start_time": "2024-11-04T18:43:23.019276Z"
    }
   },
   "cell_type": "code",
   "source": [
    "## DO NOT MODIFY THIS CELL\n",
    "skf = StratifiedKFold(n_splits=5)"
   ],
   "id": "8c611a46d69fa289",
   "outputs": [],
   "execution_count": 56
  },
  {
   "metadata": {},
   "cell_type": "markdown",
   "source": [
    "### Task 1 \n",
    "**Evaluate a logistic regression model on this dataset using 5-fold stratified cross-validation.**\n",
    "- You should use the model object created in the above cell\n",
    "- Do not regularize the classifier!\n",
    "- Use a value for ```max_iter``` of 10000 and disregard any convergence warnings\n",
    "- For each of the five folds, compute the area under the ROC curve and the average precision, storing each of them in a list or numpy array\n",
    "- Report the average area under the ROC curve and the average average precision across the five folds"
   ],
   "id": "8d0035edb6a0aa77"
  },
  {
   "metadata": {
    "ExecuteTime": {
     "end_time": "2024-11-04T18:43:26.273097Z",
     "start_time": "2024-11-04T18:43:25.028441Z"
    }
   },
   "cell_type": "code",
   "source": [
    "rocs = []\n",
    "prcs = []\n",
    "for train_index, test_index in skf.split(features, labels):\n",
    "    X_train, X_test = features[train_index], features[test_index]\n",
    "    y_train, y_test = labels[train_index], labels[test_index]\n",
    "    model = LogisticRegression(max_iter = 10000, penalty = None)\n",
    "    model.fit(X_train, y_train)\n",
    "    y_pred = model.predict(X_test)\n",
    "    rocs.append(roc_auc_score(y_test, y_pred))\n",
    "    prcs.append(average_precision_score(y_test, y_pred))"
   ],
   "id": "e14b23f3e48402e3",
   "outputs": [
    {
     "name": "stderr",
     "output_type": "stream",
     "text": [
      "/opt/miniconda3/envs/teaching39/lib/python3.9/site-packages/sklearn/linear_model/_logistic.py:469: ConvergenceWarning: lbfgs failed to converge (status=1):\n",
      "STOP: TOTAL NO. of ITERATIONS REACHED LIMIT.\n",
      "\n",
      "Increase the number of iterations (max_iter) or scale the data as shown in:\n",
      "    https://scikit-learn.org/stable/modules/preprocessing.html\n",
      "Please also refer to the documentation for alternative solver options:\n",
      "    https://scikit-learn.org/stable/modules/linear_model.html#logistic-regression\n",
      "  n_iter_i = _check_optimize_result(\n",
      "/opt/miniconda3/envs/teaching39/lib/python3.9/site-packages/sklearn/linear_model/_logistic.py:469: ConvergenceWarning: lbfgs failed to converge (status=1):\n",
      "STOP: TOTAL NO. of ITERATIONS REACHED LIMIT.\n",
      "\n",
      "Increase the number of iterations (max_iter) or scale the data as shown in:\n",
      "    https://scikit-learn.org/stable/modules/preprocessing.html\n",
      "Please also refer to the documentation for alternative solver options:\n",
      "    https://scikit-learn.org/stable/modules/linear_model.html#logistic-regression\n",
      "  n_iter_i = _check_optimize_result(\n"
     ]
    }
   ],
   "execution_count": 57
  },
  {
   "metadata": {
    "ExecuteTime": {
     "end_time": "2024-11-04T18:43:27.398048Z",
     "start_time": "2024-11-04T18:43:27.393814Z"
    }
   },
   "cell_type": "code",
   "source": "np.mean(rocs), np.mean(prcs)",
   "id": "25e2046893dfce97",
   "outputs": [
    {
     "data": {
      "text/plain": [
       "(np.float64(0.6986206896551723), np.float64(0.8449569673329407))"
      ]
     },
     "execution_count": 58,
     "metadata": {},
     "output_type": "execute_result"
    }
   ],
   "execution_count": 58
  },
  {
   "metadata": {},
   "cell_type": "markdown",
   "source": [
    "### Task 2\n",
    "**Repeat Task 1, but this time adding L2 to the logistic regression model.**\n",
    "- You must evaluate the following values for the hyperparameter ```C```\n",
    "    - C: 0.01, 0.1, 1, 10, 100, 1000, 10000\n",
    "- For each hyperparameter value, compute the average area under the ROC curve and the average average precision across the five folds, and store them in a list or numpy array\n",
    "- Use a sufficiently large value for the ```max_iter``` parameter of the LogisticRegression class to avoid convergence warnings.\n",
    "- Report the highest value of the average area under the ROC curve and the average average precision.\n",
    "- Also report the hyperparameters that yield the best average area under the ROC curve and the average average precision.\n",
    "- Create a plot with L2 hyperparameter on the x-axis, and average ROC and average precision on the y-axis (overlaid) -- use a logarithmic scale for the x-axis.\n"
   ],
   "id": "203a1d97a81a253f"
  },
  {
   "metadata": {
    "ExecuteTime": {
     "end_time": "2024-11-04T18:43:32.743974Z",
     "start_time": "2024-11-04T18:43:30.252235Z"
    }
   },
   "cell_type": "code",
   "source": [
    "cc = [0.001, 0.01, 0.1, 1, 10, 100, 1000, 10000]\n",
    "rocs = np.zeros(shape = (len(cc), 5))\n",
    "prcs = np.zeros(shape = (len(cc), 5))\n",
    "\n",
    "for ic, c in enumerate(cc):\n",
    "        for ifo, (train_index, test_index) in enumerate(skf.split(features, labels)):\n",
    "            X_train, X_test = features[train_index], features[test_index]\n",
    "            y_train, y_test = labels[train_index], labels[test_index]\n",
    "            model = LogisticRegression(max_iter = 10000, C=c, penalty='l2')\n",
    "            model.fit(X_train, y_train)\n",
    "            y_pred = model.predict(X_test)\n",
    "            rocs[ic, ifo] = roc_auc_score(y_test, y_pred)\n",
    "            prcs[ic, ifo] = average_precision_score(y_test, y_pred)"
   ],
   "id": "e316b7c88bf0d8e7",
   "outputs": [],
   "execution_count": 59
  },
  {
   "metadata": {
    "ExecuteTime": {
     "end_time": "2024-11-04T18:43:33.403123Z",
     "start_time": "2024-11-04T18:43:33.398154Z"
    }
   },
   "cell_type": "code",
   "source": [
    "mu_rocs = np.mean(rocs, axis=1)\n",
    "mu_prcs = np.mean(prcs, axis=1)\n",
    "\n",
    "mu_rocs, mu_prcs"
   ],
   "id": "ccdb7134c585de55",
   "outputs": [
    {
     "data": {
      "text/plain": [
       "(array([0.66819923, 0.65896552, 0.70252874, 0.71264368, 0.71931034,\n",
       "        0.70551724, 0.70206897, 0.69873563]),\n",
       " array([0.82608283, 0.82429359, 0.84673768, 0.85081706, 0.85319223,\n",
       "        0.84765141, 0.846328  , 0.84478954]))"
      ]
     },
     "execution_count": 60,
     "metadata": {},
     "output_type": "execute_result"
    }
   ],
   "execution_count": 60
  },
  {
   "metadata": {
    "ExecuteTime": {
     "end_time": "2024-11-04T18:43:36.810112Z",
     "start_time": "2024-11-04T18:43:36.727189Z"
    }
   },
   "cell_type": "code",
   "source": [
    "import matplotlib.pyplot as plt\n",
    "plt.plot(np.log(cc), mu_rocs, label = 'ROC')\n",
    "# plot the average precision on the right y-axis\n",
    "plt.plot(np.log(cc), mu_prcs, label = 'Precision')\n",
    "plt.xlabel('log(C)')\n",
    "plt.ylabel('ROC/Precision')\n",
    "plt.legend()"
   ],
   "id": "f8dd720c82d362cf",
   "outputs": [
    {
     "data": {
      "text/plain": [
       "<matplotlib.legend.Legend at 0x1502939d0>"
      ]
     },
     "execution_count": 61,
     "metadata": {},
     "output_type": "execute_result"
    },
    {
     "data": {
      "text/plain": [
       "<Figure size 640x480 with 1 Axes>"
      ],
      "image/png": "[encoded data removed]"
     },
     "metadata": {},
     "output_type": "display_data"
    }
   ],
   "execution_count": 61
  },
  {
   "metadata": {
    "ExecuteTime": {
     "end_time": "2024-11-04T18:43:14.267752Z",
     "start_time": "2024-11-04T18:43:14.263785Z"
    }
   },
   "cell_type": "code",
   "source": "np.max(mu_rocs), cc[np.argmax(mu_rocs)]\n",
   "id": "2987816528d1a31c",
   "outputs": [
    {
     "data": {
      "text/plain": [
       "(np.float64(0.7193103448275862), 10)"
      ]
     },
     "execution_count": 52,
     "metadata": {},
     "output_type": "execute_result"
    }
   ],
   "execution_count": 52
  },
  {
   "metadata": {
    "ExecuteTime": {
     "end_time": "2024-11-04T18:43:14.919634Z",
     "start_time": "2024-11-04T18:43:14.915930Z"
    }
   },
   "cell_type": "code",
   "source": "np.max(mu_prcs), cc[np.argmax(mu_prcs)]",
   "id": "4222be99dd8fbbc6",
   "outputs": [
    {
     "data": {
      "text/plain": [
       "(np.float64(0.8531922290252598), 10)"
      ]
     },
     "execution_count": 53,
     "metadata": {},
     "output_type": "execute_result"
    }
   ],
   "execution_count": 53
  },
  {
   "metadata": {},
   "cell_type": "code",
   "outputs": [],
   "execution_count": null,
   "source": "",
   "id": "e6775587f8563d73"
  }
 ],
 "metadata": {
  "kernelspec": {
   "display_name": "Python 3",
   "language": "python",
   "name": "python3"
  },
  "language_info": {
   "codemirror_mode": {
    "name": "ipython",
    "version": 2
   },
   "file_extension": ".py",
   "mimetype": "text/x-python",
   "name": "python",
   "nbconvert_exporter": "python",
   "pygments_lexer": "ipython2",
   "version": "2.7.6"
  }
 },
 "nbformat": 4,
 "nbformat_minor": 5
}
