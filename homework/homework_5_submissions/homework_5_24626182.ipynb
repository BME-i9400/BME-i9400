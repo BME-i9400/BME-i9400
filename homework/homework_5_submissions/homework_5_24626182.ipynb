{
 "cells": [
  {
   "cell_type": "markdown",
   "source": [
    "## BME i9400\n",
    "## Fall 2024\n",
    "### Homework 5: Dropout regularization in MLPs and Convolutional Neural Networks\n",
    "\n",
    "**Due date: Wednesday, December 11th 2024, 11:59 PM EST**\n",
    "\n",
    "**Total points: 100**"
   ],
   "metadata": {
    "collapsed": false
   }
  },
  {
   "cell_type": "markdown",
   "source": [
    "## Instructions\n",
    "\n",
    "In this homework you will familiarize yourself with a type of regularization that is commonly used in deep learning models: *dropout*.\n",
    "\n",
    "Dropout is a regularization technique that aims to prevent overfitting by randomly “dropping out” (setting to zero) a subset of neurons and their connections during training. During each training iteration, a randomly selected subset of the neurons is temporarily removed from the network. By removing neurons, dropout forces the network to not rely too heavily on any one neuron, encouraging redundancy and robust feature learning.Note that during model evaluation, dropout is turned off, and all neurons are active, but their outputs are scaled by the dropout rate to maintain consistency with training.\n",
    "\n",
    "Dropout mitigates overfitting by introducing noise into the training process, effectively training many smaller “sub-networks” and averaging their predictions. By training with multiple random sub-networks, the model becomes more robust and less sensitive to specific neurons or weights.\n",
    "\n",
    "In PyTorch, dropout is implemented with the `nn.Dropout` module. The `nn.Dropout` module takes a single argument, `p`, which is the probability of dropping out a neuron. The `p` argument is the probability that a neuron will be zeroed out during training. The `p` argument is typically set to a value between 0.2 and 0.5.\n",
    "\n",
    "To instantiate a dropout layer with a dropout rate of 0.2, you can use the following code:\n",
    "```dropout_layer = nn.Dropout(p=0.2)```\n",
    "\n",
    "To apply dropout to a tensor `x`, you can use the following code:\n",
    "```x = dropout_layer(x)```\n"
   ],
   "metadata": {
    "collapsed": false
   }
  },
  {
   "cell_type": "code",
   "source": [
    "import torch\n",
    "import torch.nn as nn\n",
    "import torch.optim as optim\n",
    "from sklearn.model_selection import train_test_split\n",
    "import numpy as np\n",
    "from torch.utils.data import TensorDataset, DataLoader\n",
    "import matplotlib.pyplot as plt"
   ],
   "metadata": {
    "collapsed": false,
    "ExecuteTime": {
     "end_time": "2024-12-10T20:35:55.149871Z",
     "start_time": "2024-12-10T20:35:55.146910Z"
    }
   },
   "outputs": [],
   "execution_count": 19
  },
  {
   "cell_type": "markdown",
   "source": [
    "## Load the dataset, split into train and test sets, cast to PyTorch tensors, and create data loaders\n",
    "(DONE FOR YOU)"
   ],
   "metadata": {
    "collapsed": false
   }
  },
  {
   "cell_type": "code",
   "source": [
    "tmp = np.load('../../slides/eeg_alcohol_data.npy', allow_pickle=True)\n",
    "X = tmp.item().get('X')\n",
    "y = tmp.item().get('y')\n",
    "if X.dtype != np.float32:\n",
    "    X = np.array(X, dtype=np.float32)\n",
    "if y.dtype not in [np.int32, np.int64]:\n",
    "    y = np.array(y, dtype=np.int64)\n",
    "\n",
    "X_train, X_test, y_train, y_test = train_test_split(X, y, test_size=0.2, random_state=42)\n",
    "\n",
    "X_train = torch.tensor(X_train, dtype=torch.float32)\n",
    "X_test = torch.tensor(X_test, dtype=torch.float32)\n",
    "y_train = torch.tensor(y_train, dtype=torch.long)\n",
    "y_test = torch.tensor(y_test, dtype=torch.long)\n",
    "\n",
    "train_dataset = TensorDataset(X_train, y_train)\n",
    "test_dataset = TensorDataset(X_test, y_test)\n",
    "train_loader = DataLoader(train_dataset, batch_size=32, shuffle=True)\n",
    "test_loader = DataLoader(test_dataset, batch_size=32, shuffle=False)"
   ],
   "metadata": {
    "collapsed": false,
    "ExecuteTime": {
     "end_time": "2024-12-10T20:35:56.301143Z",
     "start_time": "2024-12-10T20:35:55.757037Z"
    }
   },
   "outputs": [],
   "execution_count": 20
  },
  {
   "cell_type": "markdown",
   "source": [
    "### Define the CNN model\n",
    "We will work with a model that combines two convolutional layers at the front end with three fully connected layers at the back end. Pay attention to the arguments of the Conv2D and Linear blocks, as it will help your understanding of the model architecture.\n",
    "(DONE FOR YOU)"
   ],
   "metadata": {
    "collapsed": false
   }
  },
  {
   "cell_type": "code",
   "source": [
    "class EEGCNN(nn.Module):\n",
    "    def __init__(self, input_channels, input_timepoints, num_classes):\n",
    "        super(EEGCNN, self).__init__()\n",
    "        self.spatial_conv = nn.Conv2d(1, 8, kernel_size=(input_channels, 1))  # Spatial filtering\n",
    "        self.temporal_conv = nn.Conv2d(8, 16, kernel_size=(1, 10), stride=(1, 2))  # Temporal filtering\n",
    "        self.flatten = nn.Flatten()\n",
    "        self.fc1 = nn.Linear(16 * ((input_timepoints - 10) // 2 + 1), 32) # fully connected layer 1\n",
    "        self.fc2 = nn.Linear(32, 16)  # fully connected layer 2\n",
    "        self.fc3 = nn.Linear(16, num_classes) # fully connected layer 3\n",
    "        self.softmax = nn.Softmax(dim=1)\n",
    "\n",
    "    def forward(self, x):\n",
    "        x = x.unsqueeze(1)  # Add channel dimension\n",
    "        x = torch.relu(self.spatial_conv(x))\n",
    "        x = torch.relu(self.temporal_conv(x))\n",
    "        x = self.flatten(x) # convert from 2D to 1D\n",
    "        x = self.fc1(x) # fully connected layer 1\n",
    "        x = self.fc2(x) # fully connected layer 2\n",
    "        x = self.fc3(x) # fully connected layer 3\n",
    "        x = self.softmax(x)\n",
    "\n",
    "        return x"
   ],
   "metadata": {
    "collapsed": false,
    "ExecuteTime": {
     "end_time": "2024-12-10T20:35:56.607094Z",
     "start_time": "2024-12-10T20:35:56.602193Z"
    }
   },
   "outputs": [],
   "execution_count": 21
  },
  {
   "cell_type": "markdown",
   "source": [
    "### Instantiate the model with the parameters of our dataset\n",
    "(DONE FOR YOU)"
   ],
   "metadata": {
    "collapsed": false
   }
  },
  {
   "cell_type": "code",
   "source": [
    "input_channels = X_train.shape[1]  # 64 electrodes\n",
    "input_timepoints = X_train.shape[2]  # 256 time samples\n",
    "num_classes = len(torch.unique(y_train))  # Number of unique classes in y\n",
    "model = EEGCNN(input_channels, input_timepoints, num_classes)"
   ],
   "metadata": {
    "collapsed": false,
    "ExecuteTime": {
     "end_time": "2024-12-10T20:35:57.490727Z",
     "start_time": "2024-12-10T20:35:57.487638Z"
    }
   },
   "outputs": [],
   "execution_count": 22
  },
  {
   "cell_type": "markdown",
   "source": [
    "### Define the training loop and train for 200 epochs\n",
    "Below is a function that trains the model for a specified number of epochs, reporting the training and test loss after each epoch.\n",
    "(DONE FOR YOU)"
   ],
   "metadata": {
    "collapsed": false
   }
  },
  {
   "cell_type": "code",
   "source": [
    "def run_train_loop(model, criterion, optimizer, epochs=200):\n",
    "\n",
    "    train_losses = []\n",
    "    test_losses = []\n",
    "\n",
    "    for epoch in range(epochs):\n",
    "        model.train()\n",
    "        running_loss = 0.0\n",
    "        for X_batch, y_batch in train_loader:\n",
    "            optimizer.zero_grad()\n",
    "            outputs = model(X_batch)\n",
    "            loss = criterion(outputs, y_batch)\n",
    "            loss.backward()\n",
    "            optimizer.step()\n",
    "            running_loss += loss.item()\n",
    "\n",
    "        # evaluate test loss\n",
    "        model.eval()\n",
    "        test_loss = 0.0\n",
    "        with torch.no_grad():\n",
    "            for X_batch, y_batch in test_loader:\n",
    "                outputs = model(X_batch)\n",
    "                loss = criterion(outputs, y_batch)\n",
    "                test_loss += loss.item()\n",
    "\n",
    "        print(f\"Epoch {epoch+1}/{epochs}, Loss: {running_loss/len(train_loader):.4f}, Test Loss: {test_loss/len(test_loader):.4f}\")\n",
    "        train_losses.append(running_loss/len(train_loader))\n",
    "        test_losses.append(test_loss/len(test_loader))\n",
    "\n",
    "    return train_losses, test_losses"
   ],
   "metadata": {
    "collapsed": false,
    "ExecuteTime": {
     "end_time": "2024-12-10T20:35:58.539077Z",
     "start_time": "2024-12-10T20:35:58.535365Z"
    }
   },
   "outputs": [],
   "execution_count": 23
  },
  {
   "cell_type": "markdown",
   "source": [
    "### Here we train the model for 200 epochs\n",
    "(DONE FOR YOU)"
   ],
   "metadata": {
    "collapsed": false
   }
  },
  {
   "cell_type": "code",
   "source": [
    "criterion = nn.CrossEntropyLoss()\n",
    "optimizer = optim.Adam(model.parameters(), lr=0.001)\n",
    "epochs = 200\n",
    "train_losses, test_losses = run_train_loop(model, criterion, optimizer, epochs)"
   ],
   "metadata": {
    "collapsed": false,
    "ExecuteTime": {
     "end_time": "2024-12-10T20:36:12.731116Z",
     "start_time": "2024-12-10T20:36:00.261644Z"
    }
   },
   "outputs": [
    {
     "name": "stdout",
     "output_type": "stream",
     "text": [
      "Epoch 1/200, Loss: 0.7088, Test Loss: 0.7170\n",
      "Epoch 2/200, Loss: 0.5764, Test Loss: 0.6894\n",
      "Epoch 3/200, Loss: 0.5024, Test Loss: 0.6441\n",
      "Epoch 4/200, Loss: 0.4574, Test Loss: 0.6130\n",
      "Epoch 5/200, Loss: 0.4149, Test Loss: 0.5963\n",
      "Epoch 6/200, Loss: 0.3904, Test Loss: 0.6118\n",
      "Epoch 7/200, Loss: 0.3796, Test Loss: 0.5595\n",
      "Epoch 8/200, Loss: 0.3629, Test Loss: 0.5700\n",
      "Epoch 9/200, Loss: 0.3577, Test Loss: 0.5935\n",
      "Epoch 10/200, Loss: 0.3588, Test Loss: 0.6061\n",
      "Epoch 11/200, Loss: 0.3742, Test Loss: 0.5797\n",
      "Epoch 12/200, Loss: 0.4186, Test Loss: 0.5930\n",
      "Epoch 13/200, Loss: 0.3729, Test Loss: 0.5709\n",
      "Epoch 14/200, Loss: 0.3626, Test Loss: 0.5802\n",
      "Epoch 15/200, Loss: 0.3508, Test Loss: 0.5708\n",
      "Epoch 16/200, Loss: 0.3456, Test Loss: 0.5645\n",
      "Epoch 17/200, Loss: 0.3412, Test Loss: 0.5672\n",
      "Epoch 18/200, Loss: 0.3410, Test Loss: 0.5619\n",
      "Epoch 19/200, Loss: 0.3406, Test Loss: 0.5552\n",
      "Epoch 20/200, Loss: 0.3370, Test Loss: 0.5496\n",
      "Epoch 21/200, Loss: 0.3369, Test Loss: 0.5500\n",
      "Epoch 22/200, Loss: 0.3380, Test Loss: 0.5513\n",
      "Epoch 23/200, Loss: 0.3368, Test Loss: 0.5525\n",
      "Epoch 24/200, Loss: 0.3368, Test Loss: 0.5529\n",
      "Epoch 25/200, Loss: 0.3380, Test Loss: 0.5529\n",
      "Epoch 26/200, Loss: 0.3368, Test Loss: 0.5531\n",
      "Epoch 27/200, Loss: 0.3368, Test Loss: 0.5532\n",
      "Epoch 28/200, Loss: 0.3368, Test Loss: 0.5536\n",
      "Epoch 29/200, Loss: 0.3368, Test Loss: 0.5536\n",
      "Epoch 30/200, Loss: 0.3368, Test Loss: 0.5538\n",
      "Epoch 31/200, Loss: 0.3379, Test Loss: 0.5540\n",
      "Epoch 32/200, Loss: 0.3368, Test Loss: 0.5541\n",
      "Epoch 33/200, Loss: 0.3367, Test Loss: 0.5542\n",
      "Epoch 34/200, Loss: 0.3367, Test Loss: 0.5543\n",
      "Epoch 35/200, Loss: 0.3367, Test Loss: 0.5544\n",
      "Epoch 36/200, Loss: 0.3379, Test Loss: 0.5544\n",
      "Epoch 37/200, Loss: 0.3367, Test Loss: 0.5545\n",
      "Epoch 38/200, Loss: 0.3367, Test Loss: 0.5546\n",
      "Epoch 39/200, Loss: 0.3391, Test Loss: 0.5546\n",
      "Epoch 40/200, Loss: 0.3379, Test Loss: 0.5547\n",
      "Epoch 41/200, Loss: 0.3379, Test Loss: 0.5549\n",
      "Epoch 42/200, Loss: 0.3379, Test Loss: 0.5549\n",
      "Epoch 43/200, Loss: 0.3379, Test Loss: 0.5549\n",
      "Epoch 44/200, Loss: 0.3367, Test Loss: 0.5550\n",
      "Epoch 45/200, Loss: 0.3367, Test Loss: 0.5551\n",
      "Epoch 46/200, Loss: 0.3367, Test Loss: 0.5551\n",
      "Epoch 47/200, Loss: 0.3367, Test Loss: 0.5552\n",
      "Epoch 48/200, Loss: 0.3367, Test Loss: 0.5552\n",
      "Epoch 49/200, Loss: 0.3367, Test Loss: 0.5552\n",
      "Epoch 50/200, Loss: 0.3379, Test Loss: 0.5553\n",
      "Epoch 51/200, Loss: 0.3367, Test Loss: 0.5554\n",
      "Epoch 52/200, Loss: 0.3367, Test Loss: 0.5554\n",
      "Epoch 53/200, Loss: 0.3367, Test Loss: 0.5554\n",
      "Epoch 54/200, Loss: 0.3379, Test Loss: 0.5555\n",
      "Epoch 55/200, Loss: 0.3379, Test Loss: 0.5555\n",
      "Epoch 56/200, Loss: 0.3367, Test Loss: 0.5556\n",
      "Epoch 57/200, Loss: 0.3367, Test Loss: 0.5556\n",
      "Epoch 58/200, Loss: 0.3367, Test Loss: 0.5556\n",
      "Epoch 59/200, Loss: 0.3379, Test Loss: 0.5557\n",
      "Epoch 60/200, Loss: 0.3367, Test Loss: 0.5557\n",
      "Epoch 61/200, Loss: 0.3367, Test Loss: 0.5558\n",
      "Epoch 62/200, Loss: 0.3367, Test Loss: 0.5558\n",
      "Epoch 63/200, Loss: 0.3379, Test Loss: 0.5558\n",
      "Epoch 64/200, Loss: 0.3379, Test Loss: 0.5559\n",
      "Epoch 65/200, Loss: 0.3391, Test Loss: 0.5559\n",
      "Epoch 66/200, Loss: 0.3391, Test Loss: 0.5559\n",
      "Epoch 67/200, Loss: 0.3379, Test Loss: 0.5559\n",
      "Epoch 68/200, Loss: 0.3379, Test Loss: 0.5560\n",
      "Epoch 69/200, Loss: 0.3379, Test Loss: 0.5560\n",
      "Epoch 70/200, Loss: 0.3391, Test Loss: 0.5559\n",
      "Epoch 71/200, Loss: 0.3367, Test Loss: 0.5560\n",
      "Epoch 72/200, Loss: 0.3367, Test Loss: 0.5560\n",
      "Epoch 73/200, Loss: 0.3379, Test Loss: 0.5560\n",
      "Epoch 74/200, Loss: 0.3391, Test Loss: 0.5560\n",
      "Epoch 75/200, Loss: 0.3367, Test Loss: 0.5561\n",
      "Epoch 76/200, Loss: 0.3379, Test Loss: 0.5561\n",
      "Epoch 77/200, Loss: 0.3379, Test Loss: 0.5561\n",
      "Epoch 78/200, Loss: 0.3379, Test Loss: 0.5561\n",
      "Epoch 79/200, Loss: 0.3367, Test Loss: 0.5561\n",
      "Epoch 80/200, Loss: 0.3379, Test Loss: 0.5561\n",
      "Epoch 81/200, Loss: 0.3391, Test Loss: 0.5561\n",
      "Epoch 82/200, Loss: 0.3367, Test Loss: 0.5561\n",
      "Epoch 83/200, Loss: 0.3367, Test Loss: 0.5562\n",
      "Epoch 84/200, Loss: 0.3379, Test Loss: 0.5562\n",
      "Epoch 85/200, Loss: 0.3367, Test Loss: 0.5562\n",
      "Epoch 86/200, Loss: 0.3379, Test Loss: 0.5562\n",
      "Epoch 87/200, Loss: 0.3391, Test Loss: 0.5562\n",
      "Epoch 88/200, Loss: 0.3367, Test Loss: 0.5562\n",
      "Epoch 89/200, Loss: 0.3379, Test Loss: 0.5562\n",
      "Epoch 90/200, Loss: 0.3379, Test Loss: 0.5562\n",
      "Epoch 91/200, Loss: 0.3379, Test Loss: 0.5563\n",
      "Epoch 92/200, Loss: 0.3367, Test Loss: 0.5563\n",
      "Epoch 93/200, Loss: 0.3391, Test Loss: 0.5563\n",
      "Epoch 94/200, Loss: 0.3379, Test Loss: 0.5563\n",
      "Epoch 95/200, Loss: 0.3367, Test Loss: 0.5563\n",
      "Epoch 96/200, Loss: 0.3367, Test Loss: 0.5563\n",
      "Epoch 97/200, Loss: 0.3367, Test Loss: 0.5564\n",
      "Epoch 98/200, Loss: 0.3379, Test Loss: 0.5564\n",
      "Epoch 99/200, Loss: 0.3367, Test Loss: 0.5564\n",
      "Epoch 100/200, Loss: 0.3367, Test Loss: 0.5564\n",
      "Epoch 101/200, Loss: 0.3367, Test Loss: 0.5564\n",
      "Epoch 102/200, Loss: 0.3367, Test Loss: 0.5564\n",
      "Epoch 103/200, Loss: 0.3367, Test Loss: 0.5564\n",
      "Epoch 104/200, Loss: 0.3367, Test Loss: 0.5564\n",
      "Epoch 105/200, Loss: 0.3379, Test Loss: 0.5564\n",
      "Epoch 106/200, Loss: 0.3379, Test Loss: 0.5564\n",
      "Epoch 107/200, Loss: 0.3403, Test Loss: 0.5564\n",
      "Epoch 108/200, Loss: 0.3367, Test Loss: 0.5564\n",
      "Epoch 109/200, Loss: 0.3367, Test Loss: 0.5565\n",
      "Epoch 110/200, Loss: 0.3379, Test Loss: 0.5565\n",
      "Epoch 111/200, Loss: 0.3391, Test Loss: 0.5565\n",
      "Epoch 112/200, Loss: 0.3367, Test Loss: 0.5565\n",
      "Epoch 113/200, Loss: 0.3379, Test Loss: 0.5565\n",
      "Epoch 114/200, Loss: 0.3391, Test Loss: 0.5565\n",
      "Epoch 115/200, Loss: 0.3379, Test Loss: 0.5565\n",
      "Epoch 116/200, Loss: 0.3367, Test Loss: 0.5565\n",
      "Epoch 117/200, Loss: 0.3379, Test Loss: 0.5565\n",
      "Epoch 118/200, Loss: 0.3367, Test Loss: 0.5565\n",
      "Epoch 119/200, Loss: 0.3367, Test Loss: 0.5565\n",
      "Epoch 120/200, Loss: 0.3367, Test Loss: 0.5565\n",
      "Epoch 121/200, Loss: 0.3367, Test Loss: 0.5565\n",
      "Epoch 122/200, Loss: 0.3391, Test Loss: 0.5566\n",
      "Epoch 123/200, Loss: 0.3379, Test Loss: 0.5566\n",
      "Epoch 124/200, Loss: 0.3367, Test Loss: 0.5566\n",
      "Epoch 125/200, Loss: 0.3379, Test Loss: 0.5566\n",
      "Epoch 126/200, Loss: 0.3367, Test Loss: 0.5566\n",
      "Epoch 127/200, Loss: 0.3367, Test Loss: 0.5566\n",
      "Epoch 128/200, Loss: 0.3379, Test Loss: 0.5567\n",
      "Epoch 129/200, Loss: 0.3367, Test Loss: 0.5566\n",
      "Epoch 130/200, Loss: 0.3367, Test Loss: 0.5567\n",
      "Epoch 131/200, Loss: 0.3379, Test Loss: 0.5567\n",
      "Epoch 132/200, Loss: 0.3379, Test Loss: 0.5567\n",
      "Epoch 133/200, Loss: 0.3367, Test Loss: 0.5566\n",
      "Epoch 134/200, Loss: 0.3379, Test Loss: 0.5567\n",
      "Epoch 135/200, Loss: 0.3367, Test Loss: 0.5567\n",
      "Epoch 136/200, Loss: 0.3367, Test Loss: 0.5567\n",
      "Epoch 137/200, Loss: 0.3367, Test Loss: 0.5567\n",
      "Epoch 138/200, Loss: 0.3379, Test Loss: 0.5567\n",
      "Epoch 139/200, Loss: 0.3367, Test Loss: 0.5567\n",
      "Epoch 140/200, Loss: 0.3367, Test Loss: 0.5567\n",
      "Epoch 141/200, Loss: 0.3379, Test Loss: 0.5567\n",
      "Epoch 142/200, Loss: 0.3379, Test Loss: 0.5567\n",
      "Epoch 143/200, Loss: 0.3367, Test Loss: 0.5567\n",
      "Epoch 144/200, Loss: 0.3379, Test Loss: 0.5567\n",
      "Epoch 145/200, Loss: 0.3391, Test Loss: 0.5567\n",
      "Epoch 146/200, Loss: 0.3367, Test Loss: 0.5567\n",
      "Epoch 147/200, Loss: 0.3367, Test Loss: 0.5567\n",
      "Epoch 148/200, Loss: 0.3367, Test Loss: 0.5568\n",
      "Epoch 149/200, Loss: 0.3379, Test Loss: 0.5568\n",
      "Epoch 150/200, Loss: 0.3379, Test Loss: 0.5568\n",
      "Epoch 151/200, Loss: 0.3367, Test Loss: 0.5568\n",
      "Epoch 152/200, Loss: 0.3367, Test Loss: 0.5568\n",
      "Epoch 153/200, Loss: 0.3367, Test Loss: 0.5567\n",
      "Epoch 154/200, Loss: 0.3367, Test Loss: 0.5568\n",
      "Epoch 155/200, Loss: 0.3367, Test Loss: 0.5568\n",
      "Epoch 156/200, Loss: 0.3379, Test Loss: 0.5568\n",
      "Epoch 157/200, Loss: 0.3367, Test Loss: 0.5568\n",
      "Epoch 158/200, Loss: 0.3379, Test Loss: 0.5568\n",
      "Epoch 159/200, Loss: 0.3379, Test Loss: 0.5568\n",
      "Epoch 160/200, Loss: 0.3379, Test Loss: 0.5568\n",
      "Epoch 161/200, Loss: 0.3391, Test Loss: 0.5568\n",
      "Epoch 162/200, Loss: 0.3367, Test Loss: 0.5568\n",
      "Epoch 163/200, Loss: 0.3367, Test Loss: 0.5568\n",
      "Epoch 164/200, Loss: 0.3367, Test Loss: 0.5568\n",
      "Epoch 165/200, Loss: 0.3367, Test Loss: 0.5568\n",
      "Epoch 166/200, Loss: 0.3379, Test Loss: 0.5568\n",
      "Epoch 167/200, Loss: 0.3367, Test Loss: 0.5568\n",
      "Epoch 168/200, Loss: 0.3379, Test Loss: 0.5568\n",
      "Epoch 169/200, Loss: 0.3367, Test Loss: 0.5568\n",
      "Epoch 170/200, Loss: 0.3367, Test Loss: 0.5568\n",
      "Epoch 171/200, Loss: 0.3367, Test Loss: 0.5568\n",
      "Epoch 172/200, Loss: 0.3379, Test Loss: 0.5568\n",
      "Epoch 173/200, Loss: 0.3379, Test Loss: 0.5569\n",
      "Epoch 174/200, Loss: 0.3379, Test Loss: 0.5568\n",
      "Epoch 175/200, Loss: 0.3391, Test Loss: 0.5568\n",
      "Epoch 176/200, Loss: 0.3379, Test Loss: 0.5568\n",
      "Epoch 177/200, Loss: 0.3379, Test Loss: 0.5568\n",
      "Epoch 178/200, Loss: 0.3367, Test Loss: 0.5568\n",
      "Epoch 179/200, Loss: 0.3367, Test Loss: 0.5568\n",
      "Epoch 180/200, Loss: 0.3379, Test Loss: 0.5568\n",
      "Epoch 181/200, Loss: 0.3379, Test Loss: 0.5568\n",
      "Epoch 182/200, Loss: 0.3379, Test Loss: 0.5568\n",
      "Epoch 183/200, Loss: 0.3391, Test Loss: 0.5568\n",
      "Epoch 184/200, Loss: 0.3367, Test Loss: 0.5568\n",
      "Epoch 185/200, Loss: 0.3367, Test Loss: 0.5568\n",
      "Epoch 186/200, Loss: 0.3379, Test Loss: 0.5568\n",
      "Epoch 187/200, Loss: 0.3379, Test Loss: 0.5568\n",
      "Epoch 188/200, Loss: 0.3367, Test Loss: 0.5568\n",
      "Epoch 189/200, Loss: 0.3379, Test Loss: 0.5568\n",
      "Epoch 190/200, Loss: 0.3379, Test Loss: 0.5568\n",
      "Epoch 191/200, Loss: 0.3367, Test Loss: 0.5568\n",
      "Epoch 192/200, Loss: 0.3367, Test Loss: 0.5568\n",
      "Epoch 193/200, Loss: 0.3367, Test Loss: 0.5568\n",
      "Epoch 194/200, Loss: 0.3379, Test Loss: 0.5568\n",
      "Epoch 195/200, Loss: 0.3367, Test Loss: 0.5568\n",
      "Epoch 196/200, Loss: 0.3367, Test Loss: 0.5567\n",
      "Epoch 197/200, Loss: 0.3379, Test Loss: 0.5568\n",
      "Epoch 198/200, Loss: 0.3379, Test Loss: 0.5568\n",
      "Epoch 199/200, Loss: 0.3391, Test Loss: 0.5567\n",
      "Epoch 200/200, Loss: 0.3367, Test Loss: 0.5568\n"
     ]
    }
   ],
   "execution_count": 24
  },
  {
   "cell_type": "markdown",
   "source": [
    "## Task 1: Plot the training and test loss (overlaid) on the vertical axis and the epoch number on the horizontal axis"
   ],
   "metadata": {
    "collapsed": false
   }
  },
  {
   "cell_type": "code",
   "source": [
    "## INSERT CODE HERE\n",
    "plt.figure(figsize=(5, 5))\n",
    "plt.plot(range(200), train_losses, label='Train')\n",
    "plt.plot(range(200), test_losses, label='Test')\n",
    "plt.legend(loc='upper right')\n",
    "plt.xlabel('Epochs')\n",
    "plt.ylabel('Loss')\n",
    "plt.title('EEGCNN')\n",
    "plt.show()"
   ],
   "metadata": {
    "collapsed": false,
    "ExecuteTime": {
     "end_time": "2024-12-10T20:36:12.805304Z",
     "start_time": "2024-12-10T20:36:12.740182Z"
    }
   },
   "outputs": [
    {
     "data": {
      "text/plain": [
       "<Figure size 500x500 with 1 Axes>"
      ],
      "image/png": "[encoded data removed]"
     },
     "metadata": {},
     "output_type": "display_data"
    }
   ],
   "execution_count": 25
  },
  {
   "cell_type": "markdown",
   "source": [
    "## Task 2: Compute the minimum train and test loss achieved during training and report them"
   ],
   "metadata": {
    "collapsed": false
   }
  },
  {
   "cell_type": "code",
   "source": [
    "## INSERT CODE HERE\n",
    "print(\"Minimum train loss: \", min(train_losses))\n",
    "print(\"Minimum test loss: \", min(test_losses))"
   ],
   "metadata": {
    "collapsed": false,
    "ExecuteTime": {
     "end_time": "2024-12-10T20:36:12.831080Z",
     "start_time": "2024-12-10T20:36:12.827291Z"
    }
   },
   "outputs": [
    {
     "name": "stdout",
     "output_type": "stream",
     "text": [
      "Minimum train loss:  0.33670073250929516\n",
      "Minimum test loss:  0.5495927731196085\n"
     ]
    }
   ],
   "execution_count": 26
  },
  {
   "cell_type": "markdown",
   "source": [
    "## Task 3: Modify EEGCNN to add dropout regularization\n",
    "- Modify the cell below to add **three** dropout layers to the EEGCNN model\n",
    "    - The first dropout layer should be added after the flattening layer\n",
    "    - The second dropout layer should be added after the first fully connected layer\n",
    "    - The third dropout layer should be added after the second fully connected layer\n",
    "- The dropout rates of each layer should be the same and should be passed as an argument to the model constructor\n",
    "- The default dropout rate should be 0.2"
   ],
   "metadata": {
    "collapsed": false
   }
  },
  {
   "cell_type": "code",
   "source": [
    "class EEGCNNwithDropout(nn.Module):\n",
    "    def __init__(self, input_channels, input_timepoints, num_classes, dropout=0.2):\n",
    "        super(EEGCNNwithDropout, self).__init__()\n",
    "        self.spatial_conv = nn.Conv2d(1, 8, kernel_size=(input_channels, 1))\n",
    "        self.temporal_conv = nn.Conv2d(8, 16, kernel_size=(1, 10), stride=(1, 2))\n",
    "        self.flatten = nn.Flatten()\n",
    "        self.fc1 = nn.Linear(16 * ((input_timepoints - 10) // 2 + 1), 32)\n",
    "        self.fc2 = nn.Linear(32, 16)\n",
    "        self.fc3 = nn.Linear(16, num_classes)\n",
    "        self.softmax = nn.Softmax(dim=1)\n",
    "        # INSERT CODE BELOW\n",
    "        self.dropout = nn.Dropout(dropout)\n",
    "\n",
    "    def forward(self, x):\n",
    "        x = x.unsqueeze(1)  # Add channel dimension\n",
    "        x = torch.relu(self.spatial_conv(x))\n",
    "        x = torch.relu(self.temporal_conv(x))\n",
    "        x = self.flatten(x)\n",
    "        # INSERT CODE BELOW\n",
    "        x = self.dropout(x)\n",
    "        x = self.fc1(x)\n",
    "        x = self.dropout(x)\n",
    "        x = self.fc2(x)\n",
    "        x = self.dropout(x)\n",
    "        x = self.fc3(x)\n",
    "        x = self.softmax(x)\n",
    "\n",
    "        return x"
   ],
   "metadata": {
    "collapsed": false,
    "ExecuteTime": {
     "end_time": "2024-12-10T20:36:12.862065Z",
     "start_time": "2024-12-10T20:36:12.856455Z"
    }
   },
   "outputs": [],
   "execution_count": 27
  },
  {
   "cell_type": "markdown",
   "source": [
    "## Task 4: Train the EEGCNNwithDropout model with a dropout rate of 0.2 for 200 epochs\n",
    "- Instantiate the model with a dropout rate of 0.2\n",
    "- Train the model for 200 epochs"
   ],
   "metadata": {
    "collapsed": false
   }
  },
  {
   "cell_type": "code",
   "source": [
    "## INSERT CODE BELOW\n",
    "model = EEGCNNwithDropout(input_channels, input_timepoints, num_classes)\n",
    "## DO NOT MODIFY THE 3 LINES BELOW\n",
    "criterion = nn.CrossEntropyLoss()\n",
    "optimizer = optim.Adam(model.parameters(), lr=0.001)\n",
    "train_losses, test_losses = run_train_loop(model, criterion, optimizer, 200)"
   ],
   "metadata": {
    "collapsed": false,
    "ExecuteTime": {
     "end_time": "2024-12-10T20:36:26.415600Z",
     "start_time": "2024-12-10T20:36:12.883127Z"
    }
   },
   "outputs": [
    {
     "name": "stdout",
     "output_type": "stream",
     "text": [
      "Epoch 1/200, Loss: 0.6783, Test Loss: 0.6691\n",
      "Epoch 2/200, Loss: 0.5662, Test Loss: 0.6851\n",
      "Epoch 3/200, Loss: 0.5164, Test Loss: 0.6283\n",
      "Epoch 4/200, Loss: 0.4861, Test Loss: 0.6466\n",
      "Epoch 5/200, Loss: 0.4667, Test Loss: 0.5829\n",
      "Epoch 6/200, Loss: 0.4531, Test Loss: 0.5279\n",
      "Epoch 7/200, Loss: 0.4232, Test Loss: 0.5477\n",
      "Epoch 8/200, Loss: 0.4068, Test Loss: 0.5586\n",
      "Epoch 9/200, Loss: 0.3914, Test Loss: 0.5608\n",
      "Epoch 10/200, Loss: 0.3785, Test Loss: 0.5317\n",
      "Epoch 11/200, Loss: 0.3877, Test Loss: 0.5680\n",
      "Epoch 12/200, Loss: 0.3812, Test Loss: 0.5584\n",
      "Epoch 13/200, Loss: 0.3798, Test Loss: 0.5274\n",
      "Epoch 14/200, Loss: 0.3651, Test Loss: 0.5165\n",
      "Epoch 15/200, Loss: 0.3585, Test Loss: 0.5263\n",
      "Epoch 16/200, Loss: 0.3499, Test Loss: 0.5038\n",
      "Epoch 17/200, Loss: 0.3582, Test Loss: 0.5268\n",
      "Epoch 18/200, Loss: 0.3531, Test Loss: 0.5484\n",
      "Epoch 19/200, Loss: 0.3468, Test Loss: 0.5086\n",
      "Epoch 20/200, Loss: 0.3373, Test Loss: 0.5316\n",
      "Epoch 21/200, Loss: 0.3361, Test Loss: 0.5263\n",
      "Epoch 22/200, Loss: 0.3443, Test Loss: 0.5166\n",
      "Epoch 23/200, Loss: 0.3427, Test Loss: 0.5165\n",
      "Epoch 24/200, Loss: 0.3287, Test Loss: 0.5214\n",
      "Epoch 25/200, Loss: 0.3292, Test Loss: 0.5176\n",
      "Epoch 26/200, Loss: 0.3270, Test Loss: 0.5076\n",
      "Epoch 27/200, Loss: 0.3293, Test Loss: 0.5183\n",
      "Epoch 28/200, Loss: 0.3277, Test Loss: 0.5388\n",
      "Epoch 29/200, Loss: 0.3273, Test Loss: 0.5113\n",
      "Epoch 30/200, Loss: 0.3261, Test Loss: 0.5123\n",
      "Epoch 31/200, Loss: 0.3284, Test Loss: 0.5177\n",
      "Epoch 32/200, Loss: 0.3251, Test Loss: 0.5085\n",
      "Epoch 33/200, Loss: 0.3250, Test Loss: 0.5086\n",
      "Epoch 34/200, Loss: 0.3245, Test Loss: 0.5112\n",
      "Epoch 35/200, Loss: 0.3258, Test Loss: 0.5098\n",
      "Epoch 36/200, Loss: 0.3244, Test Loss: 0.5292\n",
      "Epoch 37/200, Loss: 0.3266, Test Loss: 0.5381\n",
      "Epoch 38/200, Loss: 0.3314, Test Loss: 0.5472\n",
      "Epoch 39/200, Loss: 0.3270, Test Loss: 0.4954\n",
      "Epoch 40/200, Loss: 0.3260, Test Loss: 0.5098\n",
      "Epoch 41/200, Loss: 0.3236, Test Loss: 0.5266\n",
      "Epoch 42/200, Loss: 0.3246, Test Loss: 0.5248\n",
      "Epoch 43/200, Loss: 0.3333, Test Loss: 0.5582\n",
      "Epoch 44/200, Loss: 0.3242, Test Loss: 0.4975\n",
      "Epoch 45/200, Loss: 0.3305, Test Loss: 0.5092\n",
      "Epoch 46/200, Loss: 0.3235, Test Loss: 0.5131\n",
      "Epoch 47/200, Loss: 0.3275, Test Loss: 0.5098\n",
      "Epoch 48/200, Loss: 0.3253, Test Loss: 0.5143\n",
      "Epoch 49/200, Loss: 0.3236, Test Loss: 0.4962\n",
      "Epoch 50/200, Loss: 0.3241, Test Loss: 0.4784\n",
      "Epoch 51/200, Loss: 0.3235, Test Loss: 0.5106\n",
      "Epoch 52/200, Loss: 0.3233, Test Loss: 0.5063\n",
      "Epoch 53/200, Loss: 0.3234, Test Loss: 0.5097\n",
      "Epoch 54/200, Loss: 0.3225, Test Loss: 0.5138\n",
      "Epoch 55/200, Loss: 0.3246, Test Loss: 0.5514\n",
      "Epoch 56/200, Loss: 0.3278, Test Loss: 0.5401\n",
      "Epoch 57/200, Loss: 0.3234, Test Loss: 0.5140\n",
      "Epoch 58/200, Loss: 0.3227, Test Loss: 0.5218\n",
      "Epoch 59/200, Loss: 0.3292, Test Loss: 0.5308\n",
      "Epoch 60/200, Loss: 0.3276, Test Loss: 0.5416\n",
      "Epoch 61/200, Loss: 0.3415, Test Loss: 0.5764\n",
      "Epoch 62/200, Loss: 0.3405, Test Loss: 0.5358\n",
      "Epoch 63/200, Loss: 0.3533, Test Loss: 0.5460\n",
      "Epoch 64/200, Loss: 0.3472, Test Loss: 0.5408\n",
      "Epoch 65/200, Loss: 0.3644, Test Loss: 0.5558\n",
      "Epoch 66/200, Loss: 0.3462, Test Loss: 0.5393\n",
      "Epoch 67/200, Loss: 0.3505, Test Loss: 0.5284\n",
      "Epoch 68/200, Loss: 0.3331, Test Loss: 0.5497\n",
      "Epoch 69/200, Loss: 0.3320, Test Loss: 0.5541\n",
      "Epoch 70/200, Loss: 0.3266, Test Loss: 0.5054\n",
      "Epoch 71/200, Loss: 0.3308, Test Loss: 0.5119\n",
      "Epoch 72/200, Loss: 0.3257, Test Loss: 0.5223\n",
      "Epoch 73/200, Loss: 0.3269, Test Loss: 0.5324\n",
      "Epoch 74/200, Loss: 0.3233, Test Loss: 0.5312\n",
      "Epoch 75/200, Loss: 0.3262, Test Loss: 0.5047\n",
      "Epoch 76/200, Loss: 0.3270, Test Loss: 0.5336\n",
      "Epoch 77/200, Loss: 0.3213, Test Loss: 0.5390\n",
      "Epoch 78/200, Loss: 0.3239, Test Loss: 0.5316\n",
      "Epoch 79/200, Loss: 0.3214, Test Loss: 0.5450\n",
      "Epoch 80/200, Loss: 0.3211, Test Loss: 0.5494\n",
      "Epoch 81/200, Loss: 0.3213, Test Loss: 0.5336\n",
      "Epoch 82/200, Loss: 0.3213, Test Loss: 0.5249\n",
      "Epoch 83/200, Loss: 0.3215, Test Loss: 0.5254\n",
      "Epoch 84/200, Loss: 0.3211, Test Loss: 0.5318\n",
      "Epoch 85/200, Loss: 0.3236, Test Loss: 0.5338\n",
      "Epoch 86/200, Loss: 0.3211, Test Loss: 0.5303\n",
      "Epoch 87/200, Loss: 0.3211, Test Loss: 0.5291\n",
      "Epoch 88/200, Loss: 0.3211, Test Loss: 0.5288\n",
      "Epoch 89/200, Loss: 0.3223, Test Loss: 0.5284\n",
      "Epoch 90/200, Loss: 0.3211, Test Loss: 0.5292\n",
      "Epoch 91/200, Loss: 0.3211, Test Loss: 0.5294\n",
      "Epoch 92/200, Loss: 0.3211, Test Loss: 0.5296\n",
      "Epoch 93/200, Loss: 0.3211, Test Loss: 0.5296\n",
      "Epoch 94/200, Loss: 0.3211, Test Loss: 0.5294\n",
      "Epoch 95/200, Loss: 0.3223, Test Loss: 0.5295\n",
      "Epoch 96/200, Loss: 0.3211, Test Loss: 0.5285\n",
      "Epoch 97/200, Loss: 0.3211, Test Loss: 0.5280\n",
      "Epoch 98/200, Loss: 0.3211, Test Loss: 0.5276\n",
      "Epoch 99/200, Loss: 0.3211, Test Loss: 0.5274\n",
      "Epoch 100/200, Loss: 0.3212, Test Loss: 0.5272\n",
      "Epoch 101/200, Loss: 0.3223, Test Loss: 0.5266\n",
      "Epoch 102/200, Loss: 0.3211, Test Loss: 0.5273\n",
      "Epoch 103/200, Loss: 0.3224, Test Loss: 0.5279\n",
      "Epoch 104/200, Loss: 0.3223, Test Loss: 0.5299\n",
      "Epoch 105/200, Loss: 0.3223, Test Loss: 0.5303\n",
      "Epoch 106/200, Loss: 0.3211, Test Loss: 0.5305\n",
      "Epoch 107/200, Loss: 0.3211, Test Loss: 0.5305\n",
      "Epoch 108/200, Loss: 0.3224, Test Loss: 0.5258\n",
      "Epoch 109/200, Loss: 0.3238, Test Loss: 0.5277\n",
      "Epoch 110/200, Loss: 0.3234, Test Loss: 0.5117\n",
      "Epoch 111/200, Loss: 0.3212, Test Loss: 0.5103\n",
      "Epoch 112/200, Loss: 0.3224, Test Loss: 0.5096\n",
      "Epoch 113/200, Loss: 0.3212, Test Loss: 0.5117\n",
      "Epoch 114/200, Loss: 0.3223, Test Loss: 0.5165\n",
      "Epoch 115/200, Loss: 0.3214, Test Loss: 0.5238\n",
      "Epoch 116/200, Loss: 0.3219, Test Loss: 0.5226\n",
      "Epoch 117/200, Loss: 0.3223, Test Loss: 0.5219\n",
      "Epoch 118/200, Loss: 0.3213, Test Loss: 0.5233\n",
      "Epoch 119/200, Loss: 0.3211, Test Loss: 0.5239\n",
      "Epoch 120/200, Loss: 0.3211, Test Loss: 0.5243\n",
      "Epoch 121/200, Loss: 0.3223, Test Loss: 0.5242\n",
      "Epoch 122/200, Loss: 0.3211, Test Loss: 0.5243\n",
      "Epoch 123/200, Loss: 0.3211, Test Loss: 0.5245\n",
      "Epoch 124/200, Loss: 0.3211, Test Loss: 0.5254\n",
      "Epoch 125/200, Loss: 0.3212, Test Loss: 0.5270\n",
      "Epoch 126/200, Loss: 0.3211, Test Loss: 0.5281\n",
      "Epoch 127/200, Loss: 0.3211, Test Loss: 0.5276\n",
      "Epoch 128/200, Loss: 0.3223, Test Loss: 0.5275\n",
      "Epoch 129/200, Loss: 0.3215, Test Loss: 0.5285\n",
      "Epoch 130/200, Loss: 0.3211, Test Loss: 0.5190\n",
      "Epoch 131/200, Loss: 0.3223, Test Loss: 0.5267\n",
      "Epoch 132/200, Loss: 0.3348, Test Loss: 0.5370\n",
      "Epoch 133/200, Loss: 0.3531, Test Loss: 0.5236\n",
      "Epoch 134/200, Loss: 0.3480, Test Loss: 0.5581\n",
      "Epoch 135/200, Loss: 0.3513, Test Loss: 0.5114\n",
      "Epoch 136/200, Loss: 0.3606, Test Loss: 0.5236\n",
      "Epoch 137/200, Loss: 0.3700, Test Loss: 0.5523\n",
      "Epoch 138/200, Loss: 0.3613, Test Loss: 0.4845\n",
      "Epoch 139/200, Loss: 0.3528, Test Loss: 0.5202\n",
      "Epoch 140/200, Loss: 0.3638, Test Loss: 0.5195\n",
      "Epoch 141/200, Loss: 0.3896, Test Loss: 0.5352\n",
      "Epoch 142/200, Loss: 0.4090, Test Loss: 0.5417\n",
      "Epoch 143/200, Loss: 0.3405, Test Loss: 0.5170\n",
      "Epoch 144/200, Loss: 0.3800, Test Loss: 0.5927\n",
      "Epoch 145/200, Loss: 0.4209, Test Loss: 0.5996\n",
      "Epoch 146/200, Loss: 0.4158, Test Loss: 0.6410\n",
      "Epoch 147/200, Loss: 0.4228, Test Loss: 0.6119\n",
      "Epoch 148/200, Loss: 0.3778, Test Loss: 0.5944\n",
      "Epoch 149/200, Loss: 0.3533, Test Loss: 0.5758\n",
      "Epoch 150/200, Loss: 0.3444, Test Loss: 0.5988\n",
      "Epoch 151/200, Loss: 0.3562, Test Loss: 0.5448\n",
      "Epoch 152/200, Loss: 0.3650, Test Loss: 0.5467\n",
      "Epoch 153/200, Loss: 0.3486, Test Loss: 0.5395\n",
      "Epoch 154/200, Loss: 0.3440, Test Loss: 0.5406\n",
      "Epoch 155/200, Loss: 0.3599, Test Loss: 0.5332\n",
      "Epoch 156/200, Loss: 0.3641, Test Loss: 0.5295\n",
      "Epoch 157/200, Loss: 0.3646, Test Loss: 0.5542\n",
      "Epoch 158/200, Loss: 0.3524, Test Loss: 0.5503\n",
      "Epoch 159/200, Loss: 0.3608, Test Loss: 0.6103\n",
      "Epoch 160/200, Loss: 0.4572, Test Loss: 0.6473\n",
      "Epoch 161/200, Loss: 0.3953, Test Loss: 0.6131\n",
      "Epoch 162/200, Loss: 0.3811, Test Loss: 0.6557\n",
      "Epoch 163/200, Loss: 0.3958, Test Loss: 0.6514\n",
      "Epoch 164/200, Loss: 0.4149, Test Loss: 0.6217\n",
      "Epoch 165/200, Loss: 0.4224, Test Loss: 0.5869\n",
      "Epoch 166/200, Loss: 0.4319, Test Loss: 0.5769\n",
      "Epoch 167/200, Loss: 0.4092, Test Loss: 0.5890\n",
      "Epoch 168/200, Loss: 0.3816, Test Loss: 0.5941\n",
      "Epoch 169/200, Loss: 0.3667, Test Loss: 0.6066\n",
      "Epoch 170/200, Loss: 0.3500, Test Loss: 0.5470\n",
      "Epoch 171/200, Loss: 0.3746, Test Loss: 0.5441\n",
      "Epoch 172/200, Loss: 0.3758, Test Loss: 0.5293\n",
      "Epoch 173/200, Loss: 0.3509, Test Loss: 0.5254\n",
      "Epoch 174/200, Loss: 0.3675, Test Loss: 0.5314\n",
      "Epoch 175/200, Loss: 0.3773, Test Loss: 0.5258\n",
      "Epoch 176/200, Loss: 0.3562, Test Loss: 0.5478\n",
      "Epoch 177/200, Loss: 0.3448, Test Loss: 0.5257\n",
      "Epoch 178/200, Loss: 0.3384, Test Loss: 0.5309\n",
      "Epoch 179/200, Loss: 0.3328, Test Loss: 0.5350\n",
      "Epoch 180/200, Loss: 0.3310, Test Loss: 0.5228\n",
      "Epoch 181/200, Loss: 0.3367, Test Loss: 0.5192\n",
      "Epoch 182/200, Loss: 0.3327, Test Loss: 0.5123\n",
      "Epoch 183/200, Loss: 0.3348, Test Loss: 0.5507\n",
      "Epoch 184/200, Loss: 0.3412, Test Loss: 0.5372\n",
      "Epoch 185/200, Loss: 0.3263, Test Loss: 0.5170\n",
      "Epoch 186/200, Loss: 0.3352, Test Loss: 0.5070\n",
      "Epoch 187/200, Loss: 0.3297, Test Loss: 0.5455\n",
      "Epoch 188/200, Loss: 0.3493, Test Loss: 0.5451\n",
      "Epoch 189/200, Loss: 0.3484, Test Loss: 0.5485\n",
      "Epoch 190/200, Loss: 0.3376, Test Loss: 0.5345\n",
      "Epoch 191/200, Loss: 0.3295, Test Loss: 0.5483\n",
      "Epoch 192/200, Loss: 0.3323, Test Loss: 0.5612\n",
      "Epoch 193/200, Loss: 0.3558, Test Loss: 0.5447\n",
      "Epoch 194/200, Loss: 0.3364, Test Loss: 0.5407\n",
      "Epoch 195/200, Loss: 0.3418, Test Loss: 0.5356\n",
      "Epoch 196/200, Loss: 0.3345, Test Loss: 0.5380\n",
      "Epoch 197/200, Loss: 0.3289, Test Loss: 0.5391\n",
      "Epoch 198/200, Loss: 0.3366, Test Loss: 0.5413\n",
      "Epoch 199/200, Loss: 0.3316, Test Loss: 0.5381\n",
      "Epoch 200/200, Loss: 0.3289, Test Loss: 0.5371\n"
     ]
    }
   ],
   "execution_count": 28
  },
  {
   "cell_type": "markdown",
   "source": [
    "## Task 5: Plot the training and test loss (overlaid) on the vertical axis and the epoch number on the horizontal axis"
   ],
   "metadata": {
    "collapsed": false
   }
  },
  {
   "cell_type": "code",
   "source": [
    "## INSERT CODE HERE\n",
    "plt.figure(figsize=(5, 5))\n",
    "plt.plot(range(200), train_losses, label='Train')\n",
    "plt.plot(range(200), test_losses, label='Test')\n",
    "plt.legend(loc='upper right')\n",
    "plt.xlabel('Epochs')\n",
    "plt.ylabel('Loss')\n",
    "plt.title('EEGCNN with dropout rate 0.2')\n",
    "plt.show()"
   ],
   "metadata": {
    "collapsed": false,
    "ExecuteTime": {
     "end_time": "2024-12-10T20:36:26.505886Z",
     "start_time": "2024-12-10T20:36:26.430611Z"
    }
   },
   "outputs": [
    {
     "data": {
      "text/plain": [
       "<Figure size 500x500 with 1 Axes>"
      ],
      "image/png": "[encoded data removed]"
     },
     "metadata": {},
     "output_type": "display_data"
    }
   ],
   "execution_count": 29
  },
  {
   "cell_type": "markdown",
   "source": [
    "## Task 6: Compute the minimum train and test loss achieved during training and report them"
   ],
   "metadata": {
    "collapsed": false
   }
  },
  {
   "cell_type": "code",
   "source": [
    "# INSERT CODE HERE\n",
    "print(\"Minimum train loss: \", min(train_losses))\n",
    "print(\"Minimum test loss: \", min(test_losses))"
   ],
   "metadata": {
    "collapsed": false,
    "ExecuteTime": {
     "end_time": "2024-12-10T20:36:39.000763Z",
     "start_time": "2024-12-10T20:36:38.997559Z"
    }
   },
   "outputs": [
    {
     "name": "stdout",
     "output_type": "stream",
     "text": [
      "Minimum train loss:  0.3210761273900668\n",
      "Minimum test loss:  0.4784154196580251\n"
     ]
    }
   ],
   "execution_count": 30
  },
  {
   "cell_type": "markdown",
   "source": [
    "## Task 7: Train the EEGCNNwithDropout model with a dropout rate of 0.5 for 200 epochs"
   ],
   "metadata": {
    "collapsed": false
   }
  },
  {
   "cell_type": "code",
   "source": [
    "## INSERT CODE BELOW\n",
    "model = EEGCNNwithDropout(input_channels, input_timepoints, num_classes, dropout=0.5)\n",
    "## DO NOT MODIFY THE 3 LINES BELOW\n",
    "criterion = nn.CrossEntropyLoss()\n",
    "optimizer = optim.Adam(model.parameters(), lr=0.001)\n",
    "train_losses, test_losses = run_train_loop(model, criterion, optimizer, 200)"
   ],
   "metadata": {
    "collapsed": false,
    "ExecuteTime": {
     "end_time": "2024-12-10T20:37:27.861625Z",
     "start_time": "2024-12-10T20:37:14.001053Z"
    }
   },
   "outputs": [
    {
     "name": "stdout",
     "output_type": "stream",
     "text": [
      "Epoch 1/200, Loss: 0.7928, Test Loss: 0.8258\n",
      "Epoch 2/200, Loss: 0.7706, Test Loss: 0.8179\n",
      "Epoch 3/200, Loss: 0.7325, Test Loss: 0.6598\n",
      "Epoch 4/200, Loss: 0.6104, Test Loss: 0.6306\n",
      "Epoch 5/200, Loss: 0.5582, Test Loss: 0.6191\n",
      "Epoch 6/200, Loss: 0.5451, Test Loss: 0.5916\n",
      "Epoch 7/200, Loss: 0.5104, Test Loss: 0.5628\n",
      "Epoch 8/200, Loss: 0.4877, Test Loss: 0.5496\n",
      "Epoch 9/200, Loss: 0.4651, Test Loss: 0.5100\n",
      "Epoch 10/200, Loss: 0.4462, Test Loss: 0.5125\n",
      "Epoch 11/200, Loss: 0.4353, Test Loss: 0.5270\n",
      "Epoch 12/200, Loss: 0.4159, Test Loss: 0.5171\n",
      "Epoch 13/200, Loss: 0.3941, Test Loss: 0.4833\n",
      "Epoch 14/200, Loss: 0.4024, Test Loss: 0.5103\n",
      "Epoch 15/200, Loss: 0.4126, Test Loss: 0.4893\n",
      "Epoch 16/200, Loss: 0.4010, Test Loss: 0.5088\n",
      "Epoch 17/200, Loss: 0.3825, Test Loss: 0.5080\n",
      "Epoch 18/200, Loss: 0.3863, Test Loss: 0.4901\n",
      "Epoch 19/200, Loss: 0.3761, Test Loss: 0.4910\n",
      "Epoch 20/200, Loss: 0.3578, Test Loss: 0.5170\n",
      "Epoch 21/200, Loss: 0.3635, Test Loss: 0.4925\n",
      "Epoch 22/200, Loss: 0.3542, Test Loss: 0.5019\n",
      "Epoch 23/200, Loss: 0.3581, Test Loss: 0.5204\n",
      "Epoch 24/200, Loss: 0.3953, Test Loss: 0.4908\n",
      "Epoch 25/200, Loss: 0.3541, Test Loss: 0.4833\n",
      "Epoch 26/200, Loss: 0.3567, Test Loss: 0.4946\n",
      "Epoch 27/200, Loss: 0.3396, Test Loss: 0.4829\n",
      "Epoch 28/200, Loss: 0.3367, Test Loss: 0.4876\n",
      "Epoch 29/200, Loss: 0.3412, Test Loss: 0.4855\n",
      "Epoch 30/200, Loss: 0.3464, Test Loss: 0.4815\n",
      "Epoch 31/200, Loss: 0.3371, Test Loss: 0.4689\n",
      "Epoch 32/200, Loss: 0.3431, Test Loss: 0.4838\n",
      "Epoch 33/200, Loss: 0.3333, Test Loss: 0.4980\n",
      "Epoch 34/200, Loss: 0.3415, Test Loss: 0.4918\n",
      "Epoch 35/200, Loss: 0.3318, Test Loss: 0.5206\n",
      "Epoch 36/200, Loss: 0.3520, Test Loss: 0.4854\n",
      "Epoch 37/200, Loss: 0.3357, Test Loss: 0.4863\n",
      "Epoch 38/200, Loss: 0.3393, Test Loss: 0.4699\n",
      "Epoch 39/200, Loss: 0.3329, Test Loss: 0.4788\n",
      "Epoch 40/200, Loss: 0.3305, Test Loss: 0.4808\n",
      "Epoch 41/200, Loss: 0.3314, Test Loss: 0.4864\n",
      "Epoch 42/200, Loss: 0.3248, Test Loss: 0.4962\n",
      "Epoch 43/200, Loss: 0.3289, Test Loss: 0.4964\n",
      "Epoch 44/200, Loss: 0.3459, Test Loss: 0.4754\n",
      "Epoch 45/200, Loss: 0.3289, Test Loss: 0.5058\n",
      "Epoch 46/200, Loss: 0.3232, Test Loss: 0.5118\n",
      "Epoch 47/200, Loss: 0.3260, Test Loss: 0.5096\n",
      "Epoch 48/200, Loss: 0.3305, Test Loss: 0.5015\n",
      "Epoch 49/200, Loss: 0.3254, Test Loss: 0.4873\n",
      "Epoch 50/200, Loss: 0.3218, Test Loss: 0.5236\n",
      "Epoch 51/200, Loss: 0.3415, Test Loss: 0.4883\n",
      "Epoch 52/200, Loss: 0.3400, Test Loss: 0.5050\n",
      "Epoch 53/200, Loss: 0.3369, Test Loss: 0.5017\n",
      "Epoch 54/200, Loss: 0.3344, Test Loss: 0.4976\n",
      "Epoch 55/200, Loss: 0.3437, Test Loss: 0.5007\n",
      "Epoch 56/200, Loss: 0.3344, Test Loss: 0.4775\n",
      "Epoch 57/200, Loss: 0.3400, Test Loss: 0.4962\n",
      "Epoch 58/200, Loss: 0.3502, Test Loss: 0.4951\n",
      "Epoch 59/200, Loss: 0.3351, Test Loss: 0.5084\n",
      "Epoch 60/200, Loss: 0.3379, Test Loss: 0.5076\n",
      "Epoch 61/200, Loss: 0.3410, Test Loss: 0.4945\n",
      "Epoch 62/200, Loss: 0.3418, Test Loss: 0.5025\n",
      "Epoch 63/200, Loss: 0.3188, Test Loss: 0.5042\n",
      "Epoch 64/200, Loss: 0.3343, Test Loss: 0.5176\n",
      "Epoch 65/200, Loss: 0.3268, Test Loss: 0.4899\n",
      "Epoch 66/200, Loss: 0.3193, Test Loss: 0.4920\n",
      "Epoch 67/200, Loss: 0.3219, Test Loss: 0.4841\n",
      "Epoch 68/200, Loss: 0.3222, Test Loss: 0.4954\n",
      "Epoch 69/200, Loss: 0.3291, Test Loss: 0.4944\n",
      "Epoch 70/200, Loss: 0.3223, Test Loss: 0.4820\n",
      "Epoch 71/200, Loss: 0.3258, Test Loss: 0.5002\n",
      "Epoch 72/200, Loss: 0.3216, Test Loss: 0.5242\n",
      "Epoch 73/200, Loss: 0.3278, Test Loss: 0.5097\n",
      "Epoch 74/200, Loss: 0.3153, Test Loss: 0.4733\n",
      "Epoch 75/200, Loss: 0.3205, Test Loss: 0.4858\n",
      "Epoch 76/200, Loss: 0.3194, Test Loss: 0.5179\n",
      "Epoch 77/200, Loss: 0.3180, Test Loss: 0.4770\n",
      "Epoch 78/200, Loss: 0.3139, Test Loss: 0.4888\n",
      "Epoch 79/200, Loss: 0.3259, Test Loss: 0.4920\n",
      "Epoch 80/200, Loss: 0.3180, Test Loss: 0.4987\n",
      "Epoch 81/200, Loss: 0.3167, Test Loss: 0.5001\n",
      "Epoch 82/200, Loss: 0.3216, Test Loss: 0.4840\n",
      "Epoch 83/200, Loss: 0.3171, Test Loss: 0.4834\n",
      "Epoch 84/200, Loss: 0.3180, Test Loss: 0.4766\n",
      "Epoch 85/200, Loss: 0.3164, Test Loss: 0.4788\n",
      "Epoch 86/200, Loss: 0.3142, Test Loss: 0.4817\n",
      "Epoch 87/200, Loss: 0.3180, Test Loss: 0.4727\n",
      "Epoch 88/200, Loss: 0.3167, Test Loss: 0.4764\n",
      "Epoch 89/200, Loss: 0.3141, Test Loss: 0.4685\n",
      "Epoch 90/200, Loss: 0.3150, Test Loss: 0.4668\n",
      "Epoch 91/200, Loss: 0.3146, Test Loss: 0.4713\n",
      "Epoch 92/200, Loss: 0.3149, Test Loss: 0.4746\n",
      "Epoch 93/200, Loss: 0.3162, Test Loss: 0.4792\n",
      "Epoch 94/200, Loss: 0.3187, Test Loss: 0.4774\n",
      "Epoch 95/200, Loss: 0.3180, Test Loss: 0.4759\n",
      "Epoch 96/200, Loss: 0.3142, Test Loss: 0.4883\n",
      "Epoch 97/200, Loss: 0.3136, Test Loss: 0.4914\n",
      "Epoch 98/200, Loss: 0.3137, Test Loss: 0.4926\n",
      "Epoch 99/200, Loss: 0.3179, Test Loss: 0.4826\n",
      "Epoch 100/200, Loss: 0.3136, Test Loss: 0.4989\n",
      "Epoch 101/200, Loss: 0.3140, Test Loss: 0.4965\n",
      "Epoch 102/200, Loss: 0.3174, Test Loss: 0.5054\n",
      "Epoch 103/200, Loss: 0.3165, Test Loss: 0.5041\n",
      "Epoch 104/200, Loss: 0.3169, Test Loss: 0.5150\n",
      "Epoch 105/200, Loss: 0.3236, Test Loss: 0.5103\n",
      "Epoch 106/200, Loss: 0.3161, Test Loss: 0.4991\n",
      "Epoch 107/200, Loss: 0.3233, Test Loss: 0.5392\n",
      "Epoch 108/200, Loss: 0.3673, Test Loss: 0.5257\n",
      "Epoch 109/200, Loss: 0.3528, Test Loss: 0.5158\n",
      "Epoch 110/200, Loss: 0.3211, Test Loss: 0.4939\n",
      "Epoch 111/200, Loss: 0.3287, Test Loss: 0.4940\n",
      "Epoch 112/200, Loss: 0.3232, Test Loss: 0.5170\n",
      "Epoch 113/200, Loss: 0.3449, Test Loss: 0.5134\n",
      "Epoch 114/200, Loss: 0.3431, Test Loss: 0.5248\n",
      "Epoch 115/200, Loss: 0.3335, Test Loss: 0.5310\n",
      "Epoch 116/200, Loss: 0.3190, Test Loss: 0.5097\n",
      "Epoch 117/200, Loss: 0.3331, Test Loss: 0.5243\n",
      "Epoch 118/200, Loss: 0.3259, Test Loss: 0.4779\n",
      "Epoch 119/200, Loss: 0.3145, Test Loss: 0.4643\n",
      "Epoch 120/200, Loss: 0.3177, Test Loss: 0.4729\n",
      "Epoch 121/200, Loss: 0.3222, Test Loss: 0.5144\n",
      "Epoch 122/200, Loss: 0.3168, Test Loss: 0.5086\n",
      "Epoch 123/200, Loss: 0.3181, Test Loss: 0.4626\n",
      "Epoch 124/200, Loss: 0.3368, Test Loss: 0.4594\n",
      "Epoch 125/200, Loss: 0.3444, Test Loss: 0.5220\n",
      "Epoch 126/200, Loss: 0.3479, Test Loss: 0.4993\n",
      "Epoch 127/200, Loss: 0.3255, Test Loss: 0.5641\n",
      "Epoch 128/200, Loss: 0.3822, Test Loss: 0.5682\n",
      "Epoch 129/200, Loss: 0.3630, Test Loss: 0.5945\n",
      "Epoch 130/200, Loss: 0.3627, Test Loss: 0.5621\n",
      "Epoch 131/200, Loss: 0.3401, Test Loss: 0.5418\n",
      "Epoch 132/200, Loss: 0.3323, Test Loss: 0.5343\n",
      "Epoch 133/200, Loss: 0.3265, Test Loss: 0.5110\n",
      "Epoch 134/200, Loss: 0.3294, Test Loss: 0.5059\n",
      "Epoch 135/200, Loss: 0.3345, Test Loss: 0.5186\n",
      "Epoch 136/200, Loss: 0.3323, Test Loss: 0.4958\n",
      "Epoch 137/200, Loss: 0.3342, Test Loss: 0.5155\n",
      "Epoch 138/200, Loss: 0.3365, Test Loss: 0.4928\n",
      "Epoch 139/200, Loss: 0.3287, Test Loss: 0.5299\n",
      "Epoch 140/200, Loss: 0.3385, Test Loss: 0.5387\n",
      "Epoch 141/200, Loss: 0.3289, Test Loss: 0.5067\n",
      "Epoch 142/200, Loss: 0.3410, Test Loss: 0.5113\n",
      "Epoch 143/200, Loss: 0.3237, Test Loss: 0.5035\n",
      "Epoch 144/200, Loss: 0.3181, Test Loss: 0.4988\n",
      "Epoch 145/200, Loss: 0.3174, Test Loss: 0.5030\n",
      "Epoch 146/200, Loss: 0.3185, Test Loss: 0.5142\n",
      "Epoch 147/200, Loss: 0.3207, Test Loss: 0.5037\n",
      "Epoch 148/200, Loss: 0.3202, Test Loss: 0.5078\n",
      "Epoch 149/200, Loss: 0.3138, Test Loss: 0.5169\n",
      "Epoch 150/200, Loss: 0.3178, Test Loss: 0.5260\n",
      "Epoch 151/200, Loss: 0.3260, Test Loss: 0.5551\n",
      "Epoch 152/200, Loss: 0.3175, Test Loss: 0.5524\n",
      "Epoch 153/200, Loss: 0.3231, Test Loss: 0.5434\n",
      "Epoch 154/200, Loss: 0.3339, Test Loss: 0.5302\n",
      "Epoch 155/200, Loss: 0.3395, Test Loss: 0.5306\n",
      "Epoch 156/200, Loss: 0.3234, Test Loss: 0.5312\n",
      "Epoch 157/200, Loss: 0.3219, Test Loss: 0.5205\n",
      "Epoch 158/200, Loss: 0.3188, Test Loss: 0.5080\n",
      "Epoch 159/200, Loss: 0.3194, Test Loss: 0.5052\n",
      "Epoch 160/200, Loss: 0.3208, Test Loss: 0.5121\n",
      "Epoch 161/200, Loss: 0.3265, Test Loss: 0.5288\n",
      "Epoch 162/200, Loss: 0.3235, Test Loss: 0.4995\n",
      "Epoch 163/200, Loss: 0.3278, Test Loss: 0.4978\n",
      "Epoch 164/200, Loss: 0.3169, Test Loss: 0.5009\n",
      "Epoch 165/200, Loss: 0.3256, Test Loss: 0.4736\n",
      "Epoch 166/200, Loss: 0.3276, Test Loss: 0.4858\n",
      "Epoch 167/200, Loss: 0.3214, Test Loss: 0.4765\n",
      "Epoch 168/200, Loss: 0.3605, Test Loss: 0.5849\n",
      "Epoch 169/200, Loss: 0.3409, Test Loss: 0.4914\n",
      "Epoch 170/200, Loss: 0.3699, Test Loss: 0.4757\n",
      "Epoch 171/200, Loss: 0.3454, Test Loss: 0.4960\n",
      "Epoch 172/200, Loss: 0.3272, Test Loss: 0.5036\n",
      "Epoch 173/200, Loss: 0.3262, Test Loss: 0.5176\n",
      "Epoch 174/200, Loss: 0.3163, Test Loss: 0.5131\n",
      "Epoch 175/200, Loss: 0.3294, Test Loss: 0.5143\n",
      "Epoch 176/200, Loss: 0.3216, Test Loss: 0.4740\n",
      "Epoch 177/200, Loss: 0.3371, Test Loss: 0.4833\n",
      "Epoch 178/200, Loss: 0.3367, Test Loss: 0.5158\n",
      "Epoch 179/200, Loss: 0.3627, Test Loss: 0.5394\n",
      "Epoch 180/200, Loss: 0.3348, Test Loss: 0.5283\n",
      "Epoch 181/200, Loss: 0.3413, Test Loss: 0.4641\n",
      "Epoch 182/200, Loss: 0.3515, Test Loss: 0.4980\n",
      "Epoch 183/200, Loss: 0.3440, Test Loss: 0.5160\n",
      "Epoch 184/200, Loss: 0.3318, Test Loss: 0.5227\n",
      "Epoch 185/200, Loss: 0.3213, Test Loss: 0.5132\n",
      "Epoch 186/200, Loss: 0.3225, Test Loss: 0.5164\n",
      "Epoch 187/200, Loss: 0.3160, Test Loss: 0.5286\n",
      "Epoch 188/200, Loss: 0.3366, Test Loss: 0.5313\n",
      "Epoch 189/200, Loss: 0.3306, Test Loss: 0.5040\n",
      "Epoch 190/200, Loss: 0.3396, Test Loss: 0.5193\n",
      "Epoch 191/200, Loss: 0.3711, Test Loss: 0.5709\n",
      "Epoch 192/200, Loss: 0.3788, Test Loss: 0.6001\n",
      "Epoch 193/200, Loss: 0.3752, Test Loss: 0.5918\n",
      "Epoch 194/200, Loss: 0.3419, Test Loss: 0.5420\n",
      "Epoch 195/200, Loss: 0.3284, Test Loss: 0.5430\n",
      "Epoch 196/200, Loss: 0.3343, Test Loss: 0.5178\n",
      "Epoch 197/200, Loss: 0.3329, Test Loss: 0.5665\n",
      "Epoch 198/200, Loss: 0.3389, Test Loss: 0.5645\n",
      "Epoch 199/200, Loss: 0.3357, Test Loss: 0.5232\n",
      "Epoch 200/200, Loss: 0.3322, Test Loss: 0.5360\n"
     ]
    }
   ],
   "execution_count": 31
  },
  {
   "cell_type": "markdown",
   "source": [
    "## Task 8: Plot the training and test loss (overlaid) on the vertical axis and the epoch number on the horizontal axis"
   ],
   "metadata": {
    "collapsed": false
   }
  },
  {
   "cell_type": "code",
   "source": [
    "# INSERT CODE HERE\n",
    "plt.figure(figsize=(5, 5))\n",
    "plt.plot(range(200), train_losses, label='Train')\n",
    "plt.plot(range(200), test_losses, label='Test')\n",
    "plt.legend(loc='upper right')\n",
    "plt.xlabel('Epochs')\n",
    "plt.ylabel('Loss')\n",
    "plt.title('EEGCNN with dropout rate 0.5')\n",
    "plt.show()"
   ],
   "metadata": {
    "collapsed": false,
    "ExecuteTime": {
     "end_time": "2024-12-10T20:37:39.143957Z",
     "start_time": "2024-12-10T20:37:39.067892Z"
    }
   },
   "outputs": [
    {
     "data": {
      "text/plain": [
       "<Figure size 500x500 with 1 Axes>"
      ],
      "image/png": "[encoded data removed]"
     },
     "metadata": {},
     "output_type": "display_data"
    }
   ],
   "execution_count": 32
  },
  {
   "cell_type": "markdown",
   "source": [
    "## Task 9: Compute the minimum train and test loss achieved during training and report them"
   ],
   "metadata": {
    "collapsed": false
   }
  },
  {
   "cell_type": "code",
   "source": [
    "# INSERT CODE HERE\n",
    "print('Minimum train loss: ', min(train_losses))\n",
    "print('Minimum test loss: ', min(test_losses))"
   ],
   "metadata": {
    "collapsed": false,
    "ExecuteTime": {
     "end_time": "2024-12-10T20:37:58.522361Z",
     "start_time": "2024-12-10T20:37:58.519164Z"
    }
   },
   "outputs": [
    {
     "name": "stdout",
     "output_type": "stream",
     "text": [
      "Minimum train loss:  0.31355072806278866\n",
      "Minimum test loss:  0.4593844413757324\n"
     ]
    }
   ],
   "execution_count": 33
  },
  {
   "cell_type": "markdown",
   "source": [
    "## Task 10: Repeat Tasks 7-9 for a dropout rate of 0.8\n",
    "Report your observations. What do you notice about the train and test loss as the dropout rate increases?"
   ],
   "metadata": {
    "collapsed": false
   }
  },
  {
   "cell_type": "code",
   "source": [
    "## INSERT CODE BELOW\n",
    "model = EEGCNNwithDropout(input_channels, input_timepoints, num_classes, dropout=0.8)\n",
    "criterion = nn.CrossEntropyLoss()\n",
    "optimizer = optim.Adam(model.parameters(), lr=0.001)\n",
    "train_losses, test_losses = run_train_loop(model, criterion, optimizer, 200)\n",
    "plt.figure(figsize=(5, 5))\n",
    "plt.plot(range(200), train_losses, label='Train')\n",
    "plt.plot(range(200), test_losses, label='Test')\n",
    "plt.legend(loc='upper right')\n",
    "plt.xlabel('Epochs')\n",
    "plt.ylabel('Loss')\n",
    "plt.title('EEGCNN with dropout rate 0.8')\n",
    "plt.show()\n",
    "print('Minimum train loss: ', min(train_losses))\n",
    "print('Minimum test loss: ', min(test_losses))"
   ],
   "metadata": {
    "collapsed": false,
    "ExecuteTime": {
     "end_time": "2024-12-10T20:39:23.882587Z",
     "start_time": "2024-12-10T20:39:09.939649Z"
    }
   },
   "outputs": [
    {
     "name": "stdout",
     "output_type": "stream",
     "text": [
      "Epoch 1/200, Loss: 0.7270, Test Loss: 0.7072\n",
      "Epoch 2/200, Loss: 0.7178, Test Loss: 0.6998\n",
      "Epoch 3/200, Loss: 0.7442, Test Loss: 0.6933\n",
      "Epoch 4/200, Loss: 0.7348, Test Loss: 0.6946\n",
      "Epoch 5/200, Loss: 0.7259, Test Loss: 0.6789\n",
      "Epoch 6/200, Loss: 0.7421, Test Loss: 0.6642\n",
      "Epoch 7/200, Loss: 0.6958, Test Loss: 0.6550\n",
      "Epoch 8/200, Loss: 0.6814, Test Loss: 0.6451\n",
      "Epoch 9/200, Loss: 0.7010, Test Loss: 0.6280\n",
      "Epoch 10/200, Loss: 0.6680, Test Loss: 0.6221\n",
      "Epoch 11/200, Loss: 0.6392, Test Loss: 0.6183\n",
      "Epoch 12/200, Loss: 0.6534, Test Loss: 0.6148\n",
      "Epoch 13/200, Loss: 0.6288, Test Loss: 0.6189\n",
      "Epoch 14/200, Loss: 0.6084, Test Loss: 0.6145\n",
      "Epoch 15/200, Loss: 0.6435, Test Loss: 0.6077\n",
      "Epoch 16/200, Loss: 0.6209, Test Loss: 0.6063\n",
      "Epoch 17/200, Loss: 0.6213, Test Loss: 0.6124\n",
      "Epoch 18/200, Loss: 0.6071, Test Loss: 0.5979\n",
      "Epoch 19/200, Loss: 0.5966, Test Loss: 0.6056\n",
      "Epoch 20/200, Loss: 0.5743, Test Loss: 0.5961\n",
      "Epoch 21/200, Loss: 0.5610, Test Loss: 0.5928\n",
      "Epoch 22/200, Loss: 0.5793, Test Loss: 0.5936\n",
      "Epoch 23/200, Loss: 0.5468, Test Loss: 0.5780\n",
      "Epoch 24/200, Loss: 0.5644, Test Loss: 0.5643\n",
      "Epoch 25/200, Loss: 0.5415, Test Loss: 0.5608\n",
      "Epoch 26/200, Loss: 0.5303, Test Loss: 0.5601\n",
      "Epoch 27/200, Loss: 0.5114, Test Loss: 0.5543\n",
      "Epoch 28/200, Loss: 0.5245, Test Loss: 0.5227\n",
      "Epoch 29/200, Loss: 0.5105, Test Loss: 0.5082\n",
      "Epoch 30/200, Loss: 0.5156, Test Loss: 0.5070\n",
      "Epoch 31/200, Loss: 0.4842, Test Loss: 0.5180\n",
      "Epoch 32/200, Loss: 0.4983, Test Loss: 0.5060\n",
      "Epoch 33/200, Loss: 0.5019, Test Loss: 0.5157\n",
      "Epoch 34/200, Loss: 0.4651, Test Loss: 0.5156\n",
      "Epoch 35/200, Loss: 0.4906, Test Loss: 0.5090\n",
      "Epoch 36/200, Loss: 0.4866, Test Loss: 0.5251\n",
      "Epoch 37/200, Loss: 0.4853, Test Loss: 0.5108\n",
      "Epoch 38/200, Loss: 0.4660, Test Loss: 0.4748\n",
      "Epoch 39/200, Loss: 0.4319, Test Loss: 0.4847\n",
      "Epoch 40/200, Loss: 0.4607, Test Loss: 0.4912\n",
      "Epoch 41/200, Loss: 0.4406, Test Loss: 0.5308\n",
      "Epoch 42/200, Loss: 0.4494, Test Loss: 0.4938\n",
      "Epoch 43/200, Loss: 0.4313, Test Loss: 0.4713\n",
      "Epoch 44/200, Loss: 0.4360, Test Loss: 0.4952\n",
      "Epoch 45/200, Loss: 0.4492, Test Loss: 0.5355\n",
      "Epoch 46/200, Loss: 0.4424, Test Loss: 0.4864\n",
      "Epoch 47/200, Loss: 0.4429, Test Loss: 0.4625\n",
      "Epoch 48/200, Loss: 0.4529, Test Loss: 0.5035\n",
      "Epoch 49/200, Loss: 0.4157, Test Loss: 0.4707\n",
      "Epoch 50/200, Loss: 0.4253, Test Loss: 0.4896\n",
      "Epoch 51/200, Loss: 0.4113, Test Loss: 0.4854\n",
      "Epoch 52/200, Loss: 0.4019, Test Loss: 0.4825\n",
      "Epoch 53/200, Loss: 0.4027, Test Loss: 0.5122\n",
      "Epoch 54/200, Loss: 0.4041, Test Loss: 0.5034\n",
      "Epoch 55/200, Loss: 0.3937, Test Loss: 0.4932\n",
      "Epoch 56/200, Loss: 0.4052, Test Loss: 0.4770\n",
      "Epoch 57/200, Loss: 0.3973, Test Loss: 0.4971\n",
      "Epoch 58/200, Loss: 0.3959, Test Loss: 0.4875\n",
      "Epoch 59/200, Loss: 0.4010, Test Loss: 0.5160\n",
      "Epoch 60/200, Loss: 0.3995, Test Loss: 0.4995\n",
      "Epoch 61/200, Loss: 0.3950, Test Loss: 0.4935\n",
      "Epoch 62/200, Loss: 0.3825, Test Loss: 0.4959\n",
      "Epoch 63/200, Loss: 0.4079, Test Loss: 0.5026\n",
      "Epoch 64/200, Loss: 0.3993, Test Loss: 0.4890\n",
      "Epoch 65/200, Loss: 0.4059, Test Loss: 0.4761\n",
      "Epoch 66/200, Loss: 0.4356, Test Loss: 0.4695\n",
      "Epoch 67/200, Loss: 0.4416, Test Loss: 0.5052\n",
      "Epoch 68/200, Loss: 0.4447, Test Loss: 0.5362\n",
      "Epoch 69/200, Loss: 0.4194, Test Loss: 0.5317\n",
      "Epoch 70/200, Loss: 0.3993, Test Loss: 0.5244\n",
      "Epoch 71/200, Loss: 0.4081, Test Loss: 0.5085\n",
      "Epoch 72/200, Loss: 0.4033, Test Loss: 0.5106\n",
      "Epoch 73/200, Loss: 0.4129, Test Loss: 0.5397\n",
      "Epoch 74/200, Loss: 0.4051, Test Loss: 0.5025\n",
      "Epoch 75/200, Loss: 0.3911, Test Loss: 0.5281\n",
      "Epoch 76/200, Loss: 0.3959, Test Loss: 0.5011\n",
      "Epoch 77/200, Loss: 0.3835, Test Loss: 0.4874\n",
      "Epoch 78/200, Loss: 0.3772, Test Loss: 0.4845\n",
      "Epoch 79/200, Loss: 0.3906, Test Loss: 0.4885\n",
      "Epoch 80/200, Loss: 0.3841, Test Loss: 0.4923\n",
      "Epoch 81/200, Loss: 0.3763, Test Loss: 0.4883\n",
      "Epoch 82/200, Loss: 0.3862, Test Loss: 0.4933\n",
      "Epoch 83/200, Loss: 0.3730, Test Loss: 0.4811\n",
      "Epoch 84/200, Loss: 0.3784, Test Loss: 0.4647\n",
      "Epoch 85/200, Loss: 0.3655, Test Loss: 0.4952\n",
      "Epoch 86/200, Loss: 0.3731, Test Loss: 0.4552\n",
      "Epoch 87/200, Loss: 0.4008, Test Loss: 0.4674\n",
      "Epoch 88/200, Loss: 0.3837, Test Loss: 0.4819\n",
      "Epoch 89/200, Loss: 0.3747, Test Loss: 0.4944\n",
      "Epoch 90/200, Loss: 0.3785, Test Loss: 0.5742\n",
      "Epoch 91/200, Loss: 0.4567, Test Loss: 0.5465\n",
      "Epoch 92/200, Loss: 0.4525, Test Loss: 0.5424\n",
      "Epoch 93/200, Loss: 0.4420, Test Loss: 0.5295\n",
      "Epoch 94/200, Loss: 0.4177, Test Loss: 0.4876\n",
      "Epoch 95/200, Loss: 0.4040, Test Loss: 0.4676\n",
      "Epoch 96/200, Loss: 0.4024, Test Loss: 0.4792\n",
      "Epoch 97/200, Loss: 0.3663, Test Loss: 0.4746\n",
      "Epoch 98/200, Loss: 0.3854, Test Loss: 0.4631\n",
      "Epoch 99/200, Loss: 0.3784, Test Loss: 0.4658\n",
      "Epoch 100/200, Loss: 0.3666, Test Loss: 0.4614\n",
      "Epoch 101/200, Loss: 0.4039, Test Loss: 0.4657\n",
      "Epoch 102/200, Loss: 0.3894, Test Loss: 0.4663\n",
      "Epoch 103/200, Loss: 0.3754, Test Loss: 0.4673\n",
      "Epoch 104/200, Loss: 0.3725, Test Loss: 0.4445\n",
      "Epoch 105/200, Loss: 0.3566, Test Loss: 0.4585\n",
      "Epoch 106/200, Loss: 0.3768, Test Loss: 0.4481\n",
      "Epoch 107/200, Loss: 0.3697, Test Loss: 0.4793\n",
      "Epoch 108/200, Loss: 0.3760, Test Loss: 0.4533\n",
      "Epoch 109/200, Loss: 0.3869, Test Loss: 0.4353\n",
      "Epoch 110/200, Loss: 0.3633, Test Loss: 0.4411\n",
      "Epoch 111/200, Loss: 0.3573, Test Loss: 0.4552\n",
      "Epoch 112/200, Loss: 0.3744, Test Loss: 0.4892\n",
      "Epoch 113/200, Loss: 0.3804, Test Loss: 0.4891\n",
      "Epoch 114/200, Loss: 0.3561, Test Loss: 0.4789\n",
      "Epoch 115/200, Loss: 0.3474, Test Loss: 0.4623\n",
      "Epoch 116/200, Loss: 0.3703, Test Loss: 0.4551\n",
      "Epoch 117/200, Loss: 0.3647, Test Loss: 0.4599\n",
      "Epoch 118/200, Loss: 0.3737, Test Loss: 0.4511\n",
      "Epoch 119/200, Loss: 0.3639, Test Loss: 0.4856\n",
      "Epoch 120/200, Loss: 0.3540, Test Loss: 0.4813\n",
      "Epoch 121/200, Loss: 0.3649, Test Loss: 0.4825\n",
      "Epoch 122/200, Loss: 0.3723, Test Loss: 0.4849\n",
      "Epoch 123/200, Loss: 0.3753, Test Loss: 0.4977\n",
      "Epoch 124/200, Loss: 0.3715, Test Loss: 0.4886\n",
      "Epoch 125/200, Loss: 0.3653, Test Loss: 0.4750\n",
      "Epoch 126/200, Loss: 0.3499, Test Loss: 0.4762\n",
      "Epoch 127/200, Loss: 0.3598, Test Loss: 0.4912\n",
      "Epoch 128/200, Loss: 0.3435, Test Loss: 0.4604\n",
      "Epoch 129/200, Loss: 0.3479, Test Loss: 0.4607\n",
      "Epoch 130/200, Loss: 0.3520, Test Loss: 0.4742\n",
      "Epoch 131/200, Loss: 0.3619, Test Loss: 0.4821\n",
      "Epoch 132/200, Loss: 0.3589, Test Loss: 0.4719\n",
      "Epoch 133/200, Loss: 0.3515, Test Loss: 0.4591\n",
      "Epoch 134/200, Loss: 0.3548, Test Loss: 0.4876\n",
      "Epoch 135/200, Loss: 0.3913, Test Loss: 0.4927\n",
      "Epoch 136/200, Loss: 0.3822, Test Loss: 0.4669\n",
      "Epoch 137/200, Loss: 0.3721, Test Loss: 0.4607\n",
      "Epoch 138/200, Loss: 0.3446, Test Loss: 0.4526\n",
      "Epoch 139/200, Loss: 0.3543, Test Loss: 0.4700\n",
      "Epoch 140/200, Loss: 0.3603, Test Loss: 0.4876\n",
      "Epoch 141/200, Loss: 0.3702, Test Loss: 0.4707\n",
      "Epoch 142/200, Loss: 0.3671, Test Loss: 0.4553\n",
      "Epoch 143/200, Loss: 0.3609, Test Loss: 0.4597\n",
      "Epoch 144/200, Loss: 0.3638, Test Loss: 0.4716\n",
      "Epoch 145/200, Loss: 0.3506, Test Loss: 0.4548\n",
      "Epoch 146/200, Loss: 0.3537, Test Loss: 0.4509\n",
      "Epoch 147/200, Loss: 0.3436, Test Loss: 0.4722\n",
      "Epoch 148/200, Loss: 0.3525, Test Loss: 0.4743\n",
      "Epoch 149/200, Loss: 0.3493, Test Loss: 0.5027\n",
      "Epoch 150/200, Loss: 0.3723, Test Loss: 0.5166\n",
      "Epoch 151/200, Loss: 0.3666, Test Loss: 0.4976\n",
      "Epoch 152/200, Loss: 0.3382, Test Loss: 0.4868\n",
      "Epoch 153/200, Loss: 0.3345, Test Loss: 0.5042\n",
      "Epoch 154/200, Loss: 0.3408, Test Loss: 0.4933\n",
      "Epoch 155/200, Loss: 0.3491, Test Loss: 0.5002\n",
      "Epoch 156/200, Loss: 0.3650, Test Loss: 0.5166\n",
      "Epoch 157/200, Loss: 0.3518, Test Loss: 0.4961\n",
      "Epoch 158/200, Loss: 0.3774, Test Loss: 0.5459\n",
      "Epoch 159/200, Loss: 0.3923, Test Loss: 0.4970\n",
      "Epoch 160/200, Loss: 0.3874, Test Loss: 0.4864\n",
      "Epoch 161/200, Loss: 0.3484, Test Loss: 0.4652\n",
      "Epoch 162/200, Loss: 0.3602, Test Loss: 0.4730\n",
      "Epoch 163/200, Loss: 0.3428, Test Loss: 0.4681\n",
      "Epoch 164/200, Loss: 0.3489, Test Loss: 0.4456\n",
      "Epoch 165/200, Loss: 0.3504, Test Loss: 0.4535\n",
      "Epoch 166/200, Loss: 0.3450, Test Loss: 0.4765\n",
      "Epoch 167/200, Loss: 0.3484, Test Loss: 0.4638\n",
      "Epoch 168/200, Loss: 0.3492, Test Loss: 0.4702\n",
      "Epoch 169/200, Loss: 0.3525, Test Loss: 0.4872\n",
      "Epoch 170/200, Loss: 0.3708, Test Loss: 0.4708\n",
      "Epoch 171/200, Loss: 0.3967, Test Loss: 0.4947\n",
      "Epoch 172/200, Loss: 0.4301, Test Loss: 0.4715\n",
      "Epoch 173/200, Loss: 0.4423, Test Loss: 0.4993\n",
      "Epoch 174/200, Loss: 0.3849, Test Loss: 0.5206\n",
      "Epoch 175/200, Loss: 0.4047, Test Loss: 0.5063\n",
      "Epoch 176/200, Loss: 0.3901, Test Loss: 0.4682\n",
      "Epoch 177/200, Loss: 0.3881, Test Loss: 0.4633\n",
      "Epoch 178/200, Loss: 0.4042, Test Loss: 0.4257\n",
      "Epoch 179/200, Loss: 0.3657, Test Loss: 0.4483\n",
      "Epoch 180/200, Loss: 0.3810, Test Loss: 0.4435\n",
      "Epoch 181/200, Loss: 0.3774, Test Loss: 0.4827\n",
      "Epoch 182/200, Loss: 0.3939, Test Loss: 0.4691\n",
      "Epoch 183/200, Loss: 0.3892, Test Loss: 0.4981\n",
      "Epoch 184/200, Loss: 0.3809, Test Loss: 0.5027\n",
      "Epoch 185/200, Loss: 0.4117, Test Loss: 0.4830\n",
      "Epoch 186/200, Loss: 0.3815, Test Loss: 0.4759\n",
      "Epoch 187/200, Loss: 0.4232, Test Loss: 0.5453\n",
      "Epoch 188/200, Loss: 0.4327, Test Loss: 0.4907\n",
      "Epoch 189/200, Loss: 0.4048, Test Loss: 0.4525\n",
      "Epoch 190/200, Loss: 0.3637, Test Loss: 0.4865\n",
      "Epoch 191/200, Loss: 0.3786, Test Loss: 0.4948\n",
      "Epoch 192/200, Loss: 0.3822, Test Loss: 0.4840\n",
      "Epoch 193/200, Loss: 0.3718, Test Loss: 0.4756\n",
      "Epoch 194/200, Loss: 0.3462, Test Loss: 0.4502\n",
      "Epoch 195/200, Loss: 0.3575, Test Loss: 0.4811\n",
      "Epoch 196/200, Loss: 0.3536, Test Loss: 0.4783\n",
      "Epoch 197/200, Loss: 0.3570, Test Loss: 0.5015\n",
      "Epoch 198/200, Loss: 0.3468, Test Loss: 0.4709\n",
      "Epoch 199/200, Loss: 0.3340, Test Loss: 0.4577\n",
      "Epoch 200/200, Loss: 0.3468, Test Loss: 0.4482\n"
     ]
    },
    {
     "data": {
      "text/plain": [
       "<Figure size 500x500 with 1 Axes>"
      ],
      "image/png": "[encoded data removed]"
     },
     "metadata": {},
     "output_type": "display_data"
    },
    {
     "name": "stdout",
     "output_type": "stream",
     "text": [
      "Minimum train loss:  0.33402543266614276\n",
      "Minimum test loss:  0.42571016152699787\n"
     ]
    }
   ],
   "execution_count": 34
  },
  {
   "metadata": {},
   "cell_type": "code",
   "outputs": [],
   "execution_count": null,
   "source": ""
  }
 ],
 "metadata": {
  "kernelspec": {
   "display_name": "Python 3",
   "language": "python",
   "name": "python3"
  },
  "language_info": {
   "codemirror_mode": {
    "name": "ipython",
    "version": 2
   },
   "file_extension": ".py",
   "mimetype": "text/x-python",
   "name": "python",
   "nbconvert_exporter": "python",
   "pygments_lexer": "ipython2",
   "version": "2.7.6"
  }
 },
 "nbformat": 4,
 "nbformat_minor": 0
}
