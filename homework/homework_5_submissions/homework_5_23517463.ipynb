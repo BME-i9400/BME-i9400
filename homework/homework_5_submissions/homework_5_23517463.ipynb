{
 "cells": [
  {
   "cell_type": "markdown",
   "metadata": {
    "collapsed": false,
    "jupyter": {
     "outputs_hidden": false
    }
   },
   "source": [
    "## BME i9400\n",
    "## Fall 2024\n",
    "### Homework 5: Dropout regularization in MLPs and Convolutional Neural Networks\n",
    "\n",
    "**Due date: Wednesday, December 11th 2024, 11:59 PM EST**\n",
    "\n",
    "**Total points: 100**"
   ]
  },
  {
   "cell_type": "markdown",
   "metadata": {
    "collapsed": false,
    "jupyter": {
     "outputs_hidden": false
    }
   },
   "source": [
    "## Instructions\n",
    "\n",
    "In this homework you will familiarize yourself with a type of regularization that is commonly used in deep learning models: *dropout*.\n",
    "\n",
    "Dropout is a regularization technique that aims to prevent overfitting by randomly “dropping out” (setting to zero) a subset of neurons and their connections during training. During each training iteration, a randomly selected subset of the neurons is temporarily removed from the network. By removing neurons, dropout forces the network to not rely too heavily on any one neuron, encouraging redundancy and robust feature learning.Note that during model evaluation, dropout is turned off, and all neurons are active, but their outputs are scaled by the dropout rate to maintain consistency with training.\n",
    "\n",
    "Dropout mitigates overfitting by introducing noise into the training process, effectively training many smaller “sub-networks” and averaging their predictions. By training with multiple random sub-networks, the model becomes more robust and less sensitive to specific neurons or weights.\n",
    "\n",
    "In PyTorch, dropout is implemented with the `nn.Dropout` module. The `nn.Dropout` module takes a single argument, `p`, which is the probability of dropping out a neuron. The `p` argument is the probability that a neuron will be zeroed out during training. The `p` argument is typically set to a value between 0.2 and 0.5.\n",
    "\n",
    "To instantiate a dropout layer with a dropout rate of 0.2, you can use the following code:\n",
    "```dropout_layer = nn.Dropout(p=0.2)```\n",
    "\n",
    "To apply dropout to a tensor `x`, you can use the following code:\n",
    "```x = dropout_layer(x)```\n"
   ]
  },
  {
   "cell_type": "code",
   "metadata": {
    "collapsed": false,
    "jupyter": {
     "outputs_hidden": false
    },
    "ExecuteTime": {
     "end_time": "2024-12-12T03:03:03.654544Z",
     "start_time": "2024-12-12T03:02:55.582133Z"
    }
   },
   "source": [
    "import torch\n",
    "import torch.nn as nn\n",
    "import torch.optim as optim\n",
    "from sklearn.model_selection import train_test_split\n",
    "import numpy as np\n",
    "from torch.utils.data import TensorDataset, DataLoader\n",
    "import matplotlib.pyplot as plt"
   ],
   "outputs": [],
   "execution_count": 2
  },
  {
   "cell_type": "markdown",
   "metadata": {
    "collapsed": false,
    "jupyter": {
     "outputs_hidden": false
    }
   },
   "source": [
    "## Load the dataset, split into train and test sets, cast to PyTorch tensors, and create data loaders\n",
    "(DONE FOR YOU)"
   ]
  },
  {
   "cell_type": "code",
   "metadata": {
    "collapsed": false,
    "jupyter": {
     "outputs_hidden": false
    },
    "ExecuteTime": {
     "end_time": "2024-12-12T03:03:29.355416Z",
     "start_time": "2024-12-12T03:03:29.208035Z"
    }
   },
   "source": [
    "tmp = np.load('eeg_alcohol_data.npy', allow_pickle=True)\n",
    "X = tmp.item().get('X')\n",
    "y = tmp.item().get('y')\n",
    "if X.dtype != np.float32:\n",
    "    X = np.array(X, dtype=np.float32)\n",
    "if y.dtype not in [np.int32, np.int64]:\n",
    "    y = np.array(y, dtype=np.int64)\n",
    "\n",
    "X_train, X_test, y_train, y_test = train_test_split(X, y, test_size=0.2, random_state=42)\n",
    "\n",
    "X_train = torch.tensor(X_train, dtype=torch.float32)\n",
    "X_test = torch.tensor(X_test, dtype=torch.float32)\n",
    "y_train = torch.tensor(y_train, dtype=torch.long)\n",
    "y_test = torch.tensor(y_test, dtype=torch.long)\n",
    "\n",
    "train_dataset = TensorDataset(X_train, y_train)\n",
    "test_dataset = TensorDataset(X_test, y_test)\n",
    "train_loader = DataLoader(train_dataset, batch_size=32, shuffle=True)\n",
    "test_loader = DataLoader(test_dataset, batch_size=32, shuffle=False)"
   ],
   "outputs": [],
   "execution_count": 4
  },
  {
   "cell_type": "markdown",
   "metadata": {
    "collapsed": false,
    "jupyter": {
     "outputs_hidden": false
    }
   },
   "source": [
    "### Define the CNN model\n",
    "We will work with a model that combines two convolutional layers at the front end with three fully connected layers at the back end. Pay attention to the arguments of the Conv2D and Linear blocks, as it will help your understanding of the model architecture.\n",
    "(DONE FOR YOU)"
   ]
  },
  {
   "cell_type": "code",
   "metadata": {
    "collapsed": false,
    "jupyter": {
     "outputs_hidden": false
    },
    "ExecuteTime": {
     "end_time": "2024-12-12T03:03:32.599428Z",
     "start_time": "2024-12-12T03:03:32.575939Z"
    }
   },
   "source": [
    "class EEGCNN(nn.Module):\n",
    "    def __init__(self, input_channels, input_timepoints, num_classes):\n",
    "        super(EEGCNN, self).__init__()\n",
    "        self.spatial_conv = nn.Conv2d(1, 8, kernel_size=(input_channels, 1))  # Spatial filtering\n",
    "        self.temporal_conv = nn.Conv2d(8, 16, kernel_size=(1, 10), stride=(1, 2))  # Temporal filtering\n",
    "        self.flatten = nn.Flatten()\n",
    "        self.fc1 = nn.Linear(16 * ((input_timepoints - 10) // 2 + 1), 32) # fully connected layer 1\n",
    "        self.fc2 = nn.Linear(32, 16)  # fully connected layer 2\n",
    "        self.fc3 = nn.Linear(16, num_classes) # fully connected layer 3\n",
    "        self.softmax = nn.Softmax(dim=1)\n",
    "\n",
    "    def forward(self, x):\n",
    "        x = x.unsqueeze(1)  # Add channel dimension\n",
    "        x = torch.relu(self.spatial_conv(x))\n",
    "        x = torch.relu(self.temporal_conv(x))\n",
    "        x = self.flatten(x) # convert from 2D to 1D\n",
    "        x = self.fc1(x) # fully connected layer 1\n",
    "        x = self.fc2(x) # fully connected layer 2\n",
    "        x = self.fc3(x) # fully connected layer 3\n",
    "        x = self.softmax(x)\n",
    "\n",
    "        return x"
   ],
   "outputs": [],
   "execution_count": 5
  },
  {
   "cell_type": "markdown",
   "metadata": {
    "collapsed": false,
    "jupyter": {
     "outputs_hidden": false
    }
   },
   "source": [
    "### Instantiate the model with the parameters of our dataset\n",
    "(DONE FOR YOU)"
   ]
  },
  {
   "cell_type": "code",
   "metadata": {
    "collapsed": false,
    "jupyter": {
     "outputs_hidden": false
    },
    "ExecuteTime": {
     "end_time": "2024-12-12T03:03:38.395182Z",
     "start_time": "2024-12-12T03:03:38.356787Z"
    }
   },
   "source": [
    "input_channels = X_train.shape[1]  # 64 electrodes\n",
    "input_timepoints = X_train.shape[2]  # 256 time samples\n",
    "num_classes = len(torch.unique(y_train))  # Number of unique classes in y\n",
    "model = EEGCNN(input_channels, input_timepoints, num_classes)"
   ],
   "outputs": [],
   "execution_count": 6
  },
  {
   "cell_type": "markdown",
   "metadata": {
    "collapsed": false,
    "jupyter": {
     "outputs_hidden": false
    }
   },
   "source": [
    "### Define the training loop and train for 200 epochs\n",
    "Below is a function that trains the model for a specified number of epochs, reporting the training and test loss after each epoch.\n",
    "(DONE FOR YOU)"
   ]
  },
  {
   "cell_type": "code",
   "metadata": {
    "collapsed": false,
    "jupyter": {
     "outputs_hidden": false
    },
    "ExecuteTime": {
     "end_time": "2024-12-12T03:03:40.310145Z",
     "start_time": "2024-12-12T03:03:40.293769Z"
    }
   },
   "source": [
    "def run_train_loop(model, criterion, optimizer, epochs=200):\n",
    "\n",
    "    train_losses = []\n",
    "    test_losses = []\n",
    "\n",
    "    for epoch in range(epochs):\n",
    "        model.train()\n",
    "        running_loss = 0.0\n",
    "        for X_batch, y_batch in train_loader:\n",
    "            optimizer.zero_grad()\n",
    "            outputs = model(X_batch)\n",
    "            loss = criterion(outputs, y_batch)\n",
    "            loss.backward()\n",
    "            optimizer.step()\n",
    "            running_loss += loss.item()\n",
    "\n",
    "        # evaluate test loss\n",
    "        model.eval()\n",
    "        test_loss = 0.0\n",
    "        with torch.no_grad():\n",
    "            for X_batch, y_batch in test_loader:\n",
    "                outputs = model(X_batch)\n",
    "                loss = criterion(outputs, y_batch)\n",
    "                test_loss += loss.item()\n",
    "\n",
    "        print(f\"Epoch {epoch+1}/{epochs}, Loss: {running_loss/len(train_loader):.4f}, Test Loss: {test_loss/len(test_loader):.4f}\")\n",
    "        train_losses.append(running_loss/len(train_loader))\n",
    "        test_losses.append(test_loss/len(test_loader))\n",
    "\n",
    "    return train_losses, test_losses"
   ],
   "outputs": [],
   "execution_count": 7
  },
  {
   "cell_type": "markdown",
   "metadata": {
    "collapsed": false,
    "jupyter": {
     "outputs_hidden": false
    }
   },
   "source": [
    "### Here we train the model for 200 epochs\n",
    "(DONE FOR YOU)"
   ]
  },
  {
   "cell_type": "code",
   "metadata": {
    "collapsed": false,
    "jupyter": {
     "outputs_hidden": false
    },
    "ExecuteTime": {
     "end_time": "2024-12-12T03:04:31.665664Z",
     "start_time": "2024-12-12T03:03:42.752427Z"
    }
   },
   "source": [
    "criterion = nn.CrossEntropyLoss()\n",
    "optimizer = optim.Adam(model.parameters(), lr=0.001)\n",
    "epochs = 200\n",
    "train_losses, test_losses = run_train_loop(model, criterion, optimizer, epochs)"
   ],
   "outputs": [
    {
     "name": "stdout",
     "output_type": "stream",
     "text": [
      "Epoch 1/200, Loss: 0.7398, Test Loss: 0.7097\n",
      "Epoch 2/200, Loss: 0.5665, Test Loss: 0.5979\n",
      "Epoch 3/200, Loss: 0.4890, Test Loss: 0.5499\n",
      "Epoch 4/200, Loss: 0.4425, Test Loss: 0.5636\n",
      "Epoch 5/200, Loss: 0.4228, Test Loss: 0.5374\n",
      "Epoch 6/200, Loss: 0.3917, Test Loss: 0.5471\n",
      "Epoch 7/200, Loss: 0.3960, Test Loss: 0.5097\n",
      "Epoch 8/200, Loss: 0.3768, Test Loss: 0.5433\n",
      "Epoch 9/200, Loss: 0.3880, Test Loss: 0.5395\n",
      "Epoch 10/200, Loss: 0.3820, Test Loss: 0.5630\n",
      "Epoch 11/200, Loss: 0.3593, Test Loss: 0.5191\n",
      "Epoch 12/200, Loss: 0.3571, Test Loss: 0.4970\n",
      "Epoch 13/200, Loss: 0.3576, Test Loss: 0.5293\n",
      "Epoch 14/200, Loss: 0.3632, Test Loss: 0.5457\n",
      "Epoch 15/200, Loss: 0.3408, Test Loss: 0.5272\n",
      "Epoch 16/200, Loss: 0.3488, Test Loss: 0.5527\n",
      "Epoch 17/200, Loss: 0.3416, Test Loss: 0.5084\n",
      "Epoch 18/200, Loss: 0.3355, Test Loss: 0.5274\n",
      "Epoch 19/200, Loss: 0.3322, Test Loss: 0.5014\n",
      "Epoch 20/200, Loss: 0.3357, Test Loss: 0.4884\n",
      "Epoch 21/200, Loss: 0.3305, Test Loss: 0.4857\n",
      "Epoch 22/200, Loss: 0.3304, Test Loss: 0.4996\n",
      "Epoch 23/200, Loss: 0.3298, Test Loss: 0.4836\n",
      "Epoch 24/200, Loss: 0.3305, Test Loss: 0.4755\n",
      "Epoch 25/200, Loss: 0.3295, Test Loss: 0.4851\n",
      "Epoch 26/200, Loss: 0.3326, Test Loss: 0.4846\n",
      "Epoch 27/200, Loss: 0.3290, Test Loss: 0.4867\n",
      "Epoch 28/200, Loss: 0.3302, Test Loss: 0.4862\n",
      "Epoch 29/200, Loss: 0.3289, Test Loss: 0.4858\n",
      "Epoch 30/200, Loss: 0.3289, Test Loss: 0.4850\n",
      "Epoch 31/200, Loss: 0.3301, Test Loss: 0.4834\n",
      "Epoch 32/200, Loss: 0.3288, Test Loss: 0.4744\n",
      "Epoch 33/200, Loss: 0.3264, Test Loss: 0.4782\n",
      "Epoch 34/200, Loss: 0.3263, Test Loss: 0.4879\n",
      "Epoch 35/200, Loss: 0.3263, Test Loss: 0.4910\n",
      "Epoch 36/200, Loss: 0.3263, Test Loss: 0.4914\n",
      "Epoch 37/200, Loss: 0.3275, Test Loss: 0.4912\n",
      "Epoch 38/200, Loss: 0.3263, Test Loss: 0.4909\n",
      "Epoch 39/200, Loss: 0.3263, Test Loss: 0.4913\n",
      "Epoch 40/200, Loss: 0.3266, Test Loss: 0.4719\n",
      "Epoch 41/200, Loss: 0.3409, Test Loss: 0.5227\n",
      "Epoch 42/200, Loss: 0.3755, Test Loss: 0.5138\n",
      "Epoch 43/200, Loss: 0.3560, Test Loss: 0.5690\n",
      "Epoch 44/200, Loss: 0.3459, Test Loss: 0.5270\n",
      "Epoch 45/200, Loss: 0.3414, Test Loss: 0.5246\n",
      "Epoch 46/200, Loss: 0.3369, Test Loss: 0.5605\n",
      "Epoch 47/200, Loss: 0.3374, Test Loss: 0.5297\n",
      "Epoch 48/200, Loss: 0.3416, Test Loss: 0.5465\n",
      "Epoch 49/200, Loss: 0.3403, Test Loss: 0.5734\n",
      "Epoch 50/200, Loss: 0.3413, Test Loss: 0.5279\n",
      "Epoch 51/200, Loss: 0.3343, Test Loss: 0.5169\n",
      "Epoch 52/200, Loss: 0.3350, Test Loss: 0.5558\n",
      "Epoch 53/200, Loss: 0.3336, Test Loss: 0.5160\n",
      "Epoch 54/200, Loss: 0.3262, Test Loss: 0.5236\n",
      "Epoch 55/200, Loss: 0.3273, Test Loss: 0.5027\n",
      "Epoch 56/200, Loss: 0.3223, Test Loss: 0.4977\n",
      "Epoch 57/200, Loss: 0.3223, Test Loss: 0.4981\n",
      "Epoch 58/200, Loss: 0.3211, Test Loss: 0.4983\n",
      "Epoch 59/200, Loss: 0.3211, Test Loss: 0.4986\n",
      "Epoch 60/200, Loss: 0.3211, Test Loss: 0.4989\n",
      "Epoch 61/200, Loss: 0.3211, Test Loss: 0.4989\n",
      "Epoch 62/200, Loss: 0.3223, Test Loss: 0.4989\n",
      "Epoch 63/200, Loss: 0.3211, Test Loss: 0.4989\n",
      "Epoch 64/200, Loss: 0.3211, Test Loss: 0.4989\n",
      "Epoch 65/200, Loss: 0.3211, Test Loss: 0.4988\n",
      "Epoch 66/200, Loss: 0.3211, Test Loss: 0.4988\n",
      "Epoch 67/200, Loss: 0.3223, Test Loss: 0.4988\n",
      "Epoch 68/200, Loss: 0.3234, Test Loss: 0.4987\n",
      "Epoch 69/200, Loss: 0.3223, Test Loss: 0.4988\n",
      "Epoch 70/200, Loss: 0.3223, Test Loss: 0.4988\n",
      "Epoch 71/200, Loss: 0.3211, Test Loss: 0.4987\n",
      "Epoch 72/200, Loss: 0.3211, Test Loss: 0.4987\n",
      "Epoch 73/200, Loss: 0.3211, Test Loss: 0.4987\n",
      "Epoch 74/200, Loss: 0.3234, Test Loss: 0.4987\n",
      "Epoch 75/200, Loss: 0.3211, Test Loss: 0.4987\n",
      "Epoch 76/200, Loss: 0.3211, Test Loss: 0.4987\n",
      "Epoch 77/200, Loss: 0.3211, Test Loss: 0.4987\n",
      "Epoch 78/200, Loss: 0.3211, Test Loss: 0.4988\n",
      "Epoch 79/200, Loss: 0.3211, Test Loss: 0.4988\n",
      "Epoch 80/200, Loss: 0.3211, Test Loss: 0.4988\n",
      "Epoch 81/200, Loss: 0.3211, Test Loss: 0.4988\n",
      "Epoch 82/200, Loss: 0.3211, Test Loss: 0.4989\n",
      "Epoch 83/200, Loss: 0.3211, Test Loss: 0.4989\n",
      "Epoch 84/200, Loss: 0.3211, Test Loss: 0.4989\n",
      "Epoch 85/200, Loss: 0.3211, Test Loss: 0.4989\n",
      "Epoch 86/200, Loss: 0.3211, Test Loss: 0.4989\n",
      "Epoch 87/200, Loss: 0.3211, Test Loss: 0.4989\n",
      "Epoch 88/200, Loss: 0.3223, Test Loss: 0.4990\n",
      "Epoch 89/200, Loss: 0.3223, Test Loss: 0.4990\n",
      "Epoch 90/200, Loss: 0.3211, Test Loss: 0.4990\n",
      "Epoch 91/200, Loss: 0.3211, Test Loss: 0.4991\n",
      "Epoch 92/200, Loss: 0.3211, Test Loss: 0.4991\n",
      "Epoch 93/200, Loss: 0.3211, Test Loss: 0.4991\n",
      "Epoch 94/200, Loss: 0.3223, Test Loss: 0.4991\n",
      "Epoch 95/200, Loss: 0.3211, Test Loss: 0.4991\n",
      "Epoch 96/200, Loss: 0.3211, Test Loss: 0.4992\n",
      "Epoch 97/200, Loss: 0.3211, Test Loss: 0.4992\n",
      "Epoch 98/200, Loss: 0.3211, Test Loss: 0.4992\n",
      "Epoch 99/200, Loss: 0.3211, Test Loss: 0.4992\n",
      "Epoch 100/200, Loss: 0.3211, Test Loss: 0.4993\n",
      "Epoch 101/200, Loss: 0.3211, Test Loss: 0.4993\n",
      "Epoch 102/200, Loss: 0.3211, Test Loss: 0.4993\n",
      "Epoch 103/200, Loss: 0.3211, Test Loss: 0.4994\n",
      "Epoch 104/200, Loss: 0.3211, Test Loss: 0.4994\n",
      "Epoch 105/200, Loss: 0.3211, Test Loss: 0.4994\n",
      "Epoch 106/200, Loss: 0.3211, Test Loss: 0.4994\n",
      "Epoch 107/200, Loss: 0.3211, Test Loss: 0.4995\n",
      "Epoch 108/200, Loss: 0.3211, Test Loss: 0.4995\n",
      "Epoch 109/200, Loss: 0.3211, Test Loss: 0.4995\n",
      "Epoch 110/200, Loss: 0.3211, Test Loss: 0.4996\n",
      "Epoch 111/200, Loss: 0.3211, Test Loss: 0.4996\n",
      "Epoch 112/200, Loss: 0.3211, Test Loss: 0.4996\n",
      "Epoch 113/200, Loss: 0.3211, Test Loss: 0.4996\n",
      "Epoch 114/200, Loss: 0.3211, Test Loss: 0.4997\n",
      "Epoch 115/200, Loss: 0.3211, Test Loss: 0.4997\n",
      "Epoch 116/200, Loss: 0.3223, Test Loss: 0.4998\n",
      "Epoch 117/200, Loss: 0.3211, Test Loss: 0.4998\n",
      "Epoch 118/200, Loss: 0.3211, Test Loss: 0.4998\n",
      "Epoch 119/200, Loss: 0.3211, Test Loss: 0.4999\n",
      "Epoch 120/200, Loss: 0.3211, Test Loss: 0.4999\n",
      "Epoch 121/200, Loss: 0.3211, Test Loss: 0.4999\n",
      "Epoch 122/200, Loss: 0.3211, Test Loss: 0.5000\n",
      "Epoch 123/200, Loss: 0.3211, Test Loss: 0.5000\n",
      "Epoch 124/200, Loss: 0.3211, Test Loss: 0.5000\n",
      "Epoch 125/200, Loss: 0.3211, Test Loss: 0.5001\n",
      "Epoch 126/200, Loss: 0.3211, Test Loss: 0.5001\n",
      "Epoch 127/200, Loss: 0.3211, Test Loss: 0.5002\n",
      "Epoch 128/200, Loss: 0.3211, Test Loss: 0.5002\n",
      "Epoch 129/200, Loss: 0.3211, Test Loss: 0.5002\n",
      "Epoch 130/200, Loss: 0.3211, Test Loss: 0.5003\n",
      "Epoch 131/200, Loss: 0.3211, Test Loss: 0.5003\n",
      "Epoch 132/200, Loss: 0.3211, Test Loss: 0.5003\n",
      "Epoch 133/200, Loss: 0.3223, Test Loss: 0.5004\n",
      "Epoch 134/200, Loss: 0.3211, Test Loss: 0.5004\n",
      "Epoch 135/200, Loss: 0.3211, Test Loss: 0.5005\n",
      "Epoch 136/200, Loss: 0.3223, Test Loss: 0.5005\n",
      "Epoch 137/200, Loss: 0.3223, Test Loss: 0.5005\n",
      "Epoch 138/200, Loss: 0.3211, Test Loss: 0.5006\n",
      "Epoch 139/200, Loss: 0.3211, Test Loss: 0.5006\n",
      "Epoch 140/200, Loss: 0.3211, Test Loss: 0.5006\n",
      "Epoch 141/200, Loss: 0.3211, Test Loss: 0.5007\n",
      "Epoch 142/200, Loss: 0.3211, Test Loss: 0.5007\n",
      "Epoch 143/200, Loss: 0.3211, Test Loss: 0.5008\n",
      "Epoch 144/200, Loss: 0.3211, Test Loss: 0.5008\n",
      "Epoch 145/200, Loss: 0.3211, Test Loss: 0.5008\n",
      "Epoch 146/200, Loss: 0.3211, Test Loss: 0.5009\n",
      "Epoch 147/200, Loss: 0.3223, Test Loss: 0.5009\n",
      "Epoch 148/200, Loss: 0.3211, Test Loss: 0.5009\n",
      "Epoch 149/200, Loss: 0.3211, Test Loss: 0.5010\n",
      "Epoch 150/200, Loss: 0.3211, Test Loss: 0.5010\n",
      "Epoch 151/200, Loss: 0.3211, Test Loss: 0.5011\n",
      "Epoch 152/200, Loss: 0.3223, Test Loss: 0.5011\n",
      "Epoch 153/200, Loss: 0.3211, Test Loss: 0.5011\n",
      "Epoch 154/200, Loss: 0.3223, Test Loss: 0.5012\n",
      "Epoch 155/200, Loss: 0.3211, Test Loss: 0.5012\n",
      "Epoch 156/200, Loss: 0.3211, Test Loss: 0.5013\n",
      "Epoch 157/200, Loss: 0.3211, Test Loss: 0.5013\n",
      "Epoch 158/200, Loss: 0.3211, Test Loss: 0.5013\n",
      "Epoch 159/200, Loss: 0.3223, Test Loss: 0.5014\n",
      "Epoch 160/200, Loss: 0.3223, Test Loss: 0.5014\n",
      "Epoch 161/200, Loss: 0.3211, Test Loss: 0.5014\n",
      "Epoch 162/200, Loss: 0.3211, Test Loss: 0.5015\n",
      "Epoch 163/200, Loss: 0.3211, Test Loss: 0.5015\n",
      "Epoch 164/200, Loss: 0.3211, Test Loss: 0.5016\n",
      "Epoch 165/200, Loss: 0.3211, Test Loss: 0.5016\n",
      "Epoch 166/200, Loss: 0.3211, Test Loss: 0.5016\n",
      "Epoch 167/200, Loss: 0.3211, Test Loss: 0.5017\n",
      "Epoch 168/200, Loss: 0.3211, Test Loss: 0.5017\n",
      "Epoch 169/200, Loss: 0.3211, Test Loss: 0.5018\n",
      "Epoch 170/200, Loss: 0.3211, Test Loss: 0.5018\n",
      "Epoch 171/200, Loss: 0.3211, Test Loss: 0.5018\n",
      "Epoch 172/200, Loss: 0.3211, Test Loss: 0.5019\n",
      "Epoch 173/200, Loss: 0.3223, Test Loss: 0.5019\n",
      "Epoch 174/200, Loss: 0.3211, Test Loss: 0.5019\n",
      "Epoch 175/200, Loss: 0.3211, Test Loss: 0.5020\n",
      "Epoch 176/200, Loss: 0.3211, Test Loss: 0.5020\n",
      "Epoch 177/200, Loss: 0.3211, Test Loss: 0.5021\n",
      "Epoch 178/200, Loss: 0.3211, Test Loss: 0.5021\n",
      "Epoch 179/200, Loss: 0.3211, Test Loss: 0.5021\n",
      "Epoch 180/200, Loss: 0.3211, Test Loss: 0.5022\n",
      "Epoch 181/200, Loss: 0.3211, Test Loss: 0.5022\n",
      "Epoch 182/200, Loss: 0.3211, Test Loss: 0.5022\n",
      "Epoch 183/200, Loss: 0.3223, Test Loss: 0.5023\n",
      "Epoch 184/200, Loss: 0.3211, Test Loss: 0.5023\n",
      "Epoch 185/200, Loss: 0.3211, Test Loss: 0.5023\n",
      "Epoch 186/200, Loss: 0.3211, Test Loss: 0.5024\n",
      "Epoch 187/200, Loss: 0.3223, Test Loss: 0.5024\n",
      "Epoch 188/200, Loss: 0.3211, Test Loss: 0.5025\n",
      "Epoch 189/200, Loss: 0.3211, Test Loss: 0.5025\n",
      "Epoch 190/200, Loss: 0.3211, Test Loss: 0.5025\n",
      "Epoch 191/200, Loss: 0.3211, Test Loss: 0.5026\n",
      "Epoch 192/200, Loss: 0.3211, Test Loss: 0.5026\n",
      "Epoch 193/200, Loss: 0.3211, Test Loss: 0.5026\n",
      "Epoch 194/200, Loss: 0.3211, Test Loss: 0.5027\n",
      "Epoch 195/200, Loss: 0.3223, Test Loss: 0.5027\n",
      "Epoch 196/200, Loss: 0.3211, Test Loss: 0.5028\n",
      "Epoch 197/200, Loss: 0.3211, Test Loss: 0.5028\n",
      "Epoch 198/200, Loss: 0.3223, Test Loss: 0.5028\n",
      "Epoch 199/200, Loss: 0.3211, Test Loss: 0.5029\n",
      "Epoch 200/200, Loss: 0.3211, Test Loss: 0.5029\n"
     ]
    }
   ],
   "execution_count": 8
  },
  {
   "cell_type": "markdown",
   "metadata": {
    "collapsed": false,
    "jupyter": {
     "outputs_hidden": false
    }
   },
   "source": [
    "## Task 1: Plot the training and test loss (overlaid) on the vertical axis and the epoch number on the horizontal axis"
   ]
  },
  {
   "cell_type": "code",
   "metadata": {
    "collapsed": false,
    "jupyter": {
     "outputs_hidden": false
    },
    "ExecuteTime": {
     "end_time": "2024-12-12T03:04:36.316166Z",
     "start_time": "2024-12-12T03:04:35.849407Z"
    }
   },
   "source": [
    "plt.plot(range(epochs), train_losses, label='Train Loss')\n",
    "plt.plot(range(epochs), test_losses, label='Test Loss')\n",
    "plt.xlabel('Epoch')\n",
    "plt.ylabel('Loss')\n",
    "plt.legend()\n",
    "plt.show()"
   ],
   "outputs": [
    {
     "data": {
      "text/plain": [
       "<Figure size 640x480 with 1 Axes>"
      ],
      "image/png": "[encoded data removed]"
     },
     "metadata": {},
     "output_type": "display_data"
    }
   ],
   "execution_count": 9
  },
  {
   "cell_type": "markdown",
   "metadata": {
    "collapsed": false,
    "jupyter": {
     "outputs_hidden": false
    }
   },
   "source": [
    "## Task 2: Compute the minimum train and test loss achieved during training and report them"
   ]
  },
  {
   "cell_type": "code",
   "metadata": {
    "collapsed": false,
    "jupyter": {
     "outputs_hidden": false
    },
    "ExecuteTime": {
     "end_time": "2024-12-12T03:04:38.566193Z",
     "start_time": "2024-12-12T03:04:38.557019Z"
    }
   },
   "source": [
    "min_train_loss = min(train_losses)\n",
    "min_test_loss = min(test_losses)\n",
    "print(f\"minimum train loss: {min_train_loss}\\nminimum test loss: {min_test_loss}\")"
   ],
   "outputs": [
    {
     "name": "stdout",
     "output_type": "stream",
     "text": [
      "minimum train loss: 0.32107508927583694\n",
      "minimum test loss: 0.471935639778773\n"
     ]
    }
   ],
   "execution_count": 10
  },
  {
   "cell_type": "markdown",
   "metadata": {
    "collapsed": false,
    "jupyter": {
     "outputs_hidden": false
    }
   },
   "source": [
    "## Task 3: Modify EEGCNN to add dropout regularization\n",
    "- Modify the cell below to add **three** dropout layers to the EEGCNN model\n",
    "    - The first dropout layer should be added after the flattening layer\n",
    "    - The second dropout layer should be added after the first fully connected layer\n",
    "    - The third dropout layer should be added after the second fully connected layer\n",
    "- The dropout rates of each layer should be the same and should be passed as an argument to the model constructor\n",
    "- The default dropout rate should be 0.2"
   ]
  },
  {
   "cell_type": "code",
   "metadata": {
    "collapsed": false,
    "jupyter": {
     "outputs_hidden": false
    },
    "ExecuteTime": {
     "end_time": "2024-12-12T03:04:40.362559Z",
     "start_time": "2024-12-12T03:04:40.344442Z"
    }
   },
   "source": [
    "class EEGCNNwithDropout(nn.Module):\n",
    "    def __init__(self, input_channels, input_timepoints, num_classes, dropout=0.2):\n",
    "        super(EEGCNNwithDropout, self).__init__()\n",
    "        self.spatial_conv = nn.Conv2d(1, 8, kernel_size=(input_channels, 1))\n",
    "        self.temporal_conv = nn.Conv2d(8, 16, kernel_size=(1, 10), stride=(1, 2))\n",
    "        self.flatten = nn.Flatten()\n",
    "        self.fc1 = nn.Linear(16 * ((input_timepoints - 10) // 2 + 1), 32)\n",
    "        self.fc2 = nn.Linear(32, 16)\n",
    "        self.fc3 = nn.Linear(16, num_classes)\n",
    "        self.softmax = nn.Softmax(dim=1)\n",
    "        # INSERT CODE BELOW\n",
    "        self.dropout1 = nn.Dropout(p=dropout)\n",
    "        self.dropout2 = nn.Dropout(p=dropout)\n",
    "        self.dropout3 = nn.Dropout(p=dropout)\n",
    "    def forward(self, x):\n",
    "        x = x.unsqueeze(1)  # Add channel dimension\n",
    "        x = torch.relu(self.spatial_conv(x))\n",
    "        x = torch.relu(self.temporal_conv(x))\n",
    "        x = self.flatten(x)\n",
    "        # INSERT CODE BELOW\n",
    "        x = self.dropout1(x)\n",
    "        x = self.dropout2(x)\n",
    "        x = self.dropout3(x)\n",
    "        x = self.fc1(x)\n",
    "        x = self.fc2(x)\n",
    "        x = self.fc3(x)\n",
    "        x = self.softmax(x)\n",
    "\n",
    "        return x"
   ],
   "outputs": [],
   "execution_count": 11
  },
  {
   "cell_type": "markdown",
   "metadata": {
    "collapsed": false,
    "jupyter": {
     "outputs_hidden": false
    }
   },
   "source": [
    "## Task 4: Train the EEGCNNwithDropout model with a dropout rate of 0.2 for 200 epochs\n",
    "- Instantiate the model with a dropout rate of 0.2\n",
    "- Train the model for 200 epochs"
   ]
  },
  {
   "cell_type": "code",
   "metadata": {
    "collapsed": false,
    "jupyter": {
     "outputs_hidden": false
    },
    "ExecuteTime": {
     "end_time": "2024-12-12T03:06:15.117300Z",
     "start_time": "2024-12-12T03:05:31.355264Z"
    }
   },
   "source": [
    "## INSERT CODE BELOW\n",
    "model = EEGCNNwithDropout(input_channels, input_timepoints, num_classes, dropout=0.2) \n",
    "\n",
    "## DO NOT MODIFY THE 3 LINES BELOW\n",
    "criterion = nn.CrossEntropyLoss()\n",
    "optimizer = optim.Adam(model.parameters(), lr=0.001)\n",
    "train_losses, test_losses = run_train_loop(model, criterion, optimizer, 200)"
   ],
   "outputs": [
    {
     "name": "stdout",
     "output_type": "stream",
     "text": [
      "Epoch 1/200, Loss: 0.6871, Test Loss: 0.7106\n",
      "Epoch 2/200, Loss: 0.5884, Test Loss: 0.6952\n",
      "Epoch 3/200, Loss: 0.5275, Test Loss: 0.6770\n",
      "Epoch 4/200, Loss: 0.5014, Test Loss: 0.6566\n",
      "Epoch 5/200, Loss: 0.4926, Test Loss: 0.6538\n",
      "Epoch 6/200, Loss: 0.4586, Test Loss: 0.6310\n",
      "Epoch 7/200, Loss: 0.4351, Test Loss: 0.6070\n",
      "Epoch 8/200, Loss: 0.4301, Test Loss: 0.5801\n",
      "Epoch 9/200, Loss: 0.4481, Test Loss: 0.6195\n",
      "Epoch 10/200, Loss: 0.4208, Test Loss: 0.6749\n",
      "Epoch 11/200, Loss: 0.4177, Test Loss: 0.5767\n",
      "Epoch 12/200, Loss: 0.3900, Test Loss: 0.5796\n",
      "Epoch 13/200, Loss: 0.4103, Test Loss: 0.5977\n",
      "Epoch 14/200, Loss: 0.4060, Test Loss: 0.5798\n",
      "Epoch 15/200, Loss: 0.3753, Test Loss: 0.5884\n",
      "Epoch 16/200, Loss: 0.3944, Test Loss: 0.5648\n",
      "Epoch 17/200, Loss: 0.3833, Test Loss: 0.5356\n",
      "Epoch 18/200, Loss: 0.3928, Test Loss: 0.5445\n",
      "Epoch 19/200, Loss: 0.3563, Test Loss: 0.5253\n",
      "Epoch 20/200, Loss: 0.3692, Test Loss: 0.5655\n",
      "Epoch 21/200, Loss: 0.3666, Test Loss: 0.5407\n",
      "Epoch 22/200, Loss: 0.3602, Test Loss: 0.5453\n",
      "Epoch 23/200, Loss: 0.3615, Test Loss: 0.5706\n",
      "Epoch 24/200, Loss: 0.3470, Test Loss: 0.5615\n",
      "Epoch 25/200, Loss: 0.3579, Test Loss: 0.5286\n",
      "Epoch 26/200, Loss: 0.3501, Test Loss: 0.5618\n",
      "Epoch 27/200, Loss: 0.3473, Test Loss: 0.5481\n",
      "Epoch 28/200, Loss: 0.3496, Test Loss: 0.5500\n",
      "Epoch 29/200, Loss: 0.3562, Test Loss: 0.5558\n",
      "Epoch 30/200, Loss: 0.3479, Test Loss: 0.5324\n",
      "Epoch 31/200, Loss: 0.3437, Test Loss: 0.5433\n",
      "Epoch 32/200, Loss: 0.3274, Test Loss: 0.5371\n",
      "Epoch 33/200, Loss: 0.3398, Test Loss: 0.5697\n",
      "Epoch 34/200, Loss: 0.3591, Test Loss: 0.5809\n",
      "Epoch 35/200, Loss: 0.3447, Test Loss: 0.5817\n",
      "Epoch 36/200, Loss: 0.3464, Test Loss: 0.5953\n",
      "Epoch 37/200, Loss: 0.3488, Test Loss: 0.5757\n",
      "Epoch 38/200, Loss: 0.3340, Test Loss: 0.5495\n",
      "Epoch 39/200, Loss: 0.3289, Test Loss: 0.5686\n",
      "Epoch 40/200, Loss: 0.3366, Test Loss: 0.5629\n",
      "Epoch 41/200, Loss: 0.3503, Test Loss: 0.5731\n",
      "Epoch 42/200, Loss: 0.3447, Test Loss: 0.5719\n",
      "Epoch 43/200, Loss: 0.3415, Test Loss: 0.5511\n",
      "Epoch 44/200, Loss: 0.3613, Test Loss: 0.5421\n",
      "Epoch 45/200, Loss: 0.3672, Test Loss: 0.5815\n",
      "Epoch 46/200, Loss: 0.3431, Test Loss: 0.5320\n",
      "Epoch 47/200, Loss: 0.3324, Test Loss: 0.5512\n",
      "Epoch 48/200, Loss: 0.3435, Test Loss: 0.5323\n",
      "Epoch 49/200, Loss: 0.3533, Test Loss: 0.5605\n",
      "Epoch 50/200, Loss: 0.3629, Test Loss: 0.5297\n",
      "Epoch 51/200, Loss: 0.3409, Test Loss: 0.5728\n",
      "Epoch 52/200, Loss: 0.3472, Test Loss: 0.5789\n",
      "Epoch 53/200, Loss: 0.3469, Test Loss: 0.5651\n",
      "Epoch 54/200, Loss: 0.3357, Test Loss: 0.5734\n",
      "Epoch 55/200, Loss: 0.3264, Test Loss: 0.5376\n",
      "Epoch 56/200, Loss: 0.3308, Test Loss: 0.5587\n",
      "Epoch 57/200, Loss: 0.3322, Test Loss: 0.5698\n",
      "Epoch 58/200, Loss: 0.3366, Test Loss: 0.5235\n",
      "Epoch 59/200, Loss: 0.3433, Test Loss: 0.5470\n",
      "Epoch 60/200, Loss: 0.3539, Test Loss: 0.5124\n",
      "Epoch 61/200, Loss: 0.3537, Test Loss: 0.6492\n",
      "Epoch 62/200, Loss: 0.3501, Test Loss: 0.6196\n",
      "Epoch 63/200, Loss: 0.3856, Test Loss: 0.6036\n",
      "Epoch 64/200, Loss: 0.3412, Test Loss: 0.5406\n",
      "Epoch 65/200, Loss: 0.3346, Test Loss: 0.5847\n",
      "Epoch 66/200, Loss: 0.3392, Test Loss: 0.5262\n",
      "Epoch 67/200, Loss: 0.3387, Test Loss: 0.5427\n",
      "Epoch 68/200, Loss: 0.3234, Test Loss: 0.5364\n",
      "Epoch 69/200, Loss: 0.3369, Test Loss: 0.5299\n",
      "Epoch 70/200, Loss: 0.3300, Test Loss: 0.5568\n",
      "Epoch 71/200, Loss: 0.3337, Test Loss: 0.5398\n",
      "Epoch 72/200, Loss: 0.3343, Test Loss: 0.5573\n",
      "Epoch 73/200, Loss: 0.3326, Test Loss: 0.5488\n",
      "Epoch 74/200, Loss: 0.3298, Test Loss: 0.5623\n",
      "Epoch 75/200, Loss: 0.3280, Test Loss: 0.6001\n",
      "Epoch 76/200, Loss: 0.3266, Test Loss: 0.5913\n",
      "Epoch 77/200, Loss: 0.3346, Test Loss: 0.5319\n",
      "Epoch 78/200, Loss: 0.3255, Test Loss: 0.5195\n",
      "Epoch 79/200, Loss: 0.3275, Test Loss: 0.5138\n",
      "Epoch 80/200, Loss: 0.3245, Test Loss: 0.5368\n",
      "Epoch 81/200, Loss: 0.3283, Test Loss: 0.5182\n",
      "Epoch 82/200, Loss: 0.3292, Test Loss: 0.5354\n",
      "Epoch 83/200, Loss: 0.3218, Test Loss: 0.5276\n",
      "Epoch 84/200, Loss: 0.3313, Test Loss: 0.5194\n",
      "Epoch 85/200, Loss: 0.3246, Test Loss: 0.5473\n",
      "Epoch 86/200, Loss: 0.3217, Test Loss: 0.5368\n",
      "Epoch 87/200, Loss: 0.3292, Test Loss: 0.5144\n",
      "Epoch 88/200, Loss: 0.3364, Test Loss: 0.5080\n",
      "Epoch 89/200, Loss: 0.3402, Test Loss: 0.5451\n",
      "Epoch 90/200, Loss: 0.3224, Test Loss: 0.5576\n",
      "Epoch 91/200, Loss: 0.3444, Test Loss: 0.5457\n",
      "Epoch 92/200, Loss: 0.3233, Test Loss: 0.5421\n",
      "Epoch 93/200, Loss: 0.3438, Test Loss: 0.5444\n",
      "Epoch 94/200, Loss: 0.3433, Test Loss: 0.5574\n",
      "Epoch 95/200, Loss: 0.3360, Test Loss: 0.5718\n",
      "Epoch 96/200, Loss: 0.3366, Test Loss: 0.5774\n",
      "Epoch 97/200, Loss: 0.3390, Test Loss: 0.5358\n",
      "Epoch 98/200, Loss: 0.3297, Test Loss: 0.5268\n",
      "Epoch 99/200, Loss: 0.3324, Test Loss: 0.5390\n",
      "Epoch 100/200, Loss: 0.3348, Test Loss: 0.5796\n",
      "Epoch 101/200, Loss: 0.3243, Test Loss: 0.5626\n",
      "Epoch 102/200, Loss: 0.3285, Test Loss: 0.5444\n",
      "Epoch 103/200, Loss: 0.3282, Test Loss: 0.5418\n",
      "Epoch 104/200, Loss: 0.3240, Test Loss: 0.5239\n",
      "Epoch 105/200, Loss: 0.3242, Test Loss: 0.5360\n",
      "Epoch 106/200, Loss: 0.3198, Test Loss: 0.5356\n",
      "Epoch 107/200, Loss: 0.3227, Test Loss: 0.5281\n",
      "Epoch 108/200, Loss: 0.3241, Test Loss: 0.5900\n",
      "Epoch 109/200, Loss: 0.3365, Test Loss: 0.5361\n",
      "Epoch 110/200, Loss: 0.3412, Test Loss: 0.5843\n",
      "Epoch 111/200, Loss: 0.3381, Test Loss: 0.5346\n",
      "Epoch 112/200, Loss: 0.3362, Test Loss: 0.6022\n",
      "Epoch 113/200, Loss: 0.3360, Test Loss: 0.5876\n",
      "Epoch 114/200, Loss: 0.3290, Test Loss: 0.5246\n",
      "Epoch 115/200, Loss: 0.3243, Test Loss: 0.5460\n",
      "Epoch 116/200, Loss: 0.3306, Test Loss: 0.5984\n",
      "Epoch 117/200, Loss: 0.3243, Test Loss: 0.5774\n",
      "Epoch 118/200, Loss: 0.3252, Test Loss: 0.5501\n",
      "Epoch 119/200, Loss: 0.3293, Test Loss: 0.5593\n",
      "Epoch 120/200, Loss: 0.3273, Test Loss: 0.5338\n",
      "Epoch 121/200, Loss: 0.3293, Test Loss: 0.5564\n",
      "Epoch 122/200, Loss: 0.3366, Test Loss: 0.5385\n",
      "Epoch 123/200, Loss: 0.3284, Test Loss: 0.5119\n",
      "Epoch 124/200, Loss: 0.3263, Test Loss: 0.5049\n",
      "Epoch 125/200, Loss: 0.3423, Test Loss: 0.5749\n",
      "Epoch 126/200, Loss: 0.3243, Test Loss: 0.5413\n",
      "Epoch 127/200, Loss: 0.3277, Test Loss: 0.5483\n",
      "Epoch 128/200, Loss: 0.3271, Test Loss: 0.5620\n",
      "Epoch 129/200, Loss: 0.3225, Test Loss: 0.5165\n",
      "Epoch 130/200, Loss: 0.3317, Test Loss: 0.4807\n",
      "Epoch 131/200, Loss: 0.3251, Test Loss: 0.4815\n",
      "Epoch 132/200, Loss: 0.3374, Test Loss: 0.5550\n",
      "Epoch 133/200, Loss: 0.3281, Test Loss: 0.5047\n",
      "Epoch 134/200, Loss: 0.3284, Test Loss: 0.5164\n",
      "Epoch 135/200, Loss: 0.3239, Test Loss: 0.5042\n",
      "Epoch 136/200, Loss: 0.3314, Test Loss: 0.5407\n",
      "Epoch 137/200, Loss: 0.3341, Test Loss: 0.5118\n",
      "Epoch 138/200, Loss: 0.3250, Test Loss: 0.5082\n",
      "Epoch 139/200, Loss: 0.3188, Test Loss: 0.5110\n",
      "Epoch 140/200, Loss: 0.3219, Test Loss: 0.5089\n",
      "Epoch 141/200, Loss: 0.3219, Test Loss: 0.5128\n",
      "Epoch 142/200, Loss: 0.3194, Test Loss: 0.5146\n",
      "Epoch 143/200, Loss: 0.3222, Test Loss: 0.5111\n",
      "Epoch 144/200, Loss: 0.3210, Test Loss: 0.5191\n",
      "Epoch 145/200, Loss: 0.3262, Test Loss: 0.5216\n",
      "Epoch 146/200, Loss: 0.3231, Test Loss: 0.5145\n",
      "Epoch 147/200, Loss: 0.3213, Test Loss: 0.5253\n",
      "Epoch 148/200, Loss: 0.3204, Test Loss: 0.5089\n",
      "Epoch 149/200, Loss: 0.3244, Test Loss: 0.5200\n",
      "Epoch 150/200, Loss: 0.3210, Test Loss: 0.5521\n",
      "Epoch 151/200, Loss: 0.3307, Test Loss: 0.5452\n",
      "Epoch 152/200, Loss: 0.3244, Test Loss: 0.5382\n",
      "Epoch 153/200, Loss: 0.3316, Test Loss: 0.5282\n",
      "Epoch 154/200, Loss: 0.3224, Test Loss: 0.5303\n",
      "Epoch 155/200, Loss: 0.3224, Test Loss: 0.5334\n",
      "Epoch 156/200, Loss: 0.3243, Test Loss: 0.5391\n",
      "Epoch 157/200, Loss: 0.3270, Test Loss: 0.5513\n",
      "Epoch 158/200, Loss: 0.3244, Test Loss: 0.5467\n",
      "Epoch 159/200, Loss: 0.3214, Test Loss: 0.5397\n",
      "Epoch 160/200, Loss: 0.3195, Test Loss: 0.5340\n",
      "Epoch 161/200, Loss: 0.3187, Test Loss: 0.5190\n",
      "Epoch 162/200, Loss: 0.3186, Test Loss: 0.5203\n",
      "Epoch 163/200, Loss: 0.3186, Test Loss: 0.5245\n",
      "Epoch 164/200, Loss: 0.3226, Test Loss: 0.5269\n",
      "Epoch 165/200, Loss: 0.3188, Test Loss: 0.5344\n",
      "Epoch 166/200, Loss: 0.3229, Test Loss: 0.5383\n",
      "Epoch 167/200, Loss: 0.3189, Test Loss: 0.5623\n",
      "Epoch 168/200, Loss: 0.3211, Test Loss: 0.5618\n",
      "Epoch 169/200, Loss: 0.3186, Test Loss: 0.5583\n",
      "Epoch 170/200, Loss: 0.3184, Test Loss: 0.5432\n",
      "Epoch 171/200, Loss: 0.3348, Test Loss: 0.6001\n",
      "Epoch 172/200, Loss: 0.3553, Test Loss: 0.5652\n",
      "Epoch 173/200, Loss: 0.3306, Test Loss: 0.5201\n",
      "Epoch 174/200, Loss: 0.3226, Test Loss: 0.5105\n",
      "Epoch 175/200, Loss: 0.3344, Test Loss: 0.5135\n",
      "Epoch 176/200, Loss: 0.3322, Test Loss: 0.5097\n",
      "Epoch 177/200, Loss: 0.3256, Test Loss: 0.5198\n",
      "Epoch 178/200, Loss: 0.3221, Test Loss: 0.5184\n",
      "Epoch 179/200, Loss: 0.3192, Test Loss: 0.5205\n",
      "Epoch 180/200, Loss: 0.3253, Test Loss: 0.5246\n",
      "Epoch 181/200, Loss: 0.3248, Test Loss: 0.4827\n",
      "Epoch 182/200, Loss: 0.3278, Test Loss: 0.5948\n",
      "Epoch 183/200, Loss: 0.3449, Test Loss: 0.5597\n",
      "Epoch 184/200, Loss: 0.3293, Test Loss: 0.5728\n",
      "Epoch 185/200, Loss: 0.3248, Test Loss: 0.5541\n",
      "Epoch 186/200, Loss: 0.3207, Test Loss: 0.5274\n",
      "Epoch 187/200, Loss: 0.3189, Test Loss: 0.5169\n",
      "Epoch 188/200, Loss: 0.3303, Test Loss: 0.5221\n",
      "Epoch 189/200, Loss: 0.3263, Test Loss: 0.5279\n",
      "Epoch 190/200, Loss: 0.3210, Test Loss: 0.5066\n",
      "Epoch 191/200, Loss: 0.3227, Test Loss: 0.5123\n",
      "Epoch 192/200, Loss: 0.3333, Test Loss: 0.5368\n",
      "Epoch 193/200, Loss: 0.3410, Test Loss: 0.5269\n",
      "Epoch 194/200, Loss: 0.3451, Test Loss: 0.5251\n",
      "Epoch 195/200, Loss: 0.3455, Test Loss: 0.6179\n",
      "Epoch 196/200, Loss: 0.3456, Test Loss: 0.5354\n",
      "Epoch 197/200, Loss: 0.3529, Test Loss: 0.5184\n",
      "Epoch 198/200, Loss: 0.3450, Test Loss: 0.5367\n",
      "Epoch 199/200, Loss: 0.3372, Test Loss: 0.5300\n",
      "Epoch 200/200, Loss: 0.3571, Test Loss: 0.5817\n"
     ]
    }
   ],
   "execution_count": 13
  },
  {
   "cell_type": "markdown",
   "metadata": {
    "collapsed": false,
    "jupyter": {
     "outputs_hidden": false
    }
   },
   "source": [
    "## Task 5: Plot the training and test loss (overlaid) on the vertical axis and the epoch number on the horizontal axis"
   ]
  },
  {
   "cell_type": "code",
   "metadata": {
    "collapsed": false,
    "jupyter": {
     "outputs_hidden": false
    },
    "ExecuteTime": {
     "end_time": "2024-12-12T03:06:20.034364Z",
     "start_time": "2024-12-12T03:06:19.794596Z"
    }
   },
   "source": [
    "# INSERT CODE HERE\n",
    "plt.plot(range(epochs), train_losses, label='Train Loss')\n",
    "plt.plot(range(epochs), test_losses, label='Test Loss')\n",
    "plt.xlabel('Epoch')\n",
    "plt.ylabel('Loss')\n",
    "plt.legend()\n",
    "plt.show()"
   ],
   "outputs": [
    {
     "data": {
      "text/plain": [
       "<Figure size 640x480 with 1 Axes>"
      ],
      "image/png": "[encoded data removed]"
     },
     "metadata": {},
     "output_type": "display_data"
    }
   ],
   "execution_count": 14
  },
  {
   "cell_type": "markdown",
   "metadata": {
    "collapsed": false,
    "jupyter": {
     "outputs_hidden": false
    }
   },
   "source": [
    "## Task 6: Compute the minimum train and test loss achieved during training and report them"
   ]
  },
  {
   "cell_type": "code",
   "metadata": {
    "collapsed": false,
    "jupyter": {
     "outputs_hidden": false
    },
    "ExecuteTime": {
     "end_time": "2024-12-12T03:06:21.812594Z",
     "start_time": "2024-12-12T03:06:21.801730Z"
    }
   },
   "source": [
    "# INSERT CODE HERE  \n",
    "min_train_loss = min(train_losses)\n",
    "min_test_loss = min(test_losses)\n",
    "print(f\"minimum train loss: {min_train_loss}\\nminimum test loss: {min_test_loss}\")"
   ],
   "outputs": [
    {
     "name": "stdout",
     "output_type": "stream",
     "text": [
      "minimum train loss: 0.3184211055437724\n",
      "minimum test loss: 0.48073004682858783\n"
     ]
    }
   ],
   "execution_count": 15
  },
  {
   "cell_type": "markdown",
   "metadata": {
    "collapsed": false,
    "jupyter": {
     "outputs_hidden": false
    }
   },
   "source": [
    "## Task 7: Train the EEGCNNwithDropout model with a dropout rate of 0.5 for 200 epochs"
   ]
  },
  {
   "cell_type": "code",
   "metadata": {
    "collapsed": false,
    "jupyter": {
     "outputs_hidden": false
    },
    "ExecuteTime": {
     "end_time": "2024-12-12T03:06:58.840496Z",
     "start_time": "2024-12-12T03:06:25.188701Z"
    }
   },
   "source": [
    "## INSERT CODE BELOW\n",
    "model = EEGCNNwithDropout(input_channels, input_timepoints, num_classes, dropout=0.5)\n",
    "## DO NOT MODIFY THE 3 LINES BELOW\n",
    "criterion = nn.CrossEntropyLoss()\n",
    "optimizer = optim.Adam(model.parameters(), lr=0.001)\n",
    "train_losses, test_losses = run_train_loop(model, criterion, optimizer, 200)"
   ],
   "outputs": [
    {
     "name": "stdout",
     "output_type": "stream",
     "text": [
      "Epoch 1/200, Loss: 0.7137, Test Loss: 0.7043\n",
      "Epoch 2/200, Loss: 0.6777, Test Loss: 0.6613\n",
      "Epoch 3/200, Loss: 0.6317, Test Loss: 0.6385\n",
      "Epoch 4/200, Loss: 0.6033, Test Loss: 0.6395\n",
      "Epoch 5/200, Loss: 0.5874, Test Loss: 0.5967\n",
      "Epoch 6/200, Loss: 0.5695, Test Loss: 0.6007\n",
      "Epoch 7/200, Loss: 0.5359, Test Loss: 0.5578\n",
      "Epoch 8/200, Loss: 0.5295, Test Loss: 0.5772\n",
      "Epoch 9/200, Loss: 0.5265, Test Loss: 0.5544\n",
      "Epoch 10/200, Loss: 0.5097, Test Loss: 0.5495\n",
      "Epoch 11/200, Loss: 0.5006, Test Loss: 0.5446\n",
      "Epoch 12/200, Loss: 0.4819, Test Loss: 0.5719\n",
      "Epoch 13/200, Loss: 0.4854, Test Loss: 0.5478\n",
      "Epoch 14/200, Loss: 0.4615, Test Loss: 0.5458\n",
      "Epoch 15/200, Loss: 0.4602, Test Loss: 0.5233\n",
      "Epoch 16/200, Loss: 0.4535, Test Loss: 0.5280\n",
      "Epoch 17/200, Loss: 0.4646, Test Loss: 0.5594\n",
      "Epoch 18/200, Loss: 0.4786, Test Loss: 0.5167\n",
      "Epoch 19/200, Loss: 0.4682, Test Loss: 0.5260\n",
      "Epoch 20/200, Loss: 0.4605, Test Loss: 0.5210\n",
      "Epoch 21/200, Loss: 0.4416, Test Loss: 0.5152\n",
      "Epoch 22/200, Loss: 0.4391, Test Loss: 0.5064\n",
      "Epoch 23/200, Loss: 0.4493, Test Loss: 0.5132\n",
      "Epoch 24/200, Loss: 0.4515, Test Loss: 0.4972\n",
      "Epoch 25/200, Loss: 0.4339, Test Loss: 0.4890\n",
      "Epoch 26/200, Loss: 0.4384, Test Loss: 0.5033\n",
      "Epoch 27/200, Loss: 0.4042, Test Loss: 0.5026\n",
      "Epoch 28/200, Loss: 0.4315, Test Loss: 0.4791\n",
      "Epoch 29/200, Loss: 0.4230, Test Loss: 0.5074\n",
      "Epoch 30/200, Loss: 0.4097, Test Loss: 0.4517\n",
      "Epoch 31/200, Loss: 0.4041, Test Loss: 0.4595\n",
      "Epoch 32/200, Loss: 0.3798, Test Loss: 0.4540\n",
      "Epoch 33/200, Loss: 0.4017, Test Loss: 0.4847\n",
      "Epoch 34/200, Loss: 0.3943, Test Loss: 0.4934\n",
      "Epoch 35/200, Loss: 0.3804, Test Loss: 0.4898\n",
      "Epoch 36/200, Loss: 0.3892, Test Loss: 0.4477\n",
      "Epoch 37/200, Loss: 0.3902, Test Loss: 0.4859\n",
      "Epoch 38/200, Loss: 0.3977, Test Loss: 0.4804\n",
      "Epoch 39/200, Loss: 0.3931, Test Loss: 0.5043\n",
      "Epoch 40/200, Loss: 0.3801, Test Loss: 0.4947\n",
      "Epoch 41/200, Loss: 0.3976, Test Loss: 0.5193\n",
      "Epoch 42/200, Loss: 0.3693, Test Loss: 0.4569\n",
      "Epoch 43/200, Loss: 0.3624, Test Loss: 0.5077\n",
      "Epoch 44/200, Loss: 0.3733, Test Loss: 0.4990\n",
      "Epoch 45/200, Loss: 0.3525, Test Loss: 0.4811\n",
      "Epoch 46/200, Loss: 0.3943, Test Loss: 0.5149\n",
      "Epoch 47/200, Loss: 0.3684, Test Loss: 0.4728\n",
      "Epoch 48/200, Loss: 0.3802, Test Loss: 0.5137\n",
      "Epoch 49/200, Loss: 0.3837, Test Loss: 0.4547\n",
      "Epoch 50/200, Loss: 0.3588, Test Loss: 0.4783\n",
      "Epoch 51/200, Loss: 0.3691, Test Loss: 0.4618\n",
      "Epoch 52/200, Loss: 0.3736, Test Loss: 0.4589\n",
      "Epoch 53/200, Loss: 0.3739, Test Loss: 0.5178\n",
      "Epoch 54/200, Loss: 0.3903, Test Loss: 0.5371\n",
      "Epoch 55/200, Loss: 0.3547, Test Loss: 0.4481\n",
      "Epoch 56/200, Loss: 0.3752, Test Loss: 0.4583\n",
      "Epoch 57/200, Loss: 0.3551, Test Loss: 0.4791\n",
      "Epoch 58/200, Loss: 0.3657, Test Loss: 0.5239\n",
      "Epoch 59/200, Loss: 0.3726, Test Loss: 0.4622\n",
      "Epoch 60/200, Loss: 0.3412, Test Loss: 0.4814\n",
      "Epoch 61/200, Loss: 0.3581, Test Loss: 0.5147\n",
      "Epoch 62/200, Loss: 0.3490, Test Loss: 0.4861\n",
      "Epoch 63/200, Loss: 0.3571, Test Loss: 0.4900\n",
      "Epoch 64/200, Loss: 0.3625, Test Loss: 0.5369\n",
      "Epoch 65/200, Loss: 0.3477, Test Loss: 0.4988\n",
      "Epoch 66/200, Loss: 0.3416, Test Loss: 0.4889\n",
      "Epoch 67/200, Loss: 0.3536, Test Loss: 0.4948\n",
      "Epoch 68/200, Loss: 0.3489, Test Loss: 0.5016\n",
      "Epoch 69/200, Loss: 0.3705, Test Loss: 0.5092\n",
      "Epoch 70/200, Loss: 0.3511, Test Loss: 0.4909\n",
      "Epoch 71/200, Loss: 0.3476, Test Loss: 0.4986\n",
      "Epoch 72/200, Loss: 0.3562, Test Loss: 0.4879\n",
      "Epoch 73/200, Loss: 0.3666, Test Loss: 0.4844\n",
      "Epoch 74/200, Loss: 0.3620, Test Loss: 0.4733\n",
      "Epoch 75/200, Loss: 0.3660, Test Loss: 0.4861\n",
      "Epoch 76/200, Loss: 0.3567, Test Loss: 0.4372\n",
      "Epoch 77/200, Loss: 0.3570, Test Loss: 0.4639\n",
      "Epoch 78/200, Loss: 0.3666, Test Loss: 0.4877\n",
      "Epoch 79/200, Loss: 0.3444, Test Loss: 0.5277\n",
      "Epoch 80/200, Loss: 0.3375, Test Loss: 0.5293\n",
      "Epoch 81/200, Loss: 0.3588, Test Loss: 0.5163\n",
      "Epoch 82/200, Loss: 0.3451, Test Loss: 0.4912\n",
      "Epoch 83/200, Loss: 0.3518, Test Loss: 0.4868\n",
      "Epoch 84/200, Loss: 0.3592, Test Loss: 0.4893\n",
      "Epoch 85/200, Loss: 0.3593, Test Loss: 0.4931\n",
      "Epoch 86/200, Loss: 0.3688, Test Loss: 0.4852\n",
      "Epoch 87/200, Loss: 0.3424, Test Loss: 0.5060\n",
      "Epoch 88/200, Loss: 0.3511, Test Loss: 0.4875\n",
      "Epoch 89/200, Loss: 0.3453, Test Loss: 0.5125\n",
      "Epoch 90/200, Loss: 0.3572, Test Loss: 0.5050\n",
      "Epoch 91/200, Loss: 0.3541, Test Loss: 0.4693\n",
      "Epoch 92/200, Loss: 0.3351, Test Loss: 0.5104\n",
      "Epoch 93/200, Loss: 0.3538, Test Loss: 0.5225\n",
      "Epoch 94/200, Loss: 0.3405, Test Loss: 0.5031\n",
      "Epoch 95/200, Loss: 0.3399, Test Loss: 0.5018\n",
      "Epoch 96/200, Loss: 0.3335, Test Loss: 0.4876\n",
      "Epoch 97/200, Loss: 0.3491, Test Loss: 0.5054\n",
      "Epoch 98/200, Loss: 0.3423, Test Loss: 0.5004\n",
      "Epoch 99/200, Loss: 0.3395, Test Loss: 0.4970\n",
      "Epoch 100/200, Loss: 0.3426, Test Loss: 0.5063\n",
      "Epoch 101/200, Loss: 0.3554, Test Loss: 0.5065\n",
      "Epoch 102/200, Loss: 0.3507, Test Loss: 0.4965\n",
      "Epoch 103/200, Loss: 0.3587, Test Loss: 0.4864\n",
      "Epoch 104/200, Loss: 0.3539, Test Loss: 0.4836\n",
      "Epoch 105/200, Loss: 0.3442, Test Loss: 0.4638\n",
      "Epoch 106/200, Loss: 0.3437, Test Loss: 0.5149\n",
      "Epoch 107/200, Loss: 0.3401, Test Loss: 0.5064\n",
      "Epoch 108/200, Loss: 0.3410, Test Loss: 0.4828\n",
      "Epoch 109/200, Loss: 0.3354, Test Loss: 0.4885\n",
      "Epoch 110/200, Loss: 0.3517, Test Loss: 0.5201\n",
      "Epoch 111/200, Loss: 0.3403, Test Loss: 0.5068\n",
      "Epoch 112/200, Loss: 0.3395, Test Loss: 0.4964\n",
      "Epoch 113/200, Loss: 0.3370, Test Loss: 0.5343\n",
      "Epoch 114/200, Loss: 0.3296, Test Loss: 0.5204\n",
      "Epoch 115/200, Loss: 0.3349, Test Loss: 0.5303\n",
      "Epoch 116/200, Loss: 0.3262, Test Loss: 0.5040\n",
      "Epoch 117/200, Loss: 0.3347, Test Loss: 0.5080\n",
      "Epoch 118/200, Loss: 0.3397, Test Loss: 0.4898\n",
      "Epoch 119/200, Loss: 0.3364, Test Loss: 0.4998\n",
      "Epoch 120/200, Loss: 0.3370, Test Loss: 0.4888\n",
      "Epoch 121/200, Loss: 0.3371, Test Loss: 0.5247\n",
      "Epoch 122/200, Loss: 0.3372, Test Loss: 0.5134\n",
      "Epoch 123/200, Loss: 0.3332, Test Loss: 0.5095\n",
      "Epoch 124/200, Loss: 0.3350, Test Loss: 0.5104\n",
      "Epoch 125/200, Loss: 0.3347, Test Loss: 0.5001\n",
      "Epoch 126/200, Loss: 0.3401, Test Loss: 0.4896\n",
      "Epoch 127/200, Loss: 0.3551, Test Loss: 0.5076\n",
      "Epoch 128/200, Loss: 0.3580, Test Loss: 0.5231\n",
      "Epoch 129/200, Loss: 0.3508, Test Loss: 0.5259\n",
      "Epoch 130/200, Loss: 0.3332, Test Loss: 0.4967\n",
      "Epoch 131/200, Loss: 0.3458, Test Loss: 0.5332\n",
      "Epoch 132/200, Loss: 0.3410, Test Loss: 0.5154\n",
      "Epoch 133/200, Loss: 0.3354, Test Loss: 0.5176\n",
      "Epoch 134/200, Loss: 0.3286, Test Loss: 0.5022\n",
      "Epoch 135/200, Loss: 0.3400, Test Loss: 0.5161\n",
      "Epoch 136/200, Loss: 0.3390, Test Loss: 0.5032\n",
      "Epoch 137/200, Loss: 0.3271, Test Loss: 0.4925\n",
      "Epoch 138/200, Loss: 0.3468, Test Loss: 0.4964\n",
      "Epoch 139/200, Loss: 0.3418, Test Loss: 0.5198\n",
      "Epoch 140/200, Loss: 0.3366, Test Loss: 0.5100\n",
      "Epoch 141/200, Loss: 0.3574, Test Loss: 0.5119\n",
      "Epoch 142/200, Loss: 0.3488, Test Loss: 0.4750\n",
      "Epoch 143/200, Loss: 0.3777, Test Loss: 0.5030\n",
      "Epoch 144/200, Loss: 0.3569, Test Loss: 0.5118\n",
      "Epoch 145/200, Loss: 0.3355, Test Loss: 0.5069\n",
      "Epoch 146/200, Loss: 0.3360, Test Loss: 0.5594\n",
      "Epoch 147/200, Loss: 0.3659, Test Loss: 0.5253\n",
      "Epoch 148/200, Loss: 0.3352, Test Loss: 0.5173\n",
      "Epoch 149/200, Loss: 0.3319, Test Loss: 0.5242\n",
      "Epoch 150/200, Loss: 0.3527, Test Loss: 0.5038\n",
      "Epoch 151/200, Loss: 0.3443, Test Loss: 0.5183\n",
      "Epoch 152/200, Loss: 0.3375, Test Loss: 0.5389\n",
      "Epoch 153/200, Loss: 0.3316, Test Loss: 0.5391\n",
      "Epoch 154/200, Loss: 0.3306, Test Loss: 0.5360\n",
      "Epoch 155/200, Loss: 0.3398, Test Loss: 0.5515\n",
      "Epoch 156/200, Loss: 0.3530, Test Loss: 0.5072\n",
      "Epoch 157/200, Loss: 0.3507, Test Loss: 0.4998\n",
      "Epoch 158/200, Loss: 0.3431, Test Loss: 0.5280\n",
      "Epoch 159/200, Loss: 0.3299, Test Loss: 0.5108\n",
      "Epoch 160/200, Loss: 0.3390, Test Loss: 0.5053\n",
      "Epoch 161/200, Loss: 0.3567, Test Loss: 0.4824\n",
      "Epoch 162/200, Loss: 0.3679, Test Loss: 0.4718\n",
      "Epoch 163/200, Loss: 0.3355, Test Loss: 0.5076\n",
      "Epoch 164/200, Loss: 0.3411, Test Loss: 0.5329\n",
      "Epoch 165/200, Loss: 0.3324, Test Loss: 0.5027\n",
      "Epoch 166/200, Loss: 0.3273, Test Loss: 0.5229\n",
      "Epoch 167/200, Loss: 0.3332, Test Loss: 0.5126\n",
      "Epoch 168/200, Loss: 0.3241, Test Loss: 0.4969\n",
      "Epoch 169/200, Loss: 0.3441, Test Loss: 0.4730\n",
      "Epoch 170/200, Loss: 0.3300, Test Loss: 0.5334\n",
      "Epoch 171/200, Loss: 0.3469, Test Loss: 0.5428\n",
      "Epoch 172/200, Loss: 0.3425, Test Loss: 0.5115\n",
      "Epoch 173/200, Loss: 0.3387, Test Loss: 0.5092\n",
      "Epoch 174/200, Loss: 0.3416, Test Loss: 0.5215\n",
      "Epoch 175/200, Loss: 0.3370, Test Loss: 0.5091\n",
      "Epoch 176/200, Loss: 0.3472, Test Loss: 0.5108\n",
      "Epoch 177/200, Loss: 0.3381, Test Loss: 0.5175\n",
      "Epoch 178/200, Loss: 0.3756, Test Loss: 0.5256\n",
      "Epoch 179/200, Loss: 0.3505, Test Loss: 0.5504\n",
      "Epoch 180/200, Loss: 0.3769, Test Loss: 0.5467\n",
      "Epoch 181/200, Loss: 0.3467, Test Loss: 0.5023\n",
      "Epoch 182/200, Loss: 0.3345, Test Loss: 0.4859\n",
      "Epoch 183/200, Loss: 0.3442, Test Loss: 0.4871\n",
      "Epoch 184/200, Loss: 0.3415, Test Loss: 0.5049\n",
      "Epoch 185/200, Loss: 0.3253, Test Loss: 0.5051\n",
      "Epoch 186/200, Loss: 0.3267, Test Loss: 0.5164\n",
      "Epoch 187/200, Loss: 0.3241, Test Loss: 0.5062\n",
      "Epoch 188/200, Loss: 0.3368, Test Loss: 0.5365\n",
      "Epoch 189/200, Loss: 0.3301, Test Loss: 0.5029\n",
      "Epoch 190/200, Loss: 0.3274, Test Loss: 0.5009\n",
      "Epoch 191/200, Loss: 0.3289, Test Loss: 0.4920\n",
      "Epoch 192/200, Loss: 0.3366, Test Loss: 0.4839\n",
      "Epoch 193/200, Loss: 0.3347, Test Loss: 0.4685\n",
      "Epoch 194/200, Loss: 0.3224, Test Loss: 0.4740\n",
      "Epoch 195/200, Loss: 0.3275, Test Loss: 0.5054\n",
      "Epoch 196/200, Loss: 0.3656, Test Loss: 0.5298\n",
      "Epoch 197/200, Loss: 0.3494, Test Loss: 0.5054\n",
      "Epoch 198/200, Loss: 0.3433, Test Loss: 0.5027\n",
      "Epoch 199/200, Loss: 0.3288, Test Loss: 0.5137\n",
      "Epoch 200/200, Loss: 0.3536, Test Loss: 0.5030\n"
     ]
    }
   ],
   "execution_count": 16
  },
  {
   "cell_type": "markdown",
   "metadata": {
    "collapsed": false,
    "jupyter": {
     "outputs_hidden": false
    }
   },
   "source": [
    "## Task 8: Plot the training and test loss (overlaid) on the vertical axis and the epoch number on the horizontal axis"
   ]
  },
  {
   "cell_type": "code",
   "metadata": {
    "collapsed": false,
    "jupyter": {
     "outputs_hidden": false
    },
    "ExecuteTime": {
     "end_time": "2024-12-12T03:07:02.393165Z",
     "start_time": "2024-12-12T03:07:02.158917Z"
    }
   },
   "source": [
    "# INSERT CODE HERE\n",
    "plt.plot(range(epochs), train_losses, label='Train Loss')\n",
    "plt.plot(range(epochs), test_losses, label='Test Loss')\n",
    "plt.xlabel('Epoch')\n",
    "plt.ylabel('Loss')\n",
    "plt.legend()\n",
    "plt.show()"
   ],
   "outputs": [
    {
     "data": {
      "text/plain": [
       "<Figure size 640x480 with 1 Axes>"
      ],
      "image/png": "[encoded data removed]"
     },
     "metadata": {},
     "output_type": "display_data"
    }
   ],
   "execution_count": 17
  },
  {
   "cell_type": "markdown",
   "metadata": {
    "collapsed": false,
    "jupyter": {
     "outputs_hidden": false
    }
   },
   "source": [
    "## Task 9: Compute the minimum train and test loss achieved during training and report them"
   ]
  },
  {
   "cell_type": "code",
   "metadata": {
    "collapsed": false,
    "jupyter": {
     "outputs_hidden": false
    },
    "ExecuteTime": {
     "end_time": "2024-12-12T03:07:04.050820Z",
     "start_time": "2024-12-12T03:07:04.043052Z"
    }
   },
   "source": [
    "# INSERT CODE HERE\n",
    "min_train_loss = min(train_losses)\n",
    "min_test_loss = min(test_losses)\n",
    "print(f\"minimum train loss: {min_train_loss}\\nminimum test loss: {min_test_loss}\")\n"
   ],
   "outputs": [
    {
     "name": "stdout",
     "output_type": "stream",
     "text": [
      "minimum train loss: 0.32240916043519974\n",
      "minimum test loss: 0.4372013012568156\n"
     ]
    }
   ],
   "execution_count": 18
  },
  {
   "cell_type": "markdown",
   "metadata": {
    "collapsed": false,
    "jupyter": {
     "outputs_hidden": false
    }
   },
   "source": [
    "## Task 10: Repeat Tasks 7-9 for a dropout rate of 0.8\n",
    "Report your observations. What do you notice about the train and test loss as the dropout rate increases?"
   ]
  },
  {
   "cell_type": "code",
   "metadata": {
    "collapsed": false,
    "jupyter": {
     "outputs_hidden": false
    },
    "ExecuteTime": {
     "end_time": "2024-12-12T03:07:38.289201Z",
     "start_time": "2024-12-12T03:07:05.375178Z"
    }
   },
   "source": [
    "## INSERT CODE BELOW\n",
    "model = EEGCNNwithDropout(input_channels, input_timepoints, num_classes, dropout=0.8)\n",
    "\n",
    "criterion = nn.CrossEntropyLoss()\n",
    "optimizer = optim.Adam(model.parameters(), lr=0.001)\n",
    "train_losses, test_losses = run_train_loop(model, criterion, optimizer, 200)\n",
    "\n",
    "plt.plot(range(200), train_losses, label='Train Loss')\n",
    "plt.plot(range(200), test_losses, label='Test Loss')\n",
    "plt.xlabel('Epoch')\n",
    "plt.ylabel('Loss')\n",
    "plt.legend()\n",
    "plt.show()\n",
    "\n",
    "min_train_loss = min(train_losses)\n",
    "min_test_loss = min(test_losses)\n",
    "print(f\"minimum train loss: {min_train_loss}\\nminimum test loss: {min_test_loss}\")\n",
    "\n"
   ],
   "outputs": [
    {
     "name": "stdout",
     "output_type": "stream",
     "text": [
      "Epoch 1/200, Loss: 0.7849, Test Loss: 0.7086\n",
      "Epoch 2/200, Loss: 0.7858, Test Loss: 0.7403\n",
      "Epoch 3/200, Loss: 0.7676, Test Loss: 0.7381\n",
      "Epoch 4/200, Loss: 0.7763, Test Loss: 0.7200\n",
      "Epoch 5/200, Loss: 0.8417, Test Loss: 0.6935\n",
      "Epoch 6/200, Loss: 0.8002, Test Loss: 0.6826\n",
      "Epoch 7/200, Loss: 0.7740, Test Loss: 0.6784\n",
      "Epoch 8/200, Loss: 0.7829, Test Loss: 0.6745\n",
      "Epoch 9/200, Loss: 0.8084, Test Loss: 0.6799\n",
      "Epoch 10/200, Loss: 0.7717, Test Loss: 0.6852\n",
      "Epoch 11/200, Loss: 0.7861, Test Loss: 0.6962\n",
      "Epoch 12/200, Loss: 0.7920, Test Loss: 0.6898\n",
      "Epoch 13/200, Loss: 0.8189, Test Loss: 0.6874\n",
      "Epoch 14/200, Loss: 0.7643, Test Loss: 0.6916\n",
      "Epoch 15/200, Loss: 0.7464, Test Loss: 0.6944\n",
      "Epoch 16/200, Loss: 0.7681, Test Loss: 0.6915\n",
      "Epoch 17/200, Loss: 0.8069, Test Loss: 0.6808\n",
      "Epoch 18/200, Loss: 0.7648, Test Loss: 0.6674\n",
      "Epoch 19/200, Loss: 0.7427, Test Loss: 0.6643\n",
      "Epoch 20/200, Loss: 0.7589, Test Loss: 0.6645\n",
      "Epoch 21/200, Loss: 0.7448, Test Loss: 0.6671\n",
      "Epoch 22/200, Loss: 0.6872, Test Loss: 0.6690\n",
      "Epoch 23/200, Loss: 0.7338, Test Loss: 0.6685\n",
      "Epoch 24/200, Loss: 0.7046, Test Loss: 0.6763\n",
      "Epoch 25/200, Loss: 0.7003, Test Loss: 0.6805\n",
      "Epoch 26/200, Loss: 0.7006, Test Loss: 0.6841\n",
      "Epoch 27/200, Loss: 0.7105, Test Loss: 0.6837\n",
      "Epoch 28/200, Loss: 0.6996, Test Loss: 0.6778\n",
      "Epoch 29/200, Loss: 0.7093, Test Loss: 0.6754\n",
      "Epoch 30/200, Loss: 0.7057, Test Loss: 0.6778\n",
      "Epoch 31/200, Loss: 0.6914, Test Loss: 0.6794\n",
      "Epoch 32/200, Loss: 0.6674, Test Loss: 0.6747\n",
      "Epoch 33/200, Loss: 0.6827, Test Loss: 0.6712\n",
      "Epoch 34/200, Loss: 0.6965, Test Loss: 0.6719\n",
      "Epoch 35/200, Loss: 0.6787, Test Loss: 0.6743\n",
      "Epoch 36/200, Loss: 0.6887, Test Loss: 0.6754\n",
      "Epoch 37/200, Loss: 0.6605, Test Loss: 0.6708\n",
      "Epoch 38/200, Loss: 0.6686, Test Loss: 0.6592\n",
      "Epoch 39/200, Loss: 0.6700, Test Loss: 0.6562\n",
      "Epoch 40/200, Loss: 0.6870, Test Loss: 0.6575\n",
      "Epoch 41/200, Loss: 0.6766, Test Loss: 0.6596\n",
      "Epoch 42/200, Loss: 0.6696, Test Loss: 0.6576\n",
      "Epoch 43/200, Loss: 0.6736, Test Loss: 0.6574\n",
      "Epoch 44/200, Loss: 0.6723, Test Loss: 0.6560\n",
      "Epoch 45/200, Loss: 0.6710, Test Loss: 0.6521\n",
      "Epoch 46/200, Loss: 0.6481, Test Loss: 0.6393\n",
      "Epoch 47/200, Loss: 0.6578, Test Loss: 0.6323\n",
      "Epoch 48/200, Loss: 0.6462, Test Loss: 0.6249\n",
      "Epoch 49/200, Loss: 0.6304, Test Loss: 0.6198\n",
      "Epoch 50/200, Loss: 0.6576, Test Loss: 0.6186\n",
      "Epoch 51/200, Loss: 0.6444, Test Loss: 0.6241\n",
      "Epoch 52/200, Loss: 0.6394, Test Loss: 0.6240\n",
      "Epoch 53/200, Loss: 0.6581, Test Loss: 0.6247\n",
      "Epoch 54/200, Loss: 0.6528, Test Loss: 0.6271\n",
      "Epoch 55/200, Loss: 0.6457, Test Loss: 0.6308\n",
      "Epoch 56/200, Loss: 0.6463, Test Loss: 0.6317\n",
      "Epoch 57/200, Loss: 0.6412, Test Loss: 0.6216\n",
      "Epoch 58/200, Loss: 0.6364, Test Loss: 0.6155\n",
      "Epoch 59/200, Loss: 0.6264, Test Loss: 0.6084\n",
      "Epoch 60/200, Loss: 0.6166, Test Loss: 0.6034\n",
      "Epoch 61/200, Loss: 0.6293, Test Loss: 0.6080\n",
      "Epoch 62/200, Loss: 0.6267, Test Loss: 0.6002\n",
      "Epoch 63/200, Loss: 0.6011, Test Loss: 0.5929\n",
      "Epoch 64/200, Loss: 0.6146, Test Loss: 0.5796\n",
      "Epoch 65/200, Loss: 0.6309, Test Loss: 0.5935\n",
      "Epoch 66/200, Loss: 0.6192, Test Loss: 0.6045\n",
      "Epoch 67/200, Loss: 0.5905, Test Loss: 0.6006\n",
      "Epoch 68/200, Loss: 0.6035, Test Loss: 0.6003\n",
      "Epoch 69/200, Loss: 0.5995, Test Loss: 0.5969\n",
      "Epoch 70/200, Loss: 0.6117, Test Loss: 0.5664\n",
      "Epoch 71/200, Loss: 0.5691, Test Loss: 0.5671\n",
      "Epoch 72/200, Loss: 0.5740, Test Loss: 0.5550\n",
      "Epoch 73/200, Loss: 0.5736, Test Loss: 0.5437\n",
      "Epoch 74/200, Loss: 0.5925, Test Loss: 0.5528\n",
      "Epoch 75/200, Loss: 0.5648, Test Loss: 0.5488\n",
      "Epoch 76/200, Loss: 0.5767, Test Loss: 0.5611\n",
      "Epoch 77/200, Loss: 0.5684, Test Loss: 0.5608\n",
      "Epoch 78/200, Loss: 0.5491, Test Loss: 0.5671\n",
      "Epoch 79/200, Loss: 0.5680, Test Loss: 0.5586\n",
      "Epoch 80/200, Loss: 0.5683, Test Loss: 0.5943\n",
      "Epoch 81/200, Loss: 0.5607, Test Loss: 0.5711\n",
      "Epoch 82/200, Loss: 0.5520, Test Loss: 0.5469\n",
      "Epoch 83/200, Loss: 0.5329, Test Loss: 0.5460\n",
      "Epoch 84/200, Loss: 0.5383, Test Loss: 0.5280\n",
      "Epoch 85/200, Loss: 0.5115, Test Loss: 0.5335\n",
      "Epoch 86/200, Loss: 0.5223, Test Loss: 0.5569\n",
      "Epoch 87/200, Loss: 0.5471, Test Loss: 0.5633\n",
      "Epoch 88/200, Loss: 0.5270, Test Loss: 0.5600\n",
      "Epoch 89/200, Loss: 0.5365, Test Loss: 0.5769\n",
      "Epoch 90/200, Loss: 0.5094, Test Loss: 0.6250\n",
      "Epoch 91/200, Loss: 0.5241, Test Loss: 0.5898\n",
      "Epoch 92/200, Loss: 0.5290, Test Loss: 0.5714\n",
      "Epoch 93/200, Loss: 0.5117, Test Loss: 0.5563\n",
      "Epoch 94/200, Loss: 0.5013, Test Loss: 0.5395\n",
      "Epoch 95/200, Loss: 0.5135, Test Loss: 0.5545\n",
      "Epoch 96/200, Loss: 0.5056, Test Loss: 0.5455\n",
      "Epoch 97/200, Loss: 0.4986, Test Loss: 0.5520\n",
      "Epoch 98/200, Loss: 0.4749, Test Loss: 0.5508\n",
      "Epoch 99/200, Loss: 0.5263, Test Loss: 0.5527\n",
      "Epoch 100/200, Loss: 0.4973, Test Loss: 0.5538\n",
      "Epoch 101/200, Loss: 0.5004, Test Loss: 0.5811\n",
      "Epoch 102/200, Loss: 0.5073, Test Loss: 0.5420\n",
      "Epoch 103/200, Loss: 0.4755, Test Loss: 0.5349\n",
      "Epoch 104/200, Loss: 0.5002, Test Loss: 0.5197\n",
      "Epoch 105/200, Loss: 0.4694, Test Loss: 0.5355\n",
      "Epoch 106/200, Loss: 0.4781, Test Loss: 0.5143\n",
      "Epoch 107/200, Loss: 0.4702, Test Loss: 0.5763\n",
      "Epoch 108/200, Loss: 0.4584, Test Loss: 0.5865\n",
      "Epoch 109/200, Loss: 0.4503, Test Loss: 0.5236\n",
      "Epoch 110/200, Loss: 0.4624, Test Loss: 0.5224\n",
      "Epoch 111/200, Loss: 0.4913, Test Loss: 0.5509\n",
      "Epoch 112/200, Loss: 0.4514, Test Loss: 0.5340\n",
      "Epoch 113/200, Loss: 0.4584, Test Loss: 0.5165\n",
      "Epoch 114/200, Loss: 0.4581, Test Loss: 0.5234\n",
      "Epoch 115/200, Loss: 0.4633, Test Loss: 0.5988\n",
      "Epoch 116/200, Loss: 0.4625, Test Loss: 0.5915\n",
      "Epoch 117/200, Loss: 0.4453, Test Loss: 0.5524\n",
      "Epoch 118/200, Loss: 0.4561, Test Loss: 0.5413\n",
      "Epoch 119/200, Loss: 0.4574, Test Loss: 0.5753\n",
      "Epoch 120/200, Loss: 0.5041, Test Loss: 0.5569\n",
      "Epoch 121/200, Loss: 0.4803, Test Loss: 0.5311\n",
      "Epoch 122/200, Loss: 0.4585, Test Loss: 0.5434\n",
      "Epoch 123/200, Loss: 0.4497, Test Loss: 0.5415\n",
      "Epoch 124/200, Loss: 0.4443, Test Loss: 0.5342\n",
      "Epoch 125/200, Loss: 0.4186, Test Loss: 0.5593\n",
      "Epoch 126/200, Loss: 0.4386, Test Loss: 0.5509\n",
      "Epoch 127/200, Loss: 0.4532, Test Loss: 0.5339\n",
      "Epoch 128/200, Loss: 0.4416, Test Loss: 0.5253\n",
      "Epoch 129/200, Loss: 0.4414, Test Loss: 0.5397\n",
      "Epoch 130/200, Loss: 0.4209, Test Loss: 0.5278\n",
      "Epoch 131/200, Loss: 0.4259, Test Loss: 0.5304\n",
      "Epoch 132/200, Loss: 0.4363, Test Loss: 0.5097\n",
      "Epoch 133/200, Loss: 0.4359, Test Loss: 0.4841\n",
      "Epoch 134/200, Loss: 0.4203, Test Loss: 0.5098\n",
      "Epoch 135/200, Loss: 0.4490, Test Loss: 0.5125\n",
      "Epoch 136/200, Loss: 0.4461, Test Loss: 0.5247\n",
      "Epoch 137/200, Loss: 0.4321, Test Loss: 0.5659\n",
      "Epoch 138/200, Loss: 0.4251, Test Loss: 0.5461\n",
      "Epoch 139/200, Loss: 0.4525, Test Loss: 0.4790\n",
      "Epoch 140/200, Loss: 0.4476, Test Loss: 0.4786\n",
      "Epoch 141/200, Loss: 0.4197, Test Loss: 0.4693\n",
      "Epoch 142/200, Loss: 0.4405, Test Loss: 0.5060\n",
      "Epoch 143/200, Loss: 0.4126, Test Loss: 0.4663\n",
      "Epoch 144/200, Loss: 0.4086, Test Loss: 0.4702\n",
      "Epoch 145/200, Loss: 0.4011, Test Loss: 0.4654\n",
      "Epoch 146/200, Loss: 0.4339, Test Loss: 0.4866\n",
      "Epoch 147/200, Loss: 0.4132, Test Loss: 0.5085\n",
      "Epoch 148/200, Loss: 0.4064, Test Loss: 0.4885\n",
      "Epoch 149/200, Loss: 0.4170, Test Loss: 0.4651\n",
      "Epoch 150/200, Loss: 0.4321, Test Loss: 0.4658\n",
      "Epoch 151/200, Loss: 0.3997, Test Loss: 0.5054\n",
      "Epoch 152/200, Loss: 0.3908, Test Loss: 0.4928\n",
      "Epoch 153/200, Loss: 0.4130, Test Loss: 0.4979\n",
      "Epoch 154/200, Loss: 0.4177, Test Loss: 0.5286\n",
      "Epoch 155/200, Loss: 0.4209, Test Loss: 0.5000\n",
      "Epoch 156/200, Loss: 0.4120, Test Loss: 0.4944\n",
      "Epoch 157/200, Loss: 0.4123, Test Loss: 0.4949\n",
      "Epoch 158/200, Loss: 0.4003, Test Loss: 0.4879\n",
      "Epoch 159/200, Loss: 0.4175, Test Loss: 0.4717\n",
      "Epoch 160/200, Loss: 0.4279, Test Loss: 0.4990\n",
      "Epoch 161/200, Loss: 0.4191, Test Loss: 0.5321\n",
      "Epoch 162/200, Loss: 0.4055, Test Loss: 0.5573\n",
      "Epoch 163/200, Loss: 0.4367, Test Loss: 0.5400\n",
      "Epoch 164/200, Loss: 0.4189, Test Loss: 0.5038\n",
      "Epoch 165/200, Loss: 0.4126, Test Loss: 0.5083\n",
      "Epoch 166/200, Loss: 0.4084, Test Loss: 0.5051\n",
      "Epoch 167/200, Loss: 0.4258, Test Loss: 0.4776\n",
      "Epoch 168/200, Loss: 0.4482, Test Loss: 0.5194\n",
      "Epoch 169/200, Loss: 0.3971, Test Loss: 0.5500\n",
      "Epoch 170/200, Loss: 0.4045, Test Loss: 0.5447\n",
      "Epoch 171/200, Loss: 0.4291, Test Loss: 0.5256\n",
      "Epoch 172/200, Loss: 0.4304, Test Loss: 0.5679\n",
      "Epoch 173/200, Loss: 0.4012, Test Loss: 0.5096\n",
      "Epoch 174/200, Loss: 0.3891, Test Loss: 0.5022\n",
      "Epoch 175/200, Loss: 0.3915, Test Loss: 0.5158\n",
      "Epoch 176/200, Loss: 0.4127, Test Loss: 0.5155\n",
      "Epoch 177/200, Loss: 0.4154, Test Loss: 0.4988\n",
      "Epoch 178/200, Loss: 0.3843, Test Loss: 0.4961\n",
      "Epoch 179/200, Loss: 0.3933, Test Loss: 0.5063\n",
      "Epoch 180/200, Loss: 0.4300, Test Loss: 0.5295\n",
      "Epoch 181/200, Loss: 0.4189, Test Loss: 0.5094\n",
      "Epoch 182/200, Loss: 0.3967, Test Loss: 0.5086\n",
      "Epoch 183/200, Loss: 0.3703, Test Loss: 0.5169\n",
      "Epoch 184/200, Loss: 0.4059, Test Loss: 0.5169\n",
      "Epoch 185/200, Loss: 0.4087, Test Loss: 0.5201\n",
      "Epoch 186/200, Loss: 0.4218, Test Loss: 0.5246\n",
      "Epoch 187/200, Loss: 0.3933, Test Loss: 0.4957\n",
      "Epoch 188/200, Loss: 0.4002, Test Loss: 0.5025\n",
      "Epoch 189/200, Loss: 0.3862, Test Loss: 0.5064\n",
      "Epoch 190/200, Loss: 0.3869, Test Loss: 0.5116\n",
      "Epoch 191/200, Loss: 0.4084, Test Loss: 0.5374\n",
      "Epoch 192/200, Loss: 0.4058, Test Loss: 0.5010\n",
      "Epoch 193/200, Loss: 0.4065, Test Loss: 0.5124\n",
      "Epoch 194/200, Loss: 0.3879, Test Loss: 0.5140\n",
      "Epoch 195/200, Loss: 0.3847, Test Loss: 0.5132\n",
      "Epoch 196/200, Loss: 0.3626, Test Loss: 0.5055\n",
      "Epoch 197/200, Loss: 0.3901, Test Loss: 0.5248\n",
      "Epoch 198/200, Loss: 0.4065, Test Loss: 0.5204\n",
      "Epoch 199/200, Loss: 0.3737, Test Loss: 0.5256\n",
      "Epoch 200/200, Loss: 0.3963, Test Loss: 0.5435\n"
     ]
    },
    {
     "data": {
      "text/plain": [
       "<Figure size 640x480 with 1 Axes>"
      ],
      "image/png": "[encoded data removed]"
     },
     "metadata": {},
     "output_type": "display_data"
    },
    {
     "name": "stdout",
     "output_type": "stream",
     "text": [
      "minimum train loss: 0.36262843757867813\n",
      "minimum test loss: 0.4650990863641103\n"
     ]
    }
   ],
   "execution_count": 19
  },
  {
   "metadata": {},
   "cell_type": "code",
   "outputs": [],
   "execution_count": null,
   "source": "# As the dropout rate increases, the train loss tends to increase and the test loss tends to decrease. This is because the model is less likely to overfit the training data as the dropout rate increases. However, this prevents the model from learning anything (gives it a \"short term memory\"). "
  }
 ],
 "metadata": {
  "kernelspec": {
   "display_name": "Python 3 (ipykernel)",
   "language": "python",
   "name": "python3"
  },
  "language_info": {
   "codemirror_mode": {
    "name": "ipython",
    "version": 3
   },
   "file_extension": ".py",
   "mimetype": "text/x-python",
   "name": "python",
   "nbconvert_exporter": "python",
   "pygments_lexer": "ipython3",
   "version": "3.12.7"
  }
 },
 "nbformat": 4,
 "nbformat_minor": 4
}
