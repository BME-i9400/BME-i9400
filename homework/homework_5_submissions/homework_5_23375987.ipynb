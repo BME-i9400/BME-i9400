{
 "cells": [
  {
   "cell_type": "markdown",
   "source": [
    "## BME i9400\n",
    "## Fall 2024\n",
    "### Homework 5: Dropout regularization in MLPs and Convolutional Neural Networks\n",
    "\n",
    "**Due date: Wednesday, December 11th 2024, 11:59 PM EST**\n",
    "\n",
    "**Total points: 100**"
   ],
   "metadata": {
    "collapsed": false
   }
  },
  {
   "cell_type": "markdown",
   "source": [
    "## Instructions\n",
    "\n",
    "In this homework you will familiarize yourself with a type of regularization that is commonly used in deep learning models: *dropout*.\n",
    "\n",
    "Dropout is a regularization technique that aims to prevent overfitting by randomly “dropping out” (setting to zero) a subset of neurons and their connections during training. During each training iteration, a randomly selected subset of the neurons is temporarily removed from the network. By removing neurons, dropout forces the network to not rely too heavily on any one neuron, encouraging redundancy and robust feature learning.Note that during model evaluation, dropout is turned off, and all neurons are active, but their outputs are scaled by the dropout rate to maintain consistency with training.\n",
    "\n",
    "Dropout mitigates overfitting by introducing noise into the training process, effectively training many smaller “sub-networks” and averaging their predictions. By training with multiple random sub-networks, the model becomes more robust and less sensitive to specific neurons or weights.\n",
    "\n",
    "In PyTorch, dropout is implemented with the `nn.Dropout` module. The `nn.Dropout` module takes a single argument, `p`, which is the probability of dropping out a neuron. The `p` argument is the probability that a neuron will be zeroed out during training. The `p` argument is typically set to a value between 0.2 and 0.5.\n",
    "\n",
    "To instantiate a dropout layer with a dropout rate of 0.2, you can use the following code:\n",
    "```dropout_layer = nn.Dropout(p=0.2)```\n",
    "\n",
    "To apply dropout to a tensor `x`, you can use the following code:\n",
    "```x = dropout_layer(x)```\n"
   ],
   "metadata": {
    "collapsed": false
   }
  },
  {
   "cell_type": "code",
   "source": [
    "import torch\n",
    "import torch.nn as nn\n",
    "import torch.optim as optim\n",
    "from sklearn.model_selection import train_test_split\n",
    "import numpy as np\n",
    "from torch.utils.data import TensorDataset, DataLoader\n",
    "import matplotlib.pyplot as plt"
   ],
   "metadata": {
    "collapsed": false,
    "ExecuteTime": {
     "end_time": "2024-12-10T00:19:52.581878Z",
     "start_time": "2024-12-10T00:19:46.885528Z"
    }
   },
   "outputs": [],
   "execution_count": 1
  },
  {
   "cell_type": "markdown",
   "source": [
    "## Load the dataset, split into train and test sets, cast to PyTorch tensors, and create data loaders\n",
    "(DONE FOR YOU)"
   ],
   "metadata": {
    "collapsed": false
   }
  },
  {
   "cell_type": "code",
   "source": [
    "tmp = np.load('../slides/eeg_alcohol_data.npy', allow_pickle=True)\n",
    "X = tmp.item().get('X')\n",
    "y = tmp.item().get('y')\n",
    "if X.dtype != np.float32:\n",
    "    X = np.array(X, dtype=np.float32)\n",
    "if y.dtype not in [np.int32, np.int64]:\n",
    "    y = np.array(y, dtype=np.int64)\n",
    "\n",
    "X_train, X_test, y_train, y_test = train_test_split(X, y, test_size=0.2, random_state=42)\n",
    "\n",
    "X_train = torch.tensor(X_train, dtype=torch.float32)\n",
    "X_test = torch.tensor(X_test, dtype=torch.float32)\n",
    "y_train = torch.tensor(y_train, dtype=torch.long)\n",
    "y_test = torch.tensor(y_test, dtype=torch.long)\n",
    "\n",
    "train_dataset = TensorDataset(X_train, y_train)\n",
    "test_dataset = TensorDataset(X_test, y_test)\n",
    "train_loader = DataLoader(train_dataset, batch_size=32, shuffle=True)\n",
    "test_loader = DataLoader(test_dataset, batch_size=32, shuffle=False)"
   ],
   "metadata": {
    "collapsed": false,
    "ExecuteTime": {
     "end_time": "2024-12-10T00:19:54.177019Z",
     "start_time": "2024-12-10T00:19:54.097920Z"
    }
   },
   "outputs": [],
   "execution_count": 2
  },
  {
   "cell_type": "markdown",
   "source": [
    "### Define the CNN model\n",
    "We will work with a model that combines two convolutional layers at the front end with three fully connected layers at the back end. Pay attention to the arguments of the Conv2D and Linear blocks, as it will help your understanding of the model architecture.\n",
    "(DONE FOR YOU)"
   ],
   "metadata": {
    "collapsed": false
   }
  },
  {
   "cell_type": "code",
   "source": [
    "class EEGCNN(nn.Module):\n",
    "    def __init__(self, input_channels, input_timepoints, num_classes):\n",
    "        super(EEGCNN, self).__init__()\n",
    "        self.spatial_conv = nn.Conv2d(1, 8, kernel_size=(input_channels, 1))  # Spatial filtering\n",
    "        self.temporal_conv = nn.Conv2d(8, 16, kernel_size=(1, 10), stride=(1, 2))  # Temporal filtering\n",
    "        self.flatten = nn.Flatten()\n",
    "        self.fc1 = nn.Linear(16 * ((input_timepoints - 10) // 2 + 1), 32) # fully connected layer 1\n",
    "        self.fc2 = nn.Linear(32, 16)  # fully connected layer 2\n",
    "        self.fc3 = nn.Linear(16, num_classes) # fully connected layer 3\n",
    "        self.softmax = nn.Softmax(dim=1)\n",
    "\n",
    "    def forward(self, x):\n",
    "        x = x.unsqueeze(1)  # Add channel dimension\n",
    "        x = torch.relu(self.spatial_conv(x))\n",
    "        x = torch.relu(self.temporal_conv(x))\n",
    "        x = self.flatten(x) # convert from 2D to 1D\n",
    "        x = self.fc1(x) # fully connected layer 1\n",
    "        x = self.fc2(x) # fully connected layer 2\n",
    "        x = self.fc3(x) # fully connected layer 3\n",
    "        x = self.softmax(x)\n",
    "\n",
    "        return x"
   ],
   "metadata": {
    "collapsed": false,
    "ExecuteTime": {
     "end_time": "2024-12-10T00:19:55.947096Z",
     "start_time": "2024-12-10T00:19:55.921607Z"
    }
   },
   "outputs": [],
   "execution_count": 3
  },
  {
   "cell_type": "markdown",
   "source": [
    "### Instantiate the model with the parameters of our dataset\n",
    "(DONE FOR YOU)"
   ],
   "metadata": {
    "collapsed": false
   }
  },
  {
   "cell_type": "code",
   "source": [
    "input_channels = X_train.shape[1]  # 64 electrodes\n",
    "input_timepoints = X_train.shape[2]  # 256 time samples\n",
    "num_classes = len(torch.unique(y_train))  # Number of unique classes in y\n",
    "model = EEGCNN(input_channels, input_timepoints, num_classes)"
   ],
   "metadata": {
    "collapsed": false,
    "ExecuteTime": {
     "end_time": "2024-12-10T00:19:59.840673Z",
     "start_time": "2024-12-10T00:19:59.814880Z"
    }
   },
   "outputs": [],
   "execution_count": 4
  },
  {
   "cell_type": "markdown",
   "source": [
    "### Define the training loop and train for 200 epochs\n",
    "Below is a function that trains the model for a specified number of epochs, reporting the training and test loss after each epoch.\n",
    "(DONE FOR YOU)"
   ],
   "metadata": {
    "collapsed": false
   }
  },
  {
   "cell_type": "code",
   "source": [
    "def run_train_loop(model, criterion, optimizer, epochs=200):\n",
    "\n",
    "    train_losses = []\n",
    "    test_losses = []\n",
    "\n",
    "    for epoch in range(epochs):\n",
    "        model.train()\n",
    "        running_loss = 0.0\n",
    "        for X_batch, y_batch in train_loader:\n",
    "            optimizer.zero_grad()\n",
    "            outputs = model(X_batch)\n",
    "            loss = criterion(outputs, y_batch)\n",
    "            loss.backward()\n",
    "            optimizer.step()\n",
    "            running_loss += loss.item()\n",
    "\n",
    "        # evaluate test loss\n",
    "        model.eval()\n",
    "        test_loss = 0.0\n",
    "        with torch.no_grad():\n",
    "            for X_batch, y_batch in test_loader:\n",
    "                outputs = model(X_batch)\n",
    "                loss = criterion(outputs, y_batch)\n",
    "                test_loss += loss.item()\n",
    "\n",
    "        print(f\"Epoch {epoch+1}/{epochs}, Loss: {running_loss/len(train_loader):.4f}, Test Loss: {test_loss/len(test_loader):.4f}\")\n",
    "        train_losses.append(running_loss/len(train_loader))\n",
    "        test_losses.append(test_loss/len(test_loader))\n",
    "\n",
    "    return train_losses, test_losses"
   ],
   "metadata": {
    "collapsed": false,
    "ExecuteTime": {
     "end_time": "2024-12-10T00:20:02.388093Z",
     "start_time": "2024-12-10T00:20:02.367707Z"
    }
   },
   "outputs": [],
   "execution_count": 5
  },
  {
   "cell_type": "markdown",
   "source": [
    "### Here we train the model for 200 epochs\n",
    "(DONE FOR YOU)"
   ],
   "metadata": {
    "collapsed": false
   }
  },
  {
   "cell_type": "code",
   "source": [
    "criterion = nn.CrossEntropyLoss()\n",
    "optimizer = optim.Adam(model.parameters(), lr=0.001)\n",
    "epochs = 200\n",
    "train_losses, test_losses = run_train_loop(model, criterion, optimizer, epochs)"
   ],
   "metadata": {
    "collapsed": false,
    "ExecuteTime": {
     "end_time": "2024-12-10T00:20:27.456210Z",
     "start_time": "2024-12-10T00:20:07.215772Z"
    }
   },
   "outputs": [
    {
     "name": "stdout",
     "output_type": "stream",
     "text": [
      "Epoch 1/200, Loss: 0.6743, Test Loss: 0.6947\n",
      "Epoch 2/200, Loss: 0.5885, Test Loss: 0.6079\n",
      "Epoch 3/200, Loss: 0.5208, Test Loss: 0.6022\n",
      "Epoch 4/200, Loss: 0.4705, Test Loss: 0.6440\n",
      "Epoch 5/200, Loss: 0.4487, Test Loss: 0.6117\n",
      "Epoch 6/200, Loss: 0.4213, Test Loss: 0.5764\n",
      "Epoch 7/200, Loss: 0.3927, Test Loss: 0.5486\n",
      "Epoch 8/200, Loss: 0.3696, Test Loss: 0.5824\n",
      "Epoch 9/200, Loss: 0.3452, Test Loss: 0.5997\n",
      "Epoch 10/200, Loss: 0.3300, Test Loss: 0.5721\n",
      "Epoch 11/200, Loss: 0.3240, Test Loss: 0.5868\n",
      "Epoch 12/200, Loss: 0.3256, Test Loss: 0.5744\n",
      "Epoch 13/200, Loss: 0.3308, Test Loss: 0.5836\n",
      "Epoch 14/200, Loss: 0.3291, Test Loss: 0.5668\n",
      "Epoch 15/200, Loss: 0.3258, Test Loss: 0.5665\n",
      "Epoch 16/200, Loss: 0.3256, Test Loss: 0.5757\n",
      "Epoch 17/200, Loss: 0.3238, Test Loss: 0.5748\n",
      "Epoch 18/200, Loss: 0.3233, Test Loss: 0.5790\n",
      "Epoch 19/200, Loss: 0.3218, Test Loss: 0.5912\n",
      "Epoch 20/200, Loss: 0.3214, Test Loss: 0.5661\n",
      "Epoch 21/200, Loss: 0.3213, Test Loss: 0.5654\n",
      "Epoch 22/200, Loss: 0.3224, Test Loss: 0.5675\n",
      "Epoch 23/200, Loss: 0.3224, Test Loss: 0.5685\n",
      "Epoch 24/200, Loss: 0.3212, Test Loss: 0.5676\n",
      "Epoch 25/200, Loss: 0.3211, Test Loss: 0.5669\n",
      "Epoch 26/200, Loss: 0.3223, Test Loss: 0.5661\n",
      "Epoch 27/200, Loss: 0.3211, Test Loss: 0.5657\n",
      "Epoch 28/200, Loss: 0.3211, Test Loss: 0.5656\n",
      "Epoch 29/200, Loss: 0.3211, Test Loss: 0.5655\n",
      "Epoch 30/200, Loss: 0.3211, Test Loss: 0.5654\n",
      "Epoch 31/200, Loss: 0.3211, Test Loss: 0.5652\n",
      "Epoch 32/200, Loss: 0.3211, Test Loss: 0.5652\n",
      "Epoch 33/200, Loss: 0.3211, Test Loss: 0.5649\n",
      "Epoch 34/200, Loss: 0.3211, Test Loss: 0.5648\n",
      "Epoch 35/200, Loss: 0.3211, Test Loss: 0.5647\n",
      "Epoch 36/200, Loss: 0.3211, Test Loss: 0.5646\n",
      "Epoch 37/200, Loss: 0.3211, Test Loss: 0.5643\n",
      "Epoch 38/200, Loss: 0.3223, Test Loss: 0.5640\n",
      "Epoch 39/200, Loss: 0.3211, Test Loss: 0.5643\n",
      "Epoch 40/200, Loss: 0.3211, Test Loss: 0.5641\n",
      "Epoch 41/200, Loss: 0.3211, Test Loss: 0.5639\n",
      "Epoch 42/200, Loss: 0.3211, Test Loss: 0.5638\n",
      "Epoch 43/200, Loss: 0.3223, Test Loss: 0.5638\n",
      "Epoch 44/200, Loss: 0.3211, Test Loss: 0.5637\n",
      "Epoch 45/200, Loss: 0.3211, Test Loss: 0.5634\n",
      "Epoch 46/200, Loss: 0.3223, Test Loss: 0.5635\n",
      "Epoch 47/200, Loss: 0.3211, Test Loss: 0.5633\n",
      "Epoch 48/200, Loss: 0.3223, Test Loss: 0.5633\n",
      "Epoch 49/200, Loss: 0.3211, Test Loss: 0.5632\n",
      "Epoch 50/200, Loss: 0.3211, Test Loss: 0.5632\n",
      "Epoch 51/200, Loss: 0.3211, Test Loss: 0.5631\n",
      "Epoch 52/200, Loss: 0.3211, Test Loss: 0.5629\n",
      "Epoch 53/200, Loss: 0.3211, Test Loss: 0.5628\n",
      "Epoch 54/200, Loss: 0.3211, Test Loss: 0.5628\n",
      "Epoch 55/200, Loss: 0.3211, Test Loss: 0.5628\n",
      "Epoch 56/200, Loss: 0.3211, Test Loss: 0.5627\n",
      "Epoch 57/200, Loss: 0.3211, Test Loss: 0.5626\n",
      "Epoch 58/200, Loss: 0.3211, Test Loss: 0.5626\n",
      "Epoch 59/200, Loss: 0.3211, Test Loss: 0.5626\n",
      "Epoch 60/200, Loss: 0.3223, Test Loss: 0.5624\n",
      "Epoch 61/200, Loss: 0.3223, Test Loss: 0.5623\n",
      "Epoch 62/200, Loss: 0.3211, Test Loss: 0.5622\n",
      "Epoch 63/200, Loss: 0.3211, Test Loss: 0.5621\n",
      "Epoch 64/200, Loss: 0.3211, Test Loss: 0.5621\n",
      "Epoch 65/200, Loss: 0.3211, Test Loss: 0.5620\n",
      "Epoch 66/200, Loss: 0.3211, Test Loss: 0.5618\n",
      "Epoch 67/200, Loss: 0.3223, Test Loss: 0.5618\n",
      "Epoch 68/200, Loss: 0.3211, Test Loss: 0.5618\n",
      "Epoch 69/200, Loss: 0.3211, Test Loss: 0.5618\n",
      "Epoch 70/200, Loss: 0.3235, Test Loss: 0.5617\n",
      "Epoch 71/200, Loss: 0.3211, Test Loss: 0.5615\n",
      "Epoch 72/200, Loss: 0.3211, Test Loss: 0.5615\n",
      "Epoch 73/200, Loss: 0.3211, Test Loss: 0.5615\n",
      "Epoch 74/200, Loss: 0.3211, Test Loss: 0.5614\n",
      "Epoch 75/200, Loss: 0.3211, Test Loss: 0.5614\n",
      "Epoch 76/200, Loss: 0.3211, Test Loss: 0.5612\n",
      "Epoch 77/200, Loss: 0.3211, Test Loss: 0.5612\n",
      "Epoch 78/200, Loss: 0.3223, Test Loss: 0.5611\n",
      "Epoch 79/200, Loss: 0.3211, Test Loss: 0.5610\n",
      "Epoch 80/200, Loss: 0.3223, Test Loss: 0.5610\n",
      "Epoch 81/200, Loss: 0.3211, Test Loss: 0.5609\n",
      "Epoch 82/200, Loss: 0.3211, Test Loss: 0.5608\n",
      "Epoch 83/200, Loss: 0.3211, Test Loss: 0.5608\n",
      "Epoch 84/200, Loss: 0.3211, Test Loss: 0.5607\n",
      "Epoch 85/200, Loss: 0.3211, Test Loss: 0.5606\n",
      "Epoch 86/200, Loss: 0.3211, Test Loss: 0.5604\n",
      "Epoch 87/200, Loss: 0.3211, Test Loss: 0.5605\n",
      "Epoch 88/200, Loss: 0.3211, Test Loss: 0.5603\n",
      "Epoch 89/200, Loss: 0.3223, Test Loss: 0.5603\n",
      "Epoch 90/200, Loss: 0.3211, Test Loss: 0.5602\n",
      "Epoch 91/200, Loss: 0.3223, Test Loss: 0.5602\n",
      "Epoch 92/200, Loss: 0.3211, Test Loss: 0.5601\n",
      "Epoch 93/200, Loss: 0.3211, Test Loss: 0.5601\n",
      "Epoch 94/200, Loss: 0.3211, Test Loss: 0.5600\n",
      "Epoch 95/200, Loss: 0.3211, Test Loss: 0.5599\n",
      "Epoch 96/200, Loss: 0.3223, Test Loss: 0.5598\n",
      "Epoch 97/200, Loss: 0.3211, Test Loss: 0.5598\n",
      "Epoch 98/200, Loss: 0.3211, Test Loss: 0.5597\n",
      "Epoch 99/200, Loss: 0.3211, Test Loss: 0.5597\n",
      "Epoch 100/200, Loss: 0.3211, Test Loss: 0.5596\n",
      "Epoch 101/200, Loss: 0.3211, Test Loss: 0.5596\n",
      "Epoch 102/200, Loss: 0.3211, Test Loss: 0.5595\n",
      "Epoch 103/200, Loss: 0.3223, Test Loss: 0.5594\n",
      "Epoch 104/200, Loss: 0.3211, Test Loss: 0.5593\n",
      "Epoch 105/200, Loss: 0.3211, Test Loss: 0.5594\n",
      "Epoch 106/200, Loss: 0.3211, Test Loss: 0.5593\n",
      "Epoch 107/200, Loss: 0.3211, Test Loss: 0.5592\n",
      "Epoch 108/200, Loss: 0.3223, Test Loss: 0.5591\n",
      "Epoch 109/200, Loss: 0.3211, Test Loss: 0.5591\n",
      "Epoch 110/200, Loss: 0.3211, Test Loss: 0.5591\n",
      "Epoch 111/200, Loss: 0.3211, Test Loss: 0.5590\n",
      "Epoch 112/200, Loss: 0.3211, Test Loss: 0.5590\n",
      "Epoch 113/200, Loss: 0.3223, Test Loss: 0.5589\n",
      "Epoch 114/200, Loss: 0.3211, Test Loss: 0.5589\n",
      "Epoch 115/200, Loss: 0.3211, Test Loss: 0.5588\n",
      "Epoch 116/200, Loss: 0.3211, Test Loss: 0.5587\n",
      "Epoch 117/200, Loss: 0.3211, Test Loss: 0.5587\n",
      "Epoch 118/200, Loss: 0.3223, Test Loss: 0.5587\n",
      "Epoch 119/200, Loss: 0.3211, Test Loss: 0.5586\n",
      "Epoch 120/200, Loss: 0.3211, Test Loss: 0.5585\n",
      "Epoch 121/200, Loss: 0.3211, Test Loss: 0.5585\n",
      "Epoch 122/200, Loss: 0.3223, Test Loss: 0.5585\n",
      "Epoch 123/200, Loss: 0.3211, Test Loss: 0.5584\n",
      "Epoch 124/200, Loss: 0.3211, Test Loss: 0.5583\n",
      "Epoch 125/200, Loss: 0.3211, Test Loss: 0.5583\n",
      "Epoch 126/200, Loss: 0.3211, Test Loss: 0.5582\n",
      "Epoch 127/200, Loss: 0.3211, Test Loss: 0.5582\n",
      "Epoch 128/200, Loss: 0.3223, Test Loss: 0.5582\n",
      "Epoch 129/200, Loss: 0.3211, Test Loss: 0.5581\n",
      "Epoch 130/200, Loss: 0.3211, Test Loss: 0.5581\n",
      "Epoch 131/200, Loss: 0.3211, Test Loss: 0.5580\n",
      "Epoch 132/200, Loss: 0.3211, Test Loss: 0.5580\n",
      "Epoch 133/200, Loss: 0.3223, Test Loss: 0.5579\n",
      "Epoch 134/200, Loss: 0.3211, Test Loss: 0.5579\n",
      "Epoch 135/200, Loss: 0.3223, Test Loss: 0.5578\n",
      "Epoch 136/200, Loss: 0.3211, Test Loss: 0.5579\n",
      "Epoch 137/200, Loss: 0.3211, Test Loss: 0.5578\n",
      "Epoch 138/200, Loss: 0.3223, Test Loss: 0.5577\n",
      "Epoch 139/200, Loss: 0.3223, Test Loss: 0.5576\n",
      "Epoch 140/200, Loss: 0.3211, Test Loss: 0.5576\n",
      "Epoch 141/200, Loss: 0.3211, Test Loss: 0.5576\n",
      "Epoch 142/200, Loss: 0.3211, Test Loss: 0.5576\n",
      "Epoch 143/200, Loss: 0.3211, Test Loss: 0.5575\n",
      "Epoch 144/200, Loss: 0.3211, Test Loss: 0.5574\n",
      "Epoch 145/200, Loss: 0.3211, Test Loss: 0.5574\n",
      "Epoch 146/200, Loss: 0.3211, Test Loss: 0.5574\n",
      "Epoch 147/200, Loss: 0.3211, Test Loss: 0.5574\n",
      "Epoch 148/200, Loss: 0.3211, Test Loss: 0.5573\n",
      "Epoch 149/200, Loss: 0.3211, Test Loss: 0.5573\n",
      "Epoch 150/200, Loss: 0.3234, Test Loss: 0.5573\n",
      "Epoch 151/200, Loss: 0.3211, Test Loss: 0.5572\n",
      "Epoch 152/200, Loss: 0.3211, Test Loss: 0.5571\n",
      "Epoch 153/200, Loss: 0.3211, Test Loss: 0.5572\n",
      "Epoch 154/200, Loss: 0.3211, Test Loss: 0.5571\n",
      "Epoch 155/200, Loss: 0.3211, Test Loss: 0.5570\n",
      "Epoch 156/200, Loss: 0.3211, Test Loss: 0.5569\n",
      "Epoch 157/200, Loss: 0.3223, Test Loss: 0.5570\n",
      "Epoch 158/200, Loss: 0.3211, Test Loss: 0.5569\n",
      "Epoch 159/200, Loss: 0.3211, Test Loss: 0.5569\n",
      "Epoch 160/200, Loss: 0.3211, Test Loss: 0.5569\n",
      "Epoch 161/200, Loss: 0.3211, Test Loss: 0.5568\n",
      "Epoch 162/200, Loss: 0.3211, Test Loss: 0.5567\n",
      "Epoch 163/200, Loss: 0.3211, Test Loss: 0.5566\n",
      "Epoch 164/200, Loss: 0.3211, Test Loss: 0.5567\n",
      "Epoch 165/200, Loss: 0.3211, Test Loss: 0.5566\n",
      "Epoch 166/200, Loss: 0.3211, Test Loss: 0.5566\n",
      "Epoch 167/200, Loss: 0.3211, Test Loss: 0.5566\n",
      "Epoch 168/200, Loss: 0.3211, Test Loss: 0.5565\n",
      "Epoch 169/200, Loss: 0.3211, Test Loss: 0.5565\n",
      "Epoch 170/200, Loss: 0.3223, Test Loss: 0.5564\n",
      "Epoch 171/200, Loss: 0.3211, Test Loss: 0.5564\n",
      "Epoch 172/200, Loss: 0.3211, Test Loss: 0.5563\n",
      "Epoch 173/200, Loss: 0.3211, Test Loss: 0.5563\n",
      "Epoch 174/200, Loss: 0.3223, Test Loss: 0.5562\n",
      "Epoch 175/200, Loss: 0.3211, Test Loss: 0.5561\n",
      "Epoch 176/200, Loss: 0.3211, Test Loss: 0.5562\n",
      "Epoch 177/200, Loss: 0.3211, Test Loss: 0.5561\n",
      "Epoch 178/200, Loss: 0.3211, Test Loss: 0.5561\n",
      "Epoch 179/200, Loss: 0.3211, Test Loss: 0.5560\n",
      "Epoch 180/200, Loss: 0.3211, Test Loss: 0.5560\n",
      "Epoch 181/200, Loss: 0.3223, Test Loss: 0.5560\n",
      "Epoch 182/200, Loss: 0.3211, Test Loss: 0.5559\n",
      "Epoch 183/200, Loss: 0.3223, Test Loss: 0.5558\n",
      "Epoch 184/200, Loss: 0.3211, Test Loss: 0.5558\n",
      "Epoch 185/200, Loss: 0.3211, Test Loss: 0.5558\n",
      "Epoch 186/200, Loss: 0.3223, Test Loss: 0.5558\n",
      "Epoch 187/200, Loss: 0.3211, Test Loss: 0.5557\n",
      "Epoch 188/200, Loss: 0.3211, Test Loss: 0.5557\n",
      "Epoch 189/200, Loss: 0.3211, Test Loss: 0.5556\n",
      "Epoch 190/200, Loss: 0.3211, Test Loss: 0.5556\n",
      "Epoch 191/200, Loss: 0.3211, Test Loss: 0.5556\n",
      "Epoch 192/200, Loss: 0.3211, Test Loss: 0.5556\n",
      "Epoch 193/200, Loss: 0.3223, Test Loss: 0.5556\n",
      "Epoch 194/200, Loss: 0.3211, Test Loss: 0.5556\n",
      "Epoch 195/200, Loss: 0.3223, Test Loss: 0.5554\n",
      "Epoch 196/200, Loss: 0.3211, Test Loss: 0.5555\n",
      "Epoch 197/200, Loss: 0.3223, Test Loss: 0.5554\n",
      "Epoch 198/200, Loss: 0.3223, Test Loss: 0.5553\n",
      "Epoch 199/200, Loss: 0.3211, Test Loss: 0.5553\n",
      "Epoch 200/200, Loss: 0.3211, Test Loss: 0.5552\n"
     ]
    }
   ],
   "execution_count": 6
  },
  {
   "cell_type": "markdown",
   "source": [
    "## Task 1: Plot the training and test loss (overlaid) on the vertical axis and the epoch number on the horizontal axis"
   ],
   "metadata": {
    "collapsed": false
   }
  },
  {
   "cell_type": "code",
   "source": [
    "## INSERT CODE HERE\n",
    "# Plot the training and test loss (overlaid) on the vertical axis and the epoch number on the horizontal axis\n",
    "plt.plot(range(1, epochs+1), train_losses, label='Train Loss without dropout')\n",
    "plt.plot(range(1, epochs+1), test_losses, label='Test Loss without dropout')\n",
    "plt.xlabel('Epoch')\n",
    "plt.ylabel('Loss')\n",
    "plt.legend()\n",
    "plt.show()"
   ],
   "metadata": {
    "collapsed": false,
    "ExecuteTime": {
     "end_time": "2024-12-10T00:20:30.477381Z",
     "start_time": "2024-12-10T00:20:29.935558Z"
    }
   },
   "outputs": [
    {
     "data": {
      "text/plain": [
       "<Figure size 640x480 with 1 Axes>"
      ],
      "image/png": "[encoded data removed]"
     },
     "metadata": {},
     "output_type": "display_data"
    }
   ],
   "execution_count": 7
  },
  {
   "cell_type": "markdown",
   "source": [
    "## Task 2: Compute the minimum train and test loss achieved during training and report them"
   ],
   "metadata": {
    "collapsed": false
   }
  },
  {
   "cell_type": "code",
   "source": [
    "## INSERT CODE HERE\n",
    "# Compute the minimum train and test loss achieved during training and report them\n",
    "min_train_loss = min(train_losses)\n",
    "min_test_loss = min(test_losses)\n",
    "print(f\"Minimum train loss without dropout: {min_train_loss:.4f}\")\n",
    "print(f\"Minimum test loss without dropout: {min_test_loss:.4f}\")"
   ],
   "metadata": {
    "collapsed": false,
    "ExecuteTime": {
     "end_time": "2024-12-10T00:20:33.937520Z",
     "start_time": "2024-12-10T00:20:33.917319Z"
    }
   },
   "outputs": [
    {
     "name": "stdout",
     "output_type": "stream",
     "text": [
      "Minimum train loss without dropout: 0.3211\n",
      "Minimum test loss without dropout: 0.5486\n"
     ]
    }
   ],
   "execution_count": 8
  },
  {
   "cell_type": "markdown",
   "source": [
    "## Task 3: Modify EEGCNN to add dropout regularization\n",
    "- Modify the cell below to add **three** dropout layers to the EEGCNN model\n",
    "    - The first dropout layer should be added after the flattening layer\n",
    "    - The second dropout layer should be added after the first fully connected layer\n",
    "    - The third dropout layer should be added after the second fully connected layer\n",
    "- The dropout rates of each layer should be the same and should be passed as an argument to the model constructor\n",
    "- The default dropout rate should be 0.2"
   ],
   "metadata": {
    "collapsed": false
   }
  },
  {
   "cell_type": "code",
   "source": [
    "class EEGCNNwithDropout(nn.Module):\n",
    "    def __init__(self, input_channels, input_timepoints, num_classes, dropout=0.2):\n",
    "        super(EEGCNNwithDropout, self).__init__()\n",
    "        self.spatial_conv = nn.Conv2d(1, 8, kernel_size=(input_channels, 1))\n",
    "        self.temporal_conv = nn.Conv2d(8, 16, kernel_size=(1, 10), stride=(1, 2))\n",
    "        self.flatten = nn.Flatten()\n",
    "        self.dropout_layer1 = nn.Dropout(p=dropout)\n",
    "        self.fc1 = nn.Linear(16 * ((input_timepoints - 10) // 2 + 1), 32)\n",
    "        self.dropout_layer2 = nn.Dropout(p=dropout)\n",
    "        self.fc2 = nn.Linear(32, 16)\n",
    "        self.dropout_layer3 = nn.Dropout(p=dropout)\n",
    "        self.fc3 = nn.Linear(16, num_classes)\n",
    "        self.softmax = nn.Softmax(dim=1)\n",
    "        # INSERT CODE BELOW\n",
    "\n",
    "    def forward(self, x):\n",
    "        x = x.unsqueeze(1)  # Add channel dimension\n",
    "        x = torch.relu(self.spatial_conv(x))\n",
    "        x = torch.relu(self.temporal_conv(x))\n",
    "        x = self.flatten(x)\n",
    "        x = self.dropout_layer1(x)\n",
    "        # INSERT CODE BELOW\n",
    "        x = self.fc1(x)\n",
    "        x = self.dropout_layer2(x)\n",
    "        x = self.fc2(x)\n",
    "        x = self.dropout_layer3(x)\n",
    "        x = self.fc3(x)\n",
    "        x = self.softmax(x)\n",
    "\n",
    "        return x"
   ],
   "metadata": {
    "collapsed": false,
    "ExecuteTime": {
     "end_time": "2024-12-10T00:20:49.443894Z",
     "start_time": "2024-12-10T00:20:49.423560Z"
    }
   },
   "outputs": [],
   "execution_count": 9
  },
  {
   "cell_type": "markdown",
   "source": [
    "## Task 4: Train the EEGCNNwithDropout model with a dropout rate of 0.2 for 200 epochs\n",
    "- Instantiate the model with a dropout rate of 0.2\n",
    "- Train the model for 200 epochs"
   ],
   "metadata": {
    "collapsed": false
   }
  },
  {
   "cell_type": "code",
   "source": [
    "## INSERT CODE BELOW\n",
    "# Instantiate the model with a dropout rate of 0.2\n",
    "model = EEGCNNwithDropout(input_channels, input_timepoints, num_classes, dropout=0.2)\n",
    "## DO NOT MODIFY THE 3 LINES BELOW\n",
    "criterion = nn.CrossEntropyLoss()\n",
    "optimizer = optim.Adam(model.parameters(), lr=0.001)\n",
    "train_losses, test_losses = run_train_loop(model, criterion, optimizer, 200)"
   ],
   "metadata": {
    "collapsed": false,
    "ExecuteTime": {
     "end_time": "2024-12-10T00:21:25.378440Z",
     "start_time": "2024-12-10T00:21:06.313734Z"
    }
   },
   "outputs": [
    {
     "name": "stdout",
     "output_type": "stream",
     "text": [
      "Epoch 1/200, Loss: 0.7349, Test Loss: 0.6776\n",
      "Epoch 2/200, Loss: 0.6152, Test Loss: 0.6398\n",
      "Epoch 3/200, Loss: 0.5445, Test Loss: 0.5704\n",
      "Epoch 4/200, Loss: 0.4953, Test Loss: 0.5782\n",
      "Epoch 5/200, Loss: 0.4660, Test Loss: 0.5442\n",
      "Epoch 6/200, Loss: 0.4386, Test Loss: 0.5169\n",
      "Epoch 7/200, Loss: 0.4229, Test Loss: 0.5368\n",
      "Epoch 8/200, Loss: 0.3958, Test Loss: 0.5224\n",
      "Epoch 9/200, Loss: 0.3823, Test Loss: 0.5286\n",
      "Epoch 10/200, Loss: 0.3823, Test Loss: 0.5535\n",
      "Epoch 11/200, Loss: 0.3727, Test Loss: 0.5647\n",
      "Epoch 12/200, Loss: 0.3634, Test Loss: 0.5425\n",
      "Epoch 13/200, Loss: 0.3501, Test Loss: 0.5343\n",
      "Epoch 14/200, Loss: 0.3525, Test Loss: 0.5632\n",
      "Epoch 15/200, Loss: 0.3472, Test Loss: 0.5657\n",
      "Epoch 16/200, Loss: 0.3411, Test Loss: 0.5504\n",
      "Epoch 17/200, Loss: 0.3418, Test Loss: 0.5565\n",
      "Epoch 18/200, Loss: 0.3389, Test Loss: 0.5379\n",
      "Epoch 19/200, Loss: 0.3377, Test Loss: 0.5372\n",
      "Epoch 20/200, Loss: 0.3499, Test Loss: 0.6015\n",
      "Epoch 21/200, Loss: 0.3734, Test Loss: 0.4897\n",
      "Epoch 22/200, Loss: 0.3625, Test Loss: 0.5162\n",
      "Epoch 23/200, Loss: 0.3703, Test Loss: 0.5521\n",
      "Epoch 24/200, Loss: 0.3649, Test Loss: 0.5436\n",
      "Epoch 25/200, Loss: 0.3456, Test Loss: 0.5308\n",
      "Epoch 26/200, Loss: 0.3388, Test Loss: 0.5470\n",
      "Epoch 27/200, Loss: 0.3368, Test Loss: 0.5477\n",
      "Epoch 28/200, Loss: 0.3328, Test Loss: 0.5193\n",
      "Epoch 29/200, Loss: 0.3368, Test Loss: 0.5299\n",
      "Epoch 30/200, Loss: 0.3378, Test Loss: 0.5205\n",
      "Epoch 31/200, Loss: 0.3430, Test Loss: 0.5448\n",
      "Epoch 32/200, Loss: 0.3351, Test Loss: 0.5779\n",
      "Epoch 33/200, Loss: 0.3415, Test Loss: 0.5507\n",
      "Epoch 34/200, Loss: 0.3350, Test Loss: 0.5410\n",
      "Epoch 35/200, Loss: 0.3311, Test Loss: 0.5254\n",
      "Epoch 36/200, Loss: 0.3384, Test Loss: 0.5671\n",
      "Epoch 37/200, Loss: 0.3353, Test Loss: 0.5028\n",
      "Epoch 38/200, Loss: 0.3311, Test Loss: 0.5468\n",
      "Epoch 39/200, Loss: 0.3404, Test Loss: 0.5111\n",
      "Epoch 40/200, Loss: 0.3464, Test Loss: 0.5996\n",
      "Epoch 41/200, Loss: 0.3618, Test Loss: 0.5587\n",
      "Epoch 42/200, Loss: 0.3562, Test Loss: 0.5199\n",
      "Epoch 43/200, Loss: 0.3336, Test Loss: 0.5356\n",
      "Epoch 44/200, Loss: 0.3373, Test Loss: 0.5154\n",
      "Epoch 45/200, Loss: 0.3339, Test Loss: 0.5337\n",
      "Epoch 46/200, Loss: 0.3330, Test Loss: 0.5229\n",
      "Epoch 47/200, Loss: 0.3347, Test Loss: 0.5217\n",
      "Epoch 48/200, Loss: 0.3299, Test Loss: 0.5171\n",
      "Epoch 49/200, Loss: 0.3325, Test Loss: 0.5090\n",
      "Epoch 50/200, Loss: 0.3334, Test Loss: 0.5395\n",
      "Epoch 51/200, Loss: 0.3308, Test Loss: 0.5468\n",
      "Epoch 52/200, Loss: 0.3327, Test Loss: 0.4972\n",
      "Epoch 53/200, Loss: 0.3537, Test Loss: 0.5161\n",
      "Epoch 54/200, Loss: 0.3324, Test Loss: 0.4911\n",
      "Epoch 55/200, Loss: 0.3368, Test Loss: 0.4811\n",
      "Epoch 56/200, Loss: 0.3332, Test Loss: 0.5317\n",
      "Epoch 57/200, Loss: 0.3302, Test Loss: 0.4902\n",
      "Epoch 58/200, Loss: 0.3330, Test Loss: 0.5462\n",
      "Epoch 59/200, Loss: 0.3293, Test Loss: 0.5429\n",
      "Epoch 60/200, Loss: 0.3305, Test Loss: 0.5257\n",
      "Epoch 61/200, Loss: 0.3301, Test Loss: 0.5139\n",
      "Epoch 62/200, Loss: 0.3294, Test Loss: 0.5098\n",
      "Epoch 63/200, Loss: 0.3292, Test Loss: 0.5112\n",
      "Epoch 64/200, Loss: 0.3294, Test Loss: 0.5156\n",
      "Epoch 65/200, Loss: 0.3294, Test Loss: 0.5215\n",
      "Epoch 66/200, Loss: 0.3290, Test Loss: 0.5239\n",
      "Epoch 67/200, Loss: 0.3290, Test Loss: 0.5247\n",
      "Epoch 68/200, Loss: 0.3289, Test Loss: 0.5232\n",
      "Epoch 69/200, Loss: 0.3289, Test Loss: 0.5228\n",
      "Epoch 70/200, Loss: 0.3320, Test Loss: 0.5204\n",
      "Epoch 71/200, Loss: 0.3324, Test Loss: 0.5354\n",
      "Epoch 72/200, Loss: 0.3311, Test Loss: 0.5195\n",
      "Epoch 73/200, Loss: 0.3290, Test Loss: 0.5247\n",
      "Epoch 74/200, Loss: 0.3290, Test Loss: 0.5168\n",
      "Epoch 75/200, Loss: 0.3289, Test Loss: 0.5154\n",
      "Epoch 76/200, Loss: 0.3324, Test Loss: 0.5219\n",
      "Epoch 77/200, Loss: 0.3292, Test Loss: 0.5224\n",
      "Epoch 78/200, Loss: 0.3291, Test Loss: 0.5300\n",
      "Epoch 79/200, Loss: 0.3292, Test Loss: 0.5384\n",
      "Epoch 80/200, Loss: 0.3330, Test Loss: 0.5330\n",
      "Epoch 81/200, Loss: 0.3372, Test Loss: 0.4991\n",
      "Epoch 82/200, Loss: 0.3370, Test Loss: 0.5410\n",
      "Epoch 83/200, Loss: 0.3288, Test Loss: 0.5420\n",
      "Epoch 84/200, Loss: 0.3364, Test Loss: 0.5163\n",
      "Epoch 85/200, Loss: 0.3371, Test Loss: 0.5248\n",
      "Epoch 86/200, Loss: 0.3280, Test Loss: 0.5056\n",
      "Epoch 87/200, Loss: 0.3289, Test Loss: 0.5106\n",
      "Epoch 88/200, Loss: 0.3374, Test Loss: 0.5542\n",
      "Epoch 89/200, Loss: 0.3396, Test Loss: 0.5200\n",
      "Epoch 90/200, Loss: 0.3390, Test Loss: 0.5213\n",
      "Epoch 91/200, Loss: 0.3364, Test Loss: 0.5101\n",
      "Epoch 92/200, Loss: 0.3339, Test Loss: 0.5439\n",
      "Epoch 93/200, Loss: 0.3273, Test Loss: 0.5221\n",
      "Epoch 94/200, Loss: 0.3330, Test Loss: 0.5156\n",
      "Epoch 95/200, Loss: 0.3394, Test Loss: 0.5485\n",
      "Epoch 96/200, Loss: 0.3350, Test Loss: 0.5199\n",
      "Epoch 97/200, Loss: 0.3339, Test Loss: 0.4899\n",
      "Epoch 98/200, Loss: 0.3387, Test Loss: 0.5010\n",
      "Epoch 99/200, Loss: 0.3425, Test Loss: 0.5049\n",
      "Epoch 100/200, Loss: 0.3461, Test Loss: 0.5283\n",
      "Epoch 101/200, Loss: 0.3395, Test Loss: 0.4803\n",
      "Epoch 102/200, Loss: 0.3340, Test Loss: 0.4636\n",
      "Epoch 103/200, Loss: 0.3271, Test Loss: 0.5140\n",
      "Epoch 104/200, Loss: 0.3281, Test Loss: 0.5033\n",
      "Epoch 105/200, Loss: 0.3276, Test Loss: 0.5024\n",
      "Epoch 106/200, Loss: 0.3237, Test Loss: 0.5076\n",
      "Epoch 107/200, Loss: 0.3237, Test Loss: 0.5065\n",
      "Epoch 108/200, Loss: 0.3237, Test Loss: 0.5061\n",
      "Epoch 109/200, Loss: 0.3239, Test Loss: 0.4993\n",
      "Epoch 110/200, Loss: 0.3263, Test Loss: 0.4957\n",
      "Epoch 111/200, Loss: 0.3255, Test Loss: 0.4958\n",
      "Epoch 112/200, Loss: 0.3245, Test Loss: 0.4782\n",
      "Epoch 113/200, Loss: 0.3364, Test Loss: 0.5848\n",
      "Epoch 114/200, Loss: 0.3619, Test Loss: 0.5889\n",
      "Epoch 115/200, Loss: 0.3585, Test Loss: 0.5069\n",
      "Epoch 116/200, Loss: 0.3557, Test Loss: 0.5094\n",
      "Epoch 117/200, Loss: 0.3532, Test Loss: 0.5177\n",
      "Epoch 118/200, Loss: 0.3480, Test Loss: 0.5254\n",
      "Epoch 119/200, Loss: 0.3432, Test Loss: 0.5076\n",
      "Epoch 120/200, Loss: 0.3313, Test Loss: 0.4893\n",
      "Epoch 121/200, Loss: 0.3315, Test Loss: 0.4747\n",
      "Epoch 122/200, Loss: 0.3278, Test Loss: 0.4474\n",
      "Epoch 123/200, Loss: 0.3277, Test Loss: 0.4427\n",
      "Epoch 124/200, Loss: 0.3266, Test Loss: 0.4301\n",
      "Epoch 125/200, Loss: 0.3319, Test Loss: 0.4424\n",
      "Epoch 126/200, Loss: 0.3347, Test Loss: 0.4870\n",
      "Epoch 127/200, Loss: 0.3376, Test Loss: 0.4708\n",
      "Epoch 128/200, Loss: 0.3357, Test Loss: 0.4946\n",
      "Epoch 129/200, Loss: 0.3262, Test Loss: 0.5087\n",
      "Epoch 130/200, Loss: 0.3395, Test Loss: 0.5153\n",
      "Epoch 131/200, Loss: 0.3394, Test Loss: 0.5180\n",
      "Epoch 132/200, Loss: 0.3287, Test Loss: 0.4806\n",
      "Epoch 133/200, Loss: 0.3270, Test Loss: 0.4686\n",
      "Epoch 134/200, Loss: 0.3267, Test Loss: 0.4763\n",
      "Epoch 135/200, Loss: 0.3244, Test Loss: 0.4867\n",
      "Epoch 136/200, Loss: 0.3290, Test Loss: 0.5401\n",
      "Epoch 137/200, Loss: 0.3283, Test Loss: 0.5085\n",
      "Epoch 138/200, Loss: 0.3287, Test Loss: 0.5082\n",
      "Epoch 139/200, Loss: 0.3214, Test Loss: 0.5061\n",
      "Epoch 140/200, Loss: 0.3245, Test Loss: 0.5069\n",
      "Epoch 141/200, Loss: 0.3215, Test Loss: 0.5150\n",
      "Epoch 142/200, Loss: 0.3232, Test Loss: 0.5132\n",
      "Epoch 143/200, Loss: 0.3252, Test Loss: 0.5620\n",
      "Epoch 144/200, Loss: 0.3292, Test Loss: 0.5240\n",
      "Epoch 145/200, Loss: 0.3298, Test Loss: 0.4867\n",
      "Epoch 146/200, Loss: 0.3239, Test Loss: 0.4943\n",
      "Epoch 147/200, Loss: 0.3223, Test Loss: 0.5091\n",
      "Epoch 148/200, Loss: 0.3231, Test Loss: 0.5432\n",
      "Epoch 149/200, Loss: 0.3254, Test Loss: 0.5457\n",
      "Epoch 150/200, Loss: 0.3315, Test Loss: 0.4578\n",
      "Epoch 151/200, Loss: 0.3363, Test Loss: 0.5001\n",
      "Epoch 152/200, Loss: 0.3228, Test Loss: 0.5675\n",
      "Epoch 153/200, Loss: 0.3264, Test Loss: 0.5735\n",
      "Epoch 154/200, Loss: 0.3359, Test Loss: 0.5631\n",
      "Epoch 155/200, Loss: 0.3231, Test Loss: 0.5413\n",
      "Epoch 156/200, Loss: 0.3212, Test Loss: 0.5323\n",
      "Epoch 157/200, Loss: 0.3232, Test Loss: 0.4901\n",
      "Epoch 158/200, Loss: 0.3296, Test Loss: 0.5133\n",
      "Epoch 159/200, Loss: 0.3197, Test Loss: 0.5428\n",
      "Epoch 160/200, Loss: 0.3185, Test Loss: 0.5494\n",
      "Epoch 161/200, Loss: 0.3199, Test Loss: 0.5226\n",
      "Epoch 162/200, Loss: 0.3264, Test Loss: 0.5282\n",
      "Epoch 163/200, Loss: 0.3235, Test Loss: 0.5282\n",
      "Epoch 164/200, Loss: 0.3211, Test Loss: 0.5379\n",
      "Epoch 165/200, Loss: 0.3186, Test Loss: 0.5311\n",
      "Epoch 166/200, Loss: 0.3185, Test Loss: 0.5241\n",
      "Epoch 167/200, Loss: 0.3185, Test Loss: 0.5233\n",
      "Epoch 168/200, Loss: 0.3185, Test Loss: 0.5230\n",
      "Epoch 169/200, Loss: 0.3185, Test Loss: 0.5282\n",
      "Epoch 170/200, Loss: 0.3211, Test Loss: 0.5287\n",
      "Epoch 171/200, Loss: 0.3185, Test Loss: 0.5317\n",
      "Epoch 172/200, Loss: 0.3211, Test Loss: 0.5363\n",
      "Epoch 173/200, Loss: 0.3187, Test Loss: 0.5315\n",
      "Epoch 174/200, Loss: 0.3185, Test Loss: 0.5282\n",
      "Epoch 175/200, Loss: 0.3209, Test Loss: 0.5260\n",
      "Epoch 176/200, Loss: 0.3211, Test Loss: 0.5337\n",
      "Epoch 177/200, Loss: 0.3262, Test Loss: 0.5242\n",
      "Epoch 178/200, Loss: 0.3161, Test Loss: 0.5389\n",
      "Epoch 179/200, Loss: 0.3226, Test Loss: 0.5413\n",
      "Epoch 180/200, Loss: 0.3285, Test Loss: 0.5318\n",
      "Epoch 181/200, Loss: 0.3238, Test Loss: 0.5281\n",
      "Epoch 182/200, Loss: 0.3310, Test Loss: 0.5054\n",
      "Epoch 183/200, Loss: 0.3535, Test Loss: 0.5374\n",
      "Epoch 184/200, Loss: 0.3390, Test Loss: 0.5164\n",
      "Epoch 185/200, Loss: 0.3307, Test Loss: 0.5272\n",
      "Epoch 186/200, Loss: 0.3286, Test Loss: 0.4985\n",
      "Epoch 187/200, Loss: 0.3421, Test Loss: 0.5114\n",
      "Epoch 188/200, Loss: 0.3295, Test Loss: 0.5395\n",
      "Epoch 189/200, Loss: 0.3484, Test Loss: 0.4947\n",
      "Epoch 190/200, Loss: 0.3432, Test Loss: 0.6032\n",
      "Epoch 191/200, Loss: 0.3552, Test Loss: 0.5899\n",
      "Epoch 192/200, Loss: 0.3896, Test Loss: 0.5948\n",
      "Epoch 193/200, Loss: 0.3495, Test Loss: 0.5433\n",
      "Epoch 194/200, Loss: 0.3440, Test Loss: 0.5365\n",
      "Epoch 195/200, Loss: 0.3430, Test Loss: 0.5586\n",
      "Epoch 196/200, Loss: 0.4408, Test Loss: 0.6201\n",
      "Epoch 197/200, Loss: 0.4642, Test Loss: 0.5785\n",
      "Epoch 198/200, Loss: 0.4157, Test Loss: 0.4629\n",
      "Epoch 199/200, Loss: 0.3760, Test Loss: 0.4993\n",
      "Epoch 200/200, Loss: 0.3677, Test Loss: 0.5282\n"
     ]
    }
   ],
   "execution_count": 10
  },
  {
   "cell_type": "markdown",
   "source": [
    "## Task 5: Plot the training and test loss (overlaid) on the vertical axis and the epoch number on the horizontal axis"
   ],
   "metadata": {
    "collapsed": false
   }
  },
  {
   "cell_type": "code",
   "source": [
    "# INSERT CODE HERE\n",
    "# Plot the training and test loss (overlaid) on the vertical axis and the epoch number on the horizontal axis\n",
    "plt.plot(range(1, epochs+1), train_losses, label='Train Loss with dropout rate of 0.2')\n",
    "plt.plot(range(1, epochs+1), test_losses, label='Test Loss with dropout rate of 0.2')\n",
    "plt.xlabel('Epoch')\n",
    "plt.ylabel('Loss')\n",
    "plt.legend()\n",
    "plt.show()"
   ],
   "metadata": {
    "collapsed": false,
    "ExecuteTime": {
     "end_time": "2024-12-10T00:21:28.576931Z",
     "start_time": "2024-12-10T00:21:28.373482Z"
    }
   },
   "outputs": [
    {
     "data": {
      "text/plain": [
       "<Figure size 640x480 with 1 Axes>"
      ],
      "image/png": "[encoded data removed]"
     },
     "metadata": {},
     "output_type": "display_data"
    }
   ],
   "execution_count": 11
  },
  {
   "cell_type": "markdown",
   "source": [
    "## Task 6: Compute the minimum train and test loss achieved during training and report them"
   ],
   "metadata": {
    "collapsed": false
   }
  },
  {
   "cell_type": "code",
   "source": [
    "# INSERT CODE HERE\n",
    "# Compute the minimum train and test loss achieved during training and report them\n",
    "min_train_loss = min(train_losses)\n",
    "min_test_loss = min(test_losses)\n",
    "print(f\"Minimum train loss with dropout rate of 0.2: {min_train_loss:.4f}\")\n",
    "print(f\"Minimum test loss with dropout rate of 0.2: {min_test_loss:.4f}\")"
   ],
   "metadata": {
    "collapsed": false,
    "ExecuteTime": {
     "end_time": "2024-12-10T00:21:34.132423Z",
     "start_time": "2024-12-10T00:21:34.120675Z"
    }
   },
   "outputs": [
    {
     "name": "stdout",
     "output_type": "stream",
     "text": [
      "Minimum train loss with dropout rate of 0.2: 0.3161\n",
      "Minimum test loss with dropout rate of 0.2: 0.4301\n"
     ]
    }
   ],
   "execution_count": 12
  },
  {
   "cell_type": "markdown",
   "source": [
    "## Task 7: Train the EEGCNNwithDropout model with a dropout rate of 0.5 for 200 epochs"
   ],
   "metadata": {
    "collapsed": false
   }
  },
  {
   "cell_type": "code",
   "source": [
    "## INSERT CODE BELOW\n",
    "# Instantiate the model with a dropout rate of 0.2\n",
    "model = EEGCNNwithDropout(input_channels, input_timepoints, num_classes, dropout=0.5)\n",
    "## DO NOT MODIFY THE 3 LINES BELOW\n",
    "criterion = nn.CrossEntropyLoss()\n",
    "optimizer = optim.Adam(model.parameters(), lr=0.001)\n",
    "train_losses, test_losses = run_train_loop(model, criterion, optimizer, 200)"
   ],
   "metadata": {
    "collapsed": false,
    "ExecuteTime": {
     "end_time": "2024-12-10T00:22:02.562679Z",
     "start_time": "2024-12-10T00:21:42.716754Z"
    }
   },
   "outputs": [
    {
     "name": "stdout",
     "output_type": "stream",
     "text": [
      "Epoch 1/200, Loss: 0.7065, Test Loss: 0.6698\n",
      "Epoch 2/200, Loss: 0.6296, Test Loss: 0.6365\n",
      "Epoch 3/200, Loss: 0.5706, Test Loss: 0.5706\n",
      "Epoch 4/200, Loss: 0.5268, Test Loss: 0.5835\n",
      "Epoch 5/200, Loss: 0.4807, Test Loss: 0.5638\n",
      "Epoch 6/200, Loss: 0.4873, Test Loss: 0.5433\n",
      "Epoch 7/200, Loss: 0.4621, Test Loss: 0.5790\n",
      "Epoch 8/200, Loss: 0.4647, Test Loss: 0.5629\n",
      "Epoch 9/200, Loss: 0.4450, Test Loss: 0.5649\n",
      "Epoch 10/200, Loss: 0.4288, Test Loss: 0.5309\n",
      "Epoch 11/200, Loss: 0.4221, Test Loss: 0.5413\n",
      "Epoch 12/200, Loss: 0.4333, Test Loss: 0.5563\n",
      "Epoch 13/200, Loss: 0.4264, Test Loss: 0.5578\n",
      "Epoch 14/200, Loss: 0.3973, Test Loss: 0.5108\n",
      "Epoch 15/200, Loss: 0.3914, Test Loss: 0.5011\n",
      "Epoch 16/200, Loss: 0.3883, Test Loss: 0.5171\n",
      "Epoch 17/200, Loss: 0.3768, Test Loss: 0.5252\n",
      "Epoch 18/200, Loss: 0.3677, Test Loss: 0.5587\n",
      "Epoch 19/200, Loss: 0.3833, Test Loss: 0.5191\n",
      "Epoch 20/200, Loss: 0.3943, Test Loss: 0.5362\n",
      "Epoch 21/200, Loss: 0.3823, Test Loss: 0.5599\n",
      "Epoch 22/200, Loss: 0.3921, Test Loss: 0.5466\n",
      "Epoch 23/200, Loss: 0.4003, Test Loss: 0.5249\n",
      "Epoch 24/200, Loss: 0.3734, Test Loss: 0.5269\n",
      "Epoch 25/200, Loss: 0.3713, Test Loss: 0.5698\n",
      "Epoch 26/200, Loss: 0.3668, Test Loss: 0.5467\n",
      "Epoch 27/200, Loss: 0.3750, Test Loss: 0.6192\n",
      "Epoch 28/200, Loss: 0.3752, Test Loss: 0.5848\n",
      "Epoch 29/200, Loss: 0.3708, Test Loss: 0.5711\n",
      "Epoch 30/200, Loss: 0.3693, Test Loss: 0.5424\n",
      "Epoch 31/200, Loss: 0.3726, Test Loss: 0.5341\n",
      "Epoch 32/200, Loss: 0.3637, Test Loss: 0.5533\n",
      "Epoch 33/200, Loss: 0.3689, Test Loss: 0.5760\n",
      "Epoch 34/200, Loss: 0.3596, Test Loss: 0.5562\n",
      "Epoch 35/200, Loss: 0.3501, Test Loss: 0.5450\n",
      "Epoch 36/200, Loss: 0.3562, Test Loss: 0.5571\n",
      "Epoch 37/200, Loss: 0.3527, Test Loss: 0.5718\n",
      "Epoch 38/200, Loss: 0.3564, Test Loss: 0.5492\n",
      "Epoch 39/200, Loss: 0.3553, Test Loss: 0.5466\n",
      "Epoch 40/200, Loss: 0.3712, Test Loss: 0.5335\n",
      "Epoch 41/200, Loss: 0.3575, Test Loss: 0.5573\n",
      "Epoch 42/200, Loss: 0.3625, Test Loss: 0.5828\n",
      "Epoch 43/200, Loss: 0.3661, Test Loss: 0.5628\n",
      "Epoch 44/200, Loss: 0.3552, Test Loss: 0.5902\n",
      "Epoch 45/200, Loss: 0.3728, Test Loss: 0.5870\n",
      "Epoch 46/200, Loss: 0.3814, Test Loss: 0.5622\n",
      "Epoch 47/200, Loss: 0.3790, Test Loss: 0.5439\n",
      "Epoch 48/200, Loss: 0.3747, Test Loss: 0.5227\n",
      "Epoch 49/200, Loss: 0.3542, Test Loss: 0.5265\n",
      "Epoch 50/200, Loss: 0.3503, Test Loss: 0.5449\n",
      "Epoch 51/200, Loss: 0.3439, Test Loss: 0.5333\n",
      "Epoch 52/200, Loss: 0.3567, Test Loss: 0.5407\n",
      "Epoch 53/200, Loss: 0.3661, Test Loss: 0.5323\n",
      "Epoch 54/200, Loss: 0.3562, Test Loss: 0.5347\n",
      "Epoch 55/200, Loss: 0.3564, Test Loss: 0.5346\n",
      "Epoch 56/200, Loss: 0.3491, Test Loss: 0.5380\n",
      "Epoch 57/200, Loss: 0.3489, Test Loss: 0.5183\n",
      "Epoch 58/200, Loss: 0.3557, Test Loss: 0.5438\n",
      "Epoch 59/200, Loss: 0.3626, Test Loss: 0.5468\n",
      "Epoch 60/200, Loss: 0.3497, Test Loss: 0.5611\n",
      "Epoch 61/200, Loss: 0.3507, Test Loss: 0.5978\n",
      "Epoch 62/200, Loss: 0.3598, Test Loss: 0.6011\n",
      "Epoch 63/200, Loss: 0.3726, Test Loss: 0.5906\n",
      "Epoch 64/200, Loss: 0.3569, Test Loss: 0.5857\n",
      "Epoch 65/200, Loss: 0.3533, Test Loss: 0.5265\n",
      "Epoch 66/200, Loss: 0.3356, Test Loss: 0.5278\n",
      "Epoch 67/200, Loss: 0.3457, Test Loss: 0.5303\n",
      "Epoch 68/200, Loss: 0.3412, Test Loss: 0.5277\n",
      "Epoch 69/200, Loss: 0.3416, Test Loss: 0.5330\n",
      "Epoch 70/200, Loss: 0.3393, Test Loss: 0.5820\n",
      "Epoch 71/200, Loss: 0.3334, Test Loss: 0.5233\n",
      "Epoch 72/200, Loss: 0.3558, Test Loss: 0.5372\n",
      "Epoch 73/200, Loss: 0.3387, Test Loss: 0.5583\n",
      "Epoch 74/200, Loss: 0.3404, Test Loss: 0.5207\n",
      "Epoch 75/200, Loss: 0.3444, Test Loss: 0.4998\n",
      "Epoch 76/200, Loss: 0.3551, Test Loss: 0.5644\n",
      "Epoch 77/200, Loss: 0.3451, Test Loss: 0.5485\n",
      "Epoch 78/200, Loss: 0.3389, Test Loss: 0.5140\n",
      "Epoch 79/200, Loss: 0.3411, Test Loss: 0.4790\n",
      "Epoch 80/200, Loss: 0.3458, Test Loss: 0.5232\n",
      "Epoch 81/200, Loss: 0.3330, Test Loss: 0.5202\n",
      "Epoch 82/200, Loss: 0.3323, Test Loss: 0.5334\n",
      "Epoch 83/200, Loss: 0.3449, Test Loss: 0.5459\n",
      "Epoch 84/200, Loss: 0.3441, Test Loss: 0.4679\n",
      "Epoch 85/200, Loss: 0.3620, Test Loss: 0.4907\n",
      "Epoch 86/200, Loss: 0.3446, Test Loss: 0.5254\n",
      "Epoch 87/200, Loss: 0.3349, Test Loss: 0.5623\n",
      "Epoch 88/200, Loss: 0.3531, Test Loss: 0.5453\n",
      "Epoch 89/200, Loss: 0.3306, Test Loss: 0.5124\n",
      "Epoch 90/200, Loss: 0.3361, Test Loss: 0.5284\n",
      "Epoch 91/200, Loss: 0.3328, Test Loss: 0.5278\n",
      "Epoch 92/200, Loss: 0.3448, Test Loss: 0.5226\n",
      "Epoch 93/200, Loss: 0.3662, Test Loss: 0.5069\n",
      "Epoch 94/200, Loss: 0.3600, Test Loss: 0.5351\n",
      "Epoch 95/200, Loss: 0.3646, Test Loss: 0.5194\n",
      "Epoch 96/200, Loss: 0.3497, Test Loss: 0.5156\n",
      "Epoch 97/200, Loss: 0.3497, Test Loss: 0.5301\n",
      "Epoch 98/200, Loss: 0.3494, Test Loss: 0.5080\n",
      "Epoch 99/200, Loss: 0.3391, Test Loss: 0.5033\n",
      "Epoch 100/200, Loss: 0.3539, Test Loss: 0.5281\n",
      "Epoch 101/200, Loss: 0.3401, Test Loss: 0.5035\n",
      "Epoch 102/200, Loss: 0.3496, Test Loss: 0.5301\n",
      "Epoch 103/200, Loss: 0.3559, Test Loss: 0.5293\n",
      "Epoch 104/200, Loss: 0.3433, Test Loss: 0.4805\n",
      "Epoch 105/200, Loss: 0.3457, Test Loss: 0.5202\n",
      "Epoch 106/200, Loss: 0.3540, Test Loss: 0.5048\n",
      "Epoch 107/200, Loss: 0.3425, Test Loss: 0.5089\n",
      "Epoch 108/200, Loss: 0.3494, Test Loss: 0.5434\n",
      "Epoch 109/200, Loss: 0.3568, Test Loss: 0.4778\n",
      "Epoch 110/200, Loss: 0.3471, Test Loss: 0.5137\n",
      "Epoch 111/200, Loss: 0.3379, Test Loss: 0.5109\n",
      "Epoch 112/200, Loss: 0.3364, Test Loss: 0.4912\n",
      "Epoch 113/200, Loss: 0.3427, Test Loss: 0.4875\n",
      "Epoch 114/200, Loss: 0.3280, Test Loss: 0.5137\n",
      "Epoch 115/200, Loss: 0.3372, Test Loss: 0.4630\n",
      "Epoch 116/200, Loss: 0.3309, Test Loss: 0.4684\n",
      "Epoch 117/200, Loss: 0.3419, Test Loss: 0.5175\n",
      "Epoch 118/200, Loss: 0.3426, Test Loss: 0.5120\n",
      "Epoch 119/200, Loss: 0.3283, Test Loss: 0.5001\n",
      "Epoch 120/200, Loss: 0.3409, Test Loss: 0.5001\n",
      "Epoch 121/200, Loss: 0.3289, Test Loss: 0.4623\n",
      "Epoch 122/200, Loss: 0.3291, Test Loss: 0.4684\n",
      "Epoch 123/200, Loss: 0.3317, Test Loss: 0.4930\n",
      "Epoch 124/200, Loss: 0.3268, Test Loss: 0.5085\n",
      "Epoch 125/200, Loss: 0.3308, Test Loss: 0.5263\n",
      "Epoch 126/200, Loss: 0.3335, Test Loss: 0.5113\n",
      "Epoch 127/200, Loss: 0.3336, Test Loss: 0.4829\n",
      "Epoch 128/200, Loss: 0.3430, Test Loss: 0.5211\n",
      "Epoch 129/200, Loss: 0.3487, Test Loss: 0.4951\n",
      "Epoch 130/200, Loss: 0.3441, Test Loss: 0.4714\n",
      "Epoch 131/200, Loss: 0.3397, Test Loss: 0.4307\n",
      "Epoch 132/200, Loss: 0.3322, Test Loss: 0.5230\n",
      "Epoch 133/200, Loss: 0.3446, Test Loss: 0.5118\n",
      "Epoch 134/200, Loss: 0.3400, Test Loss: 0.4580\n",
      "Epoch 135/200, Loss: 0.3412, Test Loss: 0.4583\n",
      "Epoch 136/200, Loss: 0.3430, Test Loss: 0.4494\n",
      "Epoch 137/200, Loss: 0.3366, Test Loss: 0.4691\n",
      "Epoch 138/200, Loss: 0.3592, Test Loss: 0.4979\n",
      "Epoch 139/200, Loss: 0.3466, Test Loss: 0.5575\n",
      "Epoch 140/200, Loss: 0.3553, Test Loss: 0.5664\n",
      "Epoch 141/200, Loss: 0.3574, Test Loss: 0.4884\n",
      "Epoch 142/200, Loss: 0.3689, Test Loss: 0.5278\n",
      "Epoch 143/200, Loss: 0.3785, Test Loss: 0.5035\n",
      "Epoch 144/200, Loss: 0.3778, Test Loss: 0.5305\n",
      "Epoch 145/200, Loss: 0.3555, Test Loss: 0.5264\n",
      "Epoch 146/200, Loss: 0.3511, Test Loss: 0.5245\n",
      "Epoch 147/200, Loss: 0.3412, Test Loss: 0.5026\n",
      "Epoch 148/200, Loss: 0.3336, Test Loss: 0.4861\n",
      "Epoch 149/200, Loss: 0.3353, Test Loss: 0.5324\n",
      "Epoch 150/200, Loss: 0.3324, Test Loss: 0.5360\n",
      "Epoch 151/200, Loss: 0.3374, Test Loss: 0.5056\n",
      "Epoch 152/200, Loss: 0.3381, Test Loss: 0.5039\n",
      "Epoch 153/200, Loss: 0.3404, Test Loss: 0.5653\n",
      "Epoch 154/200, Loss: 0.3326, Test Loss: 0.5126\n",
      "Epoch 155/200, Loss: 0.3361, Test Loss: 0.5103\n",
      "Epoch 156/200, Loss: 0.3309, Test Loss: 0.5151\n",
      "Epoch 157/200, Loss: 0.3343, Test Loss: 0.5517\n",
      "Epoch 158/200, Loss: 0.3306, Test Loss: 0.5420\n",
      "Epoch 159/200, Loss: 0.3273, Test Loss: 0.5549\n",
      "Epoch 160/200, Loss: 0.3395, Test Loss: 0.5404\n",
      "Epoch 161/200, Loss: 0.3327, Test Loss: 0.4935\n",
      "Epoch 162/200, Loss: 0.3388, Test Loss: 0.4829\n",
      "Epoch 163/200, Loss: 0.3364, Test Loss: 0.4638\n",
      "Epoch 164/200, Loss: 0.3369, Test Loss: 0.4876\n",
      "Epoch 165/200, Loss: 0.3301, Test Loss: 0.5013\n",
      "Epoch 166/200, Loss: 0.3322, Test Loss: 0.4541\n",
      "Epoch 167/200, Loss: 0.3294, Test Loss: 0.4498\n",
      "Epoch 168/200, Loss: 0.3312, Test Loss: 0.4923\n",
      "Epoch 169/200, Loss: 0.3377, Test Loss: 0.5016\n",
      "Epoch 170/200, Loss: 0.3358, Test Loss: 0.4806\n",
      "Epoch 171/200, Loss: 0.3366, Test Loss: 0.4808\n",
      "Epoch 172/200, Loss: 0.3522, Test Loss: 0.5073\n",
      "Epoch 173/200, Loss: 0.3891, Test Loss: 0.4981\n",
      "Epoch 174/200, Loss: 0.3549, Test Loss: 0.5245\n",
      "Epoch 175/200, Loss: 0.3471, Test Loss: 0.4881\n",
      "Epoch 176/200, Loss: 0.3442, Test Loss: 0.5720\n",
      "Epoch 177/200, Loss: 0.3525, Test Loss: 0.5801\n",
      "Epoch 178/200, Loss: 0.3563, Test Loss: 0.5113\n",
      "Epoch 179/200, Loss: 0.3741, Test Loss: 0.5120\n",
      "Epoch 180/200, Loss: 0.3415, Test Loss: 0.5618\n",
      "Epoch 181/200, Loss: 0.3546, Test Loss: 0.5412\n",
      "Epoch 182/200, Loss: 0.3410, Test Loss: 0.5331\n",
      "Epoch 183/200, Loss: 0.3322, Test Loss: 0.5455\n",
      "Epoch 184/200, Loss: 0.3335, Test Loss: 0.5296\n",
      "Epoch 185/200, Loss: 0.3326, Test Loss: 0.5135\n",
      "Epoch 186/200, Loss: 0.3322, Test Loss: 0.5159\n",
      "Epoch 187/200, Loss: 0.3347, Test Loss: 0.4897\n",
      "Epoch 188/200, Loss: 0.3295, Test Loss: 0.4953\n",
      "Epoch 189/200, Loss: 0.3253, Test Loss: 0.5011\n",
      "Epoch 190/200, Loss: 0.3318, Test Loss: 0.5159\n",
      "Epoch 191/200, Loss: 0.3300, Test Loss: 0.5085\n",
      "Epoch 192/200, Loss: 0.3275, Test Loss: 0.5111\n",
      "Epoch 193/200, Loss: 0.3312, Test Loss: 0.5162\n",
      "Epoch 194/200, Loss: 0.3324, Test Loss: 0.5107\n",
      "Epoch 195/200, Loss: 0.3276, Test Loss: 0.5095\n",
      "Epoch 196/200, Loss: 0.3295, Test Loss: 0.4926\n",
      "Epoch 197/200, Loss: 0.3266, Test Loss: 0.4900\n",
      "Epoch 198/200, Loss: 0.3264, Test Loss: 0.4931\n",
      "Epoch 199/200, Loss: 0.3340, Test Loss: 0.4959\n",
      "Epoch 200/200, Loss: 0.3238, Test Loss: 0.4954\n"
     ]
    }
   ],
   "execution_count": 13
  },
  {
   "cell_type": "markdown",
   "source": [
    "## Task 8: Plot the training and test loss (overlaid) on the vertical axis and the epoch number on the horizontal axis"
   ],
   "metadata": {
    "collapsed": false
   }
  },
  {
   "cell_type": "code",
   "source": [
    "# INSERT CODE HERE\n",
    "# Plot the training and test loss (overlaid) on the vertical axis and the epoch number on the horizontal axis\n",
    "plt.plot(range(1, epochs+1), train_losses, label='Train Loss with dropout rate of 0.5')\n",
    "plt.plot(range(1, epochs+1), test_losses, label='Test Loss with dropout rate of 0.5')\n",
    "plt.xlabel('Epoch')\n",
    "plt.ylabel('Loss')\n",
    "plt.legend()\n",
    "plt.show()"
   ],
   "metadata": {
    "collapsed": false,
    "ExecuteTime": {
     "end_time": "2024-12-10T00:22:05.562109Z",
     "start_time": "2024-12-10T00:22:05.295511Z"
    }
   },
   "outputs": [
    {
     "data": {
      "text/plain": [
       "<Figure size 640x480 with 1 Axes>"
      ],
      "image/png": "[encoded data removed]"
     },
     "metadata": {},
     "output_type": "display_data"
    }
   ],
   "execution_count": 14
  },
  {
   "cell_type": "markdown",
   "source": [
    "## Task 9: Compute the minimum train and test loss achieved during training and report them"
   ],
   "metadata": {
    "collapsed": false
   }
  },
  {
   "cell_type": "code",
   "source": [
    "# INSERT CODE HERE\n",
    "# Compute the minimum train and test loss achieved during training and report them\n",
    "min_train_loss = min(train_losses)\n",
    "min_test_loss = min(test_losses)\n",
    "print(f\"Minimum train loss with dropout rate of 0.5: {min_train_loss:.4f}\")\n",
    "print(f\"Minimum test loss with dropout rate of 0.5: {min_test_loss:.4f}\")"
   ],
   "metadata": {
    "collapsed": false,
    "ExecuteTime": {
     "end_time": "2024-12-10T00:22:10.537755Z",
     "start_time": "2024-12-10T00:22:10.528434Z"
    }
   },
   "outputs": [
    {
     "name": "stdout",
     "output_type": "stream",
     "text": [
      "Minimum train loss with dropout rate of 0.5: 0.3238\n",
      "Minimum test loss with dropout rate of 0.5: 0.4307\n"
     ]
    }
   ],
   "execution_count": 15
  },
  {
   "cell_type": "markdown",
   "source": [
    "## Task 10: Repeat Tasks 7-9 for a dropout rate of 0.8\n",
    "Report your observations. What do you notice about the train and test loss as the dropout rate increases?"
   ],
   "metadata": {
    "collapsed": false
   }
  },
  {
   "cell_type": "code",
   "source": [
    "## INSERT CODE BELOW\n",
    "# Instantiate the model with a dropout rate of 0.8\n",
    "model = EEGCNNwithDropout(input_channels, input_timepoints, num_classes, dropout=0.8)\n",
    "## DO NOT MODIFY THE 3 LINES BELOW\n",
    "criterion = nn.CrossEntropyLoss()\n",
    "optimizer = optim.Adam(model.parameters(), lr=0.001)\n",
    "train_losses, test_losses = run_train_loop(model, criterion, optimizer, 200)"
   ],
   "metadata": {
    "collapsed": false,
    "ExecuteTime": {
     "end_time": "2024-12-10T00:23:05.194825Z",
     "start_time": "2024-12-10T00:22:45.794580Z"
    }
   },
   "outputs": [
    {
     "name": "stdout",
     "output_type": "stream",
     "text": [
      "Epoch 1/200, Loss: 0.7349, Test Loss: 0.7421\n",
      "Epoch 2/200, Loss: 0.7530, Test Loss: 0.7462\n",
      "Epoch 3/200, Loss: 0.7767, Test Loss: 0.7281\n",
      "Epoch 4/200, Loss: 0.7447, Test Loss: 0.7128\n",
      "Epoch 5/200, Loss: 0.7523, Test Loss: 0.7166\n",
      "Epoch 6/200, Loss: 0.7546, Test Loss: 0.7216\n",
      "Epoch 7/200, Loss: 0.7349, Test Loss: 0.7162\n",
      "Epoch 8/200, Loss: 0.7388, Test Loss: 0.7061\n",
      "Epoch 9/200, Loss: 0.7364, Test Loss: 0.6921\n",
      "Epoch 10/200, Loss: 0.7199, Test Loss: 0.6991\n",
      "Epoch 11/200, Loss: 0.6856, Test Loss: 0.7079\n",
      "Epoch 12/200, Loss: 0.6835, Test Loss: 0.7068\n",
      "Epoch 13/200, Loss: 0.6765, Test Loss: 0.6998\n",
      "Epoch 14/200, Loss: 0.6524, Test Loss: 0.6864\n",
      "Epoch 15/200, Loss: 0.6586, Test Loss: 0.6672\n",
      "Epoch 16/200, Loss: 0.6416, Test Loss: 0.6547\n",
      "Epoch 17/200, Loss: 0.6482, Test Loss: 0.6494\n",
      "Epoch 18/200, Loss: 0.6327, Test Loss: 0.6431\n",
      "Epoch 19/200, Loss: 0.6130, Test Loss: 0.6413\n",
      "Epoch 20/200, Loss: 0.6277, Test Loss: 0.6221\n",
      "Epoch 21/200, Loss: 0.6103, Test Loss: 0.6136\n",
      "Epoch 22/200, Loss: 0.5844, Test Loss: 0.6375\n",
      "Epoch 23/200, Loss: 0.5853, Test Loss: 0.6289\n",
      "Epoch 24/200, Loss: 0.5782, Test Loss: 0.6382\n",
      "Epoch 25/200, Loss: 0.5531, Test Loss: 0.5990\n",
      "Epoch 26/200, Loss: 0.5381, Test Loss: 0.5926\n",
      "Epoch 27/200, Loss: 0.5436, Test Loss: 0.6043\n",
      "Epoch 28/200, Loss: 0.5142, Test Loss: 0.5963\n",
      "Epoch 29/200, Loss: 0.4929, Test Loss: 0.5901\n",
      "Epoch 30/200, Loss: 0.5128, Test Loss: 0.5676\n",
      "Epoch 31/200, Loss: 0.5081, Test Loss: 0.5869\n",
      "Epoch 32/200, Loss: 0.5118, Test Loss: 0.5962\n",
      "Epoch 33/200, Loss: 0.4631, Test Loss: 0.5777\n",
      "Epoch 34/200, Loss: 0.4436, Test Loss: 0.5542\n",
      "Epoch 35/200, Loss: 0.4431, Test Loss: 0.5151\n",
      "Epoch 36/200, Loss: 0.4492, Test Loss: 0.5144\n",
      "Epoch 37/200, Loss: 0.4446, Test Loss: 0.5307\n",
      "Epoch 38/200, Loss: 0.4415, Test Loss: 0.5674\n",
      "Epoch 39/200, Loss: 0.4332, Test Loss: 0.5112\n",
      "Epoch 40/200, Loss: 0.4146, Test Loss: 0.5441\n",
      "Epoch 41/200, Loss: 0.4203, Test Loss: 0.5526\n",
      "Epoch 42/200, Loss: 0.4548, Test Loss: 0.5093\n",
      "Epoch 43/200, Loss: 0.4525, Test Loss: 0.5267\n",
      "Epoch 44/200, Loss: 0.4491, Test Loss: 0.5384\n",
      "Epoch 45/200, Loss: 0.4084, Test Loss: 0.5169\n",
      "Epoch 46/200, Loss: 0.4659, Test Loss: 0.5019\n",
      "Epoch 47/200, Loss: 0.4497, Test Loss: 0.4973\n",
      "Epoch 48/200, Loss: 0.4325, Test Loss: 0.4851\n",
      "Epoch 49/200, Loss: 0.3929, Test Loss: 0.4856\n",
      "Epoch 50/200, Loss: 0.3977, Test Loss: 0.4807\n",
      "Epoch 51/200, Loss: 0.3786, Test Loss: 0.4611\n",
      "Epoch 52/200, Loss: 0.3837, Test Loss: 0.4851\n",
      "Epoch 53/200, Loss: 0.3695, Test Loss: 0.4795\n",
      "Epoch 54/200, Loss: 0.3895, Test Loss: 0.4665\n",
      "Epoch 55/200, Loss: 0.3956, Test Loss: 0.4579\n",
      "Epoch 56/200, Loss: 0.3679, Test Loss: 0.4841\n",
      "Epoch 57/200, Loss: 0.3814, Test Loss: 0.4820\n",
      "Epoch 58/200, Loss: 0.3773, Test Loss: 0.4850\n",
      "Epoch 59/200, Loss: 0.3722, Test Loss: 0.4984\n",
      "Epoch 60/200, Loss: 0.3817, Test Loss: 0.4985\n",
      "Epoch 61/200, Loss: 0.3833, Test Loss: 0.5112\n",
      "Epoch 62/200, Loss: 0.3842, Test Loss: 0.5263\n",
      "Epoch 63/200, Loss: 0.3954, Test Loss: 0.5013\n",
      "Epoch 64/200, Loss: 0.3823, Test Loss: 0.5015\n",
      "Epoch 65/200, Loss: 0.3749, Test Loss: 0.4784\n",
      "Epoch 66/200, Loss: 0.3783, Test Loss: 0.5069\n",
      "Epoch 67/200, Loss: 0.4071, Test Loss: 0.5020\n",
      "Epoch 68/200, Loss: 0.3677, Test Loss: 0.4592\n",
      "Epoch 69/200, Loss: 0.3957, Test Loss: 0.4786\n",
      "Epoch 70/200, Loss: 0.3754, Test Loss: 0.4672\n",
      "Epoch 71/200, Loss: 0.3827, Test Loss: 0.4557\n",
      "Epoch 72/200, Loss: 0.3623, Test Loss: 0.4605\n",
      "Epoch 73/200, Loss: 0.3764, Test Loss: 0.4469\n",
      "Epoch 74/200, Loss: 0.3731, Test Loss: 0.5093\n",
      "Epoch 75/200, Loss: 0.3774, Test Loss: 0.5145\n",
      "Epoch 76/200, Loss: 0.3664, Test Loss: 0.4988\n",
      "Epoch 77/200, Loss: 0.3601, Test Loss: 0.4568\n",
      "Epoch 78/200, Loss: 0.3771, Test Loss: 0.4432\n",
      "Epoch 79/200, Loss: 0.3600, Test Loss: 0.4492\n",
      "Epoch 80/200, Loss: 0.3537, Test Loss: 0.4512\n",
      "Epoch 81/200, Loss: 0.3534, Test Loss: 0.4462\n",
      "Epoch 82/200, Loss: 0.3544, Test Loss: 0.4641\n",
      "Epoch 83/200, Loss: 0.3681, Test Loss: 0.4655\n",
      "Epoch 84/200, Loss: 0.3560, Test Loss: 0.4546\n",
      "Epoch 85/200, Loss: 0.3487, Test Loss: 0.4462\n",
      "Epoch 86/200, Loss: 0.3549, Test Loss: 0.4526\n",
      "Epoch 87/200, Loss: 0.3633, Test Loss: 0.4932\n",
      "Epoch 88/200, Loss: 0.3672, Test Loss: 0.5195\n",
      "Epoch 89/200, Loss: 0.3525, Test Loss: 0.4783\n",
      "Epoch 90/200, Loss: 0.3622, Test Loss: 0.5009\n",
      "Epoch 91/200, Loss: 0.3718, Test Loss: 0.4569\n",
      "Epoch 92/200, Loss: 0.3533, Test Loss: 0.4783\n",
      "Epoch 93/200, Loss: 0.3588, Test Loss: 0.5204\n",
      "Epoch 94/200, Loss: 0.3460, Test Loss: 0.4575\n",
      "Epoch 95/200, Loss: 0.3413, Test Loss: 0.4566\n",
      "Epoch 96/200, Loss: 0.3374, Test Loss: 0.4656\n",
      "Epoch 97/200, Loss: 0.3445, Test Loss: 0.4739\n",
      "Epoch 98/200, Loss: 0.3442, Test Loss: 0.4654\n",
      "Epoch 99/200, Loss: 0.3428, Test Loss: 0.4574\n",
      "Epoch 100/200, Loss: 0.3439, Test Loss: 0.4630\n",
      "Epoch 101/200, Loss: 0.3430, Test Loss: 0.4490\n",
      "Epoch 102/200, Loss: 0.3534, Test Loss: 0.4465\n",
      "Epoch 103/200, Loss: 0.3482, Test Loss: 0.4512\n",
      "Epoch 104/200, Loss: 0.3382, Test Loss: 0.4659\n",
      "Epoch 105/200, Loss: 0.3473, Test Loss: 0.4546\n",
      "Epoch 106/200, Loss: 0.3394, Test Loss: 0.4540\n",
      "Epoch 107/200, Loss: 0.3285, Test Loss: 0.4520\n",
      "Epoch 108/200, Loss: 0.3443, Test Loss: 0.4594\n",
      "Epoch 109/200, Loss: 0.3359, Test Loss: 0.4596\n",
      "Epoch 110/200, Loss: 0.3292, Test Loss: 0.4558\n",
      "Epoch 111/200, Loss: 0.3458, Test Loss: 0.4608\n",
      "Epoch 112/200, Loss: 0.3486, Test Loss: 0.4551\n",
      "Epoch 113/200, Loss: 0.3355, Test Loss: 0.4502\n",
      "Epoch 114/200, Loss: 0.3477, Test Loss: 0.4664\n",
      "Epoch 115/200, Loss: 0.3442, Test Loss: 0.4785\n",
      "Epoch 116/200, Loss: 0.3434, Test Loss: 0.4671\n",
      "Epoch 117/200, Loss: 0.3430, Test Loss: 0.4672\n",
      "Epoch 118/200, Loss: 0.3496, Test Loss: 0.4807\n",
      "Epoch 119/200, Loss: 0.3514, Test Loss: 0.4642\n",
      "Epoch 120/200, Loss: 0.3465, Test Loss: 0.4715\n",
      "Epoch 121/200, Loss: 0.3400, Test Loss: 0.4767\n",
      "Epoch 122/200, Loss: 0.3500, Test Loss: 0.4379\n",
      "Epoch 123/200, Loss: 0.3422, Test Loss: 0.4522\n",
      "Epoch 124/200, Loss: 0.3388, Test Loss: 0.4603\n",
      "Epoch 125/200, Loss: 0.3453, Test Loss: 0.4582\n",
      "Epoch 126/200, Loss: 0.3421, Test Loss: 0.4625\n",
      "Epoch 127/200, Loss: 0.3330, Test Loss: 0.4677\n",
      "Epoch 128/200, Loss: 0.3402, Test Loss: 0.4770\n",
      "Epoch 129/200, Loss: 0.3315, Test Loss: 0.4594\n",
      "Epoch 130/200, Loss: 0.3419, Test Loss: 0.4742\n",
      "Epoch 131/200, Loss: 0.3374, Test Loss: 0.4614\n",
      "Epoch 132/200, Loss: 0.3331, Test Loss: 0.4538\n",
      "Epoch 133/200, Loss: 0.3313, Test Loss: 0.4567\n",
      "Epoch 134/200, Loss: 0.3285, Test Loss: 0.4457\n",
      "Epoch 135/200, Loss: 0.3320, Test Loss: 0.4426\n",
      "Epoch 136/200, Loss: 0.3344, Test Loss: 0.4420\n",
      "Epoch 137/200, Loss: 0.3388, Test Loss: 0.4445\n",
      "Epoch 138/200, Loss: 0.3316, Test Loss: 0.4584\n",
      "Epoch 139/200, Loss: 0.3293, Test Loss: 0.4751\n",
      "Epoch 140/200, Loss: 0.3268, Test Loss: 0.4735\n",
      "Epoch 141/200, Loss: 0.3401, Test Loss: 0.4624\n",
      "Epoch 142/200, Loss: 0.3445, Test Loss: 0.4654\n",
      "Epoch 143/200, Loss: 0.3430, Test Loss: 0.4953\n",
      "Epoch 144/200, Loss: 0.3607, Test Loss: 0.4567\n",
      "Epoch 145/200, Loss: 0.3365, Test Loss: 0.4523\n",
      "Epoch 146/200, Loss: 0.3397, Test Loss: 0.4724\n",
      "Epoch 147/200, Loss: 0.3354, Test Loss: 0.4524\n",
      "Epoch 148/200, Loss: 0.3268, Test Loss: 0.4515\n",
      "Epoch 149/200, Loss: 0.3336, Test Loss: 0.4505\n",
      "Epoch 150/200, Loss: 0.3300, Test Loss: 0.4749\n",
      "Epoch 151/200, Loss: 0.3254, Test Loss: 0.4694\n",
      "Epoch 152/200, Loss: 0.3274, Test Loss: 0.4852\n",
      "Epoch 153/200, Loss: 0.3434, Test Loss: 0.4863\n",
      "Epoch 154/200, Loss: 0.3486, Test Loss: 0.4725\n",
      "Epoch 155/200, Loss: 0.3438, Test Loss: 0.5100\n",
      "Epoch 156/200, Loss: 0.3877, Test Loss: 0.5254\n",
      "Epoch 157/200, Loss: 0.3954, Test Loss: 0.5645\n",
      "Epoch 158/200, Loss: 0.3981, Test Loss: 0.5197\n",
      "Epoch 159/200, Loss: 0.4365, Test Loss: 0.5366\n",
      "Epoch 160/200, Loss: 0.4466, Test Loss: 0.5070\n",
      "Epoch 161/200, Loss: 0.3772, Test Loss: 0.5111\n",
      "Epoch 162/200, Loss: 0.3812, Test Loss: 0.5537\n",
      "Epoch 163/200, Loss: 0.4121, Test Loss: 0.5713\n",
      "Epoch 164/200, Loss: 0.3784, Test Loss: 0.5295\n",
      "Epoch 165/200, Loss: 0.3775, Test Loss: 0.5354\n",
      "Epoch 166/200, Loss: 0.3630, Test Loss: 0.5464\n",
      "Epoch 167/200, Loss: 0.3509, Test Loss: 0.5025\n",
      "Epoch 168/200, Loss: 0.3641, Test Loss: 0.4688\n",
      "Epoch 169/200, Loss: 0.3446, Test Loss: 0.4983\n",
      "Epoch 170/200, Loss: 0.3500, Test Loss: 0.4953\n",
      "Epoch 171/200, Loss: 0.3495, Test Loss: 0.4840\n",
      "Epoch 172/200, Loss: 0.3613, Test Loss: 0.4917\n",
      "Epoch 173/200, Loss: 0.3521, Test Loss: 0.4200\n",
      "Epoch 174/200, Loss: 0.3783, Test Loss: 0.4365\n",
      "Epoch 175/200, Loss: 0.3804, Test Loss: 0.4401\n",
      "Epoch 176/200, Loss: 0.3502, Test Loss: 0.4530\n",
      "Epoch 177/200, Loss: 0.3458, Test Loss: 0.4991\n",
      "Epoch 178/200, Loss: 0.3663, Test Loss: 0.4742\n",
      "Epoch 179/200, Loss: 0.3554, Test Loss: 0.4335\n",
      "Epoch 180/200, Loss: 0.3407, Test Loss: 0.4314\n",
      "Epoch 181/200, Loss: 0.3521, Test Loss: 0.4484\n",
      "Epoch 182/200, Loss: 0.3370, Test Loss: 0.4511\n",
      "Epoch 183/200, Loss: 0.3491, Test Loss: 0.4703\n",
      "Epoch 184/200, Loss: 0.3411, Test Loss: 0.5227\n",
      "Epoch 185/200, Loss: 0.3656, Test Loss: 0.5134\n",
      "Epoch 186/200, Loss: 0.3612, Test Loss: 0.4709\n",
      "Epoch 187/200, Loss: 0.3760, Test Loss: 0.5136\n",
      "Epoch 188/200, Loss: 0.3879, Test Loss: 0.5053\n",
      "Epoch 189/200, Loss: 0.3636, Test Loss: 0.4986\n",
      "Epoch 190/200, Loss: 0.3513, Test Loss: 0.4837\n",
      "Epoch 191/200, Loss: 0.3363, Test Loss: 0.4554\n",
      "Epoch 192/200, Loss: 0.3585, Test Loss: 0.4523\n",
      "Epoch 193/200, Loss: 0.3486, Test Loss: 0.4534\n",
      "Epoch 194/200, Loss: 0.3443, Test Loss: 0.4459\n",
      "Epoch 195/200, Loss: 0.3520, Test Loss: 0.4468\n",
      "Epoch 196/200, Loss: 0.3318, Test Loss: 0.4726\n",
      "Epoch 197/200, Loss: 0.3269, Test Loss: 0.4676\n",
      "Epoch 198/200, Loss: 0.3457, Test Loss: 0.4501\n",
      "Epoch 199/200, Loss: 0.3339, Test Loss: 0.4536\n",
      "Epoch 200/200, Loss: 0.3399, Test Loss: 0.4333\n"
     ]
    }
   ],
   "execution_count": 16
  },
  {
   "metadata": {
    "ExecuteTime": {
     "end_time": "2024-12-10T00:23:07.597575Z",
     "start_time": "2024-12-10T00:23:07.410432Z"
    }
   },
   "cell_type": "code",
   "source": [
    "# Plot the training and test loss (overlaid) on the vertical axis and the epoch number on the horizontal axis\n",
    "plt.plot(range(1, epochs+1), train_losses, label='Train Loss with dropout rate of 0.8')\n",
    "plt.plot(range(1, epochs+1), test_losses, label='Test Loss with dropout rate of 0.8')\n",
    "plt.xlabel('Epoch')\n",
    "plt.ylabel('Loss')\n",
    "plt.legend()\n",
    "plt.show()"
   ],
   "outputs": [
    {
     "data": {
      "text/plain": [
       "<Figure size 640x480 with 1 Axes>"
      ],
      "image/png": "[encoded data removed]"
     },
     "metadata": {},
     "output_type": "display_data"
    }
   ],
   "execution_count": 17
  },
  {
   "metadata": {
    "ExecuteTime": {
     "end_time": "2024-12-10T00:23:09.753265Z",
     "start_time": "2024-12-10T00:23:09.737120Z"
    }
   },
   "cell_type": "code",
   "source": [
    "# Compute the minimum train and test loss achieved during training and report them\n",
    "min_train_loss = min(train_losses)\n",
    "min_test_loss = min(test_losses)\n",
    "print(f\"Minimum train loss with dropout rate of 0.8: {min_train_loss:.4f}\")\n",
    "print(f\"Minimum test loss with dropout rate of 0.8: {min_test_loss:.4f}\")"
   ],
   "outputs": [
    {
     "name": "stdout",
     "output_type": "stream",
     "text": [
      "Minimum train loss with dropout rate of 0.8: 0.3254\n",
      "Minimum test loss with dropout rate of 0.8: 0.4200\n"
     ]
    }
   ],
   "execution_count": 18
  },
  {
   "metadata": {},
   "cell_type": "markdown",
   "source": [
    "# Observations\n",
    "- As the dropout rate increases, the minimum train and test loss decreases until a dropout rate beyond which both losses will increase.\n",
    "\n",
    "- A dropout rate of 0.2 seems to be optimal for this dataset, as it achieves the lowest train and test loss.\n",
    "- A dropout rate of 0.8 is too high, as it results in the both losses increasing."
   ]
  },
  {
   "metadata": {},
   "cell_type": "code",
   "outputs": [],
   "execution_count": null,
   "source": ""
  }
 ],
 "metadata": {
  "kernelspec": {
   "display_name": "Python 3",
   "language": "python",
   "name": "python3"
  },
  "language_info": {
   "codemirror_mode": {
    "name": "ipython",
    "version": 2
   },
   "file_extension": ".py",
   "mimetype": "text/x-python",
   "name": "python",
   "nbconvert_exporter": "python",
   "pygments_lexer": "ipython2",
   "version": "2.7.6"
  }
 },
 "nbformat": 4,
 "nbformat_minor": 0
}
