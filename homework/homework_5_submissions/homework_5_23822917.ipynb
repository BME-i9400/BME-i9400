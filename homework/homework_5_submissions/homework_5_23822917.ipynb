{
 "cells": [
  {
   "cell_type": "markdown",
   "source": [
    "## BME i9400\n",
    "## Fall 2024\n",
    "### Homework 5: Dropout regularization in MLPs and Convolutional Neural Networks\n",
    "\n",
    "**Due date: Wednesday, December 11th 2024, 11:59 PM EST**\n",
    "\n",
    "**Total points: 100**"
   ],
   "metadata": {
    "collapsed": false
   }
  },
  {
   "cell_type": "markdown",
   "source": [
    "## Instructions\n",
    "\n",
    "In this homework you will familiarize yourself with a type of regularization that is commonly used in deep learning models: *dropout*.\n",
    "\n",
    "Dropout is a regularization technique that aims to prevent overfitting by randomly “dropping out” (setting to zero) a subset of neurons and their connections during training. During each training iteration, a randomly selected subset of the neurons is temporarily removed from the network. By removing neurons, dropout forces the network to not rely too heavily on any one neuron, encouraging redundancy and robust feature learning.Note that during model evaluation, dropout is turned off, and all neurons are active, but their outputs are scaled by the dropout rate to maintain consistency with training.\n",
    "\n",
    "Dropout mitigates overfitting by introducing noise into the training process, effectively training many smaller “sub-networks” and averaging their predictions. By training with multiple random sub-networks, the model becomes more robust and less sensitive to specific neurons or weights.\n",
    "\n",
    "In PyTorch, dropout is implemented with the `nn.Dropout` module. The `nn.Dropout` module takes a single argument, `p`, which is the probability of dropping out a neuron. The `p` argument is the probability that a neuron will be zeroed out during training. The `p` argument is typically set to a value between 0.2 and 0.5.\n",
    "\n",
    "To instantiate a dropout layer with a dropout rate of 0.2, you can use the following code:\n",
    "```dropout_layer = nn.Dropout(p=0.2)```\n",
    "\n",
    "To apply dropout to a tensor `x`, you can use the following code:\n",
    "```x = dropout_layer(x)```\n"
   ],
   "metadata": {
    "collapsed": false
   }
  },
  {
   "cell_type": "code",
   "source": [
    "import torch\n",
    "import torch.nn as nn\n",
    "import torch.optim as optim\n",
    "from sklearn.model_selection import train_test_split\n",
    "import numpy as np\n",
    "from torch.utils.data import TensorDataset, DataLoader\n",
    "import matplotlib.pyplot as plt"
   ],
   "metadata": {
    "collapsed": false,
    "ExecuteTime": {
     "end_time": "2024-12-02T22:35:53.447529Z",
     "start_time": "2024-12-02T22:35:53.423821Z"
    }
   },
   "outputs": [],
   "execution_count": 142
  },
  {
   "cell_type": "markdown",
   "source": [
    "## Load the dataset, split into train and test sets, cast to PyTorch tensors, and create data loaders\n",
    "(DONE FOR YOU)"
   ],
   "metadata": {
    "collapsed": false
   }
  },
  {
   "cell_type": "code",
   "source": [
    "tmp = np.load('eeg_alcohol_data.npy', allow_pickle=True)\n",
    "X = tmp.item().get('X')\n",
    "y = tmp.item().get('y')\n",
    "if X.dtype != np.float32:\n",
    "    X = np.array(X, dtype=np.float32)\n",
    "if y.dtype not in [np.int32, np.int64]:\n",
    "    y = np.array(y, dtype=np.int64)\n",
    "\n",
    "X_train, X_test, y_train, y_test = train_test_split(X, y, test_size=0.2, random_state=42)\n",
    "\n",
    "X_train = torch.tensor(X_train, dtype=torch.float32)\n",
    "X_test = torch.tensor(X_test, dtype=torch.float32)\n",
    "y_train = torch.tensor(y_train, dtype=torch.long)\n",
    "y_test = torch.tensor(y_test, dtype=torch.long)\n",
    "\n",
    "train_dataset = TensorDataset(X_train, y_train)\n",
    "test_dataset = TensorDataset(X_test, y_test)\n",
    "train_loader = DataLoader(train_dataset, batch_size=32, shuffle=True)\n",
    "test_loader = DataLoader(test_dataset, batch_size=32, shuffle=False)"
   ],
   "metadata": {
    "collapsed": false,
    "ExecuteTime": {
     "end_time": "2024-12-02T22:35:53.497415Z",
     "start_time": "2024-12-02T22:35:53.456011Z"
    }
   },
   "outputs": [],
   "execution_count": 143
  },
  {
   "cell_type": "markdown",
   "source": [
    "### Define the CNN model\n",
    "We will work with a model that combines two convolutional layers at the front end with three fully connected layers at the back end. Pay attention to the arguments of the Conv2D and Linear blocks, as it will help your understanding of the model architecture.\n",
    "(DONE FOR YOU)"
   ],
   "metadata": {
    "collapsed": false
   }
  },
  {
   "cell_type": "code",
   "source": [
    "class EEGCNN(nn.Module):\n",
    "    def __init__(self, input_channels, input_timepoints, num_classes):\n",
    "        super(EEGCNN, self).__init__()\n",
    "        self.spatial_conv = nn.Conv2d(1, 8, kernel_size=(input_channels, 1))  # Spatial filtering\n",
    "        self.temporal_conv = nn.Conv2d(8, 16, kernel_size=(1, 10), stride=(1, 2))  # Temporal filtering\n",
    "        self.flatten = nn.Flatten()\n",
    "        self.fc1 = nn.Linear(16 * ((input_timepoints - 10) // 2 + 1), 32) # fully connected layer 1\n",
    "        self.fc2 = nn.Linear(32, 16)  # fully connected layer 2\n",
    "        self.fc3 = nn.Linear(16, num_classes) # fully connected layer 3\n",
    "        self.softmax = nn.Softmax(dim=1)\n",
    "\n",
    "    def forward(self, x):\n",
    "        x = x.unsqueeze(1)  # Add channel dimension\n",
    "        x = torch.relu(self.spatial_conv(x))\n",
    "        x = torch.relu(self.temporal_conv(x))\n",
    "        x = self.flatten(x) # convert from 2D to 1D\n",
    "        x = self.fc1(x) # fully connected layer 1\n",
    "        x = self.fc2(x) # fully connected layer 2\n",
    "        x = self.fc3(x) # fully connected layer 3\n",
    "        x = self.softmax(x)\n",
    "\n",
    "        return x"
   ],
   "metadata": {
    "collapsed": false,
    "ExecuteTime": {
     "end_time": "2024-12-02T22:35:53.554536Z",
     "start_time": "2024-12-02T22:35:53.539273Z"
    }
   },
   "outputs": [],
   "execution_count": 144
  },
  {
   "cell_type": "markdown",
   "source": [
    "### Instantiate the model with the parameters of our dataset\n",
    "(DONE FOR YOU)"
   ],
   "metadata": {
    "collapsed": false
   }
  },
  {
   "cell_type": "code",
   "source": [
    "input_channels = X_train.shape[1]  # 64 electrodes\n",
    "input_timepoints = X_train.shape[2]  # 256 time samples\n",
    "num_classes = len(torch.unique(y_train))  # Number of unique classes in y\n",
    "model = EEGCNN(input_channels, input_timepoints, num_classes)"
   ],
   "metadata": {
    "collapsed": false,
    "ExecuteTime": {
     "end_time": "2024-12-02T22:35:53.612127Z",
     "start_time": "2024-12-02T22:35:53.587899Z"
    }
   },
   "outputs": [],
   "execution_count": 145
  },
  {
   "cell_type": "markdown",
   "source": [
    "### Define the training loop and train for 200 epochs\n",
    "Below is a function that trains the model for a specified number of epochs, reporting the training and test loss after each epoch.\n",
    "(DONE FOR YOU)"
   ],
   "metadata": {
    "collapsed": false
   }
  },
  {
   "cell_type": "code",
   "source": [
    "def run_train_loop(model, criterion, optimizer, epochs=200):\n",
    "\n",
    "    train_losses = []\n",
    "    test_losses = []\n",
    "\n",
    "    for epoch in range(epochs):\n",
    "        model.train()\n",
    "        running_loss = 0.0\n",
    "        for X_batch, y_batch in train_loader:\n",
    "            optimizer.zero_grad()\n",
    "            outputs = model(X_batch)\n",
    "            loss = criterion(outputs, y_batch)\n",
    "            loss.backward()\n",
    "            optimizer.step()\n",
    "            running_loss += loss.item()\n",
    "\n",
    "        # evaluate test loss\n",
    "        model.eval()\n",
    "        test_loss = 0.0\n",
    "        with torch.no_grad():\n",
    "            for X_batch, y_batch in test_loader:\n",
    "                outputs = model(X_batch)\n",
    "                loss = criterion(outputs, y_batch)\n",
    "                test_loss += loss.item()\n",
    "\n",
    "        print(f\"Epoch {epoch+1}/{epochs}, Loss: {running_loss/len(train_loader):.4f}, Test Loss: {test_loss/len(test_loader):.4f}\")\n",
    "        train_losses.append(running_loss/len(train_loader))\n",
    "        test_losses.append(test_loss/len(test_loader))\n",
    "\n",
    "    return train_losses, test_losses"
   ],
   "metadata": {
    "collapsed": false,
    "ExecuteTime": {
     "end_time": "2024-12-02T22:35:53.678399Z",
     "start_time": "2024-12-02T22:35:53.662560Z"
    }
   },
   "outputs": [],
   "execution_count": 146
  },
  {
   "cell_type": "markdown",
   "source": [
    "### Here we train the model for 200 epochs\n",
    "(DONE FOR YOU)"
   ],
   "metadata": {
    "collapsed": false
   }
  },
  {
   "cell_type": "code",
   "source": [
    "criterion = nn.CrossEntropyLoss()\n",
    "optimizer = optim.Adam(model.parameters(), lr=0.001)\n",
    "epochs = 200\n",
    "train_losses, test_losses = run_train_loop(model, criterion, optimizer, epochs)"
   ],
   "metadata": {
    "collapsed": false,
    "ExecuteTime": {
     "end_time": "2024-12-02T22:36:06.834778Z",
     "start_time": "2024-12-02T22:35:53.721546Z"
    }
   },
   "outputs": [
    {
     "name": "stdout",
     "output_type": "stream",
     "text": [
      "Epoch 1/200, Loss: 0.8191, Test Loss: 0.7885\n",
      "Epoch 2/200, Loss: 0.7224, Test Loss: 0.7720\n",
      "Epoch 3/200, Loss: 0.6368, Test Loss: 0.6283\n",
      "Epoch 4/200, Loss: 0.5416, Test Loss: 0.5961\n",
      "Epoch 5/200, Loss: 0.4764, Test Loss: 0.6002\n",
      "Epoch 6/200, Loss: 0.4352, Test Loss: 0.5448\n",
      "Epoch 7/200, Loss: 0.4084, Test Loss: 0.5619\n",
      "Epoch 8/200, Loss: 0.3818, Test Loss: 0.5268\n",
      "Epoch 9/200, Loss: 0.3615, Test Loss: 0.5570\n",
      "Epoch 10/200, Loss: 0.3580, Test Loss: 0.6257\n",
      "Epoch 11/200, Loss: 0.3636, Test Loss: 0.5857\n",
      "Epoch 12/200, Loss: 0.3457, Test Loss: 0.5365\n",
      "Epoch 13/200, Loss: 0.3472, Test Loss: 0.5745\n",
      "Epoch 14/200, Loss: 0.3470, Test Loss: 0.5465\n",
      "Epoch 15/200, Loss: 0.3354, Test Loss: 0.5655\n",
      "Epoch 16/200, Loss: 0.3382, Test Loss: 0.5911\n",
      "Epoch 17/200, Loss: 0.3397, Test Loss: 0.6009\n",
      "Epoch 18/200, Loss: 0.3481, Test Loss: 0.5924\n",
      "Epoch 19/200, Loss: 0.3340, Test Loss: 0.5527\n",
      "Epoch 20/200, Loss: 0.3309, Test Loss: 0.5684\n",
      "Epoch 21/200, Loss: 0.3271, Test Loss: 0.5666\n",
      "Epoch 22/200, Loss: 0.3219, Test Loss: 0.5758\n",
      "Epoch 23/200, Loss: 0.3215, Test Loss: 0.5672\n",
      "Epoch 24/200, Loss: 0.3225, Test Loss: 0.5685\n",
      "Epoch 25/200, Loss: 0.3212, Test Loss: 0.5739\n",
      "Epoch 26/200, Loss: 0.3212, Test Loss: 0.5748\n",
      "Epoch 27/200, Loss: 0.3212, Test Loss: 0.5733\n",
      "Epoch 28/200, Loss: 0.3212, Test Loss: 0.5731\n",
      "Epoch 29/200, Loss: 0.3211, Test Loss: 0.5729\n",
      "Epoch 30/200, Loss: 0.3211, Test Loss: 0.5734\n",
      "Epoch 31/200, Loss: 0.3211, Test Loss: 0.5732\n",
      "Epoch 32/200, Loss: 0.3211, Test Loss: 0.5733\n",
      "Epoch 33/200, Loss: 0.3211, Test Loss: 0.5735\n",
      "Epoch 34/200, Loss: 0.3211, Test Loss: 0.5730\n",
      "Epoch 35/200, Loss: 0.3211, Test Loss: 0.5732\n",
      "Epoch 36/200, Loss: 0.3211, Test Loss: 0.5732\n",
      "Epoch 37/200, Loss: 0.3211, Test Loss: 0.5735\n",
      "Epoch 38/200, Loss: 0.3211, Test Loss: 0.5738\n",
      "Epoch 39/200, Loss: 0.3211, Test Loss: 0.5732\n",
      "Epoch 40/200, Loss: 0.3211, Test Loss: 0.5734\n",
      "Epoch 41/200, Loss: 0.3211, Test Loss: 0.5739\n",
      "Epoch 42/200, Loss: 0.3211, Test Loss: 0.5734\n",
      "Epoch 43/200, Loss: 0.3211, Test Loss: 0.5738\n",
      "Epoch 44/200, Loss: 0.3211, Test Loss: 0.5734\n",
      "Epoch 45/200, Loss: 0.3211, Test Loss: 0.5735\n",
      "Epoch 46/200, Loss: 0.3211, Test Loss: 0.5736\n",
      "Epoch 47/200, Loss: 0.3211, Test Loss: 0.5731\n",
      "Epoch 48/200, Loss: 0.3223, Test Loss: 0.5738\n",
      "Epoch 49/200, Loss: 0.3211, Test Loss: 0.5738\n",
      "Epoch 50/200, Loss: 0.3211, Test Loss: 0.5740\n",
      "Epoch 51/200, Loss: 0.3211, Test Loss: 0.5736\n",
      "Epoch 52/200, Loss: 0.3211, Test Loss: 0.5735\n",
      "Epoch 53/200, Loss: 0.3211, Test Loss: 0.5740\n",
      "Epoch 54/200, Loss: 0.3211, Test Loss: 0.5741\n",
      "Epoch 55/200, Loss: 0.3223, Test Loss: 0.5739\n",
      "Epoch 56/200, Loss: 0.3211, Test Loss: 0.5737\n",
      "Epoch 57/200, Loss: 0.3211, Test Loss: 0.5736\n",
      "Epoch 58/200, Loss: 0.3211, Test Loss: 0.5733\n",
      "Epoch 59/200, Loss: 0.3223, Test Loss: 0.5735\n",
      "Epoch 60/200, Loss: 0.3211, Test Loss: 0.5741\n",
      "Epoch 61/200, Loss: 0.3211, Test Loss: 0.5742\n",
      "Epoch 62/200, Loss: 0.3211, Test Loss: 0.5741\n",
      "Epoch 63/200, Loss: 0.3211, Test Loss: 0.5738\n",
      "Epoch 64/200, Loss: 0.3235, Test Loss: 0.5744\n",
      "Epoch 65/200, Loss: 0.3211, Test Loss: 0.5744\n",
      "Epoch 66/200, Loss: 0.3223, Test Loss: 0.5745\n",
      "Epoch 67/200, Loss: 0.3211, Test Loss: 0.5743\n",
      "Epoch 68/200, Loss: 0.3211, Test Loss: 0.5748\n",
      "Epoch 69/200, Loss: 0.3211, Test Loss: 0.5748\n",
      "Epoch 70/200, Loss: 0.3211, Test Loss: 0.5748\n",
      "Epoch 71/200, Loss: 0.3223, Test Loss: 0.5748\n",
      "Epoch 72/200, Loss: 0.3211, Test Loss: 0.5745\n",
      "Epoch 73/200, Loss: 0.3211, Test Loss: 0.5746\n",
      "Epoch 74/200, Loss: 0.3223, Test Loss: 0.5750\n",
      "Epoch 75/200, Loss: 0.3211, Test Loss: 0.5749\n",
      "Epoch 76/200, Loss: 0.3211, Test Loss: 0.5747\n",
      "Epoch 77/200, Loss: 0.3211, Test Loss: 0.5746\n",
      "Epoch 78/200, Loss: 0.3211, Test Loss: 0.5746\n",
      "Epoch 79/200, Loss: 0.3211, Test Loss: 0.5748\n",
      "Epoch 80/200, Loss: 0.3211, Test Loss: 0.5743\n",
      "Epoch 81/200, Loss: 0.3211, Test Loss: 0.5747\n",
      "Epoch 82/200, Loss: 0.3211, Test Loss: 0.5748\n",
      "Epoch 83/200, Loss: 0.3211, Test Loss: 0.5747\n",
      "Epoch 84/200, Loss: 0.3211, Test Loss: 0.5751\n",
      "Epoch 85/200, Loss: 0.3211, Test Loss: 0.5749\n",
      "Epoch 86/200, Loss: 0.3223, Test Loss: 0.5745\n",
      "Epoch 87/200, Loss: 0.3211, Test Loss: 0.5751\n",
      "Epoch 88/200, Loss: 0.3223, Test Loss: 0.5749\n",
      "Epoch 89/200, Loss: 0.3211, Test Loss: 0.5751\n",
      "Epoch 90/200, Loss: 0.3211, Test Loss: 0.5754\n",
      "Epoch 91/200, Loss: 0.3211, Test Loss: 0.5749\n",
      "Epoch 92/200, Loss: 0.3211, Test Loss: 0.5748\n",
      "Epoch 93/200, Loss: 0.3211, Test Loss: 0.5751\n",
      "Epoch 94/200, Loss: 0.3211, Test Loss: 0.5748\n",
      "Epoch 95/200, Loss: 0.3211, Test Loss: 0.5752\n",
      "Epoch 96/200, Loss: 0.3211, Test Loss: 0.5752\n",
      "Epoch 97/200, Loss: 0.3211, Test Loss: 0.5751\n",
      "Epoch 98/200, Loss: 0.3211, Test Loss: 0.5753\n",
      "Epoch 99/200, Loss: 0.3223, Test Loss: 0.5753\n",
      "Epoch 100/200, Loss: 0.3211, Test Loss: 0.5752\n",
      "Epoch 101/200, Loss: 0.3211, Test Loss: 0.5752\n",
      "Epoch 102/200, Loss: 0.3211, Test Loss: 0.5749\n",
      "Epoch 103/200, Loss: 0.3211, Test Loss: 0.5748\n",
      "Epoch 104/200, Loss: 0.3211, Test Loss: 0.5752\n",
      "Epoch 105/200, Loss: 0.3211, Test Loss: 0.5753\n",
      "Epoch 106/200, Loss: 0.3211, Test Loss: 0.5753\n",
      "Epoch 107/200, Loss: 0.3211, Test Loss: 0.5755\n",
      "Epoch 108/200, Loss: 0.3211, Test Loss: 0.5756\n",
      "Epoch 109/200, Loss: 0.3211, Test Loss: 0.5754\n",
      "Epoch 110/200, Loss: 0.3223, Test Loss: 0.5752\n",
      "Epoch 111/200, Loss: 0.3211, Test Loss: 0.5751\n",
      "Epoch 112/200, Loss: 0.3211, Test Loss: 0.5753\n",
      "Epoch 113/200, Loss: 0.3211, Test Loss: 0.5753\n",
      "Epoch 114/200, Loss: 0.3223, Test Loss: 0.5756\n",
      "Epoch 115/200, Loss: 0.3223, Test Loss: 0.5757\n",
      "Epoch 116/200, Loss: 0.3211, Test Loss: 0.5756\n",
      "Epoch 117/200, Loss: 0.3211, Test Loss: 0.5759\n",
      "Epoch 118/200, Loss: 0.3211, Test Loss: 0.5757\n",
      "Epoch 119/200, Loss: 0.3211, Test Loss: 0.5757\n",
      "Epoch 120/200, Loss: 0.3211, Test Loss: 0.5758\n",
      "Epoch 121/200, Loss: 0.3211, Test Loss: 0.5757\n",
      "Epoch 122/200, Loss: 0.3211, Test Loss: 0.5757\n",
      "Epoch 123/200, Loss: 0.3211, Test Loss: 0.5754\n",
      "Epoch 124/200, Loss: 0.3211, Test Loss: 0.5755\n",
      "Epoch 125/200, Loss: 0.3211, Test Loss: 0.5759\n",
      "Epoch 126/200, Loss: 0.3211, Test Loss: 0.5759\n",
      "Epoch 127/200, Loss: 0.3223, Test Loss: 0.5757\n",
      "Epoch 128/200, Loss: 0.3211, Test Loss: 0.5760\n",
      "Epoch 129/200, Loss: 0.3223, Test Loss: 0.5758\n",
      "Epoch 130/200, Loss: 0.3211, Test Loss: 0.5759\n",
      "Epoch 131/200, Loss: 0.3211, Test Loss: 0.5760\n",
      "Epoch 132/200, Loss: 0.3211, Test Loss: 0.5760\n",
      "Epoch 133/200, Loss: 0.3234, Test Loss: 0.5762\n",
      "Epoch 134/200, Loss: 0.3211, Test Loss: 0.5761\n",
      "Epoch 135/200, Loss: 0.3211, Test Loss: 0.5762\n",
      "Epoch 136/200, Loss: 0.3211, Test Loss: 0.5763\n",
      "Epoch 137/200, Loss: 0.3211, Test Loss: 0.5763\n",
      "Epoch 138/200, Loss: 0.3211, Test Loss: 0.5764\n",
      "Epoch 139/200, Loss: 0.3223, Test Loss: 0.5763\n",
      "Epoch 140/200, Loss: 0.3211, Test Loss: 0.5762\n",
      "Epoch 141/200, Loss: 0.3211, Test Loss: 0.5765\n",
      "Epoch 142/200, Loss: 0.3223, Test Loss: 0.5766\n",
      "Epoch 143/200, Loss: 0.3211, Test Loss: 0.5766\n",
      "Epoch 144/200, Loss: 0.3211, Test Loss: 0.5764\n",
      "Epoch 145/200, Loss: 0.3211, Test Loss: 0.5766\n",
      "Epoch 146/200, Loss: 0.3234, Test Loss: 0.5766\n",
      "Epoch 147/200, Loss: 0.3211, Test Loss: 0.5767\n",
      "Epoch 148/200, Loss: 0.3211, Test Loss: 0.5769\n",
      "Epoch 149/200, Loss: 0.3211, Test Loss: 0.5768\n",
      "Epoch 150/200, Loss: 0.3211, Test Loss: 0.5766\n",
      "Epoch 151/200, Loss: 0.3211, Test Loss: 0.5766\n",
      "Epoch 152/200, Loss: 0.3211, Test Loss: 0.5764\n",
      "Epoch 153/200, Loss: 0.3211, Test Loss: 0.5767\n",
      "Epoch 154/200, Loss: 0.3211, Test Loss: 0.5769\n",
      "Epoch 155/200, Loss: 0.3211, Test Loss: 0.5769\n",
      "Epoch 156/200, Loss: 0.3211, Test Loss: 0.5767\n",
      "Epoch 157/200, Loss: 0.3211, Test Loss: 0.5768\n",
      "Epoch 158/200, Loss: 0.3211, Test Loss: 0.5770\n",
      "Epoch 159/200, Loss: 0.3211, Test Loss: 0.5771\n",
      "Epoch 160/200, Loss: 0.3211, Test Loss: 0.5767\n",
      "Epoch 161/200, Loss: 0.3211, Test Loss: 0.5767\n",
      "Epoch 162/200, Loss: 0.3211, Test Loss: 0.5770\n",
      "Epoch 163/200, Loss: 0.3211, Test Loss: 0.5768\n",
      "Epoch 164/200, Loss: 0.3211, Test Loss: 0.5767\n",
      "Epoch 165/200, Loss: 0.3223, Test Loss: 0.5770\n",
      "Epoch 166/200, Loss: 0.3211, Test Loss: 0.5763\n",
      "Epoch 167/200, Loss: 0.3211, Test Loss: 0.5756\n",
      "Epoch 168/200, Loss: 0.3211, Test Loss: 0.5727\n",
      "Epoch 169/200, Loss: 0.3222, Test Loss: 0.5712\n",
      "Epoch 170/200, Loss: 0.3352, Test Loss: 0.6488\n",
      "Epoch 171/200, Loss: 0.5377, Test Loss: 0.7305\n",
      "Epoch 172/200, Loss: 0.6503, Test Loss: 0.7323\n",
      "Epoch 173/200, Loss: 0.6806, Test Loss: 0.7967\n",
      "Epoch 174/200, Loss: 0.6520, Test Loss: 0.6898\n",
      "Epoch 175/200, Loss: 0.6012, Test Loss: 0.6806\n",
      "Epoch 176/200, Loss: 0.5887, Test Loss: 0.6809\n",
      "Epoch 177/200, Loss: 0.6112, Test Loss: 0.6941\n",
      "Epoch 178/200, Loss: 0.6403, Test Loss: 0.7645\n",
      "Epoch 179/200, Loss: 0.6250, Test Loss: 0.6222\n",
      "Epoch 180/200, Loss: 0.5835, Test Loss: 0.6109\n",
      "Epoch 181/200, Loss: 0.5538, Test Loss: 0.6751\n",
      "Epoch 182/200, Loss: 0.6460, Test Loss: 0.7598\n",
      "Epoch 183/200, Loss: 0.6320, Test Loss: 0.8235\n",
      "Epoch 184/200, Loss: 0.6573, Test Loss: 0.8036\n",
      "Epoch 185/200, Loss: 0.6943, Test Loss: 0.8149\n",
      "Epoch 186/200, Loss: 0.6373, Test Loss: 0.7084\n",
      "Epoch 187/200, Loss: 0.6575, Test Loss: 0.7480\n",
      "Epoch 188/200, Loss: 0.6694, Test Loss: 0.7340\n",
      "Epoch 189/200, Loss: 0.6402, Test Loss: 0.7902\n",
      "Epoch 190/200, Loss: 0.6294, Test Loss: 0.7595\n",
      "Epoch 191/200, Loss: 0.6291, Test Loss: 0.7820\n",
      "Epoch 192/200, Loss: 0.6098, Test Loss: 0.7080\n",
      "Epoch 193/200, Loss: 0.6902, Test Loss: 0.7285\n",
      "Epoch 194/200, Loss: 0.6646, Test Loss: 0.7383\n",
      "Epoch 195/200, Loss: 0.6570, Test Loss: 0.7383\n",
      "Epoch 196/200, Loss: 0.6450, Test Loss: 0.7174\n",
      "Epoch 197/200, Loss: 0.6237, Test Loss: 0.7070\n",
      "Epoch 198/200, Loss: 0.6078, Test Loss: 0.7070\n",
      "Epoch 199/200, Loss: 0.6135, Test Loss: 0.7070\n",
      "Epoch 200/200, Loss: 0.6106, Test Loss: 0.6869\n"
     ]
    }
   ],
   "execution_count": 147
  },
  {
   "cell_type": "markdown",
   "source": [
    "## Task 1: Plot the training and test loss (overlaid) on the vertical axis and the epoch number on the horizontal axis"
   ],
   "metadata": {
    "collapsed": false
   }
  },
  {
   "cell_type": "code",
   "source": [
    "## INSERT CODE HERE\n",
    "plt.figure()\n",
    "plt.plot(train_losses,label = 'Train Loss')\n",
    "plt.plot(test_losses,label='Test Loss')\n",
    "plt.legend()\n",
    "plt.xlabel('Epoch')\n",
    "plt.ylabel('Loss')\n",
    "plt.title('Loss w/o Dropout')"
   ],
   "metadata": {
    "collapsed": false,
    "ExecuteTime": {
     "end_time": "2024-12-02T22:36:07.168834Z",
     "start_time": "2024-12-02T22:36:06.881220Z"
    }
   },
   "outputs": [
    {
     "data": {
      "text/plain": [
       "Text(0.5, 1.0, 'Loss w/o Dropout')"
      ]
     },
     "execution_count": 148,
     "metadata": {},
     "output_type": "execute_result"
    },
    {
     "data": {
      "text/plain": [
       "<Figure size 640x480 with 1 Axes>"
      ],
      "image/png": "[encoded data removed]"
     },
     "metadata": {},
     "output_type": "display_data"
    }
   ],
   "execution_count": 148
  },
  {
   "cell_type": "markdown",
   "source": [
    "## Task 2: Compute the minimum train and test loss achieved during training and report them"
   ],
   "metadata": {
    "collapsed": false
   }
  },
  {
   "cell_type": "code",
   "source": [
    "## INSERT CODE HERE\n",
    "test_loss_00 = min(test_losses)\n",
    "train_loss_00 = min(train_losses)\n",
    "print(f'Minimum Train Loss = {train_loss_00}')\n",
    "print(f'Minimum Test Loss = {test_loss_00}')"
   ],
   "metadata": {
    "collapsed": false,
    "ExecuteTime": {
     "end_time": "2024-12-02T22:36:07.235050Z",
     "start_time": "2024-12-02T22:36:07.221065Z"
    }
   },
   "outputs": [
    {
     "name": "stdout",
     "output_type": "stream",
     "text": [
      "Minimum Train Loss = 0.32107144097487134\n",
      "Minimum Test Loss = 0.5268478989601135\n"
     ]
    }
   ],
   "execution_count": 149
  },
  {
   "cell_type": "markdown",
   "source": [
    "## Task 3: Modify EEGCNN to add dropout regularization\n",
    "- Modify the cell below to add **three** dropout layers to the EEGCNN model\n",
    "    - The first dropout layer should be added after the flattening layer\n",
    "    - The second dropout layer should be added after the first fully connected layer\n",
    "    - The third dropout layer should be added after the second fully connected layer\n",
    "- The dropout rates of each layer should be the same and should be passed as an argument to the model constructor\n",
    "- The default dropout rate should be 0.2"
   ],
   "metadata": {
    "collapsed": false
   }
  },
  {
   "cell_type": "code",
   "source": [
    "class EEGCNNwithDropout(nn.Module):\n",
    "    def __init__(self, input_channels, input_timepoints, num_classes, dropout=0.2):\n",
    "        super(EEGCNNwithDropout, self).__init__()\n",
    "        self.spatial_conv = nn.Conv2d(1, 8, kernel_size=(input_channels, 1))\n",
    "        self.temporal_conv = nn.Conv2d(8, 16, kernel_size=(1, 10), stride=(1, 2))\n",
    "        self.flatten = nn.Flatten()\n",
    "        self.dropout = nn.Dropout(p=dropout)\n",
    "        self.fc1 = nn.Linear(16 * ((input_timepoints - 10) // 2 + 1), 32)\n",
    "        self.fc2 = nn.Linear(32, 16)\n",
    "        self.fc3 = nn.Linear(16, num_classes)\n",
    "        self.softmax = nn.Softmax(dim=1)\n",
    "        # INSERT CODE BELOW\n",
    "\n",
    "    def forward(self, x):\n",
    "        x = x.unsqueeze(1)  # Add channel dimension\n",
    "        x = torch.relu(self.spatial_conv(x))\n",
    "        x = torch.relu(self.temporal_conv(x))\n",
    "        x = self.flatten(x)\n",
    "        # INSERT CODE BELOW\n",
    "        x = self.dropout(x)\n",
    "        x = self.fc1(x)\n",
    "        x = self.dropout(x)\n",
    "        x = self.fc2(x)\n",
    "        x = self.dropout(x)\n",
    "        x = self.fc3(x)\n",
    "        x = self.softmax(x)\n",
    "\n",
    "        return x"
   ],
   "metadata": {
    "collapsed": false,
    "ExecuteTime": {
     "end_time": "2024-12-02T22:36:07.293228Z",
     "start_time": "2024-12-02T22:36:07.278316Z"
    }
   },
   "outputs": [],
   "execution_count": 150
  },
  {
   "cell_type": "markdown",
   "source": [
    "## Task 4: Train the EEGCNNwithDropout model with a dropout rate of 0.2 for 200 epochs\n",
    "- Instantiate the model with a dropout rate of 0.2\n",
    "- Train the model for 200 epochs"
   ],
   "metadata": {
    "collapsed": false
   }
  },
  {
   "cell_type": "code",
   "source": [
    "## INSERT CODE BELOW\n",
    "\n",
    "model = EEGCNNwithDropout(input_channels, input_timepoints, num_classes)\n",
    "\n",
    "## DO NOT MODIFY THE 3 LINES BELOW\n",
    "criterion = nn.CrossEntropyLoss()\n",
    "optimizer = optim.Adam(model.parameters(), lr=0.001)\n",
    "train_losses, test_losses = run_train_loop(model, criterion, optimizer, 200)"
   ],
   "metadata": {
    "collapsed": false,
    "ExecuteTime": {
     "end_time": "2024-12-02T22:36:24.548893Z",
     "start_time": "2024-12-02T22:36:07.332797Z"
    }
   },
   "outputs": [
    {
     "name": "stdout",
     "output_type": "stream",
     "text": [
      "Epoch 1/200, Loss: 0.6709, Test Loss: 0.6357\n",
      "Epoch 2/200, Loss: 0.6012, Test Loss: 0.6052\n",
      "Epoch 3/200, Loss: 0.5230, Test Loss: 0.5857\n",
      "Epoch 4/200, Loss: 0.4680, Test Loss: 0.6082\n",
      "Epoch 5/200, Loss: 0.4471, Test Loss: 0.5416\n",
      "Epoch 6/200, Loss: 0.4083, Test Loss: 0.5564\n",
      "Epoch 7/200, Loss: 0.3939, Test Loss: 0.5515\n",
      "Epoch 8/200, Loss: 0.3808, Test Loss: 0.5467\n",
      "Epoch 9/200, Loss: 0.3760, Test Loss: 0.5413\n",
      "Epoch 10/200, Loss: 0.3584, Test Loss: 0.5301\n",
      "Epoch 11/200, Loss: 0.3464, Test Loss: 0.5317\n",
      "Epoch 12/200, Loss: 0.3509, Test Loss: 0.5296\n",
      "Epoch 13/200, Loss: 0.3644, Test Loss: 0.5260\n",
      "Epoch 14/200, Loss: 0.3497, Test Loss: 0.5129\n",
      "Epoch 15/200, Loss: 0.3833, Test Loss: 0.5507\n",
      "Epoch 16/200, Loss: 0.3676, Test Loss: 0.5498\n",
      "Epoch 17/200, Loss: 0.3578, Test Loss: 0.5481\n",
      "Epoch 18/200, Loss: 0.3474, Test Loss: 0.5155\n",
      "Epoch 19/200, Loss: 0.3320, Test Loss: 0.4845\n",
      "Epoch 20/200, Loss: 0.3247, Test Loss: 0.4934\n",
      "Epoch 21/200, Loss: 0.3210, Test Loss: 0.4835\n",
      "Epoch 22/200, Loss: 0.3207, Test Loss: 0.4760\n",
      "Epoch 23/200, Loss: 0.3216, Test Loss: 0.4812\n",
      "Epoch 24/200, Loss: 0.3258, Test Loss: 0.4936\n",
      "Epoch 25/200, Loss: 0.3212, Test Loss: 0.4887\n",
      "Epoch 26/200, Loss: 0.3269, Test Loss: 0.4914\n",
      "Epoch 27/200, Loss: 0.3207, Test Loss: 0.4798\n",
      "Epoch 28/200, Loss: 0.3193, Test Loss: 0.4748\n",
      "Epoch 29/200, Loss: 0.3193, Test Loss: 0.4709\n",
      "Epoch 30/200, Loss: 0.3189, Test Loss: 0.4712\n",
      "Epoch 31/200, Loss: 0.3188, Test Loss: 0.4710\n",
      "Epoch 32/200, Loss: 0.3219, Test Loss: 0.4708\n",
      "Epoch 33/200, Loss: 0.3199, Test Loss: 0.4719\n",
      "Epoch 34/200, Loss: 0.3189, Test Loss: 0.4730\n",
      "Epoch 35/200, Loss: 0.3198, Test Loss: 0.4722\n",
      "Epoch 36/200, Loss: 0.3199, Test Loss: 0.4740\n",
      "Epoch 37/200, Loss: 0.3192, Test Loss: 0.4716\n",
      "Epoch 38/200, Loss: 0.3206, Test Loss: 0.4979\n",
      "Epoch 39/200, Loss: 0.3241, Test Loss: 0.4845\n",
      "Epoch 40/200, Loss: 0.3213, Test Loss: 0.5138\n",
      "Epoch 41/200, Loss: 0.3195, Test Loss: 0.4725\n",
      "Epoch 42/200, Loss: 0.3269, Test Loss: 0.5407\n",
      "Epoch 43/200, Loss: 0.3234, Test Loss: 0.4804\n",
      "Epoch 44/200, Loss: 0.3201, Test Loss: 0.4916\n",
      "Epoch 45/200, Loss: 0.3191, Test Loss: 0.4888\n",
      "Epoch 46/200, Loss: 0.3195, Test Loss: 0.5006\n",
      "Epoch 47/200, Loss: 0.3275, Test Loss: 0.4897\n",
      "Epoch 48/200, Loss: 0.3275, Test Loss: 0.4882\n",
      "Epoch 49/200, Loss: 0.3261, Test Loss: 0.5238\n",
      "Epoch 50/200, Loss: 0.3252, Test Loss: 0.5155\n",
      "Epoch 51/200, Loss: 0.3214, Test Loss: 0.5011\n",
      "Epoch 52/200, Loss: 0.3227, Test Loss: 0.5077\n",
      "Epoch 53/200, Loss: 0.3260, Test Loss: 0.5162\n",
      "Epoch 54/200, Loss: 0.3197, Test Loss: 0.5178\n",
      "Epoch 55/200, Loss: 0.3189, Test Loss: 0.5112\n",
      "Epoch 56/200, Loss: 0.3206, Test Loss: 0.5326\n",
      "Epoch 57/200, Loss: 0.3277, Test Loss: 0.5228\n",
      "Epoch 58/200, Loss: 0.3286, Test Loss: 0.4978\n",
      "Epoch 59/200, Loss: 0.3279, Test Loss: 0.5097\n",
      "Epoch 60/200, Loss: 0.3305, Test Loss: 0.5123\n",
      "Epoch 61/200, Loss: 0.3291, Test Loss: 0.5049\n",
      "Epoch 62/200, Loss: 0.3241, Test Loss: 0.4936\n",
      "Epoch 63/200, Loss: 0.3206, Test Loss: 0.4801\n",
      "Epoch 64/200, Loss: 0.3226, Test Loss: 0.4812\n",
      "Epoch 65/200, Loss: 0.3297, Test Loss: 0.4474\n",
      "Epoch 66/200, Loss: 0.3259, Test Loss: 0.4711\n",
      "Epoch 67/200, Loss: 0.3283, Test Loss: 0.5626\n",
      "Epoch 68/200, Loss: 0.3266, Test Loss: 0.5313\n",
      "Epoch 69/200, Loss: 0.3244, Test Loss: 0.4922\n",
      "Epoch 70/200, Loss: 0.3194, Test Loss: 0.5090\n",
      "Epoch 71/200, Loss: 0.3369, Test Loss: 0.5165\n",
      "Epoch 72/200, Loss: 0.3262, Test Loss: 0.5087\n",
      "Epoch 73/200, Loss: 0.3294, Test Loss: 0.5216\n",
      "Epoch 74/200, Loss: 0.3219, Test Loss: 0.5138\n",
      "Epoch 75/200, Loss: 0.3207, Test Loss: 0.5061\n",
      "Epoch 76/200, Loss: 0.3191, Test Loss: 0.4941\n",
      "Epoch 77/200, Loss: 0.3293, Test Loss: 0.5110\n",
      "Epoch 78/200, Loss: 0.3397, Test Loss: 0.5107\n",
      "Epoch 79/200, Loss: 0.3529, Test Loss: 0.4847\n",
      "Epoch 80/200, Loss: 0.3373, Test Loss: 0.5470\n",
      "Epoch 81/200, Loss: 0.3736, Test Loss: 0.5238\n",
      "Epoch 82/200, Loss: 0.3577, Test Loss: 0.6382\n",
      "Epoch 83/200, Loss: 0.3553, Test Loss: 0.6042\n",
      "Epoch 84/200, Loss: 0.3438, Test Loss: 0.5498\n",
      "Epoch 85/200, Loss: 0.3274, Test Loss: 0.5124\n",
      "Epoch 86/200, Loss: 0.3234, Test Loss: 0.5149\n",
      "Epoch 87/200, Loss: 0.3187, Test Loss: 0.4900\n",
      "Epoch 88/200, Loss: 0.3212, Test Loss: 0.4907\n",
      "Epoch 89/200, Loss: 0.3231, Test Loss: 0.4905\n",
      "Epoch 90/200, Loss: 0.3198, Test Loss: 0.4882\n",
      "Epoch 91/200, Loss: 0.3230, Test Loss: 0.4856\n",
      "Epoch 92/200, Loss: 0.3206, Test Loss: 0.4986\n",
      "Epoch 93/200, Loss: 0.3209, Test Loss: 0.4929\n",
      "Epoch 94/200, Loss: 0.3260, Test Loss: 0.4999\n",
      "Epoch 95/200, Loss: 0.3229, Test Loss: 0.4920\n",
      "Epoch 96/200, Loss: 0.3304, Test Loss: 0.4855\n",
      "Epoch 97/200, Loss: 0.3296, Test Loss: 0.4839\n",
      "Epoch 98/200, Loss: 0.3209, Test Loss: 0.4783\n",
      "Epoch 99/200, Loss: 0.3222, Test Loss: 0.5107\n",
      "Epoch 100/200, Loss: 0.3203, Test Loss: 0.5136\n",
      "Epoch 101/200, Loss: 0.3210, Test Loss: 0.4973\n",
      "Epoch 102/200, Loss: 0.3185, Test Loss: 0.4963\n",
      "Epoch 103/200, Loss: 0.3185, Test Loss: 0.4953\n",
      "Epoch 104/200, Loss: 0.3185, Test Loss: 0.4937\n",
      "Epoch 105/200, Loss: 0.3206, Test Loss: 0.4918\n",
      "Epoch 106/200, Loss: 0.3185, Test Loss: 0.4938\n",
      "Epoch 107/200, Loss: 0.3185, Test Loss: 0.4960\n",
      "Epoch 108/200, Loss: 0.3197, Test Loss: 0.5030\n",
      "Epoch 109/200, Loss: 0.3210, Test Loss: 0.5082\n",
      "Epoch 110/200, Loss: 0.3213, Test Loss: 0.4953\n",
      "Epoch 111/200, Loss: 0.3189, Test Loss: 0.4895\n",
      "Epoch 112/200, Loss: 0.3195, Test Loss: 0.4851\n",
      "Epoch 113/200, Loss: 0.3185, Test Loss: 0.4908\n",
      "Epoch 114/200, Loss: 0.3185, Test Loss: 0.4919\n",
      "Epoch 115/200, Loss: 0.3185, Test Loss: 0.4911\n",
      "Epoch 116/200, Loss: 0.3185, Test Loss: 0.4912\n",
      "Epoch 117/200, Loss: 0.3185, Test Loss: 0.4913\n",
      "Epoch 118/200, Loss: 0.3189, Test Loss: 0.5063\n",
      "Epoch 119/200, Loss: 0.3186, Test Loss: 0.5163\n",
      "Epoch 120/200, Loss: 0.3185, Test Loss: 0.5193\n",
      "Epoch 121/200, Loss: 0.3185, Test Loss: 0.5197\n",
      "Epoch 122/200, Loss: 0.3220, Test Loss: 0.4913\n",
      "Epoch 123/200, Loss: 0.3208, Test Loss: 0.5046\n",
      "Epoch 124/200, Loss: 0.3224, Test Loss: 0.5192\n",
      "Epoch 125/200, Loss: 0.3218, Test Loss: 0.5243\n",
      "Epoch 126/200, Loss: 0.3305, Test Loss: 0.5565\n",
      "Epoch 127/200, Loss: 0.3283, Test Loss: 0.5342\n",
      "Epoch 128/200, Loss: 0.3293, Test Loss: 0.5430\n",
      "Epoch 129/200, Loss: 0.3200, Test Loss: 0.5131\n",
      "Epoch 130/200, Loss: 0.3194, Test Loss: 0.4842\n",
      "Epoch 131/200, Loss: 0.3190, Test Loss: 0.4597\n",
      "Epoch 132/200, Loss: 0.3233, Test Loss: 0.4788\n",
      "Epoch 133/200, Loss: 0.3307, Test Loss: 0.4692\n",
      "Epoch 134/200, Loss: 0.3352, Test Loss: 0.5023\n",
      "Epoch 135/200, Loss: 0.3228, Test Loss: 0.4797\n",
      "Epoch 136/200, Loss: 0.3264, Test Loss: 0.4596\n",
      "Epoch 137/200, Loss: 0.3188, Test Loss: 0.4378\n",
      "Epoch 138/200, Loss: 0.3260, Test Loss: 0.4610\n",
      "Epoch 139/200, Loss: 0.3211, Test Loss: 0.4529\n",
      "Epoch 140/200, Loss: 0.3214, Test Loss: 0.4690\n",
      "Epoch 141/200, Loss: 0.3262, Test Loss: 0.4411\n",
      "Epoch 142/200, Loss: 0.3255, Test Loss: 0.4430\n",
      "Epoch 143/200, Loss: 0.3249, Test Loss: 0.4373\n",
      "Epoch 144/200, Loss: 0.3207, Test Loss: 0.4374\n",
      "Epoch 145/200, Loss: 0.3188, Test Loss: 0.5049\n",
      "Epoch 146/200, Loss: 0.3240, Test Loss: 0.4698\n",
      "Epoch 147/200, Loss: 0.3291, Test Loss: 0.4595\n",
      "Epoch 148/200, Loss: 0.3211, Test Loss: 0.4610\n",
      "Epoch 149/200, Loss: 0.3214, Test Loss: 0.4988\n",
      "Epoch 150/200, Loss: 0.3236, Test Loss: 0.5008\n",
      "Epoch 151/200, Loss: 0.3188, Test Loss: 0.4646\n",
      "Epoch 152/200, Loss: 0.3233, Test Loss: 0.4972\n",
      "Epoch 153/200, Loss: 0.3227, Test Loss: 0.5711\n",
      "Epoch 154/200, Loss: 0.3267, Test Loss: 0.5196\n",
      "Epoch 155/200, Loss: 0.3494, Test Loss: 0.5269\n",
      "Epoch 156/200, Loss: 0.3373, Test Loss: 0.5102\n",
      "Epoch 157/200, Loss: 0.3260, Test Loss: 0.5047\n",
      "Epoch 158/200, Loss: 0.3299, Test Loss: 0.4766\n",
      "Epoch 159/200, Loss: 0.3529, Test Loss: 0.4820\n",
      "Epoch 160/200, Loss: 0.3523, Test Loss: 0.4921\n",
      "Epoch 161/200, Loss: 0.3350, Test Loss: 0.4728\n",
      "Epoch 162/200, Loss: 0.3336, Test Loss: 0.4868\n",
      "Epoch 163/200, Loss: 0.3237, Test Loss: 0.5225\n",
      "Epoch 164/200, Loss: 0.3270, Test Loss: 0.4771\n",
      "Epoch 165/200, Loss: 0.3314, Test Loss: 0.5602\n",
      "Epoch 166/200, Loss: 0.3368, Test Loss: 0.4843\n",
      "Epoch 167/200, Loss: 0.3831, Test Loss: 0.5245\n",
      "Epoch 168/200, Loss: 0.3469, Test Loss: 0.5639\n",
      "Epoch 169/200, Loss: 0.3440, Test Loss: 0.5663\n",
      "Epoch 170/200, Loss: 0.3325, Test Loss: 0.4850\n",
      "Epoch 171/200, Loss: 0.3352, Test Loss: 0.5066\n",
      "Epoch 172/200, Loss: 0.3156, Test Loss: 0.4943\n",
      "Epoch 173/200, Loss: 0.3271, Test Loss: 0.4549\n",
      "Epoch 174/200, Loss: 0.3435, Test Loss: 0.6085\n",
      "Epoch 175/200, Loss: 0.3474, Test Loss: 0.5063\n",
      "Epoch 176/200, Loss: 0.3278, Test Loss: 0.5737\n",
      "Epoch 177/200, Loss: 0.3310, Test Loss: 0.5188\n",
      "Epoch 178/200, Loss: 0.3450, Test Loss: 0.5155\n",
      "Epoch 179/200, Loss: 0.3392, Test Loss: 0.5530\n",
      "Epoch 180/200, Loss: 0.3222, Test Loss: 0.5025\n",
      "Epoch 181/200, Loss: 0.3214, Test Loss: 0.4629\n",
      "Epoch 182/200, Loss: 0.3159, Test Loss: 0.4638\n",
      "Epoch 183/200, Loss: 0.3197, Test Loss: 0.4610\n",
      "Epoch 184/200, Loss: 0.3205, Test Loss: 0.4908\n",
      "Epoch 185/200, Loss: 0.3203, Test Loss: 0.4795\n",
      "Epoch 186/200, Loss: 0.3159, Test Loss: 0.5038\n",
      "Epoch 187/200, Loss: 0.3186, Test Loss: 0.5121\n",
      "Epoch 188/200, Loss: 0.3195, Test Loss: 0.5193\n",
      "Epoch 189/200, Loss: 0.3185, Test Loss: 0.5102\n",
      "Epoch 190/200, Loss: 0.3344, Test Loss: 0.5094\n",
      "Epoch 191/200, Loss: 0.3523, Test Loss: 0.5047\n",
      "Epoch 192/200, Loss: 0.3584, Test Loss: 0.4898\n",
      "Epoch 193/200, Loss: 0.3266, Test Loss: 0.5240\n",
      "Epoch 194/200, Loss: 0.3190, Test Loss: 0.5021\n",
      "Epoch 195/200, Loss: 0.3229, Test Loss: 0.5058\n",
      "Epoch 196/200, Loss: 0.3273, Test Loss: 0.5045\n",
      "Epoch 197/200, Loss: 0.3233, Test Loss: 0.4970\n",
      "Epoch 198/200, Loss: 0.3248, Test Loss: 0.4974\n",
      "Epoch 199/200, Loss: 0.3264, Test Loss: 0.4770\n",
      "Epoch 200/200, Loss: 0.3300, Test Loss: 0.4916\n"
     ]
    }
   ],
   "execution_count": 151
  },
  {
   "cell_type": "markdown",
   "source": [
    "## Task 5: Plot the training and test loss (overlaid) on the vertical axis and the epoch number on the horizontal axis"
   ],
   "metadata": {
    "collapsed": false
   }
  },
  {
   "cell_type": "code",
   "source": [
    "# INSERT CODE HERE\n",
    "plt.figure()\n",
    "plt.plot(train_losses,label = 'Train Loss')\n",
    "plt.plot(test_losses,label='Test Loss')\n",
    "plt.legend()\n",
    "plt.xlabel('Epoch')\n",
    "plt.ylabel('Loss')\n",
    "plt.title('Loss w/ Dropout = 0.2')"
   ],
   "metadata": {
    "collapsed": false,
    "ExecuteTime": {
     "end_time": "2024-12-02T22:36:24.882654Z",
     "start_time": "2024-12-02T22:36:24.591008Z"
    }
   },
   "outputs": [
    {
     "data": {
      "text/plain": [
       "Text(0.5, 1.0, 'Loss w/ Dropout = 0.2')"
      ]
     },
     "execution_count": 152,
     "metadata": {},
     "output_type": "execute_result"
    },
    {
     "data": {
      "text/plain": [
       "<Figure size 640x480 with 1 Axes>"
      ],
      "image/png": "[encoded data removed]"
     },
     "metadata": {},
     "output_type": "display_data"
    }
   ],
   "execution_count": 152
  },
  {
   "cell_type": "markdown",
   "source": [
    "## Task 6: Compute the minimum train and test loss achieved during training and report them"
   ],
   "metadata": {
    "collapsed": false
   }
  },
  {
   "cell_type": "code",
   "source": [
    "# INSERT CODE HERE\n",
    "test_loss_02 = min(test_losses)\n",
    "train_loss_02 = min(train_losses)\n",
    "print(f'Minimum Train Loss = {train_loss_02}')\n",
    "print(f'Minimum Test Loss = {test_loss_02}')"
   ],
   "metadata": {
    "collapsed": false,
    "ExecuteTime": {
     "end_time": "2024-12-02T22:36:24.938471Z",
     "start_time": "2024-12-02T22:36:24.928204Z"
    }
   },
   "outputs": [
    {
     "name": "stdout",
     "output_type": "stream",
     "text": [
      "Minimum Train Loss = 0.31557411948839825\n",
      "Minimum Test Loss = 0.4373203217983246\n"
     ]
    }
   ],
   "execution_count": 153
  },
  {
   "cell_type": "markdown",
   "source": [
    "## Task 7: Train the EEGCNNwithDropout model with a dropout rate of 0.5 for 200 epochs"
   ],
   "metadata": {
    "collapsed": false
   }
  },
  {
   "cell_type": "code",
   "source": [
    "## INSERT CODE BELOW\n",
    "\n",
    "model = EEGCNNwithDropout(input_channels, input_timepoints, num_classes, dropout=0.5)\n",
    "\n",
    "## DO NOT MODIFY THE 3 LINES BELOW\n",
    "criterion = nn.CrossEntropyLoss()\n",
    "optimizer = optim.Adam(model.parameters(), lr=0.001)\n",
    "train_losses, test_losses = run_train_loop(model, criterion, optimizer, 200)"
   ],
   "metadata": {
    "collapsed": false,
    "ExecuteTime": {
     "end_time": "2024-12-02T22:36:41.918647Z",
     "start_time": "2024-12-02T22:36:24.980611Z"
    }
   },
   "outputs": [
    {
     "name": "stdout",
     "output_type": "stream",
     "text": [
      "Epoch 1/200, Loss: 0.7300, Test Loss: 0.7711\n",
      "Epoch 2/200, Loss: 0.6973, Test Loss: 0.6559\n",
      "Epoch 3/200, Loss: 0.6419, Test Loss: 0.6066\n",
      "Epoch 4/200, Loss: 0.5763, Test Loss: 0.5901\n",
      "Epoch 5/200, Loss: 0.5397, Test Loss: 0.5692\n",
      "Epoch 6/200, Loss: 0.5058, Test Loss: 0.5568\n",
      "Epoch 7/200, Loss: 0.4785, Test Loss: 0.5583\n",
      "Epoch 8/200, Loss: 0.4582, Test Loss: 0.5589\n",
      "Epoch 9/200, Loss: 0.4605, Test Loss: 0.5257\n",
      "Epoch 10/200, Loss: 0.4328, Test Loss: 0.5503\n",
      "Epoch 11/200, Loss: 0.4430, Test Loss: 0.5270\n",
      "Epoch 12/200, Loss: 0.4311, Test Loss: 0.5035\n",
      "Epoch 13/200, Loss: 0.3960, Test Loss: 0.4851\n",
      "Epoch 14/200, Loss: 0.3996, Test Loss: 0.5022\n",
      "Epoch 15/200, Loss: 0.3994, Test Loss: 0.5132\n",
      "Epoch 16/200, Loss: 0.3924, Test Loss: 0.5174\n",
      "Epoch 17/200, Loss: 0.3789, Test Loss: 0.4970\n",
      "Epoch 18/200, Loss: 0.3789, Test Loss: 0.5159\n",
      "Epoch 19/200, Loss: 0.3571, Test Loss: 0.5233\n",
      "Epoch 20/200, Loss: 0.3710, Test Loss: 0.5181\n",
      "Epoch 21/200, Loss: 0.3643, Test Loss: 0.5169\n",
      "Epoch 22/200, Loss: 0.3841, Test Loss: 0.4930\n",
      "Epoch 23/200, Loss: 0.3626, Test Loss: 0.5024\n",
      "Epoch 24/200, Loss: 0.3869, Test Loss: 0.4707\n",
      "Epoch 25/200, Loss: 0.3780, Test Loss: 0.4999\n",
      "Epoch 26/200, Loss: 0.3668, Test Loss: 0.5100\n",
      "Epoch 27/200, Loss: 0.3621, Test Loss: 0.5170\n",
      "Epoch 28/200, Loss: 0.4015, Test Loss: 0.5006\n",
      "Epoch 29/200, Loss: 0.3585, Test Loss: 0.4981\n",
      "Epoch 30/200, Loss: 0.3574, Test Loss: 0.5009\n",
      "Epoch 31/200, Loss: 0.3456, Test Loss: 0.4863\n",
      "Epoch 32/200, Loss: 0.3443, Test Loss: 0.5105\n",
      "Epoch 33/200, Loss: 0.3479, Test Loss: 0.5140\n",
      "Epoch 34/200, Loss: 0.3419, Test Loss: 0.5041\n",
      "Epoch 35/200, Loss: 0.3422, Test Loss: 0.4938\n",
      "Epoch 36/200, Loss: 0.3422, Test Loss: 0.4850\n",
      "Epoch 37/200, Loss: 0.3487, Test Loss: 0.4893\n",
      "Epoch 38/200, Loss: 0.3368, Test Loss: 0.4852\n",
      "Epoch 39/200, Loss: 0.3302, Test Loss: 0.4753\n",
      "Epoch 40/200, Loss: 0.3409, Test Loss: 0.4879\n",
      "Epoch 41/200, Loss: 0.3330, Test Loss: 0.4501\n",
      "Epoch 42/200, Loss: 0.3381, Test Loss: 0.4605\n",
      "Epoch 43/200, Loss: 0.3363, Test Loss: 0.4654\n",
      "Epoch 44/200, Loss: 0.3272, Test Loss: 0.4505\n",
      "Epoch 45/200, Loss: 0.3318, Test Loss: 0.4689\n",
      "Epoch 46/200, Loss: 0.3301, Test Loss: 0.4955\n",
      "Epoch 47/200, Loss: 0.3313, Test Loss: 0.4730\n",
      "Epoch 48/200, Loss: 0.3250, Test Loss: 0.4769\n",
      "Epoch 49/200, Loss: 0.3315, Test Loss: 0.4548\n",
      "Epoch 50/200, Loss: 0.3230, Test Loss: 0.4803\n",
      "Epoch 51/200, Loss: 0.3229, Test Loss: 0.4912\n",
      "Epoch 52/200, Loss: 0.3273, Test Loss: 0.4680\n",
      "Epoch 53/200, Loss: 0.3235, Test Loss: 0.4677\n",
      "Epoch 54/200, Loss: 0.3310, Test Loss: 0.4675\n",
      "Epoch 55/200, Loss: 0.3271, Test Loss: 0.4912\n",
      "Epoch 56/200, Loss: 0.3254, Test Loss: 0.5025\n",
      "Epoch 57/200, Loss: 0.3339, Test Loss: 0.5004\n",
      "Epoch 58/200, Loss: 0.3317, Test Loss: 0.4724\n",
      "Epoch 59/200, Loss: 0.3259, Test Loss: 0.4487\n",
      "Epoch 60/200, Loss: 0.3188, Test Loss: 0.4638\n",
      "Epoch 61/200, Loss: 0.3230, Test Loss: 0.4615\n",
      "Epoch 62/200, Loss: 0.3286, Test Loss: 0.4798\n",
      "Epoch 63/200, Loss: 0.3187, Test Loss: 0.4793\n",
      "Epoch 64/200, Loss: 0.3234, Test Loss: 0.4982\n",
      "Epoch 65/200, Loss: 0.3190, Test Loss: 0.4978\n",
      "Epoch 66/200, Loss: 0.3201, Test Loss: 0.5055\n",
      "Epoch 67/200, Loss: 0.3188, Test Loss: 0.4830\n",
      "Epoch 68/200, Loss: 0.3395, Test Loss: 0.4822\n",
      "Epoch 69/200, Loss: 0.3329, Test Loss: 0.4972\n",
      "Epoch 70/200, Loss: 0.3353, Test Loss: 0.4832\n",
      "Epoch 71/200, Loss: 0.3381, Test Loss: 0.4499\n",
      "Epoch 72/200, Loss: 0.3241, Test Loss: 0.4915\n",
      "Epoch 73/200, Loss: 0.3308, Test Loss: 0.4826\n",
      "Epoch 74/200, Loss: 0.3253, Test Loss: 0.4813\n",
      "Epoch 75/200, Loss: 0.3361, Test Loss: 0.4643\n",
      "Epoch 76/200, Loss: 0.3192, Test Loss: 0.4832\n",
      "Epoch 77/200, Loss: 0.3331, Test Loss: 0.4518\n",
      "Epoch 78/200, Loss: 0.3204, Test Loss: 0.4527\n",
      "Epoch 79/200, Loss: 0.3231, Test Loss: 0.4509\n",
      "Epoch 80/200, Loss: 0.3220, Test Loss: 0.4720\n",
      "Epoch 81/200, Loss: 0.3194, Test Loss: 0.4630\n",
      "Epoch 82/200, Loss: 0.3203, Test Loss: 0.4576\n",
      "Epoch 83/200, Loss: 0.3189, Test Loss: 0.4538\n",
      "Epoch 84/200, Loss: 0.3174, Test Loss: 0.4667\n",
      "Epoch 85/200, Loss: 0.3394, Test Loss: 0.4653\n",
      "Epoch 86/200, Loss: 0.3197, Test Loss: 0.4683\n",
      "Epoch 87/200, Loss: 0.3234, Test Loss: 0.5170\n",
      "Epoch 88/200, Loss: 0.3180, Test Loss: 0.4911\n",
      "Epoch 89/200, Loss: 0.3190, Test Loss: 0.4803\n",
      "Epoch 90/200, Loss: 0.3222, Test Loss: 0.4772\n",
      "Epoch 91/200, Loss: 0.3350, Test Loss: 0.4938\n",
      "Epoch 92/200, Loss: 0.3186, Test Loss: 0.4540\n",
      "Epoch 93/200, Loss: 0.3217, Test Loss: 0.4519\n",
      "Epoch 94/200, Loss: 0.3176, Test Loss: 0.4494\n",
      "Epoch 95/200, Loss: 0.3197, Test Loss: 0.4390\n",
      "Epoch 96/200, Loss: 0.3183, Test Loss: 0.4516\n",
      "Epoch 97/200, Loss: 0.3146, Test Loss: 0.4377\n",
      "Epoch 98/200, Loss: 0.3166, Test Loss: 0.4473\n",
      "Epoch 99/200, Loss: 0.3174, Test Loss: 0.4399\n",
      "Epoch 100/200, Loss: 0.3160, Test Loss: 0.4472\n",
      "Epoch 101/200, Loss: 0.3208, Test Loss: 0.4660\n",
      "Epoch 102/200, Loss: 0.3367, Test Loss: 0.5290\n",
      "Epoch 103/200, Loss: 0.3310, Test Loss: 0.4914\n",
      "Epoch 104/200, Loss: 0.3323, Test Loss: 0.4954\n",
      "Epoch 105/200, Loss: 0.3251, Test Loss: 0.4729\n",
      "Epoch 106/200, Loss: 0.3163, Test Loss: 0.4818\n",
      "Epoch 107/200, Loss: 0.3238, Test Loss: 0.4908\n",
      "Epoch 108/200, Loss: 0.3316, Test Loss: 0.5013\n",
      "Epoch 109/200, Loss: 0.3243, Test Loss: 0.4782\n",
      "Epoch 110/200, Loss: 0.3521, Test Loss: 0.4496\n",
      "Epoch 111/200, Loss: 0.3306, Test Loss: 0.4598\n",
      "Epoch 112/200, Loss: 0.3169, Test Loss: 0.4661\n",
      "Epoch 113/200, Loss: 0.3136, Test Loss: 0.4729\n",
      "Epoch 114/200, Loss: 0.3174, Test Loss: 0.4804\n",
      "Epoch 115/200, Loss: 0.3195, Test Loss: 0.4697\n",
      "Epoch 116/200, Loss: 0.3182, Test Loss: 0.4729\n",
      "Epoch 117/200, Loss: 0.3300, Test Loss: 0.4484\n",
      "Epoch 118/200, Loss: 0.3302, Test Loss: 0.4448\n",
      "Epoch 119/200, Loss: 0.3174, Test Loss: 0.4712\n",
      "Epoch 120/200, Loss: 0.3142, Test Loss: 0.4570\n",
      "Epoch 121/200, Loss: 0.3184, Test Loss: 0.4579\n",
      "Epoch 122/200, Loss: 0.3217, Test Loss: 0.4536\n",
      "Epoch 123/200, Loss: 0.3234, Test Loss: 0.4481\n",
      "Epoch 124/200, Loss: 0.3162, Test Loss: 0.4501\n",
      "Epoch 125/200, Loss: 0.3175, Test Loss: 0.4691\n",
      "Epoch 126/200, Loss: 0.3186, Test Loss: 0.4715\n",
      "Epoch 127/200, Loss: 0.3191, Test Loss: 0.4647\n",
      "Epoch 128/200, Loss: 0.3240, Test Loss: 0.4460\n",
      "Epoch 129/200, Loss: 0.3231, Test Loss: 0.4338\n",
      "Epoch 130/200, Loss: 0.3146, Test Loss: 0.4731\n",
      "Epoch 131/200, Loss: 0.3180, Test Loss: 0.4435\n",
      "Epoch 132/200, Loss: 0.3159, Test Loss: 0.4425\n",
      "Epoch 133/200, Loss: 0.3192, Test Loss: 0.4516\n",
      "Epoch 134/200, Loss: 0.3173, Test Loss: 0.4632\n",
      "Epoch 135/200, Loss: 0.3168, Test Loss: 0.4703\n",
      "Epoch 136/200, Loss: 0.3210, Test Loss: 0.4738\n",
      "Epoch 137/200, Loss: 0.3179, Test Loss: 0.4511\n",
      "Epoch 138/200, Loss: 0.3136, Test Loss: 0.4521\n",
      "Epoch 139/200, Loss: 0.3138, Test Loss: 0.4639\n",
      "Epoch 140/200, Loss: 0.3202, Test Loss: 0.4487\n",
      "Epoch 141/200, Loss: 0.3201, Test Loss: 0.4387\n",
      "Epoch 142/200, Loss: 0.3166, Test Loss: 0.4440\n",
      "Epoch 143/200, Loss: 0.3139, Test Loss: 0.4536\n",
      "Epoch 144/200, Loss: 0.3135, Test Loss: 0.4455\n",
      "Epoch 145/200, Loss: 0.3133, Test Loss: 0.4450\n",
      "Epoch 146/200, Loss: 0.3160, Test Loss: 0.4458\n",
      "Epoch 147/200, Loss: 0.3134, Test Loss: 0.4475\n",
      "Epoch 148/200, Loss: 0.3133, Test Loss: 0.4489\n",
      "Epoch 149/200, Loss: 0.3191, Test Loss: 0.4518\n",
      "Epoch 150/200, Loss: 0.3133, Test Loss: 0.4562\n",
      "Epoch 151/200, Loss: 0.3133, Test Loss: 0.4560\n",
      "Epoch 152/200, Loss: 0.3137, Test Loss: 0.4388\n",
      "Epoch 153/200, Loss: 0.3135, Test Loss: 0.4601\n",
      "Epoch 154/200, Loss: 0.3155, Test Loss: 0.4431\n",
      "Epoch 155/200, Loss: 0.3139, Test Loss: 0.4592\n",
      "Epoch 156/200, Loss: 0.3145, Test Loss: 0.4613\n",
      "Epoch 157/200, Loss: 0.3149, Test Loss: 0.4497\n",
      "Epoch 158/200, Loss: 0.3147, Test Loss: 0.4446\n",
      "Epoch 159/200, Loss: 0.3145, Test Loss: 0.4353\n",
      "Epoch 160/200, Loss: 0.3134, Test Loss: 0.4430\n",
      "Epoch 161/200, Loss: 0.3166, Test Loss: 0.4345\n",
      "Epoch 162/200, Loss: 0.3151, Test Loss: 0.4453\n",
      "Epoch 163/200, Loss: 0.3155, Test Loss: 0.4463\n",
      "Epoch 164/200, Loss: 0.3135, Test Loss: 0.4720\n",
      "Epoch 165/200, Loss: 0.3141, Test Loss: 0.4540\n",
      "Epoch 166/200, Loss: 0.3158, Test Loss: 0.4313\n",
      "Epoch 167/200, Loss: 0.3165, Test Loss: 0.4575\n",
      "Epoch 168/200, Loss: 0.3257, Test Loss: 0.4656\n",
      "Epoch 169/200, Loss: 0.3134, Test Loss: 0.4802\n",
      "Epoch 170/200, Loss: 0.3194, Test Loss: 0.4477\n",
      "Epoch 171/200, Loss: 0.3244, Test Loss: 0.4715\n",
      "Epoch 172/200, Loss: 0.3567, Test Loss: 0.4080\n",
      "Epoch 173/200, Loss: 0.3431, Test Loss: 0.4698\n",
      "Epoch 174/200, Loss: 0.3413, Test Loss: 0.5047\n",
      "Epoch 175/200, Loss: 0.3532, Test Loss: 0.4528\n",
      "Epoch 176/200, Loss: 0.3317, Test Loss: 0.4620\n",
      "Epoch 177/200, Loss: 0.3294, Test Loss: 0.4951\n",
      "Epoch 178/200, Loss: 0.3376, Test Loss: 0.5052\n",
      "Epoch 179/200, Loss: 0.3286, Test Loss: 0.4977\n",
      "Epoch 180/200, Loss: 0.3248, Test Loss: 0.4722\n",
      "Epoch 181/200, Loss: 0.3133, Test Loss: 0.4775\n",
      "Epoch 182/200, Loss: 0.3191, Test Loss: 0.4726\n",
      "Epoch 183/200, Loss: 0.3217, Test Loss: 0.4624\n",
      "Epoch 184/200, Loss: 0.3346, Test Loss: 0.4665\n",
      "Epoch 185/200, Loss: 0.3229, Test Loss: 0.4499\n",
      "Epoch 186/200, Loss: 0.3142, Test Loss: 0.4512\n",
      "Epoch 187/200, Loss: 0.3149, Test Loss: 0.4523\n",
      "Epoch 188/200, Loss: 0.3134, Test Loss: 0.4327\n",
      "Epoch 189/200, Loss: 0.3161, Test Loss: 0.4426\n",
      "Epoch 190/200, Loss: 0.3144, Test Loss: 0.4536\n",
      "Epoch 191/200, Loss: 0.3227, Test Loss: 0.4625\n",
      "Epoch 192/200, Loss: 0.3133, Test Loss: 0.4694\n",
      "Epoch 193/200, Loss: 0.3206, Test Loss: 0.4985\n",
      "Epoch 194/200, Loss: 0.3157, Test Loss: 0.5146\n",
      "Epoch 195/200, Loss: 0.3180, Test Loss: 0.4945\n",
      "Epoch 196/200, Loss: 0.3156, Test Loss: 0.4781\n",
      "Epoch 197/200, Loss: 0.3236, Test Loss: 0.4870\n",
      "Epoch 198/200, Loss: 0.3221, Test Loss: 0.4741\n",
      "Epoch 199/200, Loss: 0.3359, Test Loss: 0.4974\n",
      "Epoch 200/200, Loss: 0.3276, Test Loss: 0.4975\n"
     ]
    }
   ],
   "execution_count": 154
  },
  {
   "cell_type": "markdown",
   "source": [
    "## Task 8: Plot the training and test loss (overlaid) on the vertical axis and the epoch number on the horizontal axis"
   ],
   "metadata": {
    "collapsed": false
   }
  },
  {
   "cell_type": "code",
   "source": [
    "# INSERT CODE HERE\n",
    "plt.figure()\n",
    "plt.plot(train_losses,label = 'Train Loss')\n",
    "plt.plot(test_losses,label='Test Loss')\n",
    "plt.legend()\n",
    "plt.xlabel('Epoch')\n",
    "plt.ylabel('Loss')\n",
    "plt.title('Loss w/ Dropout = 0.5')"
   ],
   "metadata": {
    "collapsed": false,
    "ExecuteTime": {
     "end_time": "2024-12-02T22:36:42.244177Z",
     "start_time": "2024-12-02T22:36:41.969274Z"
    }
   },
   "outputs": [
    {
     "data": {
      "text/plain": [
       "Text(0.5, 1.0, 'Loss w/ Dropout = 0.5')"
      ]
     },
     "execution_count": 155,
     "metadata": {},
     "output_type": "execute_result"
    },
    {
     "data": {
      "text/plain": [
       "<Figure size 640x480 with 1 Axes>"
      ],
      "image/png": "[encoded data removed]"
     },
     "metadata": {},
     "output_type": "display_data"
    }
   ],
   "execution_count": 155
  },
  {
   "cell_type": "markdown",
   "source": [
    "## Task 9: Compute the minimum train and test loss achieved during training and report them"
   ],
   "metadata": {
    "collapsed": false
   }
  },
  {
   "cell_type": "code",
   "source": [
    "# INSERT CODE HERE\n",
    "test_loss_05 = min(test_losses)\n",
    "train_loss_05 = min(train_losses)\n",
    "print(f'Minimum Train Loss = {train_loss_05}')\n",
    "print(f'Minimum Test Loss = {test_loss_05}')\n"
   ],
   "metadata": {
    "collapsed": false,
    "ExecuteTime": {
     "end_time": "2024-12-02T22:36:42.308895Z",
     "start_time": "2024-12-02T22:36:42.292808Z"
    }
   },
   "outputs": [
    {
     "name": "stdout",
     "output_type": "stream",
     "text": [
      "Minimum Train Loss = 0.31327561537424725\n",
      "Minimum Test Loss = 0.40800488988558453\n"
     ]
    }
   ],
   "execution_count": 156
  },
  {
   "cell_type": "markdown",
   "source": [
    "## Task 10: Repeat Tasks 7-9 for a dropout rate of 0.8\n",
    "Report your observations. What do you notice about the train and test loss as the dropout rate increases?"
   ],
   "metadata": {
    "collapsed": false
   }
  },
  {
   "cell_type": "code",
   "source": [
    "## INSERT CODE BELOW\n",
    "model = EEGCNNwithDropout(input_channels, input_timepoints, num_classes, dropout=0.8)\n",
    "\n",
    "criterion = nn.CrossEntropyLoss()\n",
    "optimizer = optim.Adam(model.parameters(), lr=0.001)\n",
    "train_losses, test_losses = run_train_loop(model, criterion, optimizer, 200)\n",
    "\n",
    "plt.figure()\n",
    "plt.plot(train_losses,label = 'Train Loss')\n",
    "plt.plot(test_losses,label='Test Loss')\n",
    "plt.legend()\n",
    "plt.xlabel('Epoch')\n",
    "plt.ylabel('Loss')\n",
    "plt.title('Loss w/ Dropout = 0.8')\n",
    "test_loss_08 = min(test_losses)\n",
    "train_loss_08 = min(train_losses)\n",
    "print(f'Minimum Train Loss = {train_loss_08}')\n",
    "print(f'Minimum Test Loss = {test_loss_08}')"
   ],
   "metadata": {
    "collapsed": false,
    "ExecuteTime": {
     "end_time": "2024-12-02T22:37:00.007689Z",
     "start_time": "2024-12-02T22:36:42.358959Z"
    }
   },
   "outputs": [
    {
     "name": "stdout",
     "output_type": "stream",
     "text": [
      "Epoch 1/200, Loss: 0.7747, Test Loss: 0.6800\n",
      "Epoch 2/200, Loss: 0.7540, Test Loss: 0.6727\n",
      "Epoch 3/200, Loss: 0.7426, Test Loss: 0.6807\n",
      "Epoch 4/200, Loss: 0.7256, Test Loss: 0.6707\n",
      "Epoch 5/200, Loss: 0.7074, Test Loss: 0.6609\n",
      "Epoch 6/200, Loss: 0.6995, Test Loss: 0.6585\n",
      "Epoch 7/200, Loss: 0.7020, Test Loss: 0.6597\n",
      "Epoch 8/200, Loss: 0.7116, Test Loss: 0.6587\n",
      "Epoch 9/200, Loss: 0.6698, Test Loss: 0.6605\n",
      "Epoch 10/200, Loss: 0.6882, Test Loss: 0.6539\n",
      "Epoch 11/200, Loss: 0.6695, Test Loss: 0.6429\n",
      "Epoch 12/200, Loss: 0.6523, Test Loss: 0.6276\n",
      "Epoch 13/200, Loss: 0.6425, Test Loss: 0.6124\n",
      "Epoch 14/200, Loss: 0.6068, Test Loss: 0.6106\n",
      "Epoch 15/200, Loss: 0.5988, Test Loss: 0.5953\n",
      "Epoch 16/200, Loss: 0.6101, Test Loss: 0.5844\n",
      "Epoch 17/200, Loss: 0.6208, Test Loss: 0.5604\n",
      "Epoch 18/200, Loss: 0.6067, Test Loss: 0.5572\n",
      "Epoch 19/200, Loss: 0.5662, Test Loss: 0.5551\n",
      "Epoch 20/200, Loss: 0.5577, Test Loss: 0.5370\n",
      "Epoch 21/200, Loss: 0.5673, Test Loss: 0.5340\n",
      "Epoch 22/200, Loss: 0.5396, Test Loss: 0.5549\n",
      "Epoch 23/200, Loss: 0.5414, Test Loss: 0.5159\n",
      "Epoch 24/200, Loss: 0.5334, Test Loss: 0.5038\n",
      "Epoch 25/200, Loss: 0.5085, Test Loss: 0.4814\n",
      "Epoch 26/200, Loss: 0.4772, Test Loss: 0.5087\n",
      "Epoch 27/200, Loss: 0.4711, Test Loss: 0.5195\n",
      "Epoch 28/200, Loss: 0.5030, Test Loss: 0.5320\n",
      "Epoch 29/200, Loss: 0.4928, Test Loss: 0.5111\n",
      "Epoch 30/200, Loss: 0.4603, Test Loss: 0.5155\n",
      "Epoch 31/200, Loss: 0.4598, Test Loss: 0.4784\n",
      "Epoch 32/200, Loss: 0.4684, Test Loss: 0.4955\n",
      "Epoch 33/200, Loss: 0.4754, Test Loss: 0.5512\n",
      "Epoch 34/200, Loss: 0.4376, Test Loss: 0.5253\n",
      "Epoch 35/200, Loss: 0.4497, Test Loss: 0.4996\n",
      "Epoch 36/200, Loss: 0.4309, Test Loss: 0.4821\n",
      "Epoch 37/200, Loss: 0.4366, Test Loss: 0.4967\n",
      "Epoch 38/200, Loss: 0.4262, Test Loss: 0.4736\n",
      "Epoch 39/200, Loss: 0.4138, Test Loss: 0.5132\n",
      "Epoch 40/200, Loss: 0.4232, Test Loss: 0.4973\n",
      "Epoch 41/200, Loss: 0.4168, Test Loss: 0.4863\n",
      "Epoch 42/200, Loss: 0.4158, Test Loss: 0.4731\n",
      "Epoch 43/200, Loss: 0.4296, Test Loss: 0.5331\n",
      "Epoch 44/200, Loss: 0.4049, Test Loss: 0.4939\n",
      "Epoch 45/200, Loss: 0.4113, Test Loss: 0.5037\n",
      "Epoch 46/200, Loss: 0.4135, Test Loss: 0.5050\n",
      "Epoch 47/200, Loss: 0.4163, Test Loss: 0.4951\n",
      "Epoch 48/200, Loss: 0.3982, Test Loss: 0.4810\n",
      "Epoch 49/200, Loss: 0.4191, Test Loss: 0.4981\n",
      "Epoch 50/200, Loss: 0.3974, Test Loss: 0.5422\n",
      "Epoch 51/200, Loss: 0.3969, Test Loss: 0.4771\n",
      "Epoch 52/200, Loss: 0.4208, Test Loss: 0.5086\n",
      "Epoch 53/200, Loss: 0.4001, Test Loss: 0.4967\n",
      "Epoch 54/200, Loss: 0.3867, Test Loss: 0.4679\n",
      "Epoch 55/200, Loss: 0.3820, Test Loss: 0.5011\n",
      "Epoch 56/200, Loss: 0.4066, Test Loss: 0.5069\n",
      "Epoch 57/200, Loss: 0.3922, Test Loss: 0.4796\n",
      "Epoch 58/200, Loss: 0.3745, Test Loss: 0.4702\n",
      "Epoch 59/200, Loss: 0.3842, Test Loss: 0.4695\n",
      "Epoch 60/200, Loss: 0.3977, Test Loss: 0.4335\n",
      "Epoch 61/200, Loss: 0.3776, Test Loss: 0.4933\n",
      "Epoch 62/200, Loss: 0.3998, Test Loss: 0.4802\n",
      "Epoch 63/200, Loss: 0.3842, Test Loss: 0.4812\n",
      "Epoch 64/200, Loss: 0.4032, Test Loss: 0.4806\n",
      "Epoch 65/200, Loss: 0.3691, Test Loss: 0.4741\n",
      "Epoch 66/200, Loss: 0.3744, Test Loss: 0.4855\n",
      "Epoch 67/200, Loss: 0.3802, Test Loss: 0.5129\n",
      "Epoch 68/200, Loss: 0.3666, Test Loss: 0.4596\n",
      "Epoch 69/200, Loss: 0.3862, Test Loss: 0.4424\n",
      "Epoch 70/200, Loss: 0.3925, Test Loss: 0.4643\n",
      "Epoch 71/200, Loss: 0.3815, Test Loss: 0.4785\n",
      "Epoch 72/200, Loss: 0.3957, Test Loss: 0.4974\n",
      "Epoch 73/200, Loss: 0.4500, Test Loss: 0.4907\n",
      "Epoch 74/200, Loss: 0.4279, Test Loss: 0.4979\n",
      "Epoch 75/200, Loss: 0.4158, Test Loss: 0.5057\n",
      "Epoch 76/200, Loss: 0.3691, Test Loss: 0.4991\n",
      "Epoch 77/200, Loss: 0.3773, Test Loss: 0.4988\n",
      "Epoch 78/200, Loss: 0.3720, Test Loss: 0.5019\n",
      "Epoch 79/200, Loss: 0.3739, Test Loss: 0.4855\n",
      "Epoch 80/200, Loss: 0.3687, Test Loss: 0.4707\n",
      "Epoch 81/200, Loss: 0.3849, Test Loss: 0.5072\n",
      "Epoch 82/200, Loss: 0.3812, Test Loss: 0.5088\n",
      "Epoch 83/200, Loss: 0.3826, Test Loss: 0.4793\n",
      "Epoch 84/200, Loss: 0.3587, Test Loss: 0.4939\n",
      "Epoch 85/200, Loss: 0.3496, Test Loss: 0.5142\n",
      "Epoch 86/200, Loss: 0.3685, Test Loss: 0.5075\n",
      "Epoch 87/200, Loss: 0.3637, Test Loss: 0.4960\n",
      "Epoch 88/200, Loss: 0.3668, Test Loss: 0.4962\n",
      "Epoch 89/200, Loss: 0.3570, Test Loss: 0.4587\n",
      "Epoch 90/200, Loss: 0.3559, Test Loss: 0.4391\n",
      "Epoch 91/200, Loss: 0.3886, Test Loss: 0.4748\n",
      "Epoch 92/200, Loss: 0.3562, Test Loss: 0.4877\n",
      "Epoch 93/200, Loss: 0.3665, Test Loss: 0.4679\n",
      "Epoch 94/200, Loss: 0.3629, Test Loss: 0.4566\n",
      "Epoch 95/200, Loss: 0.3706, Test Loss: 0.4617\n",
      "Epoch 96/200, Loss: 0.3609, Test Loss: 0.4577\n",
      "Epoch 97/200, Loss: 0.3555, Test Loss: 0.4744\n",
      "Epoch 98/200, Loss: 0.3568, Test Loss: 0.4488\n",
      "Epoch 99/200, Loss: 0.3672, Test Loss: 0.4389\n",
      "Epoch 100/200, Loss: 0.3931, Test Loss: 0.5217\n",
      "Epoch 101/200, Loss: 0.3878, Test Loss: 0.5135\n",
      "Epoch 102/200, Loss: 0.3892, Test Loss: 0.4518\n",
      "Epoch 103/200, Loss: 0.3894, Test Loss: 0.4120\n",
      "Epoch 104/200, Loss: 0.3964, Test Loss: 0.4334\n",
      "Epoch 105/200, Loss: 0.3598, Test Loss: 0.4345\n",
      "Epoch 106/200, Loss: 0.3628, Test Loss: 0.4768\n",
      "Epoch 107/200, Loss: 0.3601, Test Loss: 0.4854\n",
      "Epoch 108/200, Loss: 0.3697, Test Loss: 0.4600\n",
      "Epoch 109/200, Loss: 0.3649, Test Loss: 0.4641\n",
      "Epoch 110/200, Loss: 0.3728, Test Loss: 0.4953\n",
      "Epoch 111/200, Loss: 0.3882, Test Loss: 0.4400\n",
      "Epoch 112/200, Loss: 0.4363, Test Loss: 0.4153\n",
      "Epoch 113/200, Loss: 0.3865, Test Loss: 0.4584\n",
      "Epoch 114/200, Loss: 0.3806, Test Loss: 0.5232\n",
      "Epoch 115/200, Loss: 0.3707, Test Loss: 0.4786\n",
      "Epoch 116/200, Loss: 0.3677, Test Loss: 0.4867\n",
      "Epoch 117/200, Loss: 0.3699, Test Loss: 0.5056\n",
      "Epoch 118/200, Loss: 0.4439, Test Loss: 0.5667\n",
      "Epoch 119/200, Loss: 0.4302, Test Loss: 0.5563\n",
      "Epoch 120/200, Loss: 0.3932, Test Loss: 0.5241\n",
      "Epoch 121/200, Loss: 0.3776, Test Loss: 0.5132\n",
      "Epoch 122/200, Loss: 0.4047, Test Loss: 0.5307\n",
      "Epoch 123/200, Loss: 0.3832, Test Loss: 0.5383\n",
      "Epoch 124/200, Loss: 0.3668, Test Loss: 0.4962\n",
      "Epoch 125/200, Loss: 0.3749, Test Loss: 0.5262\n",
      "Epoch 126/200, Loss: 0.3630, Test Loss: 0.4811\n",
      "Epoch 127/200, Loss: 0.3607, Test Loss: 0.5016\n",
      "Epoch 128/200, Loss: 0.3597, Test Loss: 0.4768\n",
      "Epoch 129/200, Loss: 0.3782, Test Loss: 0.4545\n",
      "Epoch 130/200, Loss: 0.3548, Test Loss: 0.4361\n",
      "Epoch 131/200, Loss: 0.4344, Test Loss: 0.5184\n",
      "Epoch 132/200, Loss: 0.3877, Test Loss: 0.5212\n",
      "Epoch 133/200, Loss: 0.3815, Test Loss: 0.4718\n",
      "Epoch 134/200, Loss: 0.3794, Test Loss: 0.4858\n",
      "Epoch 135/200, Loss: 0.3890, Test Loss: 0.4656\n",
      "Epoch 136/200, Loss: 0.3607, Test Loss: 0.5030\n",
      "Epoch 137/200, Loss: 0.3613, Test Loss: 0.4951\n",
      "Epoch 138/200, Loss: 0.3562, Test Loss: 0.4809\n",
      "Epoch 139/200, Loss: 0.3721, Test Loss: 0.5344\n",
      "Epoch 140/200, Loss: 0.3891, Test Loss: 0.5157\n",
      "Epoch 141/200, Loss: 0.3678, Test Loss: 0.5211\n",
      "Epoch 142/200, Loss: 0.3475, Test Loss: 0.4805\n",
      "Epoch 143/200, Loss: 0.3702, Test Loss: 0.5481\n",
      "Epoch 144/200, Loss: 0.4159, Test Loss: 0.5478\n",
      "Epoch 145/200, Loss: 0.4064, Test Loss: 0.4612\n",
      "Epoch 146/200, Loss: 0.3961, Test Loss: 0.4410\n",
      "Epoch 147/200, Loss: 0.3864, Test Loss: 0.4344\n",
      "Epoch 148/200, Loss: 0.4012, Test Loss: 0.4623\n",
      "Epoch 149/200, Loss: 0.3877, Test Loss: 0.5337\n",
      "Epoch 150/200, Loss: 0.3711, Test Loss: 0.4541\n",
      "Epoch 151/200, Loss: 0.3625, Test Loss: 0.4540\n",
      "Epoch 152/200, Loss: 0.3488, Test Loss: 0.4491\n",
      "Epoch 153/200, Loss: 0.3727, Test Loss: 0.4909\n",
      "Epoch 154/200, Loss: 0.3924, Test Loss: 0.5339\n",
      "Epoch 155/200, Loss: 0.3895, Test Loss: 0.5018\n",
      "Epoch 156/200, Loss: 0.3766, Test Loss: 0.4374\n",
      "Epoch 157/200, Loss: 0.3830, Test Loss: 0.4802\n",
      "Epoch 158/200, Loss: 0.3647, Test Loss: 0.4837\n",
      "Epoch 159/200, Loss: 0.3584, Test Loss: 0.4719\n",
      "Epoch 160/200, Loss: 0.3449, Test Loss: 0.4763\n",
      "Epoch 161/200, Loss: 0.3597, Test Loss: 0.4569\n",
      "Epoch 162/200, Loss: 0.3413, Test Loss: 0.4558\n",
      "Epoch 163/200, Loss: 0.3655, Test Loss: 0.4526\n",
      "Epoch 164/200, Loss: 0.3412, Test Loss: 0.4312\n",
      "Epoch 165/200, Loss: 0.3662, Test Loss: 0.4418\n",
      "Epoch 166/200, Loss: 0.3425, Test Loss: 0.4668\n",
      "Epoch 167/200, Loss: 0.3479, Test Loss: 0.4525\n",
      "Epoch 168/200, Loss: 0.3714, Test Loss: 0.4798\n",
      "Epoch 169/200, Loss: 0.3539, Test Loss: 0.4403\n",
      "Epoch 170/200, Loss: 0.3596, Test Loss: 0.4713\n",
      "Epoch 171/200, Loss: 0.4002, Test Loss: 0.5575\n",
      "Epoch 172/200, Loss: 0.5618, Test Loss: 0.5470\n",
      "Epoch 173/200, Loss: 0.4484, Test Loss: 0.4974\n",
      "Epoch 174/200, Loss: 0.3832, Test Loss: 0.4861\n",
      "Epoch 175/200, Loss: 0.3919, Test Loss: 0.4630\n",
      "Epoch 176/200, Loss: 0.3890, Test Loss: 0.4858\n",
      "Epoch 177/200, Loss: 0.3519, Test Loss: 0.4678\n",
      "Epoch 178/200, Loss: 0.3669, Test Loss: 0.4830\n",
      "Epoch 179/200, Loss: 0.3549, Test Loss: 0.4620\n",
      "Epoch 180/200, Loss: 0.3550, Test Loss: 0.4610\n",
      "Epoch 181/200, Loss: 0.3498, Test Loss: 0.4526\n",
      "Epoch 182/200, Loss: 0.3520, Test Loss: 0.4490\n",
      "Epoch 183/200, Loss: 0.3586, Test Loss: 0.4450\n",
      "Epoch 184/200, Loss: 0.3566, Test Loss: 0.4404\n",
      "Epoch 185/200, Loss: 0.3442, Test Loss: 0.4417\n",
      "Epoch 186/200, Loss: 0.3522, Test Loss: 0.4554\n",
      "Epoch 187/200, Loss: 0.3724, Test Loss: 0.4203\n",
      "Epoch 188/200, Loss: 0.3524, Test Loss: 0.4402\n",
      "Epoch 189/200, Loss: 0.3527, Test Loss: 0.5305\n",
      "Epoch 190/200, Loss: 0.3827, Test Loss: 0.5243\n",
      "Epoch 191/200, Loss: 0.3814, Test Loss: 0.5221\n",
      "Epoch 192/200, Loss: 0.3695, Test Loss: 0.4623\n",
      "Epoch 193/200, Loss: 0.3758, Test Loss: 0.4526\n",
      "Epoch 194/200, Loss: 0.3946, Test Loss: 0.4333\n",
      "Epoch 195/200, Loss: 0.3813, Test Loss: 0.4821\n",
      "Epoch 196/200, Loss: 0.3922, Test Loss: 0.5446\n",
      "Epoch 197/200, Loss: 0.4005, Test Loss: 0.5358\n",
      "Epoch 198/200, Loss: 0.3725, Test Loss: 0.4377\n",
      "Epoch 199/200, Loss: 0.3638, Test Loss: 0.4648\n",
      "Epoch 200/200, Loss: 0.4180, Test Loss: 0.4834\n",
      "Minimum Train Loss = 0.34119663387537\n",
      "Minimum Test Loss = 0.4119544525941213\n"
     ]
    },
    {
     "data": {
      "text/plain": [
       "<Figure size 640x480 with 1 Axes>"
      ],
      "image/png": "[encoded data removed]"
     },
     "metadata": {},
     "output_type": "display_data"
    }
   ],
   "execution_count": 157
  },
  {
   "metadata": {
    "ExecuteTime": {
     "end_time": "2024-12-02T22:37:00.114987Z",
     "start_time": "2024-12-02T22:37:00.090815Z"
    }
   },
   "cell_type": "code",
   "source": [
    "losses = {00:[test_loss_00,train_loss_00],0.2:[test_loss_02,train_loss_02],0.5:[test_loss_05,train_loss_05],0.8:[test_loss_08,train_loss_08]}\n",
    "losses\n",
    "\n",
    "##Based on the evidence, there seems to be a sweet-spot for dropout probability that results in the lowest test set loss, which is 0.5. Too much probability introduces too much noise and makes it very difficult to learn patterns. Too little and the model isn't as robust and may be subject to overfitting. More tweaking and fine-tuning can be used to find the best dropout rate."
   ],
   "outputs": [
    {
     "data": {
      "text/plain": [
       "{0: [0.5268478989601135, 0.32107144097487134],\n",
       " 0.2: [0.4373203217983246, 0.31557411948839825],\n",
       " 0.5: [0.40800488988558453, 0.31327561537424725],\n",
       " 0.8: [0.4119544525941213, 0.34119663387537]}"
      ]
     },
     "execution_count": 158,
     "metadata": {},
     "output_type": "execute_result"
    }
   ],
   "execution_count": 158
  }
 ],
 "metadata": {
  "kernelspec": {
   "display_name": "Python 3",
   "language": "python",
   "name": "python3"
  },
  "language_info": {
   "codemirror_mode": {
    "name": "ipython",
    "version": 2
   },
   "file_extension": ".py",
   "mimetype": "text/x-python",
   "name": "python",
   "nbconvert_exporter": "python",
   "pygments_lexer": "ipython2",
   "version": "2.7.6"
  }
 },
 "nbformat": 4,
 "nbformat_minor": 0
}
