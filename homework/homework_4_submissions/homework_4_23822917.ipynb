{
 "cells": [
  {
   "metadata": {},
   "cell_type": "markdown",
   "source": [
    "## BME i9400\n",
    "## Fall 2024\n",
    "### Homework 4: Stratified K-Fold Cross Validation and L2 Regularized Logistic Regression\n",
    "\n",
    "\n",
    "**Due date: Wednesday, November 13th 2024, 11:59:59.987 PM EST**"
   ],
   "id": "3ea5586e8ec07d2a"
  },
  {
   "metadata": {},
   "cell_type": "markdown",
   "source": [
    "In this homework, you will implement a logistic regression model with L2 regularization, and evaluate it using stratified K-Fold cross-validation.\n",
    "\n",
    "Stratification refers to the process of rearranging the data so as to ensure that each fold is a good representative of the whole. For example, in a binary classification problem where each class comprises 50% of the data, it is best to arrange the data such that in every fold, each class comprises around half the instances.\n",
    "\n",
    "In the cells below, I have indicated places where code needs to be added with instructions contained in double hashtags (for example ## DO SOMETHING ##). "
   ],
   "id": "988ec8373a3b0322"
  },
  {
   "metadata": {
    "ExecuteTime": {
     "end_time": "2024-11-04T22:26:45.063015Z",
     "start_time": "2024-11-04T22:26:45.047100Z"
    }
   },
   "cell_type": "code",
   "source": [
    "from cProfile import label\n",
    "\n",
    "import pandas as pd\n",
    "import numpy as np\n",
    "from sklearn.linear_model import LogisticRegression\n",
    "from sklearn.metrics import accuracy_score, roc_auc_score, average_precision_score\n",
    "from sklearn.model_selection import StratifiedKFold\n",
    "import matplotlib.pyplot as plt"
   ],
   "id": "da66d1fc1d9b1e04",
   "outputs": [],
   "execution_count": 60
  },
  {
   "metadata": {},
   "cell_type": "markdown",
   "source": "### Set the random seed",
   "id": "f250309267459d66"
  },
  {
   "metadata": {
    "ExecuteTime": {
     "end_time": "2024-11-04T22:26:45.186930Z",
     "start_time": "2024-11-04T22:26:45.171442Z"
    }
   },
   "cell_type": "code",
   "source": [
    "## DO NOT MODIFY THIS CELL\n",
    "np.random.seed(42)"
   ],
   "id": "53cc836374ec343",
   "outputs": [],
   "execution_count": 61
  },
  {
   "metadata": {},
   "cell_type": "markdown",
   "source": "### Load the data",
   "id": "2c52ae0010f2fa1b"
  },
  {
   "metadata": {
    "ExecuteTime": {
     "end_time": "2024-11-04T22:26:45.336184Z",
     "start_time": "2024-11-04T22:26:45.290499Z"
    }
   },
   "cell_type": "code",
   "source": [
    "## DO NOT MODIFY THIS CELL\n",
    "df = pd.read_csv('parkinsons.csv')\n",
    "labels = df[\"status\"].values\n",
    "features = df.drop(columns=[\"status\", \"name\"]).values\n",
    "features.shape, labels.shape"
   ],
   "id": "a519a5858bfe2a6",
   "outputs": [
    {
     "data": {
      "text/plain": [
       "((195, 22), (195,))"
      ]
     },
     "execution_count": 62,
     "metadata": {},
     "output_type": "execute_result"
    }
   ],
   "execution_count": 62
  },
  {
   "metadata": {},
   "cell_type": "markdown",
   "source": "### Create an instance of the StratifiedKFold class with 5 folds",
   "id": "c2fc0a50d14adbd9"
  },
  {
   "metadata": {
    "ExecuteTime": {
     "end_time": "2024-11-04T22:26:45.397102Z",
     "start_time": "2024-11-04T22:26:45.378091Z"
    }
   },
   "cell_type": "code",
   "source": [
    "## DO NOT MODIFY THIS CELL\n",
    "skf = StratifiedKFold(n_splits=5)"
   ],
   "id": "8c611a46d69fa289",
   "outputs": [],
   "execution_count": 63
  },
  {
   "metadata": {},
   "cell_type": "markdown",
   "source": [
    "### Task 1 \n",
    "**Evaluate a logistic regression model on this dataset using 5-fold stratified cross-validation.**\n",
    "- You should use the model object created in the above cell\n",
    "- Do not regularize the classifier!\n",
    "- Use a value for ```max_iter``` of 10000 and disregard any convergence warnings\n",
    "- For each of the five folds, compute the area under the ROC curve and the average precision, storing each of them in a list\n",
    "- Report the average area under the ROC curve and the average average precision across the five folds"
   ],
   "id": "8d0035edb6a0aa77"
  },
  {
   "metadata": {
    "ExecuteTime": {
     "end_time": "2024-11-04T22:26:47.216982Z",
     "start_time": "2024-11-04T22:26:45.438819Z"
    }
   },
   "cell_type": "code",
   "source": [
    "rocs = []\n",
    "prcs = []\n",
    "\n",
    "## Add code for cross-validation here\n",
    "for train_index, test_index in skf.split(features, labels):\n",
    "    X_train, X_test = features[train_index], features[test_index]\n",
    "    y_train, y_test = labels[train_index], labels[test_index]\n",
    "    model = LogisticRegression(solver='saga', max_iter = 10000)\n",
    "    model.fit(X_train, y_train)\n",
    "    y_hat = model.predict(X_test)\n",
    "    rocs.append(roc_auc_score(y_test, y_hat))\n",
    "    prcs.append(average_precision_score(y_test, y_hat))\n",
    "    \n",
    "## Report AUROC and average precision here\n",
    "print(f'Average AUROC = {sum(rocs)/len(rocs)}')\n",
    "print(f'Average Precision = {sum(prcs)/len(prcs)}')"
   ],
   "id": "e14b23f3e48402e3",
   "outputs": [
    {
     "name": "stdout",
     "output_type": "stream",
     "text": [
      "Average AUROC = 0.5933333333333334\n",
      "Average Precision = 0.7917018117018118\n"
     ]
    }
   ],
   "execution_count": 64
  },
  {
   "metadata": {},
   "cell_type": "markdown",
   "source": [
    "### Task 2\n",
    "**Repeat Task 1, but this time adding L2 to the logistic regression model.**\n",
    "- You must evaluate the following values for the hyperparameter ```C```\n",
    "    - C: 0.01, 0.1, 1, 10, 100, 1000, 10000\n",
    "- For each hyperparameter value, compute the average area under the ROC curve and the average average precision across the five folds, and store them in a list or numpy array\n",
    "- Use a sufficiently large value for the ```max_iter``` parameter of the LogisticRegression class to avoid convergence warnings.\n",
    "- Report the highest value of the average area under the ROC curve and the average average precision.\n",
    "- Also report the hyperparameters that yield the best average area under the ROC curve and the average average precision.\n",
    "- Create a plot with L2 hyperparameter on the x-axis, and average ROC and average precision on the y-axis (overlaid) -- use a logarithmic scale for the x-axis.\n"
   ],
   "id": "203a1d97a81a253f"
  },
  {
   "metadata": {
    "ExecuteTime": {
     "end_time": "2024-11-04T22:26:56.974997Z",
     "start_time": "2024-11-04T22:26:47.280696Z"
    }
   },
   "cell_type": "code",
   "source": [
    "cc = [0.001, 0.01, 0.1, 1, 10, 100, 1000, 10000]\n",
    "rocs = np.zeros(shape = (len(cc), 5))\n",
    "prcs = np.zeros(shape = (len(cc), 5))\n",
    "\n",
    "## Add code for cross-validation here\n",
    "for i, c in enumerate(cc):\n",
    "    fold = 0\n",
    "    for train_index, test_index in skf.split(features, labels):\n",
    "        X_train, X_test = features[train_index], features[test_index]\n",
    "        y_train, y_test = labels[train_index], labels[test_index]\n",
    "        model = LogisticRegression(solver='saga', max_iter = 10000, C = c, penalty='l2')\n",
    "        model.fit(X_train, y_train)\n",
    "        y_hat = model.predict(X_test)\n",
    "        rocs[i][fold] = roc_auc_score(y_test, y_hat)\n",
    "        prcs[i][fold] = average_precision_score(y_test, y_hat)\n",
    "        fold += 1\n"
   ],
   "id": "5d6387d686c48f42",
   "outputs": [],
   "execution_count": 65
  },
  {
   "metadata": {
    "ExecuteTime": {
     "end_time": "2024-11-04T22:26:57.037850Z",
     "start_time": "2024-11-04T22:26:57.022211Z"
    }
   },
   "cell_type": "code",
   "source": [
    "## Compute the average auroc and average average precision for each value of cc\n",
    "avg_auroc = list(sum(rocs[i])/len(rocs[i]) for i in range(rocs.shape[0]))\n",
    "avg_prec = list(sum(prcs[i])/len(prcs[i]) for i in range(prcs.shape[0]))\n",
    "\n",
    "print(f'Average AUROC for Each Value of cc: {avg_auroc}')\n",
    "print(f'Average Precision for Each Value of cc: {avg_prec}')\n",
    "## Report the highest values of the average auroc and average average precision here\n",
    "print(f'Highest Average AUROC is {max(avg_auroc)}')\n",
    "print(f'Highest Average Precision is {max(avg_prec)}')"
   ],
   "id": "26c79fb5d354e402",
   "outputs": [
    {
     "name": "stdout",
     "output_type": "stream",
     "text": [
      "Average AUROC for Each Value of cc: [0.5, 0.52, 0.5822222222222222, 0.5933333333333334, 0.5933333333333334, 0.6033333333333333, 0.6033333333333333, 0.6033333333333333]\n",
      "Average Precision for Each Value of cc: [0.7538461538461538, 0.7616734143049932, 0.7871973071973073, 0.7917018117018118, 0.7917018117018118, 0.7965757612816436, 0.7965757612816436, 0.7965757612816436]\n",
      "Highest Average AUROC is 0.6033333333333333\n",
      "Highest Average Precision is 0.7965757612816436\n"
     ]
    }
   ],
   "execution_count": 66
  },
  {
   "metadata": {
    "ExecuteTime": {
     "end_time": "2024-11-04T22:26:57.609115Z",
     "start_time": "2024-11-04T22:26:57.069098Z"
    }
   },
   "cell_type": "code",
   "source": [
    "## Create the plot here\n",
    "plt.figure()\n",
    "plt.semilogx(cc, avg_prec, label = 'Avg Precision')\n",
    "plt.semilogx(cc, avg_auroc, label = 'Avg AUROC')\n",
    "plt.xlabel('C Hyperparameter (log scale)')\n",
    "plt.title('ROC and Prec vs. L2 C Hyperparameter')\n",
    "plt.legend()"
   ],
   "id": "48c3c53e1f1656b9",
   "outputs": [
    {
     "data": {
      "text/plain": [
       "<matplotlib.legend.Legend at 0x2a8a1a4ffd0>"
      ]
     },
     "execution_count": 67,
     "metadata": {},
     "output_type": "execute_result"
    },
    {
     "data": {
      "text/plain": [
       "<Figure size 640x480 with 1 Axes>"
      ],
      "image/png": "[encoded data removed]"
     },
     "metadata": {},
     "output_type": "display_data"
    }
   ],
   "execution_count": 67
  }
 ],
 "metadata": {
  "kernelspec": {
   "display_name": "Python 3",
   "language": "python",
   "name": "python3"
  },
  "language_info": {
   "codemirror_mode": {
    "name": "ipython",
    "version": 2
   },
   "file_extension": ".py",
   "mimetype": "text/x-python",
   "name": "python",
   "nbconvert_exporter": "python",
   "pygments_lexer": "ipython2",
   "version": "2.7.6"
  }
 },
 "nbformat": 4,
 "nbformat_minor": 5
}
