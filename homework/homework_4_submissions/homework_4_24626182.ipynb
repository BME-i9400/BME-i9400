{
 "cells": [
  {
   "metadata": {},
   "cell_type": "markdown",
   "source": [
    "## BME i9400\n",
    "## Fall 2024\n",
    "### Homework 4: Stratified K-Fold Cross Validation and L2 Regularized Logistic Regression\n",
    "\n",
    "\n",
    "**Due date: Wednesday, November 13th 2024, 11:59:59.987 PM EST**"
   ],
   "id": "3ea5586e8ec07d2a"
  },
  {
   "metadata": {},
   "cell_type": "markdown",
   "source": [
    "In this homework, you will implement a logistic regression model with L2 regularization, and evaluate it using stratified K-Fold cross-validation.\n",
    "\n",
    "Stratification refers to the process of rearranging the data so as to ensure that each fold is a good representative of the whole. For example, in a binary classification problem where each class comprises 50% of the data, it is best to arrange the data such that in every fold, each class comprises around half the instances.\n",
    "\n",
    "In the cells below, I have indicated places where code needs to be added with instructions contained in double hashtags (for example ## DO SOMETHING ##). "
   ],
   "id": "988ec8373a3b0322"
  },
  {
   "metadata": {
    "ExecuteTime": {
     "end_time": "2024-11-14T04:12:26.234647Z",
     "start_time": "2024-11-14T04:12:26.230594Z"
    }
   },
   "cell_type": "code",
   "source": [
    "import pandas as pd\n",
    "import numpy as np\n",
    "from sklearn.linear_model import LogisticRegression\n",
    "from sklearn.metrics import accuracy_score, roc_auc_score, average_precision_score\n",
    "from sklearn.model_selection import StratifiedKFold\n",
    "import matplotlib.pyplot as plt"
   ],
   "id": "da66d1fc1d9b1e04",
   "outputs": [],
   "execution_count": 11
  },
  {
   "metadata": {},
   "cell_type": "markdown",
   "source": "### Set the random seed",
   "id": "f250309267459d66"
  },
  {
   "metadata": {
    "ExecuteTime": {
     "end_time": "2024-11-14T04:12:26.250611Z",
     "start_time": "2024-11-14T04:12:26.247821Z"
    }
   },
   "cell_type": "code",
   "source": [
    "## DO NOT MODIFY THIS CELL\n",
    "np.random.seed(42)"
   ],
   "id": "53cc836374ec343",
   "outputs": [],
   "execution_count": 12
  },
  {
   "metadata": {},
   "cell_type": "markdown",
   "source": "### Load the data",
   "id": "2c52ae0010f2fa1b"
  },
  {
   "metadata": {
    "ExecuteTime": {
     "end_time": "2024-11-14T04:12:26.284246Z",
     "start_time": "2024-11-14T04:12:26.274784Z"
    }
   },
   "cell_type": "code",
   "source": [
    "## DO NOT MODIFY THIS CELL\n",
    "df = pd.read_csv('parkinsons.csv')\n",
    "labels = df[\"status\"].values\n",
    "features = df.drop(columns=[\"status\", \"name\"]).values\n",
    "features.shape, labels.shape"
   ],
   "id": "a519a5858bfe2a6",
   "outputs": [
    {
     "data": {
      "text/plain": [
       "((195, 22), (195,))"
      ]
     },
     "execution_count": 13,
     "metadata": {},
     "output_type": "execute_result"
    }
   ],
   "execution_count": 13
  },
  {
   "metadata": {},
   "cell_type": "markdown",
   "source": "### Create an instance of the StratifiedKFold class with 5 folds",
   "id": "c2fc0a50d14adbd9"
  },
  {
   "metadata": {
    "ExecuteTime": {
     "end_time": "2024-11-14T04:12:26.302238Z",
     "start_time": "2024-11-14T04:12:26.299138Z"
    }
   },
   "cell_type": "code",
   "source": [
    "## DO NOT MODIFY THIS CELL\n",
    "skf = StratifiedKFold(n_splits=5)"
   ],
   "id": "8c611a46d69fa289",
   "outputs": [],
   "execution_count": 14
  },
  {
   "metadata": {},
   "cell_type": "markdown",
   "source": [
    "### Task 1 \n",
    "**Evaluate a logistic regression model on this dataset using 5-fold stratified cross-validation.**\n",
    "- You should use the model object created in the above cell\n",
    "- Do not regularize the classifier!\n",
    "- Use a value for ```max_iter``` of 10000 and disregard any convergence warnings\n",
    "- For each of the five folds, compute the area under the ROC curve and the average precision, storing each of them in a list\n",
    "- Report the average area under the ROC curve and the average average precision across the five folds"
   ],
   "id": "8d0035edb6a0aa77"
  },
  {
   "metadata": {
    "ExecuteTime": {
     "end_time": "2024-11-14T04:12:26.356021Z",
     "start_time": "2024-11-14T04:12:26.315711Z"
    }
   },
   "cell_type": "code",
   "source": [
    "rocs = []\n",
    "prcs = []\n",
    "max_iter = 10000\n",
    "## Add code for cross-validation here\n",
    "for i, (train_index, test_index) in enumerate(skf.split(features, labels)):\n",
    "    print(f\"Fold={i}\")\n",
    "    train_x=features[train_index]\n",
    "    train_y=labels[train_index]\n",
    "    test_x=features[test_index]\n",
    "    test_y=labels[test_index]\n",
    "    clf = LogisticRegression(max_iter=max_iter,penalty='l1', solver='saga', C=0.01) \n",
    "    clf.fit(train_x, train_y)\n",
    "    y_pred_probs = clf.predict_proba(test_x)[:, 1]  # probability of the positive class\n",
    "    roc_auc = roc_auc_score(test_y, y_pred_probs)   \n",
    "    average_precision = average_precision_score(test_y, y_pred_probs)\n",
    "    rocs.append(roc_auc)\n",
    "    prcs.append(average_precision)\n",
    "## Report AUROC and average precision here\n",
    "print('roc_auc',rocs)\n",
    "print('average_precision',prcs)"
   ],
   "id": "e14b23f3e48402e3",
   "outputs": [
    {
     "name": "stdout",
     "output_type": "stream",
     "text": [
      "Fold=0\n",
      "Fold=1\n",
      "Fold=2\n",
      "Fold=3\n",
      "Fold=4\n",
      "roc_auc [0.0, 0.31851851851851853, 0.1482758620689655, 0.4827586206896551, 0.11724137931034481]\n",
      "average_precision [0.5726275645095634, 0.6854965621083362, 0.5863915386592894, 0.7972514987281502, 0.5727948903124059]\n"
     ]
    }
   ],
   "execution_count": 15
  },
  {
   "metadata": {},
   "cell_type": "markdown",
   "source": [
    "### Task 2\n",
    "**Repeat Task 1, but this time adding L2 to the logistic regression model.**\n",
    "- You must evaluate the following values for the hyperparameter ```C```\n",
    "    - C: 0.01, 0.1, 1, 10, 100, 1000, 10000\n",
    "- For each hyperparameter value, compute the average area under the ROC curve and the average average precision across the five folds, and store them in a list or numpy array\n",
    "- Use a sufficiently large value for the ```max_iter``` parameter of the LogisticRegression class to avoid convergence warnings.\n",
    "- Report the highest value of the average area under the ROC curve and the average average precision.\n",
    "- Also report the hyperparameters that yield the best average area under the ROC curve and the average average precision.\n",
    "- Create a plot with L2 hyperparameter on the x-axis, and average ROC and average precision on the y-axis (overlaid) -- use a logarithmic scale for the x-axis.\n"
   ],
   "id": "203a1d97a81a253f"
  },
  {
   "metadata": {
    "ExecuteTime": {
     "end_time": "2024-11-14T04:12:31.622144Z",
     "start_time": "2024-11-14T04:12:26.371551Z"
    }
   },
   "cell_type": "code",
   "source": [
    "cc = [0.001, 0.01, 0.1, 1, 10, 100, 1000, 10000]\n",
    "rocs = np.zeros(shape = (len(cc), 5))\n",
    "prcs = np.zeros(shape = (len(cc), 5))\n",
    "\n",
    "## Add code for cross-validation here\n",
    "for i, (train_index, test_index) in enumerate(skf.split(features, labels)):\n",
    "    for j in range(len(cc)):\n",
    "        print(f\"Fold={i}, C={cc[j]}\")\n",
    "        train_x=features[train_index]\n",
    "        train_y=labels[train_index]\n",
    "        test_x=features[test_index]\n",
    "        test_y=labels[test_index]\n",
    "        clf = LogisticRegression(max_iter=max_iter,penalty='l2', solver='saga', C=cc[j]) \n",
    "        clf.fit(train_x, train_y)\n",
    "        y_pred_probs = clf.predict_proba(test_x)[:, 1]  # probability of the positive class\n",
    "        roc_auc = roc_auc_score(test_y, y_pred_probs)   \n",
    "        average_precision = average_precision_score(test_y, y_pred_probs)\n",
    "        rocs[j,i]=roc_auc\n",
    "        prcs[j,i]=average_precision\n",
    "## Report AUROC and average precision here\n",
    "print('roc_auc',rocs)\n",
    "print('average_precision',prcs)"
   ],
   "id": "5d6387d686c48f42",
   "outputs": [
    {
     "name": "stdout",
     "output_type": "stream",
     "text": [
      "Fold=0, C=0.001\n",
      "Fold=0, C=0.01\n",
      "Fold=0, C=0.1\n",
      "Fold=0, C=1\n",
      "Fold=0, C=10\n",
      "Fold=0, C=100\n",
      "Fold=0, C=1000\n",
      "Fold=0, C=10000\n",
      "Fold=1, C=0.001\n",
      "Fold=1, C=0.01\n",
      "Fold=1, C=0.1\n",
      "Fold=1, C=1\n",
      "Fold=1, C=10\n",
      "Fold=1, C=100\n",
      "Fold=1, C=1000\n",
      "Fold=1, C=10000\n",
      "Fold=2, C=0.001\n",
      "Fold=2, C=0.01\n",
      "Fold=2, C=0.1\n",
      "Fold=2, C=1\n",
      "Fold=2, C=10\n",
      "Fold=2, C=100\n",
      "Fold=2, C=1000\n",
      "Fold=2, C=10000\n",
      "Fold=3, C=0.001\n",
      "Fold=3, C=0.01\n",
      "Fold=3, C=0.1\n",
      "Fold=3, C=1\n",
      "Fold=3, C=10\n",
      "Fold=3, C=100\n",
      "Fold=3, C=1000\n",
      "Fold=3, C=10000\n",
      "Fold=4, C=0.001\n",
      "Fold=4, C=0.01\n",
      "Fold=4, C=0.1\n",
      "Fold=4, C=1\n",
      "Fold=4, C=10\n",
      "Fold=4, C=100\n",
      "Fold=4, C=1000\n",
      "Fold=4, C=10000\n",
      "roc_auc [[0.         0.47777778 0.41034483 0.48275862 0.08965517]\n",
      " [0.61851852 0.71481481 0.52758621 0.39655172 0.08275862]\n",
      " [0.98888889 0.81851852 0.59655172 0.47586207 0.10689655]\n",
      " [0.98888889 0.83333333 0.65172414 0.51724138 0.11034483]\n",
      " [0.98888889 0.83333333 0.66551724 0.53103448 0.11034483]\n",
      " [0.98888889 0.83333333 0.66551724 0.53103448 0.11034483]\n",
      " [0.98888889 0.83333333 0.66551724 0.53103448 0.11034483]\n",
      " [0.98888889 0.83333333 0.66551724 0.53103448 0.11034483]]\n",
      "average_precision [[0.57262756 0.79459952 0.66544957 0.79613978 0.56639306]\n",
      " [0.82645087 0.90362247 0.71117644 0.72246882 0.56494508]\n",
      " [0.99666419 0.94458817 0.78969855 0.7852985  0.57030229]\n",
      " [0.99666419 0.94943866 0.8241314  0.81172198 0.57105334]\n",
      " [0.99666419 0.94943866 0.83840716 0.82171716 0.57105334]\n",
      " [0.99666419 0.94943866 0.83840716 0.82171716 0.57105334]\n",
      " [0.99666419 0.94943866 0.83840716 0.82171716 0.57105334]\n",
      " [0.99666419 0.94943866 0.83840716 0.82171716 0.57105334]]\n"
     ]
    }
   ],
   "execution_count": 16
  },
  {
   "metadata": {
    "ExecuteTime": {
     "end_time": "2024-11-14T04:12:31.649429Z",
     "start_time": "2024-11-14T04:12:31.646727Z"
    }
   },
   "cell_type": "code",
   "source": [
    "## Report the highest values of the average auroc and average average precision here\n",
    "print('highest auroc',np.max(rocs.flatten()))\n",
    "print('highest average average',np.max(prcs.flatten()))"
   ],
   "id": "26c79fb5d354e402",
   "outputs": [
    {
     "name": "stdout",
     "output_type": "stream",
     "text": [
      "highest auroc 0.9888888888888888\n",
      "highest average average 0.9966641947843282\n"
     ]
    }
   ],
   "execution_count": 17
  },
  {
   "metadata": {
    "ExecuteTime": {
     "end_time": "2024-11-14T04:12:31.777274Z",
     "start_time": "2024-11-14T04:12:31.715751Z"
    }
   },
   "cell_type": "code",
   "source": [
    "## Create the plot here\n",
    "cc_arr=np.log(np.array(cc))\n",
    "rocs_avg_arr=np.array(rocs.mean(axis=1))\n",
    "prcs_avg_arr=np.array(prcs.mean(axis=1))\n",
    "plt.figure()\n",
    "plt.plot(cc_arr, rocs_avg_arr, label='Avg. ROC')\n",
    "plt.plot(cc_arr, prcs_avg_arr, label='Avg. PRC')\n",
    "plt.xlabel('log(c)')\n",
    "plt.ylabel('Score')\n",
    "plt.legend()\n",
    "plt.show()"
   ],
   "id": "48c3c53e1f1656b9",
   "outputs": [
    {
     "data": {
      "text/plain": [
       "<Figure size 640x480 with 1 Axes>"
      ],
      "image/png": "[encoded data removed]"
     },
     "metadata": {},
     "output_type": "display_data"
    }
   ],
   "execution_count": 18
  }
 ],
 "metadata": {
  "kernelspec": {
   "display_name": "Python 3",
   "language": "python",
   "name": "python3"
  },
  "language_info": {
   "codemirror_mode": {
    "name": "ipython",
    "version": 2
   },
   "file_extension": ".py",
   "mimetype": "text/x-python",
   "name": "python",
   "nbconvert_exporter": "python",
   "pygments_lexer": "ipython2",
   "version": "2.7.6"
  }
 },
 "nbformat": 4,
 "nbformat_minor": 5
}
