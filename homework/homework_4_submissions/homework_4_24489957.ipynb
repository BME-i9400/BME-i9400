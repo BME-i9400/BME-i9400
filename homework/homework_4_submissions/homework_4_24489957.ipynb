{
 "cells": [
  {
   "cell_type": "markdown",
   "id": "3ea5586e8ec07d2a",
   "metadata": {},
   "source": [
    "## BME i9400\n",
    "## Fall 2024\n",
    "### Homework 4: Stratified K-Fold Cross Validation and L2 Regularized Logistic Regression\n",
    "\n",
    "\n",
    "**Due date: Wednesday, November 13th 2024, 11:59:59.987 PM EST**"
   ]
  },
  {
   "cell_type": "markdown",
   "id": "988ec8373a3b0322",
   "metadata": {},
   "source": [
    "In this homework, you will implement a logistic regression model with L2 regularization, and evaluate it using stratified K-Fold cross-validation.\n",
    "\n",
    "Stratification refers to the process of rearranging the data so as to ensure that each fold is a good representative of the whole. For example, in a binary classification problem where each class comprises 50% of the data, it is best to arrange the data such that in every fold, each class comprises around half the instances.\n",
    "\n",
    "In the cells below, I have indicated places where code needs to be added with instructions contained in double hashtags (for example ## DO SOMETHING ##). "
   ]
  },
  {
   "cell_type": "code",
   "execution_count": 1,
   "id": "da66d1fc1d9b1e04",
   "metadata": {},
   "outputs": [],
   "source": [
    "import pandas as pd\n",
    "import numpy as np\n",
    "from sklearn.linear_model import LogisticRegression\n",
    "from sklearn.metrics import accuracy_score, roc_auc_score, average_precision_score\n",
    "from sklearn.model_selection import StratifiedKFold\n",
    "import matplotlib.pyplot as plt"
   ]
  },
  {
   "cell_type": "markdown",
   "id": "f250309267459d66",
   "metadata": {},
   "source": [
    "### Set the random seed"
   ]
  },
  {
   "cell_type": "code",
   "execution_count": 2,
   "id": "53cc836374ec343",
   "metadata": {},
   "outputs": [],
   "source": [
    "## DO NOT MODIFY THIS CELL\n",
    "np.random.seed(42)"
   ]
  },
  {
   "cell_type": "markdown",
   "id": "2c52ae0010f2fa1b",
   "metadata": {},
   "source": [
    "### Load the data"
   ]
  },
  {
   "cell_type": "code",
   "execution_count": 3,
   "id": "a519a5858bfe2a6",
   "metadata": {},
   "outputs": [
    {
     "data": {
      "text/plain": [
       "((195, 22), (195,))"
      ]
     },
     "execution_count": 3,
     "metadata": {},
     "output_type": "execute_result"
    }
   ],
   "source": [
    "## DO NOT MODIFY THIS CELL\n",
    "df = pd.read_csv('parkinsons.csv')\n",
    "labels = df[\"status\"].values\n",
    "features = df.drop(columns=[\"status\", \"name\"]).values\n",
    "features.shape, labels.shape"
   ]
  },
  {
   "cell_type": "markdown",
   "id": "c2fc0a50d14adbd9",
   "metadata": {},
   "source": [
    "### Create an instance of the StratifiedKFold class with 5 folds"
   ]
  },
  {
   "cell_type": "code",
   "execution_count": 4,
   "id": "8c611a46d69fa289",
   "metadata": {},
   "outputs": [],
   "source": [
    "## DO NOT MODIFY THIS CELL\n",
    "skf = StratifiedKFold(n_splits=5)"
   ]
  },
  {
   "cell_type": "markdown",
   "id": "8d0035edb6a0aa77",
   "metadata": {},
   "source": [
    "### Task 1 \n",
    "**Evaluate a logistic regression model on this dataset using 5-fold stratified cross-validation.**\n",
    "- You should use the model object created in the above cell -> *No model was available, so I defined my own*\n",
    "- Do not regularize the classifier!\n",
    "- Use a value for ```max_iter``` of 10000 and disregard any convergence warnings\n",
    "- For each of the five folds, compute the area under the ROC curve and the average precision, storing each of them in a list\n",
    "- Report the average area under the ROC curve and the average average precision across the five folds"
   ]
  },
  {
   "cell_type": "code",
   "execution_count": 5,
   "id": "0cae5a76",
   "metadata": {},
   "outputs": [],
   "source": [
    "model = LogisticRegression(max_iter = 10000)"
   ]
  },
  {
   "cell_type": "code",
   "execution_count": 6,
   "id": "e14b23f3e48402e3",
   "metadata": {},
   "outputs": [
    {
     "name": "stdout",
     "output_type": "stream",
     "text": [
      "AUROC:  0.7126436781609196\n",
      "Average Precision:  0.8508170603343018\n"
     ]
    }
   ],
   "source": [
    "rocs = []\n",
    "prcs = []\n",
    "\n",
    "## Add code for cross-validation here\n",
    "for idx_train, idx_val in skf.split(features,labels):\n",
    "    X_train, X_val = features[idx_train], features[idx_val]\n",
    "    y_train, y_val = labels[idx_train], labels[idx_val]\n",
    "    model.fit(X_train, y_train)\n",
    "    y_pred = model.predict(X_val)\n",
    "    rocs.append(roc_auc_score(y_val, y_pred))\n",
    "    prcs.append(average_precision_score(y_val, y_pred))\n",
    "\n",
    "## Report AUROC and average precision here\n",
    "print(\"AUROC: \", np.mean(rocs))\n",
    "print(\"Average Precision: \", np.mean(prcs))"
   ]
  },
  {
   "cell_type": "markdown",
   "id": "203a1d97a81a253f",
   "metadata": {},
   "source": [
    "### Task 2\n",
    "**Repeat Task 1, but this time adding L2 to the logistic regression model.**\n",
    "- You must evaluate the following values for the hyperparameter ```C```\n",
    "    - C: 0.01, 0.1, 1, 10, 100, 1000, 10000\n",
    "- For each hyperparameter value, compute the average area under the ROC curve and the average average precision across the five folds, and store them in a list or numpy array\n",
    "- Use a sufficiently large value for the ```max_iter``` parameter of the LogisticRegression class to avoid convergence warnings.\n",
    "- Report the highest value of the average area under the ROC curve and the average average precision. -> *highest???*\n",
    "- Also report the hyperparameters that yield the best average area under the ROC curve and the average average precision.\n",
    "- Create a plot with L2 hyperparameter on the x-axis, and average ROC and average precision on the y-axis (overlaid) -- use a logarithmic scale for the x-axis.\n"
   ]
  },
  {
   "cell_type": "code",
   "execution_count": 7,
   "id": "5d6387d686c48f42",
   "metadata": {},
   "outputs": [],
   "source": [
    "cc = [0.001, 0.01, 0.1, 1, 10, 100, 1000, 10000]\n",
    "rocs = np.zeros(shape = (len(cc), 5))\n",
    "prcs = np.zeros(shape = (len(cc), 5))\n",
    "\n",
    "## Add code for cross-validation here\n",
    "for i, c in enumerate(cc):\n",
    "    model = LogisticRegression(C=c, max_iter=10000)\n",
    "    for j, (idx_train, idx_val) in enumerate(skf.split(features, labels)):\n",
    "        X_train, X_val = features[idx_train], features[idx_val]\n",
    "        y_train, y_val = labels[idx_train], labels[idx_val]\n",
    "        model.fit(X_train, y_train)\n",
    "        y_pred = model.predict(X_val)\n",
    "        rocs[i, j] = roc_auc_score(y_val, y_pred)\n",
    "        prcs[i, j] = average_precision_score(y_val, y_pred)"
   ]
  },
  {
   "cell_type": "code",
   "execution_count": 8,
   "id": "26c79fb5d354e402",
   "metadata": {},
   "outputs": [
    {
     "name": "stdout",
     "output_type": "stream",
     "text": [
      "Highest AUROC:  0.7193103448275862  with C:  10\n",
      "Highest Average Precision:  0.8531922290252598  with C:  10\n"
     ]
    }
   ],
   "source": [
    "## Compute the average auroc and average average precision for each value of cc\n",
    "rocs_foldavg = np.mean(rocs, axis=1)\n",
    "prcs_foldavg = np.mean(prcs, axis=1)\n",
    "    \n",
    "## Report the highest values of the average auroc and average average precision here\n",
    "highest_roc, cc_best_roc = np.max(rocs_foldavg), cc[np.argmax(rocs_foldavg)]\n",
    "highest_prec, cc_best_prec = np.max(prcs_foldavg), cc[np.argmax(prcs_foldavg)]\n",
    "print(\"Highest AUROC: \", highest_roc, \" with C: \", cc_best_roc)\n",
    "print(\"Highest Average Precision: \", highest_prec, \" with C: \", cc_best_prec)"
   ]
  },
  {
   "cell_type": "code",
   "execution_count": 9,
   "id": "48c3c53e1f1656b9",
   "metadata": {},
   "outputs": [
    {
     "data": {
      "image/png": "[encoded data removed]",
      "text/plain": [
       "<Figure size 640x480 with 1 Axes>"
      ]
     },
     "metadata": {},
     "output_type": "display_data"
    }
   ],
   "source": [
    "## Create the plot here\n",
    "plt.plot(cc, np.mean(rocs, axis=1), label='AUROC')\n",
    "plt.plot(cc, np.mean(prcs, axis=1), label='Average Precision')\n",
    "plt.xlabel('L2 Hyperparameter (logscale)')\n",
    "plt.ylabel('Metric')\n",
    "plt.title('AUROC and Average Precision vs L2 Hyperparameter')\n",
    "plt.xscale('log')\n",
    "plt.legend()\n",
    "plt.show()"
   ]
  }
 ],
 "metadata": {
  "kernelspec": {
   "display_name": "Deeplearningclass",
   "language": "python",
   "name": "python3"
  },
  "language_info": {
   "codemirror_mode": {
    "name": "ipython",
    "version": 3
   },
   "file_extension": ".py",
   "mimetype": "text/x-python",
   "name": "python",
   "nbconvert_exporter": "python",
   "pygments_lexer": "ipython3",
   "version": "3.11.7"
  }
 },
 "nbformat": 4,
 "nbformat_minor": 5
}
