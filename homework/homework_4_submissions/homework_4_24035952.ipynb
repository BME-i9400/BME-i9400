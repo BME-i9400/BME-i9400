{
 "cells": [
  {
   "metadata": {},
   "cell_type": "markdown",
   "source": [
    "## BME i9400\n",
    "## Fall 2024\n",
    "### Homework 4: Stratified K-Fold Cross Validation and L2 Regularized Logistic Regression\n",
    "\n",
    "\n",
    "**Due date: Wednesday, November 13th 2024, 11:59:59.987 PM EST**"
   ],
   "id": "3ea5586e8ec07d2a"
  },
  {
   "metadata": {},
   "cell_type": "markdown",
   "source": [
    "In this homework, you will implement a logistic regression model with L2 regularization, and evaluate it using stratified K-Fold cross-validation.\n",
    "\n",
    "Stratification refers to the process of rearranging the data so as to ensure that each fold is a good representative of the whole. For example, in a binary classification problem where each class comprises 50% of the data, it is best to arrange the data such that in every fold, each class comprises around half the instances.\n",
    "\n",
    "In the cells below, I have indicated places where code needs to be added with instructions contained in double hashtags (for example ## DO SOMETHING ##). "
   ],
   "id": "988ec8373a3b0322"
  },
  {
   "metadata": {
    "ExecuteTime": {
     "end_time": "2024-11-15T02:04:02.985152Z",
     "start_time": "2024-11-15T02:03:59.920790Z"
    }
   },
   "cell_type": "code",
   "source": [
    "import pandas as pd\n",
    "import numpy as np\n",
    "from sklearn.linear_model import LogisticRegression\n",
    "from sklearn.metrics import accuracy_score, roc_auc_score, average_precision_score\n",
    "from sklearn.model_selection import StratifiedKFold\n",
    "import matplotlib.pyplot as plt"
   ],
   "id": "da66d1fc1d9b1e04",
   "outputs": [],
   "execution_count": 1
  },
  {
   "metadata": {},
   "cell_type": "markdown",
   "source": "### Set the random seed",
   "id": "f250309267459d66"
  },
  {
   "metadata": {
    "ExecuteTime": {
     "end_time": "2024-11-15T02:05:06.213865Z",
     "start_time": "2024-11-15T02:05:06.204199Z"
    }
   },
   "cell_type": "code",
   "source": [
    "## DO NOT MODIFY THIS CELL\n",
    "np.random.seed(42)"
   ],
   "id": "53cc836374ec343",
   "outputs": [],
   "execution_count": 2
  },
  {
   "metadata": {},
   "cell_type": "markdown",
   "source": "### Load the data",
   "id": "2c52ae0010f2fa1b"
  },
  {
   "metadata": {
    "ExecuteTime": {
     "end_time": "2024-11-15T02:05:09.941983Z",
     "start_time": "2024-11-15T02:05:09.897800Z"
    }
   },
   "cell_type": "code",
   "source": [
    "## DO NOT MODIFY THIS CELL\n",
    "df = pd.read_csv('parkinsons.csv')\n",
    "labels = df[\"status\"].values\n",
    "features = df.drop(columns=[\"status\", \"name\"]).values\n",
    "features.shape, labels.shape"
   ],
   "id": "a519a5858bfe2a6",
   "outputs": [
    {
     "data": {
      "text/plain": [
       "((195, 22), (195,))"
      ]
     },
     "execution_count": 3,
     "metadata": {},
     "output_type": "execute_result"
    }
   ],
   "execution_count": 3
  },
  {
   "metadata": {},
   "cell_type": "markdown",
   "source": "### Create an instance of the StratifiedKFold class with 5 folds",
   "id": "c2fc0a50d14adbd9"
  },
  {
   "metadata": {
    "ExecuteTime": {
     "end_time": "2024-11-15T02:05:22.205059Z",
     "start_time": "2024-11-15T02:05:22.196902Z"
    }
   },
   "cell_type": "code",
   "source": [
    "## DO NOT MODIFY THIS CELL\n",
    "skf = StratifiedKFold(n_splits=5)"
   ],
   "id": "8c611a46d69fa289",
   "outputs": [],
   "execution_count": 4
  },
  {
   "metadata": {},
   "cell_type": "markdown",
   "source": [
    "### Task 1 \n",
    "**Evaluate a logistic regression model on this dataset using 5-fold stratified cross-validation.**\n",
    "- You should use the model object created in the above cell\n",
    "- Do not regularize the classifier!\n",
    "- Use a value for ```max_iter``` of 10000 and disregard any convergence warnings\n",
    "- For each of the five folds, compute the area under the ROC curve and the average precision, storing each of them in a list\n",
    "- Report the average area under the ROC curve and the average average precision across the five folds"
   ],
   "id": "8d0035edb6a0aa77"
  },
  {
   "metadata": {
    "ExecuteTime": {
     "end_time": "2024-11-15T03:02:48.467659Z",
     "start_time": "2024-11-15T03:02:47.724552Z"
    }
   },
   "cell_type": "code",
   "source": [
    "rocs = []\n",
    "prcs = []\n",
    "\n",
    "## Add code for cross-validation here\n",
    "for train_index, test_index in skf.split(features, labels):\n",
    "    X_train, X_test = features[train_index], features[test_index]\n",
    "    y_train, y_test = labels[train_index], labels[test_index]\n",
    "    \n",
    "    #creating model\n",
    "    model = LogisticRegression(penalty=None, solver='saga', max_iter = 10000)\n",
    "    model.fit(X_train, y_train)\n",
    "    \n",
    "    #getting probabilities\n",
    "    y_pred = model.predict_proba(X_test)[:, 1]\n",
    "    \n",
    "    #ROC AUC and Average Precision for this fold\n",
    "    roc_auc = roc_auc_score(y_test, y_pred)\n",
    "    avg_prcs = average_precision_score(y_test, y_pred)\n",
    "    \n",
    "    #Storing scores\n",
    "    rocs.append(roc_auc)\n",
    "    prcs.append(avg_prcs)\n",
    "\n",
    "## Report AUROC and average precision here\n",
    "avg_rocauc = sum(rocs) / len(rocs)\n",
    "avg_prec = sum(prcs) / len(prcs)\n",
    "\n",
    "print(f'Average ROC AUC: {avg_rocauc}')\n",
    "print(f'Average Average Precision: {avg_prec}')"
   ],
   "id": "e14b23f3e48402e3",
   "outputs": [
    {
     "name": "stdout",
     "output_type": "stream",
     "text": [
      "Average ROC AUC: 0.6258237547892719\n",
      "Average Average Precision: 0.8354561020336794\n"
     ]
    }
   ],
   "execution_count": 21
  },
  {
   "metadata": {},
   "cell_type": "markdown",
   "source": [
    "### Task 2\n",
    "**Repeat Task 1, but this time adding L2 to the logistic regression model.**\n",
    "- You must evaluate the following values for the hyperparameter ```C```\n",
    "    - C: 0.01, 0.1, 1, 10, 100, 1000, 10000\n",
    "- For each hyperparameter value, compute the average area under the ROC curve and the average average precision across the five folds, and store them in a list or numpy array\n",
    "- Use a sufficiently large value for the ```max_iter``` parameter of the LogisticRegression class to avoid convergence warnings.\n",
    "- Report the highest value of the average area under the ROC curve and the average average precision.\n",
    "- Also report the hyperparameters that yield the best average area under the ROC curve and the average average precision.\n",
    "- Create a plot with L2 hyperparameter on the x-axis, and average ROC and average precision on the y-axis (overlaid) -- use a logarithmic scale for the x-axis.\n"
   ],
   "id": "203a1d97a81a253f"
  },
  {
   "metadata": {
    "ExecuteTime": {
     "end_time": "2024-11-15T03:26:56.128555Z",
     "start_time": "2024-11-15T03:26:51.557865Z"
    }
   },
   "cell_type": "code",
   "source": [
    "cc = [0.001, 0.01, 0.1, 1, 10, 100, 1000, 10000]\n",
    "rocs = np.zeros(shape = (len(cc), 5))\n",
    "prcs = np.zeros(shape = (len(cc), 5))\n",
    "\n",
    "## Add code for cross-validation here\n",
    "\n",
    "for i, c in enumerate(cc):\n",
    "    k = 0 #starting at the first fold\n",
    "    for train_index, test_index in skf.split(features, labels):\n",
    "        X_train, X_test = features[train_index], features[test_index]\n",
    "        y_train, y_test = labels[train_index], labels[test_index]\n",
    "    \n",
    "        #creating l1 model\n",
    "        model_l2 = LogisticRegression(penalty='l2', solver='saga', C= c , max_iter = 10000)\n",
    "        model_l2.fit(X_train, y_train)\n",
    "        \n",
    "        #getting probabilities\n",
    "        y_pred = model_l2.predict_proba(X_test)[:, 1]\n",
    "    \n",
    "        #ROC AUC and Average Precision for this fold\n",
    "        roc_auc = roc_auc_score(y_test, y_pred)\n",
    "        avg_prcs = average_precision_score(y_test, y_pred)\n",
    "        \n",
    "        #Storing scores\n",
    "        rocs[i,k] = roc_auc\n",
    "        prcs[i,k] = avg_prcs\n",
    "        k += 1"
   ],
   "id": "5d6387d686c48f42",
   "outputs": [],
   "execution_count": 25
  },
  {
   "metadata": {
    "ExecuteTime": {
     "end_time": "2024-11-15T03:54:06.062092Z",
     "start_time": "2024-11-15T03:54:06.055733Z"
    }
   },
   "cell_type": "code",
   "source": [
    "## Compute the average auroc and average precision for each value of cc\n",
    "average_rocs = np.mean(rocs, axis=1)\n",
    "average_prcs = np.mean(prcs, axis=1)\n",
    "\n",
    "print(\"Average AUROC for each cc:\")\n",
    "for c, auroc in zip(cc, average_rocs):\n",
    "    print(f'{c}: {auroc}')\n",
    "\n",
    "print(\"\\nAverage Precision for each cc:\")\n",
    "for c, prec in zip(cc, average_prcs):\n",
    "    print(f'{c}: {prec}')\n",
    "## Report the highest values of the average auroc and average average precision here"
   ],
   "id": "26c79fb5d354e402",
   "outputs": [
    {
     "name": "stdout",
     "output_type": "stream",
     "text": [
      "Average AUROC for each cc:\n",
      "0.001: 0.29210727969348654\n",
      "0.01: 0.46804597701149425\n",
      "0.1: 0.5973435504469987\n",
      "1: 0.6203065134099616\n",
      "10: 0.6258237547892719\n",
      "100: 0.6258237547892719\n",
      "1000: 0.6258237547892719\n",
      "10000: 0.6258237547892719\n",
      "\n",
      "Average Precision for each cc:\n",
      "0.001: 0.6790418988011216\n",
      "0.01: 0.7457327368852924\n",
      "0.1: 0.8173103426521309\n",
      "1: 0.8306019140760432\n",
      "10: 0.8354561020336794\n",
      "100: 0.8354561020336794\n",
      "1000: 0.8354561020336794\n",
      "10000: 0.8354561020336794\n"
     ]
    }
   ],
   "execution_count": 36
  },
  {
   "metadata": {
    "ExecuteTime": {
     "end_time": "2024-11-15T04:03:28.953255Z",
     "start_time": "2024-11-15T04:03:28.785592Z"
    }
   },
   "cell_type": "code",
   "source": [
    "## Create the plot here\n",
    "plt.semilogx(cc, average_rocs, label='Average AUROC', marker='o')\n",
    "plt.semilogx(cc, average_prcs, label='Average Precision', marker='o')\n",
    "plt.xlabel('L2 Hyperparamter (cc)')\n",
    "plt.title('Average AUROC and Precision vs. each L2 Hyperparameter')\n",
    "plt.legend()\n",
    "plt.grid(True)"
   ],
   "id": "48c3c53e1f1656b9",
   "outputs": [
    {
     "data": {
      "text/plain": [
       "<Figure size 640x480 with 1 Axes>"
      ],
      "image/png": "[encoded data removed]"
     },
     "metadata": {},
     "output_type": "display_data"
    }
   ],
   "execution_count": 43
  }
 ],
 "metadata": {
  "kernelspec": {
   "display_name": "Python 3",
   "language": "python",
   "name": "python3"
  },
  "language_info": {
   "codemirror_mode": {
    "name": "ipython",
    "version": 2
   },
   "file_extension": ".py",
   "mimetype": "text/x-python",
   "name": "python",
   "nbconvert_exporter": "python",
   "pygments_lexer": "ipython2",
   "version": "2.7.6"
  }
 },
 "nbformat": 4,
 "nbformat_minor": 5
}
