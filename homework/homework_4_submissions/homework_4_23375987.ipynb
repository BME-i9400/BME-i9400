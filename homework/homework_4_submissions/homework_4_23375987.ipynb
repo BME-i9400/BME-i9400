{
 "cells": [
  {
   "metadata": {},
   "cell_type": "markdown",
   "source": [
    "## BME i9400\n",
    "## Fall 2024\n",
    "### Homework 4: Stratified K-Fold Cross Validation and L2 Regularized Logistic Regression\n",
    "\n",
    "\n",
    "**Due date: Wednesday, November 13th 2024, 11:59:59.987 PM EST**"
   ],
   "id": "3ea5586e8ec07d2a"
  },
  {
   "metadata": {},
   "cell_type": "markdown",
   "source": [
    "In this homework, you will implement a logistic regression model with L2 regularization, and evaluate it using stratified K-Fold cross-validation.\n",
    "\n",
    "Stratification refers to the process of rearranging the data so as to ensure that each fold is a good representative of the whole. For example, in a binary classification problem where each class comprises 50% of the data, it is best to arrange the data such that in every fold, each class comprises around half the instances.\n",
    "\n",
    "In the cells below, I have indicated places where code needs to be added with instructions contained in double hashtags (for example ## DO SOMETHING ##). "
   ],
   "id": "988ec8373a3b0322"
  },
  {
   "metadata": {
    "ExecuteTime": {
     "end_time": "2024-11-13T23:55:33.453561Z",
     "start_time": "2024-11-13T23:55:33.444966Z"
    }
   },
   "cell_type": "code",
   "source": [
    "import pandas as pd\n",
    "import numpy as np\n",
    "from sklearn.linear_model import LogisticRegression\n",
    "from sklearn.metrics import accuracy_score, roc_auc_score, average_precision_score\n",
    "from sklearn.model_selection import StratifiedKFold\n",
    "import matplotlib.pyplot as plt"
   ],
   "id": "da66d1fc1d9b1e04",
   "outputs": [],
   "execution_count": 14
  },
  {
   "metadata": {},
   "cell_type": "markdown",
   "source": "### Set the random seed",
   "id": "f250309267459d66"
  },
  {
   "metadata": {
    "ExecuteTime": {
     "end_time": "2024-11-13T23:55:33.502274Z",
     "start_time": "2024-11-13T23:55:33.491869Z"
    }
   },
   "cell_type": "code",
   "source": [
    "## DO NOT MODIFY THIS CELL\n",
    "np.random.seed(42)"
   ],
   "id": "53cc836374ec343",
   "outputs": [],
   "execution_count": 15
  },
  {
   "metadata": {},
   "cell_type": "markdown",
   "source": "### Load the data",
   "id": "2c52ae0010f2fa1b"
  },
  {
   "metadata": {
    "ExecuteTime": {
     "end_time": "2024-11-13T23:55:33.575538Z",
     "start_time": "2024-11-13T23:55:33.547398Z"
    }
   },
   "cell_type": "code",
   "source": [
    "## DO NOT MODIFY THIS CELL\n",
    "df = pd.read_csv('parkinsons.csv')\n",
    "labels = df[\"status\"].values\n",
    "features = df.drop(columns=[\"status\", \"name\"]).values\n",
    "features.shape, labels.shape"
   ],
   "id": "a519a5858bfe2a6",
   "outputs": [
    {
     "data": {
      "text/plain": [
       "((195, 22), (195,))"
      ]
     },
     "execution_count": 16,
     "metadata": {},
     "output_type": "execute_result"
    }
   ],
   "execution_count": 16
  },
  {
   "metadata": {},
   "cell_type": "markdown",
   "source": "### Create an instance of the StratifiedKFold class with 5 folds",
   "id": "c2fc0a50d14adbd9"
  },
  {
   "metadata": {
    "ExecuteTime": {
     "end_time": "2024-11-13T23:55:33.631440Z",
     "start_time": "2024-11-13T23:55:33.625175Z"
    }
   },
   "cell_type": "code",
   "source": [
    "## DO NOT MODIFY THIS CELL\n",
    "skf = StratifiedKFold(n_splits=5)"
   ],
   "id": "8c611a46d69fa289",
   "outputs": [],
   "execution_count": 17
  },
  {
   "metadata": {},
   "cell_type": "markdown",
   "source": [
    "### Task 1 \n",
    "**Evaluate a logistic regression model on this dataset using 5-fold stratified cross-validation.**\n",
    "- You should use the model object created in the above cell\n",
    "- Do not regularize the classifier!\n",
    "- Use a value for ```max_iter``` of 10000 and disregard any convergence warnings\n",
    "- For each of the five folds, compute the area under the ROC curve and the average precision, storing each of them in a list\n",
    "- Report the average area under the ROC curve and the average average precision across the five folds"
   ],
   "id": "8d0035edb6a0aa77"
  },
  {
   "metadata": {
    "ExecuteTime": {
     "end_time": "2024-11-13T23:55:34.354888Z",
     "start_time": "2024-11-13T23:55:33.719763Z"
    }
   },
   "cell_type": "code",
   "source": [
    "rocs = []\n",
    "prcs = []\n",
    "\n",
    "## Add code for cross-validation here\n",
    "# Cross-validation loop\n",
    "for train_index, test_index in skf.split(features, labels):\n",
    "    X_train, X_test = features[train_index], features[test_index]\n",
    "    y_train, y_test = labels[train_index], labels[test_index]\n",
    "    \n",
    "    ## Fit the model\n",
    "    model = LogisticRegression(max_iter = 10000)\n",
    "    model.fit(X_train, y_train)\n",
    "        \n",
    "    ## Predict the probabilities\n",
    "    probs = model.predict_proba(X_test)[:, 1]\n",
    "    \n",
    "    ## Compute the ROC and average precision\n",
    "    rocs.append(roc_auc_score(y_test, probs))\n",
    "    prcs.append(average_precision_score(y_test, probs))\n",
    "\n",
    "    \n",
    "## Report AUROC and average precision here\n",
    "for i in range(5):\n",
    "    print(f\"Fold {i+1}: AUROC = {rocs[i]}, Average Precision = {prcs[i]}\")"
   ],
   "id": "e14b23f3e48402e3",
   "outputs": [
    {
     "name": "stdout",
     "output_type": "stream",
     "text": [
      "Fold 1: AUROC = 0.9851851851851852, Average Precision = 0.9958585858585858\n",
      "Fold 2: AUROC = 0.8962962962962964, Average Precision = 0.971220575348449\n",
      "Fold 3: AUROC = 0.9137931034482758, Average Precision = 0.9660051337910258\n",
      "Fold 4: AUROC = 0.5344827586206896, Average Precision = 0.8217492115466649\n",
      "Fold 5: AUROC = 0.6620689655172414, Average Precision = 0.873267805073096\n"
     ]
    }
   ],
   "execution_count": 18
  },
  {
   "metadata": {},
   "cell_type": "markdown",
   "source": [
    "### Task 2\n",
    "**Repeat Task 1, but this time adding L2 to the logistic regression model.**\n",
    "- You must evaluate the following values for the hyperparameter ```C```\n",
    "    - C: 0.01, 0.1, 1, 10, 100, 1000, 10000\n",
    "- For each hyperparameter value, compute the average area under the ROC curve and the average average precision across the five folds, and store them in a list or numpy array\n",
    "- Use a sufficiently large value for the ```max_iter``` parameter of the LogisticRegression class to avoid convergence warnings.\n",
    "- Report the highest value of the average area under the ROC curve and the average average precision.\n",
    "- Also report the hyperparameters that yield the best average area under the ROC curve and the average average precision.\n",
    "- Create a plot with L2 hyperparameter on the x-axis, and average ROC and average precision on the y-axis (overlaid) -- use a logarithmic scale for the x-axis.\n"
   ],
   "id": "203a1d97a81a253f"
  },
  {
   "metadata": {
    "ExecuteTime": {
     "end_time": "2024-11-13T23:55:43.913747Z",
     "start_time": "2024-11-13T23:55:34.418864Z"
    }
   },
   "cell_type": "code",
   "source": [
    "cc = [0.001, 0.01, 0.1, 1, 10, 100, 1000, 10000]\n",
    "rocs = np.zeros(shape = (len(cc), 5))\n",
    "prcs = np.zeros(shape = (len(cc), 5))\n",
    "\n",
    "## Add code for cross-validation here\n",
    "# Cross-validation loop\n",
    "for i, c in enumerate(cc):\n",
    "    for j, (train_index, test_index) in enumerate(skf.split(features, labels)):\n",
    "        X_train, X_test = features[train_index], features[test_index]\n",
    "        y_train, y_test = labels[train_index], labels[test_index]\n",
    "    \n",
    "        ## Fit the model\n",
    "        model = LogisticRegression(penalty = 'l2',max_iter = 10000, C = c)\n",
    "        model.fit(X_train, y_train)\n",
    "        \n",
    "        ## Predict the probabilities\n",
    "        probs = model.predict_proba(X_test)[:, 1]\n",
    "    \n",
    "        ## Compute the ROC and average precision\n",
    "        rocs[i, j] = roc_auc_score(y_test, probs)\n",
    "        prcs[i, j] = average_precision_score(y_test, probs)\n",
    "        "
   ],
   "id": "5d6387d686c48f42",
   "outputs": [],
   "execution_count": 19
  },
  {
   "metadata": {
    "ExecuteTime": {
     "end_time": "2024-11-13T23:55:43.942775Z",
     "start_time": "2024-11-13T23:55:43.918756Z"
    }
   },
   "cell_type": "code",
   "source": [
    "## Compute the average auroc and average average precision for each value of cc\n",
    "aurocs = np.mean(rocs, axis = 1)\n",
    "aprcs = np.mean(prcs, axis = 1)\n",
    "print(aurocs)\n",
    "print(aprcs)\n",
    "## Report the highest values of the average auroc and average average precision here\n",
    "print(f\"Highest AUROC: {np.max(aurocs)}\")\n",
    "print(f\"Highest Average Precision: {np.max(aprcs)}\")"
   ],
   "id": "26c79fb5d354e402",
   "outputs": [
    {
     "name": "stdout",
     "output_type": "stream",
     "text": [
      "[0.66120051 0.69706258 0.74332056 0.79836526 0.80727969 0.78600255\n",
      " 0.76750958 0.75923372]\n",
      "[0.85338248 0.86789257 0.88775811 0.92562026 0.93202133 0.9246429\n",
      " 0.91880084 0.91427672]\n",
      "Highest AUROC: 0.80727969348659\n",
      "Highest Average Precision: 0.9320213304052842\n"
     ]
    }
   ],
   "execution_count": 20
  },
  {
   "metadata": {
    "ExecuteTime": {
     "end_time": "2024-11-13T23:55:44.508334Z",
     "start_time": "2024-11-13T23:55:43.995677Z"
    }
   },
   "cell_type": "code",
   "source": [
    "## Create the plot here\n",
    "plt.plot(cc, aurocs, label = \"AUROC\")\n",
    "plt.plot(cc, aprcs, label = \"Average Precision\")\n",
    "plt.xscale('log')\n",
    "plt.xlabel('C')\n",
    "plt.ylabel('Performance')\n",
    "plt.legend()\n",
    "plt.show()"
   ],
   "id": "48c3c53e1f1656b9",
   "outputs": [
    {
     "data": {
      "text/plain": [
       "<Figure size 640x480 with 1 Axes>"
      ],
      "image/png": "[encoded data removed]"
     },
     "metadata": {},
     "output_type": "display_data"
    }
   ],
   "execution_count": 21
  },
  {
   "metadata": {
    "ExecuteTime": {
     "end_time": "2024-11-13T23:55:44.641245Z",
     "start_time": "2024-11-13T23:55:44.622938Z"
    }
   },
   "cell_type": "code",
   "source": [
    "## Report the hyperparameters that yield the best performance here\n",
    "best_auroc = cc[np.argmax(aurocs)]\n",
    "best_aprc = cc[np.argmax(aprcs)]\n",
    "print(f\"Best AUROC: {best_auroc}\")\n",
    "print(f\"Best Average Precision: {best_aprc}\")"
   ],
   "id": "205cccddbb77ef62",
   "outputs": [
    {
     "name": "stdout",
     "output_type": "stream",
     "text": [
      "Best AUROC: 10\n",
      "Best Average Precision: 10\n"
     ]
    }
   ],
   "execution_count": 22
  }
 ],
 "metadata": {
  "kernelspec": {
   "display_name": "Python 3",
   "language": "python",
   "name": "python3"
  },
  "language_info": {
   "codemirror_mode": {
    "name": "ipython",
    "version": 2
   },
   "file_extension": ".py",
   "mimetype": "text/x-python",
   "name": "python",
   "nbconvert_exporter": "python",
   "pygments_lexer": "ipython2",
   "version": "2.7.6"
  }
 },
 "nbformat": 4,
 "nbformat_minor": 5
}
