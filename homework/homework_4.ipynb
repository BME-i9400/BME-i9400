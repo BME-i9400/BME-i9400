{
 "cells": [
  {
   "metadata": {},
   "cell_type": "markdown",
   "source": [
    "## BME i9400\n",
    "## Fall 2024\n",
    "### Homework 4: Stratified K-Fold Cross Validation and L2 Regularized Logistic Regression\n",
    "\n",
    "\n",
    "**Due date: Wednesday, November 13th 2024, 11:59:59.987 PM EST**"
   ],
   "id": "3ea5586e8ec07d2a"
  },
  {
   "metadata": {},
   "cell_type": "markdown",
   "source": [
    "In this homework, you will implement a logistic regression model with L2 regularization, and evaluate it using stratified K-Fold cross-validation.\n",
    "\n",
    "Stratification refers to the process of rearranging the data so as to ensure that each fold is a good representative of the whole. For example, in a binary classification problem where each class comprises 50% of the data, it is best to arrange the data such that in every fold, each class comprises around half the instances.\n",
    "\n",
    "In the cells below, I have indicated places where code needs to be added with instructions contained in double hashtags (for example ## DO SOMETHING ##). "
   ],
   "id": "988ec8373a3b0322"
  },
  {
   "metadata": {},
   "cell_type": "code",
   "source": [
    "import pandas as pd\n",
    "import numpy as np\n",
    "from sklearn.linear_model import LogisticRegression\n",
    "from sklearn.metrics import accuracy_score, roc_auc_score, average_precision_score\n",
    "from sklearn.model_selection import StratifiedKFold\n",
    "import matplotlib.pyplot as plt"
   ],
   "id": "da66d1fc1d9b1e04",
   "outputs": [],
   "execution_count": null
  },
  {
   "metadata": {},
   "cell_type": "markdown",
   "source": "### Set the random seed",
   "id": "f250309267459d66"
  },
  {
   "metadata": {},
   "cell_type": "code",
   "source": [
    "## DO NOT MODIFY THIS CELL\n",
    "np.random.seed(42)"
   ],
   "id": "53cc836374ec343",
   "outputs": [],
   "execution_count": null
  },
  {
   "metadata": {},
   "cell_type": "markdown",
   "source": "### Load the data",
   "id": "2c52ae0010f2fa1b"
  },
  {
   "metadata": {},
   "cell_type": "code",
   "source": [
    "## DO NOT MODIFY THIS CELL\n",
    "df = pd.read_csv('parkinsons.csv')\n",
    "labels = df[\"status\"].values\n",
    "features = df.drop(columns=[\"status\", \"name\"]).values\n",
    "features.shape, labels.shape"
   ],
   "id": "a519a5858bfe2a6",
   "outputs": [],
   "execution_count": null
  },
  {
   "metadata": {},
   "cell_type": "markdown",
   "source": "### Create an instance of the StratifiedKFold class with 5 folds",
   "id": "c2fc0a50d14adbd9"
  },
  {
   "metadata": {},
   "cell_type": "code",
   "source": [
    "## DO NOT MODIFY THIS CELL\n",
    "skf = StratifiedKFold(n_splits=5)"
   ],
   "id": "8c611a46d69fa289",
   "outputs": [],
   "execution_count": null
  },
  {
   "metadata": {},
   "cell_type": "markdown",
   "source": [
    "### Task 1 \n",
    "**Evaluate a logistic regression model on this dataset using 5-fold stratified cross-validation.**\n",
    "- You should use the model object created in the above cell\n",
    "- Do not regularize the classifier!\n",
    "- Use a value for ```max_iter``` of 10000 and disregard any convergence warnings\n",
    "- For each of the five folds, compute the area under the ROC curve and the average precision, storing each of them in a list\n",
    "- Report the average area under the ROC curve and the average average precision across the five folds"
   ],
   "id": "8d0035edb6a0aa77"
  },
  {
   "metadata": {},
   "cell_type": "code",
   "source": [
    "rocs = []\n",
    "prcs = []\n",
    "\n",
    "## Add code for cross-validation here\n",
    "\n",
    "## Report AUROC and average precision here"
   ],
   "id": "e14b23f3e48402e3",
   "outputs": [],
   "execution_count": null
  },
  {
   "metadata": {},
   "cell_type": "markdown",
   "source": [
    "### Task 2\n",
    "**Repeat Task 1, but this time adding L2 to the logistic regression model.**\n",
    "- You must evaluate the following values for the hyperparameter ```C```\n",
    "    - C: 0.01, 0.1, 1, 10, 100, 1000, 10000\n",
    "- For each hyperparameter value, compute the average area under the ROC curve and the average average precision across the five folds, and store them in a list or numpy array\n",
    "- Use a sufficiently large value for the ```max_iter``` parameter of the LogisticRegression class to avoid convergence warnings.\n",
    "- Report the highest value of the average area under the ROC curve and the average average precision.\n",
    "- Also report the hyperparameters that yield the best average area under the ROC curve and the average average precision.\n",
    "- Create a plot with L2 hyperparameter on the x-axis, and average ROC and average precision on the y-axis (overlaid) -- use a logarithmic scale for the x-axis.\n"
   ],
   "id": "203a1d97a81a253f"
  },
  {
   "metadata": {},
   "cell_type": "code",
   "source": [
    "cc = [0.001, 0.01, 0.1, 1, 10, 100, 1000, 10000]\n",
    "rocs = np.zeros(shape = (len(cc), 5))\n",
    "prcs = np.zeros(shape = (len(cc), 5))\n",
    "\n",
    "## Add code for cross-validation here\n"
   ],
   "id": "5d6387d686c48f42",
   "outputs": [],
   "execution_count": null
  },
  {
   "metadata": {},
   "cell_type": "code",
   "source": [
    "## Compute the average auroc and average average precision for each value of cc\n",
    "\n",
    "## Report the highest values of the average auroc and average average precision here"
   ],
   "id": "26c79fb5d354e402",
   "outputs": [],
   "execution_count": null
  },
  {
   "metadata": {},
   "cell_type": "code",
   "source": "## Create the plot here",
   "id": "48c3c53e1f1656b9",
   "outputs": [],
   "execution_count": null
  }
 ],
 "metadata": {
  "kernelspec": {
   "display_name": "Python 3",
   "language": "python",
   "name": "python3"
  },
  "language_info": {
   "codemirror_mode": {
    "name": "ipython",
    "version": 2
   },
   "file_extension": ".py",
   "mimetype": "text/x-python",
   "name": "python",
   "nbconvert_exporter": "python",
   "pygments_lexer": "ipython2",
   "version": "2.7.6"
  }
 },
 "nbformat": 4,
 "nbformat_minor": 5
}
