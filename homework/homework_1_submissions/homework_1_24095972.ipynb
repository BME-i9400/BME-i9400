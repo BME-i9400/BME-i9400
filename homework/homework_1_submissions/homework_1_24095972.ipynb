{
 "cells": [
  {
   "metadata": {},
   "cell_type": "markdown",
   "source": [
    "## BME i9400\n",
    "## Fall 2024\n",
    "### Homework 1: The Monty Hall Problem"
   ],
   "id": "fdb01900d19e6b5a"
  },
  {
   "metadata": {},
   "cell_type": "markdown",
   "source": [
    "** Due date: Monday, September 30, 2024, 11:59:59.999 PM EST **\n",
    "\n"
   ],
   "id": "50c3b8c2de5fca28"
  },
  {
   "metadata": {},
   "cell_type": "markdown",
   "source": [
    "You are a contestant on a game show hosted by Monty Hall. In the game show, there are 3 doors. Behind one of the doors is a Tesla Cybertruck. Behind the other two is a goat (i.e., opening each of the other two doors reveals a goat). The object of the game is to successfully choose the door holding the Tesla Cybertruck -- regardless of how much you may love goats or dislike Tesla Cybertrucks. \n",
    " \n",
    "Now imagine that you randomly choose one of the doors. Mr. Hall then shows you one of the other two doors, revealing a goat. He then offers you the chance to switch your initial guess.\n",
    " \n",
    "The objective of this assignment is to determine whether you should switch your guess.\n",
    " \n",
    "### Part 1. Analytical Solution \t\n",
    "By using the laws of probability and following the rules of the game, derive the following probabilities:\n",
    "\n",
    "a. \tP(win a Cybertruck | switch your guess)\n",
    "\n",
    "b. \tP(win a Cybertruck | do not switch your guess)\n",
    " \n",
    "Based on your answers, should you switch your guess?\n",
    "\n",
    "** ENTER YOUR ANSWER HERE IN MARKDOWN, IDEALLY USING LATEX NOTATION WHICH IS SUPPORTED BY JUPYTER NOTEBOOKS. **\n",
    "\n",
    "    \n",
    "   "
   ],
   "id": "530e3b122b4bf35c"
  },
  {
   "metadata": {},
   "cell_type": "markdown",
   "source": [
    "Solution a. P(Win a Cybertruck | Switch Your Guess) \n",
    "\n",
    "When you first pick a door: \n",
    "- The probability that the Cybertruck is behind your chosen door is $\\frac{1}{3}$\n",
    "- The probability that the Cybertruck is behind one of the other two doors is $\\frac{2}{3}$\n",
    "\n",
    "Since Monty knows where the Cybertruck is and always opens a door revealing a goat, the following occurs: \n",
    "- If your initial choice was incorrect (which had probability of $\\frac{2}{3}$ ), Monty will open the only other door with a goat, and switching will give you the Cybertruck. \n",
    "- If your initial choice was correct(probability $\\frac{1}{3}$), Monty will open one of the two doors with a goat, but switching will lead you to a goat. \n",
    "\n",
    "Therefore, the probability of winning the Cybertruck by switching is the probability that your initial choice was incorrect: \n",
    "\n",
    "  **P(Win | Switch) = P(Initial Choice Incorrect) = $\\frac{2}{3}$** \n",
    "  \n",
    "Solution b. P(Win a Cybertruck | Do Not Switch Your Guess) \n",
    "\n",
    "If you do not switch your initial choice: \n",
    "- The probability that the Cybertruck is behind your chosen door remains $\\frac{1}{3}$\n",
    "- Monty's action of revealing a goat does not change the initial probability. \n",
    "\n",
    "Therefore, the probability of winning the Cybertruck by not switching: \n",
    "\n",
    "**P(Win | Stay) = P(Initial Choice Correct) = $\\frac{1}{3}$**  \n",
    "\n",
    "Based on the calculations, switching your guess gives you a $\\frac{2}{3}$ chance of winning and not switching leaves you a $\\frac{1}{3}$ chance of winning, therefore, you should switch your guess to maximize your guess of winning the Cybertruck. \n",
    "              \n",
    "               \n"
   ],
   "id": "c6a9653f908cb259"
  },
  {
   "metadata": {},
   "cell_type": "markdown",
   "source": [
    "## Part 2. Simulation\n",
    "\n",
    "Simulate the problem with Python code by repeating the game 10,000 times with the strategy to ALWAYS switch, and then again 10,000 times with the strategy to NEVER switch. In each case, count the number of Cybertrucks won in 10,000 runs. Based on the results of your simulation, should you switch your guess? How well do your empirical estimates compare to your values obtained analytically in 1?\n"
   ],
   "id": "bd394e7488288c5d"
  },
  {
   "metadata": {
    "ExecuteTime": {
     "end_time": "2024-09-29T20:35:43.182690Z",
     "start_time": "2024-09-29T20:35:27.649016Z"
    }
   },
   "cell_type": "code",
   "source": [
    "import numpy as np\n",
    "\n",
    "# simulate starting conditions \n",
    "tesla = np.random.randint(1,4) # tesla location\n",
    "guess = np.random.randint(1,4) # your guess\n",
    "\n",
    "# possible doors to open\n",
    "if tesla == 1:\n",
    "    possible_doors = np.setdiff1d([2,3], guess)    \n",
    "elif tesla == 2:\n",
    "    possible_doors = np.setdiff1d([1,3], guess)\n",
    "else:\n",
    "    possible_doors = np.setdiff1d([1,2], guess)\n",
    "    \n",
    "# Monty's action\n",
    "monty = np.random.choice(possible_doors)\n",
    "\n",
    "print(f'Tesla is behind door {tesla}')\n",
    "print(f'You guessed door {guess}')\n",
    "print(f'Monty opened door {monty}')\n",
    "\n",
    "# simulate your strategy: switch or hold\n",
    "strategy = 0 # set to 0 if you want to always hold\n",
    "             # set to 1 if you want to always switch\n",
    "             \n",
    "## HERE IS WHERE YOU INSERT THE CODE THAT DETERMINES WHETHER YOU WIN THE CYBERTRUCK OR THE GOAT ##\n",
    "# SOLUTION \n",
    "\n",
    "# Total number of simulations\n",
    "num_simulations = 10000\n",
    "\n",
    "# Counters for wins in each strategy\n",
    "wins_when_switching = 0\n",
    "wins_when_not_switching = 0\n",
    "\n",
    "# Loop over the number of simulations\n",
    "for _ in range(num_simulations):\n",
    "    # Step 1: Randomly place the Tesla behind one of the doors\n",
    "    tesla = np.random.randint(1, 4)  # Possible values: 1, 2, or 3\n",
    "    # Step 2: Contestant makes an initial guess\n",
    "    guess = np.random.randint(1, 4)  # Your initial guess (1, 2, or 3)\n",
    "    \n",
    "    # Step 3: Monty opens a door revealing a goat\n",
    "    # List of all doors\n",
    "    doors = [1, 2, 3]\n",
    "    # Monty can open any door that is not the Tesla and not your guess\n",
    "    monty_options = [door for door in doors if door != tesla and door != guess]\n",
    "    # Monty randomly selects one of the possible doors to open\n",
    "    monty = np.random.choice(monty_options)\n",
    "    \n",
    "    # Step 4: Determine the remaining door you can switch to\n",
    "    # The remaining door is the one not chosen by you or Monty\n",
    "    remaining_doors = [door for door in doors if door != guess and door != monty]\n",
    "    # Since there's only one door left, we take the first element\n",
    "    remaining_door = remaining_doors[0]\n",
    "    \n",
    "    # Strategy 1: Always Switch\n",
    "    # You switch to the remaining door\n",
    "    new_guess = remaining_door\n",
    "    if new_guess == tesla:\n",
    "        # If the switched door has the Tesla, increment the win counter\n",
    "        wins_when_switching += 1\n",
    "\n",
    "    # Strategy 2: Never Switch\n",
    "    # You keep your initial guess\n",
    "    if guess == tesla:\n",
    "        # If your initial guess has the Tesla, increment the win counter\n",
    "        wins_when_not_switching += 1\n",
    "\n",
    "# Calculate the empirical probabilities\n",
    "prob_win_switching = wins_when_switching / num_simulations\n",
    "prob_win_not_switching = wins_when_not_switching / num_simulations\n",
    "\n",
    "# Display the results\n",
    "print(f\"Number of wins when switching: {wins_when_switching} out of {num_simulations}\")\n",
    "print(f\"Probability of winning when switching: {prob_win_switching:.4f}\")\n",
    "\n",
    "print(f\"Number of wins when not switching: {wins_when_not_switching} out of {num_simulations}\")\n",
    "print(f\"Probability of winning when not switching: {prob_win_not_switching:.4f}\")\n",
    "\n"
   ],
   "id": "3908db892590192c",
   "outputs": [
    {
     "name": "stdout",
     "output_type": "stream",
     "text": [
      "Tesla is behind door 2\n",
      "You guessed door 2\n",
      "Monty opened door 1\n",
      "Number of wins when switching: 6641 out of 10000\n",
      "Probability of winning when switching: 0.6641\n",
      "Number of wins when not switching: 3359 out of 10000\n",
      "Probability of winning when not switching: 0.3359\n"
     ]
    }
   ],
   "execution_count": 1
  },
  {
   "metadata": {},
   "cell_type": "markdown",
   "source": [
    "These results are very close to the analytical probabilities we calculated in Part 1: \n",
    "- Analytical probability when switching: $\\frac{2}{3}$ or approximately 66.67% \n",
    "- Analytical probability when not switching: $\\frac{1}{3}$ or approximately 33.33%  \n"
   ],
   "id": "17301c078634055"
  },
  {
   "metadata": {},
   "cell_type": "markdown",
   "source": [
    "## Deliverables:\n",
    "Submit an iPython notebook titled \"homework_1_EMPLID.ipynb\" that contains your solutions to the above problems. Make sure to include all relevant code and output in the notebook. \n",
    "\n",
    "Homework 1 must be submitted by committing and pushing your notebook to this repository. The file should be named \"homework_1_EMPLID.ipynb\" and the destination address must be [/BME-i9400/homework/homework_1_submissions/](https://github.com/dmochow/BME-i9400/tree/main/homework/homework_1_submissions)"
   ],
   "id": "4c3d931b219ac649"
  },
  {
   "metadata": {},
   "cell_type": "code",
   "outputs": [],
   "execution_count": null,
   "source": "",
   "id": "5a4e86aff39d0cb8"
  }
 ],
 "metadata": {
  "kernelspec": {
   "display_name": "Python 3",
   "language": "python",
   "name": "python3"
  },
  "language_info": {
   "codemirror_mode": {
    "name": "ipython",
    "version": 2
   },
   "file_extension": ".py",
   "mimetype": "text/x-python",
   "name": "python",
   "nbconvert_exporter": "python",
   "pygments_lexer": "ipython2",
   "version": "2.7.6"
  }
 },
 "nbformat": 4,
 "nbformat_minor": 5
}
