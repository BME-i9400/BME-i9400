{
 "metadata": {
  "kernelspec": {
   "name": "python3",
   "display_name": "Python 3 (ipykernel)",
   "language": "python"
  },
  "language_info": {
   "codemirror_mode": {
    "name": "python",
    "version": 3
   },
   "file_extension": ".py",
   "mimetype": "text/x-python",
   "name": "python",
   "nbconvert_exporter": "python",
   "pygments_lexer": "ipython3",
   "version": "3.8"
  }
 },
 "nbformat_minor": 4,
 "nbformat": 4,
 "cells": [
  {
   "cell_type": "markdown",
   "source": "PART 1: ANALYTICAL SOLUTION\n\nThere are three doors. Out of them, 1 door hides a Tesla Cybertruck and 2 doors hide goats. Monty, who knows where the Tesla is located, opens a different door revealing a goat. Then an opportunity is to either switch the initial guess to the other unopened door or stay with the original choice.\n\na. For P(win a Cybertruck ∣ switch your guess), if we switch, the possible outcomes are:\n\ni) If we initially chose a goat (which happens with probability 2/3), Monty opens the door with a goat. If we switch in this case, we will win the Tesla.\n\nii) If we initially chose Tesla (which happens with probability 1/3), then Monty opens a door with a goat. We will pick a goat if we switch here.\n\nHence, P(win a Cybertruck ∣ switch your guess) = 2/3.\n\nb. For P(win a Cybertruck ∣ do not switch your guess), if you do not switch the guess, the possible outcomes are:\n\ni) If we initially chose the Tesla (which happens with probability 1/3), you win the Tesla.\n\nii) If we initially chose a goat (which happens with probability 2/3), we lose because we stick with our original guess.\n\nHence, P(win a Cybertruck ∣ do not switch your guess) = 1/3.\n \nThus, switching gives a higher probability of winning compared to not switching. Therefore, we should switch our guess.",
   "metadata": {}
  },
  {
   "cell_type": "markdown",
   "source": "PART 2. SIMULATION\n\nOver here, firstly we will run two sets of 10,000 trials. One is where we always switch and the other where we never switch. Then we compare the results to the analytical solution",
   "metadata": {}
  },
  {
   "cell_type": "code",
   "source": "import numpy as np\n\n# Simulate with 10,000 trials\ndef monty_hall_simulation(strategy, n_trials=10000):\n    wins = 0\n    \n    for _ in range(n_trials):\n        # Randomly place the Tesla and make a guess\n        tesla = np.random.randint(1, 4)\n        guess = np.random.randint(1, 4)\n        \n        # Monty opens a door that is neither the Tesla nor the guess\n        possible_doors = [door for door in [1, 2, 3] if door != tesla and door != guess]\n        monty = np.random.choice(possible_doors)\n        \n        # Apply the strategy\n        if strategy == 'switch':\n            # Switch to the other door\n            guess = [door for door in [1, 2, 3] if door != guess and door != monty][0]\n        \n        # If the final guess is correct\n        if guess == tesla:\n            wins += 1\n    \n    return wins\n\n# Simulate for both strategies\nn_trials = 10000\nswitch_wins = monty_hall_simulation(strategy='switch', n_trials=n_trials)\nhold_wins = monty_hall_simulation(strategy='hold', n_trials=n_trials)\n\n# Print the results\nprint(f'Number of wins while always switching: {switch_wins} out of {n_trials}')\nprint(f'Number of wins while never switching: {hold_wins} out of {n_trials}')",
   "metadata": {
    "trusted": true,
    "ExecuteTime": {
     "end_time": "2024-11-05T16:54:00.541333Z",
     "start_time": "2024-11-05T16:54:00.405637Z"
    }
   },
   "outputs": [
    {
     "name": "stdout",
     "output_type": "stream",
     "text": [
      "Number of wins while always switching: 6665 out of 10000\n",
      "Number of wins while never switching: 3303 out of 10000\n"
     ]
    }
   ],
   "execution_count": 1
  },
  {
   "cell_type": "markdown",
   "source": "OUTPUT:\nNumber of wins while always switching: 6642 out of 10000\nNumber of wins while never switching: 3295 out of 10000",
   "metadata": {}
  },
  {
   "cell_type": "markdown",
   "source": "The results from the simulation align closely with the analytical probabilities confirming that switching is indeed the better strategy.",
   "metadata": {}
  }
 ]
}
