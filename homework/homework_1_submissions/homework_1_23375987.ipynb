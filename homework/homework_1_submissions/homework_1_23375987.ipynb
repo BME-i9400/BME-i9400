{
 "cells": [
  {
   "metadata": {},
   "cell_type": "markdown",
   "source": [
    "## BME i9400\n",
    "## Fall 2024\n",
    "### Homework 1: The Monty Hall Problem"
   ],
   "id": "fdb01900d19e6b5a"
  },
  {
   "metadata": {},
   "cell_type": "markdown",
   "source": [
    "** Due date: Monday, September 30, 2024, 11:59:59.999 PM EST **\n",
    "\n"
   ],
   "id": "50c3b8c2de5fca28"
  },
  {
   "metadata": {},
   "cell_type": "markdown",
   "source": [
    "You are a contestant on a game show hosted by Monty Hall. In the game show, there are 3 doors. Behind one of the doors is a Tesla Cybertruck. Behind the other two is a goat (i.e., opening each of the other two doors reveals a goat). The object of the game is to successfully choose the door holding the Tesla Cybertruck -- regardless of how much you may love goats or dislike Tesla Cybertrucks. \n",
    " \n",
    "Now imagine that you randomly choose one of the doors. Mr. Hall then shows you one of the other two doors, revealing a goat. He then offers you the chance to switch your initial guess.\n",
    " \n",
    "The objective of this assignment is to determine whether you should switch your guess.\n",
    " \n",
    "### Part 1. Analytical Solution \t\n",
    "By using the laws of probability and following the rules of the game, derive the following probabilities:\n",
    "\n",
    "a. \tP(win a Cybertruck | switch your guess)\n",
    "\n",
    "b. \tP(win a Cybertruck | do not switch your guess)\n",
    " \n",
    "Based on your answers, should you switch your guess?\n",
    "\n",
    "** ENTER YOUR ANSWER HERE IN MARKDOWN, IDEALLY USING LATEX NOTATION WHICH IS SUPPORTED BY JUPYTER NOTEBOOKS. **"
   ],
   "id": "530e3b122b4bf35c"
  },
  {
   "metadata": {},
   "cell_type": "markdown",
   "source": [
    "$$\n",
    "P(\\text{win a Cybertruck}) = \\frac{1}{3}\n",
    "$$\n",
    "$$\n",
    "P(\\text{win a Goat}) = \\frac{2}{3}\n",
    "$$\n",
    "$$\n",
    "P(\\text{switch your guess|win a Cybertruck}) = \\frac{1}{3}\n",
    "$$\n",
    "$$\n",
    "P(\\text{switch your guess|win a Goat}) = \\frac{2}{3}\n",
    "$$\n",
    "$$\n",
    "P(\\text{do not switch your guess|win a Cybertruck}) = \\frac{2}{3}\n",
    "$$\n",
    "$$\n",
    "P(\\text{do not switch your guess|win a Goat}) = \\frac{1}{3}\n",
    "$$\n",
    "$$\n",
    "P(\\text{switch your guess}) = (P(\\text{win a Cybertruck}) \\times P(\\text{switch your guess|win a Cybertruck})) + (P(\\text{win a Goat}) \\times P(\\text{switch your guess|win a Goat})) = (\\frac{1}{3} \\times \\frac{1}{3}) + (\\frac{2}{3}  \\times  \\frac{2}{3}) = \\frac{5}{9}\n",
    "$$\n",
    "$$\n",
    "P(\\text{do not switch your guess}) = (P(\\text{win a Cybertruck}) \\times P(\\text{do not switch your guess|win a Cybertruck})) + (P(\\text{win a Goat}) \\times P(\\text{do not switch your guess|win a Goat})) = (\\frac{1}{3} \\times \\frac{2}{3}) + (\\frac{2}{3} \\times \\frac{1}{3}) = \\frac{4}{9}\n",
    "$$\n",
    "$$\n",
    "P(\\text{win a Cybertruck|switch your guess}) = (P(\\text{win a Cybertruck}) \\times P(\\text{switch your guess|win a Cybertruck})) / P(\\text{switch your guess}) = (\\frac{1}{3} \\times \\frac{1}{3}) / \\frac{5}{9} = \\frac{1}{5}\n",
    "$$\n",
    "$$\n",
    "P(\\text{win a Cybertruck|do not switch your guess}) = (P(\\text{win a Cybertruck}) \\times P(\\text{do not switch your guess|win a Cybertruck})) / P(\\text{do not switch your guess}) = (\\frac{1}{3} \\times \\frac{2}{3}) / \\frac{4}{9} = \\frac{1}{2}\n",
    "$$\n",
    "$$\n",
    "\\text{Therefore, you should switch your guess since the probability of winning a Cybertruck is higher if you do not switch your guess.}\n",
    "$$"
   ],
   "id": "bc2f23986ec81adb"
  },
  {
   "metadata": {},
   "cell_type": "markdown",
   "source": [
    "## Part 2. Simulation\n",
    "\n",
    "Simulate the problem with Python code by repeating the game 10,000 times with the strategy to ALWAYS switch, and then again 10,000 times with the strategy to NEVER switch. In each case, count the number of Cybertrucks won in 10,000 runs. Based on the results of your simulation, should you switch your guess? How well do your empirical estimates compare to your values obtained analytically in 1?\n"
   ],
   "id": "bd394e7488288c5d"
  },
  {
   "metadata": {
    "ExecuteTime": {
     "end_time": "2024-10-01T02:29:16.591989Z",
     "start_time": "2024-10-01T02:29:15.740284Z"
    }
   },
   "cell_type": "code",
   "source": [
    "import numpy as np\n",
    "\n",
    "# simulate starting conditions \n",
    "tesla = np.random.randint(1,4) # tesla location\n",
    "guess = np.random.randint(1,4) # your guess\n",
    "\n",
    "# possible doors to open\n",
    "if tesla == 1:\n",
    "    possible_doors = np.setdiff1d([2,3], guess)    \n",
    "elif tesla == 2:\n",
    "    possible_doors = np.setdiff1d([1,3], guess)\n",
    "else:\n",
    "    possible_doors = np.setdiff1d([1,2], guess)\n",
    "    \n",
    "# Monty's action\n",
    "monty = np.random.choice(possible_doors)\n",
    "\n",
    "print(f'Tesla is behind door {tesla}')\n",
    "print(f'You guessed door {guess}')\n",
    "print(f'Monty opened door {monty}')\n",
    "\n",
    "# simulate your strategy: switch or hold\n",
    "strategy = 0 # set to 0 if you want to always hold\n",
    "             # set to 1 if you want to always switch\n",
    "             \n",
    "## HERE IS WHERE YOU INSERT THE CODE THAT DETERMINES WHETHER YOU WIN THE CYBERTRUCK OR THE GOAT ##\n",
    "if strategy == 0:\n",
    "    if guess == tesla:\n",
    "        print('You won the Cybertruck')\n",
    "    else:\n",
    "        print('You won a goat')\n",
    "else:\n",
    "    if guess == tesla:\n",
    "        print('You won a goat')\n",
    "    else:\n",
    "        print('You won the Cybertruck')"
   ],
   "id": "31555ff0583f1e00",
   "outputs": [
    {
     "name": "stdout",
     "output_type": "stream",
     "text": [
      "Tesla is behind door 1\n",
      "You guessed door 2\n",
      "Monty opened door 3\n",
      "You won a goat\n"
     ]
    }
   ],
   "execution_count": 1
  },
  {
   "metadata": {
    "ExecuteTime": {
     "end_time": "2024-10-01T02:29:19.715733Z",
     "start_time": "2024-10-01T02:29:16.745131Z"
    }
   },
   "cell_type": "code",
   "source": [
    "# Simulation code\n",
    "n = 10000\n",
    "win_count_switch = 0\n",
    "win_count_hold = 0\n",
    "\n",
    "for i in range(n):\n",
    "    tesla = np.random.randint(1,4) \n",
    "    guess = np.random.randint(1,4)\n",
    "    if tesla == 1:\n",
    "        possible_doors = np.setdiff1d([2,3], guess)    \n",
    "    elif tesla == 2:\n",
    "        possible_doors = np.setdiff1d([1,3], guess)\n",
    "    else:\n",
    "        possible_doors = np.setdiff1d([1,2], guess)\n",
    "    monty = np.random.choice(possible_doors)\n",
    "    \n",
    "    if guess == tesla:\n",
    "        win_count_hold +=1\n",
    "    else:\n",
    "        win_count_hold +=0\n",
    "\n",
    "m = 10000\n",
    "for j in range(m):\n",
    "    tesla = np.random.randint(1,4) \n",
    "    guess = np.random.randint(1,4)\n",
    "    if tesla == 1:\n",
    "        possible_doors = np.setdiff1d([2,3], guess)    \n",
    "    elif tesla == 2:\n",
    "        possible_doors = np.setdiff1d([1,3], guess)\n",
    "    else:\n",
    "        possible_doors = np.setdiff1d([1,2], guess)\n",
    "    monty = np.random.choice(possible_doors)\n",
    "    \n",
    "    if guess == tesla:\n",
    "        win_count_switch +=0\n",
    "    else:\n",
    "        win_count_switch +=1\n",
    "print(f'Number of Cybertrucks won with strategy to always switch: {win_count_switch}')\n",
    "print(f'Number of Cybertrucks won with strategy to always hold: {win_count_hold}')"
   ],
   "id": "1aa15558e182e39d",
   "outputs": [
    {
     "name": "stdout",
     "output_type": "stream",
     "text": [
      "Number of Cybertrucks won with strategy to always switch: 6671\n",
      "Number of Cybertrucks won with strategy to always hold: 3417\n"
     ]
    }
   ],
   "execution_count": 2
  },
  {
   "metadata": {
    "ExecuteTime": {
     "end_time": "2024-10-01T02:29:19.968354Z",
     "start_time": "2024-10-01T02:29:19.950145Z"
    }
   },
   "cell_type": "code",
   "source": [
    "# Empirical results\n",
    "win_count_switch/m, win_count_hold/n"
   ],
   "id": "db754c1d2a112bbc",
   "outputs": [
    {
     "data": {
      "text/plain": [
       "(0.6671, 0.3417)"
      ]
     },
     "execution_count": 3,
     "metadata": {},
     "output_type": "execute_result"
    }
   ],
   "execution_count": 3
  },
  {
   "metadata": {
    "ExecuteTime": {
     "end_time": "2024-10-01T02:29:20.096811Z",
     "start_time": "2024-10-01T02:29:20.072969Z"
    }
   },
   "cell_type": "code",
   "source": [
    "# Analytical results\n",
    "P_win_Cybertruck_switch = 1/5\n",
    "P_win_Cybertruck_hold = 1/2\n",
    "P_win_Cybertruck_switch, P_win_Cybertruck_hold"
   ],
   "id": "4eec54ab0ee7a145",
   "outputs": [
    {
     "data": {
      "text/plain": [
       "(0.2, 0.5)"
      ]
     },
     "execution_count": 4,
     "metadata": {},
     "output_type": "execute_result"
    }
   ],
   "execution_count": 4
  },
  {
   "metadata": {},
   "cell_type": "markdown",
   "source": [
    "$$\n",
    "\\text{The results of the simulation show that the probability of winning a Cybertruck is higher if you switch your guess unlike that of the analytical one.}\n",
    "$$\n",
    "$$\n",
    "\\text{The empirical results are not consistent with the analytical results.}\n",
    "$$"
   ],
   "id": "99c6f754e7da57ed"
  },
  {
   "metadata": {
    "ExecuteTime": {
     "end_time": "2024-10-01T02:29:20.297667Z",
     "start_time": "2024-10-01T02:29:20.292409Z"
    }
   },
   "cell_type": "code",
   "source": "",
   "id": "cd56ba98a04891ed",
   "outputs": [],
   "execution_count": null
  },
  {
   "metadata": {},
   "cell_type": "markdown",
   "source": [
    "## Deliverables:\n",
    "Submit an iPython notebook titled \"homework_1_EMPLID.ipynb\" that contains your solutions to the above problems. Make sure to include all relevant code and output in the notebook. \n",
    "\n",
    "Homework 1 must be submitted by committing and pushing your notebook to this repository. The file should be named \"homework_1_EMPLID.ipynb\" and the destination address must be [/BME-i9400/homework/homework_1_submissions/](https://github.com/dmochow/BME-i9400/tree/main/homework/homework_1_submissions)"
   ],
   "id": "4c3d931b219ac649"
  },
  {
   "metadata": {
    "ExecuteTime": {
     "end_time": "2024-10-01T02:29:20.363490Z",
     "start_time": "2024-10-01T02:29:20.355460Z"
    }
   },
   "cell_type": "code",
   "source": "",
   "id": "5a4e86aff39d0cb8",
   "outputs": [],
   "execution_count": null
  }
 ],
 "metadata": {
  "kernelspec": {
   "display_name": "Python 3",
   "language": "python",
   "name": "python3"
  },
  "language_info": {
   "codemirror_mode": {
    "name": "ipython",
    "version": 2
   },
   "file_extension": ".py",
   "mimetype": "text/x-python",
   "name": "python",
   "nbconvert_exporter": "python",
   "pygments_lexer": "ipython2",
   "version": "2.7.6"
  }
 },
 "nbformat": 4,
 "nbformat_minor": 5
}
