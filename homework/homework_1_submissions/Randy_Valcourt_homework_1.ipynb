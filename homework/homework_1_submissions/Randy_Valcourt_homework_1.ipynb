{
 "cells": [
  {
   "cell_type": "markdown",
   "id": "9061c646",
   "metadata": {},
   "source": [
    "# BME i9400\n",
    "## Fall 2024\n",
    "### Homework 1: The Monty Hall Problem"
   ]
  },
  {
   "cell_type": "markdown",
   "id": "50c3b8c2de5fca28",
   "metadata": {},
   "source": [
    "** Due date: Monday, September 30, 2024, 11:59:59.999 PM EST **\n",
    "\n"
   ]
  },
  {
   "cell_type": "markdown",
   "id": "530e3b122b4bf35c",
   "metadata": {},
   "source": [
    "You are a contestant on a game show hosted by Monty Hall. In the game show, there are 3 doors. Behind one of the doors is a Tesla Cybertruck. Behind the other two is a goat (i.e., opening each of the other two doors reveals a goat). The object of the game is to successfully choose the door holding the Tesla Cybertruck -- regardless of how much you may love goats or dislike Tesla Cybertrucks. \n",
    " \n",
    "Now imagine that you randomly choose one of the doors. Mr. Hall then shows you one of the other two doors, revealing a goat. He then offers you the chance to switch your initial guess.\n",
    " \n",
    "The objective of this assignment is to determine whether you should switch your guess.\n",
    " \n",
    "### Part 1. Analytical Solution \t\n",
    "By using the laws of probability and following the rules of the game, derive the following probabilities:\n",
    "\n",
    "a. \tP(win a Cybertruck | switch your guess)\n",
    "\n",
    "b. \tP(win a Cybertruck | do not switch your guess)\n",
    " \n",
    "Based on your answers, should you switch your guess?\n",
    "\n",
    "** ENTER YOUR ANSWER HERE IN MARKDOWN, IDEALLY USING LATEX NOTATION WHICH IS SUPPORTED BY JUPYTER NOTEBOOKS. **\n",
    "\n",
    "A) P(win a Cybertruck | switch your guess)\n",
    "\n",
    "Given events in the problem:\n",
    "\n",
    "C1 : Cybertruck behind Door # 1 \n",
    "\n",
    "C2 : Cybertruck behind Door # 2\n",
    "\n",
    "C3 : Cybertruck behind Door # 3 \n",
    "\n",
    "G2 : Monty opens the second Door and reveals goat \n",
    "\n",
    "G2 : Monty opens the Third Door and reveals goat \n",
    "\n",
    "Probabilites of Cybertruck behind doors \n",
    "$P(C1) = P(C2) = P(C3) = 1/3$\n",
    "\n",
    "In this scenario I choose door 1 and Monty reveals Door 2 and two win I have to switch to  Door 3 where the cyber truck is: \n",
    "\n",
    "$P(G2 \\mid C3) = 1$\n",
    "If the truck is behind door 3 Monty mush choose Door 2 \n",
    "\n",
    "$P(G2 \\mid C1) = \\frac{1}{2}$\n",
    "Probability of Monty chooseing Door 2 if I choose door 1 is 50/50 chance between Door 2 & 3 \n",
    "\n",
    "$P(G2 \\mid C3) = 0$ \n",
    "Probability of Monty choosing Door 2 if I choose door 2 is unlikly \n",
    "\n",
    "Solve for P(G2) using Law of Total probability \n",
    "$P(A) = \\Sigma P(A \\mid B_n)P(B_n)$\n",
    "\n",
    "$P(G2) = P(G2 \\mid C1)P(C1) +  P(G2 \\mid C2)P(C2) + P(G2 \\mid C3)P(C3)$\n",
    "\n",
    "$P(G2) = (\\frac{1}{2})(\\frac{1}{3}) + (0)(\\frac{1}{3}) + (1)(\\frac{1}{3})$\n",
    "\n",
    "$P(G2) = (\\frac{1}{2})$\n",
    "\n",
    "Probablity of sucess when I switch to Door 3 after Monty reveals Door 2 \n",
    "\n",
    "$P(C3 \\mid G2) = \\frac{P(G2 \\mid C3)P(C3)}{P(G2)}$ \n",
    "\n",
    "$P(C3 \\mid G2) = \\frac{(1)(\\frac{1}{3})}{(\\frac{1}{2})}$\n",
    "\n",
    "$P(C3 \\mid G2) = \\frac{2}{3} $\n",
    "\n",
    "B) P(win a Cybertruck | do not switch your guess)\n",
    "\n",
    "Probablity of sucess when I stick to Door 1 after Monty reveals Door 2 \n",
    "\n",
    "$P(C1 \\mid G2) = P(C1) = \\frac{1}{3}$\n",
    "\n"
   ]
  },
  {
   "cell_type": "markdown",
   "id": "bd394e7488288c5d",
   "metadata": {},
   "source": [
    "## Part 2. Simulation\n",
    "\n",
    "Simulate the problem with Python code by repeating the game 10,000 times with the strategy to ALWAYS switch, and then again 10,000 times with the strategy to NEVER switch. In each case, count the number of Cybertrucks won in 10,000 runs. Based on the results of your simulation, should you switch your guess? How well do your empirical estimates compare to your values obtained analytically in 1?\n"
   ]
  },
  {
   "cell_type": "code",
   "id": "3908db892590192c",
   "metadata": {
    "ExecuteTime": {
     "end_time": "2024-11-05T16:50:12.202806Z",
     "start_time": "2024-11-05T16:50:11.543506Z"
    }
   },
   "source": [
    "import numpy as np\n",
    "\n",
    "# simulate starting conditions \n",
    "tesla = np.random.randint(1,4) # tesla location\n",
    "guess = np.random.randint(1,4) # your guess\n",
    "\n",
    "# possible doors to open\n",
    "if tesla == 1:\n",
    "    possible_doors = np.setdiff1d([2,3], guess)    \n",
    "elif tesla == 2:\n",
    "    possible_doors = np.setdiff1d([1,3], guess)\n",
    "else:\n",
    "    possible_doors = np.setdiff1d([1,2], guess)\n",
    "    \n",
    "# Monty's action\n",
    "monty = np.random.choice(possible_doors)\n",
    "\n",
    "print(f'Tesla is behind door {tesla}')\n",
    "print(f'You guessed door {guess}')\n",
    "print(f'Monty opened door {monty}')\n",
    "\n",
    "# simulate your strategy: switch or hold\n",
    "strategy = 0 # set to 0 if you want to always hold\n",
    "             # set to 1 if you want to always switch\n",
    "             \n",
    "## HERE IS WHERE YOU INSERT THE CODE THAT DETERMINES WHETHER YOU WIN THE CYBERTRUCK OR THE GOAT ##\n",
    "\n",
    "def simulate_monty_hall(strategy, num_trials = 10000):\n",
    "    wins = 0 \n",
    "    for i in range (num_trials):\n",
    "        tesla = np.random.randint(1,4)\n",
    "        guess = np.random.randint(1,4)\n",
    "        if tesla == 1:\n",
    "            possible_doors = np.setdiff1d([2,3], guess)    \n",
    "        elif tesla == 2:\n",
    "            possible_doors = np.setdiff1d([1,3], guess)\n",
    "        else:\n",
    "            possible_doors = np.setdiff1d([1,2], guess)\n",
    "        \n",
    "        monty = np.random.choice(possible_doors)  \n",
    "\n",
    "        if strategy == 1:  # Always switch\n",
    "            remaining_doors = np.setdiff1d([1, 2, 3], [guess, monty])   # Switch to the remaining unopened door\n",
    "            guess = remaining_doors[0]  # Switch to the other door\n",
    "        if guess == tesla:# Check if the player's final guess is correct\n",
    "            wins += 1\n",
    "    return wins\n",
    "\n",
    "num_trials = 10000\n",
    "switch_wins = simulate_monty_hall(strategy=1)\n",
    "hold_wins = simulate_monty_hall(strategy=0)\n",
    "\n",
    "print(f\"Strategy to ALWAYS switch: Won {switch_wins} out of {num_trials} times.\")\n",
    "print(f\"Precentage success rate ({(switch_wins / num_trials) * 100:.2f}% )\")\n",
    "print(f\"Strategy to NEVER switch: Won {hold_wins} out of {num_trials} times.\")\n",
    "print(f\"Precentage success rate ({(hold_wins / num_trials) * 100:.2f}% )\")"
   ],
   "outputs": [
    {
     "name": "stdout",
     "output_type": "stream",
     "text": [
      "Tesla is behind door 3\n",
      "You guessed door 2\n",
      "Monty opened door 1\n",
      "Strategy to ALWAYS switch: Won 6658 out of 10000 times.\n",
      "Precentage success rate (66.58% )\n",
      "Strategy to NEVER switch: Won 3386 out of 10000 times.\n",
      "Precentage success rate (33.86% )\n"
     ]
    }
   ],
   "execution_count": 1
  },
  {
   "cell_type": "markdown",
   "id": "17301c078634055",
   "metadata": {},
   "source": [
    "Based on the results I should switch my initial guess since there is a higher chance of sucess. \n",
    "The emirical estimamtes are very colse to the analytical one obtained in part 1 in fact in terms of pecentage there only 20-60 decimals away. "
   ]
  },
  {
   "cell_type": "markdown",
   "id": "4c3d931b219ac649",
   "metadata": {},
   "source": [
    "## Deliverables:\n",
    "Submit an iPython notebook titled \"homework_1_EMPLID.ipynb\" that contains your solutions to the above problems. Make sure to include all relevant code and output in the notebook. \n",
    "\n",
    "Homework 1 must be submitted by committing and pushing your notebook to this repository. The file should be named \"homework_1_EMPLID.ipynb\" and the destination address must be [/BME-i9400/homework/homework_1_submissions/](https://github.com/dmochow/BME-i9400/tree/main/homework/homework_1_submissions)"
   ]
  },
  {
   "cell_type": "code",
   "id": "5a4e86aff39d0cb8",
   "metadata": {
    "ExecuteTime": {
     "end_time": "2024-11-05T16:50:12.276533Z",
     "start_time": "2024-11-05T16:50:12.274603Z"
    }
   },
   "source": [],
   "outputs": [],
   "execution_count": null
  }
 ],
 "metadata": {
  "kernelspec": {
   "display_name": "Python 3 (ipykernel)",
   "language": "python",
   "name": "python3"
  },
  "language_info": {
   "codemirror_mode": {
    "name": "ipython",
    "version": 3
   },
   "file_extension": ".py",
   "mimetype": "text/x-python",
   "name": "python",
   "nbconvert_exporter": "python",
   "pygments_lexer": "ipython3",
   "version": "3.9.7"
  }
 },
 "nbformat": 4,
 "nbformat_minor": 5
}
