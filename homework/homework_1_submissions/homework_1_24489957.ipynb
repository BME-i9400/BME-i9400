{
 "cells": [
  {
   "cell_type": "markdown",
   "id": "fdb01900d19e6b5a",
   "metadata": {},
   "source": [
    "## BME i9400\n",
    "## Fall 2024\n",
    "### Homework 1: The Monty Hall Problem"
   ]
  },
  {
   "cell_type": "markdown",
   "id": "50c3b8c2de5fca28",
   "metadata": {},
   "source": [
    "** Due date: Monday, September 30, 2024, 11:59:59.999 PM EST **"
   ]
  },
  {
   "cell_type": "markdown",
   "id": "530e3b122b4bf35c",
   "metadata": {},
   "source": [
    "You are a contestant on a game show hosted by Monty Hall. In the game show, there are 3 doors. Behind one of the doors is a Tesla Cybertruck. Behind the other two is a goat (i.e., opening each of the other two doors reveals a goat). The object of the game is to successfully choose the door holding the Tesla Cybertruck -- regardless of how much you may love goats or dislike Tesla Cybertrucks. \n",
    " \n",
    "Now imagine that you randomly choose one of the doors. Mr. Hall then shows you one of the other two doors, revealing a goat. He then offers you the chance to switch your initial guess.\n",
    " \n",
    "The objective of this assignment is to determine whether you should switch your guess.\n",
    " \n",
    "### Part 1. Analytical Solution \t\n",
    "By using the laws of probability and following the rules of the game, derive the following probabilities:\n",
    "\n",
    "a. \tP(win a Cybertruck | switch your guess)\n",
    "\n",
    "b. \tP(win a Cybertruck | do not switch your guess)\n",
    " \n",
    "Based on your answers, should you switch your guess?\n",
    "P\n",
    "\n",
    "** ENTER YOUR ANSWER HERE IN MARKDOWN, IDEALLY USING LATEX NOTATION WHICH IS SUPPORTED BY JUPYTER NOTEBOOKS. **\n",
    "\n",
    "\n",
    "$P(win|switch) = P(W_S)$\n",
    "\n",
    "$P(win|not switch) = P(W_N)$\n",
    "\n",
    "\n",
    "\n",
    "$P(D_1)=1/3$ (probability cybertruck is in door 1 initially)\n",
    "\n",
    "$P(D_2)=1/3$ (probability cybertruck is in door 2 initially)\n",
    "\n",
    "$P(D_3)=1/3$ (probability cybertruck is in door 3 initially)\n",
    "\n",
    "Then, if we choose door 1 initially (probability would be the same if we started on door 2 or 3 regardless):\n",
    "* if the cybetruck was on D1.\n",
    "$P(W_S|D_1) = 0$ (probability of winning, if we chose door 1 initially and switching)\n",
    "\n",
    "* if the cybetruck was on D2.\n",
    "$P(W_S|D_2) = 1$ (probability of winning, if we chose door 1 initially and switching)\n",
    "\n",
    "* if the cybetruck was on D3.\n",
    "$P(W_S|D_3) = 1$ (probability of winning, if we chose door 1 initially and switching)\n",
    "\n",
    "By the law of **total probabilities**:\n",
    "\n",
    "$P(W_S) = P(W_S|D_1)\\cdot P(D_1) + P(W_S|D_2)\\cdot P(D_2) + P(W_S|D_3)\\cdot P(D_3) = ( 0 \\cdot 1/3) + (1\\cdot 1/3) + (1 \\cdot 1/3) = 2/3 $ \n",
    " \n",
    "\n",
    "Simply, the probability of not winning if we swtich will be the opposite:\n",
    "\n",
    "$P(win|not switch) = P(W_N) = 1-P(W_S) = 1/3$\n"
   ]
  },
  {
   "cell_type": "markdown",
   "id": "bd394e7488288c5d",
   "metadata": {},
   "source": [
    "## Part 2. Simulation\n",
    "\n",
    "Simulate the problem with Python code by repeating the game 10,000 times with the strategy to ALWAYS switch, and then again 10,000 times with the strategy to NEVER switch. In each case, count the number of Cybertrucks won in 10,000 runs. Based on the results of your simulation, should you switch your guess? How well do your empirical estimates compare to your values obtained analytically in 1?\n"
   ]
  },
  {
   "cell_type": "code",
   "execution_count": 32,
   "id": "3908db892590192c",
   "metadata": {
    "ExecuteTime": {
     "end_time": "2024-09-19T02:24:28.905152Z",
     "start_time": "2024-09-19T02:24:28.900017Z"
    }
   },
   "outputs": [
    {
     "name": "stdout",
     "output_type": "stream",
     "text": [
      "Tesla is behind door 1\n",
      "You guessed door 3\n",
      "Monty opened door 2\n"
     ]
    }
   ],
   "source": [
    "import numpy as np\n",
    "\n",
    "# simulate starting conditions \n",
    "tesla = np.random.randint(1,4) # tesla location\n",
    "guess = np.random.randint(1,4) # your guess\n",
    "\n",
    "# possible doors to open\n",
    "if tesla == 1:\n",
    "    possible_doors = np.setdiff1d([2,3], guess)    \n",
    "elif tesla == 2:\n",
    "    possible_doors = np.setdiff1d([1,3], guess)\n",
    "else:\n",
    "    possible_doors = np.setdiff1d([1,2], guess)\n",
    "    \n",
    "# Monty's action\n",
    "monty = np.random.choice(possible_doors)\n",
    "\n",
    "print(f'Tesla is behind door {tesla}')\n",
    "print(f'You guessed door {guess}')\n",
    "print(f'Monty opened door {monty}')\n",
    "\n",
    "# simulate your strategy: switch or hold\n",
    "strategy = 0 # set to 0 if you want to always hold\n",
    "             # set to 1 if you want to always switch\n",
    "             \n",
    "\n",
    "def win_no_win(tesla, guess, monty, strategy):\n",
    "    if strategy == 0:\n",
    "        if guess == tesla:\n",
    "            return 1\n",
    "        else:\n",
    "            return 0\n",
    "    else:\n",
    "        if guess == tesla:\n",
    "            return 0\n",
    "        else:\n",
    "            return 1\n"
   ]
  },
  {
   "cell_type": "markdown",
   "id": "b7584517",
   "metadata": {},
   "source": [
    "Repeat the game 100000 times, first with one strategy, then the other, save the results"
   ]
  },
  {
   "cell_type": "code",
   "execution_count": 33,
   "id": "83fa64bd",
   "metadata": {},
   "outputs": [
    {
     "name": "stdout",
     "output_type": "stream",
     "text": [
      "hold won 3305 times out of 100000, P(win/hold) = 0.3305\n",
      "switch won 6614 times out of 100000, P(win/switch) = 0.6614\n"
     ]
    }
   ],
   "source": [
    "\n",
    "results = []\n",
    "Nrepeats = 10000\n",
    "for s in range(2):\n",
    "    wins = 0\n",
    "    for i in range(Nrepeats):\n",
    "        tesla = np.random.randint(1,4)\n",
    "        guess = np.random.randint(1,4)\n",
    "        if s == 0:\n",
    "            strategy = 'hold'\n",
    "        else:\n",
    "            strategy = 'switch'\n",
    "        if win_no_win(tesla, guess, monty, s) == 1:\n",
    "            wins += 1\n",
    "    print(f'{strategy} won {wins} times out of 100000, P(win/{strategy}) = {wins/Nrepeats}')\n"
   ]
  },
  {
   "cell_type": "markdown",
   "id": "17301c078634055",
   "metadata": {},
   "source": [
    "## Deliverables:\n",
    "\n",
    "Submit an iPython notebook titled \"homework_1_EMPLID.ipynb\" that contains your solutions to the above problems. Make sure to include all relevant code and output in the notebook. \n"
   ]
  }
 ],
 "metadata": {
  "kernelspec": {
   "display_name": "Python 3",
   "language": "python",
   "name": "python3"
  },
  "language_info": {
   "codemirror_mode": {
    "name": "ipython",
    "version": 3
   },
   "file_extension": ".py",
   "mimetype": "text/x-python",
   "name": "python",
   "nbconvert_exporter": "python",
   "pygments_lexer": "ipython3",
   "version": "3.11.9"
  }
 },
 "nbformat": 4,
 "nbformat_minor": 5
}
