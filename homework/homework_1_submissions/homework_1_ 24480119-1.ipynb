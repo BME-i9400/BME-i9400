{
 "cells": [
  {
   "cell_type": "markdown",
   "id": "68203662-431a-412e-8d34-f428cc7e5b88",
   "metadata": {},
   "source": [
    "### Part 1: Analytical Solution\n",
    "\n",
    "In the Monty Hall problem, you have the following probabilities:\n",
    "\n",
    "- Initially, there is a $\\frac{1}{3}$ chance of picking the Tesla Cybertruck and a $\\frac{2}{3}$ chance of picking a goat.\n",
    "\n",
    "If you switch after Monty reveals a goat, the probabilities are as follows:\n",
    "\n",
    "- $P(\\text{win a Cybertruck | switch your guess}) = \\frac{2}{3}$\n",
    "- $P(\\text{win a Cybertruck | do not switch your guess}) = \\frac{1}{3}$\n",
    "\n",
    "Therefore, based on these probabilities, the best strategy is to **always switch** because your chances of winning are higher when you switch.\n"
   ]
  },
  {
   "cell_type": "code",
   "id": "d69ab03c-3344-4b4b-8f5e-8f0ea484c091",
   "metadata": {
    "ExecuteTime": {
     "end_time": "2024-11-05T16:52:53.806174Z",
     "start_time": "2024-11-05T16:52:53.674764Z"
    }
   },
   "source": [
    "import numpy as np\n",
    "\n",
    "def simulate_monty_hall(switch, n_trials=10000):\n",
    "    wins = 0\n",
    "    for _ in range(n_trials):\n",
    "        # Randomly place the Tesla behind one of the doors\n",
    "        tesla = np.random.randint(1, 4)\n",
    "        \n",
    "        # Contestant makes an initial guess\n",
    "        guess = np.random.randint(1, 4)\n",
    "        \n",
    "        # Monty opens a door that has a goat (i.e., it's not the Tesla or the guess)\n",
    "        remaining_doors = [door for door in [1, 2, 3] if door != guess and door != tesla]\n",
    "        monty = np.random.choice(remaining_doors)\n",
    "        \n",
    "        # If the strategy is to switch, the contestant switches to the remaining door\n",
    "        if switch:\n",
    "            new_guess = [door for door in [1, 2, 3] if door != guess and door != monty][0]\n",
    "            guess = new_guess\n",
    "        \n",
    "        # Count a win if the final guess is the Tesla\n",
    "        if guess == tesla:\n",
    "            wins += 1\n",
    "            \n",
    "    return wins\n",
    "\n",
    "# Simulate with the \"always switch\" strategy\n",
    "wins_switch = simulate_monty_hall(switch=True, n_trials=10000)\n",
    "print(f'Wins when switching: {wins_switch} out of 10,000')\n",
    "\n",
    "# Simulate with the \"never switch\" strategy\n",
    "wins_no_switch = simulate_monty_hall(switch=False, n_trials=10000)\n",
    "print(f'Wins when not switching: {wins_no_switch} out of 10,000')"
   ],
   "outputs": [
    {
     "name": "stdout",
     "output_type": "stream",
     "text": [
      "Wins when switching: 6647 out of 10,000\n",
      "Wins when not switching: 3312 out of 10,000\n"
     ]
    }
   ],
   "execution_count": 1
  },
  {
   "cell_type": "code",
   "id": "15bbdb9e-357e-4958-bd8e-1db41a023e4f",
   "metadata": {
    "ExecuteTime": {
     "end_time": "2024-11-05T16:52:53.813125Z",
     "start_time": "2024-11-05T16:52:53.811776Z"
    }
   },
   "source": [],
   "outputs": [],
   "execution_count": null
  }
 ],
 "metadata": {
  "kernelspec": {
   "display_name": "Python 3 (ipykernel)",
   "language": "python",
   "name": "python3"
  },
  "language_info": {
   "codemirror_mode": {
    "name": "ipython",
    "version": 3
   },
   "file_extension": ".py",
   "mimetype": "text/x-python",
   "name": "python",
   "nbconvert_exporter": "python",
   "pygments_lexer": "ipython3",
   "version": "3.12.4"
  }
 },
 "nbformat": 4,
 "nbformat_minor": 5
}
