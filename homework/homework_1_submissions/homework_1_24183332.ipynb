{
 "cells": [
  {
   "metadata": {},
   "cell_type": "markdown",
   "source": [
    "## BME i9400\n",
    "## Fall 2024\n",
    "### Homework 1: The Monty Hall Problem"
   ],
   "id": "fdb01900d19e6b5a"
  },
  {
   "metadata": {},
   "cell_type": "markdown",
   "source": [
    "** Due date: Monday, September 30, 2024, 11:59:59.999 PM EST **\n",
    "\n"
   ],
   "id": "50c3b8c2de5fca28"
  },
  {
   "metadata": {},
   "cell_type": "markdown",
   "source": [
    "You are a contestant on a game show hosted by Monty Hall. In the game show, there are 3 doors. Behind one of the doors is a Tesla Cybertruck. Behind the other two is a goat (i.e., opening each of the other two doors reveals a goat). The object of the game is to successfully choose the door holding the Tesla Cybertruck -- regardless of how much you may love goats or dislike Tesla Cybertrucks. \n",
    " \n",
    "Now imagine that you randomly choose one of the doors. Mr. Hall then shows you one of the other two doors, revealing a goat. He then offers you the chance to switch your initial guess.\n",
    " \n",
    "The objective of this assignment is to determine whether you should switch your guess.\n",
    " \n",
    "### Part 1. Analytical Solution \t\n",
    "By using the laws of probability and following the rules of the game, derive the following probabilities:\n",
    "\n",
    "a. \tP(win a Cybertruck | switch your guess)\n",
    "\n",
    "b. \tP(win a Cybertruck | do not switch your guess)\n",
    " \n",
    "Based on your answers, should you switch your guess?\n",
    "\n",
    "** ENTER YOUR ANSWER HERE IN MARKDOWN, IDEALLY USING LATEX NOTATION WHICH IS SUPPORTED BY JUPYTER NOTEBOOKS. **"
   ],
   "id": "530e3b122b4bf35c"
  },
  {
   "metadata": {},
   "cell_type": "markdown",
   "source": [
    "P(win|no switch) = P(win|pick door 1, don't switch)*P(pick door 1) + P(win|pick door 2, don't switch)*P(pick door 2) + P(win|pick door 3, don't switch)*P(pick door 3) \n",
    "\n",
    "P(win|no switch) = (1)(1/3)+(0)(1/3)+(0)(1/3) = 1/3 \n",
    "\n",
    "P(win|switch) = P(win|pick door 1, switch)*P(pick door 1) + P(win|pick door 2, switch)*P(pick door 2) + P(win|pick door 3, switch)*P(pick door 3) \n",
    "\n",
    "P(win|switch) = (0)(1/3)+(1)(1/3)+(1)(1/3) = 2/3 \n",
    "\n",
    "Based on these answers, you should switch your guess. "
   ],
   "id": "88c94cd684ad2c77"
  },
  {
   "metadata": {},
   "cell_type": "markdown",
   "source": [
    "## Part 2. Simulation\n",
    "\n",
    "Simulate the problem with Python code by repeating the game 10,000 times with the strategy to ALWAYS switch, and then again 10,000 times with the strategy to NEVER switch. In each case, count the number of Cybertrucks won in 10,000 runs. Based on the results of your simulation, should you switch your guess? How well do your empirical estimates compare to your values obtained analytically in 1?\n"
   ],
   "id": "bd394e7488288c5d"
  },
  {
   "metadata": {
    "ExecuteTime": {
     "end_time": "2024-11-05T16:49:36.238927Z",
     "start_time": "2024-11-05T16:49:36.112732Z"
    }
   },
   "cell_type": "code",
   "source": [
    "import numpy as np\n",
    "\n",
    "# simulate starting conditions \n",
    "tesla = np.random.randint(1,4) # tesla location\n",
    "guess = np.random.randint(1,4) # your guess\n",
    "\n",
    "# possible doors to open\n",
    "if tesla == 1:\n",
    "    possible_doors = np.setdiff1d([2,3], guess)    \n",
    "elif tesla == 2:\n",
    "    possible_doors = np.setdiff1d([1,3], guess)\n",
    "else:\n",
    "    possible_doors = np.setdiff1d([1,2], guess)\n",
    "    \n",
    "# Monty's action\n",
    "monty = np.random.choice(possible_doors)\n",
    "\n",
    "print(f'Tesla is behind door {tesla}')\n",
    "print(f'You guessed door {guess}')\n",
    "print(f'Monty opened door {monty}')\n",
    "\n",
    "# simulate your strategy: switch or hold\n",
    "strategy = 0 # set to 0 if you want to always hold\n",
    "             # set to 1 if you want to always switch\n",
    "             \n",
    "## HERE IS WHERE YOU INSERT THE CODE THAT DETERMINES WHETHER YOU WIN THE CYBERTRUCK OR THE GOAT ##\n"
   ],
   "id": "3908db892590192c",
   "outputs": [
    {
     "name": "stdout",
     "output_type": "stream",
     "text": [
      "Tesla is behind door 2\n",
      "You guessed door 3\n",
      "Monty opened door 1\n"
     ]
    }
   ],
   "execution_count": 1
  },
  {
   "metadata": {},
   "cell_type": "markdown",
   "source": "",
   "id": "31113ebaa72f862e"
  },
  {
   "metadata": {
    "ExecuteTime": {
     "end_time": "2024-11-05T16:49:36.246471Z",
     "start_time": "2024-11-05T16:49:36.242335Z"
    }
   },
   "cell_type": "code",
   "source": [
    "import numpy as np\n",
    "#strategy = 1 # set to 0 if you want to always hold\n",
    "             # set to 1 if you want to always switch\n",
    "\n",
    "def simulate(strategy, number_of_times):\n",
    "    num_wins = 0\n",
    "    num_losses = 0\n",
    "    \n",
    "    for i in np.arange(0,number_of_times):\n",
    "        if strategy == 0:\n",
    "            wordstrat = ' by not switching doors.'\n",
    "        else:\n",
    "            wordstrat = ' by switching doors.'\n",
    "            \n",
    "        tesla = np.random.randint(1,4) # tesla location\n",
    "        guess = np.random.randint(1,4) # your guess\n",
    "\n",
    "# possible doors to open\n",
    "        if tesla == 1:\n",
    "            possible_doors = np.setdiff1d([2,3], guess)    \n",
    "        elif tesla == 2:\n",
    "            possible_doors = np.setdiff1d([1,3], guess)\n",
    "        else:\n",
    "            possible_doors = np.setdiff1d([1,2], guess)\n",
    "    \n",
    "# Monty's action\n",
    "        monty = np.random.choice(possible_doors)\n",
    "             \n",
    "        other_door = np.setdiff1d([1,2,3],guess)\n",
    "        other_door = np.setdiff1d(other_door,monty)\n",
    "        other_door = other_door[0]\n",
    "\n",
    "\n",
    "        if strategy == 1:\n",
    "            guess = other_door\n",
    "    \n",
    "        if guess == tesla:\n",
    "            num_wins+=1\n",
    "        else:\n",
    "            num_losses+=1\n",
    "\n",
    "    chanceofwinning = (num_wins/number_of_times)*100\n",
    "    print(f'You had a {chanceofwinning:.2f}% chance of winning{wordstrat}')    \n",
    "    "
   ],
   "id": "25bc992dae9af77c",
   "outputs": [],
   "execution_count": 2
  },
  {
   "metadata": {
    "ExecuteTime": {
     "end_time": "2024-11-05T16:49:37.427532Z",
     "start_time": "2024-11-05T16:49:36.318530Z"
    }
   },
   "cell_type": "code",
   "source": [
    "simulate(0,10000)\n",
    "simulate(1,10000)\n",
    "print('The results are very similar to the analytical ones from part 1 (within 1 %). Empirical testing also shows to switch your guess.')"
   ],
   "id": "bffe1cb1346a292e",
   "outputs": [
    {
     "name": "stdout",
     "output_type": "stream",
     "text": [
      "You had a 33.20% chance of winning by not switching doors.\n",
      "You had a 66.97% chance of winning by switching doors.\n",
      "The results are very similar to the analytical ones from part 1 (within 1 %). Empirical testing also shows to switch your guess.\n"
     ]
    }
   ],
   "execution_count": 3
  },
  {
   "metadata": {},
   "cell_type": "markdown",
   "source": [
    "## Deliverables:\n",
    "Submit an iPython notebook titled \"homework_1_EMPLID.ipynb\" that contains your solutions to the above problems. Make sure to include all relevant code and output in the notebook. \n",
    "\n",
    "Homework 1 must be submitted by committing and pushing your notebook to this repository. The file should be named \"homework_1_EMPLID.ipynb\" and the destination address must be [/BME-i9400/homework/homework_1_submissions/](https://github.com/dmochow/BME-i9400/tree/main/homework/homework_1_submissions)"
   ],
   "id": "4c3d931b219ac649"
  }
 ],
 "metadata": {
  "kernelspec": {
   "display_name": "Python 3",
   "language": "python",
   "name": "python3"
  },
  "language_info": {
   "codemirror_mode": {
    "name": "ipython",
    "version": 2
   },
   "file_extension": ".py",
   "mimetype": "text/x-python",
   "name": "python",
   "nbconvert_exporter": "python",
   "pygments_lexer": "ipython2",
   "version": "2.7.6"
  }
 },
 "nbformat": 4,
 "nbformat_minor": 5
}
