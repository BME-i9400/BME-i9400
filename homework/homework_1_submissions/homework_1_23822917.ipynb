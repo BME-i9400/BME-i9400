{
 "cells": [
  {
   "metadata": {},
   "cell_type": "markdown",
   "source": [
    "## BME i9400\n",
    "## Fall 2024\n",
    "### Homework 1: The Monty Hall Problem"
   ],
   "id": "fdb01900d19e6b5a"
  },
  {
   "metadata": {},
   "cell_type": "markdown",
   "source": [
    "** Due date: Monday, September 30, 2024, 11:59:59.999 PM EST **\n",
    "\n"
   ],
   "id": "50c3b8c2de5fca28"
  },
  {
   "metadata": {},
   "cell_type": "markdown",
   "source": [
    "You are a contestant on a game show hosted by Monty Hall. In the game show, there are 3 doors. Behind one of the doors is a Tesla Cybertruck. Behind the other two is a goat (i.e., opening each of the other two doors reveals a goat). The object of the game is to successfully choose the door holding the Tesla Cybertruck -- regardless of how much you may love goats or dislike Tesla Cybertrucks. \n",
    " \n",
    "Now imagine that you randomly choose one of the doors. Mr. Hall then shows you one of the other two doors, revealing a goat. He then offers you the chance to switch your initial guess.\n",
    " \n",
    "The objective of this assignment is to determine whether you should switch your guess.\n",
    " \n",
    "### Part 1. Analytical Solution \t\n",
    "By using the laws of probability and following the rules of the game, derive the following probabilities:\n",
    "\n",
    "a. \tP(win a Cybertruck | switch your guess)\n",
    "\n",
    "b. \tP(win a Cybertruck | do not switch your guess)\n",
    " \n",
    "Based on your answers, should you switch your guess?\n",
    "\n",
    "** ENTER YOUR ANSWER HERE IN MARKDOWN, IDEALLY USING LATEX NOTATION WHICH IS SUPPORTED BY JUPYTER NOTEBOOKS. **"
   ],
   "id": "530e3b122b4bf35c"
  },
  {
   "metadata": {},
   "cell_type": "markdown",
   "source": [
    "The probability of the car being behind any of the three doors is equal:\n",
    "\n",
    "$P(door1) = P(door2) = P(door3) = \\frac{1}{3}$\n",
    "\n",
    "Say we choose door1 initially. In reality, it doesn't matter because the probability works the same.\n",
    "\n",
    "So that means $choice = door1$.<br><br>\n",
    "\n",
    "Now Monty opens a door, either 2 or 3, depending on where the car is:\n",
    "\n",
    "$P(monty2|door1) = \\frac{1}{2}$\n",
    "\n",
    "$P(monty2|door2) = 0$\n",
    "\n",
    "$P(monty2|door3) = 1$\n",
    "\n",
    "$P(monty3|door1) = \\frac{1}{3}$\n",
    "\n",
    "$P(monty3|door2) = 1$\n",
    "\n",
    "$P(monty3|door3) = 0$\n",
    "\n",
    "<br><br>\n",
    "\n",
    "Since the probability of Monty opening door 2 is the same as the probability of Monty opening door 3, let's just assume he opens door 2. Now we want to calculate the probability that the car is in 3, given you chose door 1 and monty opened door 2. This will tell you the probability that you win if you switch to door 3 after originally choosing door 1.\n",
    "\n",
    "Using Bayes' Theorem:\n",
    "\n",
    "$P(door3|monty2) = \\frac{P(monty2|door3) \\cdot P(door3)}{P(monty2)}$\n",
    "<br><br>\n",
    "We know the following:\n",
    "<br><br>\n",
    "$P(monty2|door3) = 1$\n",
    "\n",
    "$P(door3) = 1/3$\n",
    "\n",
    "$P(monty2) = 1/2$ because P(monty2) = P(monty3) and P(monty2) + P(monty3) = 1\n",
    "<br><br>\n",
    "\n",
    "So the equation becomes:\n",
    "\n",
    "$P(door3|monty2) = \\frac{1 \\cdot \\frac{1}{3}}{\\frac{1}{2}} = \\frac{2}{3}$\n",
    "\n",
    "<br><br>\n",
    "\n",
    "Therefore, the probability that you win if you switch you answer is 2/3. Conversely, the probability that you win if you don't switch your answer is 1/3.\n",
    "\n"
   ],
   "id": "7b234c4eb0b6c299"
  },
  {
   "metadata": {},
   "cell_type": "markdown",
   "source": [
    "## Part 2. Simulation\n",
    "\n",
    "Simulate the problem with Python code by repeating the game 10,000 times with the strategy to ALWAYS switch, and then again 10,000 times with the strategy to NEVER switch. In each case, count the number of Cybertrucks won in 10,000 runs. Based on the results of your simulation, should you switch your guess? How well do your empirical estimates compare to your values obtained analytically in 1?\n"
   ],
   "id": "bd394e7488288c5d"
  },
  {
   "metadata": {
    "ExecuteTime": {
     "end_time": "2024-09-27T15:26:25.768425Z",
     "start_time": "2024-09-27T15:26:25.542522Z"
    }
   },
   "cell_type": "code",
   "source": [
    "import numpy as np\n",
    "\n",
    "# simulate starting conditions \n",
    "tesla = np.random.randint(1,4) # tesla location\n",
    "guess = np.random.randint(1,4) # your guess\n",
    "\n",
    "# possible doors to open\n",
    "if tesla == 1:\n",
    "    possible_doors = np.setdiff1d([2,3], guess)  \n",
    "elif tesla == 2:\n",
    "    possible_doors = np.setdiff1d([1,3], guess)\n",
    "else:\n",
    "    possible_doors = np.setdiff1d([1,2], guess)\n",
    "    \n",
    "# Monty's action\n",
    "monty = np.random.choice(possible_doors)\n",
    "\n",
    "print(f'Tesla is behind door {tesla}')\n",
    "print(f'You guessed door {guess}')\n",
    "print(f'Monty opened door {monty}')\n",
    "\n",
    "# simulate your strategy: switch or hold\n",
    "strategy = 1 # set to 0 if you want to always hold\n",
    "             # set to 1 if you want to always switch\n",
    "             \n",
    "## HERE IS WHERE YOU INSERT THE CODE THAT DETERMINES WHETHER YOU WIN THE CYBERTRUCK OR THE GOAT ##\n",
    "\n",
    "if strategy == 0:\n",
    "    print(f'You used strategy 0, so your guess is still {guess}')\n",
    "    if guess == tesla:\n",
    "        print('Congratulations you won!')\n",
    "    else:\n",
    "        print('Womp womp you lost')\n",
    "if strategy == 1:\n",
    "    guess_switch = int(np.setdiff1d([1,2,3],[guess,monty]))\n",
    "    print(f'You used strategy 1, so your new guess is {guess_switch}')\n",
    "    if guess_switch == tesla:\n",
    "        print('Congratulations you won!')\n",
    "    else:\n",
    "        print('Womp womp you lost')\n",
    "\n",
    "\n",
    "        "
   ],
   "id": "eafccd17d59129d6",
   "outputs": [
    {
     "name": "stdout",
     "output_type": "stream",
     "text": [
      "Tesla is behind door 3\n",
      "You guessed door 2\n",
      "Monty opened door 1\n",
      "You used strategy 1, so your new guess is 3\n",
      "Congratulations you won!\n"
     ]
    }
   ],
   "execution_count": 2
  },
  {
   "metadata": {},
   "cell_type": "markdown",
   "source": "## Simulation of 10000 runs",
   "id": "2fcc5153c0eefd"
  },
  {
   "metadata": {
    "ExecuteTime": {
     "end_time": "2024-09-27T15:30:02.045924Z",
     "start_time": "2024-09-27T15:29:59.159068Z"
    }
   },
   "cell_type": "code",
   "source": [
    "def monty_hall(strategy, trials):\n",
    "    results = []\n",
    "    for i in range(trials):\n",
    "        # simulate starting conditions \n",
    "        tesla = np.random.randint(1,4) # tesla location\n",
    "        guess = np.random.randint(1,4) # your guess\n",
    "        \n",
    "        # possible doors to open\n",
    "        if tesla == 1:\n",
    "            possible_doors = np.setdiff1d([2,3], guess)  \n",
    "        elif tesla == 2:\n",
    "            possible_doors = np.setdiff1d([1,3], guess)\n",
    "        else:\n",
    "            possible_doors = np.setdiff1d([1,2], guess)\n",
    "            \n",
    "        # Monty's action\n",
    "        monty = np.random.choice(possible_doors)\n",
    "        if strategy == 0:\n",
    "            if guess == tesla:\n",
    "                # print('Congratulations you won!')\n",
    "                results.append(1)\n",
    "            else:\n",
    "                # print('Womp womp you lost')\n",
    "                results.append(0)\n",
    "        if strategy == 1:\n",
    "            guess_switch = int(np.setdiff1d([1,2,3],[guess,monty]))\n",
    "            if guess_switch == tesla:\n",
    "                # print('Congratulations you won!')\n",
    "                results.append(1)\n",
    "            else:\n",
    "                # print('Womp womp you lost')\n",
    "                results.append(0)\n",
    "    print(f'Using strategy {strategy}, you won {results.count(1)} times and lost {results.count(0)} times out of {trials} total trials.')\n",
    "\n",
    "monty_hall(0, 10000)\n",
    "monty_hall(1, 10000)\n",
    "\n",
    "\n"
   ],
   "id": "3908db892590192c",
   "outputs": [
    {
     "name": "stdout",
     "output_type": "stream",
     "text": [
      "Using strategy 0, you won 3301 times and lost 6699 times out of 10000 total trials.\n",
      "Using strategy 1, you won 6616 times and lost 3384 times out of 10000 total trials.\n"
     ]
    }
   ],
   "execution_count": 6
  },
  {
   "metadata": {},
   "cell_type": "markdown",
   "source": "Based on the empirical evidence, the chance of you winning if you switch is 2/3 and the chance of you winning if you don't switch is 1/3, like previously calculated, so you should always switch, unless you like goats.\n",
   "id": "17301c078634055"
  },
  {
   "metadata": {},
   "cell_type": "markdown",
   "source": [
    "## Deliverables:\n",
    "Submit an iPython notebook titled \"homework_1_EMPLID.ipynb\" that contains your solutions to the above problems. Make sure to include all relevant code and output in the notebook. \n",
    "\n",
    "Homework 1 must be submitted by committing and pushing your notebook to this repository. The file should be named \"homework_1_EMPLID.ipynb\" and the destination address must be [/BME-i9400/homework/homework_1_submissions/](https://github.com/dmochow/BME-i9400/tree/main/homework/homework_1_submissions)"
   ],
   "id": "4c3d931b219ac649"
  },
  {
   "metadata": {
    "ExecuteTime": {
     "end_time": "2024-09-27T15:26:28.540297Z",
     "start_time": "2024-09-27T15:26:28.524625Z"
    }
   },
   "cell_type": "code",
   "source": "",
   "id": "5a4e86aff39d0cb8",
   "outputs": [],
   "execution_count": null
  }
 ],
 "metadata": {
  "kernelspec": {
   "display_name": "Python 3",
   "language": "python",
   "name": "python3"
  },
  "language_info": {
   "codemirror_mode": {
    "name": "ipython",
    "version": 2
   },
   "file_extension": ".py",
   "mimetype": "text/x-python",
   "name": "python",
   "nbconvert_exporter": "python",
   "pygments_lexer": "ipython2",
   "version": "2.7.6"
  }
 },
 "nbformat": 4,
 "nbformat_minor": 5
}
