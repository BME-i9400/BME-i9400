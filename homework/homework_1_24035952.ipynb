{
 "cells": [
  {
   "metadata": {},
   "cell_type": "markdown",
   "source": [
    "## BME i9400\n",
    "## Fall 2024\n",
    "### Homework 1: The Monty Hall Problem"
   ],
   "id": "fdb01900d19e6b5a"
  },
  {
   "metadata": {},
   "cell_type": "markdown",
   "source": [
    "** Due date: Monday, September 30, 2024, 11:59:59.999 PM EST **\n",
    "\n"
   ],
   "id": "50c3b8c2de5fca28"
  },
  {
   "metadata": {},
   "cell_type": "markdown",
   "source": [
    "You are a contestant on a game show hosted by Monty Hall. In the game show, there are 3 doors. Behind one of the doors is a Tesla Cybertruck. Behind the other two is a goat (i.e., opening each of the other two doors reveals a goat). The object of the game is to successfully choose the door holding the Tesla Cybertruck -- regardless of how much you may love goats or dislike Tesla Cybertrucks. \n",
    " \n",
    "Now imagine that you randomly choose one of the doors. Mr. Hall then shows you one of the other two doors, revealing a goat. He then offers you the chance to switch your initial guess.\n",
    " \n",
    "The objective of this assignment is to determine whether you should switch your guess.\n",
    " \n",
    "### Part 1. Analytical Solution \t\n",
    "By using the laws of probability and following the rules of the game, derive the following probabilities:\n",
    "\n",
    "a. \tP(win a Cybertruck | switch your guess)\n",
    "\n",
    "b. \tP(win a Cybertruck | do not switch your guess)\n",
    " \n",
    "Based on your answers, should you switch your guess?\n",
    "\n",
    "** ENTER YOUR ANSWER HERE IN MARKDOWN, IDEALLY USING LATEX NOTATION WHICH IS SUPPORTED BY JUPYTER NOTEBOOKS. **\n",
    "\n",
    "    Assuming there are three doors, One with a cybertruck, one with goat 1 (g1) and one with goat 2 (g2). There is a 0 probability of Monty opening the door with the cybertruck.\n",
    "\n",
    "    Your initial chances of choosing the cybertruck on the first round is 1/3. \n",
    "\n",
    "    1. If you do NOT switch, the probability of you winning does not change after monty opens the door with the goat because you are not changing your guess.\n",
    "    \n",
    "            --> Your probability to win the cybertruck is still 1/3 by holding.\n",
    "            \n",
    "    2. If you decide to switch, there are 3 possible outcomes:\n",
    "    \n",
    "        1. You initially chose the cybertruck, monty either opens g1 or g2. Despite which door monty opens, you lose by switching because you will end up with either goat.\n",
    "        \n",
    "        2. You initially chose g1. Monty MUST open g2. You switch to the remaining door and WIN the cybertruck.\n",
    "        \n",
    "        3. You initially chose g2. Monty MUST open g1. You switch to the remaining door and WIN the cybertruck.\n",
    "        \n",
    "            --> Your probability to win the cybertruck is 2/3 by switching."
   ],
   "id": "530e3b122b4bf35c"
  },
  {
   "metadata": {},
   "cell_type": "markdown",
   "source": [
    "## Part 2. Simulation\n",
    "\n",
    "Simulate the problem with Python code by repeating the game 10,000 times with the strategy to ALWAYS switch, and then again 10,000 times with the strategy to NEVER switch. In each case, count the number of Cybertrucks won in 10,000 runs. Based on the results of your simulation, should you switch your guess? How well do your empirical estimates compare to your values obtained analytically in 1?\n"
   ],
   "id": "bd394e7488288c5d"
  },
  {
   "metadata": {
    "ExecuteTime": {
     "end_time": "2024-09-27T01:02:49.736048Z",
     "start_time": "2024-09-27T01:02:48.772799Z"
    }
   },
   "cell_type": "code",
   "source": [
    "import numpy as np\n",
    "for j in range(0,2):\n",
    "    strategy = j\n",
    "    #This is a list of wins for if switch or not\n",
    "    wins = []\n",
    "    # simulate your strategy: switch or hold. \n",
    "    #strategy = 0 # set to 0 if you want to always hold\n",
    "                 # set to 1 if you want to always switch\n",
    "    \n",
    "    #loop to simulate 1000 times of either switching or not.\n",
    "    for i in range(10000):\n",
    "        # simulate starting conditions, np.random.randint(inclusive, exclusive)\n",
    "        tesla = np.random.randint(1,4) # tesla location\n",
    "        guess = np.random.randint(1,4) # your guess\n",
    "        \n",
    "        # possible doors to open\n",
    "        if tesla == 1:\n",
    "            possible_doors = np.setdiff1d([2,3], guess) #find elements in one array ([1,2]), but not another (guess)\n",
    "        elif tesla == 2:\n",
    "            possible_doors = np.setdiff1d([1,3], guess)\n",
    "        else:\n",
    "            possible_doors = np.setdiff1d([1,2], guess)\n",
    "            \n",
    "        # Monty's action\n",
    "        monty = np.random.choice(possible_doors)\n",
    "                     \n",
    "        ## HERE IS WHERE YOU INSERT THE CODE THAT DETERMINES WHETHER YOU WIN THE CYBERTRUCK OR THE GOAT ##\n",
    "    \n",
    "        #if you hold or if switch statements:\n",
    "        #open_door defines the final door that will be opened if you hold or switch.\n",
    "        if strategy == 0:\n",
    "            open_door = guess\n",
    "        else:\n",
    "            new_possible = np.setdiff1d([np.arange(1,4)],monty)\n",
    "            open_door = np.setdiff1d(new_possible,guess)\n",
    "        \n",
    "        #whether you win a cybertruck:  \n",
    "        if open_door == tesla:\n",
    "            wins.append(1)  \n",
    "        else:\n",
    "            wins.append(0)\n",
    "    \n",
    "    #Summing all wins from switching or not:\n",
    "    sum_wins = sum(wins)\n",
    "    print(f'number of wins is {sum_wins}')\n",
    "    average = (sum_wins / 10000) * 100\n",
    "    \n",
    "    if strategy == 0:\n",
    "        print(f'average is {average} percent for holding')\n",
    "    else:\n",
    "        print(f'average is {average} percent for switching')"
   ],
   "id": "3908db892590192c",
   "outputs": [
    {
     "name": "stdout",
     "output_type": "stream",
     "text": [
      "number of wins is 3360\n",
      "average is 33.6 percent for holding\n",
      "number of wins is 6714\n",
      "average is 67.14 percent for switching\n"
     ]
    }
   ],
   "execution_count": 108
  },
  {
   "metadata": {},
   "cell_type": "markdown",
   "source": [
    "    Conclusions: \n",
    "      \n",
    "    Based on the simulation, we get a result close enough to our analytical solution. We can probably get it even closer by running even more simulations. In conclusion, you have a 2/3 higher chance of winning by always switching than you   do by holding on to your initial guess. \n"
   ],
   "id": "17301c078634055"
  },
  {
   "metadata": {},
   "cell_type": "markdown",
   "source": [
    "## Deliverables:\n",
    "Submit an iPython notebook titled \"homework_1_EMPLID.ipynb\" that contains your solutions to the above problems. Make sure to include all relevant code and output in the notebook. \n",
    "\n",
    "Homework 1 must be submitted by committing and pushing your notebook to this repository. The file should be named \"homework_1_EMPLID.ipynb\" and the destination address must be [/BME-i9400/homework/homework_1_submissions/](https://github.com/dmochow/BME-i9400/tree/main/homework/homework_1_submissions)"
   ],
   "id": "4c3d931b219ac649"
  },
  {
   "metadata": {
    "ExecuteTime": {
     "end_time": "2024-09-27T01:02:49.741215Z",
     "start_time": "2024-09-27T01:02:49.739672Z"
    }
   },
   "cell_type": "code",
   "source": "",
   "id": "5a4e86aff39d0cb8",
   "outputs": [],
   "execution_count": null
  }
 ],
 "metadata": {
  "kernelspec": {
   "display_name": "Python 3",
   "language": "python",
   "name": "python3"
  },
  "language_info": {
   "codemirror_mode": {
    "name": "ipython",
    "version": 2
   },
   "file_extension": ".py",
   "mimetype": "text/x-python",
   "name": "python",
   "nbconvert_exporter": "python",
   "pygments_lexer": "ipython2",
   "version": "2.7.6"
  }
 },
 "nbformat": 4,
 "nbformat_minor": 5
}
