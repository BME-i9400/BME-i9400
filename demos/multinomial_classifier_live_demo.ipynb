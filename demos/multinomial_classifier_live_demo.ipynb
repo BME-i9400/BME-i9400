{
  "cells": [
    {
      "cell_type": "markdown",
      "metadata": {},
      "source": [
        "# Multinomial Logistic Regression Live Demo\n",
        "\n",
        "This notebook introduces multinomial logistic regression using scikit-learn. We start by importing the core libraries and downloading a classic multi-class dataset to explore."
      ]
    },
    {
      "cell_type": "code",
      "execution_count": null,
      "metadata": {},
      "outputs": [],
      "source": [
        "# General utilities\n",
        "import pathlib\n",
        "\n",
        "# Scientific computing stack\n",
        "import numpy as np\n",
        "import pandas as pd\n",
        "\n",
        "# Visualization helpers\n",
        "import matplotlib.pyplot as plt\n",
        "import seaborn as sns\n",
        "\n",
        "# Scikit-learn tools\n",
        "from sklearn.datasets import fetch_openml\n",
        "from sklearn.model_selection import train_test_split\n",
        "from sklearn.preprocessing import StandardScaler\n",
        "from sklearn.linear_model import LogisticRegression\n",
        "from sklearn.metrics import classification_report, ConfusionMatrixDisplay\n",
        "\n",
        "# Configure plotting aesthetics for consistent visuals\n",
        "sns.set_theme(style=\"whitegrid\", context=\"notebook\")\n"
      ]
    },
    {
      "cell_type": "code",
      "execution_count": null,
      "metadata": {},
      "outputs": [],
      "source": [
        "# Download and cache the classic Iris dataset from OpenML\n",
        "iris = fetch_openml(\"iris\", version=1, as_frame=True)\n",
        "X = iris.data\n",
        "y = iris.target.astype(\"category\")  # explicit categorical dtype keeps class labels tidy\n",
        "iris_df = iris.frame\n",
        "\n",
        "print(f\"Features shape: {X.shape}\")\n",
        "print(f\"Class breakdown: {y.value_counts().to_dict()}\")\n",
        "\n",
        "# Build a numeric label column for downstream metric calculations\n",
        "label_mapping = {label: idx for idx, label in enumerate(y.cat.categories)}\n",
        "iris_df[\"target_id\"] = y.cat.codes\n",
        "print(f\"Label mapping: {label_mapping}\")\n",
        "iris_df.head()\n"
      ]
    }
  ],
  "metadata": {
    "kernelspec": {
      "display_name": "Python 3",
      "language": "python",
      "name": "python3"
    },
    "language_info": {
      "name": "python",
      "version": "3.10"
    }
  },
  "nbformat": 4,
  "nbformat_minor": 5
}