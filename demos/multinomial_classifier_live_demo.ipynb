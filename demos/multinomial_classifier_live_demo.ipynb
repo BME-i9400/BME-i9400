{
  "cells": [
    {
      "cell_type": "markdown",
      "id": "3f52f38e",
      "metadata": {},
      "source": [
        "# Multinomial Logistic Regression Live Demo\n",
        "\n",
        "This notebook introduces multinomial logistic regression using scikit-learn. We start by importing the core libraries and downloading a classic multi-class dataset to explore."
      ]
    },
    {
      "cell_type": "code",
      "execution_count": null,
      "id": "e2ac437d",
      "metadata": {},
      "outputs": [],
      "source": [
        "\n",
        "# Scientific computing stack\n",
        "import numpy as np\n",
        "import pandas as pd\n",
        "import scipy\n",
        "\n",
        "# Scikit-learn tools\n",
        "from sklearn.datasets import fetch_openml\n",
        "from sklearn.model_selection import train_test_split\n",
        "from sklearn.linear_model import LogisticRegression"
      ]
    },
    {
      "cell_type": "code",
      "execution_count": null,
      "id": "f17e9a9a",
      "metadata": {},
      "outputs": [],
      "source": [
        "# Download and cache the classic Iris dataset from OpenML\n",
        "iris = fetch_openml(\"iris\", version=1, as_frame=True)\n",
        "X = iris.data\n",
        "y = iris.target.astype(\"category\")  # explicit categorical dtype keeps class labels tidy\n",
        "iris_df = iris.frame\n",
        "\n",
        "print(f\"Features shape: {X.shape}\")\n",
        "print(f\"Class breakdown: {y.value_counts().to_dict()}\")\n",
        "iris_df.head()\n"
      ]
    },
    {
      "cell_type": "code",
      "execution_count": null,
      "id": "04b98a2a",
      "metadata": {},
      "outputs": [],
      "source": [
        "# print out the classes\n",
        "iris_df[\"class\"].unique()"
      ]
    },
    {
      "cell_type": "code",
      "execution_count": null,
      "id": "c3023ce4",
      "metadata": {},
      "outputs": [],
      "source": [
        "# instantiate our model\n",
        "model = LogisticRegression()\n",
        "\n",
        "# split into training and testing\n",
        "X_train, X_test, y_train, y_test = train_test_split(X, y, test_size = 0.3)\n",
        "\n",
        "# verify sizes of training and test sets\n",
        "X_train.shape, X_test.shape"
      ]
    },
    {
      "cell_type": "code",
      "execution_count": null,
      "id": "cca7706f",
      "metadata": {},
      "outputs": [],
      "source": [
        "# fit the model on training data\n",
        "model.fit(X_train, y_train)"
      ]
    },
    {
      "cell_type": "code",
      "execution_count": null,
      "id": "21b28a01",
      "metadata": {},
      "outputs": [],
      "source": [
        "# inspect the fitted model's coefficients\n",
        "model.coef_, model.intercept_"
      ]
    },
    {
      "cell_type": "code",
      "execution_count": null,
      "id": "ded7608a",
      "metadata": {},
      "outputs": [],
      "source": [
        "# put the model's coefficients and biases into separate variables\n",
        "W = model.coef_\n",
        "b = model.intercept_\n",
        "\n",
        "# check the shapes before multiplying\n",
        "print(f\"Shape of matrix W is {W.shape}\")\n",
        "print(f\"Shape of intercept b is {b.shape}\")\n",
        "print(f\"Shape of test data is {X_test.shape}\")"
      ]
    },
    {
      "cell_type": "code",
      "execution_count": null,
      "id": "b9146017",
      "metadata": {},
      "outputs": [],
      "source": [
        "# apply our weights and biases to our test data\n",
        "intermediate_output = X_test @ W.T + b\n",
        "intermediate_output[:10]"
      ]
    },
    {
      "cell_type": "code",
      "execution_count": null,
      "id": "e3f5de0d",
      "metadata": {},
      "outputs": [],
      "source": [
        "# apply softmax to intermediate output\n",
        "estimated_prob = scipy.special.softmax(intermediate_output, axis=1)\n",
        "\n",
        "# estimated model probabilities for the first 10 examples in the test set\n",
        "estimated_prob[:10,:]"
      ]
    },
    {
      "cell_type": "code",
      "execution_count": null,
      "id": "c96de894",
      "metadata": {},
      "outputs": [],
      "source": [
        "# take the class with the highest probability as the class estimate\n",
        "estimated_class = np.argmax(estimated_prob, axis=1) + 1\n",
        "estimated_class[:10] "
      ]
    },
    {
      "cell_type": "code",
      "execution_count": null,
      "id": "55f139e3",
      "metadata": {},
      "outputs": [],
      "source": [
        "classes = list(model.classes_)\n",
        "print(f\"The class labels are {classes}\")"
      ]
    },
    {
      "cell_type": "code",
      "execution_count": null,
      "id": "36ce47e3",
      "metadata": {},
      "outputs": [],
      "source": [
        "# for each example in the test set, identify the index of the true class\n",
        "true_class = []\n",
        "for i in np.arange(45):\n",
        "    if y_test.values[i]==classes[0]:\n",
        "        true_class.append(1)\n",
        "    elif y_test.values[i]==classes[1]:\n",
        "        true_class.append(2)\n",
        "    else:\n",
        "        true_class.append(3)\n",
        "\n",
        "print(f\"The first 10 true labels are:\")\n",
        "print(true_class[:10])\n"
      ]
    },
    {
      "cell_type": "code",
      "execution_count": null,
      "id": "f7d638f7",
      "metadata": {},
      "outputs": [],
      "source": [
        "# measure the accuracy of the model on the test set using sklearn's score function\n",
        "model.score(X_test, y_test)"
      ]
    },
    {
      "cell_type": "code",
      "execution_count": null,
      "id": "7c08f43e",
      "metadata": {},
      "outputs": [],
      "source": [
        "# manually measure the test set performance\n",
        "accuracy = np.mean(estimated_class==true_class)\n",
        "print(f\"The accuracy of the model on the test set is {accuracy:.3f}\")"
      ]
    }
  ],
  "metadata": {
    "kernelspec": {
      "display_name": "bmei9400b",
      "language": "python",
      "name": "python3"
    },
    "language_info": {
      "codemirror_mode": {
        "name": "ipython",
        "version": 3
      },
      "file_extension": ".py",
      "mimetype": "text/x-python",
      "name": "python",
      "nbconvert_exporter": "python",
      "pygments_lexer": "ipython3",
      "version": "3.13.0"
    }
  },
  "nbformat": 4,
  "nbformat_minor": 5
}
