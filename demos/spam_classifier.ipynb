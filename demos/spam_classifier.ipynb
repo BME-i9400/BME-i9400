{
 "cells": [
  {
   "cell_type": "markdown",
   "id": "4e5bcb31",
   "metadata": {},
   "source": [
    "## Today we will work on a realistic binary classification problem: spam email classification"
   ]
  },
  {
   "cell_type": "code",
   "execution_count": null,
   "id": "4d66368f",
   "metadata": {},
   "outputs": [],
   "source": [
    "## Loading the dataset (from kaggle)\n",
    "import pandas as pd\n",
    "path_to_data = '../datasets/spambase_csv.csv'\n",
    "df = pd.read_csv(path_to_data)"
   ]
  },
  {
   "cell_type": "code",
   "execution_count": null,
   "id": "6f3bbb49",
   "metadata": {},
   "outputs": [],
   "source": [
    "## inspecting the dataset\n",
    "df.head(10)"
   ]
  },
  {
   "cell_type": "code",
   "execution_count": null,
   "id": "19c7fa4b",
   "metadata": {},
   "outputs": [],
   "source": [
    "# create X and y\n",
    "y = df['class']\n",
    "X = df[df.columns[:-1]]\n",
    "X.shape, y.shape"
   ]
  },
  {
   "cell_type": "code",
   "execution_count": null,
   "id": "89919329",
   "metadata": {},
   "outputs": [],
   "source": [
    "# train and test split\n",
    "from sklearn.model_selection import train_test_split\n",
    "X_train, X_test, y_train, y_test = train_test_split(X,y,test_size=0.2)"
   ]
  },
  {
   "cell_type": "code",
   "execution_count": null,
   "id": "173918a5",
   "metadata": {},
   "outputs": [],
   "source": [
    "# initialize logistic regression model\n",
    "from sklearn.linear_model import LogisticRegression\n",
    "model = LogisticRegression(C=0.1, max_iter=10000)"
   ]
  }
 ],
 "metadata": {
  "kernelspec": {
   "display_name": "bmei9400b",
   "language": "python",
   "name": "python3"
  },
  "language_info": {
   "codemirror_mode": {
    "name": "ipython",
    "version": 3
   },
   "file_extension": ".py",
   "mimetype": "text/x-python",
   "name": "python",
   "nbconvert_exporter": "python",
   "pygments_lexer": "ipython3",
   "version": "3.13.0"
  }
 },
 "nbformat": 4,
 "nbformat_minor": 5
}
