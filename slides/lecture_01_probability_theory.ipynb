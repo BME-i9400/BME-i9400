{
 "cells": [
  {
   "cell_type": "markdown",
   "metadata": {
    "slideshow": {
     "slide_type": "slide"
    }
   },
   "source": [
    "## BME i9400\n",
    "## Fall 2024\n",
    "### Probability Theory\n",
    "\n"
   ]
  },
  {
   "cell_type": "markdown",
   "metadata": {
    "slideshow": {
     "slide_type": "slide"
    }
   },
   "source": [
    "### Today's problem\n",
    "\n",
    "You are employed by Biomedical Engineers Without Borders. The monkeypox virus has been ravaging the country. It is estimated that 1 in 100 Americans are now infected. A new test has been developed to detect the virus. The test has a 10% false positive rate, meaning that if a patient is negative, there is a 10% chance that the test result will indicate infection. The test also has a 10% false negative rate, meaning that if a patient is positive, there is a 10% chance that the test result will indicate no infection. \n",
    "\n",
    "**Patient X comes into your clinic and tests positive for the virus. What is the probability that Patient X is actually infected?**\n",
    " \n"
   ]
  },
  {
   "cell_type": "markdown",
   "metadata": {
    "slideshow": {
     "slide_type": "slide"
    }
   },
   "source": "Note that a positive test can signify either a false positive **or** a true positive."
  },
  {
   "metadata": {},
   "cell_type": "markdown",
   "source": [
    "Let's define the two binary random variables in this problem:\n",
    "\n",
    "T = outcome of test (0 for negative, 1 for positive) \n",
    "\n",
    "D = disease status (0 for healthy, 1 for infected)"
   ]
  },
  {
   "metadata": {},
   "cell_type": "markdown",
   "source": [
    "Given probabilities:\n",
    "\n",
    "$P(T=1 | D=0) = 0.1$\n",
    "\n",
    "$P(T=0 | D=1) = 0.1$\n",
    "\n",
    "$P(D=1) = 0.01$ "
   ]
  },
  {
   "metadata": {},
   "cell_type": "markdown",
   "source": [
    "We are interested in finding:\n",
    "\n",
    "$P(D=1 | T=1) = \\frac{P(T=1|D=1) P(D=1)}{P(T=1)}$"
   ]
  },
  {
   "metadata": {},
   "cell_type": "markdown",
   "source": [
    "From the Total Probability Theorem:\n",
    "\n",
    "$P(T=1) = P(T=1|D=1)P(D=1) + P(T=1|D=0)P(D=0)$"
   ]
  },
  {
   "metadata": {},
   "cell_type": "markdown",
   "source": [
    "From the definiton of probability:\n",
    "\n",
    "$P(T=1|D=1) = 1 - P(T=1 | D=0) = 0.9$ \n"
   ]
  },
  {
   "metadata": {},
   "cell_type": "markdown",
   "source": [
    "Substituting in the Total Probability Theorem:\n",
    "\n",
    "$P(T=1) = 0.9 \\times 0.01 + 0.1 \\times 0.99 = 0.009+0.099 = 0.108$ \n"
   ]
  },
  {
   "metadata": {},
   "cell_type": "markdown",
   "source": [
    "And finally:\n",
    "\n",
    "$P(D=1 | T=1) = \\frac{0.9 \\times 0.01}{0.108} = \\frac{0.009}{0.108} = \\frac{1}{12}$\n",
    "\n"
   ]
  },
  {
   "metadata": {},
   "cell_type": "markdown",
   "source": "## Simulate rolling two die in Python"
  },
  {
   "metadata": {
    "ExecuteTime": {
     "end_time": "2024-09-18T19:03:08.933637Z",
     "start_time": "2024-09-18T19:03:08.930972Z"
    }
   },
   "cell_type": "code",
   "source": [
    "import random\n",
    "import matplotlib.pyplot as plt"
   ],
   "outputs": [],
   "execution_count": 7
  },
  {
   "metadata": {
    "ExecuteTime": {
     "end_time": "2024-09-18T19:03:08.948751Z",
     "start_time": "2024-09-18T19:03:08.946183Z"
    }
   },
   "cell_type": "code",
   "source": [
    "# Create a function that simulates two independent rolls of a fair 6-sided dice\n",
    "def roll_two_die():\n",
    "    die1 = random.randint(1, 6)\n",
    "    die2 = random.randint(1, 6)\n",
    "    return die1 + die2"
   ],
   "outputs": [],
   "execution_count": 8
  },
  {
   "metadata": {
    "ExecuteTime": {
     "end_time": "2024-09-18T19:03:08.958894Z",
     "start_time": "2024-09-18T19:03:08.956246Z"
    }
   },
   "cell_type": "code",
   "source": [
    "# simulate rolling two die 1000 times\n",
    "results = []  # this is called a list\n",
    "\n",
    "# simulate rolling two die 1000 times but in a simple way so that a beginner Python programmer can follow the logic\n",
    "for i in range(1000):\n",
    "    roll = roll_two_die()\n",
    "    results.append(roll)"
   ],
   "outputs": [],
   "execution_count": 9
  },
  {
   "metadata": {
    "ExecuteTime": {
     "end_time": "2024-09-18T19:03:08.965674Z",
     "start_time": "2024-09-18T19:03:08.963742Z"
    }
   },
   "cell_type": "code",
   "source": [
    "# compute how many times each sum appears\n",
    "sums = {}  # this is called a dictionary\n",
    "# a dictionary is a collection of key-value pairs\n",
    "# the key is the sum of the two die\n",
    "# the value is the number of times that sum appears\n",
    "for i in range(2, 13):\n",
    "    print(f\"Now counting the number of times {i} appears\")\n",
    "    sums[i] = results.count(i)\n",
    "print(sums)"
   ],
   "outputs": [
    {
     "name": "stdout",
     "output_type": "stream",
     "text": [
      "Now counting the number of times 2 appears\n",
      "Now counting the number of times 3 appears\n",
      "Now counting the number of times 4 appears\n",
      "Now counting the number of times 5 appears\n",
      "Now counting the number of times 6 appears\n",
      "Now counting the number of times 7 appears\n",
      "Now counting the number of times 8 appears\n",
      "Now counting the number of times 9 appears\n",
      "Now counting the number of times 10 appears\n",
      "Now counting the number of times 11 appears\n",
      "Now counting the number of times 12 appears\n",
      "{2: 26, 3: 55, 4: 61, 5: 119, 6: 137, 7: 175, 8: 137, 9: 117, 10: 78, 11: 66, 12: 29}\n"
     ]
    }
   ],
   "execution_count": 10
  },
  {
   "metadata": {},
   "cell_type": "markdown",
   "source": "Plot a histogram of the relative frequency of each sum."
  },
  {
   "metadata": {
    "ExecuteTime": {
     "end_time": "2024-09-18T19:03:09.017411Z",
     "start_time": "2024-09-18T19:03:08.976274Z"
    }
   },
   "cell_type": "code",
   "source": [
    "plt.bar(sums.keys(), sums.values())\n",
    "plt.show()"
   ],
   "outputs": [
    {
     "data": {
      "text/plain": [
       "<Figure size 640x480 with 1 Axes>"
      ],
      "image/png": "[encoded data removed]"
     },
     "metadata": {},
     "output_type": "display_data"
    }
   ],
   "execution_count": 11
  },
  {
   "metadata": {
    "ExecuteTime": {
     "end_time": "2024-09-18T19:03:09.025639Z",
     "start_time": "2024-09-18T19:03:09.024191Z"
    }
   },
   "cell_type": "code",
   "source": "",
   "outputs": [],
   "execution_count": null
  }
 ],
 "metadata": {
  "celltoolbar": "Slideshow",
  "kernelspec": {
   "display_name": "Python 3 (ipykernel)",
   "language": "python",
   "name": "python3"
  },
  "language_info": {
   "codemirror_mode": {
    "name": "ipython",
    "version": 3
   },
   "file_extension": ".py",
   "mimetype": "text/x-python",
   "name": "python",
   "nbconvert_exporter": "python",
   "pygments_lexer": "ipython3",
   "version": "3.12.4"
  },
  "rise": {
   "autolaunch": false,
   "enable_chalkboard": false,
   "height": "100%",
   "scroll": true,
   "transition": "none",
   "width": "100%"
  }
 },
 "nbformat": 4,
 "nbformat_minor": 4
}
