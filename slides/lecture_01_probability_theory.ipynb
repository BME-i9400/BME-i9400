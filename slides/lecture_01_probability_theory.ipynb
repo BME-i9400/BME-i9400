{
 "cells": [
  {
   "cell_type": "markdown",
   "metadata": {
    "slideshow": {
     "slide_type": "slide"
    }
   },
   "source": [
    "## BME i9400\n",
    "## Fall 2025\n",
    "### Probability Theory I\n",
    "\n"
   ]
  },
  {
   "cell_type": "markdown",
   "metadata": {
    "slideshow": {
     "slide_type": "slide"
    }
   },
   "source": [
    "### Today's problem\n",
    "\n",
    "You are employed by Biomedical Engineers Without Borders. The monkeypox virus has been ravaging the country. It is estimated that 1 in 100 Americans are now infected. A new test has been developed to detect the virus. The test has a 10% false positive rate, meaning that if a patient is negative, there is a 10% chance that the test result will indicate infection. The test also has a 10% false negative rate, meaning that if a patient is positive, there is a 10% chance that the test result will indicate no infection. \n",
    "\n",
    "**Patient X comes into your clinic and tests positive for the virus. What is the probability that Patient X is actually infected?**\n",
    " \n"
   ]
  },
  {
   "metadata": {},
   "cell_type": "markdown",
   "source": "## Simulate rolling two die in Python"
  },
  {
   "metadata": {},
   "cell_type": "code",
   "source": [
    "import random\n",
    "import matplotlib.pyplot as plt"
   ],
   "outputs": [],
   "execution_count": null
  },
  {
   "metadata": {},
   "cell_type": "code",
   "source": [
    "# Here is a function that simulates two independent rolls of a fair 6-sided dice\n",
    "def roll_two_die():\n",
    "    die1 = random.randint(1, 6)\n",
    "    die2 = random.randint(1, 6)\n",
    "    return die1 + die2"
   ],
   "outputs": [],
   "execution_count": null
  },
  {
   "metadata": {},
   "cell_type": "code",
   "source": [
    "# simulate rolling two die 1000 times\n",
    "results = []  # this is called a list\n",
    "\n",
    "# simulate rolling two die 1000 times but in a simple way so that a beginner Python programmer can follow the logic\n",
    "## fill in code ##"
   ],
   "outputs": [],
   "execution_count": null
  },
  {
   "metadata": {},
   "cell_type": "code",
   "source": [
    "# compute how many times each sum appears\n",
    "sums = {}  # this is called a dictionary\n",
    "# a dictionary is a collection of key-value pairs\n",
    "# the key is the sum of the two die\n",
    "# the value is the number of times that sum appears\n",
    "for i in range(2, 13):\n",
    "    print(f\"Now counting the number of times {i} appears\")\n",
    "    ## fill in code ##\n",
    "print(sums)"
   ],
   "outputs": [],
   "execution_count": null
  },
  {
   "metadata": {},
   "cell_type": "markdown",
   "source": "Plot a histogram of the relative frequency of each sum."
  },
  {
   "metadata": {},
   "cell_type": "code",
   "source": [
    "## Provide Python code to plot a histogram of the relative frequency of each sum ##\n",
    "## fill in code ##"
   ],
   "outputs": [],
   "execution_count": null
  },
  {
   "metadata": {},
   "cell_type": "markdown",
   "source": [
    "## Micro‑Deliverable ##\n",
    "Due at the end of class on **Monday, September 8th, 2025**.\n",
    "\n",
    "**Complete the following tasks:**\n",
    "1. Create a copy of this notebook and rename it to `lecture01_yourname.ipynb`. Place the notebook in your \"my-work\" folder.\n",
    "2. Fill in the code in the cells marked with `## fill in code ##`.\n",
    "3. Run all cells and verify that the output is correct.\n"
   ]
  }
 ],
 "metadata": {
  "celltoolbar": "Slideshow",
  "kernelspec": {
   "display_name": "Python 3 (ipykernel)",
   "language": "python",
   "name": "python3"
  },
  "language_info": {
   "codemirror_mode": {
    "name": "ipython",
    "version": 3
   },
   "file_extension": ".py",
   "mimetype": "text/x-python",
   "name": "python",
   "nbconvert_exporter": "python",
   "pygments_lexer": "ipython3",
   "version": "3.12.4"
  },
  "rise": {
   "autolaunch": false,
   "enable_chalkboard": false,
   "height": "100%",
   "scroll": true,
   "transition": "none",
   "width": "100%"
  }
 },
 "nbformat": 4,
 "nbformat_minor": 4
}
