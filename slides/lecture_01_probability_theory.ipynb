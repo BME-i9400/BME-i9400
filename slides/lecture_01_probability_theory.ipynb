{
 "cells": [
  {
   "cell_type": "markdown",
   "id": "58486e30",
   "metadata": {},
   "source": [
    "## BME i9400\n",
    "## Fall 2025\n",
    "### Probability Theory I"
   ]
  },
  {
   "cell_type": "markdown",
   "id": "81f443ec",
   "metadata": {},
   "source": [
    "\n",
    "### Today's problem\n",
    "\n",
    "You are employed by Biomedical Engineers Without Borders. The monkeypox virus has been ravaging the country. It is estimated that 1 in 100 Americans are now infected. A new test has been developed to detect the virus. The test has a 10% false positive rate, meaning that if a patient is negative, there is a 10% chance that the test result will indicate infection. The test also has a 10% false negative rate, meaning that if a patient is positive, there is a 10% chance that the test result will indicate no infection. \n",
    "\n",
    "**Patient X comes into your clinic and tests positive for the virus. What is the probability that Patient X is actually infected?**\n"
   ]
  },
  {
   "metadata": {},
   "cell_type": "markdown",
   "source": [
    "### Truth table\n",
    "| D (Disease) | T (Test) | Event          |\n",
    "|-------------|----------|----------------|\n",
    "| 0 (Healthy) | 0 (Negative) | True Negative  |\n",
    "| 0 (Healthy) | 1 (Positive) | False Positive |\n",
    "| 1 (Infected) | 0 (Negative) | False Negative |\n",
    "| 1 (Infected) | 1 (Positive) | True Positive  |"
   ],
   "id": "b3bac4133b6c3ad5"
  },
  {
   "metadata": {},
   "cell_type": "markdown",
   "source": [
    "### Foundations of Probability Theory\n",
    "\n",
    "**Basic set theory**\n",
    "- **Sample space** $ \\Omega $: the set of all possible outcomes.\n",
    "  - *Example (coin flip):* $\\Omega$ = $\\{H, T\\} $\n",
    "  - *Example (sum of two dice):* $ \\Omega = \\{2,3,\\dots,12\\} $\n",
    "- **Event** $ A \\subseteq \\Omega $: a set of outcomes of interest.\n",
    "- $\\subseteq$ denotes \"is a subset of\".\n",
    "  - *Example (coin flip):* $ A = \\{H\\} $ (heads).\n",
    "  - *Example (sum of two dice):* $ A = \\{7\\} $ (sum equals 7).\n",
    "- **Union** $ A \\cup B $ -- the event that either $ A $ or $ B $ occurs.\n",
    "  - *Example (coin flip):* $ A = \\{H\\} $, $ B = \\{T\\} $, then $ A \\cup B = \\{H, T\\} $.\n",
    "  - *Example (sum of two dice):* $ A = \\{7\\} $, $ B = \\{8\\} $, then $ A \\cup B = \\{7, 8\\} $.\n",
    "- **Intersection** $ A \\cap B $ -- the event that both $ A $ and $ B $ occur.\n",
    "  - *Example (coin flip):* $ A = \\{H\\} $, $ B = \\{T\\} $, then $ A \\cap B = \\emptyset $ (no overlap).\n",
    "  - *Example (sum of two dice):* $ A = \\{7\\} $, $ B = \\{8\\} $, then $ A \\cap B = \\emptyset $.\n",
    "- **Complement**:  $ A^c $. -- the event that $ A $ does not occur.\n",
    "  - *Example (coin flip):* $ A = \\{H\\} $, then $ A^c = \\{T\\} $ (tails).\n",
    "  - *Example (sum of two dice):* $ A = \\{7\\} $, then $ A^c = \\{2,3,4,5,6,8,9,10,11,12\\} $ (all sums except 7).\n",
    "- **Disjoint events**: $ A \\cap B = \\emptyset $ -- events that cannot occur together.\n",
    "  - *Example (coin flip):* $ A = \\{H\\} $, $ B = \\{T\\} $, then $ A \\cap B = \\emptyset $.\n",
    "  - *Example (sum of two dice):* $ A = \\{7\\} $, $ B = \\{8\\} $, then $ A \\cap B = \\emptyset $.\n"
   ],
   "id": "dd28499b8871d467"
  },
  {
   "metadata": {},
   "cell_type": "markdown",
   "source": [
    "### Probability\n",
    "- **Probability measure** $ P(A) $: a function that assigns a probability to each event.\n",
    "  - *Example (coin flip):* $ P(H) = 0.5 $, $ P(T) = 0.5 $.\n",
    "  - *Example (sum of two dice):* $ P(sum=7) = \\frac{6}{36} = \\frac{1}{6} $.\n"
   ],
   "id": "1d008bf0d05d438"
  },
  {
   "metadata": {},
   "cell_type": "markdown",
   "source": [
    "**Kolmogorov axioms**\n",
    "1. Non‑negativity: $ P(A) \\ge 0$.\n",
    "2. Normalization: $ P(\\Omega)=1 $.\n",
    "3. Additivity: If disjoint, $ P(A \\cup B)=P(A)+P(B) $.\n",
    "\n"
   ],
   "id": "c2aa59cd4d22d63b"
  },
  {
   "metadata": {},
   "cell_type": "markdown",
   "source": [
    "**Conditional probability**\n",
    "\n",
    "- Definition: $ P(A|B)=\\frac{P(A \\cap B)}{P(B)} $\n",
    "- Interpretation: Probability of $ A $ given that $ B $ has happened.\n"
   ],
   "id": "fd62bfb8cd5e3f27"
  },
  {
   "metadata": {},
   "cell_type": "markdown",
   "source": [
    "**Law of Total Probability**\n",
    "\n",
    "If $B_i$ partition of $B$, then $P(A)=\\sum P(A|B_i)P(B_i)$.\n"
   ],
   "id": "1537540500af266f"
  },
  {
   "metadata": {},
   "cell_type": "markdown",
   "source": [
    "### Example of a partition\n",
    "- $B_1$: sum is even, $B_2$: sum is odd.\n",
    "- $P(B_1)=P(B_2)=0.5$.\n",
    "- $P(B_1) + P(B_2)=1$."
   ],
   "id": "c9531b614c2973f2"
  },
  {
   "cell_type": "markdown",
   "id": "7c74ce77",
   "metadata": {},
   "source": [
    "\n",
    "### Bayes’ Rule\n",
    "\n",
    "- Definition: $ P(A|B) = \\frac{P(B|A)P(A)}{P(B)} $\n",
    "\n",
    "- Derivation:\n",
    "    - $ P(A \\cap B) = P(B \\cap A) $\n",
    "    - $ P(A|B) = \\frac{P(B|A)P(A)}{P(B)}. $\n",
    "    - $ P(A|B) = \\frac{P(B|A)P(A)}{P(B|A)P(A)+P(B|A^c)P(A^c)}. $\n",
    "\n",
    "- **Interpretation:** posterior = likelihood × prior / evidence.\n"
   ]
  },
  {
   "metadata": {},
   "cell_type": "markdown",
   "source": "## Return to the Opening Problem",
   "id": "d29665fc8dadf695"
  },
  {
   "metadata": {},
   "cell_type": "markdown",
   "source": [
    "### Let's define the two binary random variables in this problem:\n",
    "\n",
    "- $T$ = outcome of test (0 for negative, 1 for positive)\n",
    "- $D$ = disease status (0 for healthy, 1 for infected)\n",
    "\n",
    "- From the information given to us:\n",
    "    - False positive rate = $P(T=1 | D=0) = 0.1$\n",
    "    - False negative rate = $P(T=0 | D=1) = 0.1$\n",
    "    - Prevalence = $P(D=1) = 0.01$\n",
    "\n",
    "We are interested in finding:\n",
    "$P(D=1 | T=1) = \\frac{P(T=1|D=1) P(D=1)}{P(T=1)}$\n",
    "\n",
    "From the Total Probability Theorem:\n",
    "$P(T=1) = P(T=1|D=1)P(D=1) + P(T=1|D=0)P(D=0)$\n",
    "\n",
    "From the definiton of probability:\n",
    "$P(T=1|D=1) = 1 - P(T=1 | D=0) = 0.9$\n",
    "\n",
    "Substituting in the Total Probability Theorem:\n",
    "$P(T=1) = 0.9 \\times 0.01 + 0.1 \\times 0.99 = 0.009+0.099 = 0.108$\n",
    "\n",
    "And finally:\n",
    "$P(D=1 | T=1) = \\frac{0.9 \\times 0.01}{0.108} = \\frac{0.009}{0.108} = \\frac{1}{12}$\n"
   ],
   "id": "bf698263dedd0027"
  },
  {
   "metadata": {},
   "cell_type": "markdown",
   "source": [
    "### Important Definitions to Know and Understand\n",
    "- **Sensitivity**: Probability of a positive test given that disease is present.\n",
    "- **Specificity**: Probability that a positive test is actually true positive.\n",
    "- **Prevalence**: Probability of disease."
   ],
   "id": "798c155c821ae86f"
  },
  {
   "cell_type": "markdown",
   "id": "528b6d17",
   "metadata": {},
   "source": [
    "## Micro‑Deliverable\n",
    "Due at the end of class on **Monday, September 8th, 2025**.\n",
    "\n",
    "- Copy notebook, rename it lecture01_yourname.ipynb, place in my-work folder."
   ]
  }
 ],
 "metadata": {},
 "nbformat": 4,
 "nbformat_minor": 5
}
