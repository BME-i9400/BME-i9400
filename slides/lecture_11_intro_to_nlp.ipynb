{
 "cells": [
  {
   "cell_type": "markdown",
   "id": "b2e81284",
   "metadata": {
    "slideshow": {
     "slide_type": "slide"
    }
   },
   "source": [
    "## BME i9400\n",
    "## Fall 2024\n",
    "### Introduction to Natural Language Processing"
   ]
  },
  {
   "cell_type": "markdown",
   "id": "84d22682",
   "metadata": {
    "slideshow": {
     "slide_type": "slide"
    }
   },
   "source": [
    "## What is Natural Language Processing (NLP)?\n",
    "- Field of AI focused on interactions between computers and human language\n",
    "- Combines linguistics, computer science, and machine learning\n",
    "- Key tasks include:\n",
    "  - Text classification\n",
    "  - Named entity recognition \n",
    "  - Machine translation\n",
    "  - Question answering\n",
    "  - Text generation\n"
   ]
  },
  {
   "cell_type": "markdown",
   "id": "5a2ab481",
   "metadata": {
    "slideshow": {
     "slide_type": "slide"
    }
   },
   "source": [
    "\n",
    "## Why is NLP Challenging?\n",
    "- Language is inherently complex and ambiguous\n",
    "- Examples of challenges:\n",
    "  - \"The drug caused side effects\" vs \"The side effects caused hospitalization\"\n",
    "  - \"The patient's condition improved\" (positive) vs \"The patient's condition\" (neutral)\n",
    "  - Medical terms with multiple meanings (\"discharge\" - noun vs verb)\n",
    "- Need ways to represent text that capture meaning and context\n"
   ]
  },
  {
   "cell_type": "markdown",
   "id": "94a2b903",
   "metadata": {
    "slideshow": {
     "slide_type": "slide"
    }
   },
   "source": [
    "## Traditional Text Processing\n",
    "1. Text preprocessing\n",
    "   - Tokenization (breaking text into words/subwords)\n",
    "   - Removing stop words\n",
    "   - Stemming/lemmatization\n",
    "2. Feature extraction\n",
    "   - Bag of words\n",
    "   - TF-IDF (Term Frequency-Inverse Document Frequency)\n",
    "3. Limitations\n",
    "   - Loses word order\n",
    "   - Doesn't capture meaning\n",
    "   - Sparse representations\n"
   ]
  },
  {
   "cell_type": "markdown",
   "id": "6e327777",
   "metadata": {
    "slideshow": {
     "slide_type": "slide"
    }
   },
   "source": [
    "<img src=\"bow.png\" alt=\"1D Convolution\" width=\"1200\"/>"
   ]
  },
  {
   "cell_type": "markdown",
   "id": "0dc4dd90",
   "metadata": {
    "slideshow": {
     "slide_type": "slide"
    }
   },
   "source": [
    "## Word Vectors: A Better Way\n",
    "- Represent words as dense vectors in continuous space\n",
    "- Similar words have similar vectors\n",
    "- Example in medical context:\n",
    "  - \"heart\" closer to \"cardiac\" than to \"kidney\"\n",
    "  - \"diabetes\" closer to \"glucose\" than to \"fracture\"\n",
    "- Enables mathematical operations:\n",
    "  - king - man + woman ≈ queen\n",
    "  - cardiologist - heart + brain ≈ neurologist\n"
   ]
  },
  {
   "cell_type": "markdown",
   "id": "9c71f05c",
   "metadata": {
    "slideshow": {
     "slide_type": "slide"
    }
   },
   "source": [
    "<img src=\"word_vector.png\" alt=\"1D Convolution\" width=\"1200\"/>"
   ]
  },
  {
   "cell_type": "markdown",
   "id": "ac4a3a71",
   "metadata": {
    "slideshow": {
     "slide_type": "slide"
    }
   },
   "source": [
    "## Word2Vec: How It Works\n",
    "1. Two main approaches:\n",
    "   - Skip-gram: Predict context words from target\n",
    "   - Continuous Bag of Words (CBOW): Predict target from context\n",
    "2. Neural network learns word representations\n",
    "3. Results in dense vector space where:\n",
    "   - Similar words cluster together\n",
    "   - Relationships preserved in vector space\n"
   ]
  },
  {
   "cell_type": "markdown",
   "id": "f271290c",
   "metadata": {
    "slideshow": {
     "slide_type": "slide"
    }
   },
   "source": [
    "<img src=\"word2vec.png\" alt=\"1D Convolution\" width=\"1200\"/>"
   ]
  },
  {
   "cell_type": "markdown",
   "id": "c2589611",
   "metadata": {
    "slideshow": {
     "slide_type": "slide"
    }
   },
   "source": [
    "<img src=\"w2v_training.png\" alt=\"1D Convolution\" width=\"1200\"/>"
   ]
  },
  {
   "cell_type": "markdown",
   "id": "77fac001",
   "metadata": {
    "slideshow": {
     "slide_type": "slide"
    }
   },
   "source": [
    "## Hands-on Demo 1: Word Vectors"
   ]
  },
  {
   "cell_type": "code",
   "id": "45c2dbaa",
   "metadata": {},
   "source": [
    "import gensim.downloader as api\n",
    "from gensim.models.word2vec import Word2Vec"
   ],
   "outputs": [],
   "execution_count": null
  },
  {
   "cell_type": "code",
   "id": "22b6d87c",
   "metadata": {},
   "source": [
    "# Load a large \"corpus\" of text\n",
    "corpus = api.load('text8')"
   ],
   "outputs": [],
   "execution_count": null
  },
  {
   "cell_type": "code",
   "id": "82714147",
   "metadata": {},
   "source": [
    "# Train a wav2vec model on the corpus\n",
    "model = Word2Vec(corpus)"
   ],
   "outputs": [],
   "execution_count": null
  },
  {
   "cell_type": "code",
   "id": "9ef1c907",
   "metadata": {
    "slideshow": {
     "slide_type": "slide"
    }
   },
   "source": [
    "# find the most similar words to 'brain'\n",
    "print(model.wv.most_similar('brain'))"
   ],
   "outputs": [],
   "execution_count": null
  },
  {
   "cell_type": "code",
   "id": "1577bc17",
   "metadata": {
    "slideshow": {
     "slide_type": "slide"
    }
   },
   "source": [
    "# find the embedding for 'brain'\n",
    "print(model.wv['brain'])"
   ],
   "outputs": [],
   "execution_count": null
  },
  {
   "cell_type": "code",
   "id": "d427c730",
   "metadata": {
    "slideshow": {
     "slide_type": "slide"
    }
   },
   "source": [
    "# find the similarity between 'brain' and 'heart'\n",
    "print(model.wv.similarity('brain', 'heart'))"
   ],
   "outputs": [],
   "execution_count": null
  },
  {
   "cell_type": "code",
   "id": "e11ab421",
   "metadata": {},
   "source": [
    "# Find the similarity between 'brain' and 'car'\n",
    "print(model.wv.similarity('brain', 'car'))"
   ],
   "outputs": [],
   "execution_count": null
  },
  {
   "cell_type": "markdown",
   "id": "4984d824",
   "metadata": {
    "slideshow": {
     "slide_type": "slide"
    }
   },
   "source": [
    "## Modern Word Embeddings\n",
    "- Contextual embeddings: Words have different vectors based on context\n",
    "- Example: \"discharge\"\n",
    "  - \"Patient ready for discharge\" (noun - leaving hospital)\n",
    "  - \"Wound continues to discharge\" (verb - producing fluid)\n",
    "- Popular models:\n",
    "  - BERT\n",
    "  - BioBERT (trained on biomedical text)\n",
    "  - ClinicalBERT (trained on clinical notes)\n"
   ]
  },
  {
   "cell_type": "markdown",
   "id": "7355cff0",
   "metadata": {
    "slideshow": {
     "slide_type": "slide"
    }
   },
   "source": [
    "<img src=\"contextual_embedding.png\" alt=\"1D Convolution\" width=\"1200\"/>"
   ]
  },
  {
   "metadata": {},
   "cell_type": "code",
   "source": [
    "from transformers import AutoTokenizer, AutoModel\n",
    "import torch\n",
    "\n",
    "# Load BioBERT\n",
    "tokenizer = AutoTokenizer.from_pretrained('dmis-lab/biobert-v1.1')\n",
    "model = AutoModel.from_pretrained('dmis-lab/biobert-v1.1')"
   ],
   "id": "cf3eee8ee40abc20",
   "outputs": [],
   "execution_count": null
  },
  {
   "metadata": {},
   "cell_type": "code",
   "source": [
    "# Process two different uses of \"discharge\"\n",
    "text1 = \"The patient was discharged.\"\n",
    "text2 = \"The wound discharged fluid.\"\n",
    "\n",
    "# Get tokenized inputs\n",
    "tokens1 = tokenizer(text1, return_tensors=\"pt\")\n",
    "tokens2 = tokenizer(text2, return_tensors=\"pt\")\n",
    "\n",
    "tokens1, tokens2"
   ],
   "id": "2dcda240b723a97d",
   "outputs": [],
   "execution_count": null
  },
  {
   "metadata": {},
   "cell_type": "code",
   "source": [
    "# Get the actual tokens to find the position of \"discharge\"\n",
    "tokens1_words = tokenizer.convert_ids_to_tokens(tokens1['input_ids'][0])\n",
    "tokens2_words = tokenizer.convert_ids_to_tokens(tokens2['input_ids'][0])\n",
    "\n",
    "tokens1_words, tokens2_words"
   ],
   "id": "227e9e980fdbc28b",
   "outputs": [],
   "execution_count": null
  },
  {
   "metadata": {},
   "cell_type": "code",
   "source": [
    "# Find positions of \"discharge\" in each sentence\n",
    "discharge1_pos = tokens1_words.index('discharged')\n",
    "discharge2_pos = tokens2_words.index('discharged')\n",
    "\n",
    "discharge1_pos, discharge2_pos"
   ],
   "id": "bdb956f123cb2fee",
   "outputs": [],
   "execution_count": null
  },
  {
   "metadata": {},
   "cell_type": "code",
   "source": [
    "# Get embeddings\n",
    "with torch.no_grad():\n",
    "    outputs1 = model(**tokens1)\n",
    "    outputs2 = model(**tokens2)\n",
    "\n",
    "# Extract embeddings for \"discharge\" in each context\n",
    "discharge1_embedding = outputs1.last_hidden_state[0][discharge1_pos]\n",
    "discharge2_embedding = outputs2.last_hidden_state[0][discharge2_pos]\n",
    "\n",
    "len(discharge1_embedding), len(discharge2_embedding)"
   ],
   "id": "b04d71d7ba564197",
   "outputs": [],
   "execution_count": null
  },
  {
   "metadata": {},
   "cell_type": "code",
   "source": [
    "# Compare embeddings\n",
    "similarity = torch.cosine_similarity(\n",
    "    discharge1_embedding.unsqueeze(0), \n",
    "    discharge2_embedding.unsqueeze(0))\n",
    "\n",
    "print(\"Tokens in first sentence:\", tokens1_words)\n",
    "print(\"Tokens in second sentence:\", tokens2_words)\n",
    "print(f\"\\nSimilarity between the two uses of 'discharge': {similarity.item()}\")"
   ],
   "id": "d7c9ebd653df107f",
   "outputs": [],
   "execution_count": null
  },
  {
   "cell_type": "markdown",
   "id": "888a5f58",
   "metadata": {
    "slideshow": {
     "slide_type": "slide"
    }
   },
   "source": [
    "## Applications in Biomedical Domain\n",
    "1. Clinical Text Classification\n",
    "   - Diagnosis categorization\n",
    "   - Clinical trial matching\n",
    "2. Named Entity Recognition\n",
    "   - Identifying drugs, diseases, symptoms\n",
    "3. Information Extraction\n",
    "   - Mining medical literature\n",
    "   - Extracting patient information from notes\n"
   ]
  },
  {
   "metadata": {},
   "cell_type": "markdown",
   "source": "## Summarization",
   "id": "97f8b06fc121f8b9"
  },
  {
   "metadata": {},
   "cell_type": "code",
   "source": [
    "from sumy.parsers.plaintext import PlaintextParser\n",
    "from sumy.nlp.tokenizers import Tokenizer\n",
    "from sumy.summarizers.lex_rank import LexRankSummarizer\n",
    "\n",
    "# Sample text (PubMed abstract)\n",
    "text = \"\"\"\n",
    "President Joe Biden’s pardon of his son Hunter deepened an entanglement of politics and the rule of law that has tarnished faith in American justice and is almost certain to worsen in Donald Trump’s second term.\n",
    "\n",
    "The Sunday evening move was a stunning development since Biden came to office vowing to restore the independence of the Justice Department, which had been eroded during Trump’s first term, and because he had repeatedly said he wouldn’t pardon his son.\n",
    "\n",
    "Now, weeks before he leaves the White House, Biden has wielded presidential power to absolve his son ahead of sentencings later this month over a pair of gun and tax convictions that emerged from the due process of law.\n",
    "\n",
    "His decision came days after special counsel Jack Smith moved to dismiss the federal cases against Trump — over election interference and the hoarding of classified documents — on the grounds that presidents can’t be prosecuted.\n",
    "\n",
    "Taken together, the convergence of legal controversies raises questions about the bedrock notion that underpins the system of justice in the United States that everyone — even presidents and their families — are equal before the law.\n",
    "\n",
    "Until Sunday, Biden had not intervened in the cases against his son, and the White House always insisted that he wouldn’t, even though the shifting political environment caused by Trump’s election victory last month seemed likely to shift his calculations. Biden started informing staff of his decision on Saturday evening, a source familiar with the matter told CNN’s Arlette Saenz, and his team regrouped on Sunday morning to iron out the details.\n",
    "\n",
    "Politically, Biden’s reversal may be seen as a stain on his legacy and his credibility. It contributes to an ignominious end for a presidency that dissolved in his disastrous debate performance in June and that will now be remembered as much for opening the way for Trump’s return to the White House as evicting him four years ago.\n",
    "\n",
    "Rep. Glenn Ivey, a Maryland Democrat, acknowledged to Kasie Hunt on “CNN This Morning” Monday that the pardon will be wielded politically against Democrats.\n",
    "\n",
    "“I’ve got mixed views about it, frankly,” Ivey said.\n",
    "\n",
    "The president also may have offered an opening for Trump’s party to rally behind Kash Patel, the loyalist whom the president-elect picked Saturday evening to lead the FBI and serve as an apparent agent of his campaign of political retribution.\n",
    "\n",
    "There is no evidence of wrongdoing on the part of the president. An impeachment inquiry by House Republicans that looked at Biden’s and his son’s business relationships — which Democrats saw as an attempt to inflict political damage ahead of the election — went nowhere. And the cases against Hunter Biden lack the constitutional gravity or historic importance of the indictments against Trump and his frequent attacks on the rule of law.\n",
    "\n",
    "But the political impact of Sunday night’s drama could be profound. Already, Republicans are arguing the Hunter Biden pardon shows that the current president, and not the next one, is most to blame for politicizing the system of justice by meting out favorable treatment to his son. Their claim may not be accurate, but it can still be politically effective.\n",
    "\n",
    "Trump used pardons to protect multiple political aides and contacts during his first term, including his daughter’s father-in-law, who’s now his pick for ambassador to France. But any time in the future that Trump is criticized for his use of pardon power, he will be able to argue that Biden did the same to protect his own kin.\n",
    "\n",
    "This could be especially significant as Trump comes under pressure from supporters in the coming months to pardon those convicted of crimes related to the January 6, 2021, mob attack on the US Capitol — many of whom are still in jail.\n",
    "\n",
    "Yet Biden, after a life of tragedies and heartache, asked Americans to judge him as a father who was clearly worried about the impact of a potential jail term on his son, a recovering addict.\n",
    "\n",
    "Hunter Biden was convicted by a jury in June of illegally buying and possessing a gun after a trial that exposed his drug abuse and family dysfunction. He pleaded guilty in September to nine tax offenses, stemming from $1.4 million in taxes that he didn’t pay while spending lavishly on escorts, strippers, cars and drugs.\n",
    "\n",
    "There is some validity to the president’s claim in his Sunday statement that his son was “treated differently” because of who his father is. Charges relating to the illegal possession of a firearm while being addicted to a controlled substance and regarding a false statement on the matter are quite rare, for instance. And Republican congressional probes into the matter, which imploded over a lack of evidence, looked like naked attempts to damage the president.\n",
    "\n",
    "“No reasonable person who looks at the facts of Hunter’s cases can reach any other conclusion than Hunter was singled out only because he is my son — and that is wrong,” Joe Biden said in the statement. “There has been an effort to break Hunter — who has been five and a half years sober, even in the face of unrelenting attacks and selective prosecution. In trying to break Hunter, they’ve tried to break me — and there’s no reason to believe it will stop here. Enough is enough.”\n",
    "\n",
    "His statement is extraordinary because Biden is now arguing something rather similar to Trump — that his own Justice Department has been unfairly politicized. Biden was referring to the way that the Hunter Biden case was handled by David Weiss, a Trump-appointed US attorney from Delaware who originally investigated the president’s son and was later appointed as a special counsel by Attorney General Merrick Garland.\n",
    "\n",
    "Yet at the same time, Hunter Biden put himself in a position in which he created a political vulnerability and potential conflict of interest for his father. In addition, his business activities in Ukraine and China while his father was vice president and afterward raised serious ethical questions, even though Republicans have failed to produce evidence for claims that the current president benefited from the transactions.\n",
    "\n",
    "It is significant, therefore, that Joe Biden’s pardon includes any activity by his son starting on January 1, 2014 — the year that Hunter Biden joined the board of Burisma, a Ukrainian energy company — while his father, who was then vice president, was deeply involved in US policy toward Kyiv.\n",
    "\n",
    "While the pardon is its own distinct controversy, it may not have happened but for the extraordinary circumstances of a fraught political moment, with Trump due to return to power at noon on January 20.\n",
    "\n",
    "Given the selection of Patel to head the FBI and Trump’s second pick for attorney general, Pam Bondi, there are reasonable grounds to expect that Hunter Biden may have been among those whom the president-elect’s loyalists were likely to target, given their vows to use their powers to go after his enemies.\n",
    "\n",
    "And now that he’s acted to protect his son, Joe Biden may face calls to cast a much wider net with his pardon authority, perhaps to include prosecutors who worked on cases against Trump, including over his attempt to overturn the result of the 2020 election.\n",
    "\n",
    "The president-elect moved quickly to capitalize on the situation in a comment that will raise expectations that he will issue pardons for January 6 convicts shortly after he takes office again.\n",
    "\n",
    "“Does the Pardon given by Joe to Hunter include the J-6 Hostages, who have now been imprisoned for years?” Trump wrote in a post on Truth Social on Sunday. “Such an abuse and miscarriage of Justice!”\n",
    "\n",
    "And Trump’s Republican allies sought to use the situation to bolster the chances of Senate confirmation for some of his most provocative picks. “Democrats can spare us the lectures about the rule of law when, say, President Trump nominates Pam Bondi and Kash Patel to clean up this corruption,” Arkansas Sen. Tom Cotton wrote on X.\n",
    "\n",
    "\"\"\"\n",
    "\n",
    "# Summarize\n",
    "parser = PlaintextParser.from_string(text, Tokenizer(\"english\"))\n",
    "summarizer = LexRankSummarizer()\n",
    "summary = summarizer(parser.document, 3)  # Summarize to 2 sentences\n",
    "for sentence in summary:\n",
    "    print(sentence)"
   ],
   "id": "72be065c34df3921",
   "outputs": [],
   "execution_count": null
  },
  {
   "metadata": {},
   "cell_type": "markdown",
   "source": "## Tokenization",
   "id": "dd3d2a2b53377425"
  },
  {
   "metadata": {},
   "cell_type": "code",
   "source": [
    "import nltk\n",
    "from nltk.tokenize import word_tokenize, sent_tokenize\n",
    "\n",
    "nltk.download('punkt_tab')\n",
    "nltk.download('wordnet')\n",
    "nltk.download('omw-1.4')\n",
    "\n",
    "text = \"NLP enables machines to understand human language. This is vital for healthcare.\"\n",
    "print(\"Word Tokenization:\", word_tokenize(text))\n",
    "print(\"Sentence Tokenization:\", sent_tokenize(text))"
   ],
   "id": "eafaa6c66e3a860c",
   "outputs": [],
   "execution_count": null
  },
  {
   "metadata": {},
   "cell_type": "code",
   "source": [
    "from textblob import TextBlob\n",
    "\n",
    "text = \"Moana 2 was a hot, steaming pile of garbage. The animation was terrible and the plot was non-existent.\"\n",
    "\n",
    "blob = TextBlob(text)\n",
    "sentiment = blob.sentiment.polarity  # Ranges from -1 (negative) to 1 (positive)\n",
    "\n",
    "# Display the sentiment\n",
    "if sentiment > 0:\n",
    "    print(\"Sentiment: Positive 😊\\n\")\n",
    "elif sentiment < 0:\n",
    "    print(\"Sentiment: Negative 😞\\n\")\n",
    "else:\n",
    "    print(\"Sentiment: Neutral 😐\\n\")"
   ],
   "id": "ee7c088ed8665b36",
   "outputs": [],
   "execution_count": null
  },
  {
   "metadata": {},
   "cell_type": "markdown",
   "source": "## Named Entity Recognition",
   "id": "bdb46d85c4018b7f"
  },
  {
   "metadata": {},
   "cell_type": "code",
   "source": [
    "import spacy\n",
    "\n",
    "# Load pre-trained model\n",
    "nlp = spacy.load(\"en_core_web_sm\")\n",
    "\n",
    "# Sample biomedical text\n",
    "text = \"Acetaminophen is used to treat pain and reduce the risk of stroke in cardiovascular disease. Jacek Dmochowski is an Associate Professor of Biomedical Engineering.\"\n",
    "\n",
    "# Process the text\n",
    "doc = nlp(text)\n",
    "\n",
    "# Extract named entities\n",
    "for ent in doc.ents:\n",
    "    print(f\"{ent.text} ({ent.label_})\")"
   ],
   "id": "49029527e7a35e31",
   "outputs": [],
   "execution_count": null
  },
  {
   "metadata": {},
   "cell_type": "code",
   "source": "",
   "id": "274d9a74b489d883",
   "outputs": [],
   "execution_count": null
  }
 ],
 "metadata": {
  "celltoolbar": "Slideshow",
  "kernelspec": {
   "display_name": "Python 3 (ipykernel)",
   "language": "python",
   "name": "python3"
  },
  "language_info": {
   "codemirror_mode": {
    "name": "ipython",
    "version": 3
   },
   "file_extension": ".py",
   "mimetype": "text/x-python",
   "name": "python",
   "nbconvert_exporter": "python",
   "pygments_lexer": "ipython3",
   "version": "3.12.4"
  }
 },
 "nbformat": 4,
 "nbformat_minor": 5
}
