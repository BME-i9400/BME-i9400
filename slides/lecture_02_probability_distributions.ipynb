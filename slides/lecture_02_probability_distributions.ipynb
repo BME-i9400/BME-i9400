{
 "cells": [
  {
   "cell_type": "markdown",
   "metadata": {},
   "source": [
    "## BME i9400\n",
    "## Fall 2025\n",
    "### Probability Theory II: Distributions & Covariance"
   ]
  },
  {
   "cell_type": "markdown",
   "metadata": {},
   "source": [
    "### Today's Problem\n",
    "\n",
    "You are analyzing biomarker data from a clinical trial studying a new diagnostic test for early-stage Alzheimer's disease. The test measures two biomarkers:\n",
    "- **Biomarker A**: Amyloid-β protein concentration (μg/mL)\n",
    "- **Biomarker B**: Tau protein concentration (μg/mL)\n",
    "\n",
    "From a cohort of 1000 patients, you observe that:\n",
    "- Both biomarkers appear to follow normal distributions\n",
    "- The biomarkers seem to be correlated (when one is high, the other tends to be high)\n",
    "- Some patients have discordant results (high A, low B or vice versa)\n",
    "\n",
    "**Your task**: Understand the joint distribution of these biomarkers to determine:\n",
    "1. What is the probability a patient has both biomarkers above threshold?\n",
    "2. How does the correlation between biomarkers affect diagnostic accuracy?\n",
    "3. Can we predict one biomarker from the other?"
   ]
  },
  {
   "cell_type": "markdown",
   "metadata": {},
   "source": [
    "### Mini-Lecture: Probability Distributions (15-20 minutes)\n",
    "\n",
    "#### Part 1: Discrete Distributions"
   ]
  },
  {
   "cell_type": "markdown",
   "metadata": {},
   "source": [
    "**Bernoulli Distribution**\n",
    "- Models a single binary outcome (success/failure)\n",
    "- Parameter: $p$ = probability of success\n",
    "- PMF: $P(X=k) = p^k(1-p)^{1-k}$ for $k \\in \\{0,1\\}$\n",
    "- Mean: $E[X] = p$\n",
    "- Variance: $\\text{Var}(X) = p(1-p)$\n",
    "- *Clinical example*: Single patient has disease (1) or not (0)"
   ]
  },
  {
   "cell_type": "markdown",
   "metadata": {},
   "source": [
    "**Binomial Distribution**\n",
    "- Models number of successes in $n$ independent Bernoulli trials\n",
    "- Parameters: $n$ (trials), $p$ (success probability)\n",
    "- PMF: $P(X=k) = \\binom{n}{k}p^k(1-p)^{n-k}$\n",
    "- Mean: $E[X] = np$\n",
    "- Variance: $\\text{Var}(X) = np(1-p)$\n",
    "- *Clinical example*: Number of patients responding to treatment out of $n$ patients"
   ]
  },
  {
   "cell_type": "markdown",
   "metadata": {},
   "source": [
    "**Poisson Distribution**\n",
    "- Models count of events in fixed time/space\n",
    "- Parameter: $\\lambda$ = average rate\n",
    "- PMF: $P(X=k) = \\frac{\\lambda^k e^{-\\lambda}}{k!}$\n",
    "- Mean: $E[X] = \\lambda$\n",
    "- Variance: $\\text{Var}(X) = \\lambda$\n",
    "- *Clinical example*: Number of seizures per month in epilepsy patients"
   ]
  },
  {
   "cell_type": "markdown",
   "metadata": {},
   "source": [
    "#### Part 2: Continuous Distributions"
   ]
  },
  {
   "cell_type": "markdown",
   "metadata": {},
   "source": [
    "**Uniform Distribution**\n",
    "- Equal probability over an interval $[a,b]$\n",
    "- PDF: $f(x) = \\frac{1}{b-a}$ for $x \\in [a,b]$\n",
    "- Mean: $E[X] = \\frac{a+b}{2}$\n",
    "- Variance: $\\text{Var}(X) = \\frac{(b-a)^2}{12}$\n",
    "- *Clinical example*: Arrival time of emergency patients within an hour"
   ]
  },
  {
   "cell_type": "markdown",
   "metadata": {},
   "source": [
    "**Gaussian (Normal) Distribution**\n",
    "- Most important continuous distribution\n",
    "- Parameters: $\\mu$ (mean), $\\sigma^2$ (variance)\n",
    "- PDF: $f(x) = \\frac{1}{\\sqrt{2\\pi\\sigma^2}}e^{-\\frac{(x-\\mu)^2}{2\\sigma^2}}$\n",
    "- Mean: $E[X] = \\mu$\n",
    "- Variance: $\\text{Var}(X) = \\sigma^2$\n",
    "- *Clinical example*: Blood pressure, height, many biomarkers"
   ]
  },
  {
   "cell_type": "markdown",
   "metadata": {},
   "source": [
    "#### Part 3: Key Concepts"
   ]
  },
  {
   "cell_type": "markdown",
   "metadata": {},
   "source": [
    "**Expected Value**\n",
    "- Discrete: $E[X] = \\sum_x x \\cdot P(X=x)$\n",
    "- Continuous: $E[X] = \\int_{-\\infty}^{\\infty} x \\cdot f(x)dx$\n",
    "- Interpretation: Long-run average value\n",
    "\n",
    "**Variance**\n",
    "- Definition: $\\text{Var}(X) = E[(X-\\mu)^2] = E[X^2] - (E[X])^2$\n",
    "- Standard deviation: $\\sigma = \\sqrt{\\text{Var}(X)}$\n",
    "- Interpretation: Spread around the mean"
   ]
  },
  {
   "cell_type": "markdown",
   "metadata": {},
   "source": [
    "#### Part 4: Joint Distributions & Covariance"
   ]
  },
  {
   "cell_type": "markdown",
   "metadata": {},
   "source": [
    "**Joint Distribution**\n",
    "- Describes probability of two variables simultaneously\n",
    "- For continuous: $f(x,y)$ such that $\\int\\int f(x,y)dxdy = 1$\n",
    "- Marginal: $f_X(x) = \\int f(x,y)dy$\n",
    "\n",
    "**Covariance**\n",
    "- Definition: $\\text{Cov}(X,Y) = E[(X-\\mu_X)(Y-\\mu_Y)]$\n",
    "- Alternative: $\\text{Cov}(X,Y) = E[XY] - E[X]E[Y]$\n",
    "- Correlation: $\\rho = \\frac{\\text{Cov}(X,Y)}{\\sigma_X \\sigma_Y}$ (normalized, $-1 \\leq \\rho \\leq 1$)"
   ]
  },
  {
   "cell_type": "markdown",
   "metadata": {},
   "source": [
    "**Covariance Matrix (2D)**\n",
    "\n",
    "For two variables $X$ and $Y$:\n",
    "\n",
    "$$\\Sigma = \\begin{bmatrix}\n",
    "\\text{Var}(X) & \\text{Cov}(X,Y) \\\\\n",
    "\\text{Cov}(Y,X) & \\text{Var}(Y)\n",
    "\\end{bmatrix} = \\begin{bmatrix}\n",
    "\\sigma_X^2 & \\rho\\sigma_X\\sigma_Y \\\\\n",
    "\\rho\\sigma_X\\sigma_Y & \\sigma_Y^2\n",
    "\\end{bmatrix}$$\n",
    "\n",
    "- **Diagonal terms**: Variances (always positive)\n",
    "- **Off-diagonal terms**: Covariances (can be positive, negative, or zero)\n",
    "- **Symmetric**: $\\text{Cov}(X,Y) = \\text{Cov}(Y,X)$\n",
    "- **Positive definite**: All eigenvalues > 0 (don't worry if you don't know what an eigenvalue is yet)"
   ]
  },
  {
   "cell_type": "markdown",
   "metadata": {},
   "source": [
    "### Hands-On Lab: Exploring Distributions & Covariance (45 minutes)"
   ]
  },
  {
   "cell_type": "code",
   "metadata": {},
   "source": [
    "# Setup and imports\n",
    "import numpy as np\n",
    "import matplotlib.pyplot as plt\n",
    "from scipy import stats\n",
    "\n",
    "# Set style and random seed for reproducibility\n",
    "plt.style.use('seaborn-v0_8-darkgrid')\n",
    "np.random.seed(42)"
   ],
   "outputs": [],
   "execution_count": null
  },
  {
   "cell_type": "markdown",
   "metadata": {},
   "source": [
    "#### Task 1: Visualize Discrete Distributions (10 minutes)"
   ]
  },
  {
   "cell_type": "code",
   "metadata": {},
   "source": [
    "# No deliverable in this cell, just run the cell and carefully observe the output\n",
    "\n",
    "# Example: Bernoulli Distribution\n",
    "p = 0.3  # Probability of disease\n",
    "bernoulli_samples = stats.bernoulli.rvs(p, size=1000)\n",
    "\n",
    "theoretical_mean = p\n",
    "empirical_mean = np.mean(bernoulli_samples)\n",
    "\n",
    "theoretical_variance = p * (1 - p)\n",
    "empirical_variance = np.var(bernoulli_samples)\n",
    "\n",
    "print(f\"Bernoulli with p={p}:\")\n",
    "print(f\"  Empirical mean: {empirical_mean:.3f}\")\n",
    "print(f\"  Theoretical mean: {theoretical_mean:.3f}\")\n",
    "print(f\"  Empirical variance: {empirical_variance:.3f}\")\n",
    "print(f\"  Theoretical variance: {theoretical_variance:.3f}\")"
   ],
   "outputs": [],
   "execution_count": null
  },
  {
   "cell_type": "code",
   "metadata": {},
   "source": [
    "# TODO 1: Generate and visualize a Binomial distribution\n",
    "# Clinical scenario: 20 patients, each with 30% chance of responding to treatment\n",
    "n_trials = 20\n",
    "p_success = 0.3\n",
    "\n",
    "# Generate 1000 binomial samples modeling the number of responders\n",
    "# Hint: Use stats.binom.rvs\n",
    "# YOUR CODE HERE\n",
    "binomial_samples =\n",
    "\n",
    "# Create a histogram of the binomial samples\n",
    "# store the counts in a numpy array of counts for each possible outcome (0 to n_trials)\n",
    "# Hint: Use np.sum to count occurrences of each outcome\n",
    "# YOUR CODE HERE\n",
    "\n",
    "\n",
    "# Create a figure showing the histogram and theoretical PMF\n",
    "plt.figure(figsize=(10, 4))\n",
    "plt.subplot(1, 2, 1)\n",
    "\n",
    "# Plot theoretical PMF overlay\n",
    "x = np.arange(0, n_trials + 1)\n",
    "pmf = stats.binom.pmf(x, n_trials, p_success)\n",
    "plt.plot(x, pmf * 1000, 'r-', lw=2)\n",
    "\n",
    "# YOUR CODE HERE: Plot your histogram\n",
    "\n",
    "plt.title('Binomial Distribution: Treatment Response')\n",
    "plt.xlabel('Number of Responders')\n",
    "plt.ylabel('Probability/Frequency')\n",
    "plt.legend(['Theoretical PMF', 'Observed'])"
   ],
   "outputs": [],
   "execution_count": null
  },
  {
   "cell_type": "markdown",
   "metadata": {},
   "source": [
    "#### Task 2: Explore Continuous Distributions (10 minutes)"
   ]
  },
  {
   "cell_type": "code",
   "metadata": {},
   "source": [
    "# TODO 2: Generate and visualize a Normal distribution\n",
    "# Clinical scenario: Systolic blood pressure\n",
    "mu = 120  # Mean BP\n",
    "sigma = 15  # Standard deviation\n",
    "\n",
    "# Generate 1000 patient measurements\n",
    "# Hint: Use stats.norm.rvs\n",
    "# YOUR CODE HERE\n",
    "normal_samples =\n",
    "\n",
    "# Create a histogram of the normal samples and compare it to the theoretical PDF\n",
    "plt.subplot(1, 2, 1)\n",
    "\n",
    "# YOUR CODE HERE: Create and plot histogram from your samples\n",
    "# Hint: Use np.histogram to get counts and density=True\n",
    "\n",
    "# Overlay theoretical PDF\n",
    "x = np.linspace(mu - 4*sigma, mu + 4*sigma, 100)\n",
    "plt.plot(x, stats.norm.pdf(x, loc=mu, scale=sigma), 'r-', lw=2)\n",
    "plt.title('Normal Distribution: Blood Pressure')\n",
    "plt.xlabel('Systolic BP (mmHg)')\n",
    "plt.ylabel('Density')\n"
   ],
   "outputs": [],
   "execution_count": null
  },
  {
   "cell_type": "markdown",
   "metadata": {},
   "source": [
    "#### Task 3: Understanding 2D Joint Distributions (15 minutes)"
   ]
  },
  {
   "cell_type": "code",
   "metadata": {},
   "source": [
    "# No deliverable in this cell, just run the cell and carefully observe the output\n",
    "\n",
    "# Generate correlated biomarker data\n",
    "# Biomarker A: Amyloid-β (μg/mL)\n",
    "# Biomarker B: Tau protein (μg/mL)\n",
    "\n",
    "# Define means\n",
    "mean_A = 50  # Average Amyloid-β concentration\n",
    "mean_B = 30  # Average Tau concentration\n",
    "means = np.array([mean_A, mean_B])\n",
    "\n",
    "# Define standard deviations\n",
    "std_A = 10\n",
    "std_B = 8\n",
    "\n",
    "# Create three different covariance matrices\n",
    "# Case 1: No correlation (ρ = 0)\n",
    "cov_matrix_1 = np.array([[std_A**2, 0],\n",
    "                         [0, std_B**2]])\n",
    "\n",
    "# Case 2: Positive correlation (ρ = 0.7)\n",
    "rho_2 = 0.7\n",
    "cov_matrix_2 = np.array([[std_A**2, rho_2 * std_A * std_B],\n",
    "                         [rho_2 * std_A * std_B, std_B**2]])\n",
    "\n",
    "# Case 3: Negative correlation (ρ = -0.5)\n",
    "rho_3 = -0.5\n",
    "cov_matrix_3 = np.array([[std_A**2, rho_3 * std_A * std_B],\n",
    "                         [rho_3 * std_A * std_B, std_B**2]])\n",
    "\n",
    "# Generate samples\n",
    "n_samples = 500\n",
    "data_1 = np.random.multivariate_normal(means, cov_matrix_1, n_samples)\n",
    "data_2 = np.random.multivariate_normal(means, cov_matrix_2, n_samples)\n",
    "data_3 = np.random.multivariate_normal(means, cov_matrix_3, n_samples)"
   ],
   "outputs": [],
   "execution_count": null
  },
  {
   "cell_type": "code",
   "metadata": {},
   "source": [
    "# No deliverable in this cell, just run the cell and carefully observe the output\n",
    "\n",
    "# Visualize the three cases\n",
    "fig, axes = plt.subplots(2, 3, figsize=(15, 10))\n",
    "\n",
    "datasets = [data_1, data_2, data_3]\n",
    "titles = ['No Correlation (ρ=0)', 'Positive Correlation (ρ=0.7)', 'Negative Correlation (ρ=-0.5)']\n",
    "cov_matrices = [cov_matrix_1, cov_matrix_2, cov_matrix_3]\n",
    "\n",
    "for i, (data, title, cov_mat) in enumerate(zip(datasets, titles, cov_matrices)):\n",
    "    # Scatter plot\n",
    "    ax = axes[0, i]\n",
    "    ax.scatter(data[:, 0], data[:, 1], alpha=0.5, s=20)\n",
    "    ax.set_xlabel('Amyloid-β (μg/mL)')\n",
    "    ax.set_ylabel('Tau (μg/mL)')\n",
    "    ax.set_title(title)\n",
    "    ax.grid(True, alpha=0.3)\n",
    "    \n",
    "    # Add confidence ellipse\n",
    "    from matplotlib.patches import Ellipse\n",
    "    eigenvalues, eigenvectors = np.linalg.eig(cov_mat)\n",
    "    angle = np.degrees(np.arctan2(eigenvectors[1, 0], eigenvectors[0, 0]))\n",
    "    \n",
    "    for n_std in [1, 2]:\n",
    "        width, height = 2 * n_std * np.sqrt(eigenvalues)\n",
    "        ellipse = Ellipse(means, width, height, angle=angle, \n",
    "                         facecolor='none', edgecolor='red' if n_std==1 else 'blue',\n",
    "                         linewidth=2, alpha=0.8, linestyle='--')\n",
    "        ax.add_patch(ellipse)\n",
    "    \n",
    "    # Heatmap of covariance matrix\n",
    "    ax = axes[1, i]\n",
    "    im = ax.imshow(cov_mat, cmap='coolwarm', aspect='auto')\n",
    "    ax.set_xticks([0, 1])\n",
    "    ax.set_yticks([0, 1])\n",
    "    ax.set_xticklabels(['Amyloid-β', 'Tau'])\n",
    "    ax.set_yticklabels(['Amyloid-β', 'Tau'])\n",
    "    \n",
    "    # Add text annotations\n",
    "    for j in range(2):\n",
    "        for k in range(2):\n",
    "            text = ax.text(k, j, f'{cov_mat[j, k]:.1f}',\n",
    "                          ha=\"center\", va=\"center\", color=\"white\", fontsize=12)\n",
    "    \n",
    "    ax.set_title('Covariance Matrix')\n",
    "    plt.colorbar(im, ax=ax)\n",
    "\n",
    "plt.tight_layout()\n",
    "plt.show()"
   ],
   "outputs": [],
   "execution_count": null
  },
  {
   "cell_type": "code",
   "metadata": {},
   "source": [
    "# TODO 3: Calculate and interpret covariance matrix from real data\n",
    "# Use the positively correlated dataset (data_2)\n",
    "\n",
    "# Calculate empirical covariance matrix\n",
    "# YOUR CODE HERE\n",
    "# Hint: use np.cov with rowvar=False\n",
    "# Use data_2!\n",
    "empirical_cov =\n",
    "\n",
    "print(\"Theoretical Covariance Matrix:\")\n",
    "print(cov_matrix_2)\n",
    "print(\"\\nEmpirical Covariance Matrix (from data):\")\n",
    "print(empirical_cov)\n",
    "\n",
    "# Extract and interpret components\n",
    "\n",
    "# YOUR CODE HERE - extract variance of A\n",
    "var_A_empirical =\n",
    "\n",
    "# YOUR CODE HERE - extract variance of B\n",
    "var_B_empirical =\n",
    "\n",
    "#YOUR CODE HERE - extract covariance\n",
    "cov_AB_empirical =\n",
    "\n",
    "# Calculate correlation coefficient\n",
    "# YOUR CODE HERE - calculate correlation from covariance and variances\n",
    "# Hint: correlation = covariance / (std_A * std_B)\n",
    "correlation_empirical =\n",
    "\n",
    "print(f\"\\nInterpretation:\")\n",
    "print(f\"  Variance of Amyloid-β: {var_A_empirical:.2f} (μg/mL)²\")\n",
    "print(f\"  Variance of Tau: {var_B_empirical:.2f} (μg/mL)²\")\n",
    "print(f\"  Covariance: {cov_AB_empirical:.2f} (μg/mL)²\")\n",
    "print(f\"  Correlation coefficient: {correlation_empirical:.3f}\")\n",
    "print(f\"\\nMeaning: When Amyloid-β is above average, Tau tends to be \"\n",
    "      f\"{'above' if cov_AB_empirical > 0 else 'below'} average too.\")"
   ],
   "outputs": [],
   "execution_count": null
  },
  {
   "cell_type": "markdown",
   "metadata": {},
   "source": [
    "## Micro-Deliverable\n",
    "- Due at the end of class\n",
    "- Copy the notebook, rename it `lecture02_yourname.ipynb`, and place it in your `my-work` folder.\n",
    "- Complete the code in all instances of `# YOUR CODE HERE` in the notebook."
   ]
  },
  {
   "metadata": {},
   "cell_type": "markdown",
   "source": "### Challenge Problem (Optional)"
  },
  {
   "metadata": {},
   "cell_type": "code",
   "source": [
    "# [Optional] Predict one biomarker from another using linear regression\n",
    "# TODO 4: Predict one biomarker from another using correlation\n",
    "# Linear regression formula: B = α + β*A\n",
    "# where β = Cov(A,B)/Var(A) and α = mean(B) - β*mean(A)\n",
    "\n",
    "# Calculate regression coefficients\n",
    "# YOUR CODE HERE\n",
    "beta =\n",
    "alpha =\n",
    "\n",
    "# Make predictions\n",
    "# YOUR CODE HERE\n",
    "A_values = np.linspace(20, 80, 100)\n",
    "B_predicted =\n",
    "\n",
    "# Plot\n",
    "plt.figure(figsize=(10, 6))\n",
    "plt.scatter(data_2[:, 0], data_2[:, 1], alpha=0.5, label='Observed')\n",
    "plt.plot(A_values, B_predicted, 'r-', linewidth=2, label='Regression line')\n",
    "plt.xlabel('Amyloid-β (μg/mL)')\n",
    "plt.ylabel('Tau (μg/mL)')\n",
    "plt.title('Predicting Tau from Amyloid-β')\n",
    "plt.legend()\n",
    "plt.grid(True, alpha=0.3)\n",
    "\n",
    "# Add prediction interval\n",
    "residual_std = np.std(data_2[:, 1] - (alpha + beta * data_2[:, 0]))\n",
    "plt.fill_between(A_values,\n",
    "                 B_predicted - 2*residual_std,\n",
    "                 B_predicted + 2*residual_std,\n",
    "                 alpha=0.2, color='red', label='95% Prediction interval')\n",
    "plt.legend()\n",
    "plt.show()\n",
    "\n",
    "print(f\"Regression equation: Tau = {alpha:.2f} + {beta:.2f} × Amyloid-β\")\n",
    "print(f\"Interpretation: For each 1 μg/mL increase in Amyloid-β, \")\n",
    "print(f\"               Tau increases by {beta:.2f} μg/mL on average\")"
   ],
   "outputs": [],
   "execution_count": null
  }
 ],
 "metadata": {
  "kernelspec": {
   "display_name": "Python 3",
   "language": "python",
   "name": "python3"
  },
  "language_info": {
   "codemirror_mode": {
    "name": "ipython",
    "version": 3
   },
   "file_extension": ".py",
   "mimetype": "text/x-python",
   "name": "python",
   "nbconvert_exporter": "python",
   "pygments_lexer": "ipython3",
   "version": "3.11.0"
  }
 },
 "nbformat": 4,
 "nbformat_minor": 4
}
