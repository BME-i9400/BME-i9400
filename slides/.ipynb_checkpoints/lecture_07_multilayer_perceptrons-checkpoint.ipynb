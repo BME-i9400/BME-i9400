{
 "cells": [
  {
   "cell_type": "markdown",
   "id": "ad9f8af0",
   "metadata": {
    "slideshow": {
     "slide_type": "slide"
    }
   },
   "source": [
    "## BME i9400\n",
    "## Fall 2024\n",
    "### Multilayer Perceptrons (MLPs)\n"
   ]
  },
  {
   "cell_type": "markdown",
   "id": "7390491f",
   "metadata": {
    "slideshow": {
     "slide_type": "slide"
    }
   },
   "source": [
    "## Single-Layer Perceptron\n",
    "- A perceptron is a single layer neural network\n",
    "- Given a vector of inputs (x) and weights (w), the perceptron computes the weighted sum of the inputs:\n",
    "---\n",
    "$y = u \\left( \\sum_{i=1}^{n} w_i x_i + b \\right)$ \n",
    "\n",
    "---\n",
    "\n",
    "where $u$ is the step function:\n",
    "\n",
    "---\n",
    "$u(z) = \\begin{cases} 1 & \\text{if } z \\geq 0 \\\\ 0 & \\text{otherwise} \\end{cases}$\n",
    "\n",
    "---  \n",
    "$w_i$ are the weights, $x_i$ are the inputs, and $b$ is the bias term.\n"
   ]
  },
  {
   "cell_type": "markdown",
   "id": "1d3d3669",
   "metadata": {
    "slideshow": {
     "slide_type": "slide"
    }
   },
   "source": [
    "## Activation Functions\n",
    "- The activation function in the perceptron above is the step function.\n",
    "- In practice, we use other activation functions such as the sigmoid or tanh functions.\n",
    "    - Sigmoid: $\\sigma(z) = \\frac{1}{1 + e^{-z}}$\n",
    "    - Tanh: $\\mathrm{tanh}(z) = \\frac{e^z - e^{-z}}{e^z + e^{-z}}$\n",
    "- When the sigmoid is used, the single layer perceptron is simply a logistic regression model.\n",
    "- The activation function introduces non-linearity to the model.\n",
    "- The non-linearity allows the model to learn complex patterns in the data."
   ]
  },
  {
   "cell_type": "markdown",
   "id": "e0be61f1",
   "metadata": {
    "slideshow": {
     "slide_type": "slide"
    }
   },
   "source": [
    "## The Rectified Linear Unit (ReLU)\n",
    "- The rectified linear unit (ReLU) is another popular activation function.\n",
    "- The ReLU function is defined as:\n",
    "---\n",
    "\n",
    "$\\mathrm{ReLU}(z) = \\begin{cases} z & \\text{if } z \\geq 0 \\\\ 0 & \\text{otherwise} \\end{cases}$\n",
    "\n",
    "---\n",
    "- Notice that if the input into the function is positive, the ReLU function returns the input value, otherwise it returns zero.\n",
    "- The gradient of the ReLU activation function is thus very easy to compute."
   ]
  },
  {
   "cell_type": "markdown",
   "id": "1232ded0",
   "metadata": {
    "slideshow": {
     "slide_type": "slide"
    }
   },
   "source": [
    "## Let's plot the sigmoid, tanh, and ReLU functions"
   ]
  },
  {
   "cell_type": "code",
   "execution_count": 1,
   "id": "73f1b419",
   "metadata": {
    "slideshow": {
     "slide_type": "subslide"
    }
   },
   "outputs": [
    {
     "data": {
      "image/png": "[encoded data removed]",
      "text/plain": [
       "<Figure size 640x480 with 1 Axes>"
      ]
     },
     "metadata": {},
     "output_type": "display_data"
    }
   ],
   "source": [
    "import numpy as np\n",
    "import matplotlib.pyplot as plt\n",
    "\n",
    "z = np.linspace(-5, 5, 100)\n",
    "sigmoid = 1 / (1 + np.exp(-z))\n",
    "tanh = (np.exp(z) - np.exp(-z)) / (np.exp(z) + np.exp(-z))\n",
    "relu = np.maximum(0, z)\n",
    "\n",
    "plt.plot(z, sigmoid, label='Sigmoid')\n",
    "plt.plot(z, tanh, label='Tanh')\n",
    "plt.plot(z, relu, label='ReLU')\n",
    "plt.xlabel('z')\n",
    "plt.ylabel('Activation')\n",
    "plt.legend()\n",
    "plt.show()"
   ]
  },
  {
   "cell_type": "markdown",
   "id": "e1582a22",
   "metadata": {
    "slideshow": {
     "slide_type": "slide"
    }
   },
   "source": [
    "## A perceptron with multiple output units\n",
    "- A perceptron can have multiple output units.\n",
    "- In this case, the weights are represented as a matrix.\n",
    "---\n",
    "$y = u \\left( W x + b \\right)$\n",
    "\n",
    "---\n",
    "- where $W$ is a matrix of weights, $x$ is the vector of inputs (features), and $b$ is a vector of biases.\n",
    "- Note that the bias term is applied *element-wise* to each output unit.\n",
    "- Note also that the output is now a vector of values, one for each output unit."
   ]
  },
  {
   "cell_type": "markdown",
   "id": "728f8ebb",
   "metadata": {
    "slideshow": {
     "slide_type": "slide"
    }
   },
   "source": [
    "## Let's implement a perceptron with multiple output units"
   ]
  },
  {
   "cell_type": "code",
   "execution_count": 2,
   "id": "63237add",
   "metadata": {
    "slideshow": {
     "slide_type": "subslide"
    }
   },
   "outputs": [
    {
     "name": "stdout",
     "output_type": "stream",
     "text": [
      "[0.96770454 0.76852478]\n"
     ]
    }
   ],
   "source": [
    "import numpy as np\n",
    "\n",
    "# input vector\n",
    "x = np.array([1, 2, 3])\n",
    "\n",
    "# weight matrix containing the weights for 2 output units\n",
    "W = np.array([[.1, .2, .3], [.4, .5, .6]])\n",
    "\n",
    "# the bias term for each output unit\n",
    "b = np.array([2, -2])\n",
    "\n",
    "# Let's use the sigmoidal nonlinearity\n",
    "def sigmoid(z):\n",
    "    return 1 / (1 + np.exp(-z))\n",
    "    \n",
    "# compute the weighted sum of inputs\n",
    "z = np.dot(W, x) + b \n",
    "\n",
    "# apply the activation function (non-linearity) element-wise\n",
    "y = sigmoid(z) \n",
    "\n",
    "print(y)"
   ]
  },
  {
   "cell_type": "markdown",
   "id": "09f476af",
   "metadata": {
    "slideshow": {
     "slide_type": "slide"
    }
   },
   "source": [
    "## Hidden Layers\n",
    "- We now know how to implement a single-layer perceptron with multiple output units\n",
    "- The last ingeredient that we need to build a multilayer perceptron is the **hidden layer**\n",
    "- A hidden layer resides between the inputs and outputs, and is tasked with learning intermediate features that help to map a given input to the correct output.\n",
    "- The *first* hidden layer is composed of a set of $m$ hidden units, each of which is a perceptron.\n",
    "---\n",
    "\n",
    "<center> hidden unit 1: $h_1 = u \\left( \\sum_{i=1}^{n} w_{1i} x_i + b_1 \\right)$ </center>\n",
    "\n",
    "<center> hidden unit 2: $h_2 = u \\left( \\sum_{i=1}^{n} w_{2i} x_i + b_2 \\right)$ </center>\n",
    "\n",
    "<center> ... </center>\n",
    "\n",
    "<center> hidden unit m: $h_m = u \\left( \\sum_{i=1}^{n} w_{mi} x_i + b_m \\right)$ </center>\n",
    "\n",
    "---\n",
    "- where $w_{ji}$ are the weights, $x_i$ are the inputs, and $b_j$ is the bias term for hidden unit $j$.\n",
    "- Collectively, the hidden units may be assembled into an $m$-dimensional vector $h$:\n",
    "---\n",
    "<center> $h = u \\left( W x + b \\right)$ </center>\n",
    "\n",
    "---\n",
    "\n"
   ]
  },
  {
   "cell_type": "markdown",
   "id": "a20413fc",
   "metadata": {
    "slideshow": {
     "slide_type": "slide"
    }
   },
   "source": [
    "## Additional Hidden Layers\n",
    "- We see above that the first hidden layer is essentially a perceptron from the inputs.\n",
    "- Importantly, we can have multiple hidden layers.\n",
    "- For example, the second hidden layer is connected to the output of the first hidden layer:\n",
    "---\n",
    "$h_2 = u(W_2 h_1 + b_2)$\n",
    "\n",
    "---\n",
    "- and the third hidden layer is connected to the output of the second hidden layer:\n",
    "\n",
    "---\n",
    "$h_3 = u(W_3 h_2 + b_3)$\n",
    "\n",
    "---\n",
    "- The number of elements (\"units\") in each hidden layer is a hyperparameter that can be tuned.\n",
    "- The number of units in each hidden layer is not necessarily the same."
   ]
  },
  {
   "cell_type": "markdown",
   "id": "a5cd259d",
   "metadata": {
    "slideshow": {
     "slide_type": "slide"
    }
   },
   "source": [
    "## The output layer is connected to the last hidden layer.\n",
    "- Assuming that we have 3 hidden layers, the output layer is given by:\n",
    "---\n",
    "$y = u(W_o h_3 + b_o)$\n",
    "\n",
    "---\n",
    "- It is commonplace to use a softmax activation function in the output layer. ($u$ is the softmax function)\n",
    "- In this case, the value of each unit in the output layer represents a probability.\n",
    "    - For example, for a binary classification problem, the output layer will have two units, one for each class.\n",
    "    - The value of the first unit is the probability that the input belongs to class 0, and the value of the second unit is the probability that the input belongs to class 1."
   ]
  },
  {
   "cell_type": "markdown",
   "id": "15b138cb",
   "metadata": {
    "slideshow": {
     "slide_type": "slide"
    }
   },
   "source": [
    "## Artificial Neural Networks\n",
    "- A multilayer perceptron with multiple hidden layers is called an artificial neural network (ANN).\n",
    "- ANNs are loosely inspired by biological neural networks.\n",
    "- Below is the canonical structure of an ANN (in this case with two hidden layers):\n",
    "- \n",
    "[Artificial Neural Network](dnn.png)\n",
    "- The \"deep\" in deep learning refers to the number of hidden layers in the network.\n",
    "- As we will see later in the course, it has been empirically shown that adding layers to a neural network can improve its performance more so than adding units to each layer. "
   ]
  },
  {
   "cell_type": "markdown",
   "id": "52816f22",
   "metadata": {
    "slideshow": {
     "slide_type": "slide"
    }
   },
   "source": [
    "## What is PyTorch?\n",
    "- PyTorch is an open-source machine learning library developed by Facebook.\n",
    "- PyTorch provides a flexible and dynamic computational graph that allows for easy experimentation.\n",
    "- It is widely used in academia and industry for research and production.\n",
    "- PyTorch is used for building neural networks and other machine learning models."
   ]
  },
  {
   "cell_type": "markdown",
   "id": "76cba4c5",
   "metadata": {
    "slideshow": {
     "slide_type": "slide"
    }
   },
   "source": [
    "## PyTorch Tensors\n",
    "- PyTorch provides a powerful N-dimensional array object called a tensor.\n",
    "- Tensors are similar to NumPy arrays, but with additional features.\n",
    "- Tensors can be used on CPUs and GPUs.\n",
    "- Tensors support automatic differentiation for building neural networks.\n",
    "- Tensors can be created from Python lists, NumPy arrays, and other data types.\n",
    "- Tensors can be manipulated using a wide range of operations and functions."
   ]
  },
  {
   "cell_type": "markdown",
   "id": "ad8ecb4a",
   "metadata": {
    "slideshow": {
     "slide_type": "slide"
    }
   },
   "source": [
    "## Creating Tensors\n",
    "- We can create tensors in PyTorch using the `torch.tensor` function.\n"
   ]
  },
  {
   "cell_type": "code",
   "execution_count": null,
   "id": "2d3e7da2",
   "metadata": {
    "slideshow": {
     "slide_type": "slide"
    }
   },
   "outputs": [],
   "source": [
    "import numpy as np\n",
    "import torch\n",
    "\n",
    "# Create a tensor from a list\n",
    "x = torch.tensor([1, 2, 3])\n",
    "print(x)\n",
    "\n",
    "# Create a tensor from a NumPy array\n",
    "x = torch.tensor(np.array([4, 5, 6]))\n",
    "print(x)"
   ]
  },
  {
   "cell_type": "markdown",
   "id": "f09a8dec",
   "metadata": {
    "slideshow": {
     "slide_type": "slide"
    }
   },
   "source": [
    "## Implementing a Neural Network in PyTorch\n",
    "- The following code implements a simple feedfoward neural network a specified number of hidden layers in PyTorch\n",
    "- We first need to import the necessary libraries"
   ]
  },
  {
   "cell_type": "code",
   "execution_count": null,
   "id": "6fd241fc",
   "metadata": {
    "slideshow": {
     "slide_type": "subslide"
    }
   },
   "outputs": [],
   "source": [
    "import torch\n",
    "import torch.nn as nn\n",
    "import torch.optim as optim\n",
    "from torch.utils.data import DataLoader, TensorDataset, random_split\n",
    "from sklearn.datasets import make_classification\n",
    "import numpy as np"
   ]
  },
  {
   "cell_type": "markdown",
   "id": "b9edd260",
   "metadata": {
    "slideshow": {
     "slide_type": "slide"
    }
   },
   "source": [
    "## Dataset\n",
    "- We will use a synthetic dataset generated using the `make_classification` function from scikit-learn.\n",
    "- The dataset has 10000 samples, 20 features, and 2 classes.\n",
    "- Below we will convert the dataset into PyTorch tensors and split it into training and validation sets.\n"
   ]
  },
  {
   "cell_type": "code",
   "execution_count": null,
   "id": "9e0fee67",
   "metadata": {
    "slideshow": {
     "slide_type": "subslide"
    }
   },
   "outputs": [],
   "source": [
    "# Generate a sample dataset\n",
    "X, y = make_classification(n_samples=10000, n_features=20, n_informative=10, n_redundant=5, random_state=42)\n",
    "X = X.astype(np.float32)  # Convert to float32 for PyTorch\n",
    "y = y.astype(np.longlong)  # Convert to long for classification\n",
    "X.shape, y.shape"
   ]
  },
  {
   "cell_type": "code",
   "execution_count": null,
   "id": "a415bdb1",
   "metadata": {
    "slideshow": {
     "slide_type": "subslide"
    }
   },
   "outputs": [],
   "source": [
    "# Convert to PyTorch tensors\n",
    "X_tensor = torch.tensor(X)\n",
    "y_tensor = torch.tensor(y)\n",
    "X_tensor.shape, y_tensor.shape"
   ]
  },
  {
   "cell_type": "markdown",
   "id": "3b76ede0",
   "metadata": {
    "slideshow": {
     "slide_type": "slide"
    }
   },
   "source": [
    "## PyTorch Datasets\n",
    "- PyTorch provides the `TensorDataset` class to create a dataset from tensors (\"X\" and \"y\").\n",
    "- We can use the `random_split` function to split the dataset into training and validation sets."
   ]
  },
  {
   "cell_type": "code",
   "execution_count": null,
   "id": "e88f5842",
   "metadata": {
    "slideshow": {
     "slide_type": "subslide"
    }
   },
   "outputs": [],
   "source": [
    "# Create a PyTorch dataset\n",
    "dataset = TensorDataset(X_tensor, y_tensor)\n",
    "\n",
    "# Split dataset into training and validation sets (80% train, 20% validation)\n",
    "train_size = int(0.8 * len(dataset))\n",
    "val_size = len(dataset) - train_size\n",
    "train_dataset, val_dataset = random_split(dataset, [train_size, val_size])\n",
    "len(train_dataset), len(val_dataset)"
   ]
  },
  {
   "cell_type": "markdown",
   "id": "11fcdecb",
   "metadata": {
    "slideshow": {
     "slide_type": "slide"
    }
   },
   "source": [
    "## Data Loaders\n",
    "- PyTorch provides the `DataLoader` class to create loaders from datasets.\n",
    "- These loaders are used to bring in the data in *batches* during training and evaluation.\n",
    "- The batch size specifies the number of samples to be used in each iteration -- this is the number of examples that is used to compute gradients and update the model parameters.\n",
    "- In modern-day machine learning, we rarely use the entire dataset at once due to memory constraints (datasets are often very large)."
   ]
  },
  {
   "cell_type": "code",
   "execution_count": null,
   "id": "fa1f8aac",
   "metadata": {
    "slideshow": {
     "slide_type": "subslide"
    }
   },
   "outputs": [],
   "source": [
    "# Create data loaders\n",
    "batch_size = 32\n",
    "train_loader = DataLoader(train_dataset, batch_size=batch_size, shuffle=True)\n",
    "val_loader = DataLoader(val_dataset, batch_size=batch_size, shuffle=False)"
   ]
  },
  {
   "cell_type": "markdown",
   "id": "ad7b4c3f",
   "metadata": {
    "slideshow": {
     "slide_type": "slide"
    }
   },
   "source": [
    "## Defining a Multilayer Perceptron (MLP) in PyTorch\n",
    "- PyTorch provides the `nn.Module` class to create neural network models.\n",
    "- In this class, the user specifies the operations that the model should perform in order to map the input feature to the output of the network.\n",
    "- Below we define a simple MLP with a specified number of hidden layers.\n",
    "- The building block of the MLP is the `nn.Linear` class, which represents a linear transformation of the input data.\n",
    "    - This is essentially just a matrix multiplication followed by a bias term."
   ]
  },
  {
   "cell_type": "code",
   "execution_count": null,
   "id": "6e85392e",
   "metadata": {
    "slideshow": {
     "slide_type": "slide"
    }
   },
   "outputs": [],
   "source": [
    "# Define a simple Multilayer Perceptron (MLP) class\n",
    "class MLP(nn.Module):\n",
    "    def __init__(self, input_size, hidden_sizes, output_size):\n",
    "        super(MLP, self).__init__()\n",
    "        layers = []\n",
    "        in_size = input_size\n",
    "        for h in hidden_sizes:\n",
    "            layers.append(nn.Linear(in_size, h))\n",
    "            layers.append(nn.ReLU())\n",
    "            in_size = h\n",
    "        layers.append(nn.Linear(in_size, output_size))\n",
    "        self.model = nn.Sequential(*layers) # the star operator unpacks the list\n",
    "\n",
    "    def forward(self, x): # the forward method is required and specifies how the model maps inputs to outputs\n",
    "        return self.model(x) "
   ]
  },
  {
   "cell_type": "markdown",
   "id": "8184a398",
   "metadata": {
    "slideshow": {
     "slide_type": "slide"
    }
   },
   "source": [
    "## Instantiating the model\n",
    "- So far we've define the model structure, but haven't yet created an *instance* of the model.\n",
    "- We can do this by simply calling the class with the appropriate arguments.\n",
    "    - These are the number of features in our input, the number of neurons in each hidden layer, and the number of output classes.\n",
    "- Our model will have a 20-dimensional input layer, two hidden layers with 64 and 32 units each, and a 2-dimensional output layer."
   ]
  },
  {
   "cell_type": "code",
   "execution_count": null,
   "id": "c85b881c",
   "metadata": {
    "slideshow": {
     "slide_type": "subslide"
    }
   },
   "outputs": [],
   "source": [
    "# Instantiate the MLP with 2 hidden layers\n",
    "input_size = X.shape[1]  # 20 features\n",
    "hidden_sizes = [64, 32]  # Two hidden layers with 64 and 32 neurons\n",
    "output_size = 2  # Binary classification (2 classes)\n",
    "\n",
    "mlp = MLP(input_size, hidden_sizes, output_size)\n",
    "print(mlp) # print out our model specs"
   ]
  },
  {
   "cell_type": "markdown",
   "id": "43ddcac3",
   "metadata": {
    "slideshow": {
     "slide_type": "slide"
    }
   },
   "source": [
    "## Defining the loss function and optimizer\n",
    "- We need to tell PyTorch how to train the model.\n",
    "- This consists of specifying the loss function (here will be the cross-entropy loss), and the optimizer (here we will use the \"Adam\" optimizer).\n",
    "    - The Adam optimizer is just a more fancy way of performing stochastic gradient descent."
   ]
  },
  {
   "cell_type": "code",
   "execution_count": null,
   "id": "790c904e",
   "metadata": {
    "slideshow": {
     "slide_type": "subslide"
    }
   },
   "outputs": [],
   "source": [
    "# Define loss function and optimizer\n",
    "criterion = nn.CrossEntropyLoss()\n",
    "optimizer = optim.Adam(mlp.parameters(), lr=0.001)"
   ]
  },
  {
   "cell_type": "markdown",
   "id": "44acc094",
   "metadata": {
    "slideshow": {
     "slide_type": "slide"
    }
   },
   "source": [
    "## Training the model\n",
    "- It is standard practice to define a function that performs model training.\n",
    "- This function will:\n",
    "    - loop over the training data for a prescribed number of *epochs* (i.e., 10)\n",
    "    - compute the loss\n",
    "    - compute the gradients\n",
    "    - update the model parameters."
   ]
  },
  {
   "cell_type": "code",
   "execution_count": null,
   "id": "85529b8a",
   "metadata": {
    "slideshow": {
     "slide_type": "slide"
    }
   },
   "outputs": [],
   "source": [
    "# Training function\n",
    "def train(model, loader, criterion, optimizer, epochs=30):\n",
    "    for epoch in range(epochs):\n",
    "        model.train()\n",
    "        running_loss = 0.0\n",
    "        for inputs, labels in loader:\n",
    "            # Zero the parameter gradients\n",
    "            optimizer.zero_grad()\n",
    "            \n",
    "            # Forward pass\n",
    "            outputs = model(inputs)\n",
    "            loss = criterion(outputs, labels) # compute the loss\n",
    "            \n",
    "            # Backward pass and optimize\n",
    "            loss.backward() # compute the gradients\n",
    "            optimizer.step() # update the model parameters using the gradients\n",
    "            \n",
    "            running_loss += loss.item() # keep track of the loss\n",
    "        \n",
    "        avg_loss = running_loss / len(loader)\n",
    "        print(f\"Epoch [{epoch+1}/{epochs}], Loss: {avg_loss:.4f}\")\n"
   ]
  },
  {
   "cell_type": "code",
   "execution_count": null,
   "id": "0d554345",
   "metadata": {
    "slideshow": {
     "slide_type": "subslide"
    }
   },
   "outputs": [],
   "source": [
    "# Here we actually perform the training by calling our 'train' function\n",
    "train(mlp, train_loader, criterion, optimizer, epochs=10)"
   ]
  },
  {
   "cell_type": "markdown",
   "id": "5fc42a2f",
   "metadata": {
    "slideshow": {
     "slide_type": "slide"
    }
   },
   "source": [
    "## Defining a validation function\n",
    "- We can define a function to evaluate the model on the *validation* set.\n",
    "- The validation set is similar to a test set, but is often used to tune the model hyperparameters.\n",
    "- Importantly, the validation loop does not update the model parameters, but simply calls the model to make predictions so that we can measure model performance."
   ]
  },
  {
   "cell_type": "code",
   "execution_count": null,
   "id": "de00a846",
   "metadata": {
    "slideshow": {
     "slide_type": "slide"
    }
   },
   "outputs": [],
   "source": [
    "# Validation function\n",
    "def validate(model, loader, criterion):\n",
    "    model.eval()\n",
    "    val_loss = 0.0\n",
    "    correct = 0\n",
    "    total = 0\n",
    "    with torch.no_grad():\n",
    "        for inputs, labels in loader:\n",
    "            outputs = model(inputs)\n",
    "            loss = criterion(outputs, labels)\n",
    "            val_loss += loss.item()\n",
    "            \n",
    "            # Get predicted class\n",
    "            _, predicted = torch.max(outputs.data, 1)\n",
    "            total += labels.size(0)\n",
    "            correct += (predicted == labels).sum().item()\n",
    "    \n",
    "    avg_loss = val_loss / len(loader)\n",
    "    accuracy = 100 * correct / total\n",
    "    print(f\"Validation Loss: {avg_loss:.4f}, Accuracy: {accuracy:.2f}%\")\n"
   ]
  },
  {
   "cell_type": "code",
   "execution_count": null,
   "id": "89b8915e",
   "metadata": {
    "slideshow": {
     "slide_type": "subslide"
    }
   },
   "outputs": [],
   "source": [
    "# Evaluate the model on the validation set\n",
    "validate(mlp, val_loader, criterion)"
   ]
  },
  {
   "cell_type": "markdown",
   "id": "b001f786",
   "metadata": {
    "slideshow": {
     "slide_type": "slide"
    }
   },
   "source": [
    "### How did our model do?"
   ]
  }
 ],
 "metadata": {
  "celltoolbar": "Slideshow",
  "kernelspec": {
   "display_name": "Python 3 (ipykernel)",
   "language": "python",
   "name": "python3"
  },
  "language_info": {
   "codemirror_mode": {
    "name": "ipython",
    "version": 3
   },
   "file_extension": ".py",
   "mimetype": "text/x-python",
   "name": "python",
   "nbconvert_exporter": "python",
   "pygments_lexer": "ipython3",
   "version": "3.12.4"
  }
 },
 "nbformat": 4,
 "nbformat_minor": 5
}
