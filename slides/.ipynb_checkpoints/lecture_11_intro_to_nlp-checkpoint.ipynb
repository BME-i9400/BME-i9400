{
 "cells": [
  {
   "cell_type": "markdown",
   "id": "b2e81284",
   "metadata": {
    "slideshow": {
     "slide_type": "slide"
    }
   },
   "source": [
    "## BME i9400\n",
    "## Fall 2024\n",
    "### Introduction to Natural Language Processing"
   ]
  },
  {
   "cell_type": "markdown",
   "id": "84d22682",
   "metadata": {
    "slideshow": {
     "slide_type": "slide"
    }
   },
   "source": [
    "## What is Natural Language Processing (NLP)?\n",
    "- Field of AI focused on interactions between computers and human language\n",
    "- Combines linguistics, computer science, and machine learning\n",
    "- Key tasks include:\n",
    "  - Text classification\n",
    "  - Named entity recognition \n",
    "  - Machine translation\n",
    "  - Question answering\n",
    "  - Text generation\n"
   ]
  },
  {
   "cell_type": "markdown",
   "id": "5a2ab481",
   "metadata": {
    "slideshow": {
     "slide_type": "slide"
    }
   },
   "source": [
    "\n",
    "## Why is NLP Challenging?\n",
    "- Language is inherently complex and ambiguous\n",
    "- Examples of challenges:\n",
    "  - \"The drug caused side effects\" vs \"The side effects caused hospitalization\"\n",
    "  - \"The patient's condition improved\" (positive) vs \"The patient's condition\" (neutral)\n",
    "  - Medical terms with multiple meanings (\"discharge\" - noun vs verb)\n",
    "- Need ways to represent text that capture meaning and context\n"
   ]
  },
  {
   "cell_type": "markdown",
   "id": "94a2b903",
   "metadata": {
    "slideshow": {
     "slide_type": "slide"
    }
   },
   "source": [
    "## Traditional Text Processing\n",
    "1. Text preprocessing\n",
    "   - Tokenization (breaking text into words/subwords)\n",
    "   - Removing stop words\n",
    "   - Stemming/lemmatization\n",
    "2. Feature extraction\n",
    "   - Bag of words\n",
    "   - TF-IDF (Term Frequency-Inverse Document Frequency)\n",
    "3. Limitations\n",
    "   - Loses word order\n",
    "   - Doesn't capture meaning\n",
    "   - Sparse representations\n"
   ]
  },
  {
   "cell_type": "markdown",
   "id": "6e327777",
   "metadata": {
    "slideshow": {
     "slide_type": "slide"
    }
   },
   "source": [
    "<img src=\"bow.png\" alt=\"1D Convolution\" width=\"1200\"/>"
   ]
  },
  {
   "cell_type": "markdown",
   "id": "0dc4dd90",
   "metadata": {
    "slideshow": {
     "slide_type": "slide"
    }
   },
   "source": [
    "## Word Vectors: A Better Way\n",
    "- Represent words as dense vectors in continuous space\n",
    "- Similar words have similar vectors\n",
    "- Example in medical context:\n",
    "  - \"heart\" closer to \"cardiac\" than to \"kidney\"\n",
    "  - \"diabetes\" closer to \"glucose\" than to \"fracture\"\n",
    "- Enables mathematical operations:\n",
    "  - king - man + woman ≈ queen\n",
    "  - cardiologist - heart + brain ≈ neurologist\n"
   ]
  },
  {
   "cell_type": "markdown",
   "id": "9c71f05c",
   "metadata": {
    "slideshow": {
     "slide_type": "slide"
    }
   },
   "source": [
    "<img src=\"word_vector.png\" alt=\"1D Convolution\" width=\"1200\"/>"
   ]
  },
  {
   "cell_type": "markdown",
   "id": "ac4a3a71",
   "metadata": {
    "slideshow": {
     "slide_type": "slide"
    }
   },
   "source": [
    "## Word2Vec: How It Works\n",
    "1. Two main approaches:\n",
    "   - Skip-gram: Predict context words from target\n",
    "   - Continuous Bag of Words (CBOW): Predict target from context\n",
    "2. Neural network learns word representations\n",
    "3. Results in dense vector space where:\n",
    "   - Similar words cluster together\n",
    "   - Relationships preserved in vector space\n"
   ]
  },
  {
   "cell_type": "markdown",
   "id": "f271290c",
   "metadata": {
    "slideshow": {
     "slide_type": "slide"
    }
   },
   "source": [
    "<img src=\"word2vec.png\" alt=\"1D Convolution\" width=\"1200\"/>"
   ]
  },
  {
   "cell_type": "markdown",
   "id": "c2589611",
   "metadata": {
    "slideshow": {
     "slide_type": "slide"
    }
   },
   "source": [
    "<img src=\"w2v_training.png\" alt=\"1D Convolution\" width=\"1200\"/>"
   ]
  },
  {
   "cell_type": "markdown",
   "id": "77fac001",
   "metadata": {
    "slideshow": {
     "slide_type": "slide"
    }
   },
   "source": [
    "## Hands-on Demo 1: Word Vectors"
   ]
  },
  {
   "cell_type": "code",
   "execution_count": 1,
   "id": "45c2dbaa",
   "metadata": {
    "ExecuteTime": {
     "end_time": "2024-12-02T02:04:02.608438Z",
     "start_time": "2024-12-02T02:04:01.920157Z"
    }
   },
   "outputs": [],
   "source": [
    "import gensim.downloader as api\n",
    "from gensim.models.word2vec import Word2Vec"
   ]
  },
  {
   "cell_type": "code",
   "execution_count": 2,
   "id": "22b6d87c",
   "metadata": {
    "ExecuteTime": {
     "end_time": "2024-12-02T02:04:09.283897Z",
     "start_time": "2024-12-02T02:04:08.976683Z"
    }
   },
   "outputs": [],
   "source": [
    "# Load a large \"corpus\" of text\n",
    "corpus = api.load('text8')"
   ]
  },
  {
   "cell_type": "code",
   "execution_count": 3,
   "id": "82714147",
   "metadata": {
    "ExecuteTime": {
     "end_time": "2024-12-02T02:04:46.163193Z",
     "start_time": "2024-12-02T02:04:09.943477Z"
    }
   },
   "outputs": [],
   "source": [
    "# Train a wav2vec model on the corpus\n",
    "model = Word2Vec(corpus)"
   ]
  },
  {
   "cell_type": "code",
   "execution_count": 4,
   "id": "9ef1c907",
   "metadata": {
    "ExecuteTime": {
     "end_time": "2024-12-02T02:04:59.312244Z",
     "start_time": "2024-12-02T02:04:59.263915Z"
    },
    "slideshow": {
     "slide_type": "slide"
    }
   },
   "outputs": [
    {
     "name": "stdout",
     "output_type": "stream",
     "text": [
      "[('cortex', 0.7852938771247864), ('tissue', 0.7655649781227112), ('neurons', 0.7525806427001953), ('spinal', 0.7436544299125671), ('tumor', 0.732485294342041), ('kidneys', 0.7312641739845276), ('liver', 0.7306241393089294), ('cerebral', 0.7294614315032959), ('nerve', 0.7266942858695984), ('nerves', 0.7265110611915588)]\n"
     ]
    }
   ],
   "source": [
    "# find the most similar words to 'brain'\n",
    "print(model.wv.most_similar('brain'))"
   ]
  },
  {
   "cell_type": "code",
   "execution_count": 5,
   "id": "1577bc17",
   "metadata": {
    "ExecuteTime": {
     "end_time": "2024-12-02T02:05:00.883437Z",
     "start_time": "2024-12-02T02:05:00.877646Z"
    },
    "slideshow": {
     "slide_type": "slide"
    }
   },
   "outputs": [
    {
     "name": "stdout",
     "output_type": "stream",
     "text": [
      "[ 3.3037671e-01 -1.6137644e+00  4.4435623e-01 -5.1973277e-01\n",
      " -1.2091461e+00 -7.3113006e-01 -1.6238000e+00 -1.9236416e+00\n",
      " -4.1577852e-01 -4.8568371e-01 -1.5465862e+00 -8.0053240e-01\n",
      "  1.7945840e+00  7.1447760e-01 -1.8249069e+00  1.2087728e+00\n",
      " -7.8725451e-01 -3.0684929e+00  1.1614560e+00  8.3401930e-01\n",
      "  4.0777278e-01  1.2528294e+00 -3.0974813e-03 -2.4188135e+00\n",
      "  2.7808580e-01 -1.4666234e+00  6.5099597e-01 -2.4236552e-01\n",
      "  3.0013743e-01  3.4220216e-01  1.7090615e+00  2.4020199e-01\n",
      "  2.5136545e+00  3.6623334e-03 -3.2434314e-01  7.9220855e-01\n",
      " -5.1119596e-01 -3.4265479e-01  5.2442259e-01 -1.1907653e+00\n",
      " -6.3845569e-01 -3.1765711e+00  3.6393219e-01 -2.7347348e+00\n",
      "  2.6659107e-01 -1.0754614e+00 -4.2642045e-01 -1.2139702e+00\n",
      " -1.2238749e+00  5.0212884e-01  1.4535734e-01 -1.0279227e+00\n",
      " -4.1746309e-01  3.5471407e-01 -2.2836846e-01  1.2801739e+00\n",
      "  3.0033404e-01  3.0388144e-01 -1.9138057e+00  3.0720124e-01\n",
      " -5.3311962e-01 -1.1285787e+00 -4.6125358e-01  3.9622870e-01\n",
      " -2.9411147e+00  3.7328330e-01  2.5102510e+00 -2.9201050e+00\n",
      " -1.1321461e+00  2.7135608e+00 -4.4610305e+00 -4.4904768e-01\n",
      "  1.5857720e+00  1.0981855e+00  1.1055014e+00  2.1113105e-01\n",
      " -3.8289055e-01  1.1922110e+00 -2.7036193e-01  5.3342217e-01\n",
      "  2.5466492e+00 -1.3403883e+00 -4.7947824e-01 -1.9724797e-01\n",
      " -1.1011126e+00 -6.5783054e-02 -1.7805399e+00 -2.2103441e+00\n",
      "  1.4146950e+00 -9.6411186e-01  1.0895973e+00  1.3186202e+00\n",
      "  3.4959376e-01  1.9649035e-01 -7.8397579e-02  6.0628301e-01\n",
      " -2.7541560e-01 -4.8364621e-01  2.1206596e+00  9.1782004e-01]\n"
     ]
    }
   ],
   "source": [
    "# find the embedding for 'brain'\n",
    "print(model.wv['brain'])"
   ]
  },
  {
   "cell_type": "code",
   "execution_count": 6,
   "id": "d427c730",
   "metadata": {
    "ExecuteTime": {
     "end_time": "2024-12-02T02:05:02.515987Z",
     "start_time": "2024-12-02T02:05:02.511848Z"
    },
    "slideshow": {
     "slide_type": "slide"
    }
   },
   "outputs": [
    {
     "name": "stdout",
     "output_type": "stream",
     "text": [
      "0.5522788\n"
     ]
    }
   ],
   "source": [
    "# find the similarity between 'brain' and 'heart'\n",
    "print(model.wv.similarity('brain', 'heart'))"
   ]
  },
  {
   "cell_type": "code",
   "execution_count": 7,
   "id": "e11ab421",
   "metadata": {
    "ExecuteTime": {
     "end_time": "2024-12-02T02:05:03.547233Z",
     "start_time": "2024-12-02T02:05:03.543664Z"
    }
   },
   "outputs": [
    {
     "name": "stdout",
     "output_type": "stream",
     "text": [
      "0.10803783\n"
     ]
    }
   ],
   "source": [
    "# Find the similarity between 'brain' and 'car'\n",
    "print(model.wv.similarity('brain', 'car'))"
   ]
  },
  {
   "cell_type": "markdown",
   "id": "4984d824",
   "metadata": {
    "slideshow": {
     "slide_type": "slide"
    }
   },
   "source": [
    "## Modern Word Embeddings\n",
    "- Contextual embeddings: Words have different vectors based on context\n",
    "- Example: \"discharge\"\n",
    "  - \"Patient ready for discharge\" (noun - leaving hospital)\n",
    "  - \"Wound continues to discharge\" (verb - producing fluid)\n",
    "- Popular models:\n",
    "  - BERT\n",
    "  - BioBERT (trained on biomedical text)\n",
    "  - ClinicalBERT (trained on clinical notes)\n"
   ]
  },
  {
   "cell_type": "markdown",
   "id": "7355cff0",
   "metadata": {
    "slideshow": {
     "slide_type": "slide"
    }
   },
   "source": [
    "<img src=\"contextual_embedding.png\" alt=\"1D Convolution\" width=\"1200\"/>"
   ]
  },
  {
   "cell_type": "code",
   "execution_count": null,
   "id": "6b19de49",
   "metadata": {
    "slideshow": {
     "slide_type": "slide"
    }
   },
   "outputs": [],
   "source": [
    "from transformers import AutoTokenizer, AutoModel\n",
    "import torch\n",
    "\n",
    "# Load BioBERT\n",
    "tokenizer = AutoTokenizer.from_pretrained('dmis-lab/biobert-v1.1')\n",
    "model = AutoModel.from_pretrained('dmis-lab/biobert-v1.1')\n",
    "\n",
    "# Process two different uses of \"discharge\"\n",
    "text1 = \"The patient was discharged.\"\n",
    "text2 = \"The wound discharged fluid.\"\n",
    "\n",
    "# Get tokenized inputs\n",
    "tokens1 = tokenizer(text1, return_tensors=\"pt\")\n",
    "tokens2 = tokenizer(text2, return_tensors=\"pt\")\n",
    "\n",
    "# Get the actual tokens to find the position of \"discharge\"\n",
    "tokens1_words = tokenizer.convert_ids_to_tokens(tokens1['input_ids'][0])\n",
    "tokens2_words = tokenizer.convert_ids_to_tokens(tokens2['input_ids'][0])\n",
    "\n",
    "# Find positions of \"discharge\" in each sentence\n",
    "discharge1_pos = tokens1_words.index('discharged')\n",
    "discharge2_pos = tokens2_words.index('discharged')\n",
    "\n",
    "# Get embeddings\n",
    "with torch.no_grad():\n",
    "    outputs1 = model(**tokens1)\n",
    "    outputs2 = model(**tokens2)\n",
    "\n",
    "# Extract embeddings for \"discharge\" in each context\n",
    "discharge1_embedding = outputs1.last_hidden_state[0][discharge1_pos]\n",
    "discharge2_embedding = outputs2.last_hidden_state[0][discharge2_pos]\n",
    "\n",
    "# Compare embeddings\n",
    "similarity = torch.cosine_similarity(\n",
    "    discharge1_embedding.unsqueeze(0), \n",
    "    discharge2_embedding.unsqueeze(0))\n",
    "\n",
    "print(\"Tokens in first sentence:\", tokens1_words)\n",
    "print(\"Tokens in second sentence:\", tokens2_words)\n",
    "print(f\"\\nSimilarity between the two uses of 'discharge': {similarity.item()}\")"
   ]
  },
  {
   "cell_type": "markdown",
   "id": "888a5f58",
   "metadata": {
    "slideshow": {
     "slide_type": "slide"
    }
   },
   "source": [
    "## Applications in Biomedical Domain\n",
    "1. Clinical Text Classification\n",
    "   - Diagnosis categorization\n",
    "   - Clinical trial matching\n",
    "2. Named Entity Recognition\n",
    "   - Identifying drugs, diseases, symptoms\n",
    "3. Information Extraction\n",
    "   - Mining medical literature\n",
    "   - Extracting patient information from notes\n"
   ]
  },
  {
   "cell_type": "code",
   "execution_count": null,
   "id": "1961436f",
   "metadata": {},
   "outputs": [],
   "source": []
  }
 ],
 "metadata": {
  "celltoolbar": "Slideshow",
  "kernelspec": {
   "display_name": "Python 3 (ipykernel)",
   "language": "python",
   "name": "python3"
  },
  "language_info": {
   "codemirror_mode": {
    "name": "ipython",
    "version": 3
   },
   "file_extension": ".py",
   "mimetype": "text/x-python",
   "name": "python",
   "nbconvert_exporter": "python",
   "pygments_lexer": "ipython3",
   "version": "3.12.4"
  }
 },
 "nbformat": 4,
 "nbformat_minor": 5
}
