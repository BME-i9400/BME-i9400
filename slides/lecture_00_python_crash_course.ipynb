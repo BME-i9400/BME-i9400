{
 "cells": [
  {
   "cell_type": "markdown",
   "id": "06b725f8",
   "metadata": {},
   "source": [
    "# Lecture 0 — Python Crash Course + Simple ML Workflow\n",
    "\n",
    "**Course:** BME i9400 — Special Topics in Machine Learning (Graduate, Biomedical Engineering)  \n",
    "**Environment:** JupyterHub (CPU-only friendly)  \n",
    "**Date generated:** 2025-08-24 18:43 UTC  \n",
    "\n",
    "This notebook is a hands-on crash course designed to ensure every student is ready for the rest of the course.  \n",
    "It covers Python essentials, NumPy, Pandas, plotting, and a complete ML workflow (regression & classification) with scikit-learn.\n",
    "\n",
    "> **Micro‑Deliverable (end):** Produce ROC & PR curves for a logistic model, include a 3–5 sentence interpretation, and a short _model card_ (data, metrics, limitations, ethics)."
   ]
  },
  {
   "cell_type": "markdown",
   "id": "b97ab35d",
   "metadata": {},
   "source": [
    "## 0. Reproducibility & Versions"
   ]
  },
  {
   "cell_type": "code",
   "execution_count": null,
   "id": "808cc758",
   "metadata": {},
   "outputs": [],
   "source": [
    "import sys, platform, random, os, textwrap, math\n",
    "import numpy as np\n",
    "import pandas as pd\n",
    "import matplotlib.pyplot as plt\n",
    "\n",
    "SEED = 42\n",
    "random.seed(SEED)\n",
    "np.random.seed(SEED)\n",
    "\n",
    "print(\"Python:\", sys.version.split()[0])\n",
    "print(\"Platform:\", platform.platform())\n",
    "print(\"NumPy:\", np.__version__)\n",
    "print(\"Pandas:\", pd.__version__)\n",
    "print(\"Matplotlib:\", plt.matplotlib.__version__)"
   ]
  },
  {
   "cell_type": "markdown",
   "id": "95b3f375",
   "metadata": {},
   "source": [
    "## 1. Python Essentials"
   ]
  },
  {
   "cell_type": "markdown",
   "id": "9016f4f3",
   "metadata": {},
   "source": [
    "### 1.1 Variables, Types, and Collections\n",
    "\n",
    "- Numeric types: `int`, `float`\n",
    "- Text: `str`\n",
    "- Boolean: `bool`\n",
    "- Collections: `list`, `tuple`, `dict`, `set`"
   ]
  },
  {
   "cell_type": "code",
   "execution_count": null,
   "id": "ac65373b",
   "metadata": {},
   "outputs": [],
   "source": [
    "age = 34               # int\n",
    "height_m = 1.78        # float\n",
    "name = \"Ada Lovelace\"  # str\n",
    "is_patient = False     # bool\n",
    "\n",
    "ages = [29, 33, 41, 37, 29]     # list\n",
    "vitals = (\"HR\", \"BP\", \"Temp\")   # tuple\n",
    "record = {\"id\": 101, \"age\": 33, \"bp_sys\": 122}  # dict\n",
    "unique_ids = {101, 102, 103}    # set\n",
    "\n",
    "print(type(age), type(height_m), type(name), type(is_patient))\n",
    "print(ages[:3], vitals[0], record[\"bp_sys\"], 101 in unique_ids)"
   ]
  },
  {
   "cell_type": "markdown",
   "id": "17088582",
   "metadata": {},
   "source": [
    "### 1.2 Control Flow & Comprehensions"
   ]
  },
  {
   "cell_type": "code",
   "execution_count": null,
   "id": "c121f61f",
   "metadata": {},
   "outputs": [],
   "source": [
    "# if/elif/else\n",
    "if height_m > 1.9:\n",
    "    category = \"tall\"\n",
    "elif height_m > 1.7:\n",
    "    category = \"medium\"\n",
    "else:\n",
    "    category = \"short\"\n",
    "category"
   ]
  },
  {
   "cell_type": "code",
   "execution_count": null,
   "id": "2a26377a",
   "metadata": {},
   "outputs": [],
   "source": [
    "# for loop + enumerate\n",
    "for i, a in enumerate(ages):\n",
    "    if i < 3:\n",
    "        print(i, a)"
   ]
  },
  {
   "cell_type": "code",
   "execution_count": null,
   "id": "9066d27e",
   "metadata": {},
   "outputs": [],
   "source": [
    "# list comprehension\n",
    "ages_plus_one = [a + 1 for a in ages]\n",
    "ages_even = [a for a in ages if a % 2 == 0]\n",
    "ages_plus_one[:5], ages_even[:5]"
   ]
  },
  {
   "cell_type": "markdown",
   "id": "3e5352a4",
   "metadata": {},
   "source": [
    "### 1.3 Functions"
   ]
  },
  {
   "cell_type": "code",
   "execution_count": null,
   "id": "e86bd101",
   "metadata": {},
   "outputs": [],
   "source": [
    "def bmi(weight_kg: float, height_m: float) -> float:\n",
    "    \"\"\"Compute Body Mass Index.\"\"\"\n",
    "    return weight_kg / (height_m ** 2)\n",
    "\n",
    "def classify_bmi(bmi_value: float) -> str:\n",
    "    return (\"underweight\" if bmi_value < 18.5 else\n",
    "            \"normal\" if bmi_value < 25 else\n",
    "            \"overweight\" if bmi_value < 30 else\n",
    "            \"obese\")\n",
    "\n",
    "val = bmi(72, 1.78)\n",
    "val, classify_bmi(val)"
   ]
  },
  {
   "cell_type": "markdown",
   "id": "ff7011fa",
   "metadata": {},
   "source": [
    "## 2. NumPy Essentials"
   ]
  },
  {
   "cell_type": "markdown",
   "id": "695c1e83",
   "metadata": {},
   "source": [
    "Key concepts: arrays, shapes, broadcasting, vectorization, random generation."
   ]
  },
  {
   "cell_type": "code",
   "execution_count": null,
   "id": "fcb3b489",
   "metadata": {},
   "outputs": [],
   "source": [
    "import numpy as np\n",
    "np.random.seed(SEED)\n",
    "\n",
    "# Simulate systolic blood pressure (BP) as a normal distribution\n",
    "bp = np.random.normal(loc=120, scale=12, size=1000)  # mean 120, sd 12\n",
    "bp.shape, bp.mean().round(2), bp.std(ddof=1).round(2)"
   ]
  },
  {
   "cell_type": "code",
   "execution_count": null,
   "id": "205dc716",
   "metadata": {},
   "outputs": [],
   "source": [
    "# Vectorized operations: z-score normalize\n",
    "bp_z = (bp - bp.mean()) / bp.std()\n",
    "bp_z[:5].round(3)"
   ]
  },
  {
   "cell_type": "code",
   "execution_count": null,
   "id": "30bf2d5b",
   "metadata": {},
   "outputs": [],
   "source": [
    "# Broadcasting demo: add patient-specific offsets\n",
    "offsets = np.random.uniform(-5, 5, size=5)\n",
    "bp5 = bp[:5]\n",
    "bp5 + offsets"
   ]
  },
  {
   "cell_type": "markdown",
   "id": "9f6977c6",
   "metadata": {},
   "source": [
    "## 3. Pandas Essentials"
   ]
  },
  {
   "cell_type": "markdown",
   "id": "68b53a5d",
   "metadata": {},
   "source": [
    "We'll create a small synthetic EHR-like table: age, BMI, systolic BP, outcome."
   ]
  },
  {
   "cell_type": "code",
   "execution_count": null,
   "id": "0bae7b90",
   "metadata": {},
   "outputs": [],
   "source": [
    "import pandas as pd\n",
    "np.random.seed(SEED)\n",
    "\n",
    "N = 400\n",
    "age = np.random.randint(18, 85, size=N)\n",
    "bmi_vals = np.random.normal(26, 4.5, size=N).clip(15, 45)\n",
    "bp_sys = np.random.normal(120 + 0.4*(age-50) + 0.8*(bmi_vals-25), 10, size=N)\n",
    "# Binary outcome (e.g., hypertension diagnosis) with logistic link to bp_sys + age\n",
    "logit = -12 + 0.06*bp_sys + 0.015*age\n",
    "prob = 1 / (1 + np.exp(-logit))\n",
    "y = (np.random.rand(N) < prob).astype(int)\n",
    "\n",
    "df = pd.DataFrame({\n",
    "    \"age\": age,\n",
    "    \"bmi\": bmi_vals,\n",
    "    \"bp_sys\": bp_sys,\n",
    "    \"y\": y\n",
    "})\n",
    "df.head()"
   ]
  },
  {
   "cell_type": "code",
   "execution_count": null,
   "id": "66ea62f7",
   "metadata": {},
   "outputs": [],
   "source": [
    "df.info()"
   ]
  },
  {
   "cell_type": "code",
   "execution_count": null,
   "id": "6584ab45",
   "metadata": {},
   "outputs": [],
   "source": [
    "df.describe().T"
   ]
  },
  {
   "cell_type": "markdown",
   "id": "925ec2e8",
   "metadata": {},
   "source": [
    "## 4. Plotting with Matplotlib"
   ]
  },
  {
   "cell_type": "code",
   "execution_count": null,
   "id": "a592e0cb",
   "metadata": {},
   "outputs": [],
   "source": [
    "import matplotlib.pyplot as plt\n",
    "\n",
    "fig, axes = plt.subplots(1, 3, figsize=(12, 3))\n",
    "axes[0].hist(df[\"age\"], bins=20); axes[0].set_title(\"Age\"); axes[0].set_xlabel(\"years\")\n",
    "axes[1].hist(df[\"bmi\"], bins=20); axes[1].set_title(\"BMI\"); axes[1].set_xlabel(\"kg/m²\")\n",
    "axes[2].hist(df[\"bp_sys\"], bins=20); axes[2].set_title(\"Systolic BP\"); axes[2].set_xlabel(\"mmHg\")\n",
    "plt.tight_layout()\n",
    "plt.show()"
   ]
  },
  {
   "cell_type": "code",
   "execution_count": null,
   "id": "7e5580e1",
   "metadata": {},
   "outputs": [],
   "source": [
    "plt.figure(figsize=(4.5,3.5))\n",
    "plt.scatter(df[\"bmi\"], df[\"bp_sys\"], s=10, alpha=0.6)\n",
    "plt.xlabel(\"BMI (kg/m²)\"); plt.ylabel(\"Systolic BP (mmHg)\"); plt.title(\"BP vs BMI\")\n",
    "plt.show()"
   ]
  },
  {
   "cell_type": "markdown",
   "id": "13ae22ab",
   "metadata": {},
   "source": [
    "## 5. Simple ML Workflow Overview"
   ]
  },
  {
   "cell_type": "markdown",
   "id": "230d5bcf",
   "metadata": {},
   "source": [
    "We'll demonstrate two end-to-end tasks:\n",
    "\n",
    "1. **Regression**: Predict `bp_sys` from `age` and `bmi`.  \n",
    "2. **Classification**: Predict `y` (hypertension diagnosis) from features.\n",
    "\n",
    "We will show **train/test split**, **preprocessing pipelines**, **metrics** (MAE/R² for regression, ROC/PRC/F1 for classification), and **simple model cards**."
   ]
  },
  {
   "cell_type": "markdown",
   "id": "d4eb3e08",
   "metadata": {},
   "source": [
    "### 5.1 Regression: Predicting Systolic BP"
   ]
  },
  {
   "cell_type": "code",
   "execution_count": null,
   "id": "eb62bb4b",
   "metadata": {},
   "outputs": [],
   "source": [
    "from sklearn.model_selection import train_test_split\n",
    "from sklearn.preprocessing import StandardScaler\n",
    "from sklearn.compose import ColumnTransformer\n",
    "from sklearn.pipeline import Pipeline\n",
    "from sklearn.metrics import mean_absolute_error, r2_score\n",
    "from sklearn.linear_model import LinearRegression, Ridge\n",
    "\n",
    "X = df[[\"age\", \"bmi\"]].copy()\n",
    "y_reg = df[\"bp_sys\"].copy()\n",
    "\n",
    "X_train, X_test, y_train, y_test = train_test_split(X, y_reg, test_size=0.25, random_state=SEED)\n",
    "\n",
    "num_features = [\"age\", \"bmi\"]\n",
    "preprocess = ColumnTransformer(\n",
    "    transformers=[(\"num\", StandardScaler(), num_features)],\n",
    "    remainder=\"drop\"\n",
    ")\n",
    "\n",
    "reg_model = Pipeline([\n",
    "    (\"prep\", preprocess),\n",
    "    (\"lr\", LinearRegression())\n",
    "])\n",
    "\n",
    "reg_model.fit(X_train, y_train)\n",
    "pred = reg_model.predict(X_test)\n",
    "mae = mean_absolute_error(y_test, pred)\n",
    "r2 = r2_score(y_test, pred)\n",
    "mae, r2"
   ]
  },
  {
   "cell_type": "code",
   "execution_count": null,
   "id": "029bab04",
   "metadata": {},
   "outputs": [],
   "source": [
    "# Compare with Ridge regression (regularization)\n",
    "ridge = Pipeline([\n",
    "    (\"prep\", preprocess),\n",
    "    (\"ridge\", Ridge(alpha=1.0, random_state=SEED))\n",
    "])\n",
    "ridge.fit(X_train, y_train)\n",
    "pred_r = ridge.predict(X_test)\n",
    "mae_r = mean_absolute_error(y_test, pred_r)\n",
    "r2_r = r2_score(y_test, pred_r)\n",
    "\n",
    "print(f\"LinearRegression  MAE={mae:.2f}, R2={r2:.3f}\")\n",
    "print(f\"Ridge(alpha=1.0) MAE={mae_r:.2f}, R2={r2_r:.3f}\")"
   ]
  },
  {
   "cell_type": "code",
   "execution_count": null,
   "id": "154bf410",
   "metadata": {},
   "outputs": [],
   "source": [
    "# Plot predicted vs true\n",
    "plt.figure(figsize=(4.5,4))\n",
    "plt.scatter(y_test, pred, s=10, alpha=0.7, label=\"LR\")\n",
    "plt.scatter(y_test, pred_r, s=10, alpha=0.7, label=\"Ridge\")\n",
    "lims = [min(y_test.min(), pred.min(), pred_r.min()), max(y_test.max(), pred.max(), pred_r.max())]\n",
    "plt.plot(lims, lims, 'k--', linewidth=1)\n",
    "plt.xlabel(\"True BP (mmHg)\")\n",
    "plt.ylabel(\"Predicted BP (mmHg)\")\n",
    "plt.title(\"Regression: Predicted vs True\")\n",
    "plt.legend()\n",
    "plt.tight_layout()\n",
    "plt.show()"
   ]
  },
  {
   "cell_type": "markdown",
   "id": "5507332d",
   "metadata": {},
   "source": [
    "### 5.2 Classification: Predicting Hypertension Diagnosis"
   ]
  },
  {
   "cell_type": "code",
   "execution_count": null,
   "id": "d106f23a",
   "metadata": {},
   "outputs": [],
   "source": [
    "from sklearn.linear_model import LogisticRegression\n",
    "from sklearn.metrics import roc_auc_score, roc_curve, precision_recall_curve, average_precision_score, f1_score, confusion_matrix, classification_report\n",
    "\n",
    "X = df[[\"age\", \"bmi\", \"bp_sys\"]].copy()\n",
    "y_cls = df[\"y\"].copy()\n",
    "\n",
    "X_train, X_test, y_train, y_test = train_test_split(X, y_cls, test_size=0.25, random_state=SEED, stratify=y_cls)\n",
    "\n",
    "preprocess = ColumnTransformer(\n",
    "    transformers=[(\"num\", StandardScaler(), X.columns.tolist())],\n",
    "    remainder=\"drop\"\n",
    ")\n",
    "\n",
    "clf = Pipeline([\n",
    "    (\"prep\", preprocess),\n",
    "    (\"logreg\", LogisticRegression(max_iter=200, random_state=SEED))\n",
    "])\n",
    "\n",
    "clf.fit(X_train, y_train)\n",
    "proba = clf.predict_proba(X_test)[:, 1]\n",
    "pred = (proba >= 0.5).astype(int)\n",
    "\n",
    "auc = roc_auc_score(y_test, proba)\n",
    "ap = average_precision_score(y_test, proba)\n",
    "f1 = f1_score(y_test, pred)\n",
    "\n",
    "print(f\"ROC-AUC={auc:.3f} | PR-AUC={ap:.3f} | F1={f1:.3f}\")\n",
    "print(confusion_matrix(y_test, pred))\n",
    "print(classification_report(y_test, pred, digits=3))"
   ]
  },
  {
   "cell_type": "code",
   "execution_count": null,
   "id": "51ee671c",
   "metadata": {},
   "outputs": [],
   "source": [
    "# ROC curve\n",
    "fpr, tpr, _ = roc_curve(y_test, proba)\n",
    "plt.figure(figsize=(4.5,3.5))\n",
    "plt.plot(fpr, tpr, label=f\"LogReg (AUC={auc:.3f})\")\n",
    "plt.plot([0,1], [0,1], 'k--', alpha=0.6)\n",
    "plt.xlabel(\"False Positive Rate\")\n",
    "plt.ylabel(\"True Positive Rate\")\n",
    "plt.title(\"ROC Curve\")\n",
    "plt.legend()\n",
    "plt.tight_layout()\n",
    "plt.show()"
   ]
  },
  {
   "cell_type": "code",
   "execution_count": null,
   "id": "b80aecf6",
   "metadata": {},
   "outputs": [],
   "source": [
    "# Precision-Recall curve\n",
    "prec, rec, _ = precision_recall_curve(y_test, proba)\n",
    "plt.figure(figsize=(4.5,3.5))\n",
    "plt.plot(rec, prec, label=f\"LogReg (AP={ap:.3f})\")\n",
    "plt.xlabel(\"Recall\")\n",
    "plt.ylabel(\"Precision\")\n",
    "plt.title(\"Precision-Recall Curve\")\n",
    "plt.legend()\n",
    "plt.tight_layout()\n",
    "plt.show()"
   ]
  },
  {
   "cell_type": "markdown",
   "id": "385280b2",
   "metadata": {},
   "source": [
    "## 6. Troubleshooting Tips"
   ]
  },
  {
   "cell_type": "markdown",
   "id": "622119c8",
   "metadata": {},
   "source": [
    "- **ConvergenceWarnings** in logistic regression: increase `max_iter` or standardize inputs (we standardize in the pipeline).  \n",
    "- **Data leakage**: don't peek at test data during preprocessing; use `Pipeline`/`ColumnTransformer`.  \n",
    "- **Class imbalance**: check positive rate; consider `class_weight='balanced'` or threshold tuning.  \n",
    "- **Randomness**: set seeds for comparability; still expect minor variations."
   ]
  },
  {
   "cell_type": "markdown",
   "id": "8cddd685",
   "metadata": {},
   "source": [
    "## 7. Stretch: Cross-Validation & Threshold Sweeps"
   ]
  },
  {
   "cell_type": "code",
   "execution_count": null,
   "id": "8a0384c2",
   "metadata": {},
   "outputs": [],
   "source": [
    "from sklearn.model_selection import cross_val_score, StratifiedKFold\n",
    "\n",
    "skf = StratifiedKFold(n_splits=5, shuffle=True, random_state=SEED)\n",
    "cv_auc = cross_val_score(clf, X, y_cls, cv=skf, scoring=\"roc_auc\")\n",
    "cv_auc.mean().round(3), cv_auc.std().round(3)"
   ]
  },
  {
   "cell_type": "code",
   "execution_count": null,
   "id": "ea2616ae",
   "metadata": {},
   "outputs": [],
   "source": [
    "# Threshold sweep to inspect precision/recall trade-offs\n",
    "thresholds = np.linspace(0.1, 0.9, 9)\n",
    "rows = []\n",
    "for th in thresholds:\n",
    "    p = (proba >= th).astype(int)\n",
    "    tp = ((p == 1) & (y_test == 1)).sum()\n",
    "    fp = ((p == 1) & (y_test == 0)).sum()\n",
    "    fn = ((p == 0) & (y_test == 1)).sum()\n",
    "    precision = tp / max(tp + fp, 1)\n",
    "    recall = tp / max(tp + fn, 1)\n",
    "    rows.append({\"threshold\": th, \"precision\": precision, \"recall\": recall})\n",
    "pd.DataFrame(rows)"
   ]
  },
  {
   "cell_type": "markdown",
   "id": "01630e35",
   "metadata": {},
   "source": [
    "## 8. Exercises (Short)"
   ]
  },
  {
   "cell_type": "markdown",
   "id": "8381f882",
   "metadata": {},
   "source": [
    "1. **NumPy:** Create a 2D array of shape (50, 3) representing `[age, bmi, noise]` and compute the correlation matrix.  \n",
    "2. **Pandas:** Add a new column `bmi_cat` with categories (`under`, `normal`, `over`, `obese`) using cut-points, then group by `bmi_cat` to compute mean `bp_sys`.  \n",
    "3. **Visualization:** Plot boxplots of `bp_sys` by `bmi_cat`.  \n",
    "4. **Regression:** Add `age*bmi` as an interaction term and compare R² to the baseline model.  \n",
    "5. **Classification:** Use `class_weight='balanced'` in logistic regression and compare PR-AUC."
   ]
  },
  {
   "cell_type": "markdown",
   "id": "0b04b649",
   "metadata": {},
   "source": [
    "## 9. Micro‑Deliverable"
   ]
  },
  {
   "cell_type": "markdown",
   "id": "d2fc9ee1",
   "metadata": {},
   "source": [
    "**Task:** Using the classification pipeline above, produce **ROC** and **PR** curves, report **ROC‑AUC** and **PR‑AUC**, and write a **3–5 sentence interpretation** covering:\n",
    "- What threshold you would choose and why\n",
    "- Expected trade-offs (false positives vs false negatives) in a clinical context\n",
    "- Two limitations of this synthetic experiment\n",
    "\n",
    "**Model Card (short):**\n",
    "- **Data:** Synthetic EHR-like, N=400, features: age, BMI, systolic BP; label: binary hypertensive dx (simulated).  \n",
    "- **Intended Use:** Classroom demonstration only, not for clinical decisions.  \n",
    "- **Metrics:** ROC‑AUC, PR‑AUC, F1, confusion matrix.  \n",
    "- **Limitations & Risks:** synthetic distribution; missing confounders; threshold sensitive; not calibrated.  \n",
    "- **Ethics:** No PHI; avoid clinical claims; discuss bias & prevalence effects."
   ]
  }
 ],
 "metadata": {},
 "nbformat": 4,
 "nbformat_minor": 5
}
