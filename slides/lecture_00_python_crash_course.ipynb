{
 "cells": [
  {
   "cell_type": "markdown",
   "id": "06b725f8",
   "metadata": {},
   "source": [
    "# Lecture 0 — Python Crash Course + Simple ML Workflow\n",
    "\n",
    "**Course:** BME i9400 — Special Topics in Machine Learning (Graduate, Biomedical Engineering)  \n",
    "**Environment:** JupyterHub (CPU-only friendly)  \n",
    "**Date generated:** 2025-08-24 18:44 UTC\n",
    "\n",
    "This notebook is a hands-on crash course designed to ensure every student is ready for the rest of the course.  \n",
    "It covers Python essentials, NumPy, Pandas, plotting, and a complete ML workflow (regression & classification) with scikit-learn.\n",
    "\n",
    "> **Micro‑Deliverable** described at the end of the notebook. Due before the end of lecture. "
   ]
  },
  {
   "cell_type": "markdown",
   "id": "b97ab35d",
   "metadata": {},
   "source": [
    "## 0. Reproducibility & Versions"
   ]
  },
  {
   "cell_type": "code",
   "id": "808cc758",
   "metadata": {},
   "source": [
    "import sys, platform, random, os, textwrap, math\n",
    "import numpy as np\n",
    "import pandas as pd\n",
    "import matplotlib.pyplot as plt\n",
    "\n",
    "SEED = 42\n",
    "random.seed(SEED)\n",
    "np.random.seed(SEED)\n",
    "\n",
    "print(\"Python:\", sys.version.split()[0])\n",
    "print(\"Platform:\", platform.platform())\n",
    "print(\"NumPy:\", np.__version__)\n",
    "print(\"Pandas:\", pd.__version__)\n",
    "print(\"Matplotlib:\", plt.matplotlib.__version__)"
   ],
   "outputs": [],
   "execution_count": null
  },
  {
   "cell_type": "markdown",
   "id": "95b3f375",
   "metadata": {},
   "source": [
    "## 1. Python Essentials"
   ]
  },
  {
   "cell_type": "markdown",
   "id": "9016f4f3",
   "metadata": {},
   "source": [
    "### 1.1 Variables, Types, and Collections\n",
    "\n",
    "- Numeric types: `int`, `float`\n",
    "- Text: `str`\n",
    "- Boolean: `bool`\n",
    "- Collections: `list`, `tuple`, `dict`, `set`"
   ]
  },
  {
   "metadata": {},
   "cell_type": "code",
   "source": [
    "age = 34               # int\n",
    "height_m = 1.78        # float\n",
    "name = \"Ada Lovelace\"  # str\n",
    "is_patient = False     # bool\n",
    "\n",
    "ages = [29, 33, 41, 37, 29]     # list\n",
    "vitals = (\"HR\", \"BP\", \"Temp\")   # tuple\n",
    "record = {\"id\": 101, \"age\": 33, \"bp_sys\": 122}  # dict\n",
    "unique_ids = {101, 102, 103}    # set\n",
    "\n",
    "print(type(age), type(height_m), type(name), type(is_patient))\n",
    "print(ages[:3], vitals[0], record[\"bp_sys\"], 101 in unique_ids)"
   ],
   "id": "7981f2c359ec7e91",
   "outputs": [],
   "execution_count": null
  },
  {
   "metadata": {},
   "cell_type": "code",
   "source": [
    "# Demonstrate arithmetic and string operations\n",
    "bmi = 72 / (height_m ** 2)  # BMI calculation\n",
    "bmi_rounded = round(bmi, 1)  # round to 1 decimal\n",
    "greeting = f\"Hello, {name}!\"  # f-string formatting\n",
    "print(f\"BMI: {bmi_rounded}, Greeting: {greeting}\")"
   ],
   "id": "dfa2ca15c773539b",
   "outputs": [],
   "execution_count": null
  },
  {
   "cell_type": "markdown",
   "id": "17088582",
   "metadata": {},
   "source": [
    "### 1.2 Control Flow & Comprehensions"
   ]
  },
  {
   "cell_type": "code",
   "id": "c121f61f",
   "metadata": {},
   "source": [
    "# if/elif/else\n",
    "if height_m > 1.9:\n",
    "    category = \"tall\"\n",
    "elif height_m > 1.7:\n",
    "    category = \"medium\"\n",
    "else:\n",
    "    category = \"short\"\n",
    "category"
   ],
   "outputs": [],
   "execution_count": null
  },
  {
   "cell_type": "code",
   "id": "2a26377a",
   "metadata": {},
   "source": [
    "# for loop + enumerate\n",
    "for i, a in enumerate(ages):\n",
    "    if i < 3:\n",
    "        print(i, a)"
   ],
   "outputs": [],
   "execution_count": null
  },
  {
   "cell_type": "code",
   "id": "9066d27e",
   "metadata": {},
   "source": [
    "# list comprehension\n",
    "ages_plus_one = [a + 1 for a in ages]\n",
    "ages_even = [a for a in ages if a % 2 == 0]\n",
    "ages_plus_one[:5], ages_even[:5]"
   ],
   "outputs": [],
   "execution_count": null
  },
  {
   "cell_type": "markdown",
   "id": "3e5352a4",
   "metadata": {},
   "source": [
    "### 1.3 Functions"
   ]
  },
  {
   "cell_type": "code",
   "id": "e86bd101",
   "metadata": {},
   "source": [
    "def bmi(weight_kg: float, height_m: float) -> float:\n",
    "    \"\"\"Compute Body Mass Index.\"\"\"\n",
    "    return weight_kg / (height_m ** 2)\n",
    "\n",
    "def classify_bmi(bmi_value: float) -> str:\n",
    "    return (\"underweight\" if bmi_value < 18.5 else\n",
    "            \"normal\" if bmi_value < 25 else\n",
    "            \"overweight\" if bmi_value < 30 else\n",
    "            \"obese\")\n",
    "\n",
    "val = bmi(72, 1.78)\n",
    "val, classify_bmi(val)"
   ],
   "outputs": [],
   "execution_count": null
  },
  {
   "cell_type": "markdown",
   "id": "ff7011fa",
   "metadata": {},
   "source": [
    "## 2. NumPy Essentials"
   ]
  },
  {
   "cell_type": "markdown",
   "id": "695c1e83",
   "metadata": {},
   "source": [
    "Key concepts: arrays, shapes, broadcasting, vectorization, random generation."
   ]
  },
  {
   "cell_type": "code",
   "id": "fcb3b489",
   "metadata": {},
   "source": [
    "import numpy as np\n",
    "np.random.seed(SEED)\n",
    "\n",
    "# Simulate systolic blood pressure (BP) as a normal distribution\n",
    "bp = np.random.normal(loc=120, scale=12, size=1000)  # mean 120, sd 12\n",
    "bp.shape, bp.mean().round(2), bp.std(ddof=1).round(2)"
   ],
   "outputs": [],
   "execution_count": null
  },
  {
   "cell_type": "code",
   "id": "205dc716",
   "metadata": {},
   "source": [
    "# Vectorized operations: z-score normalize\n",
    "bp_z = (bp - bp.mean()) / bp.std()  # Q: what does this operation do to the bp values?\n",
    "bp_z[:5].round(3)"
   ],
   "outputs": [],
   "execution_count": null
  },
  {
   "cell_type": "code",
   "id": "30bf2d5b",
   "metadata": {},
   "source": [
    "# Broadcasting demo: add patient-specific offsets\n",
    "offsets = np.random.uniform(-5, 5, size=5)\n",
    "bp5 = bp[:5]\n",
    "bp5 + offsets"
   ],
   "outputs": [],
   "execution_count": null
  },
  {
   "cell_type": "markdown",
   "id": "9f6977c6",
   "metadata": {},
   "source": [
    "## 3. Pandas Essentials"
   ]
  },
  {
   "cell_type": "markdown",
   "id": "68b53a5d",
   "metadata": {},
   "source": [
    "We'll create a small synthetic EHR-like table: age, BMI, systolic BP, outcome."
   ]
  },
  {
   "cell_type": "code",
   "id": "0bae7b90",
   "metadata": {},
   "source": [
    "import pandas as pd\n",
    "np.random.seed(SEED)\n",
    "\n",
    "N = 400\n",
    "age = np.random.randint(18, 85, size=N)\n",
    "bmi_vals = np.random.normal(26, 4.5, size=N).clip(15, 45)\n",
    "bp_sys = np.random.normal(120 + 0.4*(age-50) + 0.8*(bmi_vals-25), 10, size=N)\n",
    "# Binary outcome (e.g., hypertension diagnosis) with logistic link to bp_sys + age\n",
    "logit = -12 + 0.06*bp_sys + 0.015*age\n",
    "prob = 1 / (1 + np.exp(-logit))\n",
    "y = (np.random.rand(N) < prob).astype(int)\n",
    "\n",
    "df = pd.DataFrame({\n",
    "    \"age\": age,\n",
    "    \"bmi\": bmi_vals,\n",
    "    \"bp_sys\": bp_sys,\n",
    "    \"y\": y\n",
    "})\n",
    "\n",
    "# Inspect our DataFrame\n",
    "df"
   ],
   "outputs": [],
   "execution_count": null
  },
  {
   "cell_type": "code",
   "id": "66ea62f7",
   "metadata": {},
   "source": [
    "df.info()"
   ],
   "outputs": [],
   "execution_count": null
  },
  {
   "cell_type": "code",
   "id": "6584ab45",
   "metadata": {},
   "source": [
    "df.describe().T"
   ],
   "outputs": [],
   "execution_count": null
  },
  {
   "cell_type": "markdown",
   "id": "925ec2e8",
   "metadata": {},
   "source": [
    "## 4. Plotting with Matplotlib"
   ]
  },
  {
   "cell_type": "code",
   "id": "a592e0cb",
   "metadata": {},
   "source": [
    "import matplotlib.pyplot as plt\n",
    "\n",
    "fig, axes = plt.subplots(1, 3, figsize=(12, 3))\n",
    "axes[0].hist(df[\"age\"], bins=20); axes[0].set_title(\"Age\"); axes[0].set_xlabel(\"years\")\n",
    "axes[1].hist(df[\"bmi\"], bins=20); axes[1].set_title(\"BMI\"); axes[1].set_xlabel(\"kg/m²\")\n",
    "axes[2].hist(df[\"bp_sys\"], bins=20); axes[2].set_title(\"Systolic BP\"); axes[2].set_xlabel(\"mmHg\")\n",
    "plt.tight_layout()\n",
    "plt.show()"
   ],
   "outputs": [],
   "execution_count": null
  },
  {
   "cell_type": "code",
   "id": "7e5580e1",
   "metadata": {},
   "source": [
    "plt.figure(figsize=(4.5,3.5))\n",
    "plt.scatter(df[\"bmi\"], df[\"bp_sys\"], s=10, alpha=0.6)\n",
    "plt.xlabel(\"BMI (kg/m²)\"); plt.ylabel(\"Systolic BP (mmHg)\"); plt.title(\"BP vs BMI\")\n",
    "plt.show()"
   ],
   "outputs": [],
   "execution_count": null
  },
  {
   "cell_type": "markdown",
   "id": "13ae22ab",
   "metadata": {},
   "source": [
    "## 5. Simple ML Workflow Overview"
   ]
  },
  {
   "cell_type": "markdown",
   "id": "230d5bcf",
   "metadata": {},
   "source": [
    "We'll demonstrate a simple **Regression** task:\n",
    "\n",
    "- Predict `y` (hypertension diagnosis) from the patient's age and bmi.\n",
    "\n",
    "We will demonstrate:\n",
    "- splitting up the data into training and test sets\n",
    "- preprocessing the data prior to fitting the model\n",
    "- computing metrics that evaluate the accuracy of the model"
   ]
  },
  {
   "cell_type": "markdown",
   "id": "d4eb3e08",
   "metadata": {},
   "source": [
    "### 5.1 Regression: Predicting Systolic BP"
   ]
  },
  {
   "metadata": {},
   "cell_type": "code",
   "source": [
    "# The next 6 lines import the necessary libraries for machine learning.\n",
    "# You do not need to understand them all right now, but they are essential for building and evaluating machine learning models.\n",
    "from sklearn.model_selection import train_test_split\n",
    "from sklearn.preprocessing import StandardScaler\n",
    "from sklearn.compose import ColumnTransformer\n",
    "from sklearn.pipeline import Pipeline\n",
    "from sklearn.metrics import mean_absolute_error, r2_score\n",
    "from sklearn.linear_model import LinearRegression\n"
   ],
   "id": "e84b717e903553ca",
   "outputs": [],
   "execution_count": null
  },
  {
   "metadata": {},
   "cell_type": "code",
   "source": [
    "# In Machine Learning, \"x\" is often used to denote features (inputs) and \"y\" for targets (outputs).\n",
    "# In other words, we are most often interested in predicting \"y\" from \"x\".\n",
    "# x often spans more than one feature, so we use \"X\" to denote the feature matrix.\n",
    "# In this case, we will predict systolic blood pressure (bp_sys) from age and\n",
    "# body mass index (bmi).\n",
    "\n",
    "# Create feature matrix X and target vector y\n",
    "X = df[[\"age\", \"bmi\"]].copy()\n",
    "y_reg = df[\"bp_sys\"].copy()\n"
   ],
   "id": "e86db4188172f438",
   "outputs": [],
   "execution_count": null
  },
  {
   "metadata": {},
   "cell_type": "code",
   "source": [
    "# In ML, it is not permissible to train and test on the same data.\n",
    "# This means that we need to split our data into a \"training\" set and a \"test\" set.\n",
    "# The training set is used to fit the model, while the test set is used to evaluate its performance.\n",
    "# We will use a 75%/25% split, which is common in practice.\n",
    "# We also set a random seed for reproducibility.\n",
    "\n",
    "X_train, X_test, y_train, y_test = train_test_split(X, y_reg, test_size=0.25, random_state=SEED)\n"
   ],
   "id": "3a2a02fb2da75258",
   "outputs": [],
   "execution_count": null
  },
  {
   "metadata": {},
   "cell_type": "code",
   "source": [
    "# This step is a bit advanced, but it is important to understand.\n",
    "# It is good practice to standardize numerical features before training a model.\n",
    "# Standardization means that we will scale the features to have mean 0 and standard deviation\n",
    "# 1. This is important because many models (e.g., linear regression) assume that the features are\n",
    "# centered around 0 and have similar scales.\n",
    "# 2. Standardization is also important for allowing the optimization algorithms to converge faster.\n",
    "# We will use a `ColumnTransformer` to apply the `StandardScaler` only to the\n",
    "# numerical features (age and bmi).\n",
    "\n",
    "num_features = [\"age\", \"bmi\"]\n",
    "preprocess = ColumnTransformer(\n",
    "    transformers=[(\"num\", StandardScaler(), num_features)],\n",
    "    remainder=\"drop\"\n",
    ")\n",
    "\n",
    "# Here we create a regression model pipeline.\n",
    "# The pipeline consists of two steps:\n",
    "# 1. Preprocessing: Standardizing the numerical features.\n",
    "# 2. Regression: Fitting a linear regression model.\n",
    "reg_model = Pipeline([\n",
    "    (\"prep\", preprocess),\n",
    "    (\"lr\", LinearRegression())\n",
    "])\n"
   ],
   "id": "c860be086a8d6e2",
   "outputs": [],
   "execution_count": null
  },
  {
   "metadata": {},
   "cell_type": "code",
   "source": [
    "# Fit the regression model on the training data\n",
    "reg_model.fit(X_train, y_train) # This is the core step where the model learns from the data!\n",
    "\n",
    "# Evaluate the model on the test set\n",
    "pred = reg_model.predict(X_test) # Also a core step, where we use the model to make predictions on unseen data.\n",
    "\n",
    "# Calculate metrics: Mean Absolute Error (MAE) and R² score\n",
    "mae = mean_absolute_error(y_test, pred)\n",
    "r2 = r2_score(y_test, pred)\n",
    "\n",
    "print(f\"The model's performance on the test set:\")\n",
    "print(f\"MAE: {mae:.2f} mmHg\")\n",
    "print(f\"R²: {r2:.3f}\")"
   ],
   "id": "d22b3eee45603920",
   "outputs": [],
   "execution_count": null
  },
  {
   "cell_type": "code",
   "id": "154bf410",
   "metadata": {},
   "source": [
    "# Plot predicted vs true\n",
    "plt.figure(figsize=(4.5,4))\n",
    "plt.scatter(y_test, pred, s=10, alpha=0.7, label=\"LR\")\n",
    "lims = [min(y_test.min(), pred.min()), max(y_test.max(), pred.max())]\n",
    "plt.plot(lims, lims, 'k--', linewidth=1)\n",
    "plt.xlabel(\"True BP (mmHg)\")\n",
    "plt.ylabel(\"Predicted BP (mmHg)\")\n",
    "plt.title(\"Regression: Predicted vs True\")\n",
    "plt.legend()\n",
    "plt.tight_layout()\n",
    "plt.show()"
   ],
   "outputs": [],
   "execution_count": null
  },
  {
   "cell_type": "markdown",
   "id": "0b04b649",
   "metadata": {},
   "source": [
    "## 7. Micro‑Deliverable\n",
    "\n",
    "**Complete the following tasks:**\n",
    "1. Create a copy of this notebook and rename it to `lecture00_yourname.ipynb`\n",
    "2. Run all cells to ensure everything works correctly.\n",
    "3. Provide answers to the questions in the cell below.\n",
    "4. Place your completed notebook in your \"my-work\" folder on JupyterHub."
   ]
  },
  {
   "metadata": {},
   "cell_type": "markdown",
   "source": [
    "## 8. Questions\n",
    "\n",
    "Q1. How would you interpret the MAE and R² values in the context of this regression task?\n",
    "\n",
    "#### ANSWER HERE ####\n",
    "\n",
    "Q2. How would you explain the meaning of MAE to a lay person?\n",
    "\n",
    "#### ANSWER HERE ####\n",
    "\n",
    "Q3. How would you explain the meaning of R² to a lay person?\n",
    "\n",
    "#### ANSWER HERE ####"
   ],
   "id": "01630e35"
  }
 ],
 "metadata": {},
 "nbformat": 4,
 "nbformat_minor": 5
}
